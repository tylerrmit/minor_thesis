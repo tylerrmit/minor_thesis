{
 "cells": [
  {
   "cell_type": "markdown",
   "id": "3784c95f",
   "metadata": {},
   "source": [
    "# Test Batch Load of GSV images"
   ]
  },
  {
   "cell_type": "code",
   "execution_count": 1,
   "id": "7a12cc14",
   "metadata": {},
   "outputs": [],
   "source": [
    "import os\n",
    "import sys\n",
    "\n",
    "# Make sure local modules can be imported\n",
    "module_path_root = os.path.abspath(os.pardir)\n",
    "if module_path_root not in sys.path:\n",
    "    sys.path.append(module_path_root)\n",
    "    \n",
    "# Import local modules\n",
    "import osm_gsv_utils.gsv_loader as gsv_loader"
   ]
  },
  {
   "cell_type": "code",
   "execution_count": 2,
   "id": "5a690a15",
   "metadata": {},
   "outputs": [],
   "source": [
    "# Set download directory\n",
    "download_directory = os.path.join(module_path_root, 'data_sources', 'gsv')\n",
    "apikey_filename    = os.path.join(module_path_root, 'apikey.txt')\n",
    "batch_filename     = os.path.join(module_path_root, 'batches', 'test_batch.csv')"
   ]
  },
  {
   "cell_type": "code",
   "execution_count": 3,
   "id": "27ec6153",
   "metadata": {},
   "outputs": [],
   "source": [
    "# Initialise interface to Google Street View\n",
    "gsv = gsv_loader(apikey_filename, download_directory)"
   ]
  },
  {
   "cell_type": "code",
   "execution_count": 5,
   "id": "e2942a5e",
   "metadata": {},
   "outputs": [
    {
     "name": "stdout",
     "output_type": "stream",
     "text": [
      "1832927621 0   148: Downloaded\n",
      "1832927621 0   238: Downloaded\n",
      "1832927621 0   328: Downloaded\n",
      "1832927621 0    58: Downloaded\n"
     ]
    }
   ],
   "source": [
    "gsv.load_batch(batch_filename, verbose=True)"
   ]
  },
  {
   "cell_type": "code",
   "execution_count": 7,
   "id": "2d49ff56",
   "metadata": {},
   "outputs": [
    {
     "name": "stdout",
     "output_type": "stream",
     "text": [
      "1832927621 0   148: Using cached data\n",
      "1832927621 0   238: Using cached data\n",
      "1832927621 0   328: Using cached data\n",
      "1832927621 0    58: Using cached data\n"
     ]
    }
   ],
   "source": [
    "gsv.load_batch(batch_filename, verbose=True)"
   ]
  },
  {
   "cell_type": "code",
   "execution_count": null,
   "id": "ad075abd",
   "metadata": {},
   "outputs": [],
   "source": []
  }
 ],
 "metadata": {
  "kernelspec": {
   "display_name": "gpuEnv",
   "language": "python",
   "name": "gpuenv"
  },
  "language_info": {
   "codemirror_mode": {
    "name": "ipython",
    "version": 3
   },
   "file_extension": ".py",
   "mimetype": "text/x-python",
   "name": "python",
   "nbconvert_exporter": "python",
   "pygments_lexer": "ipython3",
   "version": "3.8.11"
  }
 },
 "nbformat": 4,
 "nbformat_minor": 5
}
