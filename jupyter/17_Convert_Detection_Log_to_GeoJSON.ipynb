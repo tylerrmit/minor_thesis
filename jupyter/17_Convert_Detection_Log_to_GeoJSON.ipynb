{
 "cells": [
  {
   "cell_type": "markdown",
   "id": "4ded4e4a",
   "metadata": {},
   "source": [
    "# 17. Convert Detection Log to GeoJSON\n",
    "\n",
    "Given a detection log from applying the model to dashcam images in a survey area (filtered or unfiltered) align the detections to the OpenStreetMap data and produce geojson files to map and compare the output"
   ]
  },
  {
   "cell_type": "markdown",
   "id": "2bf7b36b",
   "metadata": {},
   "source": [
    "## Configuration\n",
    "\n",
    "Any configuration that is required to run this notebook can be customized in the next cell"
   ]
  },
  {
   "cell_type": "code",
   "execution_count": 1,
   "id": "8d3a32b5",
   "metadata": {},
   "outputs": [],
   "source": [
    "# Name of the subdirectory containing dashcam footage for an area, split into frame images in a\n",
    "# \"split\" subdirectory, with an associated \"metadata.csv\"\n",
    "# This subdirectory is assumed to be in the 'data_sources' directory\n",
    "import_directory = 'dashcam_tour_mount_eliza'\n",
    "\n",
    "# Which \"locality\" do we wish to process?\n",
    "locality = 'Mount Eliza'\n",
    "\n",
    "# We will sample the middle of each intersection, but we can also sample a\n",
    "# \"margin\" around the intersection, at 10m intervals.\n",
    "# E.g. if we set this to \"20\" then we will sample points at:\n",
    "#    -20m, -10m, 0m, 10m, and 20m\n",
    "# from the centre of the intersection, along the assumed bearing of the road\n",
    "# Used here just to get the right filename\n",
    "margin = 20\n",
    "\n",
    "# Name of the detection log filename\n",
    "filename_in  = 'detection_log_filtered.csv'\n",
    "\n",
    "# Name of the output detection log that has been aligned to the OpenStreetMap data\n",
    "filename_out = 'detection_log_filtered_snap.csv'"
   ]
  },
  {
   "cell_type": "markdown",
   "id": "71ad5f70",
   "metadata": {},
   "source": [
    "## Code"
   ]
  },
  {
   "cell_type": "code",
   "execution_count": 2,
   "id": "4f0dc221",
   "metadata": {},
   "outputs": [],
   "source": [
    "# General imports\n",
    "import os\n",
    "import sys\n",
    "\n",
    "# Make sure local modules can be imported\n",
    "module_path_root = os.path.abspath(os.pardir)\n",
    "if module_path_root not in sys.path:\n",
    "    sys.path.append(module_path_root)\n",
    "    \n",
    "# Import local modules\n",
    "import osm_gsv_utils.osm_walker as osm_walker\n",
    "import osm_gsv_utils.detection_log_filter as detection_log_filter"
   ]
  },
  {
   "cell_type": "code",
   "execution_count": 3,
   "id": "4258b90f",
   "metadata": {},
   "outputs": [],
   "source": [
    "# Derive paths for configuration\n",
    "\n",
    "# A version of the locality name with spaces replaced by underscores\n",
    "locality_clean = locality.replace(' ', '_')\n",
    "\n",
    "# Work out paths to OSM data\n",
    "filename_main        = os.path.join(module_path_root, 'data_sources', 'Locality_' + locality_clean + '.osm')\n",
    "filename_margin      = os.path.join(module_path_root, 'data_sources', 'Locality_' + locality_clean + '_margin.osm')\n",
    "locality_margin      = '{0:s}_{1:d}m'.format(locality_clean, margin)\n",
    "\n",
    "# Work out path to the detection log input and the place we will write the filtered version\n",
    "detections_dir       = os.path.join(module_path_root, 'data_sources', import_directory, 'detections')\n",
    "detections_path_in   = os.path.join(detections_dir, filename_in)\n",
    "detections_path_out  = os.path.join(detections_dir, filename_out)\n",
    "\n",
    "# Metadata CSV containing ALL points that were sampled in the dashcam footage\n",
    "metadata_path        = os.path.join(module_path_root, 'data_sources', import_directory, 'split', 'metadata.csv')\n",
    "\n",
    "# Metadata CSV converted to detection_log format\n",
    "route_path_converted = os.path.join(detections_dir, 'route_log.csv')\n",
    "\n",
    "# Route data aligned to OSM data\n",
    "route_path_snapped   = os.path.join(detections_dir, 'route_log_snapped.csv')\n",
    "\n",
    "# Filtered OSM datafile containing just the route\n",
    "filename_route_osm   = os.path.join(detections_dir, 'route.osm')"
   ]
  },
  {
   "cell_type": "markdown",
   "id": "88ccab04",
   "metadata": {},
   "source": [
    "## Processing the Route data\n",
    "\n",
    "If we want to compare the detected routes to OpenStreetMap, we want to limit the comparison to only the routes that were surveyed in the footage.  Otherwise, we might expect OpenStreetMap to return a lot more routes, and the comparison would be meaningless.\n",
    "\n",
    "So, first we want to take the metadata about the footage collected, and convert it into the \"detection log\" format, so we can use one function in the \"osm_walker\" class to align either the route metadata points or the detection points to the OpenStreetMap route data."
   ]
  },
  {
   "cell_type": "code",
   "execution_count": 4,
   "id": "67a0869a",
   "metadata": {},
   "outputs": [
    {
     "data": {
      "application/vnd.jupyter.widget-view+json": {
       "model_id": "cc36efb75b884749894ad81647096855",
       "version_major": 2,
       "version_minor": 0
      },
      "text/plain": [
       "  0%|          | 0/4274 [00:00<?, ?it/s]"
      ]
     },
     "metadata": {},
     "output_type": "display_data"
    }
   ],
   "source": [
    "# Load OSM data for the broad area around the survey area\n",
    "walker1 = osm_walker(filename_margin, None, verbose=False)\n",
    "\n",
    "# Make sure that any ways that were split into multiple segments due to a changed\n",
    "# characteristic (e.g. speed limit) are linked back up again\n",
    "walker1.link_way_sections(verbose=False)"
   ]
  },
  {
   "cell_type": "code",
   "execution_count": 5,
   "id": "f57844c6",
   "metadata": {},
   "outputs": [
    {
     "data": {
      "application/vnd.jupyter.widget-view+json": {
       "model_id": "2c41918182594c31935c9db7d6f92602",
       "version_major": 2,
       "version_minor": 0
      },
      "text/plain": [
       "  0%|          | 0/13545 [00:00<?, ?it/s]"
      ]
     },
     "metadata": {},
     "output_type": "display_data"
    }
   ],
   "source": [
    "# Convert route metadata for collected footage to detection_log format\n",
    "detection_log_filter.convert_metadata_to_route_log(metadata_path, route_path_converted)"
   ]
  },
  {
   "cell_type": "code",
   "execution_count": 6,
   "id": "e2f84b21",
   "metadata": {},
   "outputs": [
    {
     "data": {
      "application/vnd.jupyter.widget-view+json": {
       "model_id": "96fe3a5cbc1f4ee9b81ed651d374b4eb",
       "version_major": 2,
       "version_minor": 0
      },
      "text/plain": [
       "  0%|          | 0/13545 [00:00<?, ?it/s]"
      ]
     },
     "metadata": {},
     "output_type": "display_data"
    }
   ],
   "source": [
    "# Use the OSM data for the general area around the survey area to align the\n",
    "# points in the route metadata to OSM routes\n",
    "walker1.snap_detection_log(route_path_converted, route_path_snapped)"
   ]
  },
  {
   "cell_type": "markdown",
   "id": "1a9a16b1",
   "metadata": {},
   "source": [
    "## Align detections to OSM data for route\n",
    "\n",
    "Align the detections to the OSM data that includes the route only, compare to cycleway routes, output comparison statistics and geojson files that can be drawn on a map."
   ]
  },
  {
   "cell_type": "code",
   "execution_count": 7,
   "id": "e5d06b9d",
   "metadata": {},
   "outputs": [
    {
     "data": {
      "application/vnd.jupyter.widget-view+json": {
       "model_id": "de876a3b0a854e17ba2a4f870792dbdd",
       "version_major": 2,
       "version_minor": 0
      },
      "text/plain": [
       "  0%|          | 0/20467 [00:00<?, ?it/s]"
      ]
     },
     "metadata": {},
     "output_type": "display_data"
    },
    {
     "data": {
      "application/vnd.jupyter.widget-view+json": {
       "model_id": "eb28be00c57c4b509565e8dc14e0547c",
       "version_major": 2,
       "version_minor": 0
      },
      "text/plain": [
       "  0%|          | 0/4274 [00:00<?, ?it/s]"
      ]
     },
     "metadata": {},
     "output_type": "display_data"
    },
    {
     "name": "stdout",
     "output_type": "stream",
     "text": [
      "Nodes Loaded: [602] Filtered = [30155]\n"
     ]
    }
   ],
   "source": [
    "# Reload OSM data, this time applying a filter so that only nodes that were passed by the survey route are included\n",
    "walker2 = osm_walker(filename_margin, None, filter_log=route_path_snapped, verbose=False)\n",
    "\n",
    "# Make sure that any ways that were split into multiple segments due to a changed\n",
    "# characteristic (e.g. speed limit) are linked back up again\n",
    "walker2.link_way_sections(verbose=False)"
   ]
  },
  {
   "cell_type": "code",
   "execution_count": 8,
   "id": "1b02383a",
   "metadata": {},
   "outputs": [
    {
     "data": {
      "application/vnd.jupyter.widget-view+json": {
       "model_id": "62336c75db754844857c8073ac51bd39",
       "version_major": 2,
       "version_minor": 0
      },
      "text/plain": [
       "  0%|          | 0/753 [00:00<?, ?it/s]"
      ]
     },
     "metadata": {},
     "output_type": "display_data"
    }
   ],
   "source": [
    "# Snap route of collected footage to nearest intersections\n",
    "walker2.snap_detection_log(detections_path_in, detections_path_out)"
   ]
  },
  {
   "cell_type": "code",
   "execution_count": 9,
   "id": "62e4d8d0",
   "metadata": {},
   "outputs": [],
   "source": [
    "# Load the snapped detection log\n",
    "walker2.load_detection_log(detections_path_out)"
   ]
  },
  {
   "cell_type": "code",
   "execution_count": 10,
   "id": "e0c6ebd2",
   "metadata": {},
   "outputs": [
    {
     "name": "stdout",
     "output_type": "stream",
     "text": [
      "Writing hit, feature count: 20\n",
      "Writing to: E:\\Release\\minor_thesis\\data_sources\\dashcam_tour_mount_eliza\\detections\\hit.geojson\n",
      "Writing tag, feature count: 10\n",
      "Writing to: E:\\Release\\minor_thesis\\data_sources\\dashcam_tour_mount_eliza\\detections\\tag.geojson\n",
      "Writing both, feature count: 8\n",
      "Writing to: E:\\Release\\minor_thesis\\data_sources\\dashcam_tour_mount_eliza\\detections\\both.geojson\n",
      "Writing either, feature count: 22\n",
      "Writing to: E:\\Release\\minor_thesis\\data_sources\\dashcam_tour_mount_eliza\\detections\\either.geojson\n",
      "Writing hit_only, feature count: 14\n",
      "Writing to: E:\\Release\\minor_thesis\\data_sources\\dashcam_tour_mount_eliza\\detections\\hit_only.geojson\n",
      "Writing tag_only, feature count: 4\n",
      "Writing to: E:\\Release\\minor_thesis\\data_sources\\dashcam_tour_mount_eliza\\detections\\tag_only.geojson\n",
      "hit     : Total distance   13413.24m\n",
      "tag     : Total distance    8902.82m\n",
      "both    : Total distance    7483.63m\n",
      "either  : Total distance   14832.43m\n",
      "hit_only: Total distance    5795.54m\n",
      "tag_only: Total distance     966.63m\n"
     ]
    }
   ],
   "source": [
    "# Write GeoJSON files, including comparison files\n",
    "walker2.write_geojsons(locality_margin, detections_dir, intersection_skip_limit=2, infer_ends=False, verbose=False)"
   ]
  }
 ],
 "metadata": {
  "kernelspec": {
   "display_name": "gpuEnv",
   "language": "python",
   "name": "gpuenv"
  },
  "language_info": {
   "codemirror_mode": {
    "name": "ipython",
    "version": 3
   },
   "file_extension": ".py",
   "mimetype": "text/x-python",
   "name": "python",
   "nbconvert_exporter": "python",
   "pygments_lexer": "ipython3",
   "version": "3.8.11"
  }
 },
 "nbformat": 4,
 "nbformat_minor": 5
}
