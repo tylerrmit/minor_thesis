{
 "cells": [
  {
   "cell_type": "markdown",
   "id": "4ded4e4a",
   "metadata": {},
   "source": [
    "# 17. Convert Detection Log to GeoJSON\n",
    "\n",
    "Given a detection log from applying the model to dashcam images in a survey area (filtered or unfiltered) align the detections to the OpenStreetMap data and produce geojson files to map and compare the output"
   ]
  },
  {
   "cell_type": "markdown",
   "id": "2bf7b36b",
   "metadata": {},
   "source": [
    "## Configuration\n",
    "\n",
    "Any configuration that is required to run this notebook can be customized in the next cell"
   ]
  },
  {
   "cell_type": "code",
   "execution_count": 1,
   "id": "8d3a32b5",
   "metadata": {},
   "outputs": [],
   "source": [
    "# Name of the subdirectory containing dashcam footage for an area, split into frame images in a\n",
    "# \"split\" subdirectory, with an associated \"metadata.csv\"\n",
    "# This subdirectory is assumed to be in the 'data_sources' directory\n",
    "import_directory = 'dashcam_tour_mount_eliza'\n",
    "\n",
    "# Which \"locality\" do we wish to process?\n",
    "locality = 'Mount Eliza'\n",
    "\n",
    "# We will sample the middle of each intersection, but we can also sample a\n",
    "# \"margin\" around the intersection, at 10m intervals.\n",
    "# E.g. if we set this to \"20\" then we will sample points at:\n",
    "#    -20m, -10m, 0m, 10m, and 20m\n",
    "# from the centre of the intersection, along the assumed bearing of the road\n",
    "# Used here just to get the right filename\n",
    "margin = 20\n",
    "\n",
    "# Name of the detection log filename\n",
    "filename_in  = 'detection_log_filtered.csv'\n",
    "\n",
    "# Name of the output detection log that has been aligned to the OpenStreetMap data\n",
    "filename_out = 'detection_log_filtered_snap.csv'"
   ]
  },
  {
   "cell_type": "markdown",
   "id": "71ad5f70",
   "metadata": {},
   "source": [
    "## Code"
   ]
  },
  {
   "cell_type": "code",
   "execution_count": 2,
   "id": "4f0dc221",
   "metadata": {},
   "outputs": [],
   "source": [
    "# General imports\n",
    "import os\n",
    "import sys\n",
    "\n",
    "# Make sure local modules can be imported\n",
    "module_path_root = os.path.abspath(os.pardir)\n",
    "if module_path_root not in sys.path:\n",
    "    sys.path.append(module_path_root)\n",
    "    \n",
    "# Import local modules\n",
    "import osm_gsv_utils.osm_walker as osm_walker"
   ]
  },
  {
   "cell_type": "code",
   "execution_count": 3,
   "id": "4258b90f",
   "metadata": {},
   "outputs": [],
   "source": [
    "# Derive paths for configuration\n",
    "\n",
    "locality_clean = locality.replace(' ', '_')\n",
    "\n",
    "filename_main       = os.path.join(module_path_root, 'data_sources', 'Locality_' + locality_clean + '.osm')\n",
    "filename_margin     = os.path.join(module_path_root, 'data_sources', 'Locality_' + locality_clean + '_margin.osm')\n",
    "locality_margin     = '{0:s}_{1:d}m'.format(locality_clean, margin)\n",
    "\n",
    "detections_dir = os.path.join(module_path_root, 'data_sources', import_directory, 'detections')\n",
    "\n",
    "path_in  = os.path.join(detections_dir, filename_in)\n",
    "path_out = os.path.join(detections_dir, filename_out)"
   ]
  },
  {
   "cell_type": "code",
   "execution_count": 4,
   "id": "67a0869a",
   "metadata": {},
   "outputs": [
    {
     "data": {
      "application/vnd.jupyter.widget-view+json": {
       "model_id": "b2513180aa834843953d36a60d101c0a",
       "version_major": 2,
       "version_minor": 0
      },
      "text/plain": [
       "  0%|          | 0/4274 [00:00<?, ?it/s]"
      ]
     },
     "metadata": {},
     "output_type": "display_data"
    },
    {
     "data": {
      "application/vnd.jupyter.widget-view+json": {
       "model_id": "6424e370a0d245d59fd48144f272f106",
       "version_major": 2,
       "version_minor": 0
      },
      "text/plain": [
       "  0%|          | 0/4274 [00:00<?, ?it/s]"
      ]
     },
     "metadata": {},
     "output_type": "display_data"
    }
   ],
   "source": [
    "# Load OSM data\n",
    "walker = osm_walker(filename_margin, filename_margin, verbose=False)"
   ]
  },
  {
   "cell_type": "code",
   "execution_count": 5,
   "id": "d076f26c",
   "metadata": {},
   "outputs": [],
   "source": [
    "# Compile ways into continuous roads\n",
    "walker.link_way_sections(verbose=False)"
   ]
  },
  {
   "cell_type": "code",
   "execution_count": 6,
   "id": "e2f84b21",
   "metadata": {},
   "outputs": [
    {
     "data": {
      "application/vnd.jupyter.widget-view+json": {
       "model_id": "1d43ea16df374aa5b75f0922fb549608",
       "version_major": 2,
       "version_minor": 0
      },
      "text/plain": [
       "  0%|          | 0/523 [00:00<?, ?it/s]"
      ]
     },
     "metadata": {},
     "output_type": "display_data"
    }
   ],
   "source": [
    "# Snap detections to nearest intersections\n",
    "walker.snap_detection_log(path_in, path_out)"
   ]
  },
  {
   "cell_type": "code",
   "execution_count": 7,
   "id": "62e4d8d0",
   "metadata": {},
   "outputs": [],
   "source": [
    "# Load the snapped detection log\n",
    "walker.load_detection_log(path_out)"
   ]
  },
  {
   "cell_type": "code",
   "execution_count": 8,
   "id": "e0c6ebd2",
   "metadata": {},
   "outputs": [
    {
     "name": "stdout",
     "output_type": "stream",
     "text": [
      "Writing hit, feature count: 14\n",
      "Writing to: E:\\Release\\minor_thesis\\data_sources\\dashcam_tour_mount_eliza\\detections\\hit.geojson\n",
      "Writing tag, feature count: 13\n",
      "Writing to: E:\\Release\\minor_thesis\\data_sources\\dashcam_tour_mount_eliza\\detections\\tag.geojson\n",
      "Writing both, feature count: 7\n",
      "Writing to: E:\\Release\\minor_thesis\\data_sources\\dashcam_tour_mount_eliza\\detections\\both.geojson\n",
      "Writing either, feature count: 20\n",
      "Writing to: E:\\Release\\minor_thesis\\data_sources\\dashcam_tour_mount_eliza\\detections\\either.geojson\n",
      "Writing hit_only, feature count: 8\n",
      "Writing to: E:\\Release\\minor_thesis\\data_sources\\dashcam_tour_mount_eliza\\detections\\hit_only.geojson\n",
      "Writing tag_only, feature count: 8\n",
      "Writing to: E:\\Release\\minor_thesis\\data_sources\\dashcam_tour_mount_eliza\\detections\\tag_only.geojson\n",
      "hit     : Total distance   11386.70m\n",
      "tag     : Total distance   16900.42m\n",
      "both    : Total distance    6749.93m\n",
      "either  : Total distance   21537.19m\n",
      "hit_only: Total distance    4588.17m\n",
      "tag_only: Total distance    9804.71m\n"
     ]
    }
   ],
   "source": [
    "# Write GeoJSON files, including comparison files\n",
    "walker.write_geojsons(locality_margin, detections_dir, intersection_skip_limit=2, infer_ends=False, verbose=False)"
   ]
  },
  {
   "cell_type": "markdown",
   "id": "75b747cc",
   "metadata": {},
   "source": [
    "## TODO\n",
    "\n",
    "This comparison against OSM is not useful yet.  The OSM data will include many roads that weren't included in the footage.  We really only want to run a comparison for what was covered."
   ]
  },
  {
   "cell_type": "code",
   "execution_count": null,
   "id": "85dc5975",
   "metadata": {},
   "outputs": [],
   "source": []
  }
 ],
 "metadata": {
  "kernelspec": {
   "display_name": "gpuEnv",
   "language": "python",
   "name": "gpuenv"
  },
  "language_info": {
   "codemirror_mode": {
    "name": "ipython",
    "version": 3
   },
   "file_extension": ".py",
   "mimetype": "text/x-python",
   "name": "python",
   "nbconvert_exporter": "python",
   "pygments_lexer": "ipython3",
   "version": "3.8.11"
  }
 },
 "nbformat": 4,
 "nbformat_minor": 5
}
