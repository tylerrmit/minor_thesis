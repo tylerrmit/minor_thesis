{
 "cells": [
  {
   "cell_type": "markdown",
   "id": "c59ab8a6",
   "metadata": {},
   "source": [
    "# Lane Lines from Video Stream\n",
    "\n",
    "Detect lane lines from video stream"
   ]
  },
  {
   "cell_type": "markdown",
   "id": "e7b1d932",
   "metadata": {},
   "source": [
    "## Configuration"
   ]
  },
  {
   "cell_type": "code",
   "execution_count": 1,
   "id": "66afdcf7",
   "metadata": {},
   "outputs": [],
   "source": [
    "video_in  = 'FILE210822-173937F.mp4'\n",
    "video_out = 'V5_lines.mp4'\n",
    "\n",
    "# Parameters for predicting lane width\n",
    "model_name              = 'distance'\n",
    "width_prediction_height = 640\n",
    "\n",
    "frame_width  = 1920\n",
    "frame_height = 1080\n",
    "\n",
    "mask_vertices = [\n",
    "    (0, 640),\n",
    "    (frame_width/2, 375),\n",
    "    (frame_width, 640)\n",
    "]\n",
    "\n",
    "own_lane_vertices = [\n",
    "    (500, 640),\n",
    "    (int(frame_width/2), 400),\n",
    "    (frame_width-500, 640)\n",
    "]\n",
    "\n",
    "left_lane_mask_top    = 375\n",
    "left_lane_mask_bottom = 690\n",
    "left_lane_mask_margin = 80\n",
    "\n",
    "min_slope = 0.3\n",
    "max_slope = 0"
   ]
  },
  {
   "cell_type": "markdown",
   "id": "3002fdfb",
   "metadata": {},
   "source": [
    "## Load and configure model"
   ]
  },
  {
   "cell_type": "code",
   "execution_count": 2,
   "id": "a07f3b19",
   "metadata": {},
   "outputs": [],
   "source": [
    "import os\n",
    "import sys\n",
    "from pathlib import Path\n",
    "\n",
    "import cv2\n",
    "import numpy as np\n",
    "\n",
    "from tqdm.notebook import tqdm, trange\n",
    "\n",
    "\n",
    "# Make sure local modules can be imported\n",
    "module_path_root = os.path.abspath(os.pardir)\n",
    "if module_path_root not in sys.path:\n",
    "    sys.path.append(module_path_root)\n",
    "    \n",
    "# Import local modules\n",
    "import cv_utils.lane_detection as lane_detection"
   ]
  },
  {
   "cell_type": "code",
   "execution_count": 3,
   "id": "2d9a2087",
   "metadata": {},
   "outputs": [],
   "source": [
    "# Derive paths\n",
    "video_directory = os.path.join(module_path_root, 'data_sources', 'test1_video')\n",
    "calibration_config = os.path.join(module_path_root, 'data_sources', 'dashcam_calibration.yml')\n",
    "model_dir          = os.path.join(module_path_root, 'models')"
   ]
  },
  {
   "cell_type": "code",
   "execution_count": 4,
   "id": "e9edad0d",
   "metadata": {},
   "outputs": [],
   "source": [
    "# Initialise model\n",
    "ld = lane_detection(calibration_config=calibration_config, model_dir=model_dir, width_estimation_model=model_name)"
   ]
  },
  {
   "cell_type": "markdown",
   "id": "ba46b667",
   "metadata": {},
   "source": [
    "## Model Application"
   ]
  },
  {
   "cell_type": "code",
   "execution_count": 5,
   "id": "5bb31bee",
   "metadata": {},
   "outputs": [
    {
     "data": {
      "application/vnd.jupyter.widget-view+json": {
       "model_id": "eb91de5b6b6b4c0eb914d8bc3cb5cd62",
       "version_major": 2,
       "version_minor": 0
      },
      "text/plain": [
       "  0%|          | 0/3612 [00:00<?, ?it/s]"
      ]
     },
     "metadata": {},
     "output_type": "display_data"
    }
   ],
   "source": [
    "path_in  = os.path.join(video_directory, video_in)\n",
    "path_out = os.path.join(video_directory, video_out)\n",
    "\n",
    "cap = cv2.VideoCapture(path_in)\n",
    "\n",
    "#frame_width  = int(cap.get(cv2.CAP_PROP_FRAME_WIDTH))\n",
    "#frame_height = int(cap.get(cv2.CAP_PROP_FRAME_HEIGHT))\n",
    "frame_count  = int(cap.get(cv2.CAP_PROP_FRAME_COUNT))\n",
    "\n",
    "out = cv2.VideoWriter(path_out, cv2.VideoWriter_fourcc('M','J','P','G'), 60, (frame_width, frame_height))\n",
    "\n",
    "for frame_num in trange(0, frame_count):\n",
    "    ret, frame = cap.read()\n",
    "    \n",
    "    if ret == True:\n",
    "        image_orig = np.array(frame)\n",
    "\n",
    "        #cv2.imwrite(os.path.join(module_path_root, 'data_sources', 'evil.png'), image_orig)\n",
    "        \n",
    "        image_corrected = ld.correct_image(image_orig)\n",
    "        \n",
    "        image_lanes, slopes_and_intercepts = ld.detect_lanes(\n",
    "            image_corrected,\n",
    "            own_lane_vertices,\n",
    "            left_lane_mask_top    = left_lane_mask_top,\n",
    "            left_lane_mask_bottom = left_lane_mask_bottom,\n",
    "            left_lane_mask_margin = left_lane_mask_margin,\n",
    "            min_slope             = min_slope,\n",
    "            max_slope             = max_slope\n",
    "        )\n",
    "        \n",
    "        out.write(image_lanes)\n",
    "    \n",
    "        cv2.imshow('object detection', cv2.resize(image_lanes, (frame_width, frame_height)))\n",
    "    \n",
    "        if cv2.waitKey(10) & 0xFF == ord('q'):\n",
    "            break\n",
    "    else:\n",
    "        break\n",
    "        \n",
    "cap.release()\n",
    "out.release()\n",
    "cv2.destroyAllWindows()"
   ]
  }
 ],
 "metadata": {
  "kernelspec": {
   "display_name": "gpuEnv",
   "language": "python",
   "name": "gpuenv"
  },
  "language_info": {
   "codemirror_mode": {
    "name": "ipython",
    "version": 3
   },
   "file_extension": ".py",
   "mimetype": "text/x-python",
   "name": "python",
   "nbconvert_exporter": "python",
   "pygments_lexer": "ipython3",
   "version": "3.8.11"
  }
 },
 "nbformat": 4,
 "nbformat_minor": 5
}
