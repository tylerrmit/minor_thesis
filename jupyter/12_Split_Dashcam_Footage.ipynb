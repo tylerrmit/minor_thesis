{
 "cells": [
  {
   "cell_type": "markdown",
   "id": "99680ba6",
   "metadata": {},
   "source": [
    "# 12. Split Dashcam Footage\n",
    "\n",
    "Read a directory full of MP4 video files from a dashcam, split them into frames at the required intervals (from the 60fps footage) while correlating them to coordinate metadata that recorded in the accompanying NMEA file."
   ]
  },
  {
   "cell_type": "markdown",
   "id": "0f36f7fc",
   "metadata": {},
   "source": [
    "## Configuration\n",
    "\n",
    "Any configuration that is required to run this notebook can be customized in the next cell"
   ]
  },
  {
   "cell_type": "code",
   "execution_count": 1,
   "id": "d46c7451",
   "metadata": {},
   "outputs": [],
   "source": [
    "# Name of a folder containing input MP4 videos and their corresponding NMEA files,\n",
    "# imported from the dash camera.  This notebook will assume this folder is found\n",
    "# inside the 'data_sources' folder.\n",
    "# We will create a \"split\" subdirectory inside the import_directory, containing\n",
    "# each of the images, plus a \"metadata.csv\" file to describe each of them in terms\n",
    "# of latitude/longitude, altitude, and heading\n",
    "import_directory = 'dashcam_tour_mount_eliza'\n",
    "#import_directory = 'dashcam_tour_frankston'\n",
    "\n",
    "# Required frames per second for output images, reduced down from 60 fps\n",
    "output_fps = 5"
   ]
  },
  {
   "cell_type": "markdown",
   "id": "289f0c3a",
   "metadata": {},
   "source": [
    "## Explanation of NMEA data\n",
    "\n",
    "Sample NMEA data, repeats every 60 seconds:\n",
    "``` NMEA sample\n",
    "$GPGGA,004008.00,3810.18002,S,14506.69684,E,1,11,0.85,43.6,M,-2.7,M,,*6B\n",
    "$GPGSA,A,3,30,14,07,13,17,194,193,195,19,21,15,,1.47,0.85,1.20*3E\n",
    "$GPGSV,5,1,20,01,10,085,21,05,09,275,15,07,35,078,34,08,10,142,14*7B\n",
    "$GPGSV,5,2,20,09,04,021,08,13,47,236,23,14,75,226,32,15,19,225,21*77\n",
    "$GPGSV,5,3,20,17,43,008,24,19,22,354,29,20,01,305,,21,13,104,24*74\n",
    "$GPGSV,5,4,20,28,,,32,30,69,110,38,41,13,288,,50,42,332,*42\n",
    "$GPGSV,5,5,20,53,22,297,,193,29,356,26,194,74,274,32,195,19,355,31*4E\n",
    "$GSENSORD,0.089,0.123,-0.140\n",
    "$GPRMC,004009.00,A,3810.17224,S,14506.70055,E,29.706,20.61,240921,,,A*74\n",
    "```"
   ]
  },
  {
   "cell_type": "markdown",
   "id": "63fcefe3",
   "metadata": {},
   "source": [
    "http://aprs.gids.nl/nmea/\n",
    "\n",
    "* GPGGA - Global Positioning System Fix Data\n",
    "\n",
    "    - Time \"004001.00\" => The time is 00:40:01 in GMT\n",
    "    - **Latitude \"3810.18002,S\"**\n",
    "    - **Longitude \"14506.69684,E\"**\n",
    "    - Fix Quality \"1\" = GPS fix.  0=Invalid, 2=DGPS fix.\n",
    "    - Number of Satellites \"11\" = 11 Satellites are in view\n",
    "    - Horizontal Dilution of Precision (HDOP) \"0.85\"\n",
    "    - **Altitude \"43.6,M\"**\n",
    "    - Height of geoid above WGS84 ellipsoid \"-2.7,M\"\n",
    "    - DGPS reference station id \"\"\n",
    "    - Checksum \"*6B\"\n",
    "    \n",
    "* GPRMC - Recommended minimum specific GPS/Transit data\n",
    "    - Time \"004009.00\" => The time is 00:40:09 in GMT\n",
    "    - Validity \"A\" => A=OK, V=invalid\n",
    "    - **Latitude \"3810.17224,S\"**\n",
    "    - **Longitude \"14506.70055,E\"**\n",
    "    - Speed in knots \"29.706\" ==> converts to 55kmph. 1 knot = 1.852 kmph.\n",
    "    - **True course \"20.61\" => bearing**\n",
    "    - Date stamp \"240921\" => 24th of September 2021\n",
    "    - Variation \"\"\n",
    "    - East/West \"\"\n",
    "    - Checksum \"A*74\"\n",
    "    \n",
    "* GPGSA - GPS DOP and active satellites\n",
    "    * Ignore\n",
    "    \n",
    "* GPGSV - GPS Satellites in view\n",
    "    * Ignore\n",
    "    \n",
    "* GSENSORD - Sensor data, possibly specific to the device\n",
    "    * Ignore  \n",
    "    \n",
    "We are interested in latitude and longitude, of course, which can come from either GPGGA or GPRMC.  We are also interested in altitude (from GPGGA) and true course (from GPRMC) in case they come in handy.\n",
    "\n",
    "There are 61 instances of GPGGA in the file, and 60 instances of GPRMC in between.  They agree on the co-ords as at\n",
    "each timestamp.  We might as well parse them into a dictionary using the timestamp as the key."
   ]
  },
  {
   "cell_type": "markdown",
   "id": "b80fe631",
   "metadata": {},
   "source": [
    "## Code"
   ]
  },
  {
   "cell_type": "code",
   "execution_count": 2,
   "id": "610206d9",
   "metadata": {},
   "outputs": [],
   "source": [
    "# General imports\n",
    "import os\n",
    "import sys\n",
    "\n",
    "module_path_root = os.path.abspath(os.pardir)\n",
    "if module_path_root not in sys.path:\n",
    "    sys.path.append(module_path_root)\n",
    "    \n",
    "# Import local modules\n",
    "import osm_gsv_utils.dashcam_parser as dashcam_parser\n",
    "import osm_gsv_utils.lane_detection as lane_detection"
   ]
  },
  {
   "cell_type": "code",
   "execution_count": 3,
   "id": "b5941ee0",
   "metadata": {
    "scrolled": true
   },
   "outputs": [],
   "source": [
    "# Derived paths\n",
    "\n",
    "# Full path to the directory containing the MP4 videos and NMEA files\n",
    "dashcam_dir = os.path.join(module_path_root, 'data_sources', import_directory)\n",
    "\n",
    "# \"Split\" subdirectory where the output frames will be created, along with a \"metadata.csv\"\n",
    "# with metadata about each frame, loaded and interpolated from the NMEA files\n",
    "output_dir  = os.path.join(dashcam_dir, 'split')"
   ]
  },
  {
   "cell_type": "code",
   "execution_count": 4,
   "id": "83191e91",
   "metadata": {},
   "outputs": [],
   "source": [
    "# Initialise an object to parse dashcam footage and correlate it with NMEA data\n",
    "parser = dashcam_parser(source_fps=60, write_lane_images=True)"
   ]
  },
  {
   "cell_type": "code",
   "execution_count": 5,
   "id": "87dc6902",
   "metadata": {
    "scrolled": false
   },
   "outputs": [
    {
     "data": {
      "application/vnd.jupyter.widget-view+json": {
       "model_id": "06c800562332438ca6a8d09c4bc60c51",
       "version_major": 2,
       "version_minor": 0
      },
      "text/plain": [
       "  0%|          | 0/51 [00:00<?, ?it/s]"
      ]
     },
     "metadata": {},
     "output_type": "display_data"
    },
    {
     "data": {
      "application/vnd.jupyter.widget-view+json": {
       "model_id": "37c4577be6f74e4eb26c3c81d48a8be5",
       "version_major": 2,
       "version_minor": 0
      },
      "text/plain": [
       "FILE210926-101400F:   0%|          | 0/3612 [00:00<?, ?it/s]"
      ]
     },
     "metadata": {},
     "output_type": "display_data"
    },
    {
     "data": {
      "application/vnd.jupyter.widget-view+json": {
       "model_id": "00e761d2e20c471889a38c5689f8522b",
       "version_major": 2,
       "version_minor": 0
      },
      "text/plain": [
       "FILE210926-101500F:   0%|          | 0/3612 [00:00<?, ?it/s]"
      ]
     },
     "metadata": {},
     "output_type": "display_data"
    },
    {
     "data": {
      "application/vnd.jupyter.widget-view+json": {
       "model_id": "27a6ec9149b64661986c57a60cdc40c4",
       "version_major": 2,
       "version_minor": 0
      },
      "text/plain": [
       "FILE210926-101601F:   0%|          | 0/3612 [00:00<?, ?it/s]"
      ]
     },
     "metadata": {},
     "output_type": "display_data"
    },
    {
     "data": {
      "application/vnd.jupyter.widget-view+json": {
       "model_id": "33493086d33f4254ba93c3efedd2d3f3",
       "version_major": 2,
       "version_minor": 0
      },
      "text/plain": [
       "FILE210926-101701F:   0%|          | 0/3612 [00:00<?, ?it/s]"
      ]
     },
     "metadata": {},
     "output_type": "display_data"
    },
    {
     "data": {
      "application/vnd.jupyter.widget-view+json": {
       "model_id": "1cfbaf0b6a6b40029ec01662e9bda3a3",
       "version_major": 2,
       "version_minor": 0
      },
      "text/plain": [
       "FILE210926-101801F:   0%|          | 0/3612 [00:00<?, ?it/s]"
      ]
     },
     "metadata": {},
     "output_type": "display_data"
    },
    {
     "data": {
      "application/vnd.jupyter.widget-view+json": {
       "model_id": "6868b8a43d854438b42b1bbcbcb973e3",
       "version_major": 2,
       "version_minor": 0
      },
      "text/plain": [
       "FILE210926-101901F:   0%|          | 0/3612 [00:00<?, ?it/s]"
      ]
     },
     "metadata": {},
     "output_type": "display_data"
    },
    {
     "data": {
      "application/vnd.jupyter.widget-view+json": {
       "model_id": "ed47e23d22774fcd906dd60102eb3ee7",
       "version_major": 2,
       "version_minor": 0
      },
      "text/plain": [
       "FILE210926-102002F:   0%|          | 0/3612 [00:00<?, ?it/s]"
      ]
     },
     "metadata": {},
     "output_type": "display_data"
    },
    {
     "data": {
      "application/vnd.jupyter.widget-view+json": {
       "model_id": "842b1c1fbad84c0eac0795e745e188e3",
       "version_major": 2,
       "version_minor": 0
      },
      "text/plain": [
       "FILE210926-102102F:   0%|          | 0/3612 [00:00<?, ?it/s]"
      ]
     },
     "metadata": {},
     "output_type": "display_data"
    },
    {
     "name": "stdout",
     "output_type": "stream",
     "text": [
      "WARNING: processing line [FILE210926-102202F] [$GPRMC,002226.00,V,,,,,,,260921,,,N*77\n",
      "], using previous values\n",
      "WARNING: processing line [FILE210926-102202F] [$GPGGA,002226.00,,,,,0,00,99.99,,,,,,*62\n",
      "], using previous values\n"
     ]
    },
    {
     "data": {
      "application/vnd.jupyter.widget-view+json": {
       "model_id": "e384ca14da764149b03c9b4290376f1a",
       "version_major": 2,
       "version_minor": 0
      },
      "text/plain": [
       "FILE210926-102202F:   0%|          | 0/3612 [00:00<?, ?it/s]"
      ]
     },
     "metadata": {},
     "output_type": "display_data"
    },
    {
     "data": {
      "application/vnd.jupyter.widget-view+json": {
       "model_id": "0f7870824e4c4c1ea35d18e7543b1275",
       "version_major": 2,
       "version_minor": 0
      },
      "text/plain": [
       "FILE210926-102302F:   0%|          | 0/3612 [00:00<?, ?it/s]"
      ]
     },
     "metadata": {},
     "output_type": "display_data"
    },
    {
     "data": {
      "application/vnd.jupyter.widget-view+json": {
       "model_id": "38dbd9ad0a20493ab7e8df8f8edaf127",
       "version_major": 2,
       "version_minor": 0
      },
      "text/plain": [
       "FILE210926-102403F:   0%|          | 0/3612 [00:00<?, ?it/s]"
      ]
     },
     "metadata": {},
     "output_type": "display_data"
    },
    {
     "data": {
      "application/vnd.jupyter.widget-view+json": {
       "model_id": "7cc36ee7dcf8428eb6c45020c50f84a1",
       "version_major": 2,
       "version_minor": 0
      },
      "text/plain": [
       "FILE210926-102503F:   0%|          | 0/3612 [00:00<?, ?it/s]"
      ]
     },
     "metadata": {},
     "output_type": "display_data"
    },
    {
     "data": {
      "application/vnd.jupyter.widget-view+json": {
       "model_id": "c7e8e717a19b434ab4fce80b8f20c589",
       "version_major": 2,
       "version_minor": 0
      },
      "text/plain": [
       "FILE210926-102603F:   0%|          | 0/3612 [00:00<?, ?it/s]"
      ]
     },
     "metadata": {},
     "output_type": "display_data"
    },
    {
     "data": {
      "application/vnd.jupyter.widget-view+json": {
       "model_id": "188b8c6c7d65427bbe5fda8ca5a63986",
       "version_major": 2,
       "version_minor": 0
      },
      "text/plain": [
       "FILE210926-102703F:   0%|          | 0/3612 [00:00<?, ?it/s]"
      ]
     },
     "metadata": {},
     "output_type": "display_data"
    },
    {
     "data": {
      "application/vnd.jupyter.widget-view+json": {
       "model_id": "38fb44d814b14ab780217dc57b6ca57d",
       "version_major": 2,
       "version_minor": 0
      },
      "text/plain": [
       "FILE210926-102804F:   0%|          | 0/3612 [00:00<?, ?it/s]"
      ]
     },
     "metadata": {},
     "output_type": "display_data"
    },
    {
     "data": {
      "application/vnd.jupyter.widget-view+json": {
       "model_id": "6d6c3ac595134a1f8ab19a30a949d351",
       "version_major": 2,
       "version_minor": 0
      },
      "text/plain": [
       "FILE210926-102904F:   0%|          | 0/3612 [00:00<?, ?it/s]"
      ]
     },
     "metadata": {},
     "output_type": "display_data"
    },
    {
     "data": {
      "application/vnd.jupyter.widget-view+json": {
       "model_id": "a36a6c826102487cb2cffbafa01ee778",
       "version_major": 2,
       "version_minor": 0
      },
      "text/plain": [
       "FILE210926-103004F:   0%|          | 0/3612 [00:00<?, ?it/s]"
      ]
     },
     "metadata": {},
     "output_type": "display_data"
    },
    {
     "data": {
      "application/vnd.jupyter.widget-view+json": {
       "model_id": "035eeef7045b439080509166c5020bb3",
       "version_major": 2,
       "version_minor": 0
      },
      "text/plain": [
       "FILE210926-103104F:   0%|          | 0/3612 [00:00<?, ?it/s]"
      ]
     },
     "metadata": {},
     "output_type": "display_data"
    },
    {
     "data": {
      "application/vnd.jupyter.widget-view+json": {
       "model_id": "dc0b71a9835e4923bb189ef7092c19f7",
       "version_major": 2,
       "version_minor": 0
      },
      "text/plain": [
       "FILE210926-103205F:   0%|          | 0/3611 [00:00<?, ?it/s]"
      ]
     },
     "metadata": {},
     "output_type": "display_data"
    },
    {
     "data": {
      "application/vnd.jupyter.widget-view+json": {
       "model_id": "a23cb1d5d9dc409eb1821f36d40499da",
       "version_major": 2,
       "version_minor": 0
      },
      "text/plain": [
       "FILE210926-103305F:   0%|          | 0/3612 [00:00<?, ?it/s]"
      ]
     },
     "metadata": {},
     "output_type": "display_data"
    },
    {
     "data": {
      "application/vnd.jupyter.widget-view+json": {
       "model_id": "977ecf52ffbd45a19c515f0323a16907",
       "version_major": 2,
       "version_minor": 0
      },
      "text/plain": [
       "FILE210926-103405F:   0%|          | 0/3612 [00:00<?, ?it/s]"
      ]
     },
     "metadata": {},
     "output_type": "display_data"
    },
    {
     "data": {
      "application/vnd.jupyter.widget-view+json": {
       "model_id": "9cf2bad8d4f142dea3f31e55fd8c7fbe",
       "version_major": 2,
       "version_minor": 0
      },
      "text/plain": [
       "FILE210926-103505F:   0%|          | 0/3612 [00:00<?, ?it/s]"
      ]
     },
     "metadata": {},
     "output_type": "display_data"
    },
    {
     "data": {
      "application/vnd.jupyter.widget-view+json": {
       "model_id": "3560ed9af11946efa78c611131d91469",
       "version_major": 2,
       "version_minor": 0
      },
      "text/plain": [
       "FILE210926-103606F:   0%|          | 0/3612 [00:00<?, ?it/s]"
      ]
     },
     "metadata": {},
     "output_type": "display_data"
    },
    {
     "data": {
      "application/vnd.jupyter.widget-view+json": {
       "model_id": "97ed55899ac24c3a8306638c8188d953",
       "version_major": 2,
       "version_minor": 0
      },
      "text/plain": [
       "FILE210926-103706F:   0%|          | 0/3612 [00:00<?, ?it/s]"
      ]
     },
     "metadata": {},
     "output_type": "display_data"
    },
    {
     "data": {
      "application/vnd.jupyter.widget-view+json": {
       "model_id": "a77f2577a9e54dd4ba65aac9c072ed22",
       "version_major": 2,
       "version_minor": 0
      },
      "text/plain": [
       "FILE210926-103806F:   0%|          | 0/3612 [00:00<?, ?it/s]"
      ]
     },
     "metadata": {},
     "output_type": "display_data"
    },
    {
     "data": {
      "application/vnd.jupyter.widget-view+json": {
       "model_id": "5090ca18193242be9542a5f071b88221",
       "version_major": 2,
       "version_minor": 0
      },
      "text/plain": [
       "FILE210926-103906F:   0%|          | 0/3612 [00:00<?, ?it/s]"
      ]
     },
     "metadata": {},
     "output_type": "display_data"
    },
    {
     "data": {
      "application/vnd.jupyter.widget-view+json": {
       "model_id": "496af80653d64e64bbf1e1a6b273e92b",
       "version_major": 2,
       "version_minor": 0
      },
      "text/plain": [
       "FILE210926-104007F:   0%|          | 0/3612 [00:00<?, ?it/s]"
      ]
     },
     "metadata": {},
     "output_type": "display_data"
    },
    {
     "data": {
      "application/vnd.jupyter.widget-view+json": {
       "model_id": "a8e6c1e084c9431ca0a64332a54e0ad0",
       "version_major": 2,
       "version_minor": 0
      },
      "text/plain": [
       "FILE210926-104107F:   0%|          | 0/3612 [00:00<?, ?it/s]"
      ]
     },
     "metadata": {},
     "output_type": "display_data"
    },
    {
     "data": {
      "application/vnd.jupyter.widget-view+json": {
       "model_id": "c70de92d74ec44548dc7fb1813c07b7c",
       "version_major": 2,
       "version_minor": 0
      },
      "text/plain": [
       "FILE210926-104207F:   0%|          | 0/3612 [00:00<?, ?it/s]"
      ]
     },
     "metadata": {},
     "output_type": "display_data"
    },
    {
     "data": {
      "application/vnd.jupyter.widget-view+json": {
       "model_id": "dd40db4e199e428da626621f2ea0a7b8",
       "version_major": 2,
       "version_minor": 0
      },
      "text/plain": [
       "FILE210926-104307F:   0%|          | 0/3612 [00:00<?, ?it/s]"
      ]
     },
     "metadata": {},
     "output_type": "display_data"
    },
    {
     "data": {
      "application/vnd.jupyter.widget-view+json": {
       "model_id": "268f0378e0584a78a2c3cf5b7e5ba8f4",
       "version_major": 2,
       "version_minor": 0
      },
      "text/plain": [
       "FILE210926-104408F:   0%|          | 0/3612 [00:00<?, ?it/s]"
      ]
     },
     "metadata": {},
     "output_type": "display_data"
    },
    {
     "data": {
      "application/vnd.jupyter.widget-view+json": {
       "model_id": "1982a72f46cd44d5b5d2787327773f64",
       "version_major": 2,
       "version_minor": 0
      },
      "text/plain": [
       "FILE210926-104508F:   0%|          | 0/3612 [00:00<?, ?it/s]"
      ]
     },
     "metadata": {},
     "output_type": "display_data"
    },
    {
     "data": {
      "application/vnd.jupyter.widget-view+json": {
       "model_id": "66f4a9da2133403fbdd540031dce2714",
       "version_major": 2,
       "version_minor": 0
      },
      "text/plain": [
       "FILE210926-104608F:   0%|          | 0/3612 [00:00<?, ?it/s]"
      ]
     },
     "metadata": {},
     "output_type": "display_data"
    },
    {
     "data": {
      "application/vnd.jupyter.widget-view+json": {
       "model_id": "ac7e30a044eb42e2b3991ae5a1a91639",
       "version_major": 2,
       "version_minor": 0
      },
      "text/plain": [
       "FILE210926-104708F:   0%|          | 0/3612 [00:00<?, ?it/s]"
      ]
     },
     "metadata": {},
     "output_type": "display_data"
    },
    {
     "data": {
      "application/vnd.jupyter.widget-view+json": {
       "model_id": "f5c0653267f3462ba05f67d577857aa0",
       "version_major": 2,
       "version_minor": 0
      },
      "text/plain": [
       "FILE210926-105829F:   0%|          | 0/3612 [00:00<?, ?it/s]"
      ]
     },
     "metadata": {},
     "output_type": "display_data"
    },
    {
     "data": {
      "application/vnd.jupyter.widget-view+json": {
       "model_id": "227c54e247a3403987627123eec228c7",
       "version_major": 2,
       "version_minor": 0
      },
      "text/plain": [
       "FILE210926-105929F:   0%|          | 0/3612 [00:00<?, ?it/s]"
      ]
     },
     "metadata": {},
     "output_type": "display_data"
    },
    {
     "data": {
      "application/vnd.jupyter.widget-view+json": {
       "model_id": "e2d297335bc0480f80c0688f4e623fd6",
       "version_major": 2,
       "version_minor": 0
      },
      "text/plain": [
       "FILE210926-110029F:   0%|          | 0/3612 [00:00<?, ?it/s]"
      ]
     },
     "metadata": {},
     "output_type": "display_data"
    },
    {
     "data": {
      "application/vnd.jupyter.widget-view+json": {
       "model_id": "9a25a33ade344042af9299660bbf8482",
       "version_major": 2,
       "version_minor": 0
      },
      "text/plain": [
       "FILE210926-110129F:   0%|          | 0/3612 [00:00<?, ?it/s]"
      ]
     },
     "metadata": {},
     "output_type": "display_data"
    },
    {
     "data": {
      "application/vnd.jupyter.widget-view+json": {
       "model_id": "c075491bb1654ff192c5b10e5b22351c",
       "version_major": 2,
       "version_minor": 0
      },
      "text/plain": [
       "FILE210926-110230F:   0%|          | 0/3612 [00:00<?, ?it/s]"
      ]
     },
     "metadata": {},
     "output_type": "display_data"
    },
    {
     "data": {
      "application/vnd.jupyter.widget-view+json": {
       "model_id": "e0b493c38d0c423497522f937c9edbf1",
       "version_major": 2,
       "version_minor": 0
      },
      "text/plain": [
       "FILE210926-110330F:   0%|          | 0/3612 [00:00<?, ?it/s]"
      ]
     },
     "metadata": {},
     "output_type": "display_data"
    },
    {
     "data": {
      "application/vnd.jupyter.widget-view+json": {
       "model_id": "4c19cd822a9848b2985806e256bfec8f",
       "version_major": 2,
       "version_minor": 0
      },
      "text/plain": [
       "FILE210926-110430F:   0%|          | 0/3612 [00:00<?, ?it/s]"
      ]
     },
     "metadata": {},
     "output_type": "display_data"
    },
    {
     "data": {
      "application/vnd.jupyter.widget-view+json": {
       "model_id": "102cf3bd97274595822c951aa79833f1",
       "version_major": 2,
       "version_minor": 0
      },
      "text/plain": [
       "FILE210926-110530F:   0%|          | 0/3612 [00:00<?, ?it/s]"
      ]
     },
     "metadata": {},
     "output_type": "display_data"
    },
    {
     "data": {
      "application/vnd.jupyter.widget-view+json": {
       "model_id": "09383b4858d3497c80244b9e0a5920bf",
       "version_major": 2,
       "version_minor": 0
      },
      "text/plain": [
       "FILE210926-110631F:   0%|          | 0/3612 [00:00<?, ?it/s]"
      ]
     },
     "metadata": {},
     "output_type": "display_data"
    },
    {
     "data": {
      "application/vnd.jupyter.widget-view+json": {
       "model_id": "94ead1deb7b7422da9534032f66bdbd6",
       "version_major": 2,
       "version_minor": 0
      },
      "text/plain": [
       "FILE210926-110731F:   0%|          | 0/3612 [00:00<?, ?it/s]"
      ]
     },
     "metadata": {},
     "output_type": "display_data"
    },
    {
     "data": {
      "application/vnd.jupyter.widget-view+json": {
       "model_id": "eb7d9f8efb054a258180361281098cdc",
       "version_major": 2,
       "version_minor": 0
      },
      "text/plain": [
       "FILE210926-110831F:   0%|          | 0/3612 [00:00<?, ?it/s]"
      ]
     },
     "metadata": {},
     "output_type": "display_data"
    },
    {
     "data": {
      "application/vnd.jupyter.widget-view+json": {
       "model_id": "0524b505f3f64629a32fd09b15ba55de",
       "version_major": 2,
       "version_minor": 0
      },
      "text/plain": [
       "FILE210926-110931F:   0%|          | 0/3612 [00:00<?, ?it/s]"
      ]
     },
     "metadata": {},
     "output_type": "display_data"
    },
    {
     "data": {
      "application/vnd.jupyter.widget-view+json": {
       "model_id": "cf520ae19a3040b9b235bcec1394d8be",
       "version_major": 2,
       "version_minor": 0
      },
      "text/plain": [
       "FILE210926-111032F:   0%|          | 0/3612 [00:00<?, ?it/s]"
      ]
     },
     "metadata": {},
     "output_type": "display_data"
    },
    {
     "data": {
      "application/vnd.jupyter.widget-view+json": {
       "model_id": "e62b2c6560fa43598c4ac00e47263e32",
       "version_major": 2,
       "version_minor": 0
      },
      "text/plain": [
       "FILE210926-111132F:   0%|          | 0/3612 [00:00<?, ?it/s]"
      ]
     },
     "metadata": {},
     "output_type": "display_data"
    },
    {
     "data": {
      "application/vnd.jupyter.widget-view+json": {
       "model_id": "e6f5585af3414f50a221cde4864cb012",
       "version_major": 2,
       "version_minor": 0
      },
      "text/plain": [
       "FILE210926-111232F:   0%|          | 0/3612 [00:00<?, ?it/s]"
      ]
     },
     "metadata": {},
     "output_type": "display_data"
    },
    {
     "data": {
      "application/vnd.jupyter.widget-view+json": {
       "model_id": "fcf7e9cce42c42c2b8e2f86e1a10dec6",
       "version_major": 2,
       "version_minor": 0
      },
      "text/plain": [
       "FILE210926-111332F:   0%|          | 0/3612 [00:00<?, ?it/s]"
      ]
     },
     "metadata": {},
     "output_type": "display_data"
    },
    {
     "data": {
      "application/vnd.jupyter.widget-view+json": {
       "model_id": "e21914315e2c41bdbd4cec85d348a456",
       "version_major": 2,
       "version_minor": 0
      },
      "text/plain": [
       "FILE210926-111433F:   0%|          | 0/3612 [00:00<?, ?it/s]"
      ]
     },
     "metadata": {},
     "output_type": "display_data"
    }
   ],
   "source": [
    "# Split all videos in the directory at the required output frames per second\n",
    "parser.split_videos(dashcam_dir, output_dir, output_fps=output_fps, suffix='MP4', verbose=False)\n",
    "\n",
    "# First progress bar shows progress through the input video files\n",
    "# Subsequent progress bar shows progress within an individual video\n",
    "\n",
    "# Ignore occasional warning \"processing line\" due to missing fields in NMEA file.\n",
    "# As long as there are only a few of these, the values will be interpolated\n",
    "# from nearby entries."
   ]
  }
 ],
 "metadata": {
  "kernelspec": {
   "display_name": "gpuEnv",
   "language": "python",
   "name": "gpuenv"
  },
  "language_info": {
   "codemirror_mode": {
    "name": "ipython",
    "version": 3
   },
   "file_extension": ".py",
   "mimetype": "text/x-python",
   "name": "python",
   "nbconvert_exporter": "python",
   "pygments_lexer": "ipython3",
   "version": "3.8.11"
  }
 },
 "nbformat": 4,
 "nbformat_minor": 5
}
