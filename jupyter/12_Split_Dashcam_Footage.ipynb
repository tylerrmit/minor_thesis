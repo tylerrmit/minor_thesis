{
 "cells": [
  {
   "cell_type": "markdown",
   "id": "99680ba6",
   "metadata": {},
   "source": [
    "# 12. Split Dashcam Footage\n",
    "\n",
    "Read a directory full of MP4 video files from a dashcam, split them into frames at the required intervals (from the 60fps footage) while correlating them to coordinate metadata that recorded in the accompanying NMEA file."
   ]
  },
  {
   "cell_type": "markdown",
   "id": "735e2578",
   "metadata": {},
   "source": [
    "## Configuration\n",
    "\n",
    "Any configuration that is required to run this notebook can be customized in the next cell"
   ]
  },
  {
   "cell_type": "code",
   "execution_count": 1,
   "id": "d46c7451",
   "metadata": {},
   "outputs": [],
   "source": [
    "# Name of a folder containing input MP4 videos and their corresponding NMEA files,\n",
    "# imported from the dash camera.  This notebook will assume this folder is found\n",
    "# inside the 'data_sources' folder.\n",
    "# We will create a \"split\" subdirectory inside the import_directory, containing\n",
    "# each of the images, plus a \"metadata.csv\" file to describe each of them in terms\n",
    "# of latitude/longitude, altitude, and heading\n",
    "import_directory = 'dashcam_tour_mount_eliza'\n",
    "#import_directory = 'dashcam_tour_frankston'\n",
    "\n",
    "# Required frames per second for output images, reduced down from 60 fps\n",
    "output_fps = 5"
   ]
  },
  {
   "cell_type": "markdown",
   "id": "289f0c3a",
   "metadata": {},
   "source": [
    "## Explanation of NMEA data\n",
    "\n",
    "Sample NMEA data, repeats every 60 seconds:\n",
    "``` NMEA sample\n",
    "$GPGGA,004008.00,3810.18002,S,14506.69684,E,1,11,0.85,43.6,M,-2.7,M,,*6B\n",
    "$GPGSA,A,3,30,14,07,13,17,194,193,195,19,21,15,,1.47,0.85,1.20*3E\n",
    "$GPGSV,5,1,20,01,10,085,21,05,09,275,15,07,35,078,34,08,10,142,14*7B\n",
    "$GPGSV,5,2,20,09,04,021,08,13,47,236,23,14,75,226,32,15,19,225,21*77\n",
    "$GPGSV,5,3,20,17,43,008,24,19,22,354,29,20,01,305,,21,13,104,24*74\n",
    "$GPGSV,5,4,20,28,,,32,30,69,110,38,41,13,288,,50,42,332,*42\n",
    "$GPGSV,5,5,20,53,22,297,,193,29,356,26,194,74,274,32,195,19,355,31*4E\n",
    "$GSENSORD,0.089,0.123,-0.140\n",
    "$GPRMC,004009.00,A,3810.17224,S,14506.70055,E,29.706,20.61,240921,,,A*74\n",
    "```"
   ]
  },
  {
   "cell_type": "markdown",
   "id": "63fcefe3",
   "metadata": {},
   "source": [
    "http://aprs.gids.nl/nmea/\n",
    "\n",
    "* GPGGA - Global Positioning System Fix Data\n",
    "\n",
    "    - Time \"004001.00\" => The time is 00:40:01 in GMT\n",
    "    - **Latitude \"3810.18002,S\"**\n",
    "    - **Longitude \"14506.69684,E\"**\n",
    "    - Fix Quality \"1\" = GPS fix.  0=Invalid, 2=DGPS fix.\n",
    "    - Number of Satellites \"11\" = 11 Satellites are in view\n",
    "    - Horizontal Dilution of Precision (HDOP) \"0.85\"\n",
    "    - **Altitude \"43.6,M\"**\n",
    "    - Height of geoid above WGS84 ellipsoid \"-2.7,M\"\n",
    "    - DGPS reference station id \"\"\n",
    "    - Checksum \"*6B\"\n",
    "    \n",
    "* GPRMC - Recommended minimum specific GPS/Transit data\n",
    "    - Time \"004009.00\" => The time is 00:40:09 in GMT\n",
    "    - Validity \"A\" => A=OK, V=invalid\n",
    "    - **Latitude \"3810.17224,S\"**\n",
    "    - **Longitude \"14506.70055,E\"**\n",
    "    - Speed in knots \"29.706\" ==> converts to 55kmph. 1 knot = 1.852 kmph.\n",
    "    - **True course \"20.61\" => bearing**\n",
    "    - Date stamp \"240921\" => 24th of September 2021\n",
    "    - Variation \"\"\n",
    "    - East/West \"\"\n",
    "    - Checksum \"A*74\"\n",
    "    \n",
    "* GPGSA - GPS DOP and active satellites\n",
    "    * Ignore\n",
    "    \n",
    "* GPGSV - GPS Satellites in view\n",
    "    * Ignore\n",
    "    \n",
    "* GSENSORD - Sensor data, possibly specific to the device\n",
    "    * Ignore  \n",
    "    \n",
    "We are interested in latitude and longitude, of course, which can come from either GPGGA or GPRMC.  We are also interested in altitude (from GPGGA) and true course (from GPRMC) in case they come in handy.\n",
    "\n",
    "There are 61 instances of GPGGA in the file, and 60 instances of GPRMC in between.  They agree on the co-ords as at\n",
    "each timestamp.  We might as well parse them into a dictionary using the timestamp as the key."
   ]
  },
  {
   "cell_type": "markdown",
   "id": "375f5a80",
   "metadata": {},
   "source": [
    "## Code"
   ]
  },
  {
   "cell_type": "code",
   "execution_count": 2,
   "id": "610206d9",
   "metadata": {},
   "outputs": [],
   "source": [
    "# General imports\n",
    "import os\n",
    "import sys\n",
    "\n",
    "module_path_root = os.path.abspath(os.pardir)\n",
    "if module_path_root not in sys.path:\n",
    "    sys.path.append(module_path_root)\n",
    "    \n",
    "# Import local modules\n",
    "import osm_gsv_utils.dashcam_parser as dashcam_parser\n",
    "import osm_gsv_utils.lane_detection as lane_detection"
   ]
  },
  {
   "cell_type": "code",
   "execution_count": 3,
   "id": "b5941ee0",
   "metadata": {
    "scrolled": true
   },
   "outputs": [],
   "source": [
    "# Derived paths\n",
    "\n",
    "# Full path to the directory containing the MP4 videos and NMEA files\n",
    "dashcam_dir = os.path.join(module_path_root, 'data_sources', import_directory)\n",
    "\n",
    "# \"Split\" subdirectory where the output frames will be created, along with a \"metadata.csv\"\n",
    "# with metadata about each frame, loaded and interpolated from the NMEA files\n",
    "output_dir  = os.path.join(dashcam_dir, 'split')"
   ]
  },
  {
   "cell_type": "code",
   "execution_count": 4,
   "id": "83191e91",
   "metadata": {},
   "outputs": [],
   "source": [
    "# Initialise an object to parse dashcam footage and correlate it with NMEA data\n",
    "parser = dashcam_parser(source_fps=60, write_lane_images=True)"
   ]
  },
  {
   "cell_type": "code",
   "execution_count": 5,
   "id": "87dc6902",
   "metadata": {
    "scrolled": false
   },
   "outputs": [
    {
     "data": {
      "application/vnd.jupyter.widget-view+json": {
       "model_id": "432e0f459e7f442eb0fc962259d4def4",
       "version_major": 2,
       "version_minor": 0
      },
      "text/plain": [
       "  0%|          | 0/45 [00:00<?, ?it/s]"
      ]
     },
     "metadata": {},
     "output_type": "display_data"
    },
    {
     "data": {
      "application/vnd.jupyter.widget-view+json": {
       "model_id": "bfbb6e733c18494e821edb0519ae277b",
       "version_major": 2,
       "version_minor": 0
      },
      "text/plain": [
       "FILE210924-100801F:   0%|          | 0/3612 [00:00<?, ?it/s]"
      ]
     },
     "metadata": {},
     "output_type": "display_data"
    },
    {
     "data": {
      "application/vnd.jupyter.widget-view+json": {
       "model_id": "a91fc18fea9c40b2904b86eb9ba3a403",
       "version_major": 2,
       "version_minor": 0
      },
      "text/plain": [
       "FILE210924-100902F:   0%|          | 0/3612 [00:00<?, ?it/s]"
      ]
     },
     "metadata": {},
     "output_type": "display_data"
    },
    {
     "data": {
      "application/vnd.jupyter.widget-view+json": {
       "model_id": "5d9a0af0a7844fe68224ab75fbf3153c",
       "version_major": 2,
       "version_minor": 0
      },
      "text/plain": [
       "FILE210924-101002F:   0%|          | 0/3612 [00:00<?, ?it/s]"
      ]
     },
     "metadata": {},
     "output_type": "display_data"
    },
    {
     "data": {
      "application/vnd.jupyter.widget-view+json": {
       "model_id": "48ba7e6782f040ccb36cb3adab989cb4",
       "version_major": 2,
       "version_minor": 0
      },
      "text/plain": [
       "FILE210924-101102F:   0%|          | 0/3612 [00:00<?, ?it/s]"
      ]
     },
     "metadata": {},
     "output_type": "display_data"
    },
    {
     "data": {
      "application/vnd.jupyter.widget-view+json": {
       "model_id": "3d1d25986bc748d59ccbf6569cc46790",
       "version_major": 2,
       "version_minor": 0
      },
      "text/plain": [
       "FILE210924-101202F:   0%|          | 0/3612 [00:00<?, ?it/s]"
      ]
     },
     "metadata": {},
     "output_type": "display_data"
    },
    {
     "data": {
      "application/vnd.jupyter.widget-view+json": {
       "model_id": "fa5da2cf43174e21beb9ecbf016e0377",
       "version_major": 2,
       "version_minor": 0
      },
      "text/plain": [
       "FILE210924-101303F:   0%|          | 0/3612 [00:00<?, ?it/s]"
      ]
     },
     "metadata": {},
     "output_type": "display_data"
    },
    {
     "data": {
      "application/vnd.jupyter.widget-view+json": {
       "model_id": "94cc190626af43ea9e6ba94b79ea7502",
       "version_major": 2,
       "version_minor": 0
      },
      "text/plain": [
       "FILE210924-101403F:   0%|          | 0/3612 [00:00<?, ?it/s]"
      ]
     },
     "metadata": {},
     "output_type": "display_data"
    },
    {
     "data": {
      "application/vnd.jupyter.widget-view+json": {
       "model_id": "f23e26b9e4cf44d1aa4a48da113617e5",
       "version_major": 2,
       "version_minor": 0
      },
      "text/plain": [
       "FILE210924-101503F:   0%|          | 0/3612 [00:00<?, ?it/s]"
      ]
     },
     "metadata": {},
     "output_type": "display_data"
    },
    {
     "data": {
      "application/vnd.jupyter.widget-view+json": {
       "model_id": "04054d930c914ec29a9de853d3743c91",
       "version_major": 2,
       "version_minor": 0
      },
      "text/plain": [
       "FILE210924-101603F:   0%|          | 0/3612 [00:00<?, ?it/s]"
      ]
     },
     "metadata": {},
     "output_type": "display_data"
    },
    {
     "data": {
      "application/vnd.jupyter.widget-view+json": {
       "model_id": "a89915c15a99461c88edbdbd0e2b84b4",
       "version_major": 2,
       "version_minor": 0
      },
      "text/plain": [
       "FILE210924-101704F:   0%|          | 0/3612 [00:00<?, ?it/s]"
      ]
     },
     "metadata": {},
     "output_type": "display_data"
    },
    {
     "data": {
      "application/vnd.jupyter.widget-view+json": {
       "model_id": "d02cf9b2755648b78eb19e40e451324a",
       "version_major": 2,
       "version_minor": 0
      },
      "text/plain": [
       "FILE210924-101804F:   0%|          | 0/3612 [00:00<?, ?it/s]"
      ]
     },
     "metadata": {},
     "output_type": "display_data"
    },
    {
     "data": {
      "application/vnd.jupyter.widget-view+json": {
       "model_id": "79bf16bbfb894d1aa5e04fe0b670ad42",
       "version_major": 2,
       "version_minor": 0
      },
      "text/plain": [
       "FILE210924-101904F:   0%|          | 0/3612 [00:00<?, ?it/s]"
      ]
     },
     "metadata": {},
     "output_type": "display_data"
    },
    {
     "name": "stdout",
     "output_type": "stream",
     "text": [
      "WARNING: processing line [FILE210924-102004F] [$GPRMC,002006.00,V,,,,,,,240921,,,N*75\n",
      "], using previous values\n",
      "WARNING: processing line [FILE210924-102004F] [$GPGGA,002006.00,,,,,0,00,99.99,,,,,,*62\n",
      "], using previous values\n"
     ]
    },
    {
     "data": {
      "application/vnd.jupyter.widget-view+json": {
       "model_id": "9499fc36aa37427a9e46dff9c57654e8",
       "version_major": 2,
       "version_minor": 0
      },
      "text/plain": [
       "FILE210924-102004F:   0%|          | 0/3612 [00:00<?, ?it/s]"
      ]
     },
     "metadata": {},
     "output_type": "display_data"
    },
    {
     "data": {
      "application/vnd.jupyter.widget-view+json": {
       "model_id": "ef273c391ba84e3480a3cdd1361b6c2a",
       "version_major": 2,
       "version_minor": 0
      },
      "text/plain": [
       "FILE210924-102105F:   0%|          | 0/3612 [00:00<?, ?it/s]"
      ]
     },
     "metadata": {},
     "output_type": "display_data"
    },
    {
     "data": {
      "application/vnd.jupyter.widget-view+json": {
       "model_id": "b74b1b030a3a4b418b88fd0825c064c4",
       "version_major": 2,
       "version_minor": 0
      },
      "text/plain": [
       "FILE210924-102205F:   0%|          | 0/3612 [00:00<?, ?it/s]"
      ]
     },
     "metadata": {},
     "output_type": "display_data"
    },
    {
     "data": {
      "application/vnd.jupyter.widget-view+json": {
       "model_id": "bfa63e271edf400fba89e327fb6584bc",
       "version_major": 2,
       "version_minor": 0
      },
      "text/plain": [
       "FILE210924-102305F:   0%|          | 0/3612 [00:00<?, ?it/s]"
      ]
     },
     "metadata": {},
     "output_type": "display_data"
    },
    {
     "data": {
      "application/vnd.jupyter.widget-view+json": {
       "model_id": "402850259b454349be14d738c8005f7d",
       "version_major": 2,
       "version_minor": 0
      },
      "text/plain": [
       "FILE210924-102405F:   0%|          | 0/3612 [00:00<?, ?it/s]"
      ]
     },
     "metadata": {},
     "output_type": "display_data"
    },
    {
     "data": {
      "application/vnd.jupyter.widget-view+json": {
       "model_id": "3f5211af4ffa4116acbe4aca8ec980df",
       "version_major": 2,
       "version_minor": 0
      },
      "text/plain": [
       "FILE210924-102506F:   0%|          | 0/3612 [00:00<?, ?it/s]"
      ]
     },
     "metadata": {},
     "output_type": "display_data"
    },
    {
     "data": {
      "application/vnd.jupyter.widget-view+json": {
       "model_id": "51dbe0fe7dd047bdb27f59e2326e106a",
       "version_major": 2,
       "version_minor": 0
      },
      "text/plain": [
       "FILE210924-102606F:   0%|          | 0/3612 [00:00<?, ?it/s]"
      ]
     },
     "metadata": {},
     "output_type": "display_data"
    },
    {
     "data": {
      "application/vnd.jupyter.widget-view+json": {
       "model_id": "b71d81e9656a46adbdbadb922f5d2945",
       "version_major": 2,
       "version_minor": 0
      },
      "text/plain": [
       "FILE210924-102706F:   0%|          | 0/3612 [00:00<?, ?it/s]"
      ]
     },
     "metadata": {},
     "output_type": "display_data"
    },
    {
     "name": "stdout",
     "output_type": "stream",
     "text": [
      "WARNING: processing line [FILE210924-102806F] [$GPRMC,002903.00,V,,,,,,,240921,,,N*79\n",
      "], using previous values\n",
      "WARNING: processing line [FILE210924-102806F] [$GPGGA,002903.00,,,,,0,00,99.99,,,,,,*6E\n",
      "], using previous values\n"
     ]
    },
    {
     "data": {
      "application/vnd.jupyter.widget-view+json": {
       "model_id": "68d6246734664d6bba7ac7cd0aae518e",
       "version_major": 2,
       "version_minor": 0
      },
      "text/plain": [
       "FILE210924-102806F:   0%|          | 0/3612 [00:00<?, ?it/s]"
      ]
     },
     "metadata": {},
     "output_type": "display_data"
    },
    {
     "data": {
      "application/vnd.jupyter.widget-view+json": {
       "model_id": "c3e58623320144f8a0ea5c2214914f7f",
       "version_major": 2,
       "version_minor": 0
      },
      "text/plain": [
       "FILE210924-102907F:   0%|          | 0/3612 [00:00<?, ?it/s]"
      ]
     },
     "metadata": {},
     "output_type": "display_data"
    },
    {
     "data": {
      "application/vnd.jupyter.widget-view+json": {
       "model_id": "41c5f09d0fa343fbb631cc40ac2f54f4",
       "version_major": 2,
       "version_minor": 0
      },
      "text/plain": [
       "FILE210924-103007F:   0%|          | 0/3612 [00:00<?, ?it/s]"
      ]
     },
     "metadata": {},
     "output_type": "display_data"
    },
    {
     "data": {
      "application/vnd.jupyter.widget-view+json": {
       "model_id": "fd361302c3344ba990515ef628f7597d",
       "version_major": 2,
       "version_minor": 0
      },
      "text/plain": [
       "FILE210924-103107F:   0%|          | 0/3612 [00:00<?, ?it/s]"
      ]
     },
     "metadata": {},
     "output_type": "display_data"
    },
    {
     "data": {
      "application/vnd.jupyter.widget-view+json": {
       "model_id": "dd94d1f0099144c594160e96d65a9442",
       "version_major": 2,
       "version_minor": 0
      },
      "text/plain": [
       "FILE210924-103207F:   0%|          | 0/3612 [00:00<?, ?it/s]"
      ]
     },
     "metadata": {},
     "output_type": "display_data"
    },
    {
     "data": {
      "application/vnd.jupyter.widget-view+json": {
       "model_id": "09dc26bc058e430d943b5ec5c67aeb60",
       "version_major": 2,
       "version_minor": 0
      },
      "text/plain": [
       "FILE210924-103308F:   0%|          | 0/3612 [00:00<?, ?it/s]"
      ]
     },
     "metadata": {},
     "output_type": "display_data"
    },
    {
     "data": {
      "application/vnd.jupyter.widget-view+json": {
       "model_id": "39e6f7890c70427e86d3f2acd0911faf",
       "version_major": 2,
       "version_minor": 0
      },
      "text/plain": [
       "FILE210924-103408F:   0%|          | 0/3612 [00:00<?, ?it/s]"
      ]
     },
     "metadata": {},
     "output_type": "display_data"
    },
    {
     "data": {
      "application/vnd.jupyter.widget-view+json": {
       "model_id": "2192c3bc41c4497eaaf7867743c80a39",
       "version_major": 2,
       "version_minor": 0
      },
      "text/plain": [
       "FILE210924-103508F:   0%|          | 0/3612 [00:00<?, ?it/s]"
      ]
     },
     "metadata": {},
     "output_type": "display_data"
    },
    {
     "data": {
      "application/vnd.jupyter.widget-view+json": {
       "model_id": "7c600c5988b3466ab13327691ddb0d20",
       "version_major": 2,
       "version_minor": 0
      },
      "text/plain": [
       "FILE210924-103608F:   0%|          | 0/3612 [00:00<?, ?it/s]"
      ]
     },
     "metadata": {},
     "output_type": "display_data"
    },
    {
     "data": {
      "application/vnd.jupyter.widget-view+json": {
       "model_id": "3506e6a11b954c4c882f27b17aeec8f1",
       "version_major": 2,
       "version_minor": 0
      },
      "text/plain": [
       "FILE210924-103709F:   0%|          | 0/3612 [00:00<?, ?it/s]"
      ]
     },
     "metadata": {},
     "output_type": "display_data"
    },
    {
     "data": {
      "application/vnd.jupyter.widget-view+json": {
       "model_id": "fffa23e4a65041bda251d11256ddcd8f",
       "version_major": 2,
       "version_minor": 0
      },
      "text/plain": [
       "FILE210924-103809F:   0%|          | 0/3612 [00:00<?, ?it/s]"
      ]
     },
     "metadata": {},
     "output_type": "display_data"
    },
    {
     "data": {
      "application/vnd.jupyter.widget-view+json": {
       "model_id": "53bfa1da36ee4a638a3942aabf2f34b9",
       "version_major": 2,
       "version_minor": 0
      },
      "text/plain": [
       "FILE210924-103909F:   0%|          | 0/3612 [00:00<?, ?it/s]"
      ]
     },
     "metadata": {},
     "output_type": "display_data"
    },
    {
     "data": {
      "application/vnd.jupyter.widget-view+json": {
       "model_id": "139615fa1199425daea9ebe91abb82f3",
       "version_major": 2,
       "version_minor": 0
      },
      "text/plain": [
       "FILE210924-104009F:   0%|          | 0/3612 [00:00<?, ?it/s]"
      ]
     },
     "metadata": {},
     "output_type": "display_data"
    },
    {
     "data": {
      "application/vnd.jupyter.widget-view+json": {
       "model_id": "66bea69c1aab4556a1ceb87bb4100bf5",
       "version_major": 2,
       "version_minor": 0
      },
      "text/plain": [
       "FILE210924-104110F:   0%|          | 0/3612 [00:00<?, ?it/s]"
      ]
     },
     "metadata": {},
     "output_type": "display_data"
    },
    {
     "data": {
      "application/vnd.jupyter.widget-view+json": {
       "model_id": "46172a7f23bd4eb99be71b3165ab9928",
       "version_major": 2,
       "version_minor": 0
      },
      "text/plain": [
       "FILE210924-104210F:   0%|          | 0/3612 [00:00<?, ?it/s]"
      ]
     },
     "metadata": {},
     "output_type": "display_data"
    },
    {
     "data": {
      "application/vnd.jupyter.widget-view+json": {
       "model_id": "a8a02cf46ca84efcac5d15885a9bb0ae",
       "version_major": 2,
       "version_minor": 0
      },
      "text/plain": [
       "FILE210924-104310F:   0%|          | 0/3612 [00:00<?, ?it/s]"
      ]
     },
     "metadata": {},
     "output_type": "display_data"
    },
    {
     "data": {
      "application/vnd.jupyter.widget-view+json": {
       "model_id": "aeea53bcf856478eb0839af89aa0292d",
       "version_major": 2,
       "version_minor": 0
      },
      "text/plain": [
       "FILE210924-104410F:   0%|          | 0/3612 [00:00<?, ?it/s]"
      ]
     },
     "metadata": {},
     "output_type": "display_data"
    },
    {
     "data": {
      "application/vnd.jupyter.widget-view+json": {
       "model_id": "e0794f2cfdfe485ea26487a564758867",
       "version_major": 2,
       "version_minor": 0
      },
      "text/plain": [
       "FILE210924-104511F:   0%|          | 0/3612 [00:00<?, ?it/s]"
      ]
     },
     "metadata": {},
     "output_type": "display_data"
    },
    {
     "data": {
      "application/vnd.jupyter.widget-view+json": {
       "model_id": "3b949b45a0d647b9a44f5ca98cbc90ca",
       "version_major": 2,
       "version_minor": 0
      },
      "text/plain": [
       "FILE210924-104611F:   0%|          | 0/3612 [00:00<?, ?it/s]"
      ]
     },
     "metadata": {},
     "output_type": "display_data"
    },
    {
     "data": {
      "application/vnd.jupyter.widget-view+json": {
       "model_id": "8e9217b8a24443ada10b528a31cf14f6",
       "version_major": 2,
       "version_minor": 0
      },
      "text/plain": [
       "FILE210924-104711F:   0%|          | 0/3612 [00:00<?, ?it/s]"
      ]
     },
     "metadata": {},
     "output_type": "display_data"
    },
    {
     "data": {
      "application/vnd.jupyter.widget-view+json": {
       "model_id": "03160056cce0421c8aee3307e16c7421",
       "version_major": 2,
       "version_minor": 0
      },
      "text/plain": [
       "FILE210924-104811F:   0%|          | 0/3612 [00:00<?, ?it/s]"
      ]
     },
     "metadata": {},
     "output_type": "display_data"
    },
    {
     "data": {
      "application/vnd.jupyter.widget-view+json": {
       "model_id": "11a8ec59344541648e45d203d9a62bab",
       "version_major": 2,
       "version_minor": 0
      },
      "text/plain": [
       "FILE210924-104911F:   0%|          | 0/3612 [00:00<?, ?it/s]"
      ]
     },
     "metadata": {},
     "output_type": "display_data"
    },
    {
     "data": {
      "application/vnd.jupyter.widget-view+json": {
       "model_id": "89ed85dcc8fb4f53933b06f84d1ba6a9",
       "version_major": 2,
       "version_minor": 0
      },
      "text/plain": [
       "FILE210924-105012F:   0%|          | 0/3612 [00:00<?, ?it/s]"
      ]
     },
     "metadata": {},
     "output_type": "display_data"
    },
    {
     "data": {
      "application/vnd.jupyter.widget-view+json": {
       "model_id": "abb6e2d41fa047c185a9254393d3f6e7",
       "version_major": 2,
       "version_minor": 0
      },
      "text/plain": [
       "FILE210924-105112F:   0%|          | 0/3612 [00:00<?, ?it/s]"
      ]
     },
     "metadata": {},
     "output_type": "display_data"
    },
    {
     "data": {
      "application/vnd.jupyter.widget-view+json": {
       "model_id": "e0492f52563e46aaad6f8c90eded5d9c",
       "version_major": 2,
       "version_minor": 0
      },
      "text/plain": [
       "FILE210924-105212F:   0%|          | 0/3612 [00:00<?, ?it/s]"
      ]
     },
     "metadata": {},
     "output_type": "display_data"
    }
   ],
   "source": [
    "# Split all videos in the directory at the required output frames per second\n",
    "parser.split_videos(dashcam_dir, output_dir, output_fps=output_fps, suffix='MP4', verbose=False)\n",
    "\n",
    "# First progress bar shows progress through the input video files\n",
    "# Subsequent progress bar shows progress within an individual video\n",
    "\n",
    "# Ignore occasional warning \"processing line\" due to missing fields in NMEA file.\n",
    "# As long as there are only a few of these, the values will be interpolated\n",
    "# from nearby entries."
   ]
  }
 ],
 "metadata": {
  "kernelspec": {
   "display_name": "gpuEnv",
   "language": "python",
   "name": "gpuenv"
  },
  "language_info": {
   "codemirror_mode": {
    "name": "ipython",
    "version": 3
   },
   "file_extension": ".py",
   "mimetype": "text/x-python",
   "name": "python",
   "nbconvert_exporter": "python",
   "pygments_lexer": "ipython3",
   "version": "3.8.11"
  }
 },
 "nbformat": 4,
 "nbformat_minor": 5
}
