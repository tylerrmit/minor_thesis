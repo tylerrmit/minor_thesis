{
 "cells": [
  {
   "cell_type": "markdown",
   "id": "474c5112",
   "metadata": {},
   "source": [
    "# Filter OpenStreetMap data to a locality\n",
    "\n",
    "Using:\n",
    "\n",
    "* A GeoJSON file provided by the local government with the bounary for each locality (Victoria)\n",
    "* The latest OpenStreetMap data for Australia downloaded from GeoFabrik\n",
    "* The osmium tool to apply filtering and convert file formats"
   ]
  },
  {
   "cell_type": "markdown",
   "id": "4c45468b",
   "metadata": {},
   "source": [
    "## 1. Create GeoJSON file for the selected locality"
   ]
  },
  {
   "cell_type": "code",
   "execution_count": 1,
   "id": "fd0e7660",
   "metadata": {},
   "outputs": [],
   "source": [
    "import os\n",
    "import sys\n",
    "\n",
    "# Make sure local modules can be imported\n",
    "module_path_root = os.path.abspath(os.pardir)\n",
    "if module_path_root not in sys.path:\n",
    "    sys.path.append(module_path_root)"
   ]
  },
  {
   "cell_type": "code",
   "execution_count": 2,
   "id": "151edac3",
   "metadata": {},
   "outputs": [
    {
     "name": "stdout",
     "output_type": "stream",
     "text": [
      "D:\\TensorFlow2\\TFODCourse\\minor_thesis\n"
     ]
    }
   ],
   "source": [
    "print(module_path_root)"
   ]
  },
  {
   "cell_type": "code",
   "execution_count": 3,
   "id": "d76d8327",
   "metadata": {},
   "outputs": [],
   "source": [
    "# Import local modules\n",
    "import osm_gsv_utils.osm_filter as osm_filter"
   ]
  },
  {
   "cell_type": "code",
   "execution_count": 4,
   "id": "cd89441e",
   "metadata": {},
   "outputs": [],
   "source": [
    "# Change to parent directory from \"jupyter\" notebook folder\n",
    "os.chdir(os.pardir)"
   ]
  },
  {
   "cell_type": "code",
   "execution_count": 5,
   "id": "3786f299",
   "metadata": {},
   "outputs": [],
   "source": [
    "# Load the localities information, provided by the local government\n",
    "vic_localities = osm_filter(os.path.join('data_sources', 'LGA_boundaries_VIC.geojson'))"
   ]
  },
  {
   "cell_type": "code",
   "execution_count": 6,
   "id": "275d2b4b",
   "metadata": {},
   "outputs": [
    {
     "name": "stdout",
     "output_type": "stream",
     "text": [
      "Bounding box excl margin: -38.224989, 145.061002 => -38.162589, 145.128750\n",
      "Bounding box with margin: -38.226263, 145.059387 => -38.161315, 145.130364\n",
      "\n",
      "Run the following two osmium commands:\n",
      "\n",
      "First command:  Extract OSM data according to the official \"shape\" of the Locality\n",
      "\n",
      "osmium extract --polygon=Locality_Mount_Eliza.geojson australia-latest.osm.pbf -o Locality_Mount_Eliza.osm\n",
      "\n",
      "Second command:  Extract OSM data for a bounding box 200 meters bigger than the \"shape\"\n",
      "This second extract will be used to ensure we do not miss any intersections with streets that are JUST outside the locality\n",
      "\n",
      "osmium extract --polygon=Locality_Mount_Eliza_margin.geojson australia-latest.osm.pbf -o Locality_Mount_Eliza.osm\n"
     ]
    }
   ],
   "source": [
    "# Filter localities information down to a single town, and save as a new GeoJSON file\n",
    "locality = 'Mount Eliza'\n",
    "\n",
    "locality_clean = locality.replace(' ', '_')\n",
    "\n",
    "output_filename_shape = os.path.join('data_sources', 'Locality_' + locality_clean + '.geojson')\n",
    "output_filename_margin = os.path.join('data_sources', 'Locality_' + locality_clean + '_margin.geojson')\n",
    "\n",
    "vic_localities.save_locality(locality_clean, output_filename_shape, output_filename_margin, locality)"
   ]
  },
  {
   "cell_type": "markdown",
   "id": "3d282db6",
   "metadata": {},
   "source": [
    "## 2. Use osmium to filter OpenStreetMap extract to the locality\n",
    "\n",
    "Obtain \"osmium\" (https://osmcode.org/osmium-tool/)\n",
    "\n",
    "On MacOS, install \"homebrew\" (if not already installed) via https://brew.sh/\n",
    "Then run \"brew install osmium-tool\"\n",
    "\n",
    "On Windows, the easiest way to install is probably to install \"Windows Subsystem for Linux\" with an Ubuntu distribution, then install \"osmium-tool\" as per the instructions for Ubuntu.\n",
    "\n",
    "On Ubuntu linux, run \"sudo apt-get install osmium-tool\"\n",
    "\n",
    "Once the tool is installed, run the two \"osmium extract\" commands listed in the results of the above cell\n"
   ]
  }
 ],
 "metadata": {
  "kernelspec": {
   "display_name": "Python 3",
   "language": "python",
   "name": "python3"
  },
  "language_info": {
   "codemirror_mode": {
    "name": "ipython",
    "version": 3
   },
   "file_extension": ".py",
   "mimetype": "text/x-python",
   "name": "python",
   "nbconvert_exporter": "python",
   "pygments_lexer": "ipython3",
   "version": "3.8.11"
  }
 },
 "nbformat": 4,
 "nbformat_minor": 5
}
