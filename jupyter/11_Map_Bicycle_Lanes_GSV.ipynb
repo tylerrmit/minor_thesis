{
 "cells": [
  {
   "cell_type": "markdown",
   "id": "3784c95f",
   "metadata": {},
   "source": [
    "# 11. Map Bicycle Lanes GSV\n",
    "\n",
    "Draw maps to compare the bicycle lane routes detected from GSV images in a survey area vs. the OpenStreetMap cycleways and the Principal Bicycle Network"
   ]
  },
  {
   "cell_type": "markdown",
   "id": "d7ac5bd6",
   "metadata": {},
   "source": [
    "## Configuration\n",
    "\n",
    "Any configuration that is required to run this notebook can be customized in the next cell"
   ]
  },
  {
   "cell_type": "code",
   "execution_count": 1,
   "id": "27eb8f15",
   "metadata": {},
   "outputs": [],
   "source": [
    "# Which \"locality\" do we wish to process?\n",
    "# Assumes that we can find a pair of OSM files with corresponding names,\n",
    "# extracted with the \"osmium\" tool.  One file follows the official shape of\n",
    "# the locality, while a second file follows a bounding box around the locality\n",
    "# with a 200m margin, so that when we are looking for intersections, we don't\n",
    "# miss any due to the intersecting road being just outside the boundary of the\n",
    "# locality (apart from the intersection).\n",
    "locality = 'Mount Eliza Sample'\n",
    "\n",
    "# We will sample the middle of each intersection, but we can also sample a\n",
    "# \"margin\" around the intersection, at 10m intervals.\n",
    "# E.g. if we set this to \"20\" then we will sample points at:\n",
    "#    -20m, -10m, 0m, 10m, and 20m\n",
    "# from the centre of the intersection, along the assumed bearing of the road\n",
    "margin = 20\n",
    "\n",
    "# Default zoom level for maps\n",
    "zoom = 14"
   ]
  },
  {
   "cell_type": "markdown",
   "id": "e03e7616",
   "metadata": {},
   "source": [
    "## Code"
   ]
  },
  {
   "cell_type": "code",
   "execution_count": 2,
   "id": "7a12cc14",
   "metadata": {},
   "outputs": [],
   "source": [
    "# General imports\n",
    "import json\n",
    "import os\n",
    "import sys\n",
    "\n",
    "from ipyleaflet import Map, Marker, GeoJSON\n",
    "\n",
    "import pandas as pd\n",
    "\n",
    "# Make sure local modules can be imported\n",
    "module_path_root = os.path.abspath(os.pardir)\n",
    "if module_path_root not in sys.path:\n",
    "    sys.path.append(module_path_root)\n",
    "    \n",
    "# Import local modules\n",
    "import osm_gsv_utils.detection_map as detection_map"
   ]
  },
  {
   "cell_type": "code",
   "execution_count": 3,
   "id": "1207728f",
   "metadata": {},
   "outputs": [],
   "source": [
    "# Derive paths for configuration\n",
    "\n",
    "# A version of the locality name with spaces replaced by underscores\n",
    "locality_clean   = locality.replace(' ', '_')\n",
    "\n",
    "# Name of the locality with the margin around intersections included\n",
    "locality_margin  = '{0:s}_{1:d}m'.format(locality_clean, margin)\n",
    "\n",
    "# Detection log with individual points\n",
    "detection_log = os.path.join(module_path_root, 'detections', locality_margin, 'detection_log.csv')\n",
    "\n",
    "# Geojson files of detectsions and comparisons to OSM\n",
    "detected_filename = os.path.join(module_path_root, 'detections', locality_margin, 'hit.geojson')\n",
    "tag_filename      = os.path.join(module_path_root, 'detections', locality_margin, 'tag.geojson')\n",
    "both_filename     = os.path.join(module_path_root, 'detections', locality_margin, 'both.geojson')\n",
    "hit_only_filename = os.path.join(module_path_root, 'detections', locality_margin, 'hit_only.geojson')\n",
    "tag_only_filename = os.path.join(module_path_root, 'detections', locality_margin, 'tag_only.geojson')\n",
    "\n",
    "# Geojson file describing the outline of the survey area\n",
    "margin_filename   = os.path.join(module_path_root, 'data_sources', 'Locality_{0:s}_margin.geojson'.format(locality_clean))\n",
    "\n",
    "# Geojson file describing the exact outline of the town\n",
    "LGA_locality = locality.replace(' Sample', '')\n",
    "locality_filename = os.path.join(os.pardir, 'data_sources', 'LGA_boundary_' + LGA_locality + '.geojson')"
   ]
  },
  {
   "cell_type": "markdown",
   "id": "1edcbaf5",
   "metadata": {},
   "source": [
    "## Map 1: Detection Points\n",
    "\n",
    "Display detections as points on the map, with bounding box for the survey area"
   ]
  },
  {
   "cell_type": "code",
   "execution_count": 4,
   "id": "fc4d3a72",
   "metadata": {},
   "outputs": [
    {
     "name": "stdout",
     "output_type": "stream",
     "text": [
      "Point count: 92\n"
     ]
    },
    {
     "data": {
      "application/vnd.jupyter.widget-view+json": {
       "model_id": "8edf9601ae044a218bee6f43e58ac8de",
       "version_major": 2,
       "version_minor": 0
      },
      "text/plain": [
       "Map(center=[-38.169, 145.102], controls=(ZoomControl(options=['position', 'zoom_in_text', 'zoom_in_title', 'zo…"
      ]
     },
     "metadata": {},
     "output_type": "display_data"
    }
   ],
   "source": [
    "# Load boundary of the survey area, so we can draw it on the map\n",
    "margin_layer, margin_data = detection_map.load_layer(margin_filename)\n",
    "\n",
    "# Find the center of the survey area, so we can center the map\n",
    "center = detection_map.get_centroid(margin_data)\n",
    "\n",
    "# Create the lap and add the survey area boundary as a layer\n",
    "m1 = Map(center=center, zoom=zoom)\n",
    "m1.add_layer(margin_layer)\n",
    "\n",
    "# Load detected points and add to map\n",
    "count = detection_map.load_points(m1, detection_log)\n",
    "print('Point count: ' + str(count))\n",
    "\n",
    "# Display the map\n",
    "m1"
   ]
  },
  {
   "cell_type": "markdown",
   "id": "7701aedd",
   "metadata": {},
   "source": [
    "## Map 2: Detected bicycle lane routes\n",
    "\n",
    "Infer bicycle lane routes based on the points at which bicycle lane markings were detected by the model"
   ]
  },
  {
   "cell_type": "code",
   "execution_count": 5,
   "id": "3db3012d",
   "metadata": {},
   "outputs": [
    {
     "data": {
      "application/vnd.jupyter.widget-view+json": {
       "model_id": "dbc5328f63184c3d884f30e091e07766",
       "version_major": 2,
       "version_minor": 0
      },
      "text/plain": [
       "Map(center=[-38.169, 145.102], controls=(ZoomControl(options=['position', 'zoom_in_text', 'zoom_in_title', 'zo…"
      ]
     },
     "metadata": {},
     "output_type": "display_data"
    }
   ],
   "source": [
    "# Load lines that we drew from the detected points\n",
    "detected_layer, detected_data = detection_map.load_layer(detected_filename, color='red')\n",
    "\n",
    "# Build the map from the boundary of the survey area, and the detected lanes layer\n",
    "m2 = Map(center=center, zoom=zoom)\n",
    "m2.add_layer(margin_layer)\n",
    "m2.add_layer(detected_layer)\n",
    "\n",
    "# Display the map\n",
    "m2"
   ]
  },
  {
   "cell_type": "markdown",
   "id": "405a28da",
   "metadata": {},
   "source": [
    "## Map 3: Cycleways according to OpenStreetMap\n",
    "\n",
    "We created this map at the same time as we drew the detected bicycle lane routes in map 2, above, and the comparison maps in map 4, below."
   ]
  },
  {
   "cell_type": "code",
   "execution_count": 6,
   "id": "80f72e35",
   "metadata": {},
   "outputs": [
    {
     "data": {
      "application/vnd.jupyter.widget-view+json": {
       "model_id": "e1a43eabb861457fa3d0ac67f96bfbc3",
       "version_major": 2,
       "version_minor": 0
      },
      "text/plain": [
       "Map(center=[-38.169, 145.102], controls=(ZoomControl(options=['position', 'zoom_in_text', 'zoom_in_title', 'zo…"
      ]
     },
     "metadata": {},
     "output_type": "display_data"
    }
   ],
   "source": [
    "# Load lines that we drew from the detected points\n",
    "tag_layer, tag_data = detection_map.load_layer(tag_filename, color='red')\n",
    "\n",
    "# Build the map\n",
    "m3 = Map(center=center, zoom=zoom)\n",
    "m3.add_layer(margin_layer)\n",
    "m3.add_layer(tag_layer)\n",
    "\n",
    "# Display the map\n",
    "m3"
   ]
  },
  {
   "cell_type": "markdown",
   "id": "a5d187cd",
   "metadata": {},
   "source": [
    "## Map 4: Comparison of Detection Model and OpenStreetMap\n",
    "\n",
    "Highlight bicycle lane routes that were either detected by the model, or tagged as cycleways in OpenStreetMap.\n",
    "\n",
    "* If both sources agree, then the route is drawn in green.\n",
    "* If the route was only detected by our model, it is drawn in blue.\n",
    "* If OpenStreetMap has a route taggeed that our model did not detect, it is drawn in red."
   ]
  },
  {
   "cell_type": "code",
   "execution_count": 7,
   "id": "c87b9be6",
   "metadata": {},
   "outputs": [
    {
     "data": {
      "application/vnd.jupyter.widget-view+json": {
       "model_id": "c68bdf8e17fb4aa4975148767b1dba47",
       "version_major": 2,
       "version_minor": 0
      },
      "text/plain": [
       "Map(center=[-38.169, 145.102], controls=(ZoomControl(options=['position', 'zoom_in_text', 'zoom_in_title', 'zo…"
      ]
     },
     "metadata": {},
     "output_type": "display_data"
    }
   ],
   "source": [
    "# Load lines that we drew from the detected points when we compared to OpenStreetMap\n",
    "both_layer,     both_data     = detection_map.load_layer(both_filename,     color='green')\n",
    "hit_only_layer, hit_only_data = detection_map.load_layer(hit_only_filename, color='blue')\n",
    "tag_only_layer, tag_only_data = detection_map.load_layer(tag_only_filename, color='red')\n",
    "\n",
    "# Build the map\n",
    "m4 = Map(center=center, zoom=zoom)\n",
    "m4.add_layer(margin_layer)\n",
    "m4.add_layer(both_layer)\n",
    "m4.add_layer(hit_only_layer)\n",
    "m4.add_layer(tag_only_layer)\n",
    "\n",
    "# Display the map\n",
    "m4"
   ]
  },
  {
   "cell_type": "markdown",
   "id": "db444af8",
   "metadata": {},
   "source": [
    "## TODO: Comments to put in Results section of thesis\n",
    "\n",
    "OSM is missing a segment of Nepean Highway from Mount Eliza Way to Old Mornington Road.\n",
    "\n",
    "This corresponds to way id=\"204762387\".  It is NOT tagged with a \"cycleway\", it is tagged with \"bicycle\"=\"yes\" and \"foot\"=\"yes\".  This generally means that bicycle traffic (and foot traffic) is allowed, but not that there is a cycleway.\n",
    "\n",
    "The small segment that is missing on Humphries Road from Walkers Road to Overport road was clipped in the OSM extract for the locality, it is just outside the official shape of the locality.  If we widen our OSM extract we can see that it is a cycleway.  way id=\"671976035\"."
   ]
  }
 ],
 "metadata": {
  "kernelspec": {
   "display_name": "gpuEnv",
   "language": "python",
   "name": "gpuenv"
  },
  "language_info": {
   "codemirror_mode": {
    "name": "ipython",
    "version": 3
   },
   "file_extension": ".py",
   "mimetype": "text/x-python",
   "name": "python",
   "nbconvert_exporter": "python",
   "pygments_lexer": "ipython3",
   "version": "3.8.11"
  }
 },
 "nbformat": 4,
 "nbformat_minor": 5
}
