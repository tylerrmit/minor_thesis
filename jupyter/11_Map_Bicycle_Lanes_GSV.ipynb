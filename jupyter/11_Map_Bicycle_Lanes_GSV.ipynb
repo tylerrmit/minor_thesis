{
 "cells": [
  {
   "cell_type": "markdown",
   "id": "3784c95f",
   "metadata": {},
   "source": [
    "# 11. Map Bicycle Lanes GSV\n",
    "\n",
    "Draw maps to compare the bicycle lane routes detected from GSV images in a survey area vs. the OpenStreetMap cycleways and the Principal Bicycle Network"
   ]
  },
  {
   "cell_type": "markdown",
   "id": "d7ac5bd6",
   "metadata": {},
   "source": [
    "## Configuration\n",
    "\n",
    "Any configuration that is required to run this notebook can be customized in the next cell"
   ]
  },
  {
   "cell_type": "code",
   "execution_count": 4,
   "id": "27eb8f15",
   "metadata": {},
   "outputs": [],
   "source": [
    "# Which \"locality\" do we wish to process?\n",
    "# Assumes that we can find a pair of OSM files with corresponding names,\n",
    "# extracted with the \"osmium\" tool.  One file follows the official shape of\n",
    "# the locality, while a second file follows a bounding box around the locality\n",
    "# with a 200m margin, so that when we are looking for intersections, we don't\n",
    "# miss any due to the intersecting road being just outside the boundary of the\n",
    "# locality (apart from the intersection).\n",
    "locality = 'Mount Eliza Sample'\n",
    "\n",
    "# We will sample the middle of each intersection, but we can also sample a\n",
    "# \"margin\" around the intersection, at 10m intervals.\n",
    "# E.g. if we set this to \"20\" then we will sample points at:\n",
    "#    -20m, -10m, 0m, 10m, and 20m\n",
    "# from the centre of the intersection, along the assumed bearing of the road\n",
    "margin = 20\n",
    "\n",
    "# Default zoom level for maps\n",
    "zoom = 14"
   ]
  },
  {
   "cell_type": "markdown",
   "id": "e03e7616",
   "metadata": {},
   "source": [
    "## Code"
   ]
  },
  {
   "cell_type": "code",
   "execution_count": 5,
   "id": "7a12cc14",
   "metadata": {},
   "outputs": [],
   "source": [
    "# General imports\n",
    "import json\n",
    "import os\n",
    "import sys\n",
    "\n",
    "from ipyleaflet import Map, Marker, GeoJSON\n",
    "\n",
    "import pandas as pd\n",
    "\n",
    "# Make sure local modules can be imported\n",
    "module_path_root = os.path.abspath(os.pardir)\n",
    "if module_path_root not in sys.path:\n",
    "    sys.path.append(module_path_root)\n",
    "    \n",
    "# Import local modules\n",
    "import osm_gsv_utils.detection_map as detection_map"
   ]
  },
  {
   "cell_type": "code",
   "execution_count": 6,
   "id": "1207728f",
   "metadata": {},
   "outputs": [],
   "source": [
    "# Derive paths for configuration\n",
    "\n",
    "# A version of the locality name with spaces replaced by underscores\n",
    "locality_clean   = locality.replace(' ', '_')\n",
    "\n",
    "# Name of the locality with the margin around intersections included\n",
    "locality_margin  = '{0:s}_{1:d}m'.format(locality_clean, margin)\n",
    "\n",
    "# Detection log with individual points\n",
    "detection_log = os.path.join(module_path_root, 'detections', locality_margin, 'detection_log.csv')\n",
    "\n",
    "# Geojson files of detectsions and comparisons to OSM\n",
    "detected_filename = os.path.join(module_path_root, 'detections', locality_margin, 'hit.geojson')\n",
    "tag_filename      = os.path.join(module_path_root, 'detections', locality_margin, 'tag.geojson')\n",
    "both_filename     = os.path.join(module_path_root, 'detections', locality_margin, 'both.geojson')\n",
    "hit_only_filename = os.path.join(module_path_root, 'detections', locality_margin, 'hit_only.geojson')\n",
    "tag_only_filename = os.path.join(module_path_root, 'detections', locality_margin, 'tag_only.geojson')\n",
    "\n",
    "# Geojson file describing the outline of the survey area\n",
    "margin_filename   = os.path.join(module_path_root, 'data_sources', 'Locality_{0:s}_margin.geojson'.format(locality_clean))\n",
    "\n",
    "# ???\n",
    "locality_filename = os.path.join(os.pardir, 'data_sources', 'LGA_boundary_Mount_Eliza.geojson')\n"
   ]
  },
  {
   "cell_type": "code",
   "execution_count": 7,
   "id": "fc4d3a72",
   "metadata": {},
   "outputs": [
    {
     "ename": "FileNotFoundError",
     "evalue": "[Errno 2] No such file or directory: 'E:\\\\Release\\\\minor_thesis\\\\detections\\\\Mount_Eliza_Sample_20m\\\\detection_log.csv'",
     "output_type": "error",
     "traceback": [
      "\u001b[1;31m---------------------------------------------------------------------------\u001b[0m",
      "\u001b[1;31mFileNotFoundError\u001b[0m                         Traceback (most recent call last)",
      "\u001b[1;32m<ipython-input-7-876081b6df76>\u001b[0m in \u001b[0;36m<module>\u001b[1;34m\u001b[0m\n\u001b[0;32m      8\u001b[0m \u001b[1;33m\u001b[0m\u001b[0m\n\u001b[0;32m      9\u001b[0m \u001b[1;31m# Load detected points and add to map\u001b[0m\u001b[1;33m\u001b[0m\u001b[1;33m\u001b[0m\u001b[1;33m\u001b[0m\u001b[0m\n\u001b[1;32m---> 10\u001b[1;33m \u001b[0mcount\u001b[0m \u001b[1;33m=\u001b[0m \u001b[0mdetection_map\u001b[0m\u001b[1;33m.\u001b[0m\u001b[0mload_points\u001b[0m\u001b[1;33m(\u001b[0m\u001b[0mm_detect1\u001b[0m\u001b[1;33m,\u001b[0m \u001b[0mdetection_log\u001b[0m\u001b[1;33m)\u001b[0m\u001b[1;33m\u001b[0m\u001b[1;33m\u001b[0m\u001b[0m\n\u001b[0m\u001b[0;32m     11\u001b[0m \u001b[0mprint\u001b[0m\u001b[1;33m(\u001b[0m\u001b[1;34m'Point count: '\u001b[0m \u001b[1;33m+\u001b[0m \u001b[0mstr\u001b[0m\u001b[1;33m(\u001b[0m\u001b[0mcount\u001b[0m\u001b[1;33m)\u001b[0m\u001b[1;33m)\u001b[0m\u001b[1;33m\u001b[0m\u001b[1;33m\u001b[0m\u001b[0m\n\u001b[0;32m     12\u001b[0m \u001b[1;33m\u001b[0m\u001b[0m\n",
      "\u001b[1;32mE:\\Release\\minor_thesis\\osm_gsv_utils\\detection_map.py\u001b[0m in \u001b[0;36mload_points\u001b[1;34m(map, filename)\u001b[0m\n\u001b[0;32m     55\u001b[0m     \u001b[1;33m@\u001b[0m\u001b[0mstaticmethod\u001b[0m\u001b[1;33m\u001b[0m\u001b[1;33m\u001b[0m\u001b[0m\n\u001b[0;32m     56\u001b[0m     \u001b[1;32mdef\u001b[0m \u001b[0mload_points\u001b[0m\u001b[1;33m(\u001b[0m\u001b[0mmap\u001b[0m\u001b[1;33m,\u001b[0m \u001b[0mfilename\u001b[0m\u001b[1;33m)\u001b[0m\u001b[1;33m:\u001b[0m\u001b[1;33m\u001b[0m\u001b[1;33m\u001b[0m\u001b[0m\n\u001b[1;32m---> 57\u001b[1;33m         \u001b[0mdf\u001b[0m \u001b[1;33m=\u001b[0m \u001b[0mpd\u001b[0m\u001b[1;33m.\u001b[0m\u001b[0mread_csv\u001b[0m\u001b[1;33m(\u001b[0m\u001b[0mfilename\u001b[0m\u001b[1;33m)\u001b[0m\u001b[1;33m\u001b[0m\u001b[1;33m\u001b[0m\u001b[0m\n\u001b[0m\u001b[0;32m     58\u001b[0m \u001b[1;33m\u001b[0m\u001b[0m\n\u001b[0;32m     59\u001b[0m         \u001b[0mloaded_points\u001b[0m \u001b[1;33m=\u001b[0m \u001b[1;33m{\u001b[0m\u001b[1;33m}\u001b[0m\u001b[1;33m\u001b[0m\u001b[1;33m\u001b[0m\u001b[0m\n",
      "\u001b[1;32mD:\\ProgramData\\Anaconda3\\envs\\gpuEnv\\lib\\site-packages\\pandas\\util\\_decorators.py\u001b[0m in \u001b[0;36mwrapper\u001b[1;34m(*args, **kwargs)\u001b[0m\n\u001b[0;32m    309\u001b[0m                     \u001b[0mstacklevel\u001b[0m\u001b[1;33m=\u001b[0m\u001b[0mstacklevel\u001b[0m\u001b[1;33m,\u001b[0m\u001b[1;33m\u001b[0m\u001b[1;33m\u001b[0m\u001b[0m\n\u001b[0;32m    310\u001b[0m                 )\n\u001b[1;32m--> 311\u001b[1;33m             \u001b[1;32mreturn\u001b[0m \u001b[0mfunc\u001b[0m\u001b[1;33m(\u001b[0m\u001b[1;33m*\u001b[0m\u001b[0margs\u001b[0m\u001b[1;33m,\u001b[0m \u001b[1;33m**\u001b[0m\u001b[0mkwargs\u001b[0m\u001b[1;33m)\u001b[0m\u001b[1;33m\u001b[0m\u001b[1;33m\u001b[0m\u001b[0m\n\u001b[0m\u001b[0;32m    312\u001b[0m \u001b[1;33m\u001b[0m\u001b[0m\n\u001b[0;32m    313\u001b[0m         \u001b[1;32mreturn\u001b[0m \u001b[0mwrapper\u001b[0m\u001b[1;33m\u001b[0m\u001b[1;33m\u001b[0m\u001b[0m\n",
      "\u001b[1;32mD:\\ProgramData\\Anaconda3\\envs\\gpuEnv\\lib\\site-packages\\pandas\\io\\parsers\\readers.py\u001b[0m in \u001b[0;36mread_csv\u001b[1;34m(filepath_or_buffer, sep, delimiter, header, names, index_col, usecols, squeeze, prefix, mangle_dupe_cols, dtype, engine, converters, true_values, false_values, skipinitialspace, skiprows, skipfooter, nrows, na_values, keep_default_na, na_filter, verbose, skip_blank_lines, parse_dates, infer_datetime_format, keep_date_col, date_parser, dayfirst, cache_dates, iterator, chunksize, compression, thousands, decimal, lineterminator, quotechar, quoting, doublequote, escapechar, comment, encoding, encoding_errors, dialect, error_bad_lines, warn_bad_lines, on_bad_lines, delim_whitespace, low_memory, memory_map, float_precision, storage_options)\u001b[0m\n\u001b[0;32m    584\u001b[0m     \u001b[0mkwds\u001b[0m\u001b[1;33m.\u001b[0m\u001b[0mupdate\u001b[0m\u001b[1;33m(\u001b[0m\u001b[0mkwds_defaults\u001b[0m\u001b[1;33m)\u001b[0m\u001b[1;33m\u001b[0m\u001b[1;33m\u001b[0m\u001b[0m\n\u001b[0;32m    585\u001b[0m \u001b[1;33m\u001b[0m\u001b[0m\n\u001b[1;32m--> 586\u001b[1;33m     \u001b[1;32mreturn\u001b[0m \u001b[0m_read\u001b[0m\u001b[1;33m(\u001b[0m\u001b[0mfilepath_or_buffer\u001b[0m\u001b[1;33m,\u001b[0m \u001b[0mkwds\u001b[0m\u001b[1;33m)\u001b[0m\u001b[1;33m\u001b[0m\u001b[1;33m\u001b[0m\u001b[0m\n\u001b[0m\u001b[0;32m    587\u001b[0m \u001b[1;33m\u001b[0m\u001b[0m\n\u001b[0;32m    588\u001b[0m \u001b[1;33m\u001b[0m\u001b[0m\n",
      "\u001b[1;32mD:\\ProgramData\\Anaconda3\\envs\\gpuEnv\\lib\\site-packages\\pandas\\io\\parsers\\readers.py\u001b[0m in \u001b[0;36m_read\u001b[1;34m(filepath_or_buffer, kwds)\u001b[0m\n\u001b[0;32m    480\u001b[0m \u001b[1;33m\u001b[0m\u001b[0m\n\u001b[0;32m    481\u001b[0m     \u001b[1;31m# Create the parser.\u001b[0m\u001b[1;33m\u001b[0m\u001b[1;33m\u001b[0m\u001b[1;33m\u001b[0m\u001b[0m\n\u001b[1;32m--> 482\u001b[1;33m     \u001b[0mparser\u001b[0m \u001b[1;33m=\u001b[0m \u001b[0mTextFileReader\u001b[0m\u001b[1;33m(\u001b[0m\u001b[0mfilepath_or_buffer\u001b[0m\u001b[1;33m,\u001b[0m \u001b[1;33m**\u001b[0m\u001b[0mkwds\u001b[0m\u001b[1;33m)\u001b[0m\u001b[1;33m\u001b[0m\u001b[1;33m\u001b[0m\u001b[0m\n\u001b[0m\u001b[0;32m    483\u001b[0m \u001b[1;33m\u001b[0m\u001b[0m\n\u001b[0;32m    484\u001b[0m     \u001b[1;32mif\u001b[0m \u001b[0mchunksize\u001b[0m \u001b[1;32mor\u001b[0m \u001b[0miterator\u001b[0m\u001b[1;33m:\u001b[0m\u001b[1;33m\u001b[0m\u001b[1;33m\u001b[0m\u001b[0m\n",
      "\u001b[1;32mD:\\ProgramData\\Anaconda3\\envs\\gpuEnv\\lib\\site-packages\\pandas\\io\\parsers\\readers.py\u001b[0m in \u001b[0;36m__init__\u001b[1;34m(self, f, engine, **kwds)\u001b[0m\n\u001b[0;32m    809\u001b[0m             \u001b[0mself\u001b[0m\u001b[1;33m.\u001b[0m\u001b[0moptions\u001b[0m\u001b[1;33m[\u001b[0m\u001b[1;34m\"has_index_names\"\u001b[0m\u001b[1;33m]\u001b[0m \u001b[1;33m=\u001b[0m \u001b[0mkwds\u001b[0m\u001b[1;33m[\u001b[0m\u001b[1;34m\"has_index_names\"\u001b[0m\u001b[1;33m]\u001b[0m\u001b[1;33m\u001b[0m\u001b[1;33m\u001b[0m\u001b[0m\n\u001b[0;32m    810\u001b[0m \u001b[1;33m\u001b[0m\u001b[0m\n\u001b[1;32m--> 811\u001b[1;33m         \u001b[0mself\u001b[0m\u001b[1;33m.\u001b[0m\u001b[0m_engine\u001b[0m \u001b[1;33m=\u001b[0m \u001b[0mself\u001b[0m\u001b[1;33m.\u001b[0m\u001b[0m_make_engine\u001b[0m\u001b[1;33m(\u001b[0m\u001b[0mself\u001b[0m\u001b[1;33m.\u001b[0m\u001b[0mengine\u001b[0m\u001b[1;33m)\u001b[0m\u001b[1;33m\u001b[0m\u001b[1;33m\u001b[0m\u001b[0m\n\u001b[0m\u001b[0;32m    812\u001b[0m \u001b[1;33m\u001b[0m\u001b[0m\n\u001b[0;32m    813\u001b[0m     \u001b[1;32mdef\u001b[0m \u001b[0mclose\u001b[0m\u001b[1;33m(\u001b[0m\u001b[0mself\u001b[0m\u001b[1;33m)\u001b[0m\u001b[1;33m:\u001b[0m\u001b[1;33m\u001b[0m\u001b[1;33m\u001b[0m\u001b[0m\n",
      "\u001b[1;32mD:\\ProgramData\\Anaconda3\\envs\\gpuEnv\\lib\\site-packages\\pandas\\io\\parsers\\readers.py\u001b[0m in \u001b[0;36m_make_engine\u001b[1;34m(self, engine)\u001b[0m\n\u001b[0;32m   1038\u001b[0m             )\n\u001b[0;32m   1039\u001b[0m         \u001b[1;31m# error: Too many arguments for \"ParserBase\"\u001b[0m\u001b[1;33m\u001b[0m\u001b[1;33m\u001b[0m\u001b[1;33m\u001b[0m\u001b[0m\n\u001b[1;32m-> 1040\u001b[1;33m         \u001b[1;32mreturn\u001b[0m \u001b[0mmapping\u001b[0m\u001b[1;33m[\u001b[0m\u001b[0mengine\u001b[0m\u001b[1;33m]\u001b[0m\u001b[1;33m(\u001b[0m\u001b[0mself\u001b[0m\u001b[1;33m.\u001b[0m\u001b[0mf\u001b[0m\u001b[1;33m,\u001b[0m \u001b[1;33m**\u001b[0m\u001b[0mself\u001b[0m\u001b[1;33m.\u001b[0m\u001b[0moptions\u001b[0m\u001b[1;33m)\u001b[0m  \u001b[1;31m# type: ignore[call-arg]\u001b[0m\u001b[1;33m\u001b[0m\u001b[1;33m\u001b[0m\u001b[0m\n\u001b[0m\u001b[0;32m   1041\u001b[0m \u001b[1;33m\u001b[0m\u001b[0m\n\u001b[0;32m   1042\u001b[0m     \u001b[1;32mdef\u001b[0m \u001b[0m_failover_to_python\u001b[0m\u001b[1;33m(\u001b[0m\u001b[0mself\u001b[0m\u001b[1;33m)\u001b[0m\u001b[1;33m:\u001b[0m\u001b[1;33m\u001b[0m\u001b[1;33m\u001b[0m\u001b[0m\n",
      "\u001b[1;32mD:\\ProgramData\\Anaconda3\\envs\\gpuEnv\\lib\\site-packages\\pandas\\io\\parsers\\c_parser_wrapper.py\u001b[0m in \u001b[0;36m__init__\u001b[1;34m(self, src, **kwds)\u001b[0m\n\u001b[0;32m     49\u001b[0m \u001b[1;33m\u001b[0m\u001b[0m\n\u001b[0;32m     50\u001b[0m         \u001b[1;31m# open handles\u001b[0m\u001b[1;33m\u001b[0m\u001b[1;33m\u001b[0m\u001b[1;33m\u001b[0m\u001b[0m\n\u001b[1;32m---> 51\u001b[1;33m         \u001b[0mself\u001b[0m\u001b[1;33m.\u001b[0m\u001b[0m_open_handles\u001b[0m\u001b[1;33m(\u001b[0m\u001b[0msrc\u001b[0m\u001b[1;33m,\u001b[0m \u001b[0mkwds\u001b[0m\u001b[1;33m)\u001b[0m\u001b[1;33m\u001b[0m\u001b[1;33m\u001b[0m\u001b[0m\n\u001b[0m\u001b[0;32m     52\u001b[0m         \u001b[1;32massert\u001b[0m \u001b[0mself\u001b[0m\u001b[1;33m.\u001b[0m\u001b[0mhandles\u001b[0m \u001b[1;32mis\u001b[0m \u001b[1;32mnot\u001b[0m \u001b[1;32mNone\u001b[0m\u001b[1;33m\u001b[0m\u001b[1;33m\u001b[0m\u001b[0m\n\u001b[0;32m     53\u001b[0m \u001b[1;33m\u001b[0m\u001b[0m\n",
      "\u001b[1;32mD:\\ProgramData\\Anaconda3\\envs\\gpuEnv\\lib\\site-packages\\pandas\\io\\parsers\\base_parser.py\u001b[0m in \u001b[0;36m_open_handles\u001b[1;34m(self, src, kwds)\u001b[0m\n\u001b[0;32m    220\u001b[0m         \u001b[0mLet\u001b[0m \u001b[0mthe\u001b[0m \u001b[0mreaders\u001b[0m \u001b[0mopen\u001b[0m \u001b[0mIOHandles\u001b[0m \u001b[0mafter\u001b[0m \u001b[0mthey\u001b[0m \u001b[0mare\u001b[0m \u001b[0mdone\u001b[0m \u001b[1;32mwith\u001b[0m \u001b[0mtheir\u001b[0m \u001b[0mpotential\u001b[0m \u001b[0mraises\u001b[0m\u001b[1;33m.\u001b[0m\u001b[1;33m\u001b[0m\u001b[1;33m\u001b[0m\u001b[0m\n\u001b[0;32m    221\u001b[0m         \"\"\"\n\u001b[1;32m--> 222\u001b[1;33m         self.handles = get_handle(\n\u001b[0m\u001b[0;32m    223\u001b[0m             \u001b[0msrc\u001b[0m\u001b[1;33m,\u001b[0m\u001b[1;33m\u001b[0m\u001b[1;33m\u001b[0m\u001b[0m\n\u001b[0;32m    224\u001b[0m             \u001b[1;34m\"r\"\u001b[0m\u001b[1;33m,\u001b[0m\u001b[1;33m\u001b[0m\u001b[1;33m\u001b[0m\u001b[0m\n",
      "\u001b[1;32mD:\\ProgramData\\Anaconda3\\envs\\gpuEnv\\lib\\site-packages\\pandas\\io\\common.py\u001b[0m in \u001b[0;36mget_handle\u001b[1;34m(path_or_buf, mode, encoding, compression, memory_map, is_text, errors, storage_options)\u001b[0m\n\u001b[0;32m    700\u001b[0m         \u001b[1;32mif\u001b[0m \u001b[0mioargs\u001b[0m\u001b[1;33m.\u001b[0m\u001b[0mencoding\u001b[0m \u001b[1;32mand\u001b[0m \u001b[1;34m\"b\"\u001b[0m \u001b[1;32mnot\u001b[0m \u001b[1;32min\u001b[0m \u001b[0mioargs\u001b[0m\u001b[1;33m.\u001b[0m\u001b[0mmode\u001b[0m\u001b[1;33m:\u001b[0m\u001b[1;33m\u001b[0m\u001b[1;33m\u001b[0m\u001b[0m\n\u001b[0;32m    701\u001b[0m             \u001b[1;31m# Encoding\u001b[0m\u001b[1;33m\u001b[0m\u001b[1;33m\u001b[0m\u001b[1;33m\u001b[0m\u001b[0m\n\u001b[1;32m--> 702\u001b[1;33m             handle = open(\n\u001b[0m\u001b[0;32m    703\u001b[0m                 \u001b[0mhandle\u001b[0m\u001b[1;33m,\u001b[0m\u001b[1;33m\u001b[0m\u001b[1;33m\u001b[0m\u001b[0m\n\u001b[0;32m    704\u001b[0m                 \u001b[0mioargs\u001b[0m\u001b[1;33m.\u001b[0m\u001b[0mmode\u001b[0m\u001b[1;33m,\u001b[0m\u001b[1;33m\u001b[0m\u001b[1;33m\u001b[0m\u001b[0m\n",
      "\u001b[1;31mFileNotFoundError\u001b[0m: [Errno 2] No such file or directory: 'E:\\\\Release\\\\minor_thesis\\\\detections\\\\Mount_Eliza_Sample_20m\\\\detection_log.csv'"
     ]
    }
   ],
   "source": [
    "# Load boundary of the sample area, so we can draw it on the map\n",
    "margin_layer, margin_data = detection_map.load_layer(margin_filename)\n",
    "\n",
    "center = detection_map.get_centroid(margin_data)\n",
    "\n",
    "m_detect1 = Map(center=center, zoom=zoom)\n",
    "m_detect1.add_layer(margin_layer)\n",
    "\n",
    "# Load detected points and add to map\n",
    "count = detection_map.load_points(m_detect1, detection_log)\n",
    "print('Point count: ' + str(count))\n",
    "\n",
    "# Display the map\n",
    "m_detect1"
   ]
  },
  {
   "cell_type": "markdown",
   "id": "7701aedd",
   "metadata": {},
   "source": [
    "## Display map of detected lines with boundary"
   ]
  },
  {
   "cell_type": "code",
   "execution_count": null,
   "id": "3db3012d",
   "metadata": {},
   "outputs": [],
   "source": [
    "# Load boundary of the sample area, so we can draw it on the map\n",
    "margin_layer, margin_data = detection_map.load_layer(margin_filename)\n",
    "\n",
    "center = detection_map.get_centroid(margin_data)\n",
    "\n",
    "# Load lines that we drew from the detected points\n",
    "detected_layer, detected_data = detection_map.load_layer(detected_filename, color='red')\n",
    "\n",
    "# Build the map\n",
    "m_detect2 = Map(center=center, zoom=zoom)\n",
    "m_detect2.add_layer(margin_layer)\n",
    "m_detect2.add_layer(detected_layer)\n",
    "\n",
    "# Display the map\n",
    "m_detect2"
   ]
  },
  {
   "cell_type": "markdown",
   "id": "405a28da",
   "metadata": {},
   "source": [
    "## Display map of Open Street Map cycleways"
   ]
  },
  {
   "cell_type": "code",
   "execution_count": null,
   "id": "80f72e35",
   "metadata": {},
   "outputs": [],
   "source": [
    "# Load boundary of the sample area, so we can draw it on the map\n",
    "margin_layer, margin_data = detection_map.load_layer(margin_filename)\n",
    "\n",
    "center = detection_map.get_centroid(margin_data)\n",
    "\n",
    "# Load lines that we drew from the detected points\n",
    "tag_layer, tag_data = detection_map.load_layer(tag_filename, color='red')\n",
    "\n",
    "# Build the map\n",
    "m_detect3 = Map(center=center, zoom=zoom)\n",
    "m_detect3.add_layer(margin_layer)\n",
    "m_detect3.add_layer(tag_layer)\n",
    "\n",
    "# Display the map\n",
    "m_detect3"
   ]
  },
  {
   "cell_type": "markdown",
   "id": "a5d187cd",
   "metadata": {},
   "source": [
    "## Comparison Map"
   ]
  },
  {
   "cell_type": "code",
   "execution_count": null,
   "id": "c87b9be6",
   "metadata": {},
   "outputs": [],
   "source": [
    "# Load boundary of the sample area, so we can draw it on the map\n",
    "margin_layer, margin_data = detection_map.load_layer(margin_filename)\n",
    "\n",
    "center = detection_map.get_centroid(margin_data)\n",
    "\n",
    "# Load lines that we drew from the detected points\n",
    "both_layer,     both_data     = detection_map.load_layer(both_filename,     color='green')\n",
    "hit_only_layer, hit_only_data = detection_map.load_layer(hit_only_filename, color='blue')\n",
    "tag_only_layer, tag_only_data = detection_map.load_layer(tag_only_filename, color='red')\n",
    "\n",
    "# Build the map\n",
    "m_detect4 = Map(center=center, zoom=zoom)\n",
    "m_detect4.add_layer(margin_layer)\n",
    "m_detect4.add_layer(both_layer)\n",
    "m_detect4.add_layer(hit_only_layer)\n",
    "m_detect4.add_layer(tag_only_layer)\n",
    "\n",
    "# Display the map\n",
    "m_detect4"
   ]
  },
  {
   "cell_type": "markdown",
   "id": "db444af8",
   "metadata": {},
   "source": [
    "OSM is missing a segment of Nepean Highway from Mount Eliza Way to Old Mornington Road.\n",
    "\n",
    "This corresponds to way id=\"204762387\".  It is NOT tagged with a \"cycleway\", it is tagged with \"bicycle\"=\"yes\" and \"foot\"=\"yes\".  This generally means that bicycle traffic (and foot traffic) is allowed, but not that there is a cycleway.\n",
    "\n",
    "The small segment that is missing on Humphries Road from Walkers Road to Overport road was clipped in the OSM extract for the locality, it is just outside the official shape of the locality.  If we widen our OSM extract we can see that it is a cycleway.  way id=\"671976035\"."
   ]
  },
  {
   "cell_type": "code",
   "execution_count": null,
   "id": "d34c8b16",
   "metadata": {},
   "outputs": [],
   "source": [
    "# locality_filename = os.path.join('data_sources', 'LGA_boundary_' + locality.replace(' ', '_') + '.geojson')\n",
    "# pbn_existing_filename = os.path.join('data_sources', 'PBN_Existing.geojson')\n",
    "# pbn_planned_filename = os.path.join('data_sources', 'PBN_Planned.geojson')\n",
    "# osm_filename = os.path.join('data_sources', 'Locality_OSM_cycleway_' + locality.replace(' ', '_') + '.geojson')\n",
    "# detect_filename = os.path.join('detections', locality_detect.replace(' ', '_'), 'detected_points.geojson')"
   ]
  },
  {
   "cell_type": "markdown",
   "id": "b8c41cbd",
   "metadata": {},
   "source": [
    "## Demonstrate how to use Folium and save to .PNG"
   ]
  },
  {
   "cell_type": "code",
   "execution_count": null,
   "id": "462b7325",
   "metadata": {},
   "outputs": [],
   "source": [
    "import folium\n",
    "import json\n",
    "\n",
    "style_red = {\n",
    "    'color': 'red',\n",
    "    'weight': 2,\n",
    "    'fillColor': 'red',\n",
    "    'fillOpacity': 0.2\n",
    "}\n",
    "\n",
    "with open(margin_filename) as f:\n",
    "    gj_margin = json.load(f)\n",
    "    \n",
    "with open(detected_filename) as f:\n",
    "    gj_detected = json.load(f)\n",
    "\n",
    "m = folium.Map(location=center, zoom_start=zoom)\n",
    "folium.GeoJson(gj_margin, name='boundary').add_to(m)\n",
    "folium.GeoJson(gj_detected, name='detected', style_function=lambda x:style_red).add_to(m)\n",
    "m"
   ]
  },
  {
   "cell_type": "code",
   "execution_count": null,
   "id": "61112fd7",
   "metadata": {},
   "outputs": [],
   "source": [
    "# Save folium to PNG, requires selenium, geckodriver, Firefox\n",
    "import io\n",
    "from PIL import Image\n",
    "\n",
    "img_data = m._to_png(5)\n",
    "img = Image.open(io.BytesIO(img_data))\n",
    "img.save(os.path.join(os.pardir, 'map_detect.png'))"
   ]
  },
  {
   "cell_type": "code",
   "execution_count": null,
   "id": "8e2daf39",
   "metadata": {},
   "outputs": [],
   "source": [
    "import folium\n",
    "import json\n",
    "\n",
    "style_red = {\n",
    "    'color': 'red',\n",
    "    'weight': 2,\n",
    "    'fillColor': 'red',\n",
    "    'fillOpacity': 0.2\n",
    "}\n",
    "\n",
    "with open(margin_filename) as f:\n",
    "    gj_margin = json.load(f)\n",
    "    \n",
    "with open(tag_filename) as f:\n",
    "    gj_detected = json.load(f)\n",
    "\n",
    "m = folium.Map(location=center, zoom_start=zoom)\n",
    "folium.GeoJson(gj_margin, name='boundary').add_to(m)\n",
    "folium.GeoJson(gj_detected, name='detected', style_function=lambda x:style_red).add_to(m)\n",
    "m\n"
   ]
  },
  {
   "cell_type": "code",
   "execution_count": null,
   "id": "c00f15d0",
   "metadata": {},
   "outputs": [],
   "source": [
    "# Save folium to PNG, requires selenium, geckodriver, Firefox\n",
    "import io\n",
    "from PIL import Image\n",
    "\n",
    "img_data = m._to_png(5)\n",
    "img = Image.open(io.BytesIO(img_data))\n",
    "img.save(os.path.join(os.pardir, 'map_osm.png'))"
   ]
  },
  {
   "cell_type": "markdown",
   "id": "8d633b36",
   "metadata": {},
   "source": [
    "## Map of cycleways from wider local area\n",
    "\n",
    "Use this to hunt for training footage outside the test area"
   ]
  },
  {
   "cell_type": "code",
   "execution_count": null,
   "id": "728c158e",
   "metadata": {},
   "outputs": [],
   "source": [
    "# Load boundary of the sample area, so we can draw it on the map\n",
    "margin_layer, margin_data = detection_map.load_layer(margin_filename)\n",
    "\n",
    "center = detection_map.get_centroid(margin_data)\n",
    "\n",
    "# Load lines that we drew from the detected points\n",
    "frankston_filename   = os.path.join(module_path_root, 'data_sources', 'Locality_OSM_cycleway_Frankston.geojson')\n",
    "mornington_filename  = os.path.join(module_path_root, 'data_sources', 'Locality_OSM_cycleway_Mornington.geojson')\n",
    "baxter_filename      = os.path.join(module_path_root, 'data_sources', 'Locality_OSM_cycleway_Baxter.geojson')\n",
    "langwarrin_filename  = os.path.join(module_path_root, 'data_sources', 'Locality_OSM_cycleway_Langwarrin.geojson')\n",
    "\n",
    "mount_eliza_filename = os.path.join(module_path_root, 'data_sources', 'Locality_OSM_cycleway_Mount_Eliza.geojson')\n",
    "\n",
    "\n",
    "f_layer, f_data = detection_map.load_layer(frankston_filename,   color='red')\n",
    "m_layer, m_data = detection_map.load_layer(mornington_filename,  color='red')\n",
    "b_layer, b_data = detection_map.load_layer(baxter_filename,      color='green')\n",
    "l_layer, l_data = detection_map.load_layer(langwarrin_filename,  color='orange')\n",
    "e_layer, e_data = detection_map.load_layer(mount_eliza_filename, color='blue')\n",
    "\n",
    "# Build the map\n",
    "m_detect_c = Map(center=center, zoom=zoom)\n",
    "m_detect_c.add_layer(margin_layer)\n",
    "m_detect_c.add_layer(e_layer)\n",
    "m_detect_c.add_layer(f_layer)\n",
    "m_detect_c.add_layer(m_layer)\n",
    "m_detect_c.add_layer(b_layer)\n",
    "m_detect_c.add_layer(l_layer)\n",
    "\n",
    "# Display the map\n",
    "m_detect_c"
   ]
  },
  {
   "cell_type": "markdown",
   "id": "90ea24bc",
   "metadata": {},
   "source": [
    "## Load Dashcam Detections"
   ]
  },
  {
   "cell_type": "code",
   "execution_count": null,
   "id": "ed59b882",
   "metadata": {},
   "outputs": [],
   "source": [
    "# Load boundary of the sample area, so we can draw it on the map\n",
    "margin_layer, margin_data = detection_map.load_layer(locality_filename)\n",
    "\n",
    "center = detection_map.get_centroid(margin_data)\n",
    "\n",
    "# Load lines that we drew from the detected points\n",
    "dashcam_dir = os.path.join(module_path_root, 'data_sources', 'dashcam_tour_mount_eliza', 'detections')\n",
    "\n",
    "dashcam_hit = os.path.join(dashcam_dir, 'hit.geojson')\n",
    "hit_layer, hit_data = detection_map.load_layer(dashcam_hit, color='blue')\n",
    "\n",
    "# Build the map\n",
    "m_detect = Map(center=center, zoom=zoom)\n",
    "#m_detect.add_layer(margin_layer)\n",
    "m_detect.add_layer(hit_layer)\n",
    "\n",
    "# Display the map\n",
    "m_detect"
   ]
  },
  {
   "cell_type": "code",
   "execution_count": null,
   "id": "635014a7",
   "metadata": {},
   "outputs": [],
   "source": [
    "lanes_filename = os.path.join(module_path_root, 'data_sources', 'dashcam_tour_mount_eliza', 'split', 'lanes.geojson')\n",
    "\n",
    "# Load boundary of the sample area, so we can draw it on the map\n",
    "margin_layer, margin_data = detection_map.load_layer(margin_filename)\n",
    "\n",
    "center = detection_map.get_centroid(margin_data)\n",
    "\n",
    "l_layer, l_data = detection_map.load_layer(lanes_filename, color='blue')\n",
    "\n",
    "# Build the map\n",
    "m_detect_l = Map(center=center, zoom=zoom)\n",
    "#m_detect_l.add_layer(margin_layer)\n",
    "m_detect_l.add_layer(l_layer)\n",
    "\n",
    "# Display the map\n",
    "m_detect_l\n"
   ]
  },
  {
   "cell_type": "code",
   "execution_count": null,
   "id": "a823d756",
   "metadata": {},
   "outputs": [],
   "source": []
  }
 ],
 "metadata": {
  "kernelspec": {
   "display_name": "gpuEnv",
   "language": "python",
   "name": "gpuenv"
  },
  "language_info": {
   "codemirror_mode": {
    "name": "ipython",
    "version": 3
   },
   "file_extension": ".py",
   "mimetype": "text/x-python",
   "name": "python",
   "nbconvert_exporter": "python",
   "pygments_lexer": "ipython3",
   "version": "3.8.11"
  }
 },
 "nbformat": 4,
 "nbformat_minor": 5
}
