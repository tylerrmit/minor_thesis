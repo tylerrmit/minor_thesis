{
 "cells": [
  {
   "cell_type": "markdown",
   "id": "4725a18c",
   "metadata": {},
   "source": [
    "# Take Detection Log and OSM data and convert to GeoJSON of paths\n",
    "\n",
    "Explanation"
   ]
  },
  {
   "cell_type": "markdown",
   "id": "4391e747",
   "metadata": {},
   "source": [
    "## Configuration"
   ]
  },
  {
   "cell_type": "code",
   "execution_count": 1,
   "id": "afd36bde",
   "metadata": {},
   "outputs": [],
   "source": [
    "locality = 'Mount Eliza Sample'\n",
    "margin   = 20"
   ]
  },
  {
   "cell_type": "markdown",
   "id": "19b7f4f1",
   "metadata": {},
   "source": [
    "## Load required modules"
   ]
  },
  {
   "cell_type": "code",
   "execution_count": 2,
   "id": "0385d9d5",
   "metadata": {},
   "outputs": [],
   "source": [
    "import os\n",
    "import sys\n",
    "\n",
    "import pandas as pd\n",
    "\n",
    "# Make sure local modules can be imported\n",
    "module_path_root = os.path.abspath(os.pardir)\n",
    "if module_path_root not in sys.path:\n",
    "    sys.path.append(module_path_root)\n",
    "    \n",
    "# Import local modules\n",
    "import osm_gsv_utils.osm_walker as osm_walker"
   ]
  },
  {
   "cell_type": "markdown",
   "id": "5383a28a",
   "metadata": {},
   "source": [
    "## Do Stuff"
   ]
  },
  {
   "cell_type": "code",
   "execution_count": 3,
   "id": "f4a3e050",
   "metadata": {},
   "outputs": [],
   "source": [
    "# Version of locality strings with underscores\n",
    "locality_clean  = locality.replace(' ', '_')\n",
    "locality_margin = '{0:s}_{1:d}m'.format(locality_clean, margin)"
   ]
  },
  {
   "cell_type": "code",
   "execution_count": 4,
   "id": "92dce380",
   "metadata": {},
   "outputs": [
    {
     "name": "stdout",
     "output_type": "stream",
     "text": [
      "Way count:          203\n",
      "Included ways:      191\n",
      "Way names:          72\n",
      "Node count:         3594\n",
      "Intersection count: 135\n",
      "Intersection count: 189\n"
     ]
    }
   ],
   "source": [
    "# Load OSM data\n",
    "filename_main   = os.path.join(os.pardir, 'data_sources', 'Locality_' + locality.replace(' ', '_') + '.osm')\n",
    "filename_margin = os.path.join(os.pardir, 'data_sources', 'Locality_' + locality.replace(' ', '_') + '_margin.osm')\n",
    "\n",
    "walker = osm_walker(filename_main, filename_margin, verbose=True)"
   ]
  },
  {
   "cell_type": "code",
   "execution_count": 5,
   "id": "7ce34fa8",
   "metadata": {},
   "outputs": [],
   "source": [
    "walker.link_way_sections(verbose=False)"
   ]
  },
  {
   "cell_type": "code",
   "execution_count": 6,
   "id": "b348c08b",
   "metadata": {},
   "outputs": [
    {
     "name": "stdout",
     "output_type": "stream",
     "text": [
      "First node: 30204320\n",
      "No intersecting way ends for 30204320\n"
     ]
    },
    {
     "data": {
      "text/plain": [
       "True"
      ]
     },
     "execution_count": 6,
     "metadata": {},
     "output_type": "execute_result"
    }
   ],
   "source": [
    "walker.is_way_start('61695916', verbose=True)"
   ]
  },
  {
   "cell_type": "code",
   "execution_count": 7,
   "id": "0a9f23a1",
   "metadata": {},
   "outputs": [
    {
     "name": "stdout",
     "output_type": "stream",
     "text": [
      "['770308568', '851736437']\n"
     ]
    }
   ],
   "source": [
    "print(walker.way_ids_per_node['7190614708'])"
   ]
  },
  {
   "cell_type": "code",
   "execution_count": null,
   "id": "fd06eb98",
   "metadata": {},
   "outputs": [],
   "source": []
  }
 ],
 "metadata": {
  "kernelspec": {
   "display_name": "gpuEnv",
   "language": "python",
   "name": "gpuenv"
  },
  "language_info": {
   "codemirror_mode": {
    "name": "ipython",
    "version": 3
   },
   "file_extension": ".py",
   "mimetype": "text/x-python",
   "name": "python",
   "nbconvert_exporter": "python",
   "pygments_lexer": "ipython3",
   "version": "3.8.11"
  }
 },
 "nbformat": 4,
 "nbformat_minor": 5
}
