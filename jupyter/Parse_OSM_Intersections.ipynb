{
 "cells": [
  {
   "cell_type": "code",
   "execution_count": 1,
   "id": "ce231461",
   "metadata": {},
   "outputs": [],
   "source": [
    "import json\n",
    "import math\n",
    "import os\n",
    "import sys\n",
    "import xml.dom.minidom\n",
    "\n",
    "from geographiclib.geodesic import Geodesic\n",
    "\n",
    "geod = Geodesic.WGS84  # define the WGS84 ellipsoid\n",
    "\n",
    "# Make sure local modules can be imported\n",
    "module_path_root = os.path.abspath(os.pardir)\n",
    "if module_path_root not in sys.path:\n",
    "    sys.path.append(module_path_root)"
   ]
  },
  {
   "cell_type": "code",
   "execution_count": 2,
   "id": "7ee8c400",
   "metadata": {},
   "outputs": [],
   "source": [
    "# Specify the locality whose OSM file we want to load\n",
    "\n",
    "#locality = 'Mount Eliza'\n",
    "locality = 'Mount Eliza Sample'"
   ]
  },
  {
   "cell_type": "code",
   "execution_count": 3,
   "id": "44a3825d",
   "metadata": {},
   "outputs": [],
   "source": [
    "# Cache ways in dict by name\n",
    "ways_by_name  = {} # Dictionary giving, for each way name, a list of ways\n",
    "ways_by_id    = {} # Dictionary to look up the way details by the way id\n",
    "ways_per_node = {} # Dictionary giving, for each node, the list of way NAMES attached to the node\n",
    "\n",
    "nodes = {}\n",
    "    "
   ]
  },
  {
   "cell_type": "code",
   "execution_count": 4,
   "id": "f2c6a889",
   "metadata": {},
   "outputs": [],
   "source": [
    "def process_osm_xml(doc, intersections_only=False):\n",
    "    # Get ways and nodes from XML document\n",
    "    ways_xml  = doc.getElementsByTagName('way')\n",
    "    nodes_xml = doc.getElementsByTagName('node')\n",
    "\n",
    "    for way in ways_xml:\n",
    "        # Get the ID for this way\n",
    "        way_id = way.getAttribute('id')\n",
    "       \n",
    "        # Find the name for the way based on a 'tag' element where k='name'\n",
    "        tags = way.getElementsByTagName('tag')\n",
    "        for tag in tags:\n",
    "            k = tag.getAttribute('k')\n",
    "            if k == 'name':\n",
    "                way_name = tag.getAttribute('v').upper()\n",
    "            \n",
    "                # Add this way to the list of ways by that name\n",
    "                if not intersections_only:\n",
    "                    if way_name in ways_by_name:\n",
    "                        ways_by_name[way_name].append(way)\n",
    "                    else:\n",
    "                        ways_by_name[way_name] = [way]\n",
    "            \n",
    "                    # Records the way by its way id\n",
    "                    # We only add ways that have a name, implicitly excluding \"natural\" ways such as coastline\n",
    "                    ways_by_id[way_id] = way\n",
    "    \n",
    "                # Record the association with this way against the node\n",
    "                # We can tell that an intersection is a node associated with multiple ways\n",
    "                node_refs = way.getElementsByTagName('nd')\n",
    "                for node_ref in node_refs:\n",
    "                    ref = node_ref.getAttribute('ref')\n",
    "                    if ref in ways_per_node:\n",
    "                        if way_name not in ways_per_node[ref]:\n",
    "                            ways_per_node[ref].append(way_name)\n",
    "                    else:\n",
    "                        ways_per_node[ref] = [way_name]\n",
    "        \n",
    "            # We also want to record intersections with unnamed \"junctions\" e.g. roundabouts\n",
    "            if k == 'junction':\n",
    "                way_name = tag.getAttribute('v').upper()\n",
    "            \n",
    "                # Record the association with this way against the node\n",
    "                # We can tell that an intersection is a node associated with multiple ways\n",
    "                node_refs = way.getElementsByTagName('nd')\n",
    "                for node_ref in node_refs:\n",
    "                    ref = node_ref.getAttribute('ref')\n",
    "                    if ref in ways_per_node:\n",
    "                        if way_name not in ways_per_node[ref]:\n",
    "                            ways_per_node[ref].append(way_name)\n",
    "                    else:\n",
    "                        ways_per_node[ref] = [way_name]\n",
    "                 \n",
    "    # Cache nodes in dict by id/ref\n",
    "    if not intersections_only:\n",
    "        for node in nodes_xml:\n",
    "            id = node.getAttribute('id').upper()\n",
    "            nodes[id] = node\n",
    "    \n",
    "        print('Way count:          %d' % ways_xml.length)\n",
    "        print('Included ways:      %d' % len(ways_by_id.keys()))\n",
    "        print('Way names:          %d' % len(ways_by_name.keys()))\n",
    "        print('Node count:         %d' % nodes_xml.length)\n",
    "        \n",
    "    # Count intersections\n",
    "    intersection_count = 0\n",
    "    \n",
    "    for node in ways_per_node.keys():\n",
    "        if len(ways_per_node[node]) > 1:\n",
    "            intersection_count = intersection_count + 1\n",
    "    \n",
    "    print('Intersection count: %d' % intersection_count)"
   ]
  },
  {
   "cell_type": "code",
   "execution_count": 5,
   "id": "dc8331dd",
   "metadata": {},
   "outputs": [
    {
     "name": "stdout",
     "output_type": "stream",
     "text": [
      "Way count:          203\n",
      "Included ways:      85\n",
      "Way names:          63\n",
      "Node count:         3594\n",
      "Intersection count: 82\n"
     ]
    }
   ],
   "source": [
    "# Load the main XML file into memory\n",
    "# This assumes that we have reduced the OpenStreetMap data down to a small enough locality\n",
    "# that the in-memory approach is feasible\n",
    "\n",
    "osm_filename_main = os.path.join(os.pardir, 'data_sources', 'Locality_' + locality.replace(' ', '_') + '.osm')\n",
    "doc_main = xml.dom.minidom.parse(osm_filename_main)\n",
    "\n",
    "process_osm_xml(doc_main, intersections_only=False)"
   ]
  },
  {
   "cell_type": "code",
   "execution_count": 6,
   "id": "58a4f4fd",
   "metadata": {},
   "outputs": [
    {
     "name": "stdout",
     "output_type": "stream",
     "text": [
      "Intersection count: 107\n"
     ]
    }
   ],
   "source": [
    "# Load a slightly bigger XML file into memory, to catch nodes that are JUST outside the\n",
    "# boundary of the locality\n",
    "\n",
    "osm_filename_margin = os.path.join(os.pardir, 'data_sources', 'Locality_' + locality.replace(' ', '_') + '_margin.osm')\n",
    "doc_margin = xml.dom.minidom.parse(osm_filename_margin)\n",
    "\n",
    "process_osm_xml(doc_margin, intersections_only=True)"
   ]
  },
  {
   "cell_type": "code",
   "execution_count": 7,
   "id": "30b3e889",
   "metadata": {},
   "outputs": [],
   "source": [
    "def bearing_from_nodes(prev_node, next_node):\n",
    "    lat1 = float(prev_node.getAttribute('lat'))\n",
    "    lon1 = float(prev_node.getAttribute('lon'))\n",
    "    lat2 = float(next_node.getAttribute('lat'))\n",
    "    lon2 = float(next_node.getAttribute('lon'))\n",
    "    \n",
    "    bearing = geod.Inverse(lat1, lon1, lat2, lon2)['azi1']\n",
    "    if bearing < 0:\n",
    "        bearing = bearing + 360\n",
    "        \n",
    "    return bearing"
   ]
  },
  {
   "cell_type": "code",
   "execution_count": 8,
   "id": "64b770b6",
   "metadata": {},
   "outputs": [],
   "source": [
    "def expand_offsets(lat1, lon1, lat2, lon2, max_offset, interval, way_id, node_id):\n",
    "    sample_points = []\n",
    "    \n",
    "    bearing = geod.Inverse(float(lat1), float(lon1), float(lat2), float(lon2))['azi1']\n",
    "    \n",
    "    line = geod.InverseLine(float(lat1), float(lon1), float(lat2), float(lon2))\n",
    "    \n",
    "    num_steps     = int(math.ceil(abs(max_offset) / interval))\n",
    "    num_steps_max = int(math.ceil(line.s13 / interval))\n",
    "        \n",
    "    #if num_steps_max < num_steps:\n",
    "    #    num_steps = num_steps_max\n",
    "    \n",
    "    if max_offset < 0:\n",
    "        polarity = -1\n",
    "    else:\n",
    "        polarity = 1\n",
    "        \n",
    "    for step_i in range(num_steps + 1):\n",
    "        if step_i > 0:\n",
    "            s = min(interval * step_i, line.s13)\n",
    "            g = line.Position(s, Geodesic.STANDARD | Geodesic.LONG_UNROLL)\n",
    "            \n",
    "            sample_point = [\n",
    "                g['lat2'],\n",
    "                g['lon2'],\n",
    "                bearing,\n",
    "                step_i * interval * polarity,\n",
    "                way_id,\n",
    "                node_id\n",
    "            ]\n",
    "            \n",
    "            sample_points.append(sample_point)\n",
    "    \n",
    "    return sample_points"
   ]
  },
  {
   "cell_type": "code",
   "execution_count": 9,
   "id": "ee8759cd",
   "metadata": {},
   "outputs": [],
   "source": [
    "def walk_way_intersections_by_id(way_id, min_offset=0, max_offset=0, interval=10, debug=False):\n",
    "    # Initialise list of points that will be returned\n",
    "    sample_points = []\n",
    "    \n",
    "    # Retrieve the way\n",
    "    way = ways_by_id[way_id]\n",
    "    \n",
    "    # Iterate through nodes in the way\n",
    "    node_refs = way.getElementsByTagName('nd')\n",
    "    \n",
    "    idx_first = 0\n",
    "    idx_last  = len(node_refs) - 1\n",
    "    \n",
    "    for idx, node_ref in enumerate(node_refs):\n",
    "        ref = node_ref.getAttribute('ref')\n",
    "        \n",
    "        ways_for_node = ways_per_node[ref]\n",
    "        \n",
    "        if len(ways_for_node) > 1:\n",
    "            if debug:\n",
    "                print('Debug Node Intersection: {0:s} {1:d} {2:.6f}, {3:.6f}'.format(ref, len(ways_for_node),\n",
    "                     float(nodes[ref].getAttribute('lat')), float(nodes[ref].getAttribute('lon'))))\n",
    "            \n",
    "            # Found an intersection!  We will output for this one\n",
    "            \n",
    "            # Find any negative offset samples required\n",
    "            if idx > idx_first and min_offset < 0 and interval > 0:\n",
    "                prev_points = expand_offsets(\n",
    "                    nodes[node_refs[idx  ].getAttribute('ref')].getAttribute('lat'),\n",
    "                    nodes[node_refs[idx  ].getAttribute('ref')].getAttribute('lon'),\n",
    "                    nodes[node_refs[idx-1].getAttribute('ref')].getAttribute('lat'),\n",
    "                    nodes[node_refs[idx-1].getAttribute('ref')].getAttribute('lon'),\n",
    "                    min_offset,\n",
    "                    interval,\n",
    "                    way_id,\n",
    "                    ref\n",
    "                )\n",
    "                \n",
    "                sample_points = sample_points + prev_points[::-1] # Reversed with slicing\n",
    "            \n",
    "            # Find the bearing at the node itself, and output the node itself\n",
    "            if idx == idx_first:\n",
    "                bearing = bearing_from_nodes(\n",
    "                    nodes[node_refs[idx  ].getAttribute('ref')],\n",
    "                    nodes[node_refs[idx+1].getAttribute('ref')]\n",
    "                )\n",
    "            elif idx == idx_last:\n",
    "                bearing = bearing_from_nodes(\n",
    "                    nodes[node_refs[idx-1].getAttribute('ref')],\n",
    "                    nodes[node_refs[idx  ].getAttribute('ref')]\n",
    "                )\n",
    "            else:\n",
    "                bearing = bearing_from_nodes(\n",
    "                    nodes[node_refs[idx-1].getAttribute('ref')],\n",
    "                    nodes[node_refs[idx+1].getAttribute('ref')]\n",
    "                )\n",
    "\n",
    "            sample_point = [\n",
    "                float(nodes[ref].getAttribute('lat')), float(nodes[ref].getAttribute('lon')), bearing, 0, way_id, ref\n",
    "            ]\n",
    "                        \n",
    "            sample_points.append(sample_point)\n",
    "                        \n",
    "            # Find any postive offset samples required\n",
    "            if idx < idx_last and max_offset > 0 and interval > 0:\n",
    "                sample_points = sample_points + expand_offsets(\n",
    "                    nodes[node_refs[idx  ].getAttribute('ref')].getAttribute('lat'),\n",
    "                    nodes[node_refs[idx  ].getAttribute('ref')].getAttribute('lon'),\n",
    "                    nodes[node_refs[idx+1].getAttribute('ref')].getAttribute('lat'),\n",
    "                    nodes[node_refs[idx+1].getAttribute('ref')].getAttribute('lon'),\n",
    "                    max_offset,\n",
    "                    interval,\n",
    "                    way_id,\n",
    "                    ref\n",
    "                )\n",
    "        else:\n",
    "            if debug:\n",
    "                print('Debug Node NON-Intersection: {0:s} {1:d} {2:.6f}, {3:.6f}'.format(ref, len(ways_for_node),\n",
    "                     float(nodes[ref].getAttribute('lat')), float(nodes[ref].getAttribute('lon'))))\n",
    "        \n",
    "    return sample_points"
   ]
  },
  {
   "cell_type": "code",
   "execution_count": 10,
   "id": "7b74cee3",
   "metadata": {},
   "outputs": [
    {
     "name": "stdout",
     "output_type": "stream",
     "text": [
      "Debug Node Intersection: 1832927621 2 -38.173535, 145.108020\n",
      "Debug Node NON-Intersection: 2925788066 1 -38.173857, 145.108272\n",
      "Debug Node Intersection: 458415368 2 -38.175082, 145.109231\n",
      "Debug Node Intersection: 458401333 2 -38.175601, 145.109629\n",
      "Debug Node NON-Intersection: 6161031634 1 -38.176020, 145.109961\n",
      "Debug Node NON-Intersection: 6161031624 1 -38.176601, 145.110415\n",
      "Debug Node NON-Intersection: 2923267118 1 -38.177293, 145.110962\n",
      "Debug Node Intersection: 458415279 2 -38.177889, 145.111428\n",
      "Debug Node NON-Intersection: 5676363633 1 -38.178508, 145.111913\n",
      "Debug Node NON-Intersection: 1832927605 1 -38.179294, 145.112528\n",
      "Debug Node NON-Intersection: 4487020778 1 -38.179578, 145.112750\n",
      "Debug Node NON-Intersection: 1832927625 1 -38.180980, 145.113847\n",
      "Debug Node NON-Intersection: 458409379 1 -38.181868, 145.114543\n",
      "Debug Node NON-Intersection: 6292688119 1 -38.183392, 145.115702\n",
      "[[-38.1735351, 145.1080202, 148.29438720740316, 0, '172385134', '1832927621'], [-38.17361174515946, 145.10808017775153, 148.29438720740316, 10, '172385134', '1832927621'], [-38.17368839028729, 145.10814015562866, 148.29438720740316, 20, '172385134', '1832927621'], [-38.17492852497036, 145.10911091087968, -31.714895413858663, -20, '172385134', '458415368'], [-38.175005162501016, 145.109170905377, -31.714895413858663, -10, '172385134', '458415368'], [-38.1750818, 145.1092309, 148.44146289830252, 0, '172385134', '458415368'], [-38.17515886825975, 145.10929000254836, 148.81017630726325, 10, '172385134', '458415368'], [-38.17523593648873, 145.1093491052212, 148.81017630726325, 20, '172385134', '458415368'], [-38.175447163802914, 145.10951109359843, -31.19006993187574, -20, '172385134', '458401333'], [-38.17552423191684, 145.10957019673697, -31.19006993187574, -10, '172385134', '458401333'], [-38.1756013, 145.1096293, 148.44089634718296, 0, '172385134', '458401333'], [-38.175677690048715, 145.10968979941174, 147.98703984722357, 10, '172385134', '458401333'], [-38.17575408006525, 145.1097502989498, 147.98703984722357, 20, '172385134', '458401333'], [-38.177735415386785, 145.11130792607602, -31.70905338978815, -20, '172385134', '458415279'], [-38.17781205770921, 145.11136791297517, -31.70905338978815, -10, '172385134', '458415279'], [-38.1778887, 145.1114279, 148.2886131890336, 0, '172385134', '458415279'], [-38.17796533800775, 145.1114878958669, 148.2858028185217, 10, '172385134', '458415279'], [-38.17804197598385, 145.11154789185946, 148.2858028185217, 20, '172385134', '458415279']]\n"
     ]
    }
   ],
   "source": [
    "# Find intersection points (and offsets from intersections) for an example way\n",
    "\n",
    "# 26662301 Nepean at Old Mornington Rd\n",
    "# 61695915 Nepean Hwy slipway\n",
    "# 172385134 Meadow Lane, Darvell Ln, Bareena Dr, Fulton Rd, Bellbird Rd\n",
    "# 204757516 Arundel Ct, Blake Ct, Cummins Ln, Kirkstall Cl, Mather Rd, Sibyl Ave\n",
    "# 306462563 Moorooduc Hwy\n",
    "# 349358065 Nothing (near roundabout) FIXED\n",
    "# 349358068 Nothing (near roundabout) FIXED\n",
    "# 840490415 Mann Rd/Brighton St\n",
    "\n",
    "# We are missing intersections at roundabouts (k=\"junction\") => FIXED\n",
    "\n",
    "# We are missing intersections where the other street is just outside the locality\n",
    "# => Therefore we want to have a SEPARATE process to link nodes to ways, from another OSM file with a larger bounding box\n",
    "\n",
    "\n",
    "\n",
    "\n",
    "\n",
    "points = walk_way_intersections_by_id('172385134', min_offset=-20, max_offset=+20, interval=10, debug=True)\n",
    "\n",
    "print(points)"
   ]
  },
  {
   "cell_type": "code",
   "execution_count": 11,
   "id": "db1fb8ac",
   "metadata": {},
   "outputs": [],
   "source": [
    "# Find intersection points (and offsets from intersections) for all ways\n",
    "def sample_all_way_intersections(min_offset, max_offset, interval=10):\n",
    "    all_points = []\n",
    "\n",
    "    for way_id in ways_by_id.keys():\n",
    "        points = walk_way_intersections_by_id(way_id, min_offset=min_offset, max_offset=max_offset, interval=interval)\n",
    "    \n",
    "        all_points = all_points + points\n",
    "\n",
    "    return all_points"
   ]
  },
  {
   "cell_type": "code",
   "execution_count": 12,
   "id": "5e58cfe0",
   "metadata": {},
   "outputs": [
    {
     "name": "stdout",
     "output_type": "stream",
     "text": [
      "+/- 20m: 710\n",
      "+/- 10m: 444\n",
      "+/- 00m: 178\n"
     ]
    }
   ],
   "source": [
    "all_points_20 = sample_all_way_intersections(-20, +20, 10)\n",
    "print('+/- 20m: ' + str(len(all_points_20)))\n",
    "\n",
    "all_points_10 = sample_all_way_intersections(-10, +10, 10)\n",
    "print('+/- 10m: ' + str(len(all_points_10)))\n",
    "\n",
    "all_points_00 = sample_all_way_intersections(0, 0, 0)\n",
    "print('+/- 00m: ' + str(len(all_points_00)))"
   ]
  },
  {
   "cell_type": "code",
   "execution_count": 13,
   "id": "13f960b1",
   "metadata": {},
   "outputs": [
    {
     "name": "stdout",
     "output_type": "stream",
     "text": [
      "[-38.164117203073815, 145.10191188554293, -156.63308527325063, -20, '12453751', '638345458']\n"
     ]
    }
   ],
   "source": [
    "print(all_points_20[0])"
   ]
  },
  {
   "cell_type": "code",
   "execution_count": 14,
   "id": "4b4e3543",
   "metadata": {},
   "outputs": [],
   "source": [
    "# Import local modules\n",
    "import osm_gsv_utils.gsv_loader as gsv_loader"
   ]
  },
  {
   "cell_type": "code",
   "execution_count": 15,
   "id": "4c234468",
   "metadata": {},
   "outputs": [],
   "source": [
    "download_directory = os.path.join(module_path_root, 'data_sources', 'gsv')\n",
    "apikey_filename    = os.path.join(module_path_root, 'apikey.txt')\n",
    "batch_filename     = os.path.join(module_path_root, 'batches', locality.replace(' ', '_') + '_20m.csv')\n",
    "\n",
    "# Initialise interface to Google Street View\n",
    "gsv = gsv_loader(apikey_filename, download_directory)"
   ]
  },
  {
   "cell_type": "code",
   "execution_count": 16,
   "id": "7a8bbd42",
   "metadata": {},
   "outputs": [],
   "source": [
    "gsv.save_batch(batch_filename, all_points_20)"
   ]
  },
  {
   "cell_type": "code",
   "execution_count": 17,
   "id": "a3809534",
   "metadata": {},
   "outputs": [
    {
     "name": "stdout",
     "output_type": "stream",
     "text": [
      "[-38.164117203073815, 145.10191188554293, -156.63308527325063, -20, '12453751', '638345458']\n",
      "[-38.16403450154621, 145.10195714282258, -156.63308527325063, -10, '12453751', '638345458']\n",
      "[-38.1639518, 145.1020024, 22.246728873774174, 0, '12453751', '638345458']\n",
      "[-38.163868198912255, 145.1020449231519, 21.879679036897624, 10, '12453751', '638345458']\n",
      "[-38.16378459780793, 145.10208744620672, 21.879679036897624, 20, '12453751', '638345458']\n",
      "[-38.16179386505896, 145.1030860307341, -158.51873773167307, -20, '12453751', '638345398']\n"
     ]
    }
   ],
   "source": [
    "print(all_points_20[0])\n",
    "print(all_points_20[1])\n",
    "print(all_points_20[2])\n",
    "print(all_points_20[3])\n",
    "print(all_points_20[4])\n",
    "print(all_points_20[5])\n"
   ]
  },
  {
   "cell_type": "code",
   "execution_count": null,
   "id": "f7ec609e",
   "metadata": {},
   "outputs": [],
   "source": []
  }
 ],
 "metadata": {
  "kernelspec": {
   "display_name": "Python 3",
   "language": "python",
   "name": "python3"
  },
  "language_info": {
   "codemirror_mode": {
    "name": "ipython",
    "version": 3
   },
   "file_extension": ".py",
   "mimetype": "text/x-python",
   "name": "python",
   "nbconvert_exporter": "python",
   "pygments_lexer": "ipython3",
   "version": "3.8.11"
  }
 },
 "nbformat": 4,
 "nbformat_minor": 5
}
