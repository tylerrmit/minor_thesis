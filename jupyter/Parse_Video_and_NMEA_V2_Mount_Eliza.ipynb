{
 "cells": [
  {
   "cell_type": "markdown",
   "id": "99680ba6",
   "metadata": {},
   "source": [
    "# Parse Video and NMEA -- Version 2\n",
    "\n",
    "Read a .MP4 video file from a dashcam, split it into frames at the required intervals (60fps footage)\n",
    "and then correlate frames to co-ordinates based on what is recorded in the accompanying NMEA file.\n",
    "\n",
    "Version 2 changes: Create a CSV log of left lane pixel width, altitude, bearing, while splitting the data"
   ]
  },
  {
   "cell_type": "code",
   "execution_count": 1,
   "id": "d46c7451",
   "metadata": {},
   "outputs": [],
   "source": [
    "import_directory = 'dashcam_tour_mount_eliza'\n",
    "#import_directory = 'dashcam_tour_frankston'"
   ]
  },
  {
   "cell_type": "markdown",
   "id": "289f0c3a",
   "metadata": {},
   "source": [
    "Sample NMEA data, repeats every 60 seconds:\n",
    "``` NMEA sample\n",
    "$GPGGA,004008.00,3810.18002,S,14506.69684,E,1,11,0.85,43.6,M,-2.7,M,,*6B\n",
    "$GPGSA,A,3,30,14,07,13,17,194,193,195,19,21,15,,1.47,0.85,1.20*3E\n",
    "$GPGSV,5,1,20,01,10,085,21,05,09,275,15,07,35,078,34,08,10,142,14*7B\n",
    "$GPGSV,5,2,20,09,04,021,08,13,47,236,23,14,75,226,32,15,19,225,21*77\n",
    "$GPGSV,5,3,20,17,43,008,24,19,22,354,29,20,01,305,,21,13,104,24*74\n",
    "$GPGSV,5,4,20,28,,,32,30,69,110,38,41,13,288,,50,42,332,*42\n",
    "$GPGSV,5,5,20,53,22,297,,193,29,356,26,194,74,274,32,195,19,355,31*4E\n",
    "$GSENSORD,0.089,0.123,-0.140\n",
    "$GPRMC,004009.00,A,3810.17224,S,14506.70055,E,29.706,20.61,240921,,,A*74\n",
    "```"
   ]
  },
  {
   "cell_type": "markdown",
   "id": "63fcefe3",
   "metadata": {},
   "source": [
    "http://aprs.gids.nl/nmea/\n",
    "\n",
    "* GPGGA - Global Positioning System Fix Data\n",
    "\n",
    "    - Time \"004001.00\" => The time is 00:40:01 in GMT\n",
    "    - **Latitude \"3810.18002,S\"**\n",
    "    - **Longitude \"14506.69684,E\"**\n",
    "    - Fix Quality \"1\" = GPS fix.  0=Invalid, 2=DGPS fix.\n",
    "    - Number of Satellites \"11\" = 11 Satellites are in view\n",
    "    - Horizontal Dilution of Precision (HDOP) \"0.85\"\n",
    "    - **Altitude \"43.6,M\"**\n",
    "    - Height of geoid above WGS84 ellipsoid \"-2.7,M\"\n",
    "    - DGPS reference station id \"\"\n",
    "    - Checksum \"*6B\"\n",
    "    \n",
    "* GPRMC - Recommended minimum specific GPS/Transit data\n",
    "    - Time \"004009.00\" => The time is 00:40:09 in GMT\n",
    "    - Validity \"A\" => A=OK, V=invalid\n",
    "    - **Latitude \"3810.17224,S\"**\n",
    "    - **Longitude \"14506.70055,E\"**\n",
    "    - Speed in knots \"29.706\" ==> converts to 55kmph. 1 knot = 1.852 kmph.\n",
    "    - **True course \"20.61\" => bearing**\n",
    "    - Date stamp \"240921\" => 24th of September 2021\n",
    "    - Variation \"\"\n",
    "    - East/West \"\"\n",
    "    - Checksum \"A*74\"\n",
    "    \n",
    "* GPGSA - GPS DOP and active satellites\n",
    "    * Ignore\n",
    "    \n",
    "* GPGSV - GPS Satellites in view\n",
    "    * Ignore\n",
    "    \n",
    "* GSENSORD - Sensor data, possibly specific to the device\n",
    "    * Ignore  \n",
    "    \n",
    "We are interested in latitude and longitude, of course, which can come from either GPGGA or GPRMC.  We are also interested in altitude (from GPGGA) and true course (from GPRMC) in case they come in handy.\n",
    "\n",
    "There are 61 instances of GPGGA in the file, and 60 instances of GPRMC in between.  They agree on the co-ords as at\n",
    "each timestamp.  We might as well parse them into a dictionary using the timestamp as the key."
   ]
  },
  {
   "cell_type": "code",
   "execution_count": 2,
   "id": "610206d9",
   "metadata": {},
   "outputs": [],
   "source": [
    "import os\n",
    "import sys\n",
    "\n",
    "module_path_root = os.path.abspath(os.pardir)\n",
    "if module_path_root not in sys.path:\n",
    "    sys.path.append(module_path_root)\n",
    "    \n",
    "# Import local modules\n",
    "import osm_gsv_utils.dashcam_parser as dashcam_parser\n",
    "import osm_gsv_utils.lane_detection as lane_detection"
   ]
  },
  {
   "cell_type": "code",
   "execution_count": 3,
   "id": "b5941ee0",
   "metadata": {
    "scrolled": true
   },
   "outputs": [],
   "source": [
    "dashcam_dir = os.path.join(module_path_root, 'data_sources', import_directory)\n",
    "output_dir  = os.path.join(dashcam_dir, 'split')\n",
    "calibration_config = os.path.join(module_path_root, 'data_sources', 'dashcam_calibration.yml')"
   ]
  },
  {
   "cell_type": "code",
   "execution_count": 4,
   "id": "83191e91",
   "metadata": {},
   "outputs": [],
   "source": [
    "# Lane detector\n",
    "ld = lane_detection(calibration_config=calibration_config)\n",
    "\n",
    "# Video parser\n",
    "parser = dashcam_parser(source_fps=60, lane_detector=ld, write_lane_images=True)"
   ]
  },
  {
   "cell_type": "code",
   "execution_count": 5,
   "id": "87dc6902",
   "metadata": {
    "scrolled": false
   },
   "outputs": [
    {
     "data": {
      "application/vnd.jupyter.widget-view+json": {
       "model_id": "8a945917753d43eb98950cf3003a2c2f",
       "version_major": 2,
       "version_minor": 0
      },
      "text/plain": [
       "  0%|          | 0/45 [00:00<?, ?it/s]"
      ]
     },
     "metadata": {},
     "output_type": "display_data"
    },
    {
     "data": {
      "application/vnd.jupyter.widget-view+json": {
       "model_id": "102a813e4bb94afc9ae415b0c467a27f",
       "version_major": 2,
       "version_minor": 0
      },
      "text/plain": [
       "FILE210924-100801F:   0%|          | 0/3612 [00:00<?, ?it/s]"
      ]
     },
     "metadata": {},
     "output_type": "display_data"
    },
    {
     "data": {
      "application/vnd.jupyter.widget-view+json": {
       "model_id": "ff70142cc9c648059bb7f9288a74d0de",
       "version_major": 2,
       "version_minor": 0
      },
      "text/plain": [
       "FILE210924-100902F:   0%|          | 0/3612 [00:00<?, ?it/s]"
      ]
     },
     "metadata": {},
     "output_type": "display_data"
    },
    {
     "data": {
      "application/vnd.jupyter.widget-view+json": {
       "model_id": "bc2e807e24984915a4ced82b4fd6612a",
       "version_major": 2,
       "version_minor": 0
      },
      "text/plain": [
       "FILE210924-101002F:   0%|          | 0/3612 [00:00<?, ?it/s]"
      ]
     },
     "metadata": {},
     "output_type": "display_data"
    },
    {
     "data": {
      "application/vnd.jupyter.widget-view+json": {
       "model_id": "891c7b1fa2694832a5cd21adc46ccdba",
       "version_major": 2,
       "version_minor": 0
      },
      "text/plain": [
       "FILE210924-101102F:   0%|          | 0/3612 [00:00<?, ?it/s]"
      ]
     },
     "metadata": {},
     "output_type": "display_data"
    },
    {
     "data": {
      "application/vnd.jupyter.widget-view+json": {
       "model_id": "c5027f2e717e4f2698a124e6697bf10e",
       "version_major": 2,
       "version_minor": 0
      },
      "text/plain": [
       "FILE210924-101202F:   0%|          | 0/3612 [00:00<?, ?it/s]"
      ]
     },
     "metadata": {},
     "output_type": "display_data"
    },
    {
     "data": {
      "application/vnd.jupyter.widget-view+json": {
       "model_id": "1260881a2698490ea22751c61a4f2783",
       "version_major": 2,
       "version_minor": 0
      },
      "text/plain": [
       "FILE210924-101303F:   0%|          | 0/3612 [00:00<?, ?it/s]"
      ]
     },
     "metadata": {},
     "output_type": "display_data"
    },
    {
     "data": {
      "application/vnd.jupyter.widget-view+json": {
       "model_id": "4449f3ab4e9f442b9ffa34c8a72a3ff4",
       "version_major": 2,
       "version_minor": 0
      },
      "text/plain": [
       "FILE210924-101403F:   0%|          | 0/3612 [00:00<?, ?it/s]"
      ]
     },
     "metadata": {},
     "output_type": "display_data"
    },
    {
     "data": {
      "application/vnd.jupyter.widget-view+json": {
       "model_id": "1dd95d9bbc1a40439161839958a1174e",
       "version_major": 2,
       "version_minor": 0
      },
      "text/plain": [
       "FILE210924-101503F:   0%|          | 0/3612 [00:00<?, ?it/s]"
      ]
     },
     "metadata": {},
     "output_type": "display_data"
    },
    {
     "data": {
      "application/vnd.jupyter.widget-view+json": {
       "model_id": "79e8afce307d4f50ac542e651498a275",
       "version_major": 2,
       "version_minor": 0
      },
      "text/plain": [
       "FILE210924-101603F:   0%|          | 0/3612 [00:00<?, ?it/s]"
      ]
     },
     "metadata": {},
     "output_type": "display_data"
    },
    {
     "data": {
      "application/vnd.jupyter.widget-view+json": {
       "model_id": "978a4bbde70a4f388d9ebb0314d3acd7",
       "version_major": 2,
       "version_minor": 0
      },
      "text/plain": [
       "FILE210924-101704F:   0%|          | 0/3612 [00:00<?, ?it/s]"
      ]
     },
     "metadata": {},
     "output_type": "display_data"
    },
    {
     "data": {
      "application/vnd.jupyter.widget-view+json": {
       "model_id": "5515bc7d1d0241aca51031c39e7e41ec",
       "version_major": 2,
       "version_minor": 0
      },
      "text/plain": [
       "FILE210924-101804F:   0%|          | 0/3612 [00:00<?, ?it/s]"
      ]
     },
     "metadata": {},
     "output_type": "display_data"
    },
    {
     "data": {
      "application/vnd.jupyter.widget-view+json": {
       "model_id": "d77d7a3416c543b1af94877ce6499de5",
       "version_major": 2,
       "version_minor": 0
      },
      "text/plain": [
       "FILE210924-101904F:   0%|          | 0/3612 [00:00<?, ?it/s]"
      ]
     },
     "metadata": {},
     "output_type": "display_data"
    },
    {
     "name": "stdout",
     "output_type": "stream",
     "text": [
      "WARNING: processing line [FILE210924-102004F] [$GPRMC,002006.00,V,,,,,,,240921,,,N*75\n",
      "], using previous values\n",
      "WARNING: processing line [FILE210924-102004F] [$GPGGA,002006.00,,,,,0,00,99.99,,,,,,*62\n",
      "], using previous values\n"
     ]
    },
    {
     "data": {
      "application/vnd.jupyter.widget-view+json": {
       "model_id": "f875c8589bf14a6bbbd6ecf5279e7123",
       "version_major": 2,
       "version_minor": 0
      },
      "text/plain": [
       "FILE210924-102004F:   0%|          | 0/3612 [00:00<?, ?it/s]"
      ]
     },
     "metadata": {},
     "output_type": "display_data"
    },
    {
     "data": {
      "application/vnd.jupyter.widget-view+json": {
       "model_id": "5cd765fc5c874eb2bffac8f0c8de3a73",
       "version_major": 2,
       "version_minor": 0
      },
      "text/plain": [
       "FILE210924-102105F:   0%|          | 0/3612 [00:00<?, ?it/s]"
      ]
     },
     "metadata": {},
     "output_type": "display_data"
    },
    {
     "data": {
      "application/vnd.jupyter.widget-view+json": {
       "model_id": "d00b8e04a7a746f895c1e07b911e1ad4",
       "version_major": 2,
       "version_minor": 0
      },
      "text/plain": [
       "FILE210924-102205F:   0%|          | 0/3612 [00:00<?, ?it/s]"
      ]
     },
     "metadata": {},
     "output_type": "display_data"
    },
    {
     "data": {
      "application/vnd.jupyter.widget-view+json": {
       "model_id": "2a1969a43d2544e788e2b47df48bb6d5",
       "version_major": 2,
       "version_minor": 0
      },
      "text/plain": [
       "FILE210924-102305F:   0%|          | 0/3612 [00:00<?, ?it/s]"
      ]
     },
     "metadata": {},
     "output_type": "display_data"
    },
    {
     "data": {
      "application/vnd.jupyter.widget-view+json": {
       "model_id": "166ecc481c134276a0bd541af571894c",
       "version_major": 2,
       "version_minor": 0
      },
      "text/plain": [
       "FILE210924-102405F:   0%|          | 0/3612 [00:00<?, ?it/s]"
      ]
     },
     "metadata": {},
     "output_type": "display_data"
    },
    {
     "data": {
      "application/vnd.jupyter.widget-view+json": {
       "model_id": "75107d008b064741ac82003934df6c62",
       "version_major": 2,
       "version_minor": 0
      },
      "text/plain": [
       "FILE210924-102506F:   0%|          | 0/3612 [00:00<?, ?it/s]"
      ]
     },
     "metadata": {},
     "output_type": "display_data"
    },
    {
     "data": {
      "application/vnd.jupyter.widget-view+json": {
       "model_id": "eb98c40643a149e682d4dad5c6bcf3bd",
       "version_major": 2,
       "version_minor": 0
      },
      "text/plain": [
       "FILE210924-102606F:   0%|          | 0/3612 [00:00<?, ?it/s]"
      ]
     },
     "metadata": {},
     "output_type": "display_data"
    },
    {
     "data": {
      "application/vnd.jupyter.widget-view+json": {
       "model_id": "df27b2e71b1b4ff085c8ba01569d47b8",
       "version_major": 2,
       "version_minor": 0
      },
      "text/plain": [
       "FILE210924-102706F:   0%|          | 0/3612 [00:00<?, ?it/s]"
      ]
     },
     "metadata": {},
     "output_type": "display_data"
    },
    {
     "name": "stdout",
     "output_type": "stream",
     "text": [
      "WARNING: processing line [FILE210924-102806F] [$GPRMC,002903.00,V,,,,,,,240921,,,N*79\n",
      "], using previous values\n",
      "WARNING: processing line [FILE210924-102806F] [$GPGGA,002903.00,,,,,0,00,99.99,,,,,,*6E\n",
      "], using previous values\n"
     ]
    },
    {
     "data": {
      "application/vnd.jupyter.widget-view+json": {
       "model_id": "9f53f939f8544147a17f4f4ab5a4ec08",
       "version_major": 2,
       "version_minor": 0
      },
      "text/plain": [
       "FILE210924-102806F:   0%|          | 0/3612 [00:00<?, ?it/s]"
      ]
     },
     "metadata": {},
     "output_type": "display_data"
    },
    {
     "data": {
      "application/vnd.jupyter.widget-view+json": {
       "model_id": "26f7784879d942cab1e6d57139ceb7fb",
       "version_major": 2,
       "version_minor": 0
      },
      "text/plain": [
       "FILE210924-102907F:   0%|          | 0/3612 [00:00<?, ?it/s]"
      ]
     },
     "metadata": {},
     "output_type": "display_data"
    },
    {
     "data": {
      "application/vnd.jupyter.widget-view+json": {
       "model_id": "1f0f865d856e4bb5ad1b6c50a6a624b6",
       "version_major": 2,
       "version_minor": 0
      },
      "text/plain": [
       "FILE210924-103007F:   0%|          | 0/3612 [00:00<?, ?it/s]"
      ]
     },
     "metadata": {},
     "output_type": "display_data"
    },
    {
     "data": {
      "application/vnd.jupyter.widget-view+json": {
       "model_id": "14b6b664b7c841caabbc6dda59131269",
       "version_major": 2,
       "version_minor": 0
      },
      "text/plain": [
       "FILE210924-103107F:   0%|          | 0/3612 [00:00<?, ?it/s]"
      ]
     },
     "metadata": {},
     "output_type": "display_data"
    },
    {
     "data": {
      "application/vnd.jupyter.widget-view+json": {
       "model_id": "088172a4baae46d6b4d72717d2b7b0be",
       "version_major": 2,
       "version_minor": 0
      },
      "text/plain": [
       "FILE210924-103207F:   0%|          | 0/3612 [00:00<?, ?it/s]"
      ]
     },
     "metadata": {},
     "output_type": "display_data"
    },
    {
     "data": {
      "application/vnd.jupyter.widget-view+json": {
       "model_id": "0e1b65cc5308435fa4e2f8e9d7bd3caa",
       "version_major": 2,
       "version_minor": 0
      },
      "text/plain": [
       "FILE210924-103308F:   0%|          | 0/3612 [00:00<?, ?it/s]"
      ]
     },
     "metadata": {},
     "output_type": "display_data"
    },
    {
     "data": {
      "application/vnd.jupyter.widget-view+json": {
       "model_id": "2aa85f582607442db16c56735197199a",
       "version_major": 2,
       "version_minor": 0
      },
      "text/plain": [
       "FILE210924-103408F:   0%|          | 0/3612 [00:00<?, ?it/s]"
      ]
     },
     "metadata": {},
     "output_type": "display_data"
    },
    {
     "data": {
      "application/vnd.jupyter.widget-view+json": {
       "model_id": "c141566b54f146e98464d6d50b63b162",
       "version_major": 2,
       "version_minor": 0
      },
      "text/plain": [
       "FILE210924-103508F:   0%|          | 0/3612 [00:00<?, ?it/s]"
      ]
     },
     "metadata": {},
     "output_type": "display_data"
    },
    {
     "data": {
      "application/vnd.jupyter.widget-view+json": {
       "model_id": "f69d3b72340446a49f37ac547ef1308e",
       "version_major": 2,
       "version_minor": 0
      },
      "text/plain": [
       "FILE210924-103608F:   0%|          | 0/3612 [00:00<?, ?it/s]"
      ]
     },
     "metadata": {},
     "output_type": "display_data"
    },
    {
     "data": {
      "application/vnd.jupyter.widget-view+json": {
       "model_id": "6a5aa43610704c4dae8f0cf12e139697",
       "version_major": 2,
       "version_minor": 0
      },
      "text/plain": [
       "FILE210924-103709F:   0%|          | 0/3612 [00:00<?, ?it/s]"
      ]
     },
     "metadata": {},
     "output_type": "display_data"
    },
    {
     "data": {
      "application/vnd.jupyter.widget-view+json": {
       "model_id": "fa2ec077bc614ebeba12e3150f718f80",
       "version_major": 2,
       "version_minor": 0
      },
      "text/plain": [
       "FILE210924-103809F:   0%|          | 0/3612 [00:00<?, ?it/s]"
      ]
     },
     "metadata": {},
     "output_type": "display_data"
    },
    {
     "data": {
      "application/vnd.jupyter.widget-view+json": {
       "model_id": "dc2db684c09a47959c7af471e126b7d5",
       "version_major": 2,
       "version_minor": 0
      },
      "text/plain": [
       "FILE210924-103909F:   0%|          | 0/3612 [00:00<?, ?it/s]"
      ]
     },
     "metadata": {},
     "output_type": "display_data"
    },
    {
     "data": {
      "application/vnd.jupyter.widget-view+json": {
       "model_id": "dc5525e77ef94e639d716e4cd9941d7c",
       "version_major": 2,
       "version_minor": 0
      },
      "text/plain": [
       "FILE210924-104009F:   0%|          | 0/3612 [00:00<?, ?it/s]"
      ]
     },
     "metadata": {},
     "output_type": "display_data"
    },
    {
     "data": {
      "application/vnd.jupyter.widget-view+json": {
       "model_id": "e779a33e008b46a5bdc5cf66dc39c0fc",
       "version_major": 2,
       "version_minor": 0
      },
      "text/plain": [
       "FILE210924-104110F:   0%|          | 0/3612 [00:00<?, ?it/s]"
      ]
     },
     "metadata": {},
     "output_type": "display_data"
    },
    {
     "data": {
      "application/vnd.jupyter.widget-view+json": {
       "model_id": "92279d137fe34057906f0b798e4c85d3",
       "version_major": 2,
       "version_minor": 0
      },
      "text/plain": [
       "FILE210924-104210F:   0%|          | 0/3612 [00:00<?, ?it/s]"
      ]
     },
     "metadata": {},
     "output_type": "display_data"
    },
    {
     "data": {
      "application/vnd.jupyter.widget-view+json": {
       "model_id": "3e92494413c64c23b9826c731440d5af",
       "version_major": 2,
       "version_minor": 0
      },
      "text/plain": [
       "FILE210924-104310F:   0%|          | 0/3612 [00:00<?, ?it/s]"
      ]
     },
     "metadata": {},
     "output_type": "display_data"
    },
    {
     "data": {
      "application/vnd.jupyter.widget-view+json": {
       "model_id": "5cabda77d0f840fe8b8d1c6338ad2a4e",
       "version_major": 2,
       "version_minor": 0
      },
      "text/plain": [
       "FILE210924-104410F:   0%|          | 0/3612 [00:00<?, ?it/s]"
      ]
     },
     "metadata": {},
     "output_type": "display_data"
    },
    {
     "data": {
      "application/vnd.jupyter.widget-view+json": {
       "model_id": "247eb0113e6a4938a66d6e3d6a93d3c6",
       "version_major": 2,
       "version_minor": 0
      },
      "text/plain": [
       "FILE210924-104511F:   0%|          | 0/3612 [00:00<?, ?it/s]"
      ]
     },
     "metadata": {},
     "output_type": "display_data"
    },
    {
     "data": {
      "application/vnd.jupyter.widget-view+json": {
       "model_id": "a6f5070df4b24045ab96ea9986f3a93d",
       "version_major": 2,
       "version_minor": 0
      },
      "text/plain": [
       "FILE210924-104611F:   0%|          | 0/3612 [00:00<?, ?it/s]"
      ]
     },
     "metadata": {},
     "output_type": "display_data"
    },
    {
     "data": {
      "application/vnd.jupyter.widget-view+json": {
       "model_id": "5419ada0d148480eace62b791ea19995",
       "version_major": 2,
       "version_minor": 0
      },
      "text/plain": [
       "FILE210924-104711F:   0%|          | 0/3612 [00:00<?, ?it/s]"
      ]
     },
     "metadata": {},
     "output_type": "display_data"
    },
    {
     "data": {
      "application/vnd.jupyter.widget-view+json": {
       "model_id": "c892692c697c4f15a98051f80839d88d",
       "version_major": 2,
       "version_minor": 0
      },
      "text/plain": [
       "FILE210924-104811F:   0%|          | 0/3612 [00:00<?, ?it/s]"
      ]
     },
     "metadata": {},
     "output_type": "display_data"
    },
    {
     "data": {
      "application/vnd.jupyter.widget-view+json": {
       "model_id": "ad792b8ef3454e68be7bcfa0350e4ef0",
       "version_major": 2,
       "version_minor": 0
      },
      "text/plain": [
       "FILE210924-104911F:   0%|          | 0/3612 [00:00<?, ?it/s]"
      ]
     },
     "metadata": {},
     "output_type": "display_data"
    },
    {
     "data": {
      "application/vnd.jupyter.widget-view+json": {
       "model_id": "4b12873e6eb241f39805ffea26ab381f",
       "version_major": 2,
       "version_minor": 0
      },
      "text/plain": [
       "FILE210924-105012F:   0%|          | 0/3612 [00:00<?, ?it/s]"
      ]
     },
     "metadata": {},
     "output_type": "display_data"
    },
    {
     "data": {
      "application/vnd.jupyter.widget-view+json": {
       "model_id": "86b209f10a804a39b930d8ba512eee7d",
       "version_major": 2,
       "version_minor": 0
      },
      "text/plain": [
       "FILE210924-105112F:   0%|          | 0/3612 [00:00<?, ?it/s]"
      ]
     },
     "metadata": {},
     "output_type": "display_data"
    },
    {
     "data": {
      "application/vnd.jupyter.widget-view+json": {
       "model_id": "b808a2ff64c1444189450d6ee1e51961",
       "version_major": 2,
       "version_minor": 0
      },
      "text/plain": [
       "FILE210924-105212F:   0%|          | 0/3612 [00:00<?, ?it/s]"
      ]
     },
     "metadata": {},
     "output_type": "display_data"
    }
   ],
   "source": [
    "#selected_prefix = 'FILE210924-104009F'\n",
    "#parser.split_video(dashcam_dir, selected_prefix, output_dir, output_fps=5, suffix='MP4')\n",
    "\n",
    "parser.split_videos(dashcam_dir, output_dir, output_fps=5, suffix='MP4', verbose=False)"
   ]
  }
 ],
 "metadata": {
  "kernelspec": {
   "display_name": "gpuEnv",
   "language": "python",
   "name": "gpuenv"
  },
  "language_info": {
   "codemirror_mode": {
    "name": "ipython",
    "version": 3
   },
   "file_extension": ".py",
   "mimetype": "text/x-python",
   "name": "python",
   "nbconvert_exporter": "python",
   "pygments_lexer": "ipython3",
   "version": "3.8.11"
  }
 },
 "nbformat": 4,
 "nbformat_minor": 5
}
