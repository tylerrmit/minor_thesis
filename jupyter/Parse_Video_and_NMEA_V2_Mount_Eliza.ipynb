{
 "cells": [
  {
   "cell_type": "markdown",
   "id": "99680ba6",
   "metadata": {},
   "source": [
    "# Parse Video and NMEA -- Version 2\n",
    "\n",
    "Read a .MP4 video file from a dashcam, split it into frames at the required intervals (60fps footage)\n",
    "and then correlate frames to co-ordinates based on what is recorded in the accompanying NMEA file.\n",
    "\n",
    "Version 2 changes: Create a CSV log of left lane pixel width, altitude, bearing, while splitting the data"
   ]
  },
  {
   "cell_type": "code",
   "execution_count": 1,
   "id": "d46c7451",
   "metadata": {},
   "outputs": [],
   "source": [
    "import_directory = 'dashcam_tour_mount_eliza'\n",
    "#import_directory = 'dashcam_tour_frankston'"
   ]
  },
  {
   "cell_type": "markdown",
   "id": "289f0c3a",
   "metadata": {},
   "source": [
    "Sample NMEA data, repeats every 60 seconds:\n",
    "``` NMEA sample\n",
    "$GPGGA,004008.00,3810.18002,S,14506.69684,E,1,11,0.85,43.6,M,-2.7,M,,*6B\n",
    "$GPGSA,A,3,30,14,07,13,17,194,193,195,19,21,15,,1.47,0.85,1.20*3E\n",
    "$GPGSV,5,1,20,01,10,085,21,05,09,275,15,07,35,078,34,08,10,142,14*7B\n",
    "$GPGSV,5,2,20,09,04,021,08,13,47,236,23,14,75,226,32,15,19,225,21*77\n",
    "$GPGSV,5,3,20,17,43,008,24,19,22,354,29,20,01,305,,21,13,104,24*74\n",
    "$GPGSV,5,4,20,28,,,32,30,69,110,38,41,13,288,,50,42,332,*42\n",
    "$GPGSV,5,5,20,53,22,297,,193,29,356,26,194,74,274,32,195,19,355,31*4E\n",
    "$GSENSORD,0.089,0.123,-0.140\n",
    "$GPRMC,004009.00,A,3810.17224,S,14506.70055,E,29.706,20.61,240921,,,A*74\n",
    "```"
   ]
  },
  {
   "cell_type": "markdown",
   "id": "63fcefe3",
   "metadata": {},
   "source": [
    "http://aprs.gids.nl/nmea/\n",
    "\n",
    "* GPGGA - Global Positioning System Fix Data\n",
    "\n",
    "    - Time \"004001.00\" => The time is 00:40:01 in GMT\n",
    "    - **Latitude \"3810.18002,S\"**\n",
    "    - **Longitude \"14506.69684,E\"**\n",
    "    - Fix Quality \"1\" = GPS fix.  0=Invalid, 2=DGPS fix.\n",
    "    - Number of Satellites \"11\" = 11 Satellites are in view\n",
    "    - Horizontal Dilution of Precision (HDOP) \"0.85\"\n",
    "    - **Altitude \"43.6,M\"**\n",
    "    - Height of geoid above WGS84 ellipsoid \"-2.7,M\"\n",
    "    - DGPS reference station id \"\"\n",
    "    - Checksum \"*6B\"\n",
    "    \n",
    "* GPRMC - Recommended minimum specific GPS/Transit data\n",
    "    - Time \"004009.00\" => The time is 00:40:09 in GMT\n",
    "    - Validity \"A\" => A=OK, V=invalid\n",
    "    - **Latitude \"3810.17224,S\"**\n",
    "    - **Longitude \"14506.70055,E\"**\n",
    "    - Speed in knots \"29.706\" ==> converts to 55kmph. 1 knot = 1.852 kmph.\n",
    "    - **True course \"20.61\" => bearing**\n",
    "    - Date stamp \"240921\" => 24th of September 2021\n",
    "    - Variation \"\"\n",
    "    - East/West \"\"\n",
    "    - Checksum \"A*74\"\n",
    "    \n",
    "* GPGSA - GPS DOP and active satellites\n",
    "    * Ignore\n",
    "    \n",
    "* GPGSV - GPS Satellites in view\n",
    "    * Ignore\n",
    "    \n",
    "* GSENSORD - Sensor data, possibly specific to the device\n",
    "    * Ignore  \n",
    "    \n",
    "We are interested in latitude and longitude, of course, which can come from either GPGGA or GPRMC.  We are also interested in altitude (from GPGGA) and true course (from GPRMC) in case they come in handy.\n",
    "\n",
    "There are 61 instances of GPGGA in the file, and 60 instances of GPRMC in between.  They agree on the co-ords as at\n",
    "each timestamp.  We might as well parse them into a dictionary using the timestamp as the key."
   ]
  },
  {
   "cell_type": "code",
   "execution_count": 2,
   "id": "610206d9",
   "metadata": {},
   "outputs": [],
   "source": [
    "import os\n",
    "import sys\n",
    "\n",
    "module_path_root = os.path.abspath(os.pardir)\n",
    "if module_path_root not in sys.path:\n",
    "    sys.path.append(module_path_root)\n",
    "    \n",
    "# Import local modules\n",
    "import osm_gsv_utils.dashcam_parser as dashcam_parser\n",
    "import osm_gsv_utils.lane_detection as lane_detection"
   ]
  },
  {
   "cell_type": "code",
   "execution_count": 3,
   "id": "b5941ee0",
   "metadata": {
    "scrolled": true
   },
   "outputs": [],
   "source": [
    "dashcam_dir = os.path.join(module_path_root, 'data_sources', import_directory)\n",
    "output_dir  = os.path.join(dashcam_dir, 'split')\n",
    "calibration_config = os.path.join(module_path_root, 'data_sources', 'dashcam_calibration.yml')"
   ]
  },
  {
   "cell_type": "code",
   "execution_count": 4,
   "id": "83191e91",
   "metadata": {},
   "outputs": [],
   "source": [
    "# Lane detector\n",
    "ld = lane_detection(calibration_config=calibration_config)\n",
    "\n",
    "# Video parser\n",
    "parser = dashcam_parser(source_fps=60, lane_detector=ld, write_lane_images=True)"
   ]
  },
  {
   "cell_type": "code",
   "execution_count": 5,
   "id": "87dc6902",
   "metadata": {
    "scrolled": false
   },
   "outputs": [
    {
     "data": {
      "application/vnd.jupyter.widget-view+json": {
       "model_id": "3f306170128b4ca5a65f92e513e9ce99",
       "version_major": 2,
       "version_minor": 0
      },
      "text/plain": [
       "  0%|          | 0/45 [00:00<?, ?it/s]"
      ]
     },
     "metadata": {},
     "output_type": "display_data"
    },
    {
     "data": {
      "application/vnd.jupyter.widget-view+json": {
       "model_id": "3c1be7fb740e4005a772b7e2919b2f6e",
       "version_major": 2,
       "version_minor": 0
      },
      "text/plain": [
       "FILE210924-100801F:   0%|          | 0/3612 [00:00<?, ?it/s]"
      ]
     },
     "metadata": {},
     "output_type": "display_data"
    },
    {
     "data": {
      "application/vnd.jupyter.widget-view+json": {
       "model_id": "f9133f6feeb34bc2b7890a92b81199d2",
       "version_major": 2,
       "version_minor": 0
      },
      "text/plain": [
       "FILE210924-100902F:   0%|          | 0/3612 [00:00<?, ?it/s]"
      ]
     },
     "metadata": {},
     "output_type": "display_data"
    },
    {
     "data": {
      "application/vnd.jupyter.widget-view+json": {
       "model_id": "c0ae3d1302f94453a60a9b412c6a2914",
       "version_major": 2,
       "version_minor": 0
      },
      "text/plain": [
       "FILE210924-101002F:   0%|          | 0/3612 [00:00<?, ?it/s]"
      ]
     },
     "metadata": {},
     "output_type": "display_data"
    },
    {
     "data": {
      "application/vnd.jupyter.widget-view+json": {
       "model_id": "fe3b244af91e413b9e0be6846fc38bee",
       "version_major": 2,
       "version_minor": 0
      },
      "text/plain": [
       "FILE210924-101102F:   0%|          | 0/3612 [00:00<?, ?it/s]"
      ]
     },
     "metadata": {},
     "output_type": "display_data"
    },
    {
     "data": {
      "application/vnd.jupyter.widget-view+json": {
       "model_id": "61ccbb347ff3406fabcf91333fc3cff2",
       "version_major": 2,
       "version_minor": 0
      },
      "text/plain": [
       "FILE210924-101202F:   0%|          | 0/3612 [00:00<?, ?it/s]"
      ]
     },
     "metadata": {},
     "output_type": "display_data"
    },
    {
     "data": {
      "application/vnd.jupyter.widget-view+json": {
       "model_id": "d2bda845ad084069a75a75c931009f12",
       "version_major": 2,
       "version_minor": 0
      },
      "text/plain": [
       "FILE210924-101303F:   0%|          | 0/3612 [00:00<?, ?it/s]"
      ]
     },
     "metadata": {},
     "output_type": "display_data"
    },
    {
     "data": {
      "application/vnd.jupyter.widget-view+json": {
       "model_id": "1355f795b3bf40fd807b5bad8ae0b9ef",
       "version_major": 2,
       "version_minor": 0
      },
      "text/plain": [
       "FILE210924-101403F:   0%|          | 0/3612 [00:00<?, ?it/s]"
      ]
     },
     "metadata": {},
     "output_type": "display_data"
    },
    {
     "data": {
      "application/vnd.jupyter.widget-view+json": {
       "model_id": "f02945456ecc4f569d9d448f4a4948d1",
       "version_major": 2,
       "version_minor": 0
      },
      "text/plain": [
       "FILE210924-101503F:   0%|          | 0/3612 [00:00<?, ?it/s]"
      ]
     },
     "metadata": {},
     "output_type": "display_data"
    },
    {
     "data": {
      "application/vnd.jupyter.widget-view+json": {
       "model_id": "d0cc532ea74b488eb45f4f3b778de7c0",
       "version_major": 2,
       "version_minor": 0
      },
      "text/plain": [
       "FILE210924-101603F:   0%|          | 0/3612 [00:00<?, ?it/s]"
      ]
     },
     "metadata": {},
     "output_type": "display_data"
    },
    {
     "data": {
      "application/vnd.jupyter.widget-view+json": {
       "model_id": "797470ba148c4ad5b3fc732acb044674",
       "version_major": 2,
       "version_minor": 0
      },
      "text/plain": [
       "FILE210924-101704F:   0%|          | 0/3612 [00:00<?, ?it/s]"
      ]
     },
     "metadata": {},
     "output_type": "display_data"
    },
    {
     "data": {
      "application/vnd.jupyter.widget-view+json": {
       "model_id": "26cf8ac1b73e4456a1822847c0a87f74",
       "version_major": 2,
       "version_minor": 0
      },
      "text/plain": [
       "FILE210924-101804F:   0%|          | 0/3612 [00:00<?, ?it/s]"
      ]
     },
     "metadata": {},
     "output_type": "display_data"
    },
    {
     "data": {
      "application/vnd.jupyter.widget-view+json": {
       "model_id": "37feac3f58ea43d9a80f6cf07744e5f9",
       "version_major": 2,
       "version_minor": 0
      },
      "text/plain": [
       "FILE210924-101904F:   0%|          | 0/3612 [00:00<?, ?it/s]"
      ]
     },
     "metadata": {},
     "output_type": "display_data"
    },
    {
     "name": "stdout",
     "output_type": "stream",
     "text": [
      "WARNING: processing line [FILE210924-102004F] [$GPRMC,002006.00,V,,,,,,,240921,,,N*75\n",
      "], using previous values\n",
      "WARNING: processing line [FILE210924-102004F] [$GPGGA,002006.00,,,,,0,00,99.99,,,,,,*62\n",
      "], using previous values\n"
     ]
    },
    {
     "data": {
      "application/vnd.jupyter.widget-view+json": {
       "model_id": "9431932c67374c038faa4bd1d8553026",
       "version_major": 2,
       "version_minor": 0
      },
      "text/plain": [
       "FILE210924-102004F:   0%|          | 0/3612 [00:00<?, ?it/s]"
      ]
     },
     "metadata": {},
     "output_type": "display_data"
    },
    {
     "data": {
      "application/vnd.jupyter.widget-view+json": {
       "model_id": "8e64e6ff7ceb499385c7555a613474e1",
       "version_major": 2,
       "version_minor": 0
      },
      "text/plain": [
       "FILE210924-102105F:   0%|          | 0/3612 [00:00<?, ?it/s]"
      ]
     },
     "metadata": {},
     "output_type": "display_data"
    },
    {
     "data": {
      "application/vnd.jupyter.widget-view+json": {
       "model_id": "f08ecf08bc6c47fe8bafa3c3b5fcb383",
       "version_major": 2,
       "version_minor": 0
      },
      "text/plain": [
       "FILE210924-102205F:   0%|          | 0/3612 [00:00<?, ?it/s]"
      ]
     },
     "metadata": {},
     "output_type": "display_data"
    },
    {
     "data": {
      "application/vnd.jupyter.widget-view+json": {
       "model_id": "cc7749e950d2415ba621e939ab1739b6",
       "version_major": 2,
       "version_minor": 0
      },
      "text/plain": [
       "FILE210924-102305F:   0%|          | 0/3612 [00:00<?, ?it/s]"
      ]
     },
     "metadata": {},
     "output_type": "display_data"
    },
    {
     "data": {
      "application/vnd.jupyter.widget-view+json": {
       "model_id": "4df3976be643406dbd6af0b1e4de0f6c",
       "version_major": 2,
       "version_minor": 0
      },
      "text/plain": [
       "FILE210924-102405F:   0%|          | 0/3612 [00:00<?, ?it/s]"
      ]
     },
     "metadata": {},
     "output_type": "display_data"
    },
    {
     "data": {
      "application/vnd.jupyter.widget-view+json": {
       "model_id": "792b592a9c8545f3aafcbc63e74fe278",
       "version_major": 2,
       "version_minor": 0
      },
      "text/plain": [
       "FILE210924-102506F:   0%|          | 0/3612 [00:00<?, ?it/s]"
      ]
     },
     "metadata": {},
     "output_type": "display_data"
    },
    {
     "data": {
      "application/vnd.jupyter.widget-view+json": {
       "model_id": "8e3e86680ad0426097538c0f5bb314cd",
       "version_major": 2,
       "version_minor": 0
      },
      "text/plain": [
       "FILE210924-102606F:   0%|          | 0/3612 [00:00<?, ?it/s]"
      ]
     },
     "metadata": {},
     "output_type": "display_data"
    },
    {
     "data": {
      "application/vnd.jupyter.widget-view+json": {
       "model_id": "f18a3f8ccb08473b98a4834efbe685aa",
       "version_major": 2,
       "version_minor": 0
      },
      "text/plain": [
       "FILE210924-102706F:   0%|          | 0/3612 [00:00<?, ?it/s]"
      ]
     },
     "metadata": {},
     "output_type": "display_data"
    },
    {
     "name": "stdout",
     "output_type": "stream",
     "text": [
      "WARNING: processing line [FILE210924-102806F] [$GPRMC,002903.00,V,,,,,,,240921,,,N*79\n",
      "], using previous values\n",
      "WARNING: processing line [FILE210924-102806F] [$GPGGA,002903.00,,,,,0,00,99.99,,,,,,*6E\n",
      "], using previous values\n"
     ]
    },
    {
     "data": {
      "application/vnd.jupyter.widget-view+json": {
       "model_id": "085fbe0d5e78489298d0d203028b2493",
       "version_major": 2,
       "version_minor": 0
      },
      "text/plain": [
       "FILE210924-102806F:   0%|          | 0/3612 [00:00<?, ?it/s]"
      ]
     },
     "metadata": {},
     "output_type": "display_data"
    },
    {
     "data": {
      "application/vnd.jupyter.widget-view+json": {
       "model_id": "048af1d1ba074ca3a3ed2572d745e2c0",
       "version_major": 2,
       "version_minor": 0
      },
      "text/plain": [
       "FILE210924-102907F:   0%|          | 0/3612 [00:00<?, ?it/s]"
      ]
     },
     "metadata": {},
     "output_type": "display_data"
    },
    {
     "data": {
      "application/vnd.jupyter.widget-view+json": {
       "model_id": "97eb16428d0541afa00a0a3fec1cf798",
       "version_major": 2,
       "version_minor": 0
      },
      "text/plain": [
       "FILE210924-103007F:   0%|          | 0/3612 [00:00<?, ?it/s]"
      ]
     },
     "metadata": {},
     "output_type": "display_data"
    },
    {
     "data": {
      "application/vnd.jupyter.widget-view+json": {
       "model_id": "fc62a62b9bc84bb09eca6b25e50a2342",
       "version_major": 2,
       "version_minor": 0
      },
      "text/plain": [
       "FILE210924-103107F:   0%|          | 0/3612 [00:00<?, ?it/s]"
      ]
     },
     "metadata": {},
     "output_type": "display_data"
    },
    {
     "data": {
      "application/vnd.jupyter.widget-view+json": {
       "model_id": "2cf663956a234bb5b1d4de4c82dad8f0",
       "version_major": 2,
       "version_minor": 0
      },
      "text/plain": [
       "FILE210924-103207F:   0%|          | 0/3612 [00:00<?, ?it/s]"
      ]
     },
     "metadata": {},
     "output_type": "display_data"
    },
    {
     "data": {
      "application/vnd.jupyter.widget-view+json": {
       "model_id": "fb0c7c1dc1ca4c70a7d5f4a0d7355ac5",
       "version_major": 2,
       "version_minor": 0
      },
      "text/plain": [
       "FILE210924-103308F:   0%|          | 0/3612 [00:00<?, ?it/s]"
      ]
     },
     "metadata": {},
     "output_type": "display_data"
    },
    {
     "data": {
      "application/vnd.jupyter.widget-view+json": {
       "model_id": "39c8c8e1c5464c93a085c933fa407a0d",
       "version_major": 2,
       "version_minor": 0
      },
      "text/plain": [
       "FILE210924-103408F:   0%|          | 0/3612 [00:00<?, ?it/s]"
      ]
     },
     "metadata": {},
     "output_type": "display_data"
    },
    {
     "data": {
      "application/vnd.jupyter.widget-view+json": {
       "model_id": "d566350b52744652bfa86dfacc8f2e7b",
       "version_major": 2,
       "version_minor": 0
      },
      "text/plain": [
       "FILE210924-103508F:   0%|          | 0/3612 [00:00<?, ?it/s]"
      ]
     },
     "metadata": {},
     "output_type": "display_data"
    },
    {
     "data": {
      "application/vnd.jupyter.widget-view+json": {
       "model_id": "2d905e72ce5c442d890a1f1e069e1500",
       "version_major": 2,
       "version_minor": 0
      },
      "text/plain": [
       "FILE210924-103608F:   0%|          | 0/3612 [00:00<?, ?it/s]"
      ]
     },
     "metadata": {},
     "output_type": "display_data"
    },
    {
     "data": {
      "application/vnd.jupyter.widget-view+json": {
       "model_id": "7eadb5af186843d7a0c27bb855c74711",
       "version_major": 2,
       "version_minor": 0
      },
      "text/plain": [
       "FILE210924-103709F:   0%|          | 0/3612 [00:00<?, ?it/s]"
      ]
     },
     "metadata": {},
     "output_type": "display_data"
    },
    {
     "data": {
      "application/vnd.jupyter.widget-view+json": {
       "model_id": "520a71d0e27746b7b096eaaae0a7aa4d",
       "version_major": 2,
       "version_minor": 0
      },
      "text/plain": [
       "FILE210924-103809F:   0%|          | 0/3612 [00:00<?, ?it/s]"
      ]
     },
     "metadata": {},
     "output_type": "display_data"
    },
    {
     "data": {
      "application/vnd.jupyter.widget-view+json": {
       "model_id": "63c23dd188504494b512f9b70347b9ee",
       "version_major": 2,
       "version_minor": 0
      },
      "text/plain": [
       "FILE210924-103909F:   0%|          | 0/3612 [00:00<?, ?it/s]"
      ]
     },
     "metadata": {},
     "output_type": "display_data"
    },
    {
     "data": {
      "application/vnd.jupyter.widget-view+json": {
       "model_id": "dda731bc06ba44b09c668aba4927eb0f",
       "version_major": 2,
       "version_minor": 0
      },
      "text/plain": [
       "FILE210924-104009F:   0%|          | 0/3612 [00:00<?, ?it/s]"
      ]
     },
     "metadata": {},
     "output_type": "display_data"
    },
    {
     "data": {
      "application/vnd.jupyter.widget-view+json": {
       "model_id": "103cd3b3bfe1465398e3a58e1968db6c",
       "version_major": 2,
       "version_minor": 0
      },
      "text/plain": [
       "FILE210924-104110F:   0%|          | 0/3612 [00:00<?, ?it/s]"
      ]
     },
     "metadata": {},
     "output_type": "display_data"
    },
    {
     "data": {
      "application/vnd.jupyter.widget-view+json": {
       "model_id": "4dc9eb6053b54a5ebfce7dd5ab59f86d",
       "version_major": 2,
       "version_minor": 0
      },
      "text/plain": [
       "FILE210924-104210F:   0%|          | 0/3612 [00:00<?, ?it/s]"
      ]
     },
     "metadata": {},
     "output_type": "display_data"
    },
    {
     "data": {
      "application/vnd.jupyter.widget-view+json": {
       "model_id": "e1d6f8d07cd047c290bea7b1e50f2702",
       "version_major": 2,
       "version_minor": 0
      },
      "text/plain": [
       "FILE210924-104310F:   0%|          | 0/3612 [00:00<?, ?it/s]"
      ]
     },
     "metadata": {},
     "output_type": "display_data"
    },
    {
     "data": {
      "application/vnd.jupyter.widget-view+json": {
       "model_id": "3af8594fa6204083a86b874e5b10ee53",
       "version_major": 2,
       "version_minor": 0
      },
      "text/plain": [
       "FILE210924-104410F:   0%|          | 0/3612 [00:00<?, ?it/s]"
      ]
     },
     "metadata": {},
     "output_type": "display_data"
    },
    {
     "data": {
      "application/vnd.jupyter.widget-view+json": {
       "model_id": "916e07be36884b809fdd64340a6f2ec9",
       "version_major": 2,
       "version_minor": 0
      },
      "text/plain": [
       "FILE210924-104511F:   0%|          | 0/3612 [00:00<?, ?it/s]"
      ]
     },
     "metadata": {},
     "output_type": "display_data"
    },
    {
     "data": {
      "application/vnd.jupyter.widget-view+json": {
       "model_id": "840075f36bda470faef5dd6d99694433",
       "version_major": 2,
       "version_minor": 0
      },
      "text/plain": [
       "FILE210924-104611F:   0%|          | 0/3612 [00:00<?, ?it/s]"
      ]
     },
     "metadata": {},
     "output_type": "display_data"
    },
    {
     "data": {
      "application/vnd.jupyter.widget-view+json": {
       "model_id": "16aa74e3c0084b4383f027a60dc28472",
       "version_major": 2,
       "version_minor": 0
      },
      "text/plain": [
       "FILE210924-104711F:   0%|          | 0/3612 [00:00<?, ?it/s]"
      ]
     },
     "metadata": {},
     "output_type": "display_data"
    },
    {
     "data": {
      "application/vnd.jupyter.widget-view+json": {
       "model_id": "73198625cdca4d64b24f6939ca9d3de7",
       "version_major": 2,
       "version_minor": 0
      },
      "text/plain": [
       "FILE210924-104811F:   0%|          | 0/3612 [00:00<?, ?it/s]"
      ]
     },
     "metadata": {},
     "output_type": "display_data"
    },
    {
     "data": {
      "application/vnd.jupyter.widget-view+json": {
       "model_id": "7376c089f92f4913aa844aa217d9e315",
       "version_major": 2,
       "version_minor": 0
      },
      "text/plain": [
       "FILE210924-104911F:   0%|          | 0/3612 [00:00<?, ?it/s]"
      ]
     },
     "metadata": {},
     "output_type": "display_data"
    },
    {
     "data": {
      "application/vnd.jupyter.widget-view+json": {
       "model_id": "fbf01108fe2041cb924a2af7fdc6066b",
       "version_major": 2,
       "version_minor": 0
      },
      "text/plain": [
       "FILE210924-105012F:   0%|          | 0/3612 [00:00<?, ?it/s]"
      ]
     },
     "metadata": {},
     "output_type": "display_data"
    },
    {
     "data": {
      "application/vnd.jupyter.widget-view+json": {
       "model_id": "c9b1ef6979fb4034afaca5f1de28f50b",
       "version_major": 2,
       "version_minor": 0
      },
      "text/plain": [
       "FILE210924-105112F:   0%|          | 0/3612 [00:00<?, ?it/s]"
      ]
     },
     "metadata": {},
     "output_type": "display_data"
    },
    {
     "data": {
      "application/vnd.jupyter.widget-view+json": {
       "model_id": "db86abd2668745d991a35ef6f997ac7a",
       "version_major": 2,
       "version_minor": 0
      },
      "text/plain": [
       "FILE210924-105212F:   0%|          | 0/3612 [00:00<?, ?it/s]"
      ]
     },
     "metadata": {},
     "output_type": "display_data"
    }
   ],
   "source": [
    "#selected_prefix = 'FILE210924-104009F'\n",
    "#parser.split_video(dashcam_dir, selected_prefix, output_dir, output_fps=5, suffix='MP4')\n",
    "\n",
    "parser.split_videos(dashcam_dir, output_dir, output_fps=5, suffix='MP4', verbose=False)"
   ]
  }
 ],
 "metadata": {
  "kernelspec": {
   "display_name": "gpuEnv",
   "language": "python",
   "name": "gpuenv"
  },
  "language_info": {
   "codemirror_mode": {
    "name": "ipython",
    "version": 3
   },
   "file_extension": ".py",
   "mimetype": "text/x-python",
   "name": "python",
   "nbconvert_exporter": "python",
   "pygments_lexer": "ipython3",
   "version": "3.8.11"
  }
 },
 "nbformat": 4,
 "nbformat_minor": 5
}
