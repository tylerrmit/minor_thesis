{
 "cells": [
  {
   "cell_type": "markdown",
   "id": "a4d1c720",
   "metadata": {},
   "source": [
    "# 05. Model Training Setup\n",
    "\n",
    "Given a dataset of labelled training images, create a label map configuration file and Tensorflow train/test tfrecords to be used in the training of a variety of potential object detection models from the TensorFlow 2 Model Garden\n",
    " "
   ]
  },
  {
   "cell_type": "markdown",
   "id": "336a65bf",
   "metadata": {},
   "source": [
    "## Configuration\n",
    "\n",
    "Any configuration that is required to run this notebook can be customized in the next cell"
   ]
  },
  {
   "cell_type": "code",
   "execution_count": 1,
   "id": "4b9ead42",
   "metadata": {},
   "outputs": [],
   "source": [
    "# Prefix that will be included as a suffix in the label map file and tfrecord train and test files\n",
    "# Please ensure that you have put the required train and test images, with their label files from\n",
    "# lableImg, into the directory TensorFlow/worksspace/imsages/train_XXX and test_XXX, where XXX is\n",
    "# the dataset_version you specify below\n",
    "\n",
    "dataset_version = 'V1'"
   ]
  },
  {
   "cell_type": "markdown",
   "id": "5025efcb",
   "metadata": {},
   "source": [
    "## Code"
   ]
  },
  {
   "cell_type": "code",
   "execution_count": 2,
   "id": "700b14b8",
   "metadata": {},
   "outputs": [],
   "source": [
    "# General imports\n",
    "import os\n",
    "import sys\n",
    "\n",
    "from pathlib import Path\n",
    "\n",
    "#import object_detection\n",
    "#import tensorflow as tf\n",
    "\n",
    "# Make sure local modules can be imported\n",
    "module_path_root = os.path.abspath(os.pardir)\n",
    "if module_path_root not in sys.path:\n",
    "    sys.path.append(module_path_root)\n",
    "    \n",
    "# Get root install path, a level above the minor_thesis folder from GitHub\n",
    "install_path_root = Path(module_path_root).parent.absolute()"
   ]
  },
  {
   "cell_type": "code",
   "execution_count": 3,
   "id": "b3b88c1e",
   "metadata": {},
   "outputs": [],
   "source": [
    "# Derived paths\n",
    "annotations_dir   = os.path.join(install_path_root, 'TensorFlow', 'workspace', 'annotations')\n",
    "image_train_dir   = os.path.join(install_path_root, 'TensorFlow', 'workspace', 'images', 'train_{0:s}'.format(dataset_version))\n",
    "image_test_dir    = os.path.join(install_path_root, 'TensorFlow', 'workspace', 'images', 'test_{0:s}'.format(dataset_version))\n",
    "\n",
    "label_map_path    = os.path.join(annotations_dir, 'label_map_{0:s}.pbtxt'.format(dataset_version))\n",
    "train_record_path = os.path.join(annotations_dir, 'train_{0:s}.record'.format(dataset_version))\n",
    "test_record_path  = os.path.join(annotations_dir, 'test_{0:s}.record'.format(dataset_version))\n",
    "\n",
    "tf_record_script  = os.path.join(module_path_root, 'contrib', 'generate_tfrecord.py')\n",
    "\n",
    "# Create directories if they do not already exist\n",
    "Path(annotations_dir).mkdir(parents=True, exist_ok=True)\n",
    "Path(image_train_dir).mkdir(parents=True, exist_ok=True)\n",
    "Path(image_test_dir).mkdir(parents=True, exist_ok=True)"
   ]
  },
  {
   "cell_type": "code",
   "execution_count": 4,
   "id": "ac41f22b",
   "metadata": {},
   "outputs": [],
   "source": [
    "# Create Label Map file\n",
    "labels = [\n",
    "    {'name':'BikeLaneMarker', 'id':1},\n",
    "    {'name':'GiveWayMarker',  'id':2},\n",
    "    {'name':'IslandMarker',   'id':3},\n",
    "    {'name':'ArrowMarker',    'id':4},\n",
    "    {'name':'RoadDefect',     'id':5},\n",
    "    {'name':'RoadWriting',    'id':6}\n",
    "]\n",
    "\n",
    "with open(label_map_path, 'w') as f:\n",
    "    for label in labels:\n",
    "        f.write('item { \\n')\n",
    "        f.write('\\tname:\\'{}\\'\\n'.format(label['name']))\n",
    "        f.write('\\tid:{}\\n'.format(label['id']))\n",
    "        f.write('}\\n')"
   ]
  },
  {
   "cell_type": "code",
   "execution_count": 5,
   "id": "f1429fb7",
   "metadata": {},
   "outputs": [
    {
     "name": "stdout",
     "output_type": "stream",
     "text": [
      "Successfully created the TFRecord file: E:\\Release\\TensorFlow\\workspace\\annotations\\train_V1.record\n",
      "Successfully created the TFRecord file: E:\\Release\\TensorFlow\\workspace\\annotations\\test_V1.record\n"
     ]
    }
   ],
   "source": [
    "# Create TensorFlow records from the images in the train and test directories\n",
    "!python {tf_record_script} -x {image_train_dir} -l {label_map_path} -o {train_record_path}\n",
    "!python {tf_record_script} -x {image_test_dir}  -l {label_map_path} -o {test_record_path}"
   ]
  }
 ],
 "metadata": {
  "kernelspec": {
   "display_name": "gpuEnv",
   "language": "python",
   "name": "gpuenv"
  },
  "language_info": {
   "codemirror_mode": {
    "name": "ipython",
    "version": 3
   },
   "file_extension": ".py",
   "mimetype": "text/x-python",
   "name": "python",
   "nbconvert_exporter": "python",
   "pygments_lexer": "ipython3",
   "version": "3.8.11"
  }
 },
 "nbformat": 4,
 "nbformat_minor": 5
}
