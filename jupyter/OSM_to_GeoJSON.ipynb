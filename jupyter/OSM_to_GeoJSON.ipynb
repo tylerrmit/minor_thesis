{
 "cells": [
  {
   "cell_type": "markdown",
   "id": "cb9805c4",
   "metadata": {},
   "source": [
    "# OSM to GeoJSON\n",
    "\n",
    "Transform an OSM (XML) file into a pair of .geojson files, for easier drawing on a map.\n",
    "\n",
    "We produce one .geojson file with all ways from the original OSM data, and a second one with just the ways that are tagged as \"cycleways\".\n",
    "\n",
    "Depends on OSM (XML) files already having been extracted for the locality, see OSM_Filter.ipynb first."
   ]
  },
  {
   "cell_type": "code",
   "execution_count": 1,
   "id": "7ee8c400",
   "metadata": {},
   "outputs": [],
   "source": [
    "# Specify the locality whose OSM file we want to load\n",
    "\n",
    "#locality = 'Mount Eliza'\n",
    "#locality = 'Frankston'\n",
    "locality = 'Langwarrin'"
   ]
  },
  {
   "cell_type": "code",
   "execution_count": 2,
   "id": "ce231461",
   "metadata": {},
   "outputs": [],
   "source": [
    "import json\n",
    "import math\n",
    "import os\n",
    "import sys\n",
    "import xml.dom.minidom\n",
    "\n",
    "from geographiclib.geodesic import Geodesic\n",
    "\n",
    "geod = Geodesic.WGS84  # define the WGS84 ellipsoid\n",
    "\n",
    "# Make sure local modules can be imported\n",
    "module_path_root = os.path.abspath(os.pardir)\n",
    "if module_path_root not in sys.path:\n",
    "    sys.path.append(module_path_root)"
   ]
  },
  {
   "cell_type": "code",
   "execution_count": 3,
   "id": "eb90c9d7",
   "metadata": {},
   "outputs": [],
   "source": [
    "# Load the XML file into memory\n",
    "# This assumes that we have reduced the OpenStreetMap data down to a small enough locality\n",
    "# that the in-memory approach is feasible\n",
    "\n",
    "osm_filename = os.path.join(os.pardir, 'data_sources', 'Locality_' + locality.replace(' ', '_') + '.osm')\n",
    "\n",
    "doc = xml.dom.minidom.parse(osm_filename)"
   ]
  },
  {
   "cell_type": "code",
   "execution_count": 4,
   "id": "f2c6a889",
   "metadata": {},
   "outputs": [
    {
     "name": "stdout",
     "output_type": "stream",
     "text": [
      "Way count:  7539\n",
      "Node count: 44976\n"
     ]
    }
   ],
   "source": [
    "# Get ways and nodes from XML document\n",
    "ways_xml  = doc.getElementsByTagName('way')\n",
    "nodes_xml = doc.getElementsByTagName('node')\n",
    "\n",
    "# Cache ways in dict by name\n",
    "ways = {}\n",
    "for way in ways_xml:\n",
    "    tags = way.getElementsByTagName('tag')\n",
    "    for tag in tags:\n",
    "        k = tag.getAttribute('k')\n",
    "        if k == 'name':\n",
    "            v = tag.getAttribute('v').upper()\n",
    "            \n",
    "            if v in ways:\n",
    "                ways[v].append(way)\n",
    "            else:\n",
    "                ways[v] = [way]\n",
    "                \n",
    "# Cache nodes in dict by id/ref\n",
    "nodes = {}\n",
    "for node in nodes_xml:\n",
    "    id = node.getAttribute('id').upper()\n",
    "    nodes[id] = node\n",
    "    \n",
    "print('Way count:  %d' % ways_xml.length)\n",
    "print('Node count: %d' % nodes_xml.length)"
   ]
  },
  {
   "cell_type": "code",
   "execution_count": 5,
   "id": "080297fb",
   "metadata": {},
   "outputs": [],
   "source": [
    "def find_way_by_name(name):\n",
    "    return ways[name.upper()]"
   ]
  },
  {
   "cell_type": "code",
   "execution_count": 6,
   "id": "parliamentary-leader",
   "metadata": {},
   "outputs": [],
   "source": [
    "#x = find_way_by_name('Millbank Drive')"
   ]
  },
  {
   "cell_type": "code",
   "execution_count": 7,
   "id": "eight-magic",
   "metadata": {},
   "outputs": [],
   "source": [
    "def print_way(way):\n",
    "    tags = way.getElementsByTagName('tag')\n",
    "    for tag in tags:\n",
    "        k = tag.getAttribute('k')\n",
    "        if k == 'name':\n",
    "            v = tag.getAttribute('v')\n",
    "            print(v)\n",
    "            return"
   ]
  },
  {
   "cell_type": "code",
   "execution_count": 8,
   "id": "inappropriate-saint",
   "metadata": {},
   "outputs": [],
   "source": [
    "#print_way(x[0])"
   ]
  },
  {
   "cell_type": "code",
   "execution_count": 9,
   "id": "answering-holmes",
   "metadata": {},
   "outputs": [],
   "source": [
    "def find_ways_by_attribute(attr, exclusion_val_list=['no']):\n",
    "    matching_ways = []\n",
    "    \n",
    "    for way in ways_xml:\n",
    "        tags = way.getElementsByTagName('tag')\n",
    "        for tag in tags:\n",
    "            k = tag.getAttribute('k')\n",
    "            if k.upper().startswith(attr.upper()):\n",
    "                v = tag.getAttribute('v')\n",
    "                for exclusion_val in exclusion_val_list:\n",
    "                    if v == exclusion_val:\n",
    "                        k = ''\n",
    "            if k == attr:\n",
    "                matching_ways.append(way)\n",
    "    \n",
    "    return matching_ways"
   ]
  },
  {
   "cell_type": "code",
   "execution_count": 10,
   "id": "sophisticated-powder",
   "metadata": {},
   "outputs": [],
   "source": [
    "cycleways = find_ways_by_attribute('cycleway')"
   ]
  },
  {
   "cell_type": "code",
   "execution_count": 11,
   "id": "d9e33186",
   "metadata": {},
   "outputs": [
    {
     "name": "stdout",
     "output_type": "stream",
     "text": [
      "Cycleway count:  76\n"
     ]
    }
   ],
   "source": [
    "print('Cycleway count:  %d' % len(cycleways))"
   ]
  },
  {
   "cell_type": "code",
   "execution_count": 12,
   "id": "3fb1f11a",
   "metadata": {},
   "outputs": [
    {
     "name": "stdout",
     "output_type": "stream",
     "text": [
      "Western Port Highway\n",
      "Cranbourne - Frankston Road\n",
      "Cranbourne Road\n",
      "Western Port Highway\n",
      "Western Port Highway\n",
      "Western Port Highway\n",
      "Western Port Highway\n",
      "Western Port Highway\n",
      "Western Port Highway\n",
      "Cranbourne Road\n",
      "Cranbourne Road\n",
      "Cranbourne Road\n",
      "Peninsula Link Trail\n",
      "Peninsula Link Trail\n",
      "Cranbourne - Frankston Road\n",
      "Cranbourne - Frankston Road\n",
      "Cranbourne - Frankston Road\n",
      "Cranbourne - Frankston Road\n",
      "Cranbourne - Frankston Road\n",
      "Cranbourne - Frankston Road\n",
      "Cranbourne - Frankston Road\n",
      "Peninsula Link Trail\n",
      "Cranbourne - Frankston Road\n",
      "Cranbourne - Frankston Road\n",
      "Cranbourne - Frankston Road\n",
      "Western Port Highway\n",
      "Western Port Highway\n",
      "Western Port Highway\n",
      "Western Port Highway\n",
      "Cranbourne - Frankston Road\n",
      "Cranbourne - Frankston Road\n",
      "Cranbourne - Frankston Road\n",
      "Cranbourne - Frankston Road\n",
      "Western Port Highway\n",
      "Cranbourne Road\n",
      "Cranbourne - Frankston Road\n",
      "Cranbourne - Frankston Road\n",
      "Cranbourne - Frankston Road\n",
      "Cranbourne - Frankston Road\n",
      "Cranbourne - Frankston Road\n",
      "Cranbourne - Frankston Road\n",
      "Cranbourne Road\n",
      "Cranbourne - Frankston Road\n",
      "Cranbourne Road\n",
      "Cranbourne - Frankston Road\n",
      "Cranbourne - Frankston Road\n",
      "Cranbourne - Frankston Road\n",
      "Cranbourne - Frankston Road\n",
      "Cranbourne - Frankston Road\n",
      "Cranbourne - Frankston Road\n",
      "Cranbourne - Frankston Road\n",
      "Cranbourne - Frankston Road\n",
      "Cranbourne - Frankston Road\n",
      "Cranbourne - Frankston Road\n",
      "Cranbourne - Frankston Road\n",
      "Cranbourne - Frankston Road\n",
      "Cranbourne - Frankston Road\n",
      "Cranbourne - Frankston Road\n",
      "Cranbourne - Frankston Road\n",
      "Cranbourne Road\n",
      "Cranbourne Road\n",
      "Cranbourne - Frankston Road\n",
      "Cranbourne - Frankston Road\n",
      "Cranbourne - Frankston Road\n",
      "Cranbourne - Frankston Road\n",
      "Cranbourne - Frankston Road\n"
     ]
    }
   ],
   "source": [
    "for cycleway in cycleways:\n",
    "    print_way(cycleway)"
   ]
  },
  {
   "cell_type": "code",
   "execution_count": 13,
   "id": "7c321fb5",
   "metadata": {},
   "outputs": [],
   "source": [
    "def way_to_feature(way):\n",
    "    # Create LineString list of coordinates from nodes attached to way\n",
    "    coordinates = []\n",
    "    \n",
    "    way_node_refs = way.getElementsByTagName('nd')\n",
    "    \n",
    "    for way_node_ref in way_node_refs:\n",
    "        ref = way_node_ref.getAttribute('ref').upper()\n",
    "        way_node = nodes[ref]\n",
    "        # lat -38 lon 145\n",
    "        way_node_lat = way_node.getAttribute('lat')\n",
    "        way_node_lon = way_node.getAttribute('lon')\n",
    "        coordinates.append([way_node_lon, way_node_lat])\n",
    "        \n",
    "    geometry = {\n",
    "        'type': 'LineString',\n",
    "        'coordinates': coordinates\n",
    "    }\n",
    "    \n",
    "    # Fill in properties for the way\n",
    "    properties = {}\n",
    "    \n",
    "    properties['id'] = way.getAttribute('id').upper()\n",
    "    properties['version'] = way.getAttribute('version').upper()\n",
    "    properties['timestamp'] = way.getAttribute('timestamp')\n",
    "    \n",
    "    tags = way.getElementsByTagName('tag')\n",
    "    for tag in tags:\n",
    "        k = tag.getAttribute('k')\n",
    "        v = tag.getAttribute('v')\n",
    "        properties[k] = v\n",
    "    \n",
    "    # Build feature from geometry and properties\n",
    "    feature = {\n",
    "        'type':       'Feature',\n",
    "        'properties': properties,\n",
    "        'geometry':   geometry\n",
    "    }\n",
    "    \n",
    "    return feature"
   ]
  },
  {
   "cell_type": "code",
   "execution_count": 14,
   "id": "a1761e45",
   "metadata": {},
   "outputs": [],
   "source": [
    "def ways_to_featurecollection(ways):\n",
    "    features = []\n",
    "    \n",
    "    for way in ways:\n",
    "        features.append(way_to_feature(way))\n",
    "        \n",
    "    featurecollection = {\n",
    "        'type':     'FeatureCollection',\n",
    "        'features': features\n",
    "    }\n",
    "    \n",
    "    return featurecollection"
   ]
  },
  {
   "cell_type": "code",
   "execution_count": 15,
   "id": "122939f3",
   "metadata": {},
   "outputs": [
    {
     "name": "stdout",
     "output_type": "stream",
     "text": [
      "..\\data_sources\\Locality_OSM_cycleway_Langwarrin.geojson\n"
     ]
    }
   ],
   "source": [
    "fc = ways_to_featurecollection(cycleways)\n",
    "\n",
    "output_filename = os.path.join(os.pardir, 'data_sources', 'Locality_OSM_cycleway_' + locality.replace(' ', '_') + '.geojson')\n",
    "print(output_filename)\n",
    "\n",
    "with open(output_filename, 'w') as outfile:\n",
    "    json.dump(fc, outfile, indent=4)\n",
    "    \n",
    "    outfile.close()"
   ]
  },
  {
   "cell_type": "code",
   "execution_count": 16,
   "id": "75e79e46",
   "metadata": {},
   "outputs": [
    {
     "name": "stdout",
     "output_type": "stream",
     "text": [
      "..\\data_sources\\Locality_OSM_all_Langwarrin.geojson\n"
     ]
    }
   ],
   "source": [
    "fc = ways_to_featurecollection(ways_xml)\n",
    "\n",
    "output_filename = os.path.join(os.pardir, 'data_sources', 'Locality_OSM_all_' + locality.replace(' ', '_') + '.geojson')\n",
    "print(output_filename)\n",
    "\n",
    "with open(output_filename, 'w') as outfile:\n",
    "    json.dump(fc, outfile, indent=4)\n",
    "    \n",
    "    outfile.close()"
   ]
  }
 ],
 "metadata": {
  "kernelspec": {
   "display_name": "Python 3",
   "language": "python",
   "name": "python3"
  },
  "language_info": {
   "codemirror_mode": {
    "name": "ipython",
    "version": 3
   },
   "file_extension": ".py",
   "mimetype": "text/x-python",
   "name": "python",
   "nbconvert_exporter": "python",
   "pygments_lexer": "ipython3",
   "version": "3.8.11"
  }
 },
 "nbformat": 4,
 "nbformat_minor": 5
}
