{
 "cells": [
  {
   "cell_type": "code",
   "execution_count": 1,
   "id": "christian-casino",
   "metadata": {},
   "outputs": [],
   "source": [
    "from datetime import datetime\n",
    "\n",
    "import xml.etree.cElementTree as ET\n",
    "from collections import defaultdict\n",
    "\n",
    "from geopy.geocoders import Nominatim\n",
    "\n",
    "import requests"
   ]
  },
  {
   "cell_type": "markdown",
   "id": "interstate-lawyer",
   "metadata": {},
   "source": [
    "Load OSM dataset into memory/dictionaries"
   ]
  },
  {
   "cell_type": "code",
   "execution_count": 2,
   "id": "purple-camcorder",
   "metadata": {},
   "outputs": [
    {
     "name": "stdout",
     "output_type": "stream",
     "text": [
      "2021-08-07 00:52:19.972275\n",
      "2021-08-07 01:01:39.261148\n"
     ]
    }
   ],
   "source": [
    "#file_path = \"/Users/tylersaxton/thesis/planet_mteliza.osm\"\n",
    "file_path = \"/Users/tylersaxton/thesis/planet_victoria.osm\" # 10 mins and 9GB to cache\n",
    "\n",
    "print(datetime.now())\n",
    "\n",
    "context = ET.iterparse(file_path, events=(\"start\", \"end\"))\n",
    "\n",
    "context = iter(context)\n",
    "\n",
    "way_id  = 0\n",
    "node_id = 0\n",
    "\n",
    "nodes_per_way = defaultdict(list)\n",
    "ways_per_node = defaultdict(list)\n",
    "ways_by_name  = defaultdict(list)\n",
    "ways_by_id    = {}\n",
    "\n",
    "\n",
    "for event, elem in context:\n",
    "    tag = elem.tag\n",
    "    value = elem.text\n",
    "    \n",
    "    if value:\n",
    "        value = value.encode('utf-8').strip()\n",
    "        \n",
    "    if event == 'start':\n",
    "        if tag == 'way':\n",
    "            way_id = elem.get('id', 0)\n",
    "        elif tag == 'nd':\n",
    "            node_id = elem.get('ref', 0)\n",
    "            if way_id != 0:\n",
    "                nodes_per_way[way_id].append(node_id)\n",
    "                ways_per_node[node_id].append(way_id)\n",
    "        elif tag == 'tag':\n",
    "            if way_id != 0 and elem.get('k', '?') == 'name':\n",
    "                way_name = elem.get('v', '?')\n",
    "                ways_by_name[way_name.upper()].append(way_id)\n",
    "                ways_by_id[way_id] = way_name.upper()\n",
    "                \n",
    "    if event == 'end' and tag == 'way':\n",
    "        way_id = 0\n",
    "\n",
    "    elem.clear()\n",
    "\n",
    "# Second pass to load the latitude and longitude of nodes IF AND ONLY IF\n",
    "# they are involved in an intersection\n",
    "\n",
    "print(datetime.now())\n",
    "\n",
    "context = ET.iterparse(file_path, events=(\"start\", \"end\"))\n",
    "\n",
    "context = iter(context)\n",
    "\n",
    "way_id  = 0\n",
    "node_id = 0\n",
    "\n",
    "node_lat      = {}\n",
    "node_lon      = {}\n",
    "\n",
    "for event, elem in context:\n",
    "    tag = elem.tag\n",
    "    value = elem.text\n",
    "    \n",
    "    if value:\n",
    "        value = value.encode('utf-8').strip()\n",
    "        \n",
    "    if event == 'start':\n",
    "        if tag == 'node':\n",
    "            node_id = elem.get('id', 0)\n",
    "            lat     = elem.get('lat', 0)\n",
    "            lon     = elem.get('lon', 0)\n",
    "            \n",
    "            if len(ways_per_node[node_id]) > 1:\n",
    "                node_lat[node_id] = lat\n",
    "                node_lon[node_id] = lon\n",
    "\n",
    "    elem.clear()\n",
    "\n",
    "print(datetime.now())"
   ]
  },
  {
   "cell_type": "code",
   "execution_count": 3,
   "id": "textile-forum",
   "metadata": {},
   "outputs": [],
   "source": [
    "def nominatim_search(street, city):\n",
    "    # api-endpoint\n",
    "    URL = \"http://geo.local/nominatim/search\"\n",
    "    \n",
    "    params = {\n",
    "        'street': street,\n",
    "        'city': city\n",
    "    }\n",
    "        \n",
    "    # sending get request and saving the response as response object\n",
    "    r = requests.get(url = URL, params = params)\n",
    "    \n",
    "    # extracting data in json format\n",
    "    return r.json()"
   ]
  },
  {
   "cell_type": "code",
   "execution_count": 4,
   "id": "exclusive-control",
   "metadata": {},
   "outputs": [],
   "source": [
    "def is_overlapping(box1, box2, margin=0.01):\n",
    "    # Add margin to box1\n",
    "    box1_margin = []\n",
    "    box1_margin.append(box1[0] - margin)\n",
    "    box1_margin.append(box1[1] + margin)\n",
    "    box1_margin.append(box1[2] - margin)\n",
    "    box1_margin.append(box1[3] + margin)\n",
    "\n",
    "    #print('Margin: ' + str(box1_margin))\n",
    "    \n",
    "    # Check if latitude or longitude overlaps\n",
    "    lat_overlap = False\n",
    "    lon_overlap = False\n",
    "    \n",
    "    if box1_margin[0] <= box2[0] <= box1_margin[1]:\n",
    "        lat_overlap = True\n",
    "    if box1_margin[0] <= box2[1] <= box1_margin[1]:\n",
    "        lat_overlap = True\n",
    "    if box1_margin[2] <= box2[2] <= box1_margin[3]:\n",
    "        lon_overlap = True\n",
    "    if box1_margin[2] <= box2[3] <= box1_margin[3]:\n",
    "        lon_overlap = True\n",
    "        \n",
    "    return (lat_overlap and lon_overlap)"
   ]
  },
  {
   "cell_type": "code",
   "execution_count": 8,
   "id": "conscious-romania",
   "metadata": {},
   "outputs": [],
   "source": [
    "def find_intersections(street, city):\n",
    "    # Find bounding_box of original street\n",
    "    original_street = nominatim_search(street.upper(), city.upper())\n",
    "    \n",
    "    original_bounding_box_str = original_street[0]['boundingbox']\n",
    "    original_bounding_box = [float(i) for i in original_bounding_box_str]\n",
    "    \n",
    "    print('Original:  ' + street.upper() + \" = \" + str(original_bounding_box))\n",
    "    \n",
    "    # Find way_id list for the name\n",
    "    way_ids = ways_by_name[street.upper()]\n",
    "    \n",
    "    intersection_names = {}\n",
    "    \n",
    "    # Find every matching street name (possibly in another suburb!)\n",
    "    for way_id in way_ids:\n",
    "        # Find every node associated with that street\n",
    "        for node_id in nodes_per_way[way_id]:\n",
    "            # Find every other street the node is associated with\n",
    "            for way_id2 in ways_per_node[node_id]:\n",
    "                # Ignore any ways that were clipped from teh map\n",
    "                if way_id2 in ways_by_id:\n",
    "                    # Find the street name for the other potential intersecting street\n",
    "                    intersection_name = ways_by_id[way_id2]\n",
    "                    if intersection_name.upper() != street.upper():                        \n",
    "                        # Check Nominatim service to see if boundary boxes roughly overlap\n",
    "                        \n",
    "                        pot_streets = nominatim_search(intersection_name.upper(), city.upper())\n",
    "                        for pot_street in pot_streets:\n",
    "                            pot_street_bounding_box_str = pot_street['boundingbox']\n",
    "                            pot_street_bounding_box = [float(i) for i in pot_street_bounding_box_str]\n",
    "                            \n",
    "                            # print('Potential: ' + intersection_name + ' = ' + str(pot_street_bounding_box))\n",
    "                            \n",
    "                            if is_overlapping(original_bounding_box, pot_street_bounding_box):                          \n",
    "                                intersection_names[intersection_name] = [float(node_lat[node_id]), float(node_lon[node_id])]\n",
    "\n",
    "    return intersection_names"
   ]
  },
  {
   "cell_type": "code",
   "execution_count": 9,
   "id": "respective-finnish",
   "metadata": {},
   "outputs": [
    {
     "name": "stdout",
     "output_type": "stream",
     "text": [
      "Original:  MILLBANK DRIVE = [-38.1990811, -38.1894195, 145.1037342, 145.1064294]\n"
     ]
    },
    {
     "data": {
      "text/plain": [
       "{'BELLBIRD ROAD': [-38.1990811, 145.1044224],\n",
       " 'MATHER ROAD': [-38.1959845, 145.1040959],\n",
       " 'RYLSTON COURT': [-38.1940608, 145.1046181],\n",
       " 'ESME COURT': [-38.192864, 145.1043193],\n",
       " 'WALKERS ROAD': [-38.1894195, 145.1037342]}"
      ]
     },
     "execution_count": 9,
     "metadata": {},
     "output_type": "execute_result"
    }
   ],
   "source": [
    "find_intersections('Millbank Drive', 'Mount Eliza')"
   ]
  },
  {
   "cell_type": "code",
   "execution_count": 10,
   "id": "heard-remove",
   "metadata": {},
   "outputs": [
    {
     "name": "stdout",
     "output_type": "stream",
     "text": [
      "Original:  MILLBANK DRIVE = [-37.7603155, -37.7601512, 144.7649324, 144.7650983]\n"
     ]
    },
    {
     "data": {
      "text/plain": [
       "{'STEVENSTON STREET': [-37.7608924, 144.7654194],\n",
       " 'CROYDON AVENUE': [-37.7624865, 144.7656246],\n",
       " 'WANDSWORTH AVENUE': [-37.7652655, 144.7676181],\n",
       " 'WELWYN PARADE': [-37.7660273, 144.7711462],\n",
       " 'BILLINGHAM ROAD': [-37.7601512, 144.7649324]}"
      ]
     },
     "execution_count": 10,
     "metadata": {},
     "output_type": "execute_result"
    }
   ],
   "source": [
    "find_intersections('Millbank Drive', 'Deer')"
   ]
  }
 ],
 "metadata": {
  "kernelspec": {
   "display_name": "Python 3",
   "language": "python",
   "name": "python3"
  },
  "language_info": {
   "codemirror_mode": {
    "name": "ipython",
    "version": 3
   },
   "file_extension": ".py",
   "mimetype": "text/x-python",
   "name": "python",
   "nbconvert_exporter": "python",
   "pygments_lexer": "ipython3",
   "version": "3.8.8"
  }
 },
 "nbformat": 4,
 "nbformat_minor": 5
}
