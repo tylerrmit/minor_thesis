{
 "cells": [
  {
   "cell_type": "markdown",
   "id": "3e4b94d1",
   "metadata": {},
   "source": [
    "# GUI Review Hits\n",
    "\n",
    "Review initial hits identified to find the real positives and the false positives"
   ]
  },
  {
   "cell_type": "markdown",
   "id": "d4533d52",
   "metadata": {},
   "source": [
    "## Configuration"
   ]
  },
  {
   "cell_type": "code",
   "execution_count": 1,
   "id": "230be32b",
   "metadata": {},
   "outputs": [],
   "source": [
    "subdir = 'dashcam_tour_frankston'"
   ]
  },
  {
   "cell_type": "markdown",
   "id": "87090ae6",
   "metadata": {},
   "source": [
    "## Code"
   ]
  },
  {
   "cell_type": "code",
   "execution_count": 2,
   "id": "38bf9482",
   "metadata": {},
   "outputs": [],
   "source": [
    "import os\n",
    "import sys\n",
    "import ipywidgets as widgets\n",
    "import pandas as pd\n",
    "\n",
    "from pathlib import Path\n",
    "from shutil import copyfile\n",
    "\n",
    "module_path_root = os.path.abspath(os.pardir)\n",
    "if module_path_root not in sys.path:\n",
    "    sys.path.append(module_path_root)"
   ]
  },
  {
   "cell_type": "code",
   "execution_count": 3,
   "id": "c798c487",
   "metadata": {},
   "outputs": [],
   "source": [
    "detections_dir     = os.path.join(os.pardir, 'data_sources', subdir, 'detections')\n",
    "hits_dir           = os.path.join(detections_dir, 'hits')\n",
    "split_dir          = os.path.join(os.pardir, 'data_sources', subdir, 'split')\n",
    "true_positive_dir  = os.path.join(hits_dir, 'true_positives')\n",
    "false_positive_dir = os.path.join(hits_dir, 'false_positives')\n",
    "\n",
    "detection_log     = os.path.join(detections_dir, 'detection_log.csv')\n",
    "\n",
    "Path(true_positive_dir).mkdir(parents=True, exist_ok=True)\n",
    "Path(false_positive_dir).mkdir(parents=True, exist_ok=True)"
   ]
  },
  {
   "cell_type": "code",
   "execution_count": 4,
   "id": "74a51042",
   "metadata": {},
   "outputs": [],
   "source": [
    "df = pd.read_csv(detection_log)\n",
    "\n",
    "df.head(5)\n",
    "\n",
    "global image_index\n",
    "image_index = 0"
   ]
  },
  {
   "cell_type": "code",
   "execution_count": 5,
   "id": "01d7829a",
   "metadata": {},
   "outputs": [],
   "source": [
    "def fetch_image_filenames(lat, lon, bearing, path):\n",
    "    abs_lat = abs(lat)\n",
    "    abs_lon = abs(lon)\n",
    "    \n",
    "    if lat < 0:\n",
    "        str_lat = 's'\n",
    "    else:\n",
    "        str_lat = 'n'\n",
    "        \n",
    "    if lon < 0:\n",
    "        str_lon = 'e'\n",
    "    else:\n",
    "        str_lon = 'w'\n",
    "        \n",
    "    bbox_filename = '{0:s}{1:.6f}_{2:s}{3:.6f}_{4:d}.jpg'.format(\n",
    "        str_lat,\n",
    "        abs_lat,\n",
    "        str_lon,\n",
    "        abs_lon,\n",
    "        int(bearing)\n",
    "    )\n",
    "    \n",
    "    orig_filename = os.path.basename(path)\n",
    "    \n",
    "    return orig_filename, bbox_filename"
   ]
  },
  {
   "cell_type": "markdown",
   "id": "2f49c43b",
   "metadata": {},
   "source": [
    "## GUI"
   ]
  },
  {
   "cell_type": "code",
   "execution_count": 6,
   "id": "283d7f1a",
   "metadata": {},
   "outputs": [
    {
     "data": {
      "application/vnd.jupyter.widget-view+json": {
       "model_id": "a9caa7649bdd496eb329277a437d1bb3",
       "version_major": 2,
       "version_minor": 0
      },
      "text/plain": [
       "Image(value=b'\\xff\\xd8\\xff\\xe0\\x00\\x10JFIF\\x00\\x01\\x01\\x00\\x00\\x01\\x00\\x01\\x00\\x00\\xff\\xdb\\x00C\\x00\\x02\\x01\\x0…"
      ]
     },
     "metadata": {},
     "output_type": "display_data"
    },
    {
     "data": {
      "application/vnd.jupyter.widget-view+json": {
       "model_id": "9a3e4c2354944a5786bc83b3828fb312",
       "version_major": 2,
       "version_minor": 0
      },
      "text/plain": [
       "HBox(children=(Button(description='True Postiive', style=ButtonStyle()), Button(description='False Positive', …"
      ]
     },
     "metadata": {},
     "output_type": "display_data"
    },
    {
     "data": {
      "application/vnd.jupyter.widget-view+json": {
       "model_id": "8e77513a17b7401d80ec910648d8a7ff",
       "version_major": 2,
       "version_minor": 0
      },
      "text/plain": [
       "Output()"
      ]
     },
     "metadata": {},
     "output_type": "display_data"
    }
   ],
   "source": [
    "# Set up callback functions\n",
    "def update_image(index):\n",
    "    if index >= len(df):\n",
    "        print('No more images to process')\n",
    "        return\n",
    "    \n",
    "    # Get details of next detection\n",
    "    row = df.iloc[[index]]\n",
    "       \n",
    "    lat       = row['lat'].item()\n",
    "    lon       = row['lon'].item()\n",
    "    bearing   = row['bearing'].item()\n",
    "    orig_path = row['orig_filename'].item()\n",
    "\n",
    "    global orig_filename\n",
    "    global bbox_filename\n",
    "    \n",
    "    orig_filename, bbox_filename = fetch_image_filenames(lat, lon, bearing, orig_path)\n",
    "    \n",
    "    filename = os.path.join(hits_dir, bbox_filename)\n",
    "    file     = open(filename, 'rb')\n",
    "    image    = file.read()\n",
    "    \n",
    "    image_widget.value = image\n",
    "    count_widget.value = '{0:d} of {1:d}'.format(index+1, len(df))\n",
    "\n",
    "# Create widgets\n",
    "image_widget = widgets.Image(format='jpg')\n",
    "count_widget = widgets.Text(value='{0:d} of {1:d}'.format(1, len(df)))\n",
    "hit_button   = widgets.Button(description='True Postiive')\n",
    "miss_button  = widgets.Button(description='False Positive')\n",
    "dup_button   = widgets.Button(description='Duplicate')\n",
    "row          = widgets.HBox([hit_button, miss_button, dup_button, count_widget])\n",
    "out          = widgets.Output()\n",
    "\n",
    "@out.capture()\n",
    "\n",
    "def next_image():\n",
    "    global image_index\n",
    "    image_index += 1\n",
    "    update_image(image_index)\n",
    "    \n",
    "def on_hit(b):\n",
    "    copyfile(os.path.join(split_dir,orig_filename), os.path.join(true_positive_dir, orig_filename))\n",
    "    next_image()\n",
    "    \n",
    "def on_miss(b):\n",
    "    copyfile(os.path.join(split_dir,orig_filename), os.path.join(false_positive_dir, orig_filename))\n",
    "    next_image()\n",
    "    \n",
    "def on_duplicate(b):\n",
    "    next_image()\n",
    "\n",
    "hit_button.on_click(on_hit)\n",
    "miss_button.on_click(on_miss)\n",
    "\n",
    "# Start with the first image\n",
    "update_image(0)\n",
    "\n",
    "# Display the GUI\n",
    "display(image_widget)\n",
    "display(row)\n",
    "display(out)"
   ]
  },
  {
   "cell_type": "code",
   "execution_count": null,
   "id": "22bf8a7f",
   "metadata": {},
   "outputs": [],
   "source": []
  }
 ],
 "metadata": {
  "kernelspec": {
   "display_name": "gpuEnv",
   "language": "python",
   "name": "gpuenv"
  },
  "language_info": {
   "codemirror_mode": {
    "name": "ipython",
    "version": 3
   },
   "file_extension": ".py",
   "mimetype": "text/x-python",
   "name": "python",
   "nbconvert_exporter": "python",
   "pygments_lexer": "ipython3",
   "version": "3.8.11"
  }
 },
 "nbformat": 4,
 "nbformat_minor": 5
}
