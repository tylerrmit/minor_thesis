{
 "cells": [
  {
   "cell_type": "markdown",
   "id": "3784c95f",
   "metadata": {},
   "source": [
    "# 21. Map Paved Shoulders Dashcam\n",
    "\n",
    "Draw maps to compare the bicycle lane routes detected from dashcam images in a survey area vs. the OpenStreetMap cycleways"
   ]
  },
  {
   "cell_type": "markdown",
   "id": "d7ac5bd6",
   "metadata": {},
   "source": [
    "## Configuration\n",
    "\n",
    "Any configuration that is required to run this notebook can be customized in the next cell"
   ]
  },
  {
   "cell_type": "code",
   "execution_count": 1,
   "id": "27eb8f15",
   "metadata": {},
   "outputs": [],
   "source": [
    "# Name of the subdirectory containing dashcam footage for an area, split into frame images in a\n",
    "# \"split\" subdirectory, with an associated \"metadata.csv\"\n",
    "# This subdirectory is assumed to be in the 'data_sources' directory\n",
    "import_directory = 'dashcam_tour_mount_eliza'\n",
    "\n",
    "# Which \"locality\" do we wish to process?\n",
    "locality = 'Mount Eliza'\n",
    "\n",
    "# We will sample the middle of each intersection, but we can also sample a\n",
    "# \"margin\" around the intersection, at 10m intervals.\n",
    "# E.g. if we set this to \"20\" then we will sample points at:\n",
    "#    -20m, -10m, 0m, 10m, and 20m\n",
    "# from the centre of the intersection, along the assumed bearing of the road\n",
    "margin = 20\n",
    "\n",
    "# Default zoom level for maps\n",
    "zoom = 12"
   ]
  },
  {
   "cell_type": "markdown",
   "id": "e03e7616",
   "metadata": {},
   "source": [
    "## Code"
   ]
  },
  {
   "cell_type": "code",
   "execution_count": 2,
   "id": "7a12cc14",
   "metadata": {},
   "outputs": [],
   "source": [
    "# General imports\n",
    "import json\n",
    "import os\n",
    "import sys\n",
    "\n",
    "from ipyleaflet import Map, Marker, GeoJSON\n",
    "\n",
    "import pandas as pd\n",
    "\n",
    "# Make sure local modules can be imported\n",
    "module_path_root = os.path.abspath(os.pardir)\n",
    "if module_path_root not in sys.path:\n",
    "    sys.path.append(module_path_root)\n",
    "    \n",
    "# Import local modules\n",
    "import osm_gsv_utils.detection_map as detection_map"
   ]
  },
  {
   "cell_type": "code",
   "execution_count": 3,
   "id": "1207728f",
   "metadata": {},
   "outputs": [],
   "source": [
    "# Derive paths for configuration\n",
    "\n",
    "# A version of the locality name with spaces replaced by underscores\n",
    "locality_clean   = locality.replace(' ', '_')\n",
    "\n",
    "# Name of the locality with the margin around intersections included\n",
    "locality_margin  = '{0:s}_{1:d}m'.format(locality_clean, margin)\n",
    "\n",
    "# Detection directory\n",
    "detection_dir = os.path.join(module_path_root, 'data_sources', import_directory, 'detections')\n",
    "\n",
    "# Geojson files of detectsions and comparisons to OSM\n",
    "detected_filename = os.path.join(detection_dir, 'hit.geojson')\n",
    "tag_filename      = os.path.join(detection_dir, 'tag.geojson')\n",
    "both_filename     = os.path.join(detection_dir, 'both.geojson')\n",
    "hit_only_filename = os.path.join(detection_dir, 'hit_only.geojson')\n",
    "tag_only_filename = os.path.join(detection_dir, 'tag_only.geojson')\n",
    "\n",
    "# Geojson file describing the outline of the survey area\n",
    "margin_filename   = os.path.join(module_path_root, 'data_sources', 'Locality_{0:s}.geojson'.format(locality_clean))\n",
    "\n",
    "# Geojson file describing the exact outline of the town\n",
    "LGA_locality = locality.replace(' Sample', '')\n",
    "locality_filename = os.path.join(os.pardir, 'data_sources', 'LGA_boundary_' + LGA_locality + '.geojson')\n",
    "\n",
    "# Geojson file with detected paved shoulders\n",
    "lanes_filename = os.path.join(module_path_root, 'data_sources', 'dashcam_tour_mount_eliza', 'split', 'lanes.geojson')"
   ]
  },
  {
   "cell_type": "markdown",
   "id": "7701aedd",
   "metadata": {},
   "source": [
    "## Map 1: Detected bicycle lane routes\n",
    "\n",
    "Infer bicycle lane routes based on the points at which bicycle lane markings were detected by the model"
   ]
  },
  {
   "cell_type": "code",
   "execution_count": 4,
   "id": "3db3012d",
   "metadata": {},
   "outputs": [
    {
     "data": {
      "application/vnd.jupyter.widget-view+json": {
       "model_id": "9a748cc33f49482195029ade626cd912",
       "version_major": 2,
       "version_minor": 0
      },
      "text/plain": [
       "Map(center=[-38.193788999999995, 145.094876], controls=(ZoomControl(options=['position', 'zoom_in_text', 'zoom…"
      ]
     },
     "metadata": {},
     "output_type": "display_data"
    }
   ],
   "source": [
    "# Load boundary of the survey area, so we can draw it on the map\n",
    "margin_layer, margin_data = detection_map.load_layer(margin_filename)\n",
    "\n",
    "# Find the center of the survey area, so we can center the map\n",
    "center = detection_map.get_centroid(margin_data)\n",
    "\n",
    "# Load lines that we drew from the detected points\n",
    "shoulder_layer, shoulder_data = detection_map.load_layer(lanes_filename, color='red')\n",
    "\n",
    "# Build the map from the boundary of the survey area, and the detected lanes layer\n",
    "m1 = Map(center=center, zoom=zoom)\n",
    "m1.add_layer(margin_layer)\n",
    "m1.add_layer(shoulder_layer)\n",
    "\n",
    "# Display the map\n",
    "m1"
   ]
  }
 ],
 "metadata": {
  "kernelspec": {
   "display_name": "gpuEnv",
   "language": "python",
   "name": "gpuenv"
  },
  "language_info": {
   "codemirror_mode": {
    "name": "ipython",
    "version": 3
   },
   "file_extension": ".py",
   "mimetype": "text/x-python",
   "name": "python",
   "nbconvert_exporter": "python",
   "pygments_lexer": "ipython3",
   "version": "3.8.11"
  }
 },
 "nbformat": 4,
 "nbformat_minor": 5
}
