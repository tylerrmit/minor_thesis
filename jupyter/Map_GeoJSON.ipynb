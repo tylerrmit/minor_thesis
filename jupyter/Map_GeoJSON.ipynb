{
 "cells": [
  {
   "cell_type": "markdown",
   "id": "3784c95f",
   "metadata": {},
   "source": [
    "# Display map with GeoJSON layers\n",
    "\n",
    "https://ipyleaflet.readthedocs.io/en/latest/api_reference/geo_json.html\n"
   ]
  },
  {
   "cell_type": "code",
   "execution_count": 1,
   "id": "7a12cc14",
   "metadata": {},
   "outputs": [],
   "source": [
    "import json\n",
    "import os\n",
    "import sys\n",
    "from ipyleaflet import Map, GeoJSON\n",
    "\n",
    "# Make sure local modules can be imported\n",
    "module_path_root = os.path.abspath(os.pardir)\n",
    "if module_path_root not in sys.path:\n",
    "    sys.path.append(module_path_root)"
   ]
  },
  {
   "cell_type": "code",
   "execution_count": 2,
   "id": "27eb8f15",
   "metadata": {},
   "outputs": [],
   "source": [
    "# Specify the locality whose OSM file we want to load\n",
    "\n",
    "locality = 'Mount Eliza'"
   ]
  },
  {
   "cell_type": "code",
   "execution_count": 3,
   "id": "7a5216dc",
   "metadata": {},
   "outputs": [],
   "source": [
    "locality_filename = os.path.join(os.pardir, 'data_sources', 'Locality_' + locality.replace(' ', '_') + '.geojson')\n",
    "\n",
    "with open(locality_filename) as locality_file:\n",
    "    locality_data = json.load(locality_file)\n",
    "\n",
    "locality_layer = GeoJSON(data=locality_data) "
   ]
  },
  {
   "cell_type": "code",
   "execution_count": 4,
   "id": "fbada79e",
   "metadata": {},
   "outputs": [],
   "source": [
    "pbn_filename = os.path.join(os.pardir, 'data_sources', 'Principal_Bicycle_Network_(PBN).geojson')\n",
    "\n",
    "with open(pbn_filename) as pbn_file:\n",
    "    pbn_data = json.load(pbn_file)\n",
    "    \n",
    "pbn_layer = GeoJSON(data=pbn_data, style={'color': 'red'})"
   ]
  },
  {
   "cell_type": "code",
   "execution_count": 5,
   "id": "29e1a28e",
   "metadata": {},
   "outputs": [],
   "source": [
    "center = [-38.168623, 145.085576]\n",
    "zoom = 11\n",
    "\n",
    "m = Map(center=center, zoom=zoom)\n",
    "m.add_layer(locality_layer)\n",
    "m.add_layer(pbn_layer)"
   ]
  },
  {
   "cell_type": "code",
   "execution_count": 6,
   "id": "1b17026a",
   "metadata": {},
   "outputs": [
    {
     "data": {
      "application/vnd.jupyter.widget-view+json": {
       "model_id": "3c50462b21a04df893d849a3f1f5a1e5",
       "version_major": 2,
       "version_minor": 0
      },
      "text/plain": [
       "Map(center=[-38.168623, 145.085576], controls=(ZoomControl(options=['position', 'zoom_in_text', 'zoom_in_title…"
      ]
     },
     "metadata": {},
     "output_type": "display_data"
    }
   ],
   "source": [
    "m"
   ]
  }
 ],
 "metadata": {
  "kernelspec": {
   "display_name": "Python 3",
   "language": "python",
   "name": "python3"
  },
  "language_info": {
   "codemirror_mode": {
    "name": "ipython",
    "version": 3
   },
   "file_extension": ".py",
   "mimetype": "text/x-python",
   "name": "python",
   "nbconvert_exporter": "python",
   "pygments_lexer": "ipython3",
   "version": "3.8.11"
  }
 },
 "nbformat": 4,
 "nbformat_minor": 5
}
