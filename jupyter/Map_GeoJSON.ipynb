{
 "cells": [
  {
   "cell_type": "markdown",
   "id": "3784c95f",
   "metadata": {},
   "source": [
    "# Display map with GeoJSON layers\n",
    "\n",
    "https://ipyleaflet.readthedocs.io/en/latest/api_reference/geo_json.html\n"
   ]
  },
  {
   "cell_type": "markdown",
   "id": "d7ac5bd6",
   "metadata": {},
   "source": [
    "## Configuration"
   ]
  },
  {
   "cell_type": "code",
   "execution_count": 1,
   "id": "27eb8f15",
   "metadata": {},
   "outputs": [],
   "source": [
    "# Specify the locality whose OSM file we want to load\n",
    "\n",
    "locality = 'Mount Eliza Sample'\n",
    "margin   = 20\n",
    "zoom     = 14"
   ]
  },
  {
   "cell_type": "markdown",
   "id": "e03e7616",
   "metadata": {},
   "source": [
    "## Load required modules"
   ]
  },
  {
   "cell_type": "code",
   "execution_count": 2,
   "id": "7a12cc14",
   "metadata": {},
   "outputs": [],
   "source": [
    "import json\n",
    "import os\n",
    "import sys\n",
    "\n",
    "from ipyleaflet import Map, Marker, GeoJSON\n",
    "\n",
    "import pandas as pd\n",
    "\n",
    "# Make sure local modules can be imported\n",
    "module_path_root = os.path.abspath(os.pardir)\n",
    "if module_path_root not in sys.path:\n",
    "    sys.path.append(module_path_root)\n",
    "    \n",
    "# Import local modules\n",
    "import osm_gsv_utils.detection_map as detection_map"
   ]
  },
  {
   "cell_type": "markdown",
   "id": "3c62b902",
   "metadata": {},
   "source": [
    "## Display map of detected points with boundary"
   ]
  },
  {
   "cell_type": "code",
   "execution_count": 3,
   "id": "1207728f",
   "metadata": {},
   "outputs": [],
   "source": [
    "# Version of locality strings with underscores\n",
    "locality_clean  = locality.replace(' ', '_')\n",
    "locality_margin = '{0:s}_{1:d}m'.format(locality_clean, margin)"
   ]
  },
  {
   "cell_type": "code",
   "execution_count": 4,
   "id": "fc4d3a72",
   "metadata": {},
   "outputs": [
    {
     "name": "stdout",
     "output_type": "stream",
     "text": [
      "Point count: 126\n"
     ]
    },
    {
     "data": {
      "application/vnd.jupyter.widget-view+json": {
       "model_id": "b10cbbc8d14c48e1ba202a2806937776",
       "version_major": 2,
       "version_minor": 0
      },
      "text/plain": [
       "Map(center=[-38.169, 145.102], controls=(ZoomControl(options=['position', 'zoom_in_text', 'zoom_in_title', 'zo…"
      ]
     },
     "metadata": {},
     "output_type": "display_data"
    }
   ],
   "source": [
    "# Load boundary of the sample area, so we can draw it on the map\n",
    "margin_layer, margin_data = detection_map.load_layer(\n",
    "    os.path.join(\n",
    "        os.pardir,\n",
    "        'data_sources',\n",
    "        'Locality_{0:s}_margin.geojson'.format(locality_clean)\n",
    "    )\n",
    ")\n",
    "\n",
    "center = detection_map.get_centroid(margin_data)\n",
    "\n",
    "m_detect = Map(center=center, zoom=zoom)\n",
    "m_detect.add_layer(margin_layer)\n",
    "\n",
    "# Load detected points and add to map\n",
    "\n",
    "count = detection_map.load_points(m_detect, os.path.join(os.pardir, 'detections', locality_margin, 'detection_log.csv'))\n",
    "print('Point count: ' + str(count))\n",
    "\n",
    "# Display the map\n",
    "m_detect"
   ]
  },
  {
   "cell_type": "markdown",
   "id": "86654904",
   "metadata": {},
   "source": [
    "## Display map of detected lines with boundary"
   ]
  },
  {
   "cell_type": "code",
   "execution_count": 5,
   "id": "1109b0a9",
   "metadata": {},
   "outputs": [],
   "source": [
    "# Version of locality strings with underscores\n",
    "locality_clean  = locality.replace(' ', '_')\n",
    "locality_margin = '{0:s}_{1:d}m'.format(locality_clean, margin)\n",
    "\n",
    "detected_filename = os.path.join(\n",
    "    module_path_root,\n",
    "    'detections',\n",
    "    locality_margin,\n",
    "    'detected_points.geojson'\n",
    ")"
   ]
  },
  {
   "cell_type": "code",
   "execution_count": 6,
   "id": "ae8d9d20",
   "metadata": {},
   "outputs": [
    {
     "data": {
      "application/vnd.jupyter.widget-view+json": {
       "model_id": "8a5558d8da29485fb1446e1a977c54fb",
       "version_major": 2,
       "version_minor": 0
      },
      "text/plain": [
       "Map(center=[-38.169, 145.102], controls=(ZoomControl(options=['position', 'zoom_in_text', 'zoom_in_title', 'zo…"
      ]
     },
     "metadata": {},
     "output_type": "display_data"
    }
   ],
   "source": [
    "# Load boundary of the sample area, so we can draw it on the map\n",
    "margin_layer, margin_data = detection_map.load_layer(\n",
    "    os.path.join(\n",
    "        os.pardir,\n",
    "        'data_sources',\n",
    "        'Locality_{0:s}_margin.geojson'.format(locality_clean)\n",
    "    )\n",
    ")\n",
    "\n",
    "center = detection_map.get_centroid(margin_data)\n",
    "\n",
    "# Load lines that we drew from the detected points\n",
    "detected_layer, detected_data = detection_map.load_layer(detected_filename, color='red')\n",
    "\n",
    "# Build the map\n",
    "m_detect2 = Map(center=center, zoom=zoom)\n",
    "m_detect2.add_layer(margin_layer)\n",
    "m_detect2.add_layer(detected_layer)\n",
    "\n",
    "# Display the map\n",
    "m_detect2"
   ]
  }
 ],
 "metadata": {
  "kernelspec": {
   "display_name": "gpuEnv",
   "language": "python",
   "name": "gpuenv"
  },
  "language_info": {
   "codemirror_mode": {
    "name": "ipython",
    "version": 3
   },
   "file_extension": ".py",
   "mimetype": "text/x-python",
   "name": "python",
   "nbconvert_exporter": "python",
   "pygments_lexer": "ipython3",
   "version": "3.8.11"
  }
 },
 "nbformat": 4,
 "nbformat_minor": 5
}
