{
 "cells": [
  {
   "cell_type": "markdown",
   "id": "3784c95f",
   "metadata": {},
   "source": [
    "# Display map with GeoJSON layers\n",
    "\n",
    "https://ipyleaflet.readthedocs.io/en/latest/api_reference/geo_json.html\n"
   ]
  },
  {
   "cell_type": "markdown",
   "id": "d7ac5bd6",
   "metadata": {},
   "source": [
    "## Configuration"
   ]
  },
  {
   "cell_type": "code",
   "execution_count": 1,
   "id": "27eb8f15",
   "metadata": {},
   "outputs": [],
   "source": [
    "# Specify the locality whose OSM file we want to load\n",
    "\n",
    "locality = 'Mount Eliza Sample'\n",
    "margin   = 20\n",
    "zoom     = 14"
   ]
  },
  {
   "cell_type": "markdown",
   "id": "e03e7616",
   "metadata": {},
   "source": [
    "## Load required modules"
   ]
  },
  {
   "cell_type": "code",
   "execution_count": 2,
   "id": "7a12cc14",
   "metadata": {},
   "outputs": [],
   "source": [
    "import json\n",
    "import os\n",
    "import sys\n",
    "\n",
    "from ipyleaflet import Map, Marker, GeoJSON\n",
    "\n",
    "import pandas as pd\n",
    "\n",
    "# Make sure local modules can be imported\n",
    "module_path_root = os.path.abspath(os.pardir)\n",
    "if module_path_root not in sys.path:\n",
    "    sys.path.append(module_path_root)\n",
    "    \n",
    "# Import local modules\n",
    "import osm_gsv_utils.detection_map as detection_map"
   ]
  },
  {
   "cell_type": "markdown",
   "id": "3c62b902",
   "metadata": {},
   "source": [
    "## Display map of detected points with boundary"
   ]
  },
  {
   "cell_type": "code",
   "execution_count": 3,
   "id": "1207728f",
   "metadata": {},
   "outputs": [],
   "source": [
    "# Version of locality strings with underscores\n",
    "locality_clean  = locality.replace(' ', '_')\n",
    "locality_margin = '{0:s}_{1:d}m'.format(locality_clean, margin)"
   ]
  },
  {
   "cell_type": "code",
   "execution_count": 4,
   "id": "fc4d3a72",
   "metadata": {},
   "outputs": [
    {
     "name": "stdout",
     "output_type": "stream",
     "text": [
      "Point count: 114\n"
     ]
    },
    {
     "data": {
      "application/vnd.jupyter.widget-view+json": {
       "model_id": "1ea02613d9b34aa68d6830f6e7187aba",
       "version_major": 2,
       "version_minor": 0
      },
      "text/plain": [
       "Map(center=[-38.169, 145.102], controls=(ZoomControl(options=['position', 'zoom_in_text', 'zoom_in_title', 'zo…"
      ]
     },
     "metadata": {},
     "output_type": "display_data"
    }
   ],
   "source": [
    "# Load boundary of the sample area, so we can draw it on the map\n",
    "margin_filename = os.path.join(os.pardir, 'data_sources', 'Locality_{0:s}_margin.geojson'.format(locality_clean))\n",
    "margin_layer, margin_data = detection_map.load_layer(margin_filename)\n",
    "\n",
    "center = detection_map.get_centroid(margin_data)\n",
    "\n",
    "m_detect = Map(center=center, zoom=zoom)\n",
    "m_detect.add_layer(margin_layer)\n",
    "\n",
    "# Load detected points and add to map\n",
    "\n",
    "detection_log = os.path.join(os.pardir, 'detections', locality_margin, 'detection_log.csv')\n",
    "count = detection_map.load_points(m_detect, detection_log)\n",
    "print('Point count: ' + str(count))\n",
    "\n",
    "# Display the map\n",
    "m_detect"
   ]
  },
  {
   "cell_type": "markdown",
   "id": "7701aedd",
   "metadata": {},
   "source": [
    "## Display map of detected lines with boundary"
   ]
  },
  {
   "cell_type": "code",
   "execution_count": 16,
   "id": "a17f28c1",
   "metadata": {},
   "outputs": [
    {
     "name": "stdout",
     "output_type": "stream",
     "text": [
      "D:\\TensorFlow2\\TFODCourse\\minor_thesis\\detections\\Mount_Eliza_Sample_20m\\hit.geojson\n"
     ]
    }
   ],
   "source": [
    "# Version of locality strings with underscores\n",
    "locality_clean  = locality.replace(' ', '_')\n",
    "locality_margin = '{0:s}_{1:d}m'.format(locality_clean, margin)\n",
    "\n",
    "detected_filename = os.path.join(\n",
    "    module_path_root,\n",
    "    'detections',\n",
    "    locality_margin,\n",
    "    'hit.geojson'\n",
    ")\n",
    "\n",
    "print(detected_filename)"
   ]
  },
  {
   "cell_type": "code",
   "execution_count": 15,
   "id": "3db3012d",
   "metadata": {},
   "outputs": [
    {
     "data": {
      "application/vnd.jupyter.widget-view+json": {
       "model_id": "3ff2097e6a51453b9b5cc4e69ab6e26f",
       "version_major": 2,
       "version_minor": 0
      },
      "text/plain": [
       "Map(center=[-38.169, 145.102], controls=(ZoomControl(options=['position', 'zoom_in_text', 'zoom_in_title', 'zo…"
      ]
     },
     "metadata": {},
     "output_type": "display_data"
    }
   ],
   "source": [
    "# Load boundary of the sample area, so we can draw it on the map\n",
    "margin_layer, margin_data = detection_map.load_layer(margin_filename)\n",
    "\n",
    "center = detection_map.get_centroid(margin_data)\n",
    "\n",
    "# Load lines that we drew from the detected points\n",
    "detected_layer, detected_data = detection_map.load_layer(detected_filename, color='red')\n",
    "\n",
    "# Build the map\n",
    "m_detect2 = Map(center=center, zoom=zoom)\n",
    "m_detect2.add_layer(margin_layer)\n",
    "m_detect2.add_layer(detected_layer)\n",
    "\n",
    "# Display the map\n",
    "m_detect2"
   ]
  },
  {
   "cell_type": "markdown",
   "id": "405a28da",
   "metadata": {},
   "source": [
    "## Display map of Open Street Map cycleways"
   ]
  },
  {
   "cell_type": "code",
   "execution_count": null,
   "id": "2aa2d068",
   "metadata": {},
   "outputs": [],
   "source": [
    "locality_filename = os.path.join(os.pardir, 'data_sources', 'LGA_boundary_Mount_Eliza.geojson')\n",
    "osm_filename      = os.path.join(os.pardir, 'data_sources', 'Locality_OSM_cycleway_Mount_Eliza.geojson')\n",
    "\n",
    "locality_layer, locality_data = detection_map.load_layer(locality_filename, color='orange')\n",
    "osm_layer,      osm_data      = detection_map.load_layer(osm_filename,      color='green')\n",
    "\n",
    "center = detection_map.get_centroid(margin_data)\n",
    "\n",
    "# Build the map\n",
    "m_detect3 = Map(center=center, zoom=zoom)\n",
    "m_detect3.add_layer(margin_layer)\n",
    "m_detect3.add_layer(locality_layer)\n",
    "m_detect3.add_layer(osm_layer)\n",
    "\n",
    "# Display the map\n",
    "m_detect3"
   ]
  },
  {
   "cell_type": "markdown",
   "id": "db444af8",
   "metadata": {},
   "source": [
    "OSM is missing a segment of Nepean Highway from Mount Eliza Way to Old Mornington Road.\n",
    "\n",
    "This corresponds to way id=\"204762387\".  It is NOT tagged with a \"cycleway\", it is tagged with \"bicycle\"=\"yes\" and \"foot\"=\"yes\".  This generally means that bicycle traffic (and foot traffic) is allowed, but not that there is a cycleway.\n",
    "\n",
    "The small segment that is missing on Humphries Road from Walkers Road to Overport road was clipped in the OSM extract for the locality, it is just outside the official shape of the locality.  If we widen our OSM extract we can see that it is a cycleway.  way id=\"671976035\"."
   ]
  },
  {
   "cell_type": "code",
   "execution_count": null,
   "id": "d34c8b16",
   "metadata": {},
   "outputs": [],
   "source": [
    "# locality_filename = os.path.join('data_sources', 'LGA_boundary_' + locality.replace(' ', '_') + '.geojson')\n",
    "# pbn_existing_filename = os.path.join('data_sources', 'PBN_Existing.geojson')\n",
    "# pbn_planned_filename = os.path.join('data_sources', 'PBN_Planned.geojson')\n",
    "# osm_filename = os.path.join('data_sources', 'Locality_OSM_cycleway_' + locality.replace(' ', '_') + '.geojson')\n",
    "# detect_filename = os.path.join('detections', locality_detect.replace(' ', '_'), 'detected_points.geojson')"
   ]
  },
  {
   "cell_type": "markdown",
   "id": "b8c41cbd",
   "metadata": {},
   "source": [
    "## Demonstrate how to use Folium and save to .PNG"
   ]
  },
  {
   "cell_type": "code",
   "execution_count": null,
   "id": "a9e167b6",
   "metadata": {},
   "outputs": [],
   "source": [
    "import folium\n",
    "import json\n",
    "\n",
    "style_red = {\n",
    "    'color': 'red',\n",
    "    'weight': 2,\n",
    "    'fillColor': 'red',\n",
    "    'fillOpacity': 0.2\n",
    "}\n",
    "\n",
    "with open(margin_filename) as f:\n",
    "    gj_margin = json.load(f)\n",
    "    \n",
    "with open(detected_filename) as f:\n",
    "    gj_detected = json.load(f)\n",
    "\n",
    "m = folium.Map(location=center, zoom_start=zoom)\n",
    "folium.GeoJson(gj_margin, name='boundary').add_to(m)\n",
    "folium.GeoJson(gj_detected, name='detected', style_function=lambda x:style_red).add_to(m)\n",
    "m"
   ]
  },
  {
   "cell_type": "code",
   "execution_count": null,
   "id": "a8943fb9",
   "metadata": {
    "scrolled": true
   },
   "outputs": [],
   "source": [
    "# Save folium to PNG, requires selenium, geckodriver, Firefox\n",
    "import io\n",
    "from PIL import Image\n",
    "\n",
    "img_data = m._to_png(5)\n",
    "img = Image.open(io.BytesIO(img_data))\n",
    "img.save(os.path.join(os.pardir, 'map_detect.png'))"
   ]
  },
  {
   "cell_type": "code",
   "execution_count": null,
   "id": "baef3392",
   "metadata": {},
   "outputs": [],
   "source": [
    "import folium\n",
    "import json\n",
    "\n",
    "style_red = {\n",
    "    'color': 'red',\n",
    "    'weight': 2,\n",
    "    'fillColor': 'red',\n",
    "    'fillOpacity': 0.2\n",
    "}\n",
    "\n",
    "with open(margin_filename) as f:\n",
    "    gj_margin = json.load(f)\n",
    "    \n",
    "with open(osm_filename) as f:\n",
    "    gj_detected = json.load(f)\n",
    "\n",
    "m = folium.Map(location=center, zoom_start=zoom)\n",
    "folium.GeoJson(gj_margin, name='boundary').add_to(m)\n",
    "folium.GeoJson(gj_detected, name='detected', style_function=lambda x:style_red).add_to(m)\n",
    "m\n"
   ]
  },
  {
   "cell_type": "code",
   "execution_count": null,
   "id": "b0fa8e33",
   "metadata": {},
   "outputs": [],
   "source": [
    "# Save folium to PNG, requires selenium, geckodriver, Firefox\n",
    "import io\n",
    "from PIL import Image\n",
    "\n",
    "img_data = m._to_png(5)\n",
    "img = Image.open(io.BytesIO(img_data))\n",
    "img.save(os.path.join(os.pardir, 'map_osm.png'))"
   ]
  },
  {
   "cell_type": "code",
   "execution_count": null,
   "id": "9877acee",
   "metadata": {},
   "outputs": [],
   "source": []
  }
 ],
 "metadata": {
  "kernelspec": {
   "display_name": "gpuEnv",
   "language": "python",
   "name": "gpuenv"
  },
  "language_info": {
   "codemirror_mode": {
    "name": "ipython",
    "version": 3
   },
   "file_extension": ".py",
   "mimetype": "text/x-python",
   "name": "python",
   "nbconvert_exporter": "python",
   "pygments_lexer": "ipython3",
   "version": "3.8.11"
  }
 },
 "nbformat": 4,
 "nbformat_minor": 5
}
