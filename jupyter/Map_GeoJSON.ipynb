{
 "cells": [
  {
   "cell_type": "markdown",
   "id": "3784c95f",
   "metadata": {},
   "source": [
    "# Display map with GeoJSON layers\n",
    "\n",
    "https://ipyleaflet.readthedocs.io/en/latest/api_reference/geo_json.html\n"
   ]
  },
  {
   "cell_type": "code",
   "execution_count": 1,
   "id": "7a12cc14",
   "metadata": {},
   "outputs": [],
   "source": [
    "import json\n",
    "import os\n",
    "import sys\n",
    "from ipyleaflet import Map, GeoJSON\n",
    "\n",
    "# Make sure local modules can be imported\n",
    "module_path_root = os.path.abspath(os.pardir)\n",
    "if module_path_root not in sys.path:\n",
    "    sys.path.append(module_path_root)"
   ]
  },
  {
   "cell_type": "code",
   "execution_count": 2,
   "id": "27eb8f15",
   "metadata": {},
   "outputs": [],
   "source": [
    "# Specify the locality whose OSM file we want to load\n",
    "\n",
    "locality = 'Mount Eliza'"
   ]
  },
  {
   "cell_type": "code",
   "execution_count": 3,
   "id": "7a5216dc",
   "metadata": {},
   "outputs": [],
   "source": [
    "locality_filename = os.path.join(os.pardir, 'data_sources', 'LGA_boundary_' + locality.replace(' ', '_') + '.geojson')\n",
    "\n",
    "with open(locality_filename) as locality_file:\n",
    "    locality_data = json.load(locality_file)\n",
    "    locality_file.close()\n",
    "\n",
    "locality_layer = GeoJSON(data=locality_data) "
   ]
  },
  {
   "cell_type": "code",
   "execution_count": 4,
   "id": "fbada79e",
   "metadata": {},
   "outputs": [],
   "source": [
    "pbn_existing_filename = os.path.join(os.pardir, 'data_sources', 'PBN_Existing.geojson')\n",
    "\n",
    "with open(pbn_existing_filename) as pbn_file:\n",
    "    pbn_existing_data = json.load(pbn_file)\n",
    "    pbn_file.close()\n",
    "    \n",
    "pbn_existing_layer = GeoJSON(data=pbn_existing_data, style={'color': 'red'})"
   ]
  },
  {
   "cell_type": "code",
   "execution_count": 5,
   "id": "c0b70af7",
   "metadata": {},
   "outputs": [],
   "source": [
    "pbn_planned_filename = os.path.join(os.pardir, 'data_sources', 'PBN_Planned.geojson')\n",
    "\n",
    "with open(pbn_planned_filename) as pbn_file:\n",
    "    pbn_planned_data = json.load(pbn_file)\n",
    "    pbn_file.close()\n",
    "    \n",
    "pbn_planned_layer = GeoJSON(data=pbn_planned_data, style={'color': 'orange'})"
   ]
  },
  {
   "cell_type": "code",
   "execution_count": 6,
   "id": "6eecbdc0",
   "metadata": {},
   "outputs": [],
   "source": [
    "osm_filename = os.path.join(os.pardir, 'data_sources', 'Locality_OSM_cycleway_' + locality.replace(' ', '_') + '.geojson')\n",
    "\n",
    "with open(osm_filename) as osm_file:\n",
    "    osm_data = json.load(osm_file)\n",
    "    osm_file.close()\n",
    "    \n",
    "osm_layer = GeoJSON(data=osm_data, style={'color': 'green'})"
   ]
  },
  {
   "cell_type": "code",
   "execution_count": 7,
   "id": "2979c200",
   "metadata": {},
   "outputs": [],
   "source": [
    "center = [-38.168623, 145.085576]\n",
    "zoom = 11"
   ]
  },
  {
   "cell_type": "code",
   "execution_count": 8,
   "id": "29e1a28e",
   "metadata": {},
   "outputs": [
    {
     "data": {
      "application/vnd.jupyter.widget-view+json": {
       "model_id": "c38c5801d2914c76970a06fd3cff3ce8",
       "version_major": 2,
       "version_minor": 0
      },
      "text/plain": [
       "Map(center=[-38.168623, 145.085576], controls=(ZoomControl(options=['position', 'zoom_in_text', 'zoom_in_title…"
      ]
     },
     "metadata": {},
     "output_type": "display_data"
    }
   ],
   "source": [
    "m_pbn = Map(center=center, zoom=zoom)\n",
    "m_pbn.add_layer(locality_layer)\n",
    "m_pbn.add_layer(pbn_planned_layer)\n",
    "m_pbn.add_layer(pbn_existing_layer)\n",
    "m_pbn"
   ]
  },
  {
   "cell_type": "code",
   "execution_count": 9,
   "id": "a882fe53",
   "metadata": {},
   "outputs": [
    {
     "data": {
      "application/vnd.jupyter.widget-view+json": {
       "model_id": "f6fbb8755a074dc6bba509d01b540917",
       "version_major": 2,
       "version_minor": 0
      },
      "text/plain": [
       "Map(center=[-38.168623, 145.085576], controls=(ZoomControl(options=['position', 'zoom_in_text', 'zoom_in_title…"
      ]
     },
     "metadata": {},
     "output_type": "display_data"
    }
   ],
   "source": [
    "m_osm = Map(center=center, zoom=zoom)\n",
    "m_osm.add_layer(locality_layer)\n",
    "m_osm.add_layer(osm_layer)\n",
    "m_osm"
   ]
  },
  {
   "cell_type": "code",
   "execution_count": null,
   "id": "brave-technique",
   "metadata": {},
   "outputs": [],
   "source": []
  }
 ],
 "metadata": {
  "kernelspec": {
   "display_name": "Python 3",
   "language": "python",
   "name": "python3"
  },
  "language_info": {
   "codemirror_mode": {
    "name": "ipython",
    "version": 3
   },
   "file_extension": ".py",
   "mimetype": "text/x-python",
   "name": "python",
   "nbconvert_exporter": "python",
   "pygments_lexer": "ipython3",
   "version": "3.8.8"
  }
 },
 "nbformat": 4,
 "nbformat_minor": 5
}
