{
 "cells": [
  {
   "cell_type": "markdown",
   "id": "3784c95f",
   "metadata": {},
   "source": [
    "# Display map with GeoJSON layers\n",
    "\n",
    "https://ipyleaflet.readthedocs.io/en/latest/api_reference/geo_json.html\n"
   ]
  },
  {
   "cell_type": "markdown",
   "id": "d7ac5bd6",
   "metadata": {},
   "source": [
    "## Configuration"
   ]
  },
  {
   "cell_type": "code",
   "execution_count": 1,
   "id": "27eb8f15",
   "metadata": {},
   "outputs": [],
   "source": [
    "# Specify the locality whose OSM file we want to load\n",
    "\n",
    "locality = 'Mount Eliza Sample'\n",
    "margin   = 20\n",
    "zoom     = 14"
   ]
  },
  {
   "cell_type": "markdown",
   "id": "e03e7616",
   "metadata": {},
   "source": [
    "## Load required modules"
   ]
  },
  {
   "cell_type": "code",
   "execution_count": 2,
   "id": "7a12cc14",
   "metadata": {},
   "outputs": [],
   "source": [
    "import json\n",
    "import os\n",
    "import sys\n",
    "\n",
    "from ipyleaflet import Map, Marker, GeoJSON\n",
    "\n",
    "import pandas as pd\n",
    "\n",
    "# Make sure local modules can be imported\n",
    "module_path_root = os.path.abspath(os.pardir)\n",
    "if module_path_root not in sys.path:\n",
    "    sys.path.append(module_path_root)\n",
    "    \n",
    "# Import local modules\n",
    "import osm_gsv_utils.detection_map as detection_map"
   ]
  },
  {
   "cell_type": "markdown",
   "id": "3c62b902",
   "metadata": {},
   "source": [
    "## Display map of detected points with boundary"
   ]
  },
  {
   "cell_type": "code",
   "execution_count": 3,
   "id": "1207728f",
   "metadata": {},
   "outputs": [],
   "source": [
    "# Version of locality strings with underscores\n",
    "locality_clean  = locality.replace(' ', '_')\n",
    "locality_margin = '{0:s}_{1:d}m'.format(locality_clean, margin)"
   ]
  },
  {
   "cell_type": "code",
   "execution_count": 4,
   "id": "fc4d3a72",
   "metadata": {},
   "outputs": [
    {
     "name": "stdout",
     "output_type": "stream",
     "text": [
      "Point count: 114\n"
     ]
    },
    {
     "data": {
      "application/vnd.jupyter.widget-view+json": {
       "model_id": "05a96b56d038492da5aad5b5a868dae7",
       "version_major": 2,
       "version_minor": 0
      },
      "text/plain": [
       "Map(center=[-38.169, 145.102], controls=(ZoomControl(options=['position', 'zoom_in_text', 'zoom_in_title', 'zo…"
      ]
     },
     "metadata": {},
     "output_type": "display_data"
    }
   ],
   "source": [
    "# Load boundary of the sample area, so we can draw it on the map\n",
    "margin_filename = os.path.join(os.pardir, 'data_sources', 'Locality_{0:s}_margin.geojson'.format(locality_clean))\n",
    "margin_layer, margin_data = detection_map.load_layer(margin_filename)\n",
    "\n",
    "center = detection_map.get_centroid(margin_data)\n",
    "\n",
    "m_detect = Map(center=center, zoom=zoom)\n",
    "m_detect.add_layer(margin_layer)\n",
    "\n",
    "# Load detected points and add to map\n",
    "\n",
    "detection_log = os.path.join(os.pardir, 'detections', locality_margin, 'detection_log.csv')\n",
    "count = detection_map.load_points(m_detect, detection_log)\n",
    "print('Point count: ' + str(count))\n",
    "\n",
    "# Display the map\n",
    "m_detect"
   ]
  },
  {
   "cell_type": "markdown",
   "id": "7701aedd",
   "metadata": {},
   "source": [
    "## Display map of detected lines with boundary"
   ]
  },
  {
   "cell_type": "code",
   "execution_count": 5,
   "id": "a17f28c1",
   "metadata": {},
   "outputs": [],
   "source": [
    "# Version of locality strings with underscores\n",
    "locality_clean  = locality.replace(' ', '_')\n",
    "locality_margin = '{0:s}_{1:d}m'.format(locality_clean, margin)\n",
    "\n",
    "detected_filename = os.path.join(\n",
    "    module_path_root,\n",
    "    'detections',\n",
    "    locality_margin,\n",
    "    'detected_points.geojson'\n",
    ")"
   ]
  },
  {
   "cell_type": "code",
   "execution_count": 6,
   "id": "3db3012d",
   "metadata": {},
   "outputs": [
    {
     "data": {
      "application/vnd.jupyter.widget-view+json": {
       "model_id": "c93ba7f7c8d041c1a5846f76026854fa",
       "version_major": 2,
       "version_minor": 0
      },
      "text/plain": [
       "Map(center=[-38.169, 145.102], controls=(ZoomControl(options=['position', 'zoom_in_text', 'zoom_in_title', 'zo…"
      ]
     },
     "metadata": {},
     "output_type": "display_data"
    }
   ],
   "source": [
    "# Load boundary of the sample area, so we can draw it on the map\n",
    "margin_layer, margin_data = detection_map.load_layer(margin_filename)\n",
    "\n",
    "center = detection_map.get_centroid(margin_data)\n",
    "\n",
    "# Load lines that we drew from the detected points\n",
    "detected_layer, detected_data = detection_map.load_layer(detected_filename, color='red')\n",
    "\n",
    "# Build the map\n",
    "m_detect2 = Map(center=center, zoom=zoom)\n",
    "m_detect2.add_layer(margin_layer)\n",
    "m_detect2.add_layer(detected_layer)\n",
    "\n",
    "# Display the map\n",
    "m_detect2"
   ]
  },
  {
   "cell_type": "markdown",
   "id": "405a28da",
   "metadata": {},
   "source": [
    "## Display map of Open Street Map cycleways"
   ]
  },
  {
   "cell_type": "code",
   "execution_count": 7,
   "id": "2aa2d068",
   "metadata": {},
   "outputs": [
    {
     "data": {
      "application/vnd.jupyter.widget-view+json": {
       "model_id": "97943d01f05e4c6c8ddd4f0e00a1eda1",
       "version_major": 2,
       "version_minor": 0
      },
      "text/plain": [
       "Map(center=[-38.169, 145.102], controls=(ZoomControl(options=['position', 'zoom_in_text', 'zoom_in_title', 'zo…"
      ]
     },
     "metadata": {},
     "output_type": "display_data"
    }
   ],
   "source": [
    "locality_filename = os.path.join(os.pardir, 'data_sources', 'LGA_boundary_Mount_Eliza.geojson')\n",
    "osm_filename      = os.path.join(os.pardir, 'data_sources', 'Locality_OSM_cycleway_Mount_Eliza.geojson')\n",
    "\n",
    "locality_layer, locality_data = detection_map.load_layer(locality_filename, color='orange')\n",
    "osm_layer,      osm_data      = detection_map.load_layer(osm_filename,      color='green')\n",
    "\n",
    "center = detection_map.get_centroid(margin_data)\n",
    "\n",
    "# Build the map\n",
    "m_detect3 = Map(center=center, zoom=zoom)\n",
    "m_detect3.add_layer(margin_layer)\n",
    "m_detect3.add_layer(locality_layer)\n",
    "m_detect3.add_layer(osm_layer)\n",
    "\n",
    "# Display the map\n",
    "m_detect3"
   ]
  },
  {
   "cell_type": "markdown",
   "id": "db444af8",
   "metadata": {},
   "source": [
    "OSM is missing a segment of Nepean Highway from Mount Eliza Way to Old Mornington Road.\n",
    "\n",
    "This corresponds to way id=\"204762387\".  It is NOT tagged with a \"cycleway\", it is tagged with \"bicycle\"=\"yes\" and \"foot\"=\"yes\".  This generally means that bicycle traffic (and foot traffic) is allowed, but not that there is a cycleway.\n",
    "\n",
    "The small segment that is missing on Humphries Road from Walkers Road to Overport road was clipped in the OSM extract for the locality, it is just outside the official shape of the locality.  If we widen our OSM extract we can see that it is a cycleway.  way id=\"671976035\"."
   ]
  },
  {
   "cell_type": "code",
   "execution_count": 8,
   "id": "d34c8b16",
   "metadata": {},
   "outputs": [],
   "source": [
    "# locality_filename = os.path.join('data_sources', 'LGA_boundary_' + locality.replace(' ', '_') + '.geojson')\n",
    "# pbn_existing_filename = os.path.join('data_sources', 'PBN_Existing.geojson')\n",
    "# pbn_planned_filename = os.path.join('data_sources', 'PBN_Planned.geojson')\n",
    "# osm_filename = os.path.join('data_sources', 'Locality_OSM_cycleway_' + locality.replace(' ', '_') + '.geojson')\n",
    "# detect_filename = os.path.join('detections', locality_detect.replace(' ', '_'), 'detected_points.geojson')"
   ]
  },
  {
   "cell_type": "markdown",
   "id": "b8c41cbd",
   "metadata": {},
   "source": [
    "## Demonstrate how to use Folium and save to .PNG"
   ]
  },
  {
   "cell_type": "code",
   "execution_count": 15,
   "id": "a9e167b6",
   "metadata": {},
   "outputs": [
    {
     "data": {
      "text/html": [
       "<div style=\"width:100%;\"><div style=\"position:relative;width:100%;height:0;padding-bottom:60%;\"><span style=\"color:#565656\">Make this Notebook Trusted to load map: File -> Trust Notebook</span><iframe src=\"about:blank\" style=\"position:absolute;width:100%;height:100%;left:0;top:0;border:none !important;\" data-html=%3C%21DOCTYPE%20html%3E%0A%3Chead%3E%20%20%20%20%0A%20%20%20%20%3Cmeta%20http-equiv%3D%22content-type%22%20content%3D%22text/html%3B%20charset%3DUTF-8%22%20/%3E%0A%20%20%20%20%0A%20%20%20%20%20%20%20%20%3Cscript%3E%0A%20%20%20%20%20%20%20%20%20%20%20%20L_NO_TOUCH%20%3D%20false%3B%0A%20%20%20%20%20%20%20%20%20%20%20%20L_DISABLE_3D%20%3D%20false%3B%0A%20%20%20%20%20%20%20%20%3C/script%3E%0A%20%20%20%20%0A%20%20%20%20%3Cstyle%3Ehtml%2C%20body%20%7Bwidth%3A%20100%25%3Bheight%3A%20100%25%3Bmargin%3A%200%3Bpadding%3A%200%3B%7D%3C/style%3E%0A%20%20%20%20%3Cstyle%3E%23map%20%7Bposition%3Aabsolute%3Btop%3A0%3Bbottom%3A0%3Bright%3A0%3Bleft%3A0%3B%7D%3C/style%3E%0A%20%20%20%20%3Cscript%20src%3D%22https%3A//cdn.jsdelivr.net/npm/leaflet%401.6.0/dist/leaflet.js%22%3E%3C/script%3E%0A%20%20%20%20%3Cscript%20src%3D%22https%3A//code.jquery.com/jquery-1.12.4.min.js%22%3E%3C/script%3E%0A%20%20%20%20%3Cscript%20src%3D%22https%3A//maxcdn.bootstrapcdn.com/bootstrap/3.2.0/js/bootstrap.min.js%22%3E%3C/script%3E%0A%20%20%20%20%3Cscript%20src%3D%22https%3A//cdnjs.cloudflare.com/ajax/libs/Leaflet.awesome-markers/2.0.2/leaflet.awesome-markers.js%22%3E%3C/script%3E%0A%20%20%20%20%3Clink%20rel%3D%22stylesheet%22%20href%3D%22https%3A//cdn.jsdelivr.net/npm/leaflet%401.6.0/dist/leaflet.css%22/%3E%0A%20%20%20%20%3Clink%20rel%3D%22stylesheet%22%20href%3D%22https%3A//maxcdn.bootstrapcdn.com/bootstrap/3.2.0/css/bootstrap.min.css%22/%3E%0A%20%20%20%20%3Clink%20rel%3D%22stylesheet%22%20href%3D%22https%3A//maxcdn.bootstrapcdn.com/bootstrap/3.2.0/css/bootstrap-theme.min.css%22/%3E%0A%20%20%20%20%3Clink%20rel%3D%22stylesheet%22%20href%3D%22https%3A//maxcdn.bootstrapcdn.com/font-awesome/4.6.3/css/font-awesome.min.css%22/%3E%0A%20%20%20%20%3Clink%20rel%3D%22stylesheet%22%20href%3D%22https%3A//cdnjs.cloudflare.com/ajax/libs/Leaflet.awesome-markers/2.0.2/leaflet.awesome-markers.css%22/%3E%0A%20%20%20%20%3Clink%20rel%3D%22stylesheet%22%20href%3D%22https%3A//cdn.jsdelivr.net/gh/python-visualization/folium/folium/templates/leaflet.awesome.rotate.min.css%22/%3E%0A%20%20%20%20%0A%20%20%20%20%20%20%20%20%20%20%20%20%3Cmeta%20name%3D%22viewport%22%20content%3D%22width%3Ddevice-width%2C%0A%20%20%20%20%20%20%20%20%20%20%20%20%20%20%20%20initial-scale%3D1.0%2C%20maximum-scale%3D1.0%2C%20user-scalable%3Dno%22%20/%3E%0A%20%20%20%20%20%20%20%20%20%20%20%20%3Cstyle%3E%0A%20%20%20%20%20%20%20%20%20%20%20%20%20%20%20%20%23map_60eba281f7df44ecbe7533b4d834353c%20%7B%0A%20%20%20%20%20%20%20%20%20%20%20%20%20%20%20%20%20%20%20%20position%3A%20relative%3B%0A%20%20%20%20%20%20%20%20%20%20%20%20%20%20%20%20%20%20%20%20width%3A%20100.0%25%3B%0A%20%20%20%20%20%20%20%20%20%20%20%20%20%20%20%20%20%20%20%20height%3A%20100.0%25%3B%0A%20%20%20%20%20%20%20%20%20%20%20%20%20%20%20%20%20%20%20%20left%3A%200.0%25%3B%0A%20%20%20%20%20%20%20%20%20%20%20%20%20%20%20%20%20%20%20%20top%3A%200.0%25%3B%0A%20%20%20%20%20%20%20%20%20%20%20%20%20%20%20%20%7D%0A%20%20%20%20%20%20%20%20%20%20%20%20%3C/style%3E%0A%20%20%20%20%20%20%20%20%0A%3C/head%3E%0A%3Cbody%3E%20%20%20%20%0A%20%20%20%20%0A%20%20%20%20%20%20%20%20%20%20%20%20%3Cdiv%20class%3D%22folium-map%22%20id%3D%22map_60eba281f7df44ecbe7533b4d834353c%22%20%3E%3C/div%3E%0A%20%20%20%20%20%20%20%20%0A%3C/body%3E%0A%3Cscript%3E%20%20%20%20%0A%20%20%20%20%0A%20%20%20%20%20%20%20%20%20%20%20%20var%20map_60eba281f7df44ecbe7533b4d834353c%20%3D%20L.map%28%0A%20%20%20%20%20%20%20%20%20%20%20%20%20%20%20%20%22map_60eba281f7df44ecbe7533b4d834353c%22%2C%0A%20%20%20%20%20%20%20%20%20%20%20%20%20%20%20%20%7B%0A%20%20%20%20%20%20%20%20%20%20%20%20%20%20%20%20%20%20%20%20center%3A%20%5B-38.169%2C%20145.102%5D%2C%0A%20%20%20%20%20%20%20%20%20%20%20%20%20%20%20%20%20%20%20%20crs%3A%20L.CRS.EPSG3857%2C%0A%20%20%20%20%20%20%20%20%20%20%20%20%20%20%20%20%20%20%20%20zoom%3A%2014%2C%0A%20%20%20%20%20%20%20%20%20%20%20%20%20%20%20%20%20%20%20%20zoomControl%3A%20true%2C%0A%20%20%20%20%20%20%20%20%20%20%20%20%20%20%20%20%20%20%20%20preferCanvas%3A%20false%2C%0A%20%20%20%20%20%20%20%20%20%20%20%20%20%20%20%20%7D%0A%20%20%20%20%20%20%20%20%20%20%20%20%29%3B%0A%0A%20%20%20%20%20%20%20%20%20%20%20%20%0A%0A%20%20%20%20%20%20%20%20%0A%20%20%20%20%0A%20%20%20%20%20%20%20%20%20%20%20%20var%20tile_layer_a49932cc02184bf08a7f3676fa1c935e%20%3D%20L.tileLayer%28%0A%20%20%20%20%20%20%20%20%20%20%20%20%20%20%20%20%22https%3A//%7Bs%7D.tile.openstreetmap.org/%7Bz%7D/%7Bx%7D/%7By%7D.png%22%2C%0A%20%20%20%20%20%20%20%20%20%20%20%20%20%20%20%20%7B%22attribution%22%3A%20%22Data%20by%20%5Cu0026copy%3B%20%5Cu003ca%20href%3D%5C%22http%3A//openstreetmap.org%5C%22%5Cu003eOpenStreetMap%5Cu003c/a%5Cu003e%2C%20under%20%5Cu003ca%20href%3D%5C%22http%3A//www.openstreetmap.org/copyright%5C%22%5Cu003eODbL%5Cu003c/a%5Cu003e.%22%2C%20%22detectRetina%22%3A%20false%2C%20%22maxNativeZoom%22%3A%2018%2C%20%22maxZoom%22%3A%2018%2C%20%22minZoom%22%3A%200%2C%20%22noWrap%22%3A%20false%2C%20%22opacity%22%3A%201%2C%20%22subdomains%22%3A%20%22abc%22%2C%20%22tms%22%3A%20false%7D%0A%20%20%20%20%20%20%20%20%20%20%20%20%29.addTo%28map_60eba281f7df44ecbe7533b4d834353c%29%3B%0A%20%20%20%20%20%20%20%20%0A%20%20%20%20%0A%0A%20%20%20%20%20%20%20%20function%20geo_json_6c87dafa22ec412e94b62afbe983c516_onEachFeature%28feature%2C%20layer%29%20%7B%0A%20%20%20%20%20%20%20%20%20%20%20%20layer.on%28%7B%0A%20%20%20%20%20%20%20%20%20%20%20%20%7D%29%3B%0A%20%20%20%20%20%20%20%20%7D%3B%0A%20%20%20%20%20%20%20%20var%20geo_json_6c87dafa22ec412e94b62afbe983c516%20%3D%20L.geoJson%28null%2C%20%7B%0A%20%20%20%20%20%20%20%20%20%20%20%20%20%20%20%20onEachFeature%3A%20geo_json_6c87dafa22ec412e94b62afbe983c516_onEachFeature%2C%0A%20%20%20%20%20%20%20%20%20%20%20%20%0A%20%20%20%20%20%20%20%20%7D%29%3B%0A%0A%20%20%20%20%20%20%20%20function%20geo_json_6c87dafa22ec412e94b62afbe983c516_add%20%28data%29%20%7B%0A%20%20%20%20%20%20%20%20%20%20%20%20geo_json_6c87dafa22ec412e94b62afbe983c516%0A%20%20%20%20%20%20%20%20%20%20%20%20%20%20%20%20.addData%28data%29%0A%20%20%20%20%20%20%20%20%20%20%20%20%20%20%20%20.addTo%28map_60eba281f7df44ecbe7533b4d834353c%29%3B%0A%20%20%20%20%20%20%20%20%7D%0A%20%20%20%20%20%20%20%20%20%20%20%20geo_json_6c87dafa22ec412e94b62afbe983c516_add%28%7B%22features%22%3A%20%5B%7B%22geometry%22%3A%20%7B%22coordinates%22%3A%20%5B%5B%5B%5B145.092%2C%20-38.178%5D%2C%20%5B145.092%2C%20-38.16%5D%2C%20%5B145.112%2C%20-38.16%5D%2C%20%5B145.112%2C%20-38.178%5D%2C%20%5B145.092%2C%20-38.178%5D%5D%5D%5D%2C%20%22type%22%3A%20%22MultiPolygon%22%7D%2C%20%22properties%22%3A%20%7B%22name%22%3A%20%22bounding%20box%22%7D%2C%20%22type%22%3A%20%22Feature%22%7D%5D%2C%20%22type%22%3A%20%22FeatureCollection%22%7D%29%3B%0A%0A%20%20%20%20%20%20%20%20%0A%20%20%20%20%0A%20%20%20%20%20%20%20%20function%20geo_json_4131411740ee4120a5eba36f9a038989_styler%28feature%29%20%7B%0A%20%20%20%20%20%20%20%20%20%20%20%20switch%28feature.properties.id%29%20%7B%0A%20%20%20%20%20%20%20%20%20%20%20%20%20%20%20%20default%3A%0A%20%20%20%20%20%20%20%20%20%20%20%20%20%20%20%20%20%20%20%20return%20%7B%22color%22%3A%20%22red%22%2C%20%22fillColor%22%3A%20%22red%22%2C%20%22fillOpacity%22%3A%200.2%2C%20%22weight%22%3A%202%7D%3B%0A%20%20%20%20%20%20%20%20%20%20%20%20%7D%0A%20%20%20%20%20%20%20%20%7D%0A%0A%20%20%20%20%20%20%20%20function%20geo_json_4131411740ee4120a5eba36f9a038989_onEachFeature%28feature%2C%20layer%29%20%7B%0A%20%20%20%20%20%20%20%20%20%20%20%20layer.on%28%7B%0A%20%20%20%20%20%20%20%20%20%20%20%20%7D%29%3B%0A%20%20%20%20%20%20%20%20%7D%3B%0A%20%20%20%20%20%20%20%20var%20geo_json_4131411740ee4120a5eba36f9a038989%20%3D%20L.geoJson%28null%2C%20%7B%0A%20%20%20%20%20%20%20%20%20%20%20%20%20%20%20%20onEachFeature%3A%20geo_json_4131411740ee4120a5eba36f9a038989_onEachFeature%2C%0A%20%20%20%20%20%20%20%20%20%20%20%20%0A%20%20%20%20%20%20%20%20%20%20%20%20%20%20%20%20style%3A%20geo_json_4131411740ee4120a5eba36f9a038989_styler%2C%0A%20%20%20%20%20%20%20%20%7D%29%3B%0A%0A%20%20%20%20%20%20%20%20function%20geo_json_4131411740ee4120a5eba36f9a038989_add%20%28data%29%20%7B%0A%20%20%20%20%20%20%20%20%20%20%20%20geo_json_4131411740ee4120a5eba36f9a038989%0A%20%20%20%20%20%20%20%20%20%20%20%20%20%20%20%20.addData%28data%29%0A%20%20%20%20%20%20%20%20%20%20%20%20%20%20%20%20.addTo%28map_60eba281f7df44ecbe7533b4d834353c%29%3B%0A%20%20%20%20%20%20%20%20%7D%0A%20%20%20%20%20%20%20%20%20%20%20%20geo_json_4131411740ee4120a5eba36f9a038989_add%28%7B%22features%22%3A%20%5B%7B%22geometry%22%3A%20%7B%22coordinates%22%3A%20%5B%5B145.1035642%2C%20-38.1611285%5D%2C%20%5B145.103287%2C%20-38.1616682%5D%2C%20%5B145.1028525%2C%20-38.1625329%5D%2C%20%5B145.102131%2C%20-38.1639922%5D%2C%20%5B145.1019995%2C%20-38.1642664%5D%2C%20%5B145.1018547%2C%20-38.1645384%5D%2C%20%5B145.1017662%2C%20-38.1648042%5D%2C%20%5B145.1016857%2C%20-38.1651479%5D%2C%20%5B145.1016529%2C%20-38.1653256%5D%2C%20%5B145.1016428%2C%20-38.1655191%5D%2C%20%5B145.1016643%2C%20-38.1658417%5D%2C%20%5B145.1016911%2C%20-38.1662445%5D%2C%20%5B145.1017474%2C%20-38.1667063%5D%2C%20%5B145.1017554%2C%20-38.1668118%5D%2C%20%5B145.101785%2C%20-38.1674697%5D%2C%20%5B145.1017742%2C%20-38.167824%5D%2C%20%5B145.1017125%2C%20-38.1681297%5D%2C%20%5B145.1016187%2C%20-38.1685177%5D%2C%20%5B145.1014631%2C%20-38.1689943%5D%2C%20%5B145.1012646%2C%20-38.169395%5D%2C%20%5B145.1010097%2C%20-38.1698083%5D%2C%20%5B145.1006665%2C%20-38.170287%5D%2C%20%5B145.1003527%2C%20-38.1706982%5D%2C%20%5B145.1001735%2C%20-38.1709799%5D%2C%20%5B145.0999718%2C%20-38.1713286%5D%2C%20%5B145.0997143%2C%20-38.1718326%5D%2C%20%5B145.0995239%2C%20-38.1721489%5D%2C%20%5B145.0992878%2C%20-38.1724568%5D%2C%20%5B145.0989499%2C%20-38.1728195%5D%2C%20%5B145.0986736%2C%20-38.1730451%5D%2C%20%5B145.0984161%2C%20-38.1732306%5D%2C%20%5B145.0979762%2C%20-38.1735258%5D%2C%20%5B145.0975873%2C%20-38.1738295%5D%2C%20%5B145.0973432%2C%20-38.1741057%5D%2C%20%5B145.0971581%2C%20-38.1743756%5D%2C%20%5B145.097024%2C%20-38.1746708%5D%2C%20%5B145.0969194%2C%20-38.1749808%5D%2C%20%5B145.0968738%2C%20-38.1753118%5D%2C%20%5B145.0968658%2C%20-38.1756766%5D%2C%20%5B145.0969007%2C%20-38.1763176%5D%2C%20%5B145.0968765%2C%20-38.1766655%5D%2C%20%5B145.0968255%2C%20-38.1770661%5D%2C%20%5B145.0967397%2C%20-38.177492%5D%2C%20%5B145.0966324%2C%20-38.1779411%5D%2C%20%5B145.0965251%2C%20-38.1783122%5D%2C%20%5B145.0962295%2C%20-38.1791566%5D%5D%2C%20%22type%22%3A%20%22LineString%22%7D%2C%20%22properties%22%3A%20%7B%22id%22%3A%20%22809849739-0%22%2C%20%22name%22%3A%20%22809849739-0-46%22%2C%20%22version%22%3A%20%221%22%7D%2C%20%22type%22%3A%20%22Feature%22%7D%2C%20%7B%22geometry%22%3A%20%7B%22coordinates%22%3A%20%5B%5B145.1015905%2C%20-38.1667102%5D%2C%20%5B145.1015802%2C%20-38.1666343%5D%2C%20%5B145.10152%2C%20-38.1660627%5D%2C%20%5B145.1014967%2C%20-38.1656175%5D%2C%20%5B145.101518%2C%20-38.1651928%5D%2C%20%5B145.1015968%2C%20-38.164855%5D%2C%20%5B145.101619%2C%20-38.1647596%5D%2C%20%5B145.1017442%2C%20-38.164454%5D%2C%20%5B145.1018628%2C%20-38.1642069%5D%2C%20%5B145.1020024%2C%20-38.1639518%5D%2C%20%5B145.1024028%2C%20-38.1631646%5D%2C%20%5B145.1031696%2C%20-38.1616262%5D%2C%20%5B145.1033143%2C%20-38.1613359%5D%5D%2C%20%22type%22%3A%20%22LineString%22%7D%2C%20%22properties%22%3A%20%7B%22id%22%3A%20%2212453751-0%22%2C%20%22name%22%3A%20%2212453751-0-13%22%2C%20%22version%22%3A%20%221%22%7D%2C%20%22type%22%3A%20%22Feature%22%7D%2C%20%7B%22geometry%22%3A%20%7B%22coordinates%22%3A%20%5B%5B145.1080202%2C%20-38.1735351%5D%2C%20%5B145.1082721%2C%20-38.173857%5D%2C%20%5B145.1092309%2C%20-38.1750818%5D%2C%20%5B145.1096293%2C%20-38.1756013%5D%2C%20%5B145.1099613%2C%20-38.1760205%5D%2C%20%5B145.1104148%2C%20-38.1766012%5D%2C%20%5B145.1109615%2C%20-38.1772928%5D%2C%20%5B145.1114279%2C%20-38.1778887%5D%2C%20%5B145.1119128%2C%20-38.1785081%5D%2C%20%5B145.1125278%2C%20-38.1792938%5D%2C%20%5B145.1127502%2C%20-38.1795779%5D%2C%20%5B145.1138474%2C%20-38.1809797%5D%2C%20%5B145.1145429%2C%20-38.1818682%5D%2C%20%5B145.1157019%2C%20-38.1833924%5D%5D%2C%20%22type%22%3A%20%22LineString%22%7D%2C%20%22properties%22%3A%20%7B%22id%22%3A%20%22172385134-0%22%2C%20%22name%22%3A%20%22172385134-0-14%22%2C%20%22version%22%3A%20%221%22%7D%2C%20%22type%22%3A%20%22Feature%22%7D%2C%20%7B%22geometry%22%3A%20%7B%22coordinates%22%3A%20%5B%5B145.1016529%2C%20-38.1653256%5D%2C%20%5B145.1017051%2C%20-38.1653698%5D%2C%20%5B145.1017834%2C%20-38.1655034%5D%2C%20%5B145.1020088%2C%20-38.1658524%5D%2C%20%5B145.1020708%2C%20-38.1659193%5D%2C%20%5B145.1020918%2C%20-38.1659509%5D%2C%20%5B145.1020959%2C%20-38.1659865%5D%2C%20%5B145.1017474%2C%20-38.1667063%5D%2C%20%5B145.1018568%2C%20-38.1666859%5D%2C%20%5B145.1019139%2C%20-38.1666385%5D%2C%20%5B145.1019306%2C%20-38.1665625%5D%2C%20%5B145.1018998%2C%20-38.1663679%5D%2C%20%5B145.101872%2C%20-38.166175%5D%2C%20%5B145.1018766%2C%20-38.1661097%5D%2C%20%5B145.1019065%2C%20-38.1660412%5D%2C%20%5B145.1019852%2C%20-38.165995%5D%2C%20%5B145.1020512%2C%20-38.1659832%5D%2C%20%5B145.1021415%2C%20-38.1660232%5D%2C%20%5B145.1028609%2C%20-38.1668979%5D%2C%20%5B145.1038035%2C%20-38.1681149%5D%2C%20%5B145.1042149%2C%20-38.1686374%5D%2C%20%5B145.1050184%2C%20-38.169658%5D%2C%20%5B145.1050454%2C%20-38.1696922%5D%2C%20%5B145.1052246%2C%20-38.1699233%5D%2C%20%5B145.1053486%2C%20-38.1700835%5D%2C%20%5B145.1062498%2C%20-38.1712466%5D%2C%20%5B145.1068569%2C%20-38.1720301%5D%2C%20%5B145.1073956%2C%20-38.1727253%5D%2C%20%5B145.1076495%2C%20-38.1730529%5D%2C%20%5B145.1076892%2C%20-38.1731042%5D%2C%20%5B145.1078516%2C%20-38.1733138%5D%5D%2C%20%22type%22%3A%20%22LineString%22%7D%2C%20%22properties%22%3A%20%7B%22id%22%3A%20%22841124847-0%22%2C%20%22name%22%3A%20%22841124847-0-31%22%2C%20%22version%22%3A%20%221%22%7D%2C%20%22type%22%3A%20%22Feature%22%7D%2C%20%7B%22geometry%22%3A%20%7B%22coordinates%22%3A%20%5B%5B145.1037506%2C%20-38.1609921%5D%2C%20%5B145.103641%2C%20-38.1609765%5D%5D%2C%20%22type%22%3A%20%22LineString%22%7D%2C%20%22properties%22%3A%20%7B%22id%22%3A%20%2232656664-0%22%2C%20%22name%22%3A%20%2232656664-0-2%22%2C%20%22version%22%3A%20%221%22%7D%2C%20%22type%22%3A%20%22Feature%22%7D%2C%20%7B%22geometry%22%3A%20%7B%22coordinates%22%3A%20%5B%5B145.1020024%2C%20-38.1639518%5D%2C%20%5B145.102131%2C%20-38.1639922%5D%2C%20%5B145.1022566%2C%20-38.1640515%5D%5D%2C%20%22type%22%3A%20%22LineString%22%7D%2C%20%22properties%22%3A%20%7B%22id%22%3A%20%2232656665-0%22%2C%20%22name%22%3A%20%2232656665-0-3%22%2C%20%22version%22%3A%20%221%22%7D%2C%20%22type%22%3A%20%22Feature%22%7D%2C%20%7B%22geometry%22%3A%20%7B%22coordinates%22%3A%20%5B%5B145.12875%2C%20-38.20009%5D%2C%20%5B145.125187%2C%20-38.1955205%5D%2C%20%5B145.1243718%2C%20-38.1944749%5D%2C%20%5B145.12429%2C%20-38.19437%5D%2C%20%5B145.12365%2C%20-38.19355%5D%2C%20%5B145.1104148%2C%20-38.1766012%5D%2C%20%5B145.1099613%2C%20-38.1760205%5D%2C%20%5B145.1082721%2C%20-38.173857%5D%5D%2C%20%22type%22%3A%20%22LineString%22%7D%2C%20%22properties%22%3A%20%7B%22id%22%3A%20%22182683325-0%22%2C%20%22name%22%3A%20%22182683325-0-8%22%2C%20%22version%22%3A%20%221%22%7D%2C%20%22type%22%3A%20%22Feature%22%7D%2C%20%7B%22geometry%22%3A%20%7B%22coordinates%22%3A%20%5B%5B145.1080668%2C%20-38.1733445%5D%2C%20%5B145.1083071%2C%20-38.1732664%5D%2C%20%5B145.1088113%2C%20-38.1730488%5D%2C%20%5B145.1097947%2C%20-38.1723214%5D%5D%2C%20%22type%22%3A%20%22LineString%22%7D%2C%20%22properties%22%3A%20%7B%22id%22%3A%20%22172385128-0%22%2C%20%22name%22%3A%20%22172385128-0-4%22%2C%20%22version%22%3A%20%221%22%7D%2C%20%22type%22%3A%20%22Feature%22%7D%2C%20%7B%22geometry%22%3A%20%7B%22coordinates%22%3A%20%5B%5B145.1006665%2C%20-38.170287%5D%2C%20%5B145.100876%2C%20-38.170259%5D%2C%20%5B145.1011603%2C%20-38.1699469%5D%2C%20%5B145.1015144%2C%20-38.1694113%5D%2C%20%5B145.101788%2C%20-38.1687027%5D%2C%20%5B145.1019489%2C%20-38.1681502%5D%2C%20%5B145.1019596%2C%20-38.1677243%5D%2C%20%5B145.1019405%2C%20-38.1669847%5D%2C%20%5B145.1018976%2C%20-38.1668835%5D%2C%20%5B145.1017554%2C%20-38.1668118%5D%5D%2C%20%22type%22%3A%20%22LineString%22%7D%2C%20%22properties%22%3A%20%7B%22id%22%3A%20%22306183326-0%22%2C%20%22name%22%3A%20%22306183326-0-10%22%2C%20%22version%22%3A%20%221%22%7D%2C%20%22type%22%3A%20%22Feature%22%7D%2C%20%7B%22geometry%22%3A%20%7B%22coordinates%22%3A%20%5B%5B145.1005282%2C%20-38.1702392%5D%2C%20%5B145.1006665%2C%20-38.170287%5D%5D%2C%20%22type%22%3A%20%22LineString%22%7D%2C%20%22properties%22%3A%20%7B%22id%22%3A%20%22306183327-0%22%2C%20%22name%22%3A%20%22306183327-0-2%22%2C%20%22version%22%3A%20%221%22%7D%2C%20%22type%22%3A%20%22Feature%22%7D%5D%2C%20%22name%22%3A%20%22Mount_Eliza_Sample_20m%22%2C%20%22type%22%3A%20%22FeatureCollection%22%7D%29%3B%0A%0A%20%20%20%20%20%20%20%20%0A%3C/script%3E onload=\"this.contentDocument.open();this.contentDocument.write(    decodeURIComponent(this.getAttribute('data-html')));this.contentDocument.close();\" allowfullscreen webkitallowfullscreen mozallowfullscreen></iframe></div></div>"
      ],
      "text/plain": [
       "<folium.folium.Map at 0x1be7cad0520>"
      ]
     },
     "execution_count": 15,
     "metadata": {},
     "output_type": "execute_result"
    }
   ],
   "source": [
    "import folium\n",
    "import json\n",
    "\n",
    "style_red = {\n",
    "    'color': 'red',\n",
    "    'weight': 2,\n",
    "    'fillColor': 'red',\n",
    "    'fillOpacity': 0.2\n",
    "}\n",
    "\n",
    "with open(margin_filename) as f:\n",
    "    gj_margin = json.load(f)\n",
    "    \n",
    "with open(detected_filename) as f:\n",
    "    gj_detected = json.load(f)\n",
    "\n",
    "m = folium.Map(location=center, zoom_start=zoom)\n",
    "folium.GeoJson(gj_margin, name='boundary').add_to(m)\n",
    "folium.GeoJson(gj_detected, name='detected', style_function=lambda x:style_red).add_to(m)\n",
    "m"
   ]
  },
  {
   "cell_type": "code",
   "execution_count": 16,
   "id": "a8943fb9",
   "metadata": {
    "scrolled": true
   },
   "outputs": [],
   "source": [
    "# Save folium to PNG, requires selenium, geckodriver, Firefox\n",
    "import io\n",
    "from PIL import Image\n",
    "\n",
    "img_data = m._to_png(5)\n",
    "img = Image.open(io.BytesIO(img_data))\n",
    "img.save(os.path.join(os.pardir, 'map_detect.png'))"
   ]
  },
  {
   "cell_type": "code",
   "execution_count": 17,
   "id": "baef3392",
   "metadata": {},
   "outputs": [
    {
     "data": {
      "text/html": [
       "<div style=\"width:100%;\"><div style=\"position:relative;width:100%;height:0;padding-bottom:60%;\"><span style=\"color:#565656\">Make this Notebook Trusted to load map: File -> Trust Notebook</span><iframe src=\"about:blank\" style=\"position:absolute;width:100%;height:100%;left:0;top:0;border:none !important;\" data-html=%3C%21DOCTYPE%20html%3E%0A%3Chead%3E%20%20%20%20%0A%20%20%20%20%3Cmeta%20http-equiv%3D%22content-type%22%20content%3D%22text/html%3B%20charset%3DUTF-8%22%20/%3E%0A%20%20%20%20%0A%20%20%20%20%20%20%20%20%3Cscript%3E%0A%20%20%20%20%20%20%20%20%20%20%20%20L_NO_TOUCH%20%3D%20false%3B%0A%20%20%20%20%20%20%20%20%20%20%20%20L_DISABLE_3D%20%3D%20false%3B%0A%20%20%20%20%20%20%20%20%3C/script%3E%0A%20%20%20%20%0A%20%20%20%20%3Cstyle%3Ehtml%2C%20body%20%7Bwidth%3A%20100%25%3Bheight%3A%20100%25%3Bmargin%3A%200%3Bpadding%3A%200%3B%7D%3C/style%3E%0A%20%20%20%20%3Cstyle%3E%23map%20%7Bposition%3Aabsolute%3Btop%3A0%3Bbottom%3A0%3Bright%3A0%3Bleft%3A0%3B%7D%3C/style%3E%0A%20%20%20%20%3Cscript%20src%3D%22https%3A//cdn.jsdelivr.net/npm/leaflet%401.6.0/dist/leaflet.js%22%3E%3C/script%3E%0A%20%20%20%20%3Cscript%20src%3D%22https%3A//code.jquery.com/jquery-1.12.4.min.js%22%3E%3C/script%3E%0A%20%20%20%20%3Cscript%20src%3D%22https%3A//maxcdn.bootstrapcdn.com/bootstrap/3.2.0/js/bootstrap.min.js%22%3E%3C/script%3E%0A%20%20%20%20%3Cscript%20src%3D%22https%3A//cdnjs.cloudflare.com/ajax/libs/Leaflet.awesome-markers/2.0.2/leaflet.awesome-markers.js%22%3E%3C/script%3E%0A%20%20%20%20%3Clink%20rel%3D%22stylesheet%22%20href%3D%22https%3A//cdn.jsdelivr.net/npm/leaflet%401.6.0/dist/leaflet.css%22/%3E%0A%20%20%20%20%3Clink%20rel%3D%22stylesheet%22%20href%3D%22https%3A//maxcdn.bootstrapcdn.com/bootstrap/3.2.0/css/bootstrap.min.css%22/%3E%0A%20%20%20%20%3Clink%20rel%3D%22stylesheet%22%20href%3D%22https%3A//maxcdn.bootstrapcdn.com/bootstrap/3.2.0/css/bootstrap-theme.min.css%22/%3E%0A%20%20%20%20%3Clink%20rel%3D%22stylesheet%22%20href%3D%22https%3A//maxcdn.bootstrapcdn.com/font-awesome/4.6.3/css/font-awesome.min.css%22/%3E%0A%20%20%20%20%3Clink%20rel%3D%22stylesheet%22%20href%3D%22https%3A//cdnjs.cloudflare.com/ajax/libs/Leaflet.awesome-markers/2.0.2/leaflet.awesome-markers.css%22/%3E%0A%20%20%20%20%3Clink%20rel%3D%22stylesheet%22%20href%3D%22https%3A//cdn.jsdelivr.net/gh/python-visualization/folium/folium/templates/leaflet.awesome.rotate.min.css%22/%3E%0A%20%20%20%20%0A%20%20%20%20%20%20%20%20%20%20%20%20%3Cmeta%20name%3D%22viewport%22%20content%3D%22width%3Ddevice-width%2C%0A%20%20%20%20%20%20%20%20%20%20%20%20%20%20%20%20initial-scale%3D1.0%2C%20maximum-scale%3D1.0%2C%20user-scalable%3Dno%22%20/%3E%0A%20%20%20%20%20%20%20%20%20%20%20%20%3Cstyle%3E%0A%20%20%20%20%20%20%20%20%20%20%20%20%20%20%20%20%23map_96316a10dcb349ce8da25881b2f3203f%20%7B%0A%20%20%20%20%20%20%20%20%20%20%20%20%20%20%20%20%20%20%20%20position%3A%20relative%3B%0A%20%20%20%20%20%20%20%20%20%20%20%20%20%20%20%20%20%20%20%20width%3A%20100.0%25%3B%0A%20%20%20%20%20%20%20%20%20%20%20%20%20%20%20%20%20%20%20%20height%3A%20100.0%25%3B%0A%20%20%20%20%20%20%20%20%20%20%20%20%20%20%20%20%20%20%20%20left%3A%200.0%25%3B%0A%20%20%20%20%20%20%20%20%20%20%20%20%20%20%20%20%20%20%20%20top%3A%200.0%25%3B%0A%20%20%20%20%20%20%20%20%20%20%20%20%20%20%20%20%7D%0A%20%20%20%20%20%20%20%20%20%20%20%20%3C/style%3E%0A%20%20%20%20%20%20%20%20%0A%3C/head%3E%0A%3Cbody%3E%20%20%20%20%0A%20%20%20%20%0A%20%20%20%20%20%20%20%20%20%20%20%20%3Cdiv%20class%3D%22folium-map%22%20id%3D%22map_96316a10dcb349ce8da25881b2f3203f%22%20%3E%3C/div%3E%0A%20%20%20%20%20%20%20%20%0A%3C/body%3E%0A%3Cscript%3E%20%20%20%20%0A%20%20%20%20%0A%20%20%20%20%20%20%20%20%20%20%20%20var%20map_96316a10dcb349ce8da25881b2f3203f%20%3D%20L.map%28%0A%20%20%20%20%20%20%20%20%20%20%20%20%20%20%20%20%22map_96316a10dcb349ce8da25881b2f3203f%22%2C%0A%20%20%20%20%20%20%20%20%20%20%20%20%20%20%20%20%7B%0A%20%20%20%20%20%20%20%20%20%20%20%20%20%20%20%20%20%20%20%20center%3A%20%5B-38.169%2C%20145.102%5D%2C%0A%20%20%20%20%20%20%20%20%20%20%20%20%20%20%20%20%20%20%20%20crs%3A%20L.CRS.EPSG3857%2C%0A%20%20%20%20%20%20%20%20%20%20%20%20%20%20%20%20%20%20%20%20zoom%3A%2014%2C%0A%20%20%20%20%20%20%20%20%20%20%20%20%20%20%20%20%20%20%20%20zoomControl%3A%20true%2C%0A%20%20%20%20%20%20%20%20%20%20%20%20%20%20%20%20%20%20%20%20preferCanvas%3A%20false%2C%0A%20%20%20%20%20%20%20%20%20%20%20%20%20%20%20%20%7D%0A%20%20%20%20%20%20%20%20%20%20%20%20%29%3B%0A%0A%20%20%20%20%20%20%20%20%20%20%20%20%0A%0A%20%20%20%20%20%20%20%20%0A%20%20%20%20%0A%20%20%20%20%20%20%20%20%20%20%20%20var%20tile_layer_719d356f3315467fb563c9cdbdc83e58%20%3D%20L.tileLayer%28%0A%20%20%20%20%20%20%20%20%20%20%20%20%20%20%20%20%22https%3A//%7Bs%7D.tile.openstreetmap.org/%7Bz%7D/%7Bx%7D/%7By%7D.png%22%2C%0A%20%20%20%20%20%20%20%20%20%20%20%20%20%20%20%20%7B%22attribution%22%3A%20%22Data%20by%20%5Cu0026copy%3B%20%5Cu003ca%20href%3D%5C%22http%3A//openstreetmap.org%5C%22%5Cu003eOpenStreetMap%5Cu003c/a%5Cu003e%2C%20under%20%5Cu003ca%20href%3D%5C%22http%3A//www.openstreetmap.org/copyright%5C%22%5Cu003eODbL%5Cu003c/a%5Cu003e.%22%2C%20%22detectRetina%22%3A%20false%2C%20%22maxNativeZoom%22%3A%2018%2C%20%22maxZoom%22%3A%2018%2C%20%22minZoom%22%3A%200%2C%20%22noWrap%22%3A%20false%2C%20%22opacity%22%3A%201%2C%20%22subdomains%22%3A%20%22abc%22%2C%20%22tms%22%3A%20false%7D%0A%20%20%20%20%20%20%20%20%20%20%20%20%29.addTo%28map_96316a10dcb349ce8da25881b2f3203f%29%3B%0A%20%20%20%20%20%20%20%20%0A%20%20%20%20%0A%0A%20%20%20%20%20%20%20%20function%20geo_json_15f442d38f2e4d03a548482c45d71e99_onEachFeature%28feature%2C%20layer%29%20%7B%0A%20%20%20%20%20%20%20%20%20%20%20%20layer.on%28%7B%0A%20%20%20%20%20%20%20%20%20%20%20%20%7D%29%3B%0A%20%20%20%20%20%20%20%20%7D%3B%0A%20%20%20%20%20%20%20%20var%20geo_json_15f442d38f2e4d03a548482c45d71e99%20%3D%20L.geoJson%28null%2C%20%7B%0A%20%20%20%20%20%20%20%20%20%20%20%20%20%20%20%20onEachFeature%3A%20geo_json_15f442d38f2e4d03a548482c45d71e99_onEachFeature%2C%0A%20%20%20%20%20%20%20%20%20%20%20%20%0A%20%20%20%20%20%20%20%20%7D%29%3B%0A%0A%20%20%20%20%20%20%20%20function%20geo_json_15f442d38f2e4d03a548482c45d71e99_add%20%28data%29%20%7B%0A%20%20%20%20%20%20%20%20%20%20%20%20geo_json_15f442d38f2e4d03a548482c45d71e99%0A%20%20%20%20%20%20%20%20%20%20%20%20%20%20%20%20.addData%28data%29%0A%20%20%20%20%20%20%20%20%20%20%20%20%20%20%20%20.addTo%28map_96316a10dcb349ce8da25881b2f3203f%29%3B%0A%20%20%20%20%20%20%20%20%7D%0A%20%20%20%20%20%20%20%20%20%20%20%20geo_json_15f442d38f2e4d03a548482c45d71e99_add%28%7B%22features%22%3A%20%5B%7B%22geometry%22%3A%20%7B%22coordinates%22%3A%20%5B%5B%5B%5B145.092%2C%20-38.178%5D%2C%20%5B145.092%2C%20-38.16%5D%2C%20%5B145.112%2C%20-38.16%5D%2C%20%5B145.112%2C%20-38.178%5D%2C%20%5B145.092%2C%20-38.178%5D%5D%5D%5D%2C%20%22type%22%3A%20%22MultiPolygon%22%7D%2C%20%22properties%22%3A%20%7B%22name%22%3A%20%22bounding%20box%22%7D%2C%20%22type%22%3A%20%22Feature%22%7D%5D%2C%20%22type%22%3A%20%22FeatureCollection%22%7D%29%3B%0A%0A%20%20%20%20%20%20%20%20%0A%20%20%20%20%0A%20%20%20%20%20%20%20%20function%20geo_json_4a4b83a58cf5477d8c235aa519a846e7_styler%28feature%29%20%7B%0A%20%20%20%20%20%20%20%20%20%20%20%20switch%28feature.properties.id%29%20%7B%0A%20%20%20%20%20%20%20%20%20%20%20%20%20%20%20%20default%3A%0A%20%20%20%20%20%20%20%20%20%20%20%20%20%20%20%20%20%20%20%20return%20%7B%22color%22%3A%20%22red%22%2C%20%22fillColor%22%3A%20%22red%22%2C%20%22fillOpacity%22%3A%200.2%2C%20%22weight%22%3A%202%7D%3B%0A%20%20%20%20%20%20%20%20%20%20%20%20%7D%0A%20%20%20%20%20%20%20%20%7D%0A%0A%20%20%20%20%20%20%20%20function%20geo_json_4a4b83a58cf5477d8c235aa519a846e7_onEachFeature%28feature%2C%20layer%29%20%7B%0A%20%20%20%20%20%20%20%20%20%20%20%20layer.on%28%7B%0A%20%20%20%20%20%20%20%20%20%20%20%20%7D%29%3B%0A%20%20%20%20%20%20%20%20%7D%3B%0A%20%20%20%20%20%20%20%20var%20geo_json_4a4b83a58cf5477d8c235aa519a846e7%20%3D%20L.geoJson%28null%2C%20%7B%0A%20%20%20%20%20%20%20%20%20%20%20%20%20%20%20%20onEachFeature%3A%20geo_json_4a4b83a58cf5477d8c235aa519a846e7_onEachFeature%2C%0A%20%20%20%20%20%20%20%20%20%20%20%20%0A%20%20%20%20%20%20%20%20%20%20%20%20%20%20%20%20style%3A%20geo_json_4a4b83a58cf5477d8c235aa519a846e7_styler%2C%0A%20%20%20%20%20%20%20%20%7D%29%3B%0A%0A%20%20%20%20%20%20%20%20function%20geo_json_4a4b83a58cf5477d8c235aa519a846e7_add%20%28data%29%20%7B%0A%20%20%20%20%20%20%20%20%20%20%20%20geo_json_4a4b83a58cf5477d8c235aa519a846e7%0A%20%20%20%20%20%20%20%20%20%20%20%20%20%20%20%20.addData%28data%29%0A%20%20%20%20%20%20%20%20%20%20%20%20%20%20%20%20.addTo%28map_96316a10dcb349ce8da25881b2f3203f%29%3B%0A%20%20%20%20%20%20%20%20%7D%0A%20%20%20%20%20%20%20%20%20%20%20%20geo_json_4a4b83a58cf5477d8c235aa519a846e7_add%28%7B%22features%22%3A%20%5B%7B%22geometry%22%3A%20%7B%22coordinates%22%3A%20%5B%5B%22145.1080202%22%2C%20%22-38.1735351%22%5D%2C%20%5B%22145.1082721%22%2C%20%22-38.173857%22%5D%2C%20%5B%22145.1092309%22%2C%20%22-38.1750818%22%5D%2C%20%5B%22145.1096293%22%2C%20%22-38.1756013%22%5D%2C%20%5B%22145.1099613%22%2C%20%22-38.1760205%22%5D%2C%20%5B%22145.1104148%22%2C%20%22-38.1766012%22%5D%2C%20%5B%22145.1109615%22%2C%20%22-38.1772928%22%5D%2C%20%5B%22145.1114279%22%2C%20%22-38.1778887%22%5D%2C%20%5B%22145.1119128%22%2C%20%22-38.1785081%22%5D%2C%20%5B%22145.1125278%22%2C%20%22-38.1792938%22%5D%2C%20%5B%22145.1127502%22%2C%20%22-38.1795779%22%5D%2C%20%5B%22145.1138474%22%2C%20%22-38.1809797%22%5D%2C%20%5B%22145.1145429%22%2C%20%22-38.1818682%22%5D%2C%20%5B%22145.1157019%22%2C%20%22-38.1833924%22%5D%5D%2C%20%22type%22%3A%20%22LineString%22%7D%2C%20%22properties%22%3A%20%7B%22cycleway%22%3A%20%22lane%22%2C%20%22highway%22%3A%20%22tertiary%22%2C%20%22id%22%3A%20%22172385134%22%2C%20%22name%22%3A%20%22Humphries%20Road%22%2C%20%22sidewalk%22%3A%20%22left%22%2C%20%22surface%22%3A%20%22asphalt%22%2C%20%22timestamp%22%3A%20%222020-08-27T04%3A26%3A02Z%22%2C%20%22version%22%3A%20%2213%22%7D%2C%20%22type%22%3A%20%22Feature%22%7D%2C%20%7B%22geometry%22%3A%20%7B%22coordinates%22%3A%20%5B%5B%22145.1165061%22%2C%20%22-38.1843761%22%5D%2C%20%5B%22145.116658%22%2C%20%22-38.1845531%22%5D%2C%20%5B%22145.1175791%22%2C%20%22-38.1857299%22%5D%2C%20%5B%22145.1193002%22%2C%20%22-38.1879289%22%5D%2C%20%5B%22145.1195222%22%2C%20%22-38.1882125%22%5D%2C%20%5B%22145.1204961%22%2C%20%22-38.189613%22%5D%2C%20%5B%22145.1206634%22%2C%20%22-38.1898401%22%5D%2C%20%5B%22145.1207978%22%2C%20%22-38.1900081%22%5D%2C%20%5B%22145.1214268%22%2C%20%22-38.1907661%22%5D%2C%20%5B%22145.1214592%22%2C%20%22-38.1908069%22%5D%2C%20%5B%22145.121685%22%2C%20%22-38.1910913%22%5D%2C%20%5B%22145.1218322%22%2C%20%22-38.1912767%22%5D%2C%20%5B%22145.1219324%22%2C%20%22-38.1914029%22%5D%2C%20%5B%22145.1220865%22%2C%20%22-38.1915971%22%5D%2C%20%5B%22145.1225223%22%2C%20%22-38.1921459%22%5D%2C%20%5B%22145.1225676%22%2C%20%22-38.1922029%22%5D%2C%20%5B%22145.1228321%22%2C%20%22-38.1925357%22%5D%2C%20%5B%22145.1231069%22%2C%20%22-38.1928814%22%5D%2C%20%5B%22145.1232668%22%2C%20%22-38.1930825%22%5D%2C%20%5B%22145.123432%22%2C%20%22-38.1932864%22%5D%2C%20%5B%22145.1235426%22%2C%20%22-38.1934265%22%5D%5D%2C%20%22type%22%3A%20%22LineString%22%7D%2C%20%22properties%22%3A%20%7B%22cycleway%22%3A%20%22lane%22%2C%20%22highway%22%3A%20%22tertiary%22%2C%20%22id%22%3A%20%22204757516%22%2C%20%22name%22%3A%20%22Humphries%20Road%22%2C%20%22sidewalk%22%3A%20%22right%22%2C%20%22surface%22%3A%20%22asphalt%22%2C%20%22timestamp%22%3A%20%222020-08-27T04%3A26%3A02Z%22%2C%20%22version%22%3A%20%229%22%7D%2C%20%22type%22%3A%20%22Feature%22%7D%2C%20%7B%22geometry%22%3A%20%7B%22coordinates%22%3A%20%5B%5B%22145.0961121%22%2C%20%22-38.1815655%22%5D%2C%20%5B%22145.0962274%22%2C%20%22-38.1819134%22%5D%2C%20%5B%22145.0965198%22%2C%20%22-38.1826555%22%5D%2C%20%5B%22145.0967424%22%2C%20%22-38.1831172%22%5D%2C%20%5B%22145.0969663%22%2C%20%22-38.1835539%22%5D%2C%20%5B%22145.0970267%22%2C%20%22-38.1837898%22%5D%2C%20%5B%22145.0970723%22%2C%20%22-38.1840807%22%5D%2C%20%5B%22145.097075%22%2C%20%22-38.1843611%22%5D%2C%20%5B%22145.0970455%22%2C%20%22-38.1846879%22%5D%2C%20%5B%22145.0969758%22%2C%20%22-38.1849683%22%5D%2C%20%5B%22145.0968738%22%2C%20%22-38.1852592%22%5D%2C%20%5B%22145.0965949%22%2C%20%22-38.1860931%22%5D%2C%20%5B%22145.0962837%22%2C%20%22-38.1869142%22%5D%2C%20%5B%22145.0962793%22%2C%20%22-38.1869262%22%5D%2C%20%5B%22145.0961268%22%2C%20%22-38.187338%22%5D%2C%20%5B%22145.0959056%22%2C%20%22-38.1879167%22%5D%2C%20%5B%22145.0957285%22%2C%20%22-38.1883646%22%5D%2C%20%5B%22145.0955528%22%2C%20%22-38.1889286%22%5D%2C%20%5B%22145.0953074%22%2C%20%22-38.1896949%22%5D%2C%20%5B%22145.0950767%22%2C%20%22-38.1903684%22%5D%2C%20%5B%22145.0949785%22%2C%20%22-38.1906735%22%5D%2C%20%5B%22145.0949666%22%2C%20%22-38.1907104%22%5D%2C%20%5B%22145.0949091%22%2C%20%22-38.1908891%22%5D%5D%2C%20%22type%22%3A%20%22LineString%22%7D%2C%20%22properties%22%3A%20%7B%22bicycle%22%3A%20%22yes%22%2C%20%22cycleway%22%3A%20%22lane%22%2C%20%22foot%22%3A%20%22yes%22%2C%20%22highway%22%3A%20%22trunk%22%2C%20%22id%22%3A%20%22204762390%22%2C%20%22lanes%22%3A%20%222%22%2C%20%22maxspeed%22%3A%20%2280%22%2C%20%22name%22%3A%20%22Nepean%20Highway%22%2C%20%22oneway%22%3A%20%22yes%22%2C%20%22ref%22%3A%20%22A50%22%2C%20%22timestamp%22%3A%20%222021-04-17T10%3A51%3A15Z%22%2C%20%22version%22%3A%20%2211%22%7D%2C%20%22type%22%3A%20%22Feature%22%7D%2C%20%7B%22geometry%22%3A%20%7B%22coordinates%22%3A%20%5B%5B%22145.0927902%22%2C%20%22-38.1940565%22%5D%2C%20%5B%22145.0931617%22%2C%20%22-38.1938077%22%5D%2C%20%5B%22145.09345%22%2C%20%22-38.1935716%22%5D%2C%20%5B%22145.0936699%22%2C%20%22-38.1933492%22%5D%2C%20%5B%22145.0938335%22%2C%20%22-38.1931595%22%5D%2C%20%5B%22145.09402%22%2C%20%22-38.1928929%22%5D%2C%20%5B%22145.0941527%22%2C%20%22-38.1926431%22%5D%2C%20%5B%22145.0942493%22%2C%20%22-38.1924133%22%5D%2C%20%5B%22145.0942882%22%2C%20%22-38.1922942%22%5D%2C%20%5B%22145.0947089%22%2C%20%22-38.1909222%22%5D%2C%20%5B%22145.0947163%22%2C%20%22-38.1908978%22%5D%2C%20%5B%22145.094771%22%2C%20%22-38.1907184%22%5D%5D%2C%20%22type%22%3A%20%22LineString%22%7D%2C%20%22properties%22%3A%20%7B%22bicycle%22%3A%20%22yes%22%2C%20%22cycleway%22%3A%20%22lane%22%2C%20%22foot%22%3A%20%22yes%22%2C%20%22highway%22%3A%20%22trunk%22%2C%20%22id%22%3A%20%22204762392%22%2C%20%22lanes%22%3A%20%222%22%2C%20%22maxspeed%22%3A%20%2280%22%2C%20%22name%22%3A%20%22Nepean%20Highway%22%2C%20%22oneway%22%3A%20%22yes%22%2C%20%22ref%22%3A%20%22A50%22%2C%20%22timestamp%22%3A%20%222021-04-17T10%3A51%3A15Z%22%2C%20%22version%22%3A%20%2213%22%7D%2C%20%22type%22%3A%20%22Feature%22%7D%2C%20%7B%22geometry%22%3A%20%7B%22coordinates%22%3A%20%5B%5B%22145.1303944%22%2C%20%22-38.2090501%22%5D%2C%20%5B%22145.1298517%22%2C%20%22-38.209279%22%5D%2C%20%5B%22145.129382%22%2C%20%22-38.2094522%22%5D%2C%20%5B%22145.1291878%22%2C%20%22-38.209511%22%5D%2C%20%5B%22145.1290874%22%2C%20%22-38.2095398%22%5D%2C%20%5B%22145.128937%22%2C%20%22-38.209585%22%5D%2C%20%5B%22145.1286933%22%2C%20%22-38.2096667%22%5D%2C%20%5B%22145.1284599%22%2C%20%22-38.2097645%22%5D%2C%20%5B%22145.1277482%22%2C%20%22-38.2100473%22%5D%2C%20%5B%22145.1266016%22%2C%20%22-38.2104981%22%5D%2C%20%5B%22145.1258384%22%2C%20%22-38.2107432%22%5D%2C%20%5B%22145.1245759%22%2C%20%22-38.2110307%22%5D%2C%20%5B%22145.1229481%22%2C%20%22-38.2113336%22%5D%2C%20%5B%22145.1213755%22%2C%20%22-38.2115867%22%5D%2C%20%5B%22145.1207459%22%2C%20%22-38.2117233%22%5D%2C%20%5B%22145.1196702%22%2C%20%22-38.2118672%22%5D%2C%20%5B%22145.1168402%22%2C%20%22-38.212464%22%5D%2C%20%5B%22145.1162403%22%2C%20%22-38.2125682%22%5D%2C%20%5B%22145.1150943%22%2C%20%22-38.2127881%22%5D%2C%20%5B%22145.1129138%22%2C%20%22-38.2131377%22%5D%2C%20%5B%22145.1112001%22%2C%20%22-38.2134525%22%5D%2C%20%5B%22145.1097983%22%2C%20%22-38.2136537%22%5D%2C%20%5B%22145.1097956%22%2C%20%22-38.213588%22%5D%2C%20%5B%22145.1097968%22%2C%20%22-38.2134742%22%5D%2C%20%5B%22145.1095724%22%2C%20%22-38.2134099%22%5D%2C%20%5B%22145.1094865%22%2C%20%22-38.2133846%22%5D%2C%20%5B%22145.1094177%22%2C%20%22-38.2134755%22%5D%2C%20%5B%22145.1093247%22%2C%20%22-38.2134722%22%5D%2C%20%5B%22145.1092526%22%2C%20%22-38.2134506%22%5D%2C%20%5B%22145.1092184%22%2C%20%22-38.2134586%22%5D%2C%20%5B%22145.109163%22%2C%20%22-38.2135485%22%5D%2C%20%5B%22145.1091287%22%2C%20%22-38.2135783%22%5D%2C%20%5B%22145.1090544%22%2C%20%22-38.2135943%22%5D%2C%20%5B%22145.1089862%22%2C%20%22-38.2135807%22%5D%2C%20%5B%22145.1089307%22%2C%20%22-38.2135522%22%5D%2C%20%5B%22145.108854%22%2C%20%22-38.2134996%22%5D%2C%20%5B%22145.1087071%22%2C%20%22-38.2133171%22%5D%2C%20%5B%22145.108656%22%2C%20%22-38.2132813%22%5D%2C%20%5B%22145.108589%22%2C%20%22-38.2132474%22%5D%2C%20%5B%22145.1085488%22%2C%20%22-38.2132342%22%5D%2C%20%5B%22145.1084857%22%2C%20%22-38.2132273%22%5D%2C%20%5B%22145.1080668%22%2C%20%22-38.2132628%22%5D%5D%2C%20%22type%22%3A%20%22LineString%22%7D%2C%20%22properties%22%3A%20%7B%22bicycle%22%3A%20%22designated%22%2C%20%22cycleway%22%3A%20%22track%22%2C%20%22foot%22%3A%20%22yes%22%2C%20%22highway%22%3A%20%22cycleway%22%2C%20%22id%22%3A%20%22250754840%22%2C%20%22lit%22%3A%20%22no%22%2C%20%22name%22%3A%20%22Peninsula%20Link%20Trail%22%2C%20%22segregated%22%3A%20%22no%22%2C%20%22source%22%3A%20%22http%3A//linkingmelbourne.vic.gov.au/pages/rosetta-download.asp%3Fsize%3D0%5Cu0026file%3DThe_Peninsula_Link_Trail__Promoting_walking_and_cycling_along_a_new_25_km_path_22_Dec_2010_pdf.pdf%22%2C%20%22surface%22%3A%20%22asphalt%22%2C%20%22timestamp%22%3A%20%222021-06-09T07%3A57%3A24Z%22%2C%20%22version%22%3A%20%226%22%7D%2C%20%22type%22%3A%20%22Feature%22%7D%2C%20%7B%22geometry%22%3A%20%7B%22coordinates%22%3A%20%5B%5B%22145.0777893%22%2C%20%22-38.2192031%22%5D%2C%20%5B%22145.077838%22%2C%20%22-38.2193381%22%5D%5D%2C%20%22type%22%3A%20%22LineString%22%7D%2C%20%22properties%22%3A%20%7B%22bicycle%22%3A%20%22yes%22%2C%20%22cycleway%22%3A%20%22track%22%2C%20%22foot%22%3A%20%22yes%22%2C%20%22highway%22%3A%20%22cycleway%22%2C%20%22id%22%3A%20%22256397901%22%2C%20%22source%22%3A%20%22Bing%22%2C%20%22timestamp%22%3A%20%222014-01-13T03%3A08%3A55Z%22%2C%20%22version%22%3A%20%221%22%7D%2C%20%22type%22%3A%20%22Feature%22%7D%2C%20%7B%22geometry%22%3A%20%7B%22coordinates%22%3A%20%5B%5B%22145.0897009%22%2C%20%22-38.1876714%22%5D%2C%20%5B%22145.0897415%22%2C%20%22-38.1879646%22%5D%2C%20%5B%22145.0897622%22%2C%20%22-38.1880954%22%5D%2C%20%5B%22145.0899007%22%2C%20%22-38.1889693%22%5D%2C%20%5B%22145.0900352%22%2C%20%22-38.1898178%22%5D%2C%20%5B%22145.0902083%22%2C%20%22-38.1909094%22%5D%2C%20%5B%22145.0903587%22%2C%20%22-38.1918585%22%5D%2C%20%5B%22145.0904933%22%2C%20%22-38.1927076%22%5D%2C%20%5B%22145.0905773%22%2C%20%22-38.1932379%22%5D%2C%20%5B%22145.090635%22%2C%20%22-38.1936017%22%5D%2C%20%5B%22145.0907082%22%2C%20%22-38.1940634%22%5D%5D%2C%20%22type%22%3A%20%22LineString%22%7D%2C%20%22properties%22%3A%20%7B%22cycleway%22%3A%20%22lane%22%2C%20%22highway%22%3A%20%22tertiary%22%2C%20%22id%22%3A%20%22450706949%22%2C%20%22lanes%22%3A%20%222%22%2C%20%22maxspeed%22%3A%20%2260%22%2C%20%22name%22%3A%20%22Mount%20Eliza%20Way%22%2C%20%22oneway%22%3A%20%22no%22%2C%20%22sidewalk%22%3A%20%22both%22%2C%20%22surface%22%3A%20%22asphalt%22%2C%20%22timestamp%22%3A%20%222020-08-29T04%3A38%3A52Z%22%2C%20%22version%22%3A%20%228%22%7D%2C%20%22type%22%3A%20%22Feature%22%7D%2C%20%7B%22geometry%22%3A%20%7B%22coordinates%22%3A%20%5B%5B%22145.0786537%22%2C%20%22-38.2031763%22%5D%2C%20%5B%22145.0788538%22%2C%20%22-38.2030102%22%5D%5D%2C%20%22type%22%3A%20%22LineString%22%7D%2C%20%22properties%22%3A%20%7B%22bicycle%22%3A%20%22yes%22%2C%20%22cycleway%22%3A%20%22lane%22%2C%20%22foot%22%3A%20%22yes%22%2C%20%22highway%22%3A%20%22trunk%22%2C%20%22id%22%3A%20%22578672748%22%2C%20%22lanes%22%3A%20%222%22%2C%20%22maxspeed%22%3A%20%2280%22%2C%20%22name%22%3A%20%22Nepean%20Highway%22%2C%20%22oneway%22%3A%20%22yes%22%2C%20%22ref%22%3A%20%22A50%22%2C%20%22timestamp%22%3A%20%222021-04-17T10%3A51%3A15Z%22%2C%20%22version%22%3A%20%223%22%7D%2C%20%22type%22%3A%20%22Feature%22%7D%2C%20%7B%22geometry%22%3A%20%7B%22coordinates%22%3A%20%5B%5B%22145.0962295%22%2C%20%22-38.1791566%22%5D%2C%20%5B%22145.0960718%22%2C%20%22-38.1795773%22%5D%2C%20%5B%22145.0959538%22%2C%20%22-38.1799315%22%5D%2C%20%5B%22145.0958948%22%2C%20%22-38.1801739%22%5D%2C%20%5B%22145.0958814%22%2C%20%22-38.1804733%22%5D%2C%20%5B%22145.0959029%22%2C%20%22-38.1807812%22%5D%2C%20%5B%22145.0959994%22%2C%20%22-38.1812007%22%5D%2C%20%5B%22145.0961121%22%2C%20%22-38.1815655%22%5D%5D%2C%20%22type%22%3A%20%22LineString%22%7D%2C%20%22properties%22%3A%20%7B%22bicycle%22%3A%20%22yes%22%2C%20%22cycleway%22%3A%20%22lane%22%2C%20%22foot%22%3A%20%22yes%22%2C%20%22highway%22%3A%20%22trunk%22%2C%20%22id%22%3A%20%22755340009%22%2C%20%22lanes%22%3A%20%222%22%2C%20%22maxspeed%22%3A%20%2280%22%2C%20%22name%22%3A%20%22Nepean%20Highway%22%2C%20%22oneway%22%3A%20%22yes%22%2C%20%22ref%22%3A%20%22A50%22%2C%20%22timestamp%22%3A%20%222021-04-17T10%3A51%3A15Z%22%2C%20%22version%22%3A%20%222%22%7D%2C%20%22type%22%3A%20%22Feature%22%7D%2C%20%7B%22geometry%22%3A%20%7B%22coordinates%22%3A%20%5B%5B%22145.0961419%22%2C%20%22-38.1821536%22%5D%2C%20%5B%22145.0960107%22%2C%20%22-38.1817898%22%5D%2C%20%5B%22145.0959967%22%2C%20%22-38.181751%22%5D%2C%20%5B%22145.0959269%22%2C%20%22-38.1815165%22%5D%2C%20%5B%22145.0958787%22%2C%20%22-38.1813546%22%5D%2C%20%5B%22145.0957714%22%2C%20%22-38.1809056%22%5D%2C%20%5B%22145.0957258%22%2C%20%22-38.1806167%22%5D%2C%20%5B%22145.0957258%22%2C%20%22-38.1803363%22%5D%2C%20%5B%22145.0957714%22%2C%20%22-38.1800074%22%5D%2C%20%5B%22145.0958841%22%2C%20%22-38.1796616%22%5D%2C%20%5B%22145.0959994%22%2C%20%22-38.179358%22%5D%2C%20%5B%22145.0960665%22%2C%20%22-38.1791471%22%5D%5D%2C%20%22type%22%3A%20%22LineString%22%7D%2C%20%22properties%22%3A%20%7B%22bicycle%22%3A%20%22yes%22%2C%20%22cycleway%22%3A%20%22lane%22%2C%20%22foot%22%3A%20%22yes%22%2C%20%22highway%22%3A%20%22trunk%22%2C%20%22id%22%3A%20%22755340010%22%2C%20%22lanes%22%3A%20%222%22%2C%20%22maxspeed%22%3A%20%2280%22%2C%20%22name%22%3A%20%22Nepean%20Highway%22%2C%20%22oneway%22%3A%20%22yes%22%2C%20%22ref%22%3A%20%22A50%22%2C%20%22timestamp%22%3A%20%222021-04-17T10%3A51%3A15Z%22%2C%20%22version%22%3A%20%223%22%7D%2C%20%22type%22%3A%20%22Feature%22%7D%2C%20%7B%22geometry%22%3A%20%7B%22coordinates%22%3A%20%5B%5B%22145.0915251%22%2C%20%22-38.1948092%22%5D%2C%20%5B%22145.0918138%22%2C%20%22-38.1946375%22%5D%2C%20%5B%22145.0927902%22%2C%20%22-38.1940565%22%5D%5D%2C%20%22type%22%3A%20%22LineString%22%7D%2C%20%22properties%22%3A%20%7B%22bicycle%22%3A%20%22yes%22%2C%20%22cycleway%22%3A%20%22lane%22%2C%20%22foot%22%3A%20%22yes%22%2C%20%22highway%22%3A%20%22trunk%22%2C%20%22id%22%3A%20%22784213933%22%2C%20%22lanes%22%3A%20%222%22%2C%20%22maxspeed%22%3A%20%2280%22%2C%20%22name%22%3A%20%22Nepean%20Highway%22%2C%20%22oneway%22%3A%20%22yes%22%2C%20%22ref%22%3A%20%22A50%22%2C%20%22timestamp%22%3A%20%222021-04-17T10%3A51%3A15Z%22%2C%20%22version%22%3A%20%222%22%7D%2C%20%22type%22%3A%20%22Feature%22%7D%2C%20%7B%22geometry%22%3A%20%7B%22coordinates%22%3A%20%5B%5B%22145.0911513%22%2C%20%22-38.1950156%22%5D%2C%20%5B%22145.0913495%22%2C%20%22-38.1949136%22%5D%2C%20%5B%22145.0915251%22%2C%20%22-38.1948092%22%5D%5D%2C%20%22type%22%3A%20%22LineString%22%7D%2C%20%22properties%22%3A%20%7B%22bicycle%22%3A%20%22yes%22%2C%20%22cycleway%22%3A%20%22lane%22%2C%20%22foot%22%3A%20%22yes%22%2C%20%22highway%22%3A%20%22trunk%22%2C%20%22id%22%3A%20%22784213934%22%2C%20%22lanes%22%3A%20%222%22%2C%20%22maxspeed%22%3A%20%2280%22%2C%20%22name%22%3A%20%22Nepean%20Highway%22%2C%20%22oneway%22%3A%20%22yes%22%2C%20%22ref%22%3A%20%22A50%22%2C%20%22timestamp%22%3A%20%222021-04-17T10%3A51%3A15Z%22%2C%20%22version%22%3A%20%222%22%7D%2C%20%22type%22%3A%20%22Feature%22%7D%2C%20%7B%22geometry%22%3A%20%7B%22coordinates%22%3A%20%5B%5B%22145.0912533%22%2C%20%22-38.1951263%22%5D%2C%20%5B%22145.0893891%22%2C%20%22-38.1962108%22%5D%5D%2C%20%22type%22%3A%20%22LineString%22%7D%2C%20%22properties%22%3A%20%7B%22bicycle%22%3A%20%22yes%22%2C%20%22cycleway%22%3A%20%22lane%22%2C%20%22foot%22%3A%20%22yes%22%2C%20%22highway%22%3A%20%22trunk%22%2C%20%22id%22%3A%20%22784219308%22%2C%20%22lanes%22%3A%20%222%22%2C%20%22maxspeed%22%3A%20%2280%22%2C%20%22name%22%3A%20%22Nepean%20Highway%22%2C%20%22oneway%22%3A%20%22yes%22%2C%20%22ref%22%3A%20%22A50%22%2C%20%22timestamp%22%3A%20%222021-04-17T10%3A51%3A15Z%22%2C%20%22version%22%3A%20%222%22%7D%2C%20%22type%22%3A%20%22Feature%22%7D%2C%20%7B%22geometry%22%3A%20%7B%22coordinates%22%3A%20%5B%5B%22145.0933387%22%2C%20%22-38.1938963%22%5D%2C%20%5B%22145.0929793%22%2C%20%22-38.1941376%22%5D%2C%20%5B%22145.0922929%22%2C%20%22-38.1945326%22%5D%2C%20%5B%22145.092133%22%2C%20%22-38.1946246%22%5D%5D%2C%20%22type%22%3A%20%22LineString%22%7D%2C%20%22properties%22%3A%20%7B%22bicycle%22%3A%20%22yes%22%2C%20%22cycleway%22%3A%20%22lane%22%2C%20%22foot%22%3A%20%22yes%22%2C%20%22highway%22%3A%20%22trunk%22%2C%20%22id%22%3A%20%22784219309%22%2C%20%22lanes%22%3A%20%222%22%2C%20%22maxspeed%22%3A%20%2280%22%2C%20%22name%22%3A%20%22Nepean%20Highway%22%2C%20%22oneway%22%3A%20%22yes%22%2C%20%22ref%22%3A%20%22A50%22%2C%20%22timestamp%22%3A%20%222021-04-17T10%3A51%3A15Z%22%2C%20%22version%22%3A%20%223%22%7D%2C%20%22type%22%3A%20%22Feature%22%7D%2C%20%7B%22geometry%22%3A%20%7B%22coordinates%22%3A%20%5B%5B%22145.092133%22%2C%20%22-38.1946246%22%5D%2C%20%5B%22145.0919808%22%2C%20%22-38.1947114%22%5D%2C%20%5B%22145.0914024%22%2C%20%22-38.1950412%22%5D%2C%20%5B%22145.0912533%22%2C%20%22-38.1951263%22%5D%5D%2C%20%22type%22%3A%20%22LineString%22%7D%2C%20%22properties%22%3A%20%7B%22bicycle%22%3A%20%22yes%22%2C%20%22cycleway%22%3A%20%22lane%22%2C%20%22foot%22%3A%20%22yes%22%2C%20%22highway%22%3A%20%22trunk%22%2C%20%22id%22%3A%20%22785155808%22%2C%20%22lanes%22%3A%20%222%22%2C%20%22maxspeed%22%3A%20%2280%22%2C%20%22name%22%3A%20%22Nepean%20Highway%22%2C%20%22oneway%22%3A%20%22yes%22%2C%20%22ref%22%3A%20%22A50%22%2C%20%22timestamp%22%3A%20%222021-04-17T10%3A51%3A15Z%22%2C%20%22version%22%3A%20%222%22%7D%2C%20%22type%22%3A%20%22Feature%22%7D%2C%20%7B%22geometry%22%3A%20%7B%22coordinates%22%3A%20%5B%5B%22145.0968587%22%2C%20%22-38.1839852%22%5D%2C%20%5B%22145.0968363%22%2C%20%22-38.1838488%22%5D%2C%20%5B%22145.0967639%22%2C%20%22-38.183619%22%5D%2C%20%5B%22145.0966485%22%2C%20%22-38.1833407%22%5D%2C%20%5B%22145.0964071%22%2C%20%22-38.1828537%22%5D%2C%20%5B%22145.0962301%22%2C%20%22-38.1823983%22%5D%2C%20%5B%22145.0961653%22%2C%20%22-38.1822186%22%5D%2C%20%5B%22145.0961419%22%2C%20%22-38.1821536%22%5D%5D%2C%20%22type%22%3A%20%22LineString%22%7D%2C%20%22properties%22%3A%20%7B%22bicycle%22%3A%20%22yes%22%2C%20%22cycleway%22%3A%20%22lane%22%2C%20%22foot%22%3A%20%22yes%22%2C%20%22highway%22%3A%20%22trunk%22%2C%20%22id%22%3A%20%22785182727%22%2C%20%22lanes%22%3A%20%222%22%2C%20%22maxspeed%22%3A%20%2280%22%2C%20%22name%22%3A%20%22Nepean%20Highway%22%2C%20%22oneway%22%3A%20%22yes%22%2C%20%22ref%22%3A%20%22A50%22%2C%20%22timestamp%22%3A%20%222021-04-17T10%3A51%3A15Z%22%2C%20%22version%22%3A%20%222%22%7D%2C%20%22type%22%3A%20%22Feature%22%7D%2C%20%7B%22geometry%22%3A%20%7B%22coordinates%22%3A%20%5B%5B%22145.1021415%22%2C%20%22-38.1660232%22%5D%2C%20%5B%22145.1028609%22%2C%20%22-38.1668979%22%5D%2C%20%5B%22145.1038035%22%2C%20%22-38.1681149%22%5D%2C%20%5B%22145.1042149%22%2C%20%22-38.1686374%22%5D%2C%20%5B%22145.1050184%22%2C%20%22-38.169658%22%5D%2C%20%5B%22145.1050454%22%2C%20%22-38.1696922%22%5D%2C%20%5B%22145.1052246%22%2C%20%22-38.1699233%22%5D%5D%2C%20%22type%22%3A%20%22LineString%22%7D%2C%20%22properties%22%3A%20%7B%22cycleway%22%3A%20%22lane%22%2C%20%22highway%22%3A%20%22tertiary%22%2C%20%22id%22%3A%20%22840490415%22%2C%20%22maxspeed%22%3A%20%2260%22%2C%20%22name%22%3A%20%22Humphries%20Road%22%2C%20%22sidewalk%22%3A%20%22right%22%2C%20%22surface%22%3A%20%22asphalt%22%2C%20%22timestamp%22%3A%20%222020-08-27T04%3A26%3A02Z%22%2C%20%22version%22%3A%20%222%22%7D%2C%20%22type%22%3A%20%22Feature%22%7D%2C%20%7B%22geometry%22%3A%20%7B%22coordinates%22%3A%20%5B%5B%22145.094771%22%2C%20%22-38.1907184%22%5D%2C%20%5B%22145.0948286%22%2C%20%22-38.1905497%22%5D%2C%20%5B%22145.0948749%22%2C%20%22-38.1904141%22%5D%5D%2C%20%22type%22%3A%20%22LineString%22%7D%2C%20%22properties%22%3A%20%7B%22bicycle%22%3A%20%22yes%22%2C%20%22cycleway%22%3A%20%22lane%22%2C%20%22foot%22%3A%20%22yes%22%2C%20%22highway%22%3A%20%22trunk%22%2C%20%22id%22%3A%20%22845641243%22%2C%20%22lanes%22%3A%20%222%22%2C%20%22maxspeed%22%3A%20%2280%22%2C%20%22name%22%3A%20%22Nepean%20Highway%22%2C%20%22oneway%22%3A%20%22yes%22%2C%20%22ref%22%3A%20%22A50%22%2C%20%22timestamp%22%3A%20%222021-04-17T10%3A51%3A15Z%22%2C%20%22version%22%3A%20%222%22%7D%2C%20%22type%22%3A%20%22Feature%22%7D%2C%20%7B%22geometry%22%3A%20%7B%22coordinates%22%3A%20%5B%5B%22145.0949091%22%2C%20%22-38.1908891%22%5D%2C%20%5B%22145.0948655%22%2C%20%22-38.1910379%22%5D%2C%20%5B%22145.0947909%22%2C%20%22-38.1912925%22%5D%5D%2C%20%22type%22%3A%20%22LineString%22%7D%2C%20%22properties%22%3A%20%7B%22bicycle%22%3A%20%22yes%22%2C%20%22cycleway%22%3A%20%22lane%22%2C%20%22foot%22%3A%20%22yes%22%2C%20%22highway%22%3A%20%22trunk%22%2C%20%22id%22%3A%20%22845641247%22%2C%20%22lanes%22%3A%20%222%22%2C%20%22maxspeed%22%3A%20%2280%22%2C%20%22name%22%3A%20%22Nepean%20Highway%22%2C%20%22oneway%22%3A%20%22yes%22%2C%20%22ref%22%3A%20%22A50%22%2C%20%22timestamp%22%3A%20%222021-04-17T10%3A51%3A15Z%22%2C%20%22version%22%3A%20%222%22%7D%2C%20%22type%22%3A%20%22Feature%22%7D%2C%20%7B%22geometry%22%3A%20%7B%22coordinates%22%3A%20%5B%5B%22145.0948749%22%2C%20%22-38.1904141%22%5D%2C%20%5B%22145.0949024%22%2C%20%22-38.1903337%22%5D%2C%20%5B%22145.0951143%22%2C%20%22-38.1896749%22%5D%2C%20%5B%22145.095357%22%2C%20%22-38.1888864%22%5D%2C%20%5B%22145.0955274%22%2C%20%22-38.1883657%22%5D%2C%20%5B%22145.095699%22%2C%20%22-38.1879019%22%5D%2C%20%5B%22145.0959109%22%2C%20%22-38.1873337%22%5D%2C%20%5B%22145.0960862%22%2C%20%22-38.1868784%22%5D%2C%20%5B%22145.096096%22%2C%20%22-38.1868531%22%5D%2C%20%5B%22145.0963749%22%2C%20%22-38.1860888%22%5D%2C%20%5B%22145.0966458%22%2C%20%22-38.1853373%22%5D%2C%20%5B%22145.0967558%22%2C%20%22-38.1850084%22%5D%2C%20%5B%22145.0968577%22%2C%20%22-38.1846984%22%5D%2C%20%5B%22145.0968846%22%2C%20%22-38.1844244%22%5D%2C%20%5B%22145.0968792%22%2C%20%22-38.1840976%22%5D%2C%20%5B%22145.0968587%22%2C%20%22-38.1839852%22%5D%5D%2C%20%22type%22%3A%20%22LineString%22%7D%2C%20%22properties%22%3A%20%7B%22bicycle%22%3A%20%22yes%22%2C%20%22cycleway%22%3A%20%22lane%22%2C%20%22foot%22%3A%20%22yes%22%2C%20%22highway%22%3A%20%22trunk%22%2C%20%22id%22%3A%20%22845641248%22%2C%20%22lanes%22%3A%20%222%22%2C%20%22maxspeed%22%3A%20%2280%22%2C%20%22name%22%3A%20%22Nepean%20Highway%22%2C%20%22oneway%22%3A%20%22yes%22%2C%20%22ref%22%3A%20%22A50%22%2C%20%22timestamp%22%3A%20%222021-04-17T10%3A51%3A15Z%22%2C%20%22version%22%3A%20%222%22%7D%2C%20%22type%22%3A%20%22Feature%22%7D%2C%20%7B%22geometry%22%3A%20%7B%22coordinates%22%3A%20%5B%5B%22145.0947909%22%2C%20%22-38.1912925%22%5D%2C%20%5B%22145.0944907%22%2C%20%22-38.1923174%22%5D%2C%20%5B%22145.0943968%22%2C%20%22-38.1925619%22%5D%2C%20%5B%22145.0942707%22%2C%20%22-38.1928486%22%5D%2C%20%5B%22145.09402%22%2C%20%22-38.1932291%22%5D%2C%20%5B%22145.0938376%22%2C%20%22-38.1934462%22%5D%2C%20%5B%22145.0935895%22%2C%20%22-38.1936865%22%5D%2C%20%5B%22145.0933387%22%2C%20%22-38.1938963%22%5D%5D%2C%20%22type%22%3A%20%22LineString%22%7D%2C%20%22properties%22%3A%20%7B%22bicycle%22%3A%20%22yes%22%2C%20%22cycleway%22%3A%20%22lane%22%2C%20%22foot%22%3A%20%22yes%22%2C%20%22highway%22%3A%20%22trunk%22%2C%20%22id%22%3A%20%22845641249%22%2C%20%22lanes%22%3A%20%222%22%2C%20%22maxspeed%22%3A%20%2280%22%2C%20%22name%22%3A%20%22Nepean%20Highway%22%2C%20%22oneway%22%3A%20%22yes%22%2C%20%22ref%22%3A%20%22A50%22%2C%20%22timestamp%22%3A%20%222021-04-17T10%3A51%3A15Z%22%2C%20%22version%22%3A%20%222%22%7D%2C%20%22type%22%3A%20%22Feature%22%7D%5D%2C%20%22type%22%3A%20%22FeatureCollection%22%7D%29%3B%0A%0A%20%20%20%20%20%20%20%20%0A%3C/script%3E onload=\"this.contentDocument.open();this.contentDocument.write(    decodeURIComponent(this.getAttribute('data-html')));this.contentDocument.close();\" allowfullscreen webkitallowfullscreen mozallowfullscreen></iframe></div></div>"
      ],
      "text/plain": [
       "<folium.folium.Map at 0x1be1df283d0>"
      ]
     },
     "execution_count": 17,
     "metadata": {},
     "output_type": "execute_result"
    }
   ],
   "source": [
    "import folium\n",
    "import json\n",
    "\n",
    "style_red = {\n",
    "    'color': 'red',\n",
    "    'weight': 2,\n",
    "    'fillColor': 'red',\n",
    "    'fillOpacity': 0.2\n",
    "}\n",
    "\n",
    "with open(margin_filename) as f:\n",
    "    gj_margin = json.load(f)\n",
    "    \n",
    "with open(osm_filename) as f:\n",
    "    gj_detected = json.load(f)\n",
    "\n",
    "m = folium.Map(location=center, zoom_start=zoom)\n",
    "folium.GeoJson(gj_margin, name='boundary').add_to(m)\n",
    "folium.GeoJson(gj_detected, name='detected', style_function=lambda x:style_red).add_to(m)\n",
    "m\n"
   ]
  },
  {
   "cell_type": "code",
   "execution_count": 18,
   "id": "b0fa8e33",
   "metadata": {},
   "outputs": [],
   "source": [
    "# Save folium to PNG, requires selenium, geckodriver, Firefox\n",
    "import io\n",
    "from PIL import Image\n",
    "\n",
    "img_data = m._to_png(5)\n",
    "img = Image.open(io.BytesIO(img_data))\n",
    "img.save(os.path.join(os.pardir, 'map_osm.png'))"
   ]
  },
  {
   "cell_type": "code",
   "execution_count": null,
   "id": "9877acee",
   "metadata": {},
   "outputs": [],
   "source": []
  }
 ],
 "metadata": {
  "kernelspec": {
   "display_name": "gpuEnv",
   "language": "python",
   "name": "gpuenv"
  },
  "language_info": {
   "codemirror_mode": {
    "name": "ipython",
    "version": 3
   },
   "file_extension": ".py",
   "mimetype": "text/x-python",
   "name": "python",
   "nbconvert_exporter": "python",
   "pygments_lexer": "ipython3",
   "version": "3.8.11"
  }
 },
 "nbformat": 4,
 "nbformat_minor": 5
}
