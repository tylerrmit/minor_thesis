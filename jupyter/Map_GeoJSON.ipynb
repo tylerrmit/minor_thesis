{
 "cells": [
  {
   "cell_type": "markdown",
   "id": "3784c95f",
   "metadata": {},
   "source": [
    "# Display map with GeoJSON layers\n",
    "\n",
    "https://ipyleaflet.readthedocs.io/en/latest/api_reference/geo_json.html\n"
   ]
  },
  {
   "cell_type": "markdown",
   "id": "d7ac5bd6",
   "metadata": {},
   "source": [
    "## Configuration"
   ]
  },
  {
   "cell_type": "code",
   "execution_count": 1,
   "id": "27eb8f15",
   "metadata": {},
   "outputs": [],
   "source": [
    "# Specify the locality whose OSM file we want to load\n",
    "\n",
    "locality = 'Mount Eliza Sample'\n",
    "margin   = 20\n",
    "zoom     = 14"
   ]
  },
  {
   "cell_type": "markdown",
   "id": "e03e7616",
   "metadata": {},
   "source": [
    "## Load required modules"
   ]
  },
  {
   "cell_type": "code",
   "execution_count": 2,
   "id": "7a12cc14",
   "metadata": {},
   "outputs": [],
   "source": [
    "import json\n",
    "import os\n",
    "import sys\n",
    "\n",
    "from ipyleaflet import Map, Marker, GeoJSON\n",
    "\n",
    "import pandas as pd\n",
    "\n",
    "# Make sure local modules can be imported\n",
    "module_path_root = os.path.abspath(os.pardir)\n",
    "if module_path_root not in sys.path:\n",
    "    sys.path.append(module_path_root)\n",
    "    \n",
    "# Import local modules\n",
    "import osm_gsv_utils.detection_map as detection_map"
   ]
  },
  {
   "cell_type": "markdown",
   "id": "3c62b902",
   "metadata": {},
   "source": [
    "## Display map of detected points with boundary"
   ]
  },
  {
   "cell_type": "code",
   "execution_count": 3,
   "id": "1207728f",
   "metadata": {},
   "outputs": [],
   "source": [
    "# Version of locality strings with underscores\n",
    "locality_clean  = locality.replace(' ', '_')\n",
    "locality_margin = '{0:s}_{1:d}m'.format(locality_clean, margin)\n",
    "\n",
    "# Derived file paths\n",
    "detection_log = os.path.join(module_path_root, 'detections', locality_margin, 'detection_log.csv')\n",
    "\n",
    "margin_filename   = os.path.join(module_path_root, 'data_sources', 'Locality_{0:s}_margin.geojson'.format(locality_clean))\n",
    "detected_filename = os.path.join(module_path_root, 'detections', locality_margin, 'hit.geojson')\n",
    "\n",
    "locality_filename = os.path.join(os.pardir, 'data_sources', 'LGA_boundary_Mount_Eliza.geojson')\n",
    "tag_filename      = os.path.join(module_path_root, 'detections', locality_margin, 'tag.geojson')\n",
    "\n",
    "both_filename     = os.path.join(module_path_root, 'detections', locality_margin, 'both.geojson')\n",
    "hit_only_filename = os.path.join(module_path_root, 'detections', locality_margin, 'hit_only.geojson')\n",
    "tag_only_filename = os.path.join(module_path_root, 'detections', locality_margin, 'tag_only.geojson')"
   ]
  },
  {
   "cell_type": "code",
   "execution_count": 4,
   "id": "fc4d3a72",
   "metadata": {},
   "outputs": [
    {
     "name": "stdout",
     "output_type": "stream",
     "text": [
      "Point count: 114\n"
     ]
    },
    {
     "data": {
      "application/vnd.jupyter.widget-view+json": {
       "model_id": "f7ac26accdfe431aa8eda27d62058178",
       "version_major": 2,
       "version_minor": 0
      },
      "text/plain": [
       "Map(center=[-38.169, 145.102], controls=(ZoomControl(options=['position', 'zoom_in_text', 'zoom_in_title', 'zo…"
      ]
     },
     "metadata": {},
     "output_type": "display_data"
    }
   ],
   "source": [
    "# Load boundary of the sample area, so we can draw it on the map\n",
    "margin_layer, margin_data = detection_map.load_layer(margin_filename)\n",
    "\n",
    "center = detection_map.get_centroid(margin_data)\n",
    "\n",
    "m_detect1 = Map(center=center, zoom=zoom)\n",
    "m_detect1.add_layer(margin_layer)\n",
    "\n",
    "# Load detected points and add to map\n",
    "count = detection_map.load_points(m_detect1, detection_log)\n",
    "print('Point count: ' + str(count))\n",
    "\n",
    "# Display the map\n",
    "m_detect1"
   ]
  },
  {
   "cell_type": "markdown",
   "id": "7701aedd",
   "metadata": {},
   "source": [
    "## Display map of detected lines with boundary"
   ]
  },
  {
   "cell_type": "code",
   "execution_count": 5,
   "id": "3db3012d",
   "metadata": {},
   "outputs": [
    {
     "data": {
      "application/vnd.jupyter.widget-view+json": {
       "model_id": "4a0687f18e9f48f389bb305cd40f7fbb",
       "version_major": 2,
       "version_minor": 0
      },
      "text/plain": [
       "Map(center=[-38.169, 145.102], controls=(ZoomControl(options=['position', 'zoom_in_text', 'zoom_in_title', 'zo…"
      ]
     },
     "metadata": {},
     "output_type": "display_data"
    }
   ],
   "source": [
    "# Load boundary of the sample area, so we can draw it on the map\n",
    "margin_layer, margin_data = detection_map.load_layer(margin_filename)\n",
    "\n",
    "center = detection_map.get_centroid(margin_data)\n",
    "\n",
    "# Load lines that we drew from the detected points\n",
    "detected_layer, detected_data = detection_map.load_layer(detected_filename, color='red')\n",
    "\n",
    "# Build the map\n",
    "m_detect2 = Map(center=center, zoom=zoom)\n",
    "m_detect2.add_layer(margin_layer)\n",
    "m_detect2.add_layer(detected_layer)\n",
    "\n",
    "# Display the map\n",
    "m_detect2"
   ]
  },
  {
   "cell_type": "markdown",
   "id": "405a28da",
   "metadata": {},
   "source": [
    "## Display map of Open Street Map cycleways"
   ]
  },
  {
   "cell_type": "code",
   "execution_count": 6,
   "id": "80f72e35",
   "metadata": {},
   "outputs": [
    {
     "data": {
      "application/vnd.jupyter.widget-view+json": {
       "model_id": "ea4c0fb8d1e2441ba0718e2741f65e1d",
       "version_major": 2,
       "version_minor": 0
      },
      "text/plain": [
       "Map(center=[-38.169, 145.102], controls=(ZoomControl(options=['position', 'zoom_in_text', 'zoom_in_title', 'zo…"
      ]
     },
     "metadata": {},
     "output_type": "display_data"
    }
   ],
   "source": [
    "# Load boundary of the sample area, so we can draw it on the map\n",
    "margin_layer, margin_data = detection_map.load_layer(margin_filename)\n",
    "\n",
    "center = detection_map.get_centroid(margin_data)\n",
    "\n",
    "# Load lines that we drew from the detected points\n",
    "tag_layer, tag_data = detection_map.load_layer(tag_filename, color='red')\n",
    "\n",
    "# Build the map\n",
    "m_detect3 = Map(center=center, zoom=zoom)\n",
    "m_detect3.add_layer(margin_layer)\n",
    "m_detect3.add_layer(tag_layer)\n",
    "\n",
    "# Display the map\n",
    "m_detect3"
   ]
  },
  {
   "cell_type": "markdown",
   "id": "a5d187cd",
   "metadata": {},
   "source": [
    "## Comparison Map"
   ]
  },
  {
   "cell_type": "code",
   "execution_count": 7,
   "id": "c87b9be6",
   "metadata": {},
   "outputs": [
    {
     "data": {
      "application/vnd.jupyter.widget-view+json": {
       "model_id": "c41a36f39f45459595ac9185c52aa94b",
       "version_major": 2,
       "version_minor": 0
      },
      "text/plain": [
       "Map(center=[-38.169, 145.102], controls=(ZoomControl(options=['position', 'zoom_in_text', 'zoom_in_title', 'zo…"
      ]
     },
     "metadata": {},
     "output_type": "display_data"
    }
   ],
   "source": [
    "# Load boundary of the sample area, so we can draw it on the map\n",
    "margin_layer, margin_data = detection_map.load_layer(margin_filename)\n",
    "\n",
    "center = detection_map.get_centroid(margin_data)\n",
    "\n",
    "# Load lines that we drew from the detected points\n",
    "both_layer,     both_data     = detection_map.load_layer(both_filename,     color='green')\n",
    "hit_only_layer, hit_only_data = detection_map.load_layer(hit_only_filename, color='blue')\n",
    "tag_only_layer, tag_only_data = detection_map.load_layer(tag_only_filename, color='red')\n",
    "\n",
    "# Build the map\n",
    "m_detect4 = Map(center=center, zoom=zoom)\n",
    "m_detect4.add_layer(margin_layer)\n",
    "m_detect4.add_layer(both_layer)\n",
    "m_detect4.add_layer(hit_only_layer)\n",
    "m_detect4.add_layer(tag_only_layer)\n",
    "\n",
    "# Display the map\n",
    "m_detect4"
   ]
  },
  {
   "cell_type": "markdown",
   "id": "db444af8",
   "metadata": {},
   "source": [
    "OSM is missing a segment of Nepean Highway from Mount Eliza Way to Old Mornington Road.\n",
    "\n",
    "This corresponds to way id=\"204762387\".  It is NOT tagged with a \"cycleway\", it is tagged with \"bicycle\"=\"yes\" and \"foot\"=\"yes\".  This generally means that bicycle traffic (and foot traffic) is allowed, but not that there is a cycleway.\n",
    "\n",
    "The small segment that is missing on Humphries Road from Walkers Road to Overport road was clipped in the OSM extract for the locality, it is just outside the official shape of the locality.  If we widen our OSM extract we can see that it is a cycleway.  way id=\"671976035\"."
   ]
  },
  {
   "cell_type": "code",
   "execution_count": 8,
   "id": "d34c8b16",
   "metadata": {},
   "outputs": [],
   "source": [
    "# locality_filename = os.path.join('data_sources', 'LGA_boundary_' + locality.replace(' ', '_') + '.geojson')\n",
    "# pbn_existing_filename = os.path.join('data_sources', 'PBN_Existing.geojson')\n",
    "# pbn_planned_filename = os.path.join('data_sources', 'PBN_Planned.geojson')\n",
    "# osm_filename = os.path.join('data_sources', 'Locality_OSM_cycleway_' + locality.replace(' ', '_') + '.geojson')\n",
    "# detect_filename = os.path.join('detections', locality_detect.replace(' ', '_'), 'detected_points.geojson')"
   ]
  },
  {
   "cell_type": "markdown",
   "id": "b8c41cbd",
   "metadata": {},
   "source": [
    "## Demonstrate how to use Folium and save to .PNG"
   ]
  },
  {
   "cell_type": "code",
   "execution_count": 9,
   "id": "462b7325",
   "metadata": {},
   "outputs": [
    {
     "data": {
      "text/html": [
       "<div style=\"width:100%;\"><div style=\"position:relative;width:100%;height:0;padding-bottom:60%;\"><span style=\"color:#565656\">Make this Notebook Trusted to load map: File -> Trust Notebook</span><iframe src=\"about:blank\" style=\"position:absolute;width:100%;height:100%;left:0;top:0;border:none !important;\" data-html=%3C%21DOCTYPE%20html%3E%0A%3Chead%3E%20%20%20%20%0A%20%20%20%20%3Cmeta%20http-equiv%3D%22content-type%22%20content%3D%22text/html%3B%20charset%3DUTF-8%22%20/%3E%0A%20%20%20%20%0A%20%20%20%20%20%20%20%20%3Cscript%3E%0A%20%20%20%20%20%20%20%20%20%20%20%20L_NO_TOUCH%20%3D%20false%3B%0A%20%20%20%20%20%20%20%20%20%20%20%20L_DISABLE_3D%20%3D%20false%3B%0A%20%20%20%20%20%20%20%20%3C/script%3E%0A%20%20%20%20%0A%20%20%20%20%3Cstyle%3Ehtml%2C%20body%20%7Bwidth%3A%20100%25%3Bheight%3A%20100%25%3Bmargin%3A%200%3Bpadding%3A%200%3B%7D%3C/style%3E%0A%20%20%20%20%3Cstyle%3E%23map%20%7Bposition%3Aabsolute%3Btop%3A0%3Bbottom%3A0%3Bright%3A0%3Bleft%3A0%3B%7D%3C/style%3E%0A%20%20%20%20%3Cscript%20src%3D%22https%3A//cdn.jsdelivr.net/npm/leaflet%401.6.0/dist/leaflet.js%22%3E%3C/script%3E%0A%20%20%20%20%3Cscript%20src%3D%22https%3A//code.jquery.com/jquery-1.12.4.min.js%22%3E%3C/script%3E%0A%20%20%20%20%3Cscript%20src%3D%22https%3A//maxcdn.bootstrapcdn.com/bootstrap/3.2.0/js/bootstrap.min.js%22%3E%3C/script%3E%0A%20%20%20%20%3Cscript%20src%3D%22https%3A//cdnjs.cloudflare.com/ajax/libs/Leaflet.awesome-markers/2.0.2/leaflet.awesome-markers.js%22%3E%3C/script%3E%0A%20%20%20%20%3Clink%20rel%3D%22stylesheet%22%20href%3D%22https%3A//cdn.jsdelivr.net/npm/leaflet%401.6.0/dist/leaflet.css%22/%3E%0A%20%20%20%20%3Clink%20rel%3D%22stylesheet%22%20href%3D%22https%3A//maxcdn.bootstrapcdn.com/bootstrap/3.2.0/css/bootstrap.min.css%22/%3E%0A%20%20%20%20%3Clink%20rel%3D%22stylesheet%22%20href%3D%22https%3A//maxcdn.bootstrapcdn.com/bootstrap/3.2.0/css/bootstrap-theme.min.css%22/%3E%0A%20%20%20%20%3Clink%20rel%3D%22stylesheet%22%20href%3D%22https%3A//maxcdn.bootstrapcdn.com/font-awesome/4.6.3/css/font-awesome.min.css%22/%3E%0A%20%20%20%20%3Clink%20rel%3D%22stylesheet%22%20href%3D%22https%3A//cdnjs.cloudflare.com/ajax/libs/Leaflet.awesome-markers/2.0.2/leaflet.awesome-markers.css%22/%3E%0A%20%20%20%20%3Clink%20rel%3D%22stylesheet%22%20href%3D%22https%3A//cdn.jsdelivr.net/gh/python-visualization/folium/folium/templates/leaflet.awesome.rotate.min.css%22/%3E%0A%20%20%20%20%0A%20%20%20%20%20%20%20%20%20%20%20%20%3Cmeta%20name%3D%22viewport%22%20content%3D%22width%3Ddevice-width%2C%0A%20%20%20%20%20%20%20%20%20%20%20%20%20%20%20%20initial-scale%3D1.0%2C%20maximum-scale%3D1.0%2C%20user-scalable%3Dno%22%20/%3E%0A%20%20%20%20%20%20%20%20%20%20%20%20%3Cstyle%3E%0A%20%20%20%20%20%20%20%20%20%20%20%20%20%20%20%20%23map_185d73a163a54f69836798ac87c179ef%20%7B%0A%20%20%20%20%20%20%20%20%20%20%20%20%20%20%20%20%20%20%20%20position%3A%20relative%3B%0A%20%20%20%20%20%20%20%20%20%20%20%20%20%20%20%20%20%20%20%20width%3A%20100.0%25%3B%0A%20%20%20%20%20%20%20%20%20%20%20%20%20%20%20%20%20%20%20%20height%3A%20100.0%25%3B%0A%20%20%20%20%20%20%20%20%20%20%20%20%20%20%20%20%20%20%20%20left%3A%200.0%25%3B%0A%20%20%20%20%20%20%20%20%20%20%20%20%20%20%20%20%20%20%20%20top%3A%200.0%25%3B%0A%20%20%20%20%20%20%20%20%20%20%20%20%20%20%20%20%7D%0A%20%20%20%20%20%20%20%20%20%20%20%20%3C/style%3E%0A%20%20%20%20%20%20%20%20%0A%3C/head%3E%0A%3Cbody%3E%20%20%20%20%0A%20%20%20%20%0A%20%20%20%20%20%20%20%20%20%20%20%20%3Cdiv%20class%3D%22folium-map%22%20id%3D%22map_185d73a163a54f69836798ac87c179ef%22%20%3E%3C/div%3E%0A%20%20%20%20%20%20%20%20%0A%3C/body%3E%0A%3Cscript%3E%20%20%20%20%0A%20%20%20%20%0A%20%20%20%20%20%20%20%20%20%20%20%20var%20map_185d73a163a54f69836798ac87c179ef%20%3D%20L.map%28%0A%20%20%20%20%20%20%20%20%20%20%20%20%20%20%20%20%22map_185d73a163a54f69836798ac87c179ef%22%2C%0A%20%20%20%20%20%20%20%20%20%20%20%20%20%20%20%20%7B%0A%20%20%20%20%20%20%20%20%20%20%20%20%20%20%20%20%20%20%20%20center%3A%20%5B-38.169%2C%20145.102%5D%2C%0A%20%20%20%20%20%20%20%20%20%20%20%20%20%20%20%20%20%20%20%20crs%3A%20L.CRS.EPSG3857%2C%0A%20%20%20%20%20%20%20%20%20%20%20%20%20%20%20%20%20%20%20%20zoom%3A%2014%2C%0A%20%20%20%20%20%20%20%20%20%20%20%20%20%20%20%20%20%20%20%20zoomControl%3A%20true%2C%0A%20%20%20%20%20%20%20%20%20%20%20%20%20%20%20%20%20%20%20%20preferCanvas%3A%20false%2C%0A%20%20%20%20%20%20%20%20%20%20%20%20%20%20%20%20%7D%0A%20%20%20%20%20%20%20%20%20%20%20%20%29%3B%0A%0A%20%20%20%20%20%20%20%20%20%20%20%20%0A%0A%20%20%20%20%20%20%20%20%0A%20%20%20%20%0A%20%20%20%20%20%20%20%20%20%20%20%20var%20tile_layer_6cc40c604dcd48eb9bffa605426d85cb%20%3D%20L.tileLayer%28%0A%20%20%20%20%20%20%20%20%20%20%20%20%20%20%20%20%22https%3A//%7Bs%7D.tile.openstreetmap.org/%7Bz%7D/%7Bx%7D/%7By%7D.png%22%2C%0A%20%20%20%20%20%20%20%20%20%20%20%20%20%20%20%20%7B%22attribution%22%3A%20%22Data%20by%20%5Cu0026copy%3B%20%5Cu003ca%20href%3D%5C%22http%3A//openstreetmap.org%5C%22%5Cu003eOpenStreetMap%5Cu003c/a%5Cu003e%2C%20under%20%5Cu003ca%20href%3D%5C%22http%3A//www.openstreetmap.org/copyright%5C%22%5Cu003eODbL%5Cu003c/a%5Cu003e.%22%2C%20%22detectRetina%22%3A%20false%2C%20%22maxNativeZoom%22%3A%2018%2C%20%22maxZoom%22%3A%2018%2C%20%22minZoom%22%3A%200%2C%20%22noWrap%22%3A%20false%2C%20%22opacity%22%3A%201%2C%20%22subdomains%22%3A%20%22abc%22%2C%20%22tms%22%3A%20false%7D%0A%20%20%20%20%20%20%20%20%20%20%20%20%29.addTo%28map_185d73a163a54f69836798ac87c179ef%29%3B%0A%20%20%20%20%20%20%20%20%0A%20%20%20%20%0A%0A%20%20%20%20%20%20%20%20function%20geo_json_2eabc34c6b444406a2ded27469005b9d_onEachFeature%28feature%2C%20layer%29%20%7B%0A%20%20%20%20%20%20%20%20%20%20%20%20layer.on%28%7B%0A%20%20%20%20%20%20%20%20%20%20%20%20%7D%29%3B%0A%20%20%20%20%20%20%20%20%7D%3B%0A%20%20%20%20%20%20%20%20var%20geo_json_2eabc34c6b444406a2ded27469005b9d%20%3D%20L.geoJson%28null%2C%20%7B%0A%20%20%20%20%20%20%20%20%20%20%20%20%20%20%20%20onEachFeature%3A%20geo_json_2eabc34c6b444406a2ded27469005b9d_onEachFeature%2C%0A%20%20%20%20%20%20%20%20%20%20%20%20%0A%20%20%20%20%20%20%20%20%7D%29%3B%0A%0A%20%20%20%20%20%20%20%20function%20geo_json_2eabc34c6b444406a2ded27469005b9d_add%20%28data%29%20%7B%0A%20%20%20%20%20%20%20%20%20%20%20%20geo_json_2eabc34c6b444406a2ded27469005b9d%0A%20%20%20%20%20%20%20%20%20%20%20%20%20%20%20%20.addData%28data%29%0A%20%20%20%20%20%20%20%20%20%20%20%20%20%20%20%20.addTo%28map_185d73a163a54f69836798ac87c179ef%29%3B%0A%20%20%20%20%20%20%20%20%7D%0A%20%20%20%20%20%20%20%20%20%20%20%20geo_json_2eabc34c6b444406a2ded27469005b9d_add%28%7B%22features%22%3A%20%5B%7B%22geometry%22%3A%20%7B%22coordinates%22%3A%20%5B%5B%5B%5B145.092%2C%20-38.178%5D%2C%20%5B145.092%2C%20-38.16%5D%2C%20%5B145.112%2C%20-38.16%5D%2C%20%5B145.112%2C%20-38.178%5D%2C%20%5B145.092%2C%20-38.178%5D%5D%5D%5D%2C%20%22type%22%3A%20%22MultiPolygon%22%7D%2C%20%22properties%22%3A%20%7B%22name%22%3A%20%22bounding%20box%22%7D%2C%20%22type%22%3A%20%22Feature%22%7D%5D%2C%20%22type%22%3A%20%22FeatureCollection%22%7D%29%3B%0A%0A%20%20%20%20%20%20%20%20%0A%20%20%20%20%0A%20%20%20%20%20%20%20%20function%20geo_json_b71361dd4a0249acb23290c17f62e2ec_styler%28feature%29%20%7B%0A%20%20%20%20%20%20%20%20%20%20%20%20switch%28feature.properties.id%29%20%7B%0A%20%20%20%20%20%20%20%20%20%20%20%20%20%20%20%20default%3A%0A%20%20%20%20%20%20%20%20%20%20%20%20%20%20%20%20%20%20%20%20return%20%7B%22color%22%3A%20%22red%22%2C%20%22fillColor%22%3A%20%22red%22%2C%20%22fillOpacity%22%3A%200.2%2C%20%22weight%22%3A%202%7D%3B%0A%20%20%20%20%20%20%20%20%20%20%20%20%7D%0A%20%20%20%20%20%20%20%20%7D%0A%0A%20%20%20%20%20%20%20%20function%20geo_json_b71361dd4a0249acb23290c17f62e2ec_onEachFeature%28feature%2C%20layer%29%20%7B%0A%20%20%20%20%20%20%20%20%20%20%20%20layer.on%28%7B%0A%20%20%20%20%20%20%20%20%20%20%20%20%7D%29%3B%0A%20%20%20%20%20%20%20%20%7D%3B%0A%20%20%20%20%20%20%20%20var%20geo_json_b71361dd4a0249acb23290c17f62e2ec%20%3D%20L.geoJson%28null%2C%20%7B%0A%20%20%20%20%20%20%20%20%20%20%20%20%20%20%20%20onEachFeature%3A%20geo_json_b71361dd4a0249acb23290c17f62e2ec_onEachFeature%2C%0A%20%20%20%20%20%20%20%20%20%20%20%20%0A%20%20%20%20%20%20%20%20%20%20%20%20%20%20%20%20style%3A%20geo_json_b71361dd4a0249acb23290c17f62e2ec_styler%2C%0A%20%20%20%20%20%20%20%20%7D%29%3B%0A%0A%20%20%20%20%20%20%20%20function%20geo_json_b71361dd4a0249acb23290c17f62e2ec_add%20%28data%29%20%7B%0A%20%20%20%20%20%20%20%20%20%20%20%20geo_json_b71361dd4a0249acb23290c17f62e2ec%0A%20%20%20%20%20%20%20%20%20%20%20%20%20%20%20%20.addData%28data%29%0A%20%20%20%20%20%20%20%20%20%20%20%20%20%20%20%20.addTo%28map_185d73a163a54f69836798ac87c179ef%29%3B%0A%20%20%20%20%20%20%20%20%7D%0A%20%20%20%20%20%20%20%20%20%20%20%20geo_json_b71361dd4a0249acb23290c17f62e2ec_add%28%7B%22features%22%3A%20%5B%7B%22geometry%22%3A%20%7B%22coordinates%22%3A%20%5B%5B145.1035642%2C%20-38.1611285%5D%2C%20%5B145.103287%2C%20-38.1616682%5D%2C%20%5B145.1028525%2C%20-38.1625329%5D%2C%20%5B145.102131%2C%20-38.1639922%5D%2C%20%5B145.1019995%2C%20-38.1642664%5D%2C%20%5B145.1018547%2C%20-38.1645384%5D%2C%20%5B145.1017662%2C%20-38.1648042%5D%2C%20%5B145.1016857%2C%20-38.1651479%5D%2C%20%5B145.1016529%2C%20-38.1653256%5D%2C%20%5B145.1016428%2C%20-38.1655191%5D%2C%20%5B145.1016643%2C%20-38.1658417%5D%2C%20%5B145.1016911%2C%20-38.1662445%5D%2C%20%5B145.1017474%2C%20-38.1667063%5D%2C%20%5B145.1017554%2C%20-38.1668118%5D%2C%20%5B145.101785%2C%20-38.1674697%5D%2C%20%5B145.1017742%2C%20-38.167824%5D%2C%20%5B145.1017125%2C%20-38.1681297%5D%2C%20%5B145.1016187%2C%20-38.1685177%5D%2C%20%5B145.1014631%2C%20-38.1689943%5D%2C%20%5B145.1012646%2C%20-38.169395%5D%2C%20%5B145.1010097%2C%20-38.1698083%5D%2C%20%5B145.1006665%2C%20-38.170287%5D%2C%20%5B145.1003527%2C%20-38.1706982%5D%2C%20%5B145.1001735%2C%20-38.1709799%5D%2C%20%5B145.0999718%2C%20-38.1713286%5D%2C%20%5B145.0997143%2C%20-38.1718326%5D%2C%20%5B145.0995239%2C%20-38.1721489%5D%2C%20%5B145.0992878%2C%20-38.1724568%5D%2C%20%5B145.0989499%2C%20-38.1728195%5D%2C%20%5B145.0986736%2C%20-38.1730451%5D%2C%20%5B145.0984161%2C%20-38.1732306%5D%2C%20%5B145.0979762%2C%20-38.1735258%5D%2C%20%5B145.0975873%2C%20-38.1738295%5D%2C%20%5B145.0973432%2C%20-38.1741057%5D%2C%20%5B145.0971581%2C%20-38.1743756%5D%2C%20%5B145.097024%2C%20-38.1746708%5D%2C%20%5B145.0969194%2C%20-38.1749808%5D%2C%20%5B145.0968738%2C%20-38.1753118%5D%2C%20%5B145.0968658%2C%20-38.1756766%5D%2C%20%5B145.0969007%2C%20-38.1763176%5D%2C%20%5B145.0968765%2C%20-38.1766655%5D%2C%20%5B145.0968255%2C%20-38.1770661%5D%2C%20%5B145.0967397%2C%20-38.177492%5D%2C%20%5B145.0966324%2C%20-38.1779411%5D%2C%20%5B145.0965251%2C%20-38.1783122%5D%2C%20%5B145.0962295%2C%20-38.1791566%5D%5D%2C%20%22type%22%3A%20%22LineString%22%7D%2C%20%22properties%22%3A%20%7B%22id%22%3A%20%22hit%20809849739-0%22%2C%20%22name%22%3A%20%22hit%20809849739-0-46%22%2C%20%22version%22%3A%20%221%22%7D%2C%20%22type%22%3A%20%22Feature%22%7D%2C%20%7B%22geometry%22%3A%20%7B%22coordinates%22%3A%20%5B%5B145.1015905%2C%20-38.1667102%5D%2C%20%5B145.1015802%2C%20-38.1666343%5D%2C%20%5B145.10152%2C%20-38.1660627%5D%2C%20%5B145.1014967%2C%20-38.1656175%5D%2C%20%5B145.101518%2C%20-38.1651928%5D%2C%20%5B145.1015968%2C%20-38.164855%5D%2C%20%5B145.101619%2C%20-38.1647596%5D%2C%20%5B145.1017442%2C%20-38.164454%5D%2C%20%5B145.1018628%2C%20-38.1642069%5D%2C%20%5B145.1020024%2C%20-38.1639518%5D%2C%20%5B145.1024028%2C%20-38.1631646%5D%2C%20%5B145.1031696%2C%20-38.1616262%5D%2C%20%5B145.1033143%2C%20-38.1613359%5D%5D%2C%20%22type%22%3A%20%22LineString%22%7D%2C%20%22properties%22%3A%20%7B%22id%22%3A%20%22hit%2012453751-0%22%2C%20%22name%22%3A%20%22hit%2012453751-0-13%22%2C%20%22version%22%3A%20%221%22%7D%2C%20%22type%22%3A%20%22Feature%22%7D%2C%20%7B%22geometry%22%3A%20%7B%22coordinates%22%3A%20%5B%5B145.1080202%2C%20-38.1735351%5D%2C%20%5B145.1082721%2C%20-38.173857%5D%2C%20%5B145.1092309%2C%20-38.1750818%5D%2C%20%5B145.1096293%2C%20-38.1756013%5D%2C%20%5B145.1099613%2C%20-38.1760205%5D%2C%20%5B145.1104148%2C%20-38.1766012%5D%2C%20%5B145.1109615%2C%20-38.1772928%5D%2C%20%5B145.1114279%2C%20-38.1778887%5D%2C%20%5B145.1119128%2C%20-38.1785081%5D%2C%20%5B145.1125278%2C%20-38.1792938%5D%2C%20%5B145.1127502%2C%20-38.1795779%5D%2C%20%5B145.1138474%2C%20-38.1809797%5D%2C%20%5B145.1145429%2C%20-38.1818682%5D%2C%20%5B145.1157019%2C%20-38.1833924%5D%5D%2C%20%22type%22%3A%20%22LineString%22%7D%2C%20%22properties%22%3A%20%7B%22id%22%3A%20%22hit%20172385134-0%22%2C%20%22name%22%3A%20%22hit%20172385134-0-14%22%2C%20%22version%22%3A%20%221%22%7D%2C%20%22type%22%3A%20%22Feature%22%7D%2C%20%7B%22geometry%22%3A%20%7B%22coordinates%22%3A%20%5B%5B145.1016529%2C%20-38.1653256%5D%2C%20%5B145.1017051%2C%20-38.1653698%5D%2C%20%5B145.1017834%2C%20-38.1655034%5D%2C%20%5B145.1020088%2C%20-38.1658524%5D%2C%20%5B145.1020708%2C%20-38.1659193%5D%2C%20%5B145.1020918%2C%20-38.1659509%5D%2C%20%5B145.1020959%2C%20-38.1659865%5D%2C%20%5B145.1017474%2C%20-38.1667063%5D%2C%20%5B145.1018568%2C%20-38.1666859%5D%2C%20%5B145.1019139%2C%20-38.1666385%5D%2C%20%5B145.1019306%2C%20-38.1665625%5D%2C%20%5B145.1018998%2C%20-38.1663679%5D%2C%20%5B145.101872%2C%20-38.166175%5D%2C%20%5B145.1018766%2C%20-38.1661097%5D%2C%20%5B145.1019065%2C%20-38.1660412%5D%2C%20%5B145.1019852%2C%20-38.165995%5D%2C%20%5B145.1020512%2C%20-38.1659832%5D%2C%20%5B145.1021415%2C%20-38.1660232%5D%2C%20%5B145.1028609%2C%20-38.1668979%5D%2C%20%5B145.1038035%2C%20-38.1681149%5D%2C%20%5B145.1042149%2C%20-38.1686374%5D%2C%20%5B145.1050184%2C%20-38.169658%5D%2C%20%5B145.1050454%2C%20-38.1696922%5D%2C%20%5B145.1052246%2C%20-38.1699233%5D%2C%20%5B145.1053486%2C%20-38.1700835%5D%2C%20%5B145.1062498%2C%20-38.1712466%5D%2C%20%5B145.1068569%2C%20-38.1720301%5D%2C%20%5B145.1073956%2C%20-38.1727253%5D%2C%20%5B145.1076495%2C%20-38.1730529%5D%2C%20%5B145.1076892%2C%20-38.1731042%5D%2C%20%5B145.1078516%2C%20-38.1733138%5D%5D%2C%20%22type%22%3A%20%22LineString%22%7D%2C%20%22properties%22%3A%20%7B%22id%22%3A%20%22hit%20841124847-0%22%2C%20%22name%22%3A%20%22hit%20841124847-0-31%22%2C%20%22version%22%3A%20%221%22%7D%2C%20%22type%22%3A%20%22Feature%22%7D%2C%20%7B%22geometry%22%3A%20%7B%22coordinates%22%3A%20%5B%5B145.1037506%2C%20-38.1609921%5D%2C%20%5B145.103641%2C%20-38.1609765%5D%5D%2C%20%22type%22%3A%20%22LineString%22%7D%2C%20%22properties%22%3A%20%7B%22id%22%3A%20%22hit%2032656664-0%22%2C%20%22name%22%3A%20%22hit%2032656664-0-2%22%2C%20%22version%22%3A%20%221%22%7D%2C%20%22type%22%3A%20%22Feature%22%7D%2C%20%7B%22geometry%22%3A%20%7B%22coordinates%22%3A%20%5B%5B145.1020024%2C%20-38.1639518%5D%2C%20%5B145.102131%2C%20-38.1639922%5D%2C%20%5B145.1022566%2C%20-38.1640515%5D%5D%2C%20%22type%22%3A%20%22LineString%22%7D%2C%20%22properties%22%3A%20%7B%22id%22%3A%20%22hit%2032656665-0%22%2C%20%22name%22%3A%20%22hit%2032656665-0-3%22%2C%20%22version%22%3A%20%221%22%7D%2C%20%22type%22%3A%20%22Feature%22%7D%2C%20%7B%22geometry%22%3A%20%7B%22coordinates%22%3A%20%5B%5B145.12875%2C%20-38.20009%5D%2C%20%5B145.125187%2C%20-38.1955205%5D%2C%20%5B145.1243718%2C%20-38.1944749%5D%2C%20%5B145.12429%2C%20-38.19437%5D%2C%20%5B145.12365%2C%20-38.19355%5D%2C%20%5B145.1104148%2C%20-38.1766012%5D%2C%20%5B145.1099613%2C%20-38.1760205%5D%2C%20%5B145.1082721%2C%20-38.173857%5D%5D%2C%20%22type%22%3A%20%22LineString%22%7D%2C%20%22properties%22%3A%20%7B%22id%22%3A%20%22hit%20182683325-0%22%2C%20%22name%22%3A%20%22hit%20182683325-0-8%22%2C%20%22version%22%3A%20%221%22%7D%2C%20%22type%22%3A%20%22Feature%22%7D%2C%20%7B%22geometry%22%3A%20%7B%22coordinates%22%3A%20%5B%5B145.1080668%2C%20-38.1733445%5D%2C%20%5B145.1083071%2C%20-38.1732664%5D%2C%20%5B145.1088113%2C%20-38.1730488%5D%2C%20%5B145.1097947%2C%20-38.1723214%5D%5D%2C%20%22type%22%3A%20%22LineString%22%7D%2C%20%22properties%22%3A%20%7B%22id%22%3A%20%22hit%20172385128-0%22%2C%20%22name%22%3A%20%22hit%20172385128-0-4%22%2C%20%22version%22%3A%20%221%22%7D%2C%20%22type%22%3A%20%22Feature%22%7D%2C%20%7B%22geometry%22%3A%20%7B%22coordinates%22%3A%20%5B%5B145.1006665%2C%20-38.170287%5D%2C%20%5B145.100876%2C%20-38.170259%5D%2C%20%5B145.1011603%2C%20-38.1699469%5D%2C%20%5B145.1015144%2C%20-38.1694113%5D%2C%20%5B145.101788%2C%20-38.1687027%5D%2C%20%5B145.1019489%2C%20-38.1681502%5D%2C%20%5B145.1019596%2C%20-38.1677243%5D%2C%20%5B145.1019405%2C%20-38.1669847%5D%2C%20%5B145.1018976%2C%20-38.1668835%5D%2C%20%5B145.1017554%2C%20-38.1668118%5D%5D%2C%20%22type%22%3A%20%22LineString%22%7D%2C%20%22properties%22%3A%20%7B%22id%22%3A%20%22hit%20306183326-0%22%2C%20%22name%22%3A%20%22hit%20306183326-0-10%22%2C%20%22version%22%3A%20%221%22%7D%2C%20%22type%22%3A%20%22Feature%22%7D%2C%20%7B%22geometry%22%3A%20%7B%22coordinates%22%3A%20%5B%5B145.1005282%2C%20-38.1702392%5D%2C%20%5B145.1006665%2C%20-38.170287%5D%5D%2C%20%22type%22%3A%20%22LineString%22%7D%2C%20%22properties%22%3A%20%7B%22id%22%3A%20%22hit%20306183327-0%22%2C%20%22name%22%3A%20%22hit%20306183327-0-2%22%2C%20%22version%22%3A%20%221%22%7D%2C%20%22type%22%3A%20%22Feature%22%7D%5D%2C%20%22name%22%3A%20%22Mount_Eliza_Sample_20m_hit%22%2C%20%22type%22%3A%20%22FeatureCollection%22%7D%29%3B%0A%0A%20%20%20%20%20%20%20%20%0A%3C/script%3E onload=\"this.contentDocument.open();this.contentDocument.write(    decodeURIComponent(this.getAttribute('data-html')));this.contentDocument.close();\" allowfullscreen webkitallowfullscreen mozallowfullscreen></iframe></div></div>"
      ],
      "text/plain": [
       "<folium.folium.Map at 0x1e5b7a12040>"
      ]
     },
     "execution_count": 9,
     "metadata": {},
     "output_type": "execute_result"
    }
   ],
   "source": [
    "import folium\n",
    "import json\n",
    "\n",
    "style_red = {\n",
    "    'color': 'red',\n",
    "    'weight': 2,\n",
    "    'fillColor': 'red',\n",
    "    'fillOpacity': 0.2\n",
    "}\n",
    "\n",
    "with open(margin_filename) as f:\n",
    "    gj_margin = json.load(f)\n",
    "    \n",
    "with open(detected_filename) as f:\n",
    "    gj_detected = json.load(f)\n",
    "\n",
    "m = folium.Map(location=center, zoom_start=zoom)\n",
    "folium.GeoJson(gj_margin, name='boundary').add_to(m)\n",
    "folium.GeoJson(gj_detected, name='detected', style_function=lambda x:style_red).add_to(m)\n",
    "m"
   ]
  },
  {
   "cell_type": "code",
   "execution_count": 10,
   "id": "61112fd7",
   "metadata": {},
   "outputs": [],
   "source": [
    "# Save folium to PNG, requires selenium, geckodriver, Firefox\n",
    "import io\n",
    "from PIL import Image\n",
    "\n",
    "img_data = m._to_png(5)\n",
    "img = Image.open(io.BytesIO(img_data))\n",
    "img.save(os.path.join(os.pardir, 'map_detect.png'))"
   ]
  },
  {
   "cell_type": "code",
   "execution_count": 11,
   "id": "8e2daf39",
   "metadata": {},
   "outputs": [
    {
     "data": {
      "text/html": [
       "<div style=\"width:100%;\"><div style=\"position:relative;width:100%;height:0;padding-bottom:60%;\"><span style=\"color:#565656\">Make this Notebook Trusted to load map: File -> Trust Notebook</span><iframe src=\"about:blank\" style=\"position:absolute;width:100%;height:100%;left:0;top:0;border:none !important;\" data-html=%3C%21DOCTYPE%20html%3E%0A%3Chead%3E%20%20%20%20%0A%20%20%20%20%3Cmeta%20http-equiv%3D%22content-type%22%20content%3D%22text/html%3B%20charset%3DUTF-8%22%20/%3E%0A%20%20%20%20%0A%20%20%20%20%20%20%20%20%3Cscript%3E%0A%20%20%20%20%20%20%20%20%20%20%20%20L_NO_TOUCH%20%3D%20false%3B%0A%20%20%20%20%20%20%20%20%20%20%20%20L_DISABLE_3D%20%3D%20false%3B%0A%20%20%20%20%20%20%20%20%3C/script%3E%0A%20%20%20%20%0A%20%20%20%20%3Cstyle%3Ehtml%2C%20body%20%7Bwidth%3A%20100%25%3Bheight%3A%20100%25%3Bmargin%3A%200%3Bpadding%3A%200%3B%7D%3C/style%3E%0A%20%20%20%20%3Cstyle%3E%23map%20%7Bposition%3Aabsolute%3Btop%3A0%3Bbottom%3A0%3Bright%3A0%3Bleft%3A0%3B%7D%3C/style%3E%0A%20%20%20%20%3Cscript%20src%3D%22https%3A//cdn.jsdelivr.net/npm/leaflet%401.6.0/dist/leaflet.js%22%3E%3C/script%3E%0A%20%20%20%20%3Cscript%20src%3D%22https%3A//code.jquery.com/jquery-1.12.4.min.js%22%3E%3C/script%3E%0A%20%20%20%20%3Cscript%20src%3D%22https%3A//maxcdn.bootstrapcdn.com/bootstrap/3.2.0/js/bootstrap.min.js%22%3E%3C/script%3E%0A%20%20%20%20%3Cscript%20src%3D%22https%3A//cdnjs.cloudflare.com/ajax/libs/Leaflet.awesome-markers/2.0.2/leaflet.awesome-markers.js%22%3E%3C/script%3E%0A%20%20%20%20%3Clink%20rel%3D%22stylesheet%22%20href%3D%22https%3A//cdn.jsdelivr.net/npm/leaflet%401.6.0/dist/leaflet.css%22/%3E%0A%20%20%20%20%3Clink%20rel%3D%22stylesheet%22%20href%3D%22https%3A//maxcdn.bootstrapcdn.com/bootstrap/3.2.0/css/bootstrap.min.css%22/%3E%0A%20%20%20%20%3Clink%20rel%3D%22stylesheet%22%20href%3D%22https%3A//maxcdn.bootstrapcdn.com/bootstrap/3.2.0/css/bootstrap-theme.min.css%22/%3E%0A%20%20%20%20%3Clink%20rel%3D%22stylesheet%22%20href%3D%22https%3A//maxcdn.bootstrapcdn.com/font-awesome/4.6.3/css/font-awesome.min.css%22/%3E%0A%20%20%20%20%3Clink%20rel%3D%22stylesheet%22%20href%3D%22https%3A//cdnjs.cloudflare.com/ajax/libs/Leaflet.awesome-markers/2.0.2/leaflet.awesome-markers.css%22/%3E%0A%20%20%20%20%3Clink%20rel%3D%22stylesheet%22%20href%3D%22https%3A//cdn.jsdelivr.net/gh/python-visualization/folium/folium/templates/leaflet.awesome.rotate.min.css%22/%3E%0A%20%20%20%20%0A%20%20%20%20%20%20%20%20%20%20%20%20%3Cmeta%20name%3D%22viewport%22%20content%3D%22width%3Ddevice-width%2C%0A%20%20%20%20%20%20%20%20%20%20%20%20%20%20%20%20initial-scale%3D1.0%2C%20maximum-scale%3D1.0%2C%20user-scalable%3Dno%22%20/%3E%0A%20%20%20%20%20%20%20%20%20%20%20%20%3Cstyle%3E%0A%20%20%20%20%20%20%20%20%20%20%20%20%20%20%20%20%23map_c3568d9e52d248a1b603e08f18567364%20%7B%0A%20%20%20%20%20%20%20%20%20%20%20%20%20%20%20%20%20%20%20%20position%3A%20relative%3B%0A%20%20%20%20%20%20%20%20%20%20%20%20%20%20%20%20%20%20%20%20width%3A%20100.0%25%3B%0A%20%20%20%20%20%20%20%20%20%20%20%20%20%20%20%20%20%20%20%20height%3A%20100.0%25%3B%0A%20%20%20%20%20%20%20%20%20%20%20%20%20%20%20%20%20%20%20%20left%3A%200.0%25%3B%0A%20%20%20%20%20%20%20%20%20%20%20%20%20%20%20%20%20%20%20%20top%3A%200.0%25%3B%0A%20%20%20%20%20%20%20%20%20%20%20%20%20%20%20%20%7D%0A%20%20%20%20%20%20%20%20%20%20%20%20%3C/style%3E%0A%20%20%20%20%20%20%20%20%0A%3C/head%3E%0A%3Cbody%3E%20%20%20%20%0A%20%20%20%20%0A%20%20%20%20%20%20%20%20%20%20%20%20%3Cdiv%20class%3D%22folium-map%22%20id%3D%22map_c3568d9e52d248a1b603e08f18567364%22%20%3E%3C/div%3E%0A%20%20%20%20%20%20%20%20%0A%3C/body%3E%0A%3Cscript%3E%20%20%20%20%0A%20%20%20%20%0A%20%20%20%20%20%20%20%20%20%20%20%20var%20map_c3568d9e52d248a1b603e08f18567364%20%3D%20L.map%28%0A%20%20%20%20%20%20%20%20%20%20%20%20%20%20%20%20%22map_c3568d9e52d248a1b603e08f18567364%22%2C%0A%20%20%20%20%20%20%20%20%20%20%20%20%20%20%20%20%7B%0A%20%20%20%20%20%20%20%20%20%20%20%20%20%20%20%20%20%20%20%20center%3A%20%5B-38.169%2C%20145.102%5D%2C%0A%20%20%20%20%20%20%20%20%20%20%20%20%20%20%20%20%20%20%20%20crs%3A%20L.CRS.EPSG3857%2C%0A%20%20%20%20%20%20%20%20%20%20%20%20%20%20%20%20%20%20%20%20zoom%3A%2014%2C%0A%20%20%20%20%20%20%20%20%20%20%20%20%20%20%20%20%20%20%20%20zoomControl%3A%20true%2C%0A%20%20%20%20%20%20%20%20%20%20%20%20%20%20%20%20%20%20%20%20preferCanvas%3A%20false%2C%0A%20%20%20%20%20%20%20%20%20%20%20%20%20%20%20%20%7D%0A%20%20%20%20%20%20%20%20%20%20%20%20%29%3B%0A%0A%20%20%20%20%20%20%20%20%20%20%20%20%0A%0A%20%20%20%20%20%20%20%20%0A%20%20%20%20%0A%20%20%20%20%20%20%20%20%20%20%20%20var%20tile_layer_0e6e934963884172bcfe317d6d5eb133%20%3D%20L.tileLayer%28%0A%20%20%20%20%20%20%20%20%20%20%20%20%20%20%20%20%22https%3A//%7Bs%7D.tile.openstreetmap.org/%7Bz%7D/%7Bx%7D/%7By%7D.png%22%2C%0A%20%20%20%20%20%20%20%20%20%20%20%20%20%20%20%20%7B%22attribution%22%3A%20%22Data%20by%20%5Cu0026copy%3B%20%5Cu003ca%20href%3D%5C%22http%3A//openstreetmap.org%5C%22%5Cu003eOpenStreetMap%5Cu003c/a%5Cu003e%2C%20under%20%5Cu003ca%20href%3D%5C%22http%3A//www.openstreetmap.org/copyright%5C%22%5Cu003eODbL%5Cu003c/a%5Cu003e.%22%2C%20%22detectRetina%22%3A%20false%2C%20%22maxNativeZoom%22%3A%2018%2C%20%22maxZoom%22%3A%2018%2C%20%22minZoom%22%3A%200%2C%20%22noWrap%22%3A%20false%2C%20%22opacity%22%3A%201%2C%20%22subdomains%22%3A%20%22abc%22%2C%20%22tms%22%3A%20false%7D%0A%20%20%20%20%20%20%20%20%20%20%20%20%29.addTo%28map_c3568d9e52d248a1b603e08f18567364%29%3B%0A%20%20%20%20%20%20%20%20%0A%20%20%20%20%0A%0A%20%20%20%20%20%20%20%20function%20geo_json_86d6d0d8aebc403fb7eb56e193cc8bc4_onEachFeature%28feature%2C%20layer%29%20%7B%0A%20%20%20%20%20%20%20%20%20%20%20%20layer.on%28%7B%0A%20%20%20%20%20%20%20%20%20%20%20%20%7D%29%3B%0A%20%20%20%20%20%20%20%20%7D%3B%0A%20%20%20%20%20%20%20%20var%20geo_json_86d6d0d8aebc403fb7eb56e193cc8bc4%20%3D%20L.geoJson%28null%2C%20%7B%0A%20%20%20%20%20%20%20%20%20%20%20%20%20%20%20%20onEachFeature%3A%20geo_json_86d6d0d8aebc403fb7eb56e193cc8bc4_onEachFeature%2C%0A%20%20%20%20%20%20%20%20%20%20%20%20%0A%20%20%20%20%20%20%20%20%7D%29%3B%0A%0A%20%20%20%20%20%20%20%20function%20geo_json_86d6d0d8aebc403fb7eb56e193cc8bc4_add%20%28data%29%20%7B%0A%20%20%20%20%20%20%20%20%20%20%20%20geo_json_86d6d0d8aebc403fb7eb56e193cc8bc4%0A%20%20%20%20%20%20%20%20%20%20%20%20%20%20%20%20.addData%28data%29%0A%20%20%20%20%20%20%20%20%20%20%20%20%20%20%20%20.addTo%28map_c3568d9e52d248a1b603e08f18567364%29%3B%0A%20%20%20%20%20%20%20%20%7D%0A%20%20%20%20%20%20%20%20%20%20%20%20geo_json_86d6d0d8aebc403fb7eb56e193cc8bc4_add%28%7B%22features%22%3A%20%5B%7B%22geometry%22%3A%20%7B%22coordinates%22%3A%20%5B%5B%5B%5B145.092%2C%20-38.178%5D%2C%20%5B145.092%2C%20-38.16%5D%2C%20%5B145.112%2C%20-38.16%5D%2C%20%5B145.112%2C%20-38.178%5D%2C%20%5B145.092%2C%20-38.178%5D%5D%5D%5D%2C%20%22type%22%3A%20%22MultiPolygon%22%7D%2C%20%22properties%22%3A%20%7B%22name%22%3A%20%22bounding%20box%22%7D%2C%20%22type%22%3A%20%22Feature%22%7D%5D%2C%20%22type%22%3A%20%22FeatureCollection%22%7D%29%3B%0A%0A%20%20%20%20%20%20%20%20%0A%20%20%20%20%0A%20%20%20%20%20%20%20%20function%20geo_json_3fb49f15cd824bdfaf31a3ad7fdaf069_styler%28feature%29%20%7B%0A%20%20%20%20%20%20%20%20%20%20%20%20switch%28feature.properties.id%29%20%7B%0A%20%20%20%20%20%20%20%20%20%20%20%20%20%20%20%20default%3A%0A%20%20%20%20%20%20%20%20%20%20%20%20%20%20%20%20%20%20%20%20return%20%7B%22color%22%3A%20%22red%22%2C%20%22fillColor%22%3A%20%22red%22%2C%20%22fillOpacity%22%3A%200.2%2C%20%22weight%22%3A%202%7D%3B%0A%20%20%20%20%20%20%20%20%20%20%20%20%7D%0A%20%20%20%20%20%20%20%20%7D%0A%0A%20%20%20%20%20%20%20%20function%20geo_json_3fb49f15cd824bdfaf31a3ad7fdaf069_onEachFeature%28feature%2C%20layer%29%20%7B%0A%20%20%20%20%20%20%20%20%20%20%20%20layer.on%28%7B%0A%20%20%20%20%20%20%20%20%20%20%20%20%7D%29%3B%0A%20%20%20%20%20%20%20%20%7D%3B%0A%20%20%20%20%20%20%20%20var%20geo_json_3fb49f15cd824bdfaf31a3ad7fdaf069%20%3D%20L.geoJson%28null%2C%20%7B%0A%20%20%20%20%20%20%20%20%20%20%20%20%20%20%20%20onEachFeature%3A%20geo_json_3fb49f15cd824bdfaf31a3ad7fdaf069_onEachFeature%2C%0A%20%20%20%20%20%20%20%20%20%20%20%20%0A%20%20%20%20%20%20%20%20%20%20%20%20%20%20%20%20style%3A%20geo_json_3fb49f15cd824bdfaf31a3ad7fdaf069_styler%2C%0A%20%20%20%20%20%20%20%20%7D%29%3B%0A%0A%20%20%20%20%20%20%20%20function%20geo_json_3fb49f15cd824bdfaf31a3ad7fdaf069_add%20%28data%29%20%7B%0A%20%20%20%20%20%20%20%20%20%20%20%20geo_json_3fb49f15cd824bdfaf31a3ad7fdaf069%0A%20%20%20%20%20%20%20%20%20%20%20%20%20%20%20%20.addData%28data%29%0A%20%20%20%20%20%20%20%20%20%20%20%20%20%20%20%20.addTo%28map_c3568d9e52d248a1b603e08f18567364%29%3B%0A%20%20%20%20%20%20%20%20%7D%0A%20%20%20%20%20%20%20%20%20%20%20%20geo_json_3fb49f15cd824bdfaf31a3ad7fdaf069_add%28%7B%22features%22%3A%20%5B%7B%22geometry%22%3A%20%7B%22coordinates%22%3A%20%5B%5B145.1080202%2C%20-38.1735351%5D%2C%20%5B145.1082721%2C%20-38.173857%5D%2C%20%5B145.1092309%2C%20-38.1750818%5D%2C%20%5B145.1096293%2C%20-38.1756013%5D%2C%20%5B145.1099613%2C%20-38.1760205%5D%2C%20%5B145.1104148%2C%20-38.1766012%5D%2C%20%5B145.1109615%2C%20-38.1772928%5D%2C%20%5B145.1114279%2C%20-38.1778887%5D%2C%20%5B145.1119128%2C%20-38.1785081%5D%2C%20%5B145.1125278%2C%20-38.1792938%5D%2C%20%5B145.1127502%2C%20-38.1795779%5D%2C%20%5B145.1138474%2C%20-38.1809797%5D%2C%20%5B145.1145429%2C%20-38.1818682%5D%2C%20%5B145.1157019%2C%20-38.1833924%5D%5D%2C%20%22type%22%3A%20%22LineString%22%7D%2C%20%22properties%22%3A%20%7B%22id%22%3A%20%22tag%20172385134-0%22%2C%20%22name%22%3A%20%22tag%20172385134-0-14%22%2C%20%22version%22%3A%20%221%22%7D%2C%20%22type%22%3A%20%22Feature%22%7D%2C%20%7B%22geometry%22%3A%20%7B%22coordinates%22%3A%20%5B%5B145.1017474%2C%20-38.1667063%5D%2C%20%5B145.1018568%2C%20-38.1666859%5D%2C%20%5B145.1019139%2C%20-38.1666385%5D%2C%20%5B145.1019306%2C%20-38.1665625%5D%2C%20%5B145.1018998%2C%20-38.1663679%5D%2C%20%5B145.101872%2C%20-38.166175%5D%2C%20%5B145.1018766%2C%20-38.1661097%5D%2C%20%5B145.1019065%2C%20-38.1660412%5D%2C%20%5B145.1019852%2C%20-38.165995%5D%2C%20%5B145.1020512%2C%20-38.1659832%5D%2C%20%5B145.1021415%2C%20-38.1660232%5D%2C%20%5B145.1028609%2C%20-38.1668979%5D%2C%20%5B145.1038035%2C%20-38.1681149%5D%2C%20%5B145.1042149%2C%20-38.1686374%5D%2C%20%5B145.1050184%2C%20-38.169658%5D%2C%20%5B145.1050454%2C%20-38.1696922%5D%2C%20%5B145.1052246%2C%20-38.1699233%5D%2C%20%5B145.1053486%2C%20-38.1700835%5D%2C%20%5B145.1062498%2C%20-38.1712466%5D%2C%20%5B145.1068569%2C%20-38.1720301%5D%2C%20%5B145.1073956%2C%20-38.1727253%5D%2C%20%5B145.1076495%2C%20-38.1730529%5D%2C%20%5B145.1076892%2C%20-38.1731042%5D%2C%20%5B145.1078516%2C%20-38.1733138%5D%5D%2C%20%22type%22%3A%20%22LineString%22%7D%2C%20%22properties%22%3A%20%7B%22id%22%3A%20%22tag%20841124847-0%22%2C%20%22name%22%3A%20%22tag%20841124847-0-24%22%2C%20%22version%22%3A%20%221%22%7D%2C%20%22type%22%3A%20%22Feature%22%7D%5D%2C%20%22name%22%3A%20%22Mount_Eliza_Sample_20m_tag%22%2C%20%22type%22%3A%20%22FeatureCollection%22%7D%29%3B%0A%0A%20%20%20%20%20%20%20%20%0A%3C/script%3E onload=\"this.contentDocument.open();this.contentDocument.write(    decodeURIComponent(this.getAttribute('data-html')));this.contentDocument.close();\" allowfullscreen webkitallowfullscreen mozallowfullscreen></iframe></div></div>"
      ],
      "text/plain": [
       "<folium.folium.Map at 0x1e5b79ddaf0>"
      ]
     },
     "execution_count": 11,
     "metadata": {},
     "output_type": "execute_result"
    }
   ],
   "source": [
    "import folium\n",
    "import json\n",
    "\n",
    "style_red = {\n",
    "    'color': 'red',\n",
    "    'weight': 2,\n",
    "    'fillColor': 'red',\n",
    "    'fillOpacity': 0.2\n",
    "}\n",
    "\n",
    "with open(margin_filename) as f:\n",
    "    gj_margin = json.load(f)\n",
    "    \n",
    "with open(tag_filename) as f:\n",
    "    gj_detected = json.load(f)\n",
    "\n",
    "m = folium.Map(location=center, zoom_start=zoom)\n",
    "folium.GeoJson(gj_margin, name='boundary').add_to(m)\n",
    "folium.GeoJson(gj_detected, name='detected', style_function=lambda x:style_red).add_to(m)\n",
    "m\n"
   ]
  },
  {
   "cell_type": "code",
   "execution_count": 12,
   "id": "c00f15d0",
   "metadata": {},
   "outputs": [],
   "source": [
    "# Save folium to PNG, requires selenium, geckodriver, Firefox\n",
    "import io\n",
    "from PIL import Image\n",
    "\n",
    "img_data = m._to_png(5)\n",
    "img = Image.open(io.BytesIO(img_data))\n",
    "img.save(os.path.join(os.pardir, 'map_osm.png'))"
   ]
  },
  {
   "cell_type": "markdown",
   "id": "8d633b36",
   "metadata": {},
   "source": [
    "## Map of cycleways from wider local area\n",
    "\n",
    "Use this to hunt for training footage outside the test area"
   ]
  },
  {
   "cell_type": "code",
   "execution_count": 17,
   "id": "728c158e",
   "metadata": {},
   "outputs": [
    {
     "data": {
      "application/vnd.jupyter.widget-view+json": {
       "model_id": "fa359703e6cc43f49260bebf8be7b517",
       "version_major": 2,
       "version_minor": 0
      },
      "text/plain": [
       "Map(center=[-38.169, 145.102], controls=(ZoomControl(options=['position', 'zoom_in_text', 'zoom_in_title', 'zo…"
      ]
     },
     "metadata": {},
     "output_type": "display_data"
    }
   ],
   "source": [
    "# Load boundary of the sample area, so we can draw it on the map\n",
    "margin_layer, margin_data = detection_map.load_layer(margin_filename)\n",
    "\n",
    "center = detection_map.get_centroid(margin_data)\n",
    "\n",
    "# Load lines that we drew from the detected points\n",
    "frankston_filename   = os.path.join(module_path_root, 'data_sources', 'Locality_OSM_cycleway_Frankston.geojson')\n",
    "mornington_filename  = os.path.join(module_path_root, 'data_sources', 'Locality_OSM_cycleway_Mornington.geojson')\n",
    "baxter_filename      = os.path.join(module_path_root, 'data_sources', 'Locality_OSM_cycleway_Baxter.geojson')\n",
    "langwarrin_filename  = os.path.join(module_path_root, 'data_sources', 'Locality_OSM_cycleway_Langwarrin.geojson')\n",
    "\n",
    "mount_eliza_filename = os.path.join(module_path_root, 'data_sources', 'Locality_OSM_cycleway_Mount_Eliza.geojson')\n",
    "\n",
    "\n",
    "f_layer, f_data = detection_map.load_layer(frankston_filename,   color='red')\n",
    "m_layer, m_data = detection_map.load_layer(mornington_filename,  color='red')\n",
    "b_layer, b_data = detection_map.load_layer(baxter_filename,      color='green')\n",
    "l_layer, l_data = detection_map.load_layer(langwarrin_filename,  color='orange')\n",
    "e_layer, e_data = detection_map.load_layer(mount_eliza_filename, color='blue')\n",
    "\n",
    "# Build the map\n",
    "m_detect_c = Map(center=center, zoom=zoom)\n",
    "m_detect_c.add_layer(margin_layer)\n",
    "m_detect_c.add_layer(e_layer)\n",
    "m_detect_c.add_layer(f_layer)\n",
    "m_detect_c.add_layer(m_layer)\n",
    "m_detect_c.add_layer(b_layer)\n",
    "m_detect_c.add_layer(l_layer)\n",
    "\n",
    "# Display the map\n",
    "m_detect_c"
   ]
  },
  {
   "cell_type": "code",
   "execution_count": null,
   "id": "21488ac0",
   "metadata": {},
   "outputs": [],
   "source": []
  }
 ],
 "metadata": {
  "kernelspec": {
   "display_name": "gpuEnv",
   "language": "python",
   "name": "gpuenv"
  },
  "language_info": {
   "codemirror_mode": {
    "name": "ipython",
    "version": 3
   },
   "file_extension": ".py",
   "mimetype": "text/x-python",
   "name": "python",
   "nbconvert_exporter": "python",
   "pygments_lexer": "ipython3",
   "version": "3.8.11"
  }
 },
 "nbformat": 4,
 "nbformat_minor": 5
}
