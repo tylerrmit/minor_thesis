{
 "cells": [
  {
   "cell_type": "markdown",
   "id": "3784c95f",
   "metadata": {},
   "source": [
    "# Display map with GeoJSON layers\n",
    "\n",
    "https://ipyleaflet.readthedocs.io/en/latest/api_reference/geo_json.html\n"
   ]
  },
  {
   "cell_type": "code",
   "execution_count": 1,
   "id": "7a12cc14",
   "metadata": {},
   "outputs": [],
   "source": [
    "import json\n",
    "import os\n",
    "import sys\n",
    "from ipyleaflet import Map, GeoJSON\n",
    "\n",
    "# Make sure local modules can be imported\n",
    "module_path_root = os.path.abspath(os.pardir)\n",
    "if module_path_root not in sys.path:\n",
    "    sys.path.append(module_path_root)"
   ]
  },
  {
   "cell_type": "code",
   "execution_count": 2,
   "id": "27eb8f15",
   "metadata": {},
   "outputs": [],
   "source": [
    "# Specify the locality whose OSM file we want to load\n",
    "\n",
    "locality = 'Mount Eliza'"
   ]
  },
  {
   "cell_type": "code",
   "execution_count": 3,
   "id": "7a5216dc",
   "metadata": {},
   "outputs": [],
   "source": [
    "locality_filename = os.path.join(os.pardir, 'data_sources', 'LGA_boundary_' + locality.replace(' ', '_') + '.geojson')\n",
    "\n",
    "with open(locality_filename) as locality_file:\n",
    "    locality_data = json.load(locality_file)\n",
    "    locality_file.close()\n",
    "\n",
    "locality_layer = GeoJSON(data=locality_data) "
   ]
  },
  {
   "cell_type": "code",
   "execution_count": 4,
   "id": "fbada79e",
   "metadata": {},
   "outputs": [],
   "source": [
    "pbn_existing_filename = os.path.join(os.pardir, 'data_sources', 'PBN_Existing.geojson')\n",
    "\n",
    "with open(pbn_existing_filename) as pbn_file:\n",
    "    pbn_existing_data = json.load(pbn_file)\n",
    "    pbn_file.close()\n",
    "    \n",
    "pbn_existing_layer = GeoJSON(data=pbn_existing_data, style={'color': 'red'})"
   ]
  },
  {
   "cell_type": "code",
   "execution_count": 5,
   "id": "c0b70af7",
   "metadata": {},
   "outputs": [],
   "source": [
    "pbn_planned_filename = os.path.join(os.pardir, 'data_sources', 'PBN_Planned.geojson')\n",
    "\n",
    "with open(pbn_planned_filename) as pbn_file:\n",
    "    pbn_planned_data = json.load(pbn_file)\n",
    "    pbn_file.close()\n",
    "    \n",
    "pbn_planned_layer = GeoJSON(data=pbn_planned_data, style={'color': 'orange'})"
   ]
  },
  {
   "cell_type": "code",
   "execution_count": 6,
   "id": "6eecbdc0",
   "metadata": {},
   "outputs": [],
   "source": [
    "osm_filename = os.path.join(os.pardir, 'data_sources', 'Locality_OSM_cycleway_' + locality.replace(' ', '_') + '.geojson')\n",
    "\n",
    "with open(osm_filename) as osm_file:\n",
    "    osm_data = json.load(osm_file)\n",
    "    osm_file.close()\n",
    "    \n",
    "osm_layer = GeoJSON(data=osm_data, style={'color': 'green'})"
   ]
  },
  {
   "cell_type": "code",
   "execution_count": 7,
   "id": "thousand-diversity",
   "metadata": {},
   "outputs": [],
   "source": [
    "def flatten_coordinates(coordinates):\n",
    "    coordinates_out = []\n",
    "    \n",
    "    if type(coordinates[0]) is list:\n",
    "        if type(coordinates[0][0]) is list:\n",
    "            for item in coordinates:\n",
    "                coordinates_out = coordinates_out + flatten_coordinates(item)\n",
    "            return coordinates_out\n",
    "        else:\n",
    "            return coordinates\n",
    "    else:\n",
    "        return coordinates\n",
    "\n",
    "def get_geojson_centroid(data):\n",
    "    lat_min =  999.9\n",
    "    lat_max = -999.9\n",
    "    lon_min =  999.9\n",
    "    lon_max = -999.9\n",
    "    \n",
    "    for feature in data['features']:\n",
    "        geometry = feature['geometry']\n",
    "        coordinates = geometry['coordinates']\n",
    "        \n",
    "        flat_coordinates = flatten_coordinates(coordinates)\n",
    "        \n",
    "        for point in flat_coordinates:\n",
    "            \n",
    "            lat_point = point[1]\n",
    "            lon_point = point[0]\n",
    "            \n",
    "            if lon_point < lon_min:\n",
    "                lon_min = lon_point\n",
    "            if lon_point > lon_max:\n",
    "                lon_max = lon_point\n",
    "            if lat_point < lat_min:\n",
    "                lat_min = lat_point\n",
    "            if lat_point > lat_max:\n",
    "                lat_max = lat_point\n",
    "    \n",
    "    return [((lat_min + lat_max) / 2), ((lon_min + lon_max) / 2)]"
   ]
  },
  {
   "cell_type": "code",
   "execution_count": 8,
   "id": "concrete-horror",
   "metadata": {},
   "outputs": [
    {
     "data": {
      "text/plain": [
       "[-38.193788999999995, 145.094876]"
      ]
     },
     "execution_count": 8,
     "metadata": {},
     "output_type": "execute_result"
    }
   ],
   "source": [
    "center = get_geojson_centroid(locality_data)\n",
    "center"
   ]
  },
  {
   "cell_type": "code",
   "execution_count": 9,
   "id": "2979c200",
   "metadata": {},
   "outputs": [],
   "source": [
    "zoom = 12"
   ]
  },
  {
   "cell_type": "code",
   "execution_count": 10,
   "id": "29e1a28e",
   "metadata": {},
   "outputs": [
    {
     "data": {
      "application/vnd.jupyter.widget-view+json": {
       "model_id": "e7a7136732514749923c9a377673f72c",
       "version_major": 2,
       "version_minor": 0
      },
      "text/plain": [
       "Map(center=[-38.193788999999995, 145.094876], controls=(ZoomControl(options=['position', 'zoom_in_text', 'zoom…"
      ]
     },
     "metadata": {},
     "output_type": "display_data"
    }
   ],
   "source": [
    "m_pbn = Map(center=center, zoom=zoom)\n",
    "m_pbn.add_layer(locality_layer)\n",
    "m_pbn.add_layer(pbn_planned_layer)\n",
    "m_pbn.add_layer(pbn_existing_layer)\n",
    "m_pbn"
   ]
  },
  {
   "cell_type": "code",
   "execution_count": 11,
   "id": "a882fe53",
   "metadata": {},
   "outputs": [
    {
     "data": {
      "application/vnd.jupyter.widget-view+json": {
       "model_id": "b78a31cd80ad462596d2e0fe6963aa38",
       "version_major": 2,
       "version_minor": 0
      },
      "text/plain": [
       "Map(center=[-38.193788999999995, 145.094876], controls=(ZoomControl(options=['position', 'zoom_in_text', 'zoom…"
      ]
     },
     "metadata": {},
     "output_type": "display_data"
    }
   ],
   "source": [
    "m_osm = Map(center=center, zoom=zoom)\n",
    "m_osm.add_layer(locality_layer)\n",
    "m_osm.add_layer(osm_layer)\n",
    "m_osm"
   ]
  },
  {
   "cell_type": "code",
   "execution_count": null,
   "id": "brave-technique",
   "metadata": {},
   "outputs": [],
   "source": []
  }
 ],
 "metadata": {
  "kernelspec": {
   "display_name": "gpuEnv",
   "language": "python",
   "name": "gpuenv"
  },
  "language_info": {
   "codemirror_mode": {
    "name": "ipython",
    "version": 3
   },
   "file_extension": ".py",
   "mimetype": "text/x-python",
   "name": "python",
   "nbconvert_exporter": "python",
   "pygments_lexer": "ipython3",
   "version": "3.8.11"
  }
 },
 "nbformat": 4,
 "nbformat_minor": 5
}
