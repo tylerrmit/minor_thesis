{
 "cells": [
  {
   "cell_type": "markdown",
   "id": "3480c16d",
   "metadata": {},
   "source": [
    "# Filter PBN geojson down to Existing routes"
   ]
  },
  {
   "cell_type": "code",
   "execution_count": 1,
   "id": "75b44901",
   "metadata": {},
   "outputs": [],
   "source": [
    "import json\n",
    "import os"
   ]
  },
  {
   "cell_type": "code",
   "execution_count": 2,
   "id": "c9e32154",
   "metadata": {},
   "outputs": [],
   "source": [
    "pbn_filename = os.path.join(os.pardir, 'data_sources', 'Principal_Bicycle_Network_(PBN).geojson')\n",
    "\n",
    "with open(pbn_filename) as pbn_file:\n",
    "    pbn_data = json.load(pbn_file)\n",
    "    pbn_file.close()\n"
   ]
  },
  {
   "cell_type": "code",
   "execution_count": 3,
   "id": "231002f5",
   "metadata": {},
   "outputs": [
    {
     "name": "stdout",
     "output_type": "stream",
     "text": [
      "FeatureCollection\n"
     ]
    }
   ],
   "source": [
    "print(pbn_data['type'])"
   ]
  },
  {
   "cell_type": "code",
   "execution_count": 4,
   "id": "01e62aee",
   "metadata": {},
   "outputs": [],
   "source": [
    "orig_features = pbn_data['features']\n",
    "existing_features = []\n",
    "planned_features = []\n",
    "\n",
    "for feature in orig_features:\n",
    "    properties = feature['properties']\n",
    "    \n",
    "    if properties['status'].upper() == 'EXISTING':\n",
    "        existing_features.append(feature)\n",
    "    else:\n",
    "        planned_features.append(feature)\n",
    "        \n"
   ]
  },
  {
   "cell_type": "code",
   "execution_count": 5,
   "id": "74f98750",
   "metadata": {},
   "outputs": [],
   "source": [
    "# Save filtered version - Existing\n",
    "output_filename = os.path.join(os.pardir, 'data_sources', 'PBN_Existing.geojson')\n",
    "\n",
    "pbn_data['features'] = existing_features\n",
    "\n",
    "with open(output_filename, 'w') as outfile:\n",
    "    json.dump(pbn_data, outfile, indent=4)\n",
    "    \n",
    "    outfile.close()"
   ]
  },
  {
   "cell_type": "code",
   "execution_count": 6,
   "id": "2b0def9d",
   "metadata": {},
   "outputs": [],
   "source": [
    "# Save filtered version - Planned\n",
    "output_filename = os.path.join(os.pardir, 'data_sources', 'PBN_Planned.geojson')\n",
    "\n",
    "pbn_data['features'] = planned_features\n",
    "\n",
    "with open(output_filename, 'w') as outfile:\n",
    "    json.dump(pbn_data, outfile, indent=4)\n",
    "    \n",
    "    outfile.close()"
   ]
  }
 ],
 "metadata": {
  "kernelspec": {
   "display_name": "Python 3",
   "language": "python",
   "name": "python3"
  },
  "language_info": {
   "codemirror_mode": {
    "name": "ipython",
    "version": 3
   },
   "file_extension": ".py",
   "mimetype": "text/x-python",
   "name": "python",
   "nbconvert_exporter": "python",
   "pygments_lexer": "ipython3",
   "version": "3.8.11"
  }
 },
 "nbformat": 4,
 "nbformat_minor": 5
}
