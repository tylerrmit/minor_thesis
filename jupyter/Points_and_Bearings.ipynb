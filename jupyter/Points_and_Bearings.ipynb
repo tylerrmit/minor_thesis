{
 "cells": [
  {
   "cell_type": "markdown",
   "id": "mediterranean-equality",
   "metadata": {},
   "source": [
    "# Points and Bearings\n",
    "\n",
    "Given two points (lat/lon) generate a list of points with bearings every N metres\n",
    "\n",
    "https://geographiclib.sourceforge.io/1.52/python/examples.html#computing-waypoints"
   ]
  },
  {
   "cell_type": "code",
   "execution_count": 1,
   "id": "functional-freeware",
   "metadata": {},
   "outputs": [],
   "source": [
    "import math\n",
    "\n",
    "from geographiclib.geodesic import Geodesic\n",
    "\n",
    "geod = Geodesic.WGS84  # define the WGS84 ellipsoid"
   ]
  },
  {
   "cell_type": "code",
   "execution_count": 2,
   "id": "residential-senator",
   "metadata": {},
   "outputs": [],
   "source": [
    "def expand_points(lat1, lon1, lat2, lon2, interval=10):\n",
    "    bearing = geod.Inverse(lat1, lon1, lat2, lon2)['azi1']\n",
    "    \n",
    "    line = geod.InverseLine(lat1, lon1, lat2, lon2)\n",
    "    num_steps = int(math.ceil(line.s13 / interval))\n",
    "    for step_i in range(num_steps + 1):\n",
    "        s = min(interval * step_i, line.s13)\n",
    "        g = line.Position(s, Geodesic.STANDARD | Geodesic.LONG_UNROLL)\n",
    "        print(\"{:.0f} {:.5f} {:.5f} {:.5f}\".format(g['s12'], g['lat2'], g['lon2'], bearing))\n",
    "    "
   ]
  },
  {
   "cell_type": "code",
   "execution_count": 3,
   "id": "front-collect",
   "metadata": {},
   "outputs": [
    {
     "name": "stdout",
     "output_type": "stream",
     "text": [
      "0 -38.17354 145.10802 148.29439\n",
      "10 -38.17361 145.10808 148.29439\n",
      "20 -38.17369 145.10814 148.29439\n",
      "30 -38.17377 145.10820 148.29439\n",
      "40 -38.17384 145.10826 148.29439\n",
      "42 -38.17386 145.10827 148.29439\n"
     ]
    }
   ],
   "source": [
    "expand_points(-38.1735351, 145.1080202, -38.173857, 145.1082721)\n"
   ]
  },
  {
   "cell_type": "code",
   "execution_count": null,
   "id": "extraordinary-awareness",
   "metadata": {},
   "outputs": [],
   "source": []
  }
 ],
 "metadata": {
  "kernelspec": {
   "display_name": "Python 3",
   "language": "python",
   "name": "python3"
  },
  "language_info": {
   "codemirror_mode": {
    "name": "ipython",
    "version": 3
   },
   "file_extension": ".py",
   "mimetype": "text/x-python",
   "name": "python",
   "nbconvert_exporter": "python",
   "pygments_lexer": "ipython3",
   "version": "3.8.11"
  }
 },
 "nbformat": 4,
 "nbformat_minor": 5
}
