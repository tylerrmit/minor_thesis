{
 "cells": [
  {
   "cell_type": "markdown",
   "id": "87d45ee3",
   "metadata": {},
   "source": [
    "# Calibrate Dashcam\n",
    "\n",
    "\n",
    "https://docs.opencv.org/2.4/doc/tutorials/calib3d/camera_calibration/camera_calibration.html\n",
    "\n",
    "https://medium.com/vacatronics/3-ways-to-calibrate-your-camera-using-opencv-and-python-395528a51615\n",
    "\n",
    "https://towardsdatascience.com/computer-vision-for-lane-finding-24ea77f25209\n",
    "\n",
    "Use a standard OpenCV process to correct for distortions caused by the optics of the camera"
   ]
  },
  {
   "cell_type": "code",
   "execution_count": 1,
   "id": "dcbf84d3",
   "metadata": {},
   "outputs": [],
   "source": [
    "import os\n",
    "import sys\n",
    "import cv2\n",
    "import numpy as np\n",
    "import pathlib\n",
    "\n",
    "from datetime import datetime\n",
    "\n",
    "from matplotlib import pyplot as plt\n",
    "%matplotlib inline\n",
    "\n",
    "module_path_root = os.path.abspath(os.pardir)\n",
    "if module_path_root not in sys.path:\n",
    "    sys.path.append(module_path_root)"
   ]
  },
  {
   "cell_type": "markdown",
   "id": "12d27fd5",
   "metadata": {},
   "source": [
    "## Configuration"
   ]
  },
  {
   "cell_type": "code",
   "execution_count": 7,
   "id": "92f98638",
   "metadata": {},
   "outputs": [],
   "source": [
    "# Path to directory where calibration images are saved\n",
    "images_dir    = os.path.join(module_path_root, 'data_sources', 'dashcam_calibration_images') # Path to calibration images\n",
    "sample_dir    = os.path.join(module_path_root, 'data_sources', 'dashcam_samples')\n",
    "images_format = 'png' # File format of the calibration images\n",
    "square_size   = 2.52   # sice of squares on the test image in centimetres\n",
    "width         = 9      # width of the pattern\n",
    "height        = 6      # height of the pattern\n",
    "config_file   = os.path.join(module_path_root, 'data_sources', 'dashcam_calibration.yml')"
   ]
  },
  {
   "cell_type": "markdown",
   "id": "ee28ec62",
   "metadata": {},
   "source": [
    "## Function Definitions\n",
    "\n",
    "From: https://medium.com/vacatronics/3-ways-to-calibrate-your-camera-using-opencv-and-python-395528a51615\n",
    "Adapted from C++ code at: https://docs.opencv.org/2.4/doc/tutorials/calib3d/camera_calibration/camera_calibration.html"
   ]
  },
  {
   "cell_type": "code",
   "execution_count": 3,
   "id": "837a49c3",
   "metadata": {},
   "outputs": [],
   "source": [
    "def calibrate_chessboard(dir_path, image_format, square_size, width, height):\n",
    "    '''Calibrate a camera using chessboard images.'''\n",
    "    # termination criteria\n",
    "    criteria = (cv2.TERM_CRITERIA_EPS + cv2.TERM_CRITERIA_MAX_ITER, 30, 0.001)\n",
    "    \n",
    "    # prepare object points, like (0,0,0), (1,0,0), (2,0,0) ....,(8,6,0)\n",
    "    objp = np.zeros((height*width, 3), np.float32)\n",
    "    objp[:, :2] = np.mgrid[0:width, 0:height].T.reshape(-1, 2)\n",
    "\n",
    "    objp = objp * square_size\n",
    "\n",
    "    # Arrays to store object points and image points from all the images.\n",
    "    objpoints = []  # 3d point in real world space\n",
    "    imgpoints = []  # 2d points in image plane.\n",
    "\n",
    "    print(dir_path)\n",
    "    images = pathlib.Path(dir_path).glob(f'*.{image_format}')\n",
    "    # Iterate through all images\n",
    "    \n",
    "    for idx, fname in enumerate(images):\n",
    "        print('{0:s} Processing image # {1:d} {2:s}'.format(str(datetime.now()), idx, str(fname)))\n",
    "        \n",
    "        img = cv2.imread(str(fname))\n",
    "        gray = cv2.cvtColor(img, cv2.COLOR_BGR2GRAY)\n",
    "\n",
    "        # Find the chess board corners\n",
    "        ret, corners = cv2.findChessboardCorners(gray, (width, height), None)\n",
    "\n",
    "        # If found, add object points, image points (after refining them)\n",
    "        if ret:\n",
    "            objpoints.append(objp)\n",
    "\n",
    "            corners2 = cv2.cornerSubPix(gray, corners, (11, 11), (-1, -1), criteria)\n",
    "            imgpoints.append(corners2)\n",
    "\n",
    "    # Calibrate camera\n",
    "    ret, mtx, dist, rvecs, tvecs = cv2.calibrateCamera(objpoints, imgpoints, gray.shape[::-1], None, None)\n",
    "\n",
    "    return [ret, mtx, dist, rvecs, tvecs]\n",
    "\n",
    "def save_coefficients(mtx, dist, path):\n",
    "    '''Save the camera matrix and the distortion coefficients to given path/file.'''\n",
    "    cv_file = cv2.FileStorage(path, cv2.FILE_STORAGE_WRITE)\n",
    "    cv_file.write('K', mtx)\n",
    "    cv_file.write('D', dist)\n",
    "    # note you *release* you don't close() a FileStorage object\n",
    "    cv_file.release()\n",
    "\n",
    "def load_coefficients(path):\n",
    "    '''Loads camera matrix and distortion coefficients.'''\n",
    "    # FILE_STORAGE_READ\n",
    "    cv_file = cv2.FileStorage(path, cv2.FILE_STORAGE_READ)\n",
    "\n",
    "    # note we also have to specify the type to retrieve other wise we only get a\n",
    "    # FileNode object back instead of a matrix\n",
    "    camera_matrix = cv_file.getNode('K').mat()\n",
    "    dist_matrix = cv_file.getNode('D').mat()\n",
    "\n",
    "    cv_file.release()\n",
    "    return [camera_matrix, dist_matrix]"
   ]
  },
  {
   "cell_type": "markdown",
   "id": "c9ea2f35",
   "metadata": {},
   "source": [
    "## Convert calibration video to images"
   ]
  },
  {
   "cell_type": "code",
   "execution_count": 4,
   "id": "7d3c7369",
   "metadata": {},
   "outputs": [],
   "source": [
    "def split_video(filename, output_dir, video_num, interval):\n",
    "    cap = cv2.VideoCapture(filename)\n",
    "    \n",
    "    width  = int(cap.get(cv2.CAP_PROP_FRAME_WIDTH))\n",
    "    height = int(cap.get(cv2.CAP_PROP_FRAME_HEIGHT))\n",
    "    \n",
    "    frame_num = 0\n",
    "    \n",
    "    while True:\n",
    "        ret, frame = cap.read()\n",
    "        frame_num += 1\n",
    "        \n",
    "        if ret == True:\n",
    "            if frame_num % interval == 0:\n",
    "                filename = 'frame_{0:02d}_{1:05d}.png'.format(video_num, frame_num)\n",
    "                print('Writing: {0:s}'.format(filename))\n",
    "                cv2.imwrite(os.path.join(output_dir, filename), frame)\n",
    "        else:\n",
    "            break\n",
    "    \n",
    "    cap.release()       \n",
    "        "
   ]
  },
  {
   "cell_type": "code",
   "execution_count": null,
   "id": "b2079081",
   "metadata": {},
   "outputs": [],
   "source": [
    "video1 = os.path.join(images_dir, 'distortion_calibration1.mp4')\n",
    "video2 = os.path.join(images_dir, 'distortion_calibration2.mp4')\n",
    "\n",
    "split_video(video1, images_dir, 1, 60)\n",
    "split_video(video2, images_dir, 2, 60)"
   ]
  },
  {
   "cell_type": "code",
   "execution_count": 5,
   "id": "f20fc9e1",
   "metadata": {},
   "outputs": [
    {
     "name": "stdout",
     "output_type": "stream",
     "text": [
      "D:\\TensorFlow2\\TFODCourse\\minor_thesis\\data_sources\\dashcam_calibration_images\n",
      "2021-09-23 12:13:24.482593 Processing image # 0 D:\\TensorFlow2\\TFODCourse\\minor_thesis\\data_sources\\dashcam_calibration_images\\frame_01_01140.png\n",
      "2021-09-23 12:13:24.564927 Processing image # 1 D:\\TensorFlow2\\TFODCourse\\minor_thesis\\data_sources\\dashcam_calibration_images\\frame_01_01200.png\n",
      "2021-09-23 12:13:43.467006 Processing image # 2 D:\\TensorFlow2\\TFODCourse\\minor_thesis\\data_sources\\dashcam_calibration_images\\frame_01_01260.png\n",
      "2021-09-23 12:13:43.545842 Processing image # 3 D:\\TensorFlow2\\TFODCourse\\minor_thesis\\data_sources\\dashcam_calibration_images\\frame_01_01320.png\n",
      "2021-09-23 12:13:43.611810 Processing image # 4 D:\\TensorFlow2\\TFODCourse\\minor_thesis\\data_sources\\dashcam_calibration_images\\frame_01_01380.png\n",
      "2021-09-23 12:13:43.684226 Processing image # 5 D:\\TensorFlow2\\TFODCourse\\minor_thesis\\data_sources\\dashcam_calibration_images\\frame_01_01440.png\n",
      "2021-09-23 12:13:43.754186 Processing image # 6 D:\\TensorFlow2\\TFODCourse\\minor_thesis\\data_sources\\dashcam_calibration_images\\frame_01_01500.png\n",
      "2021-09-23 12:13:43.828564 Processing image # 7 D:\\TensorFlow2\\TFODCourse\\minor_thesis\\data_sources\\dashcam_calibration_images\\frame_01_01920.png\n",
      "2021-09-23 12:13:43.899514 Processing image # 8 D:\\TensorFlow2\\TFODCourse\\minor_thesis\\data_sources\\dashcam_calibration_images\\frame_01_01980.png\n",
      "2021-09-23 12:13:43.966450 Processing image # 9 D:\\TensorFlow2\\TFODCourse\\minor_thesis\\data_sources\\dashcam_calibration_images\\frame_01_02040.png\n",
      "2021-09-23 12:13:44.034402 Processing image # 10 D:\\TensorFlow2\\TFODCourse\\minor_thesis\\data_sources\\dashcam_calibration_images\\frame_01_02100.png\n",
      "2021-09-23 12:13:44.101361 Processing image # 11 D:\\TensorFlow2\\TFODCourse\\minor_thesis\\data_sources\\dashcam_calibration_images\\frame_01_02160.png\n",
      "2021-09-23 12:13:44.168817 Processing image # 12 D:\\TensorFlow2\\TFODCourse\\minor_thesis\\data_sources\\dashcam_calibration_images\\frame_01_02220.png\n",
      "2021-09-23 12:13:44.236295 Processing image # 13 D:\\TensorFlow2\\TFODCourse\\minor_thesis\\data_sources\\dashcam_calibration_images\\frame_01_02280.png\n",
      "2021-09-23 12:13:44.306730 Processing image # 14 D:\\TensorFlow2\\TFODCourse\\minor_thesis\\data_sources\\dashcam_calibration_images\\frame_01_02340.png\n",
      "2021-09-23 12:13:44.378130 Processing image # 15 D:\\TensorFlow2\\TFODCourse\\minor_thesis\\data_sources\\dashcam_calibration_images\\frame_01_02400.png\n",
      "2021-09-23 12:13:44.449058 Processing image # 16 D:\\TensorFlow2\\TFODCourse\\minor_thesis\\data_sources\\dashcam_calibration_images\\frame_01_02460.png\n",
      "2021-09-23 12:13:44.541835 Processing image # 17 D:\\TensorFlow2\\TFODCourse\\minor_thesis\\data_sources\\dashcam_calibration_images\\frame_01_02520.png\n",
      "2021-09-23 12:13:44.630097 Processing image # 18 D:\\TensorFlow2\\TFODCourse\\minor_thesis\\data_sources\\dashcam_calibration_images\\frame_01_02580.png\n",
      "2021-09-23 12:13:44.697578 Processing image # 19 D:\\TensorFlow2\\TFODCourse\\minor_thesis\\data_sources\\dashcam_calibration_images\\frame_01_02640.png\n",
      "2021-09-23 12:13:46.364608 Processing image # 20 D:\\TensorFlow2\\TFODCourse\\minor_thesis\\data_sources\\dashcam_calibration_images\\frame_01_03000.png\n",
      "2021-09-23 12:13:47.236601 Processing image # 21 D:\\TensorFlow2\\TFODCourse\\minor_thesis\\data_sources\\dashcam_calibration_images\\frame_01_03060.png\n",
      "2021-09-23 12:14:12.846525 Processing image # 22 D:\\TensorFlow2\\TFODCourse\\minor_thesis\\data_sources\\dashcam_calibration_images\\frame_01_03120.png\n",
      "2021-09-23 12:14:29.086079 Processing image # 23 D:\\TensorFlow2\\TFODCourse\\minor_thesis\\data_sources\\dashcam_calibration_images\\frame_01_03180.png\n",
      "2021-09-23 12:14:29.160970 Processing image # 24 D:\\TensorFlow2\\TFODCourse\\minor_thesis\\data_sources\\dashcam_calibration_images\\frame_01_03240.png\n",
      "2021-09-23 12:14:30.043329 Processing image # 25 D:\\TensorFlow2\\TFODCourse\\minor_thesis\\data_sources\\dashcam_calibration_images\\frame_01_03300.png\n",
      "2021-09-23 12:14:30.869695 Processing image # 26 D:\\TensorFlow2\\TFODCourse\\minor_thesis\\data_sources\\dashcam_calibration_images\\frame_01_03360.png\n",
      "2021-09-23 12:14:58.167006 Processing image # 27 D:\\TensorFlow2\\TFODCourse\\minor_thesis\\data_sources\\dashcam_calibration_images\\frame_01_03420.png\n",
      "2021-09-23 12:15:25.691515 Processing image # 28 D:\\TensorFlow2\\TFODCourse\\minor_thesis\\data_sources\\dashcam_calibration_images\\frame_01_03480.png\n",
      "2021-09-23 12:15:27.538618 Processing image # 29 D:\\TensorFlow2\\TFODCourse\\minor_thesis\\data_sources\\dashcam_calibration_images\\frame_01_03540.png\n",
      "2021-09-23 12:15:42.398271 Processing image # 30 D:\\TensorFlow2\\TFODCourse\\minor_thesis\\data_sources\\dashcam_calibration_images\\frame_01_03600.png\n",
      "2021-09-23 12:15:57.505452 Processing image # 31 D:\\TensorFlow2\\TFODCourse\\minor_thesis\\data_sources\\dashcam_calibration_images\\frame_02_00660.png\n",
      "2021-09-23 12:15:57.575860 Processing image # 32 D:\\TensorFlow2\\TFODCourse\\minor_thesis\\data_sources\\dashcam_calibration_images\\frame_02_00720.png\n",
      "2021-09-23 12:15:57.642324 Processing image # 33 D:\\TensorFlow2\\TFODCourse\\minor_thesis\\data_sources\\dashcam_calibration_images\\frame_02_00780.png\n",
      "2021-09-23 12:15:57.705316 Processing image # 34 D:\\TensorFlow2\\TFODCourse\\minor_thesis\\data_sources\\dashcam_calibration_images\\frame_02_00840.png\n",
      "2021-09-23 12:15:57.771811 Processing image # 35 D:\\TensorFlow2\\TFODCourse\\minor_thesis\\data_sources\\dashcam_calibration_images\\frame_02_00900.png\n",
      "2021-09-23 12:15:57.841716 Processing image # 36 D:\\TensorFlow2\\TFODCourse\\minor_thesis\\data_sources\\dashcam_calibration_images\\frame_02_01140.png\n",
      "2021-09-23 12:15:57.932484 Processing image # 37 D:\\TensorFlow2\\TFODCourse\\minor_thesis\\data_sources\\dashcam_calibration_images\\frame_02_01200.png\n",
      "2021-09-23 12:15:58.006884 Processing image # 38 D:\\TensorFlow2\\TFODCourse\\minor_thesis\\data_sources\\dashcam_calibration_images\\frame_02_01260.png\n",
      "2021-09-23 12:15:58.081284 Processing image # 39 D:\\TensorFlow2\\TFODCourse\\minor_thesis\\data_sources\\dashcam_calibration_images\\frame_02_01320.png\n",
      "2021-09-23 12:15:58.151723 Processing image # 40 D:\\TensorFlow2\\TFODCourse\\minor_thesis\\data_sources\\dashcam_calibration_images\\frame_02_01380.png\n",
      "2021-09-23 12:15:58.218701 Processing image # 41 D:\\TensorFlow2\\TFODCourse\\minor_thesis\\data_sources\\dashcam_calibration_images\\frame_02_01440.png\n",
      "2021-09-23 12:15:58.285636 Processing image # 42 D:\\TensorFlow2\\TFODCourse\\minor_thesis\\data_sources\\dashcam_calibration_images\\frame_02_01500.png\n",
      "2021-09-23 12:15:58.355572 Processing image # 43 D:\\TensorFlow2\\TFODCourse\\minor_thesis\\data_sources\\dashcam_calibration_images\\frame_02_01560.png\n",
      "2021-09-23 12:15:58.423523 Processing image # 44 D:\\TensorFlow2\\TFODCourse\\minor_thesis\\data_sources\\dashcam_calibration_images\\frame_02_01620.png\n",
      "2021-09-23 12:15:58.493460 Processing image # 45 D:\\TensorFlow2\\TFODCourse\\minor_thesis\\data_sources\\dashcam_calibration_images\\frame_02_01680.png\n",
      "2021-09-23 12:15:58.560941 Processing image # 46 D:\\TensorFlow2\\TFODCourse\\minor_thesis\\data_sources\\dashcam_calibration_images\\frame_02_01740.png\n",
      "2021-09-23 12:16:22.441314 Processing image # 47 D:\\TensorFlow2\\TFODCourse\\minor_thesis\\data_sources\\dashcam_calibration_images\\frame_02_01980.png\n",
      "2021-09-23 12:16:39.159008 Processing image # 48 D:\\TensorFlow2\\TFODCourse\\minor_thesis\\data_sources\\dashcam_calibration_images\\frame_02_02040.png\n",
      "2021-09-23 12:16:40.027012 Processing image # 49 D:\\TensorFlow2\\TFODCourse\\minor_thesis\\data_sources\\dashcam_calibration_images\\frame_02_02100.png\n",
      "2021-09-23 12:16:40.891043 Processing image # 50 D:\\TensorFlow2\\TFODCourse\\minor_thesis\\data_sources\\dashcam_calibration_images\\frame_02_02160.png\n",
      "2021-09-23 12:16:40.959987 Processing image # 51 D:\\TensorFlow2\\TFODCourse\\minor_thesis\\data_sources\\dashcam_calibration_images\\frame_02_02220.png\n",
      "2021-09-23 12:16:41.791282 Processing image # 52 D:\\TensorFlow2\\TFODCourse\\minor_thesis\\data_sources\\dashcam_calibration_images\\frame_02_02280.png\n",
      "2021-09-23 12:16:42.652362 Processing image # 53 D:\\TensorFlow2\\TFODCourse\\minor_thesis\\data_sources\\dashcam_calibration_images\\frame_02_02340.png\n",
      "2021-09-23 12:16:43.517361 Processing image # 54 D:\\TensorFlow2\\TFODCourse\\minor_thesis\\data_sources\\dashcam_calibration_images\\frame_02_02400.png\n",
      "2021-09-23 12:17:13.697452 Processing image # 55 D:\\TensorFlow2\\TFODCourse\\minor_thesis\\data_sources\\dashcam_calibration_images\\frame_02_02460.png\n"
     ]
    },
    {
     "name": "stdout",
     "output_type": "stream",
     "text": [
      "2021-09-23 12:17:14.553548 Processing image # 56 D:\\TensorFlow2\\TFODCourse\\minor_thesis\\data_sources\\dashcam_calibration_images\\frame_02_02520.png\n",
      "2021-09-23 12:17:44.255494 Processing image # 57 D:\\TensorFlow2\\TFODCourse\\minor_thesis\\data_sources\\dashcam_calibration_images\\frame_02_02580.png\n",
      "2021-09-23 12:18:13.731291 Processing image # 58 D:\\TensorFlow2\\TFODCourse\\minor_thesis\\data_sources\\dashcam_calibration_images\\frame_02_02640.png\n",
      "2021-09-23 12:18:14.605217 Processing image # 59 D:\\TensorFlow2\\TFODCourse\\minor_thesis\\data_sources\\dashcam_calibration_images\\frame_02_02700.png\n",
      "2021-09-23 12:18:43.208053 Processing image # 60 D:\\TensorFlow2\\TFODCourse\\minor_thesis\\data_sources\\dashcam_calibration_images\\frame_02_02760.png\n",
      "2021-09-23 12:18:44.027916 Processing image # 61 D:\\TensorFlow2\\TFODCourse\\minor_thesis\\data_sources\\dashcam_calibration_images\\frame_02_02820.png\n",
      "2021-09-23 12:19:08.030331 Processing image # 62 D:\\TensorFlow2\\TFODCourse\\minor_thesis\\data_sources\\dashcam_calibration_images\\frame_02_03120.png\n",
      "2021-09-23 12:19:40.647269 Processing image # 63 D:\\TensorFlow2\\TFODCourse\\minor_thesis\\data_sources\\dashcam_calibration_images\\frame_02_03180.png\n",
      "2021-09-23 12:20:09.727728 Processing image # 64 D:\\TensorFlow2\\TFODCourse\\minor_thesis\\data_sources\\dashcam_calibration_images\\frame_02_03240.png\n",
      "2021-09-23 12:20:10.521824 Processing image # 65 D:\\TensorFlow2\\TFODCourse\\minor_thesis\\data_sources\\dashcam_calibration_images\\frame_02_03300.png\n",
      "2021-09-23 12:20:39.179196 Processing image # 66 D:\\TensorFlow2\\TFODCourse\\minor_thesis\\data_sources\\dashcam_calibration_images\\frame_02_03360.png\n",
      "2021-09-23 12:21:05.473129 Processing image # 67 D:\\TensorFlow2\\TFODCourse\\minor_thesis\\data_sources\\dashcam_calibration_images\\frame_02_03420.png\n",
      "2021-09-23 12:21:06.347577 Processing image # 68 D:\\TensorFlow2\\TFODCourse\\minor_thesis\\data_sources\\dashcam_calibration_images\\frame_02_03480.png\n",
      "2021-09-23 12:21:34.406772 Processing image # 69 D:\\TensorFlow2\\TFODCourse\\minor_thesis\\data_sources\\dashcam_calibration_images\\frame_02_03540.png\n",
      "2021-09-23 12:22:03.485249 Processing image # 70 D:\\TensorFlow2\\TFODCourse\\minor_thesis\\data_sources\\dashcam_calibration_images\\frame_02_03600.png\n"
     ]
    }
   ],
   "source": [
    "ret, mtx, dist, rvecs, tvecs = calibrate_chessboard(images_dir, images_format, square_size, width, height)"
   ]
  },
  {
   "cell_type": "code",
   "execution_count": 6,
   "id": "aadad426",
   "metadata": {},
   "outputs": [],
   "source": [
    "save_coefficients(mtx, dist, config_file)"
   ]
  },
  {
   "cell_type": "markdown",
   "id": "f94f3ee5",
   "metadata": {},
   "source": [
    "## Apply to a sample dashcam image"
   ]
  },
  {
   "cell_type": "code",
   "execution_count": 9,
   "id": "3b887f55",
   "metadata": {},
   "outputs": [
    {
     "name": "stdout",
     "output_type": "stream",
     "text": [
      "Writing: frame_01_00060.png\n",
      "Writing: frame_01_00120.png\n",
      "Writing: frame_01_00180.png\n",
      "Writing: frame_01_00240.png\n",
      "Writing: frame_01_00300.png\n",
      "Writing: frame_01_00360.png\n",
      "Writing: frame_01_00420.png\n",
      "Writing: frame_01_00480.png\n",
      "Writing: frame_01_00540.png\n",
      "Writing: frame_01_00600.png\n",
      "Writing: frame_01_00660.png\n",
      "Writing: frame_01_00720.png\n",
      "Writing: frame_01_00780.png\n",
      "Writing: frame_01_00840.png\n",
      "Writing: frame_01_00900.png\n",
      "Writing: frame_01_00960.png\n",
      "Writing: frame_01_01020.png\n",
      "Writing: frame_01_01080.png\n",
      "Writing: frame_01_01140.png\n",
      "Writing: frame_01_01200.png\n",
      "Writing: frame_01_01260.png\n",
      "Writing: frame_01_01320.png\n",
      "Writing: frame_01_01380.png\n",
      "Writing: frame_01_01440.png\n",
      "Writing: frame_01_01500.png\n",
      "Writing: frame_01_01560.png\n",
      "Writing: frame_01_01620.png\n",
      "Writing: frame_01_01680.png\n",
      "Writing: frame_01_01740.png\n",
      "Writing: frame_01_01800.png\n",
      "Writing: frame_01_01860.png\n",
      "Writing: frame_01_01920.png\n",
      "Writing: frame_01_01980.png\n",
      "Writing: frame_01_02040.png\n",
      "Writing: frame_01_02100.png\n",
      "Writing: frame_01_02160.png\n",
      "Writing: frame_01_02220.png\n",
      "Writing: frame_01_02280.png\n",
      "Writing: frame_01_02340.png\n",
      "Writing: frame_01_02400.png\n",
      "Writing: frame_01_02460.png\n",
      "Writing: frame_01_02520.png\n",
      "Writing: frame_01_02580.png\n",
      "Writing: frame_01_02640.png\n",
      "Writing: frame_01_02700.png\n",
      "Writing: frame_01_02760.png\n",
      "Writing: frame_01_02820.png\n",
      "Writing: frame_01_02880.png\n",
      "Writing: frame_01_02940.png\n",
      "Writing: frame_01_03000.png\n",
      "Writing: frame_01_03060.png\n",
      "Writing: frame_01_03120.png\n",
      "Writing: frame_01_03180.png\n",
      "Writing: frame_01_03240.png\n",
      "Writing: frame_01_03300.png\n",
      "Writing: frame_01_03360.png\n",
      "Writing: frame_01_03420.png\n",
      "Writing: frame_01_03480.png\n",
      "Writing: frame_01_03540.png\n",
      "Writing: frame_01_03600.png\n"
     ]
    }
   ],
   "source": [
    "split_video(os.path.join(sample_dir, 'FILE210920-145008F.MP4'), sample_dir, 1, 60)"
   ]
  },
  {
   "cell_type": "code",
   "execution_count": 10,
   "id": "7c4c0cdb",
   "metadata": {},
   "outputs": [],
   "source": [
    "sample_image_in  = os.path.join(sample_dir, 'frame_01_02160.png')\n",
    "sample_image_out = os.path.join(sample_dir, 'corrected_frame_01_02160.png')"
   ]
  },
  {
   "cell_type": "code",
   "execution_count": 12,
   "id": "a4e20b22",
   "metadata": {},
   "outputs": [
    {
     "data": {
      "text/plain": [
       "True"
      ]
     },
     "execution_count": 12,
     "metadata": {},
     "output_type": "execute_result"
    }
   ],
   "source": [
    "mtx, dist = load_coefficients(config_file)\n",
    "original = cv2.imread(sample_image_in)\n",
    "\n",
    "dst = cv2.undistort(original, mtx, dist, None, None)\n",
    "\n",
    "cv2.imwrite(sample_image_out, dst)"
   ]
  },
  {
   "cell_type": "code",
   "execution_count": null,
   "id": "5acfb21b",
   "metadata": {},
   "outputs": [],
   "source": []
  }
 ],
 "metadata": {
  "kernelspec": {
   "display_name": "gpuEnv",
   "language": "python",
   "name": "gpuenv"
  },
  "language_info": {
   "codemirror_mode": {
    "name": "ipython",
    "version": 3
   },
   "file_extension": ".py",
   "mimetype": "text/x-python",
   "name": "python",
   "nbconvert_exporter": "python",
   "pygments_lexer": "ipython3",
   "version": "3.8.11"
  }
 },
 "nbformat": 4,
 "nbformat_minor": 5
}
