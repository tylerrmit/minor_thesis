{
 "cells": [
  {
   "cell_type": "markdown",
   "id": "dominican-conspiracy",
   "metadata": {},
   "source": [
    "# Find Distinct Intersections\n",
    "\n",
    "Find the distinct combinations of [local_street] x [town] in the reverse-geocoded PBN data.\n",
    "\n",
    "Then, find the distinct intersections for those streets"
   ]
  },
  {
   "cell_type": "code",
   "execution_count": 1,
   "id": "immediate-school",
   "metadata": {},
   "outputs": [],
   "source": [
    "import pandas as pd\n",
    "import geopandas as gpd\n",
    "import geopy\n",
    "import geopy.distance\n",
    "\n",
    "from shapely.geometry.linestring import LineString\n",
    "from shapely.geometry.multilinestring import MultiLineString\n",
    "\n",
    "from geographiclib.geodesic import Geodesic\n",
    "\n",
    "from datetime import datetime\n",
    "from tqdm.notebook import tqdm\n",
    "\n",
    "import xml.etree.cElementTree as ET\n",
    "from collections import defaultdict\n",
    "\n",
    "from geopy.geocoders import Nominatim\n",
    "\n",
    "import requests\n",
    "\n",
    "import gmaps\n",
    "\n",
    "timestamp_starting = 0\n",
    "\n",
    "def log_starting(msg):\n",
    "    global timestamp_starting\n",
    "    timestamp_starting = datetime.now()\n",
    "    print(str(timestamp_starting) + ' START - ' + msg, flush=True)\n",
    "\n",
    "def log_finished(msg):\n",
    "    global timestamp_starting\n",
    "    timestamp_finished = datetime.now()\n",
    "    timestamp_duration = timestamp_finished - timestamp_starting\n",
    "    print(str(timestamp_finished) + ' END   - ' + msg\n",
    "        + '(' + str(timestamp_duration.total_seconds()) + ')',\n",
    "        flush=True\n",
    "    )"
   ]
  },
  {
   "cell_type": "code",
   "execution_count": 2,
   "id": "certain-cleaners",
   "metadata": {},
   "outputs": [
    {
     "name": "stdout",
     "output_type": "stream",
     "text": [
      "2021-08-10 20:17:41.530787 START - Load original PBN dataset\n",
      "2021-08-10 20:17:45.505768 END   - Load original PBN dataset(3.974981)\n"
     ]
    }
   ],
   "source": [
    "log_starting('Load original PBN dataset')\n",
    "\n",
    "pbn = gpd.read_file('Principal_Bicycle_Network_(PBN).geojson')\n",
    "\n",
    "log_finished('Load original PBN dataset')"
   ]
  },
  {
   "cell_type": "code",
   "execution_count": 3,
   "id": "valid-multimedia",
   "metadata": {},
   "outputs": [
    {
     "name": "stdout",
     "output_type": "stream",
     "text": [
      "2021-08-10 20:17:45.509012 START - Read geocoded PBN dataset\n",
      "2021-08-10 20:18:38.486481 END   - Read geocoded PBN dataset(52.977469)\n"
     ]
    }
   ],
   "source": [
    "log_starting('Read geocoded PBN dataset')\n",
    "\n",
    "pbn_explode = gpd.read_file('pbn_exploded.geojson')\n",
    "\n",
    "log_finished('Read geocoded PBN dataset')"
   ]
  },
  {
   "cell_type": "markdown",
   "id": "irish-defensive",
   "metadata": {},
   "source": [
    "Load raw OpenStreetMap data for the area into memory.  This will be used to find all the intersections for each [local_street] x [town] mentioned in the PBN data.\n",
    "\n",
    "The extract was downloaded from http://extract.bbbike.org.  Region limited to one small down for initial testing, then a box that encompasses all of Victoria.\n",
    "\n",
    "The \"Victoria\" data took around 10 minutes to load into memory, and the resulting Python process used approximately 9GB of memory."
   ]
  },
  {
   "cell_type": "code",
   "execution_count": 4,
   "id": "mysterious-bicycle",
   "metadata": {},
   "outputs": [
    {
     "name": "stdout",
     "output_type": "stream",
     "text": [
      "2021-08-10 20:18:38.493604 START - Read raw OpenStreetMap data\n",
      "2021-08-10 20:23:39.221890 END   - Read raw OpenStreetMap data(300.728286)\n",
      "2021-08-10 20:23:39.223706 START - Find Lat/Lon for intersections\n",
      "2021-08-10 20:29:12.865590 END   - Find Lat/Lon for intersections(333.641884)\n"
     ]
    }
   ],
   "source": [
    "file_path = \"/Users/tylersaxton/thesis/planet_victoria.osm\"\n",
    "\n",
    "log_starting('Read raw OpenStreetMap data')\n",
    "\n",
    "# In-Memory caching via dictionary objects\n",
    "nodes_per_way = defaultdict(list) # List of nodes in each way\n",
    "ways_per_node = defaultdict(list) # List of ways associated with each node\n",
    "ways_by_name  = defaultdict(list) # List of ways associated with each street name\n",
    "ways_by_id    = {}                # List of ways by osm_id\n",
    "node_lat      = {}                # Latitude of an intersection node by oms_id\n",
    "node_lon      = {}                # Longitude of an intersection node by oms_id\n",
    "\n",
    "# Read the OpenStreetMap XML file\n",
    "context = ET.iterparse(file_path, events=(\"start\", \"end\"))\n",
    "context = iter(context)\n",
    "\n",
    "way_id  = 0  # Keep track of which \"way\" object we are reading from XML, 0=none\n",
    "node_id = 0  # Keep track of which \"node\" (nd) object we are reading from XML, 0=none\n",
    "\n",
    "# Iterate through every XML element in the file as it starts or finishes\n",
    "# This approach allows us to \"stream\" the XML rather than try to load it all into\n",
    "# memory at once.  We only cache what is important to us.\n",
    "for event, elem in context:\n",
    "    tag   = elem.tag\n",
    "    value = elem.text\n",
    "    \n",
    "    if value:\n",
    "        value = value.encode('utf-8').strip()\n",
    "    \n",
    "    # Process the start of an XML tag\n",
    "    if event == 'start':\n",
    "        # Process \"way\" objects\n",
    "        if tag == 'way':\n",
    "            way_id = elem.get('id', 0)\n",
    "        # Process \"node\" (nd) objetcts inside (associated with) a \"way\"\n",
    "        elif tag == 'nd':\n",
    "            node_id = elem.get('ref', 0)\n",
    "            if way_id != 0:\n",
    "                # Record that this node was inside this way\n",
    "                nodes_per_way[way_id].append(node_id)\n",
    "                ways_per_node[node_id].append(way_id)\n",
    "        # Process \"tag\" objects that give a street name for each \"way\"\n",
    "        elif tag == 'tag':\n",
    "            if way_id != 0 and elem.get('k', '?') == 'name':\n",
    "                way_name = elem.get('v', '?')\n",
    "                ways_by_name[way_name.upper()].append(way_id)\n",
    "                ways_by_id[way_id] = way_name.upper()\n",
    "                \n",
    "    # At the end of an XML tag, if it was a \"way\" then record that we are no longer\n",
    "    # in the middle of reading a \"way\"\n",
    "    if event == 'end' and tag == 'way':\n",
    "        way_id = 0\n",
    "\n",
    "    elem.clear()\n",
    "\n",
    "log_finished('Read raw OpenStreetMap data')\n",
    "\n",
    "\n",
    "# Second pass to load the latitude and longitude of nodes IF AND ONLY IF\n",
    "# they are involved in an intersection\n",
    "\n",
    "log_starting('Find Lat/Lon for intersections')\n",
    "\n",
    "context = ET.iterparse(file_path, events=(\"start\", \"end\"))\n",
    "context = iter(context)\n",
    "\n",
    "way_id  = 0\n",
    "node_id = 0\n",
    "\n",
    "for event, elem in context:\n",
    "    tag   = elem.tag\n",
    "    value = elem.text\n",
    "    \n",
    "    if value:\n",
    "        value = value.encode('utf-8').strip()\n",
    "    \n",
    "    # Process the start of an XML tag\n",
    "    if event == 'start':\n",
    "        # Find the latitude/longitude for each \"node\" by its oms_id\n",
    "        if tag == 'node':\n",
    "            node_id = elem.get('id', 0)\n",
    "            lat     = elem.get('lat', 0)\n",
    "            lon     = elem.get('lon', 0)\n",
    "            \n",
    "            # If and only if this \"node\" had more than one \"way\" associated with it,\n",
    "            # it is part of an \"intersection\" and therefore we record its latitude\n",
    "            # and longitude in memory, by its oms_id\n",
    "            if len(ways_per_node[node_id]) > 1:\n",
    "                node_lat[node_id] = lat\n",
    "                node_lon[node_id] = lon\n",
    "\n",
    "    elem.clear()\n",
    "\n",
    "log_finished('Find Lat/Lon for intersections')"
   ]
  },
  {
   "cell_type": "markdown",
   "id": "corresponding-banking",
   "metadata": {},
   "source": [
    "Define a function to directly call the Nominatim geocode service to turn lat/lon into geocoded information, because we need the \"bounding box\" part of the data, which is not returned by the Nominatim API."
   ]
  },
  {
   "cell_type": "code",
   "execution_count": 59,
   "id": "amino-hampton",
   "metadata": {},
   "outputs": [],
   "source": [
    "cached_nominatim_search = {}\n",
    "\n",
    "def nominatim_search(street, city):\n",
    "    # Check local cache first, used cached results if available\n",
    "    key = street + ' - ' + city\n",
    "    \n",
    "    if key in cached_nominatim_search:\n",
    "        return cached_nominatim_search[key]\n",
    "    \n",
    "    # api-endpoint\n",
    "    URL = \"http://geo.local/nominatim/search\"\n",
    "    \n",
    "    params = {\n",
    "        'street': street,\n",
    "        'city': city\n",
    "    }\n",
    "        \n",
    "    # sending get request and saving the response as response object\n",
    "    r = requests.get(url = URL, params = params)\n",
    "    \n",
    "    # Cache results\n",
    "    cached_nominatim_search[key] = r.json()\n",
    "    \n",
    "    # extracting data in json format\n",
    "    return r.json()"
   ]
  },
  {
   "cell_type": "markdown",
   "id": "consistent-conservative",
   "metadata": {},
   "source": [
    "Define a function to determine whether two bounding boxes overlap.  Include a \"margin\" to account for bounding boxes that almost overlap but are just off by a small margin, the size of an intersection or so."
   ]
  },
  {
   "cell_type": "code",
   "execution_count": 60,
   "id": "vocal-queensland",
   "metadata": {},
   "outputs": [],
   "source": [
    "def is_overlapping(box1, box2, margin=0.05):\n",
    "    # Add margin to box1\n",
    "    box1_margin = []\n",
    "    box1_margin.append(box1[0] - margin)\n",
    "    box1_margin.append(box1[1] + margin)\n",
    "    box1_margin.append(box1[2] - margin)\n",
    "    box1_margin.append(box1[3] + margin)\n",
    "\n",
    "    #print('Margin: ' + str(box1_margin))\n",
    "    \n",
    "    # Check if latitude or longitude overlaps\n",
    "    lat_overlap = False\n",
    "    lon_overlap = False\n",
    "    \n",
    "    if box1_margin[0] <= box2[0] <= box1_margin[1]:\n",
    "        lat_overlap = True\n",
    "    if box1_margin[0] <= box2[1] <= box1_margin[1]:\n",
    "        lat_overlap = True\n",
    "    if box1_margin[2] <= box2[2] <= box1_margin[3]:\n",
    "        lon_overlap = True\n",
    "    if box1_margin[2] <= box2[3] <= box1_margin[3]:\n",
    "        lon_overlap = True\n",
    "        \n",
    "    return (lat_overlap and lon_overlap)"
   ]
  },
  {
   "cell_type": "markdown",
   "id": "broke-poison",
   "metadata": {},
   "source": [
    "Given a [local_street] x [town], find all other roads that intersect with it.\n",
    "\n",
    "Some roads like \"Main Street\" might be very common.  To avoid false-positives, we\n",
    "check the bounding boxes for both the original street and the candidate street that\n",
    "appears to intersect based on the [local_street] name alone.  If the bounding boxes\n",
    "overlap, or are close, then we are comfortable that it's not a duplicate street name\n",
    "from another area."
   ]
  },
  {
   "cell_type": "code",
   "execution_count": 153,
   "id": "photographic-chaos",
   "metadata": {},
   "outputs": [],
   "source": [
    "def lookup_bounding_box(objectid):\n",
    "    row = pbn[pbn['objectid']==objectid]\n",
    "    \n",
    "    try:\n",
    "        gs = row['geometry']\n",
    "        return [gs.bounds['miny'][0], gs.bounds['maxy'][0], gs.bounds['minx'][0], gs.bounds['maxx'][0]]\n",
    "    except Exception:\n",
    "        return None\n",
    "    \n",
    "def inside_bounding_box(node_id, bounding_box, margin=0.05):\n",
    "    # Add margin to box1\n",
    "    box_margin = []\n",
    "    box_margin.append(bounding_box[0] - margin)\n",
    "    box_margin.append(bounding_box[1] + margin)\n",
    "    box_margin.append(bounding_box[2] - margin)\n",
    "    box_margin.append(bounding_box[3] + margin)\n",
    "    \n",
    "    if node_id not in node_lat:\n",
    "        return False\n",
    "    if node_id not in node_lon:\n",
    "        return False\n",
    "    if not (box_margin[0] <= float(node_lat[node_id]) <= box_margin[1]):\n",
    "        return False\n",
    "    if not (box_margin[2] <= float(node_lon[node_id]) <= box_margin[3]):\n",
    "        return False\n",
    "    return True"
   ]
  },
  {
   "cell_type": "code",
   "execution_count": 155,
   "id": "refined-reminder",
   "metadata": {},
   "outputs": [],
   "source": [
    "def find_intersections(street, town, suburb, city, objectid=0, debug=0):\n",
    "    # Find bounding_box of original street\n",
    "    \n",
    "    # First try using information loaded from directly form PBN coordinates\n",
    "    original_bounding_box = lookup_bounding_box(objectid)\n",
    "    \n",
    "    if original_bounding_box is None:\n",
    "        # Use most specific first town->suburb->city\n",
    "        # E.g. Aberdeen Road Fyansford might actually be found in Geelong\n",
    "        original_street = nominatim_search(str(street).upper(), str(town).upper())\n",
    "    \n",
    "        if (len(original_street) < 1):\n",
    "            original_street = nominatim_search(str(street).upper(), str(suburb).upper())\n",
    "        \n",
    "            if (len(original_street) < 1):\n",
    "                original_street = nominatim_search(str(street).upper(), str(city).upper())\n",
    "            \n",
    "                if (len(original_street) < 1):\n",
    "                    return []\n",
    "    \n",
    "        original_bounding_box_str = original_street[0]['boundingbox']\n",
    "        original_bounding_box = [float(i) for i in original_bounding_box_str]\n",
    "    \n",
    "    if (debug > 2):\n",
    "        print('Original:  ' + street.upper() + \" = \" + str(original_bounding_box))\n",
    "    \n",
    "    # Find way_id list for the name\n",
    "    way_ids = ways_by_name[street.upper()]\n",
    "    \n",
    "    intersection_dict = {}\n",
    "    \n",
    "    # Find every matching street name (possibly in another suburb!)   \n",
    "    loop_counter = 0\n",
    "    \n",
    "    for way_id in way_ids:\n",
    "        # Find every node associated with that street name (including other suburbs)            \n",
    "        for node_id in nodes_per_way[way_id]:\n",
    "            # Check that this street is in the same area (probably the same suburb)\n",
    "            if inside_bounding_box(node_id, original_bounding_box):\n",
    "                # Find every other street the node is associated with                \n",
    "                for way_id2 in ways_per_node[node_id]:\n",
    "                    # Ignore any ways that were clipped from the map\n",
    "                    if way_id2 in ways_by_id:\n",
    "                        # Find the street name for the other potential intersecting street\n",
    "                        intersection_name = ways_by_id[way_id2]\n",
    "                        if intersection_name.upper() != street.upper():                        \n",
    "                            # Check Nominatim service to see if boundary boxes roughly overlap\n",
    "                        \n",
    "                            pot_streets = nominatim_search(intersection_name.upper(), city.upper())\n",
    "                            for pot_street in pot_streets:\n",
    "                                pot_street_bounding_box_str = pot_street['boundingbox']\n",
    "                                pot_street_bounding_box = [float(i) for i in pot_street_bounding_box_str]\n",
    "                            \n",
    "                                if (debug > 2):\n",
    "                                    print('Potential: ' + intersection_name + ' = ' + str(pot_street_bounding_box))\n",
    "                            \n",
    "                                if is_overlapping(original_bounding_box, pot_street_bounding_box):\n",
    "                                    if (debug > 2):\n",
    "                                        print('Matched: ' + intersection_name + ' = ' + str(pot_street_bounding_box) + ' vs ' + str(original_bounding_box))\n",
    "                                    intersection_dict[intersection_name] = [float(node_lat[node_id]), float(node_lon[node_id])]\n",
    "                                    if (debug > 2):\n",
    "                                        print('Trace: ' + str(node_id) + ' ' + intersection_name + ' => ' + str(intersection_dict[intersection_name]))\n",
    "                                loop_counter = loop_counter + 1\n",
    "    \n",
    "    if (debug > 0):\n",
    "        print(str(objectid) + ' ' + street + ' Matching Ways: ' + str(len(way_ids)) + ' loops: ' + str(loop_counter))\n",
    "    \n",
    "    # Transform dictionary into list of key/value pairs\n",
    "    intersection_list = []\n",
    "    \n",
    "    for intersection_name, intersection_details in intersection_dict.items():\n",
    "        intersection_entry = [intersection_name, intersection_details[0], intersection_details[1]]\n",
    "        intersection_list.append(intersection_entry)\n",
    "        \n",
    "    return intersection_list"
   ]
  },
  {
   "cell_type": "markdown",
   "id": "heavy-wilson",
   "metadata": {},
   "source": [
    "Demonstration:  Find intersections for one street"
   ]
  },
  {
   "cell_type": "code",
   "execution_count": 92,
   "id": "concerned-inspection",
   "metadata": {},
   "outputs": [
    {
     "data": {
      "text/plain": [
       "[['HEATHERDALE ROAD', -37.8388277, 145.2132833],\n",
       " ['TULKARA GROVE', -37.8391825, 145.2130727],\n",
       " ['CULBARA DRIVE', -37.8396951, 145.2122922],\n",
       " ['THE MEWS', -37.8407696, 145.2118413]]"
      ]
     },
     "execution_count": 92,
     "metadata": {},
     "output_type": "execute_result"
    }
   ],
   "source": [
    "find_intersections('ABBEY WALK', 'VERMONT', 'VERMONT', 'VERMONT', 0, debug=0)"
   ]
  },
  {
   "cell_type": "markdown",
   "id": "informal-confirmation",
   "metadata": {},
   "source": [
    "Get Google Maps API connection\n",
    "\n",
    "$6.70 AUD per 1000 requests\n",
    "Refs:\n",
    "\n",
    "https://medium.com/future-vision/google-maps-in-python-part-2-393f96196eaf\n",
    "https://developers.google.com/maps/documentation/geocoding/get-api-key\n",
    "https://github.com/pbugnion/gmaps/issues/79"
   ]
  },
  {
   "cell_type": "code",
   "execution_count": 64,
   "id": "devoted-newfoundland",
   "metadata": {},
   "outputs": [],
   "source": [
    "with open('apikey.txt') as f:\n",
    "    api_key = f.readline()\n",
    "    f.close\n",
    "\n",
    "gmaps.configure(api_key=api_key)\n",
    "\n",
    "def mid_coords(lat1, lat2, lon1, lon2):\n",
    "    return ((lat1 + lat2)/2, (lon1 + lon2)/2)"
   ]
  },
  {
   "cell_type": "code",
   "execution_count": 65,
   "id": "sacred-sphere",
   "metadata": {},
   "outputs": [
    {
     "data": {
      "application/vnd.jupyter.widget-view+json": {
       "model_id": "58c0a2eee255418cb50b2fb415bb2db2",
       "version_major": 2,
       "version_minor": 0
      },
      "text/plain": [
       "Figure(layout=FigureLayout(height='420px'))"
      ]
     },
     "metadata": {},
     "output_type": "display_data"
    }
   ],
   "source": [
    "gmaps.figure(center=mid_coords(-37.8423446, -37.8388277, 145.2113893, 145.2132833), zoom_level=14)"
   ]
  },
  {
   "cell_type": "markdown",
   "id": "accurate-completion",
   "metadata": {},
   "source": [
    "## Find distinct [local_street] x [town] combinations in the data"
   ]
  },
  {
   "cell_type": "code",
   "execution_count": 66,
   "id": "existing-protest",
   "metadata": {},
   "outputs": [],
   "source": [
    "# Filter to only include 'Existing' routes\n",
    "pbn_likely1 = pbn_explode[pbn_explode['status']=='Existing']\n",
    "\n",
    "# Filter to only include 'On Road' routes\n",
    "pbn_likely2 = pbn_likely1[pbn_likely1['type']=='On Road']\n",
    "\n",
    "# Filter to exclude 'n/a' streets\n",
    "pbn_likely = pbn_likely2[pbn_likely2['local_street'] != 'n/a']\n",
    "\n",
    "# Get distinct combinations\n",
    "pbn_distinct1 = pbn_likely.groupby(['objectid', 'local_street', 'town', 'suburb', 'city']).size().reset_index().rename(columns={0:'count'})\n",
    "\n",
    "# Get first row per objectid\n",
    "pbn_distinct = pbn_distinct1.groupby('objectid').first().reset_index()"
   ]
  },
  {
   "cell_type": "code",
   "execution_count": 207,
   "id": "primary-toner",
   "metadata": {},
   "outputs": [],
   "source": [
    "# Show a sample\n",
    "pbn_distinct.tail(3)"
   ]
  },
  {
   "cell_type": "markdown",
   "id": "fabulous-sapphire",
   "metadata": {},
   "source": [
    "Find all intersections for each of the 2,125 roads\n",
    "\n",
    "This is sometimes SLOW for a street.  E.g. there are 400x \"ALBERT STREET\" in Victoria,\n",
    "therefore we have to check each occurrence of \"ALBERT STREET\" in the dataset to EVERY\n",
    "street that intersects ANY \"ALBERT STREET\" in Victoria.  And we need to call the Nominatim\n",
    "web service to get the bounding box for each street involved."
   ]
  },
  {
   "cell_type": "code",
   "execution_count": 157,
   "id": "massive-transformation",
   "metadata": {},
   "outputs": [
    {
     "name": "stdout",
     "output_type": "stream",
     "text": [
      "2021-08-12 13:36:13.991911 START - Find all intersections\n"
     ]
    },
    {
     "data": {
      "application/vnd.jupyter.widget-view+json": {
       "model_id": "5385d144f0d7476ebed62e072c44115b",
       "version_major": 2,
       "version_minor": 0
      },
      "text/plain": [
       "  0%|          | 0/6 [00:00<?, ?it/s]"
      ]
     },
     "metadata": {},
     "output_type": "display_data"
    },
    {
     "name": "stdout",
     "output_type": "stream",
     "text": [
      "616 HYDE STREET Matching Ways: 38 loops: 407\n",
      "767 HYDE STREET Matching Ways: 38 loops: 407\n",
      "775 HYDE STREET Matching Ways: 38 loops: 407\n",
      "783 HYDE STREET Matching Ways: 38 loops: 407\n",
      "931 HYDE STREET Matching Ways: 38 loops: 407\n",
      "965 HIGH STREET Matching Ways: 1227 loops: 2044\n",
      "2021-08-12 13:36:14.766731 END   - Find all intersections(0.77482)\n",
      "[['FRANCIS STREET', -37.8218002, 144.8958597], ['BUNBURY STREET', -37.802393, 144.902391], ['SOMERVILLE ROAD', -37.8143847, 144.8971759], ['NICHOLSON STREET', -37.8130359, 144.8974037], ['NAPIER STREET', -37.8043721, 144.9013761], ['LAWSON PLACE', -37.8053109, 144.9009415], ['PARKER STREET', -37.8062754, 144.9004949], ['BRISTOW STREET', -37.8069312, 144.9001913], ['PRINCESS STREET', -37.8107707, 144.898412], ['HARRIS STREET', -37.8112324, 144.8981981], ['BERRY STREET', -37.8118006, 144.8979348], ['LYONS STREET', -37.8084568, 144.8994861], ['GLOBE STREET', -37.8223414, 144.8957649], ['VOCKLER STREET', -37.8228866, 144.8956667], ['STONY CREEK WALK', -37.8247498, 144.8953386], ['HYDE STREET OFFRAMP', -37.8264485, 144.8950395], ['DOUGLAS PARADE', -37.826817, 144.8949746], ['KNOX STREET', -37.8152418, 144.8970302], ['HALL STREET', -37.8159693, 144.8969072], ['LENNOX STREET', -37.8162836, 144.8968438], ['SCHILD STREET', -37.8172032, 144.8966674], ['LEEK STREET', -37.8173196, 144.8966478], ['YORK STREET', -37.8184112, 144.8964669], ['EARSDON STREET', -37.8184112, 144.8964669], ['FREDERICK STREET', -37.8195672, 144.8962592], ['LITTLE HYDE STREET', -37.8200248, 144.896177], ['KENT STREET', -37.8202145, 144.8961416], ['TALBOT STREET', -37.801886, 144.902662]]\n"
     ]
    }
   ],
   "source": [
    "log_starting('Find all intersections')\n",
    "\n",
    "tqdm.pandas()\n",
    "\n",
    "pbn_sample = pbn_distinct[:6].copy()\n",
    "pbn_sample.loc[:, 'intersections'] = pbn_sample.progress_apply(lambda x: find_intersections(x['local_street'], x['town'], x['suburb'], x['city'], objectid=x['objectid'], debug=1), axis=1)\n",
    "\n",
    "\n",
    "log_finished('Find all intersections')\n",
    "\n",
    "pbn_sample.head()\n",
    "print(pbn_sample['intersections'][0])"
   ]
  },
  {
   "cell_type": "code",
   "execution_count": 165,
   "id": "behind-ceiling",
   "metadata": {},
   "outputs": [
    {
     "data": {
      "text/html": [
       "<div>\n",
       "<style scoped>\n",
       "    .dataframe tbody tr th:only-of-type {\n",
       "        vertical-align: middle;\n",
       "    }\n",
       "\n",
       "    .dataframe tbody tr th {\n",
       "        vertical-align: top;\n",
       "    }\n",
       "\n",
       "    .dataframe thead th {\n",
       "        text-align: right;\n",
       "    }\n",
       "</style>\n",
       "<table border=\"1\" class=\"dataframe\">\n",
       "  <thead>\n",
       "    <tr style=\"text-align: right;\">\n",
       "      <th></th>\n",
       "      <th>objectid</th>\n",
       "      <th>local_street</th>\n",
       "      <th>town</th>\n",
       "      <th>suburb</th>\n",
       "      <th>city</th>\n",
       "      <th>count</th>\n",
       "      <th>intersections</th>\n",
       "    </tr>\n",
       "  </thead>\n",
       "  <tbody>\n",
       "    <tr>\n",
       "      <th>0</th>\n",
       "      <td>616</td>\n",
       "      <td>HYDE STREET</td>\n",
       "      <td>Seddon</td>\n",
       "      <td>Footscray</td>\n",
       "      <td>Melbourne</td>\n",
       "      <td>1</td>\n",
       "      <td>[[FRANCIS STREET, -37.8218002, 144.8958597], [BUNBURY STREET, -37.802393, 144.902391], [SOMERVIL...</td>\n",
       "    </tr>\n",
       "    <tr>\n",
       "      <th>1</th>\n",
       "      <td>767</td>\n",
       "      <td>HYDE STREET</td>\n",
       "      <td>Seddon</td>\n",
       "      <td>Footscray</td>\n",
       "      <td>Melbourne</td>\n",
       "      <td>1</td>\n",
       "      <td>[[FRANCIS STREET, -37.8218002, 144.8958597], [BUNBURY STREET, -37.802393, 144.902391], [SOMERVIL...</td>\n",
       "    </tr>\n",
       "    <tr>\n",
       "      <th>2</th>\n",
       "      <td>775</td>\n",
       "      <td>HYDE STREET</td>\n",
       "      <td>Seddon</td>\n",
       "      <td>Footscray</td>\n",
       "      <td>Melbourne</td>\n",
       "      <td>2</td>\n",
       "      <td>[[FRANCIS STREET, -37.8218002, 144.8958597], [BUNBURY STREET, -37.802393, 144.902391], [SOMERVIL...</td>\n",
       "    </tr>\n",
       "    <tr>\n",
       "      <th>3</th>\n",
       "      <td>783</td>\n",
       "      <td>HYDE STREET</td>\n",
       "      <td>Seddon</td>\n",
       "      <td>Footscray</td>\n",
       "      <td>Melbourne</td>\n",
       "      <td>1</td>\n",
       "      <td>[[FRANCIS STREET, -37.8218002, 144.8958597], [BUNBURY STREET, -37.802393, 144.902391], [SOMERVIL...</td>\n",
       "    </tr>\n",
       "    <tr>\n",
       "      <th>4</th>\n",
       "      <td>931</td>\n",
       "      <td>HYDE STREET</td>\n",
       "      <td>Footscray</td>\n",
       "      <td>Footscray</td>\n",
       "      <td>Melbourne</td>\n",
       "      <td>1</td>\n",
       "      <td>[[FRANCIS STREET, -37.8218002, 144.8958597], [BUNBURY STREET, -37.802393, 144.902391], [SOMERVIL...</td>\n",
       "    </tr>\n",
       "  </tbody>\n",
       "</table>\n",
       "</div>"
      ],
      "text/plain": [
       "   objectid local_street       town     suburb       city  count  \\\n",
       "0       616  HYDE STREET     Seddon  Footscray  Melbourne      1   \n",
       "1       767  HYDE STREET     Seddon  Footscray  Melbourne      1   \n",
       "2       775  HYDE STREET     Seddon  Footscray  Melbourne      2   \n",
       "3       783  HYDE STREET     Seddon  Footscray  Melbourne      1   \n",
       "4       931  HYDE STREET  Footscray  Footscray  Melbourne      1   \n",
       "\n",
       "                                                                                         intersections  \n",
       "0  [[FRANCIS STREET, -37.8218002, 144.8958597], [BUNBURY STREET, -37.802393, 144.902391], [SOMERVIL...  \n",
       "1  [[FRANCIS STREET, -37.8218002, 144.8958597], [BUNBURY STREET, -37.802393, 144.902391], [SOMERVIL...  \n",
       "2  [[FRANCIS STREET, -37.8218002, 144.8958597], [BUNBURY STREET, -37.802393, 144.902391], [SOMERVIL...  \n",
       "3  [[FRANCIS STREET, -37.8218002, 144.8958597], [BUNBURY STREET, -37.802393, 144.902391], [SOMERVIL...  \n",
       "4  [[FRANCIS STREET, -37.8218002, 144.8958597], [BUNBURY STREET, -37.802393, 144.902391], [SOMERVIL...  "
      ]
     },
     "execution_count": 165,
     "metadata": {},
     "output_type": "execute_result"
    }
   ],
   "source": [
    "pbn_sample.head()"
   ]
  },
  {
   "cell_type": "code",
   "execution_count": 166,
   "id": "miniature-crawford",
   "metadata": {},
   "outputs": [
    {
     "name": "stdout",
     "output_type": "stream",
     "text": [
      "2021-08-12 13:46:36.884861 START - Find all intersections\n"
     ]
    },
    {
     "data": {
      "application/vnd.jupyter.widget-view+json": {
       "model_id": "7b8d61f703f84ef79275bd0ee2de020f",
       "version_major": 2,
       "version_minor": 0
      },
      "text/plain": [
       "  0%|          | 0/16269 [00:00<?, ?it/s]"
      ]
     },
     "metadata": {},
     "output_type": "display_data"
    },
    {
     "name": "stdout",
     "output_type": "stream",
     "text": [
      "2021-08-12 13:50:55.425615 END   - Find all intersections(258.540754)\n"
     ]
    }
   ],
   "source": [
    "log_starting('Find all intersections')\n",
    "\n",
    "tqdm.pandas()\n",
    "\n",
    "pbn_full = pbn_distinct.copy()\n",
    "pbn_full['intersections'] = pbn_full.progress_apply(lambda x: find_intersections(x['local_street'], x['town'], x['suburb'], x['city'], objectid=x['objectid']), axis=1)\n",
    "\n",
    "log_finished('Find all intersections')"
   ]
  },
  {
   "cell_type": "code",
   "execution_count": 167,
   "id": "forced-estate",
   "metadata": {},
   "outputs": [
    {
     "data": {
      "text/html": [
       "<div>\n",
       "<style scoped>\n",
       "    .dataframe tbody tr th:only-of-type {\n",
       "        vertical-align: middle;\n",
       "    }\n",
       "\n",
       "    .dataframe tbody tr th {\n",
       "        vertical-align: top;\n",
       "    }\n",
       "\n",
       "    .dataframe thead th {\n",
       "        text-align: right;\n",
       "    }\n",
       "</style>\n",
       "<table border=\"1\" class=\"dataframe\">\n",
       "  <thead>\n",
       "    <tr style=\"text-align: right;\">\n",
       "      <th></th>\n",
       "      <th>objectid</th>\n",
       "      <th>local_street</th>\n",
       "      <th>town</th>\n",
       "      <th>suburb</th>\n",
       "      <th>city</th>\n",
       "      <th>count</th>\n",
       "      <th>intersections</th>\n",
       "    </tr>\n",
       "  </thead>\n",
       "  <tbody>\n",
       "    <tr>\n",
       "      <th>0</th>\n",
       "      <td>616</td>\n",
       "      <td>HYDE STREET</td>\n",
       "      <td>Seddon</td>\n",
       "      <td>Footscray</td>\n",
       "      <td>Melbourne</td>\n",
       "      <td>1</td>\n",
       "      <td>[[FRANCIS STREET, -37.8218002, 144.8958597], [BUNBURY STREET, -37.802393, 144.902391], [SOMERVIL...</td>\n",
       "    </tr>\n",
       "    <tr>\n",
       "      <th>1</th>\n",
       "      <td>767</td>\n",
       "      <td>HYDE STREET</td>\n",
       "      <td>Seddon</td>\n",
       "      <td>Footscray</td>\n",
       "      <td>Melbourne</td>\n",
       "      <td>1</td>\n",
       "      <td>[[FRANCIS STREET, -37.8218002, 144.8958597], [BUNBURY STREET, -37.802393, 144.902391], [SOMERVIL...</td>\n",
       "    </tr>\n",
       "    <tr>\n",
       "      <th>2</th>\n",
       "      <td>775</td>\n",
       "      <td>HYDE STREET</td>\n",
       "      <td>Seddon</td>\n",
       "      <td>Footscray</td>\n",
       "      <td>Melbourne</td>\n",
       "      <td>2</td>\n",
       "      <td>[[FRANCIS STREET, -37.8218002, 144.8958597], [BUNBURY STREET, -37.802393, 144.902391], [SOMERVIL...</td>\n",
       "    </tr>\n",
       "    <tr>\n",
       "      <th>3</th>\n",
       "      <td>783</td>\n",
       "      <td>HYDE STREET</td>\n",
       "      <td>Seddon</td>\n",
       "      <td>Footscray</td>\n",
       "      <td>Melbourne</td>\n",
       "      <td>1</td>\n",
       "      <td>[[FRANCIS STREET, -37.8218002, 144.8958597], [BUNBURY STREET, -37.802393, 144.902391], [SOMERVIL...</td>\n",
       "    </tr>\n",
       "    <tr>\n",
       "      <th>4</th>\n",
       "      <td>931</td>\n",
       "      <td>HYDE STREET</td>\n",
       "      <td>Footscray</td>\n",
       "      <td>Footscray</td>\n",
       "      <td>Melbourne</td>\n",
       "      <td>1</td>\n",
       "      <td>[[FRANCIS STREET, -37.8218002, 144.8958597], [BUNBURY STREET, -37.802393, 144.902391], [SOMERVIL...</td>\n",
       "    </tr>\n",
       "  </tbody>\n",
       "</table>\n",
       "</div>"
      ],
      "text/plain": [
       "   objectid local_street       town     suburb       city  count  \\\n",
       "0       616  HYDE STREET     Seddon  Footscray  Melbourne      1   \n",
       "1       767  HYDE STREET     Seddon  Footscray  Melbourne      1   \n",
       "2       775  HYDE STREET     Seddon  Footscray  Melbourne      2   \n",
       "3       783  HYDE STREET     Seddon  Footscray  Melbourne      1   \n",
       "4       931  HYDE STREET  Footscray  Footscray  Melbourne      1   \n",
       "\n",
       "                                                                                         intersections  \n",
       "0  [[FRANCIS STREET, -37.8218002, 144.8958597], [BUNBURY STREET, -37.802393, 144.902391], [SOMERVIL...  \n",
       "1  [[FRANCIS STREET, -37.8218002, 144.8958597], [BUNBURY STREET, -37.802393, 144.902391], [SOMERVIL...  \n",
       "2  [[FRANCIS STREET, -37.8218002, 144.8958597], [BUNBURY STREET, -37.802393, 144.902391], [SOMERVIL...  \n",
       "3  [[FRANCIS STREET, -37.8218002, 144.8958597], [BUNBURY STREET, -37.802393, 144.902391], [SOMERVIL...  \n",
       "4  [[FRANCIS STREET, -37.8218002, 144.8958597], [BUNBURY STREET, -37.802393, 144.902391], [SOMERVIL...  "
      ]
     },
     "execution_count": 167,
     "metadata": {},
     "output_type": "execute_result"
    }
   ],
   "source": [
    "pbn_full.head(5)\n",
    "\n"
   ]
  },
  {
   "cell_type": "code",
   "execution_count": 168,
   "id": "durable-kazakhstan",
   "metadata": {},
   "outputs": [
    {
     "name": "stdout",
     "output_type": "stream",
     "text": [
      "2021-08-12 13:53:10.978528 START - Save geocoded PBN dataset\n",
      "2021-08-12 13:53:12.033512 END   - Save geocoded PBN dataset(1.054984)\n"
     ]
    }
   ],
   "source": [
    "log_starting('Save geocoded PBN dataset')\n",
    "\n",
    "pbn_full.to_csv('pbn_intersections.csv')\n",
    "\n",
    "log_finished('Save geocoded PBN dataset')"
   ]
  },
  {
   "cell_type": "code",
   "execution_count": 169,
   "id": "verbal-measurement",
   "metadata": {},
   "outputs": [
    {
     "data": {
      "text/plain": [
       "[['GARLICK AVENUE', -38.1441314, 144.3252059],\n",
       " ['DEVIATION ROAD', -38.1440195, 144.3242695],\n",
       " ['GAYLARD AVENUE', -38.1440195, 144.3242695],\n",
       " ['SHELLEY AVENUE', -38.1444743, 144.3280753],\n",
       " ['LANCASTER AVENUE', -38.1443603, 144.3271211],\n",
       " ['WARWICK STREET', -38.1442465, 144.3261692],\n",
       " ['MCNICOL STREET', -38.147204, 144.351441],\n",
       " ['PAKINGTON STREET', -38.1467378, 144.3471356],\n",
       " ['COQUETTE STREET', -38.1463881, 144.3441454],\n",
       " ['ST JAMES STREET', -38.1460828, 144.3415348],\n",
       " ['CUMBERLAND STREET', -38.1460585, 144.341327],\n",
       " ['BENDIGO STREET', -38.1459284, 144.3402153],\n",
       " ['EUREKA STREET', -38.1458362, 144.3394268],\n",
       " ['GEORGE STREET', -38.1457103, 144.3383503],\n",
       " ['SHANNON AVENUE', -38.1453737, 144.3354723],\n",
       " ['CHURCHILL AVENUE', -38.1448699, 144.3313519],\n",
       " ['SILK AVENUE', -38.1449884, 144.3323193],\n",
       " ['COLLEGE COURT', -38.1448131, 144.3308891],\n",
       " ['MINERVA ROAD', -38.1445919, 144.3290786],\n",
       " ['EMERALD STREET', -38.1471373, 144.3505146],\n",
       " ['CORONATION STREET', -38.1470641, 144.3498958],\n",
       " ['LA TROBE TERRACE', -38.1473387, 144.352629]]"
      ]
     },
     "execution_count": 169,
     "metadata": {},
     "output_type": "execute_result"
    }
   ],
   "source": [
    "find_intersections('ABERDEEN STREET', 'Fyansford', 'Geelong', 'Geelong', debug=0)"
   ]
  },
  {
   "cell_type": "code",
   "execution_count": 170,
   "id": "champion-color",
   "metadata": {},
   "outputs": [
    {
     "data": {
      "text/plain": [
       "[['BELLBIRD ROAD', -38.1990811, 145.1044224],\n",
       " ['MATHER ROAD', -38.1959845, 145.1040959],\n",
       " ['RYLSTON COURT', -38.1940608, 145.1046181],\n",
       " ['ESME COURT', -38.192864, 145.1043193],\n",
       " ['WALKERS ROAD', -38.1894195, 145.1037342]]"
      ]
     },
     "execution_count": 170,
     "metadata": {},
     "output_type": "execute_result"
    }
   ],
   "source": [
    "find_intersections('MILLBANK DRIVE', 'MOUNT ELIZA', 'MOUNT ELIZA', 'MOUNT ELIZA', debug=0)"
   ]
  },
  {
   "cell_type": "code",
   "execution_count": 184,
   "id": "detected-shirt",
   "metadata": {},
   "outputs": [
    {
     "data": {
      "text/plain": [
       "[210, 26366.064370313623, -37.99340425354793, 145.25487585849666]"
      ]
     },
     "execution_count": 184,
     "metadata": {},
     "output_type": "execute_result"
    }
   ],
   "source": [
    "def find_bearing_and_distance(objectid, intersection):\n",
    "    if type(intersection) != list:\n",
    "        return None\n",
    "    \n",
    "    lat = intersection[1]\n",
    "    lon = intersection[2]\n",
    "    \n",
    "    #print('int type: ' + str(type(intersection)) + ' value: ' + str(intersection))\n",
    "    #print('lat type: ' + str(type(lat)) + ' value: ' + str(lat))\n",
    "    #print('lon type: ' + str(type(lon)) + ' value: ' + str(lat))\n",
    "    \n",
    "    row = pbn[pbn['objectid']==objectid]\n",
    "    \n",
    "    gs = row['geometry']\n",
    "    \n",
    "    # Flatten into list of coordinates\n",
    "    coords_list = []\n",
    "    \n",
    "    for g in gs:\n",
    "        if type(g) is LineString:\n",
    "            for xy in g.coords:\n",
    "                coords_list.append((xy[1], xy[0]))\n",
    "        elif type(g) is MultiLineString:\n",
    "            for ls in g:\n",
    "                for xy in ls.coords:\n",
    "                    coords_list.append((xy[1], xy[0]))\n",
    "    \n",
    "    # Find the index of the closest point, and the distance in metres\n",
    "    coords_this  = (lat, lon)\n",
    "    \n",
    "    min_distance = 20000000\n",
    "    min_i        = -1\n",
    "    \n",
    "    for i in range(len(coords_list)):\n",
    "        distance = geopy.distance.distance(coords_this, coords_list[i]).m\n",
    "        \n",
    "        if distance < min_distance:\n",
    "            min_distance = distance\n",
    "            min_i        = i\n",
    "\n",
    "    # Get bearing to previous and next point (if applicable)\n",
    "    if i > 0:\n",
    "        coords_prev = coords_list[i-1]\n",
    "        bearing_prev = Geodesic.WGS84.Inverse(coords_prev[0], coords_prev[1], lat, lon)['azi1']\n",
    "        if bearing_prev < 0:\n",
    "            bearing_prev = bearing_prev + 360\n",
    "    else:\n",
    "        bearing_prev = None\n",
    "        \n",
    "    if i < len(coords_list)-1:\n",
    "        coords_next = coords_list[i+1]\n",
    "        bearing_next = Geodesic.WGS84.Inverse(lat, lon, coords_next[0], coords_next[1])['azi1']\n",
    "        if bearing_next < 0:\n",
    "            bearing_next = bearing_next + 360\n",
    "    else:\n",
    "        bearing_next = None\n",
    "        \n",
    "    if   bearing_prev is None and bearing_next is not None:\n",
    "        bearing = round(bearing_next)\n",
    "    elif bearing_next is None and bearing_prev is not None:\n",
    "        bearing = round(bearing_prev)\n",
    "    else:\n",
    "        bearing = round((bearing_prev + bearing_next) / 2)\n",
    "    \n",
    "    # Return a list:\n",
    "    # 0: Bearing\n",
    "    # 1: Distance to closest point\n",
    "    # 2: Coordinates (lat, lon) of closest point\n",
    "    \n",
    "    return [bearing, min_distance, coords_list[i][0], coords_list[i][1]]\n",
    "\n",
    "\n",
    "find_bearing_and_distance(1, [0, -38.1990811, 145.1044225])"
   ]
  },
  {
   "cell_type": "code",
   "execution_count": 172,
   "id": "relative-collaboration",
   "metadata": {},
   "outputs": [],
   "source": [
    "pbn_sample2 = pbn_sample.explode('intersections')"
   ]
  },
  {
   "cell_type": "code",
   "execution_count": 173,
   "id": "pleasant-ridge",
   "metadata": {},
   "outputs": [
    {
     "data": {
      "text/html": [
       "<div>\n",
       "<style scoped>\n",
       "    .dataframe tbody tr th:only-of-type {\n",
       "        vertical-align: middle;\n",
       "    }\n",
       "\n",
       "    .dataframe tbody tr th {\n",
       "        vertical-align: top;\n",
       "    }\n",
       "\n",
       "    .dataframe thead th {\n",
       "        text-align: right;\n",
       "    }\n",
       "</style>\n",
       "<table border=\"1\" class=\"dataframe\">\n",
       "  <thead>\n",
       "    <tr style=\"text-align: right;\">\n",
       "      <th></th>\n",
       "      <th>objectid</th>\n",
       "      <th>local_street</th>\n",
       "      <th>town</th>\n",
       "      <th>suburb</th>\n",
       "      <th>city</th>\n",
       "      <th>count</th>\n",
       "      <th>intersections</th>\n",
       "    </tr>\n",
       "  </thead>\n",
       "  <tbody>\n",
       "    <tr>\n",
       "      <th>0</th>\n",
       "      <td>616</td>\n",
       "      <td>HYDE STREET</td>\n",
       "      <td>Seddon</td>\n",
       "      <td>Footscray</td>\n",
       "      <td>Melbourne</td>\n",
       "      <td>1</td>\n",
       "      <td>[FRANCIS STREET, -37.8218002, 144.8958597]</td>\n",
       "    </tr>\n",
       "    <tr>\n",
       "      <th>0</th>\n",
       "      <td>616</td>\n",
       "      <td>HYDE STREET</td>\n",
       "      <td>Seddon</td>\n",
       "      <td>Footscray</td>\n",
       "      <td>Melbourne</td>\n",
       "      <td>1</td>\n",
       "      <td>[BUNBURY STREET, -37.802393, 144.902391]</td>\n",
       "    </tr>\n",
       "    <tr>\n",
       "      <th>0</th>\n",
       "      <td>616</td>\n",
       "      <td>HYDE STREET</td>\n",
       "      <td>Seddon</td>\n",
       "      <td>Footscray</td>\n",
       "      <td>Melbourne</td>\n",
       "      <td>1</td>\n",
       "      <td>[SOMERVILLE ROAD, -37.8143847, 144.8971759]</td>\n",
       "    </tr>\n",
       "    <tr>\n",
       "      <th>0</th>\n",
       "      <td>616</td>\n",
       "      <td>HYDE STREET</td>\n",
       "      <td>Seddon</td>\n",
       "      <td>Footscray</td>\n",
       "      <td>Melbourne</td>\n",
       "      <td>1</td>\n",
       "      <td>[NICHOLSON STREET, -37.8130359, 144.8974037]</td>\n",
       "    </tr>\n",
       "    <tr>\n",
       "      <th>0</th>\n",
       "      <td>616</td>\n",
       "      <td>HYDE STREET</td>\n",
       "      <td>Seddon</td>\n",
       "      <td>Footscray</td>\n",
       "      <td>Melbourne</td>\n",
       "      <td>1</td>\n",
       "      <td>[NAPIER STREET, -37.8043721, 144.9013761]</td>\n",
       "    </tr>\n",
       "  </tbody>\n",
       "</table>\n",
       "</div>"
      ],
      "text/plain": [
       "   objectid local_street    town     suburb       city  count  \\\n",
       "0       616  HYDE STREET  Seddon  Footscray  Melbourne      1   \n",
       "0       616  HYDE STREET  Seddon  Footscray  Melbourne      1   \n",
       "0       616  HYDE STREET  Seddon  Footscray  Melbourne      1   \n",
       "0       616  HYDE STREET  Seddon  Footscray  Melbourne      1   \n",
       "0       616  HYDE STREET  Seddon  Footscray  Melbourne      1   \n",
       "\n",
       "                                  intersections  \n",
       "0    [FRANCIS STREET, -37.8218002, 144.8958597]  \n",
       "0      [BUNBURY STREET, -37.802393, 144.902391]  \n",
       "0   [SOMERVILLE ROAD, -37.8143847, 144.8971759]  \n",
       "0  [NICHOLSON STREET, -37.8130359, 144.8974037]  \n",
       "0     [NAPIER STREET, -37.8043721, 144.9013761]  "
      ]
     },
     "execution_count": 173,
     "metadata": {},
     "output_type": "execute_result"
    }
   ],
   "source": [
    "pbn_sample2.head()"
   ]
  },
  {
   "cell_type": "code",
   "execution_count": 174,
   "id": "unnecessary-vancouver",
   "metadata": {
    "scrolled": false
   },
   "outputs": [
    {
     "name": "stdout",
     "output_type": "stream",
     "text": [
      "2021-08-12 13:53:56.637425 START - Find bearings\n"
     ]
    },
    {
     "data": {
      "application/vnd.jupyter.widget-view+json": {
       "model_id": "912a15db456b420da36e5eb5c3f347f3",
       "version_major": 2,
       "version_minor": 0
      },
      "text/plain": [
       "  0%|          | 0/266 [00:00<?, ?it/s]"
      ]
     },
     "metadata": {},
     "output_type": "display_data"
    },
    {
     "name": "stdout",
     "output_type": "stream",
     "text": [
      "2021-08-12 13:54:00.984927 END   - Find bearings(4.347502)\n"
     ]
    },
    {
     "data": {
      "text/html": [
       "<div>\n",
       "<style scoped>\n",
       "    .dataframe tbody tr th:only-of-type {\n",
       "        vertical-align: middle;\n",
       "    }\n",
       "\n",
       "    .dataframe tbody tr th {\n",
       "        vertical-align: top;\n",
       "    }\n",
       "\n",
       "    .dataframe thead th {\n",
       "        text-align: right;\n",
       "    }\n",
       "</style>\n",
       "<table border=\"1\" class=\"dataframe\">\n",
       "  <thead>\n",
       "    <tr style=\"text-align: right;\">\n",
       "      <th></th>\n",
       "      <th>objectid</th>\n",
       "      <th>local_street</th>\n",
       "      <th>town</th>\n",
       "      <th>suburb</th>\n",
       "      <th>city</th>\n",
       "      <th>count</th>\n",
       "      <th>intersections</th>\n",
       "      <th>bearings</th>\n",
       "    </tr>\n",
       "  </thead>\n",
       "  <tbody>\n",
       "    <tr>\n",
       "      <th>0</th>\n",
       "      <td>616</td>\n",
       "      <td>HYDE STREET</td>\n",
       "      <td>Seddon</td>\n",
       "      <td>Footscray</td>\n",
       "      <td>Melbourne</td>\n",
       "      <td>1</td>\n",
       "      <td>[FRANCIS STREET, -37.8218002, 144.8958597]</td>\n",
       "      <td>[193, 1520.9769161975325, -37.80841519742836, 144.89956141926396]</td>\n",
       "    </tr>\n",
       "    <tr>\n",
       "      <th>0</th>\n",
       "      <td>616</td>\n",
       "      <td>HYDE STREET</td>\n",
       "      <td>Seddon</td>\n",
       "      <td>Footscray</td>\n",
       "      <td>Melbourne</td>\n",
       "      <td>1</td>\n",
       "      <td>[BUNBURY STREET, -37.802393, 144.902391]</td>\n",
       "      <td>[21, 541.1451130164029, -37.80841519742836, 144.89956141926396]</td>\n",
       "    </tr>\n",
       "    <tr>\n",
       "      <th>0</th>\n",
       "      <td>616</td>\n",
       "      <td>HYDE STREET</td>\n",
       "      <td>Seddon</td>\n",
       "      <td>Footscray</td>\n",
       "      <td>Melbourne</td>\n",
       "      <td>1</td>\n",
       "      <td>[SOMERVILLE ROAD, -37.8143847, 144.8971759]</td>\n",
       "      <td>[198, 695.0741707977384, -37.80841519742836, 144.89956141926396]</td>\n",
       "    </tr>\n",
       "    <tr>\n",
       "      <th>0</th>\n",
       "      <td>616</td>\n",
       "      <td>HYDE STREET</td>\n",
       "      <td>Seddon</td>\n",
       "      <td>Footscray</td>\n",
       "      <td>Melbourne</td>\n",
       "      <td>1</td>\n",
       "      <td>[NICHOLSON STREET, -37.8130359, 144.8974037]</td>\n",
       "      <td>[200, 546.9297445837417, -37.80841519742836, 144.89956141926396]</td>\n",
       "    </tr>\n",
       "    <tr>\n",
       "      <th>0</th>\n",
       "      <td>616</td>\n",
       "      <td>HYDE STREET</td>\n",
       "      <td>Seddon</td>\n",
       "      <td>Footscray</td>\n",
       "      <td>Melbourne</td>\n",
       "      <td>1</td>\n",
       "      <td>[NAPIER STREET, -37.8043721, 144.9013761]</td>\n",
       "      <td>[19, 304.14867789262314, -37.80841519742836, 144.89956141926396]</td>\n",
       "    </tr>\n",
       "  </tbody>\n",
       "</table>\n",
       "</div>"
      ],
      "text/plain": [
       "   objectid local_street    town     suburb       city  count  \\\n",
       "0       616  HYDE STREET  Seddon  Footscray  Melbourne      1   \n",
       "0       616  HYDE STREET  Seddon  Footscray  Melbourne      1   \n",
       "0       616  HYDE STREET  Seddon  Footscray  Melbourne      1   \n",
       "0       616  HYDE STREET  Seddon  Footscray  Melbourne      1   \n",
       "0       616  HYDE STREET  Seddon  Footscray  Melbourne      1   \n",
       "\n",
       "                                  intersections  \\\n",
       "0    [FRANCIS STREET, -37.8218002, 144.8958597]   \n",
       "0      [BUNBURY STREET, -37.802393, 144.902391]   \n",
       "0   [SOMERVILLE ROAD, -37.8143847, 144.8971759]   \n",
       "0  [NICHOLSON STREET, -37.8130359, 144.8974037]   \n",
       "0     [NAPIER STREET, -37.8043721, 144.9013761]   \n",
       "\n",
       "                                                            bearings  \n",
       "0  [193, 1520.9769161975325, -37.80841519742836, 144.89956141926396]  \n",
       "0    [21, 541.1451130164029, -37.80841519742836, 144.89956141926396]  \n",
       "0   [198, 695.0741707977384, -37.80841519742836, 144.89956141926396]  \n",
       "0   [200, 546.9297445837417, -37.80841519742836, 144.89956141926396]  \n",
       "0   [19, 304.14867789262314, -37.80841519742836, 144.89956141926396]  "
      ]
     },
     "execution_count": 174,
     "metadata": {},
     "output_type": "execute_result"
    }
   ],
   "source": [
    "log_starting('Find bearings')\n",
    "\n",
    "tqdm.pandas()\n",
    "\n",
    "pbn_sample3 = pbn_sample2.copy()\n",
    "pbn_sample3.loc[:, 'bearings'] = pbn_sample3.progress_apply(lambda x: \\\n",
    "    find_bearing_and_distance(x['objectid'], x['intersections']), axis=1)\n",
    "\n",
    "log_finished('Find bearings')\n",
    "\n",
    "pbn_sample3.head()\n",
    "#print(pbn_sample3['bearings'][0])\n"
   ]
  },
  {
   "cell_type": "code",
   "execution_count": 175,
   "id": "prescribed-pleasure",
   "metadata": {},
   "outputs": [
    {
     "name": "stdout",
     "output_type": "stream",
     "text": [
      "0    [193, 1520.9769161975325, -37.80841519742836, 144.89956141926396]\n",
      "0      [21, 541.1451130164029, -37.80841519742836, 144.89956141926396]\n",
      "0     [198, 695.0741707977384, -37.80841519742836, 144.89956141926396]\n",
      "0     [200, 546.9297445837417, -37.80841519742836, 144.89956141926396]\n",
      "0     [19, 304.14867789262314, -37.80841519742836, 144.89956141926396]\n",
      "                                   ...                                \n",
      "5       [7, 3925.3388822316383, -37.77161492986355, 144.9985490516961]\n",
      "5        [7, 3784.882748296061, -37.77161492986355, 144.9985490516961]\n",
      "5       [7, 3755.3374275927204, -37.77161492986355, 144.9985490516961]\n",
      "5     [189, 1179.9334016528824, -37.77161492986355, 144.9985490516961]\n",
      "5       [190, 1451.79207173655, -37.77161492986355, 144.9985490516961]\n",
      "Name: bearings, Length: 266, dtype: object\n"
     ]
    }
   ],
   "source": [
    "pd.set_option('display.max_colwidth', 100)\n",
    "print(pbn_sample3['bearings'])"
   ]
  },
  {
   "cell_type": "code",
   "execution_count": 176,
   "id": "collect-array",
   "metadata": {
    "scrolled": false
   },
   "outputs": [
    {
     "data": {
      "text/plain": [
       "[['FRANCIS STREET', -37.8218002, 144.8958597],\n",
       " ['BUNBURY STREET', -37.802393, 144.902391],\n",
       " ['SOMERVILLE ROAD', -37.8143847, 144.8971759],\n",
       " ['NICHOLSON STREET', -37.8130359, 144.8974037],\n",
       " ['NAPIER STREET', -37.8043721, 144.9013761],\n",
       " ['LAWSON PLACE', -37.8053109, 144.9009415],\n",
       " ['PARKER STREET', -37.8062754, 144.9004949],\n",
       " ['BRISTOW STREET', -37.8069312, 144.9001913],\n",
       " ['PRINCESS STREET', -37.8107707, 144.898412],\n",
       " ['HARRIS STREET', -37.8112324, 144.8981981],\n",
       " ['BERRY STREET', -37.8118006, 144.8979348],\n",
       " ['LYONS STREET', -37.8084568, 144.8994861],\n",
       " ['GLOBE STREET', -37.8223414, 144.8957649],\n",
       " ['VOCKLER STREET', -37.8228866, 144.8956667],\n",
       " ['STONY CREEK WALK', -37.8247498, 144.8953386],\n",
       " ['HYDE STREET OFFRAMP', -37.8264485, 144.8950395],\n",
       " ['DOUGLAS PARADE', -37.826817, 144.8949746],\n",
       " ['KNOX STREET', -37.8152418, 144.8970302],\n",
       " ['HALL STREET', -37.8159693, 144.8969072],\n",
       " ['LENNOX STREET', -37.8162836, 144.8968438],\n",
       " ['SCHILD STREET', -37.8172032, 144.8966674],\n",
       " ['LEEK STREET', -37.8173196, 144.8966478],\n",
       " ['YORK STREET', -37.8184112, 144.8964669],\n",
       " ['EARSDON STREET', -37.8184112, 144.8964669],\n",
       " ['FREDERICK STREET', -37.8195672, 144.8962592],\n",
       " ['LITTLE HYDE STREET', -37.8200248, 144.896177],\n",
       " ['KENT STREET', -37.8202145, 144.8961416],\n",
       " ['TALBOT STREET', -37.801886, 144.902662]]"
      ]
     },
     "execution_count": 176,
     "metadata": {},
     "output_type": "execute_result"
    }
   ],
   "source": [
    "find_intersections('HYDE STREET', 'Seddon', 'Footscray', 'Melbourne', 616, debug=0)"
   ]
  },
  {
   "cell_type": "code",
   "execution_count": 177,
   "id": "surgical-ontario",
   "metadata": {},
   "outputs": [],
   "source": [
    "pbn_full2 = pbn_full.explode('intersections')"
   ]
  },
  {
   "cell_type": "code",
   "execution_count": 185,
   "id": "antique-potter",
   "metadata": {},
   "outputs": [
    {
     "name": "stdout",
     "output_type": "stream",
     "text": [
      "2021-08-12 14:02:11.281767 START - Find bearings\n"
     ]
    },
    {
     "data": {
      "application/vnd.jupyter.widget-view+json": {
       "model_id": "36565b1c482b4122875a471ea31ebdde",
       "version_major": 2,
       "version_minor": 0
      },
      "text/plain": [
       "  0%|          | 0/387750 [00:00<?, ?it/s]"
      ]
     },
     "metadata": {},
     "output_type": "display_data"
    },
    {
     "name": "stdout",
     "output_type": "stream",
     "text": [
      "2021-08-12 15:32:55.580015 END   - Find bearings(5444.298248)\n"
     ]
    },
    {
     "data": {
      "text/html": [
       "<div>\n",
       "<style scoped>\n",
       "    .dataframe tbody tr th:only-of-type {\n",
       "        vertical-align: middle;\n",
       "    }\n",
       "\n",
       "    .dataframe tbody tr th {\n",
       "        vertical-align: top;\n",
       "    }\n",
       "\n",
       "    .dataframe thead th {\n",
       "        text-align: right;\n",
       "    }\n",
       "</style>\n",
       "<table border=\"1\" class=\"dataframe\">\n",
       "  <thead>\n",
       "    <tr style=\"text-align: right;\">\n",
       "      <th></th>\n",
       "      <th>objectid</th>\n",
       "      <th>local_street</th>\n",
       "      <th>town</th>\n",
       "      <th>suburb</th>\n",
       "      <th>city</th>\n",
       "      <th>count</th>\n",
       "      <th>intersections</th>\n",
       "      <th>bearings</th>\n",
       "    </tr>\n",
       "  </thead>\n",
       "  <tbody>\n",
       "    <tr>\n",
       "      <th>0</th>\n",
       "      <td>616</td>\n",
       "      <td>HYDE STREET</td>\n",
       "      <td>Seddon</td>\n",
       "      <td>Footscray</td>\n",
       "      <td>Melbourne</td>\n",
       "      <td>1</td>\n",
       "      <td>[FRANCIS STREET, -37.8218002, 144.8958597]</td>\n",
       "      <td>[193, 1520.9769161975325, -37.80841519742836, 144.89956141926396]</td>\n",
       "    </tr>\n",
       "    <tr>\n",
       "      <th>0</th>\n",
       "      <td>616</td>\n",
       "      <td>HYDE STREET</td>\n",
       "      <td>Seddon</td>\n",
       "      <td>Footscray</td>\n",
       "      <td>Melbourne</td>\n",
       "      <td>1</td>\n",
       "      <td>[BUNBURY STREET, -37.802393, 144.902391]</td>\n",
       "      <td>[21, 541.1451130164029, -37.80841519742836, 144.89956141926396]</td>\n",
       "    </tr>\n",
       "    <tr>\n",
       "      <th>0</th>\n",
       "      <td>616</td>\n",
       "      <td>HYDE STREET</td>\n",
       "      <td>Seddon</td>\n",
       "      <td>Footscray</td>\n",
       "      <td>Melbourne</td>\n",
       "      <td>1</td>\n",
       "      <td>[SOMERVILLE ROAD, -37.8143847, 144.8971759]</td>\n",
       "      <td>[198, 695.0741707977384, -37.80841519742836, 144.89956141926396]</td>\n",
       "    </tr>\n",
       "    <tr>\n",
       "      <th>0</th>\n",
       "      <td>616</td>\n",
       "      <td>HYDE STREET</td>\n",
       "      <td>Seddon</td>\n",
       "      <td>Footscray</td>\n",
       "      <td>Melbourne</td>\n",
       "      <td>1</td>\n",
       "      <td>[NICHOLSON STREET, -37.8130359, 144.8974037]</td>\n",
       "      <td>[200, 546.9297445837417, -37.80841519742836, 144.89956141926396]</td>\n",
       "    </tr>\n",
       "    <tr>\n",
       "      <th>0</th>\n",
       "      <td>616</td>\n",
       "      <td>HYDE STREET</td>\n",
       "      <td>Seddon</td>\n",
       "      <td>Footscray</td>\n",
       "      <td>Melbourne</td>\n",
       "      <td>1</td>\n",
       "      <td>[NAPIER STREET, -37.8043721, 144.9013761]</td>\n",
       "      <td>[19, 304.14867789262314, -37.80841519742836, 144.89956141926396]</td>\n",
       "    </tr>\n",
       "  </tbody>\n",
       "</table>\n",
       "</div>"
      ],
      "text/plain": [
       "   objectid local_street    town     suburb       city  count  \\\n",
       "0       616  HYDE STREET  Seddon  Footscray  Melbourne      1   \n",
       "0       616  HYDE STREET  Seddon  Footscray  Melbourne      1   \n",
       "0       616  HYDE STREET  Seddon  Footscray  Melbourne      1   \n",
       "0       616  HYDE STREET  Seddon  Footscray  Melbourne      1   \n",
       "0       616  HYDE STREET  Seddon  Footscray  Melbourne      1   \n",
       "\n",
       "                                  intersections  \\\n",
       "0    [FRANCIS STREET, -37.8218002, 144.8958597]   \n",
       "0      [BUNBURY STREET, -37.802393, 144.902391]   \n",
       "0   [SOMERVILLE ROAD, -37.8143847, 144.8971759]   \n",
       "0  [NICHOLSON STREET, -37.8130359, 144.8974037]   \n",
       "0     [NAPIER STREET, -37.8043721, 144.9013761]   \n",
       "\n",
       "                                                            bearings  \n",
       "0  [193, 1520.9769161975325, -37.80841519742836, 144.89956141926396]  \n",
       "0    [21, 541.1451130164029, -37.80841519742836, 144.89956141926396]  \n",
       "0   [198, 695.0741707977384, -37.80841519742836, 144.89956141926396]  \n",
       "0   [200, 546.9297445837417, -37.80841519742836, 144.89956141926396]  \n",
       "0   [19, 304.14867789262314, -37.80841519742836, 144.89956141926396]  "
      ]
     },
     "execution_count": 185,
     "metadata": {},
     "output_type": "execute_result"
    }
   ],
   "source": [
    "log_starting('Find bearings')\n",
    "\n",
    "tqdm.pandas()\n",
    "\n",
    "pbn_full3 = pbn_full2.copy()\n",
    "pbn_full3.loc[:, 'bearings'] = pbn_full3.progress_apply(lambda x: \\\n",
    "    find_bearing_and_distance(x['objectid'], x['intersections']), axis=1)\n",
    "\n",
    "log_finished('Find bearings')\n",
    "\n",
    "pbn_full3.head()"
   ]
  },
  {
   "cell_type": "code",
   "execution_count": 187,
   "id": "stupid-armor",
   "metadata": {},
   "outputs": [
    {
     "data": {
      "text/html": [
       "<div>\n",
       "<style scoped>\n",
       "    .dataframe tbody tr th:only-of-type {\n",
       "        vertical-align: middle;\n",
       "    }\n",
       "\n",
       "    .dataframe tbody tr th {\n",
       "        vertical-align: top;\n",
       "    }\n",
       "\n",
       "    .dataframe thead th {\n",
       "        text-align: right;\n",
       "    }\n",
       "</style>\n",
       "<table border=\"1\" class=\"dataframe\">\n",
       "  <thead>\n",
       "    <tr style=\"text-align: right;\">\n",
       "      <th></th>\n",
       "      <th>objectid</th>\n",
       "      <th>local_street</th>\n",
       "      <th>town</th>\n",
       "      <th>suburb</th>\n",
       "      <th>city</th>\n",
       "      <th>count</th>\n",
       "      <th>intersections</th>\n",
       "      <th>bearings</th>\n",
       "    </tr>\n",
       "  </thead>\n",
       "  <tbody>\n",
       "    <tr>\n",
       "      <th>323</th>\n",
       "      <td>3224</td>\n",
       "      <td>NEPEAN HIGHWAY</td>\n",
       "      <td>Mount Eliza</td>\n",
       "      <td>Mount Eliza</td>\n",
       "      <td>Melbourne</td>\n",
       "      <td>2</td>\n",
       "      <td>[CRAIGIE ROAD, -38.2559272, 145.0358127]</td>\n",
       "      <td>[210, 11453.897551229755, -38.16681534561076, 145.10175280069583]</td>\n",
       "    </tr>\n",
       "    <tr>\n",
       "      <th>323</th>\n",
       "      <td>3224</td>\n",
       "      <td>NEPEAN HIGHWAY</td>\n",
       "      <td>Mount Eliza</td>\n",
       "      <td>Mount Eliza</td>\n",
       "      <td>Melbourne</td>\n",
       "      <td>2</td>\n",
       "      <td>[BENTONS ROAD, -38.2446662, 145.0375275]</td>\n",
       "      <td>[213, 10311.09677009861, -38.16681534561076, 145.10175280069583]</td>\n",
       "    </tr>\n",
       "    <tr>\n",
       "      <th>323</th>\n",
       "      <td>3224</td>\n",
       "      <td>NEPEAN HIGHWAY</td>\n",
       "      <td>Mount Eliza</td>\n",
       "      <td>Mount Eliza</td>\n",
       "      <td>Melbourne</td>\n",
       "      <td>2</td>\n",
       "      <td>[DAVA DRIVE, -38.2397081, 145.0360947]</td>\n",
       "      <td>[215, 9926.717891585355, -38.16681534561076, 145.10175280069583]</td>\n",
       "    </tr>\n",
       "    <tr>\n",
       "      <th>323</th>\n",
       "      <td>3224</td>\n",
       "      <td>NEPEAN HIGHWAY</td>\n",
       "      <td>Mount Eliza</td>\n",
       "      <td>Mount Eliza</td>\n",
       "      <td>Melbourne</td>\n",
       "      <td>2</td>\n",
       "      <td>[MORNINGTON - TYABB ROAD, -38.229573, 145.0449643]</td>\n",
       "      <td>[215, 8559.882672139647, -38.16681534561076, 145.10175280069583]</td>\n",
       "    </tr>\n",
       "    <tr>\n",
       "      <th>323</th>\n",
       "      <td>3224</td>\n",
       "      <td>NEPEAN HIGHWAY</td>\n",
       "      <td>Mount Eliza</td>\n",
       "      <td>Mount Eliza</td>\n",
       "      <td>Melbourne</td>\n",
       "      <td>2</td>\n",
       "      <td>[ITHACA ROAD, -38.1640515, 145.1022566]</td>\n",
       "      <td>[10, 296.7850220513333, -38.16681534561076, 145.10175280069583]</td>\n",
       "    </tr>\n",
       "    <tr>\n",
       "      <th>...</th>\n",
       "      <td>...</td>\n",
       "      <td>...</td>\n",
       "      <td>...</td>\n",
       "      <td>...</td>\n",
       "      <td>...</td>\n",
       "      <td>...</td>\n",
       "      <td>...</td>\n",
       "      <td>...</td>\n",
       "    </tr>\n",
       "    <tr>\n",
       "      <th>475</th>\n",
       "      <td>3472</td>\n",
       "      <td>NEPEAN HIGHWAY</td>\n",
       "      <td>Mount Eliza</td>\n",
       "      <td>Mount Eliza</td>\n",
       "      <td>Melbourne</td>\n",
       "      <td>2</td>\n",
       "      <td>[ALLISON STREET, -38.2258346, 145.0498248]</td>\n",
       "      <td>[225, 2256.213937800071, -38.20896255380091, 145.07119332220725]</td>\n",
       "    </tr>\n",
       "    <tr>\n",
       "      <th>475</th>\n",
       "      <td>3472</td>\n",
       "      <td>NEPEAN HIGHWAY</td>\n",
       "      <td>Mount Eliza</td>\n",
       "      <td>Mount Eliza</td>\n",
       "      <td>Melbourne</td>\n",
       "      <td>2</td>\n",
       "      <td>[PENTECOST ROAD, -38.2267859, 145.0485423]</td>\n",
       "      <td>[225, 2410.283590244056, -38.20896255380091, 145.07119332220725]</td>\n",
       "    </tr>\n",
       "    <tr>\n",
       "      <th>475</th>\n",
       "      <td>3472</td>\n",
       "      <td>NEPEAN HIGHWAY</td>\n",
       "      <td>Mount Eliza</td>\n",
       "      <td>Mount Eliza</td>\n",
       "      <td>Melbourne</td>\n",
       "      <td>2</td>\n",
       "      <td>[SPRAY STREET, -38.2283828, 145.0461103]</td>\n",
       "      <td>[226, 2686.3225964013773, -38.20896255380091, 145.07119332220725]</td>\n",
       "    </tr>\n",
       "    <tr>\n",
       "      <th>475</th>\n",
       "      <td>3472</td>\n",
       "      <td>NEPEAN HIGHWAY</td>\n",
       "      <td>Mount Eliza</td>\n",
       "      <td>Mount Eliza</td>\n",
       "      <td>Melbourne</td>\n",
       "      <td>2</td>\n",
       "      <td>[WOORALLA DRIVE, -38.1951263, 145.0912533]</td>\n",
       "      <td>[48, 2333.681982929821, -38.20896255380091, 145.07119332220725]</td>\n",
       "    </tr>\n",
       "    <tr>\n",
       "      <th>475</th>\n",
       "      <td>3472</td>\n",
       "      <td>NEPEAN HIGHWAY</td>\n",
       "      <td>Mount Eliza</td>\n",
       "      <td>Mount Eliza</td>\n",
       "      <td>Melbourne</td>\n",
       "      <td>2</td>\n",
       "      <td>[WOODLYN MEWS, -38.1839852, 145.0968587]</td>\n",
       "      <td>[40, 3569.485445860081, -38.20896255380091, 145.07119332220725]</td>\n",
       "    </tr>\n",
       "  </tbody>\n",
       "</table>\n",
       "<p>1496 rows × 8 columns</p>\n",
       "</div>"
      ],
      "text/plain": [
       "     objectid    local_street         town       suburb       city  count  \\\n",
       "323      3224  NEPEAN HIGHWAY  Mount Eliza  Mount Eliza  Melbourne      2   \n",
       "323      3224  NEPEAN HIGHWAY  Mount Eliza  Mount Eliza  Melbourne      2   \n",
       "323      3224  NEPEAN HIGHWAY  Mount Eliza  Mount Eliza  Melbourne      2   \n",
       "323      3224  NEPEAN HIGHWAY  Mount Eliza  Mount Eliza  Melbourne      2   \n",
       "323      3224  NEPEAN HIGHWAY  Mount Eliza  Mount Eliza  Melbourne      2   \n",
       "..        ...             ...          ...          ...        ...    ...   \n",
       "475      3472  NEPEAN HIGHWAY  Mount Eliza  Mount Eliza  Melbourne      2   \n",
       "475      3472  NEPEAN HIGHWAY  Mount Eliza  Mount Eliza  Melbourne      2   \n",
       "475      3472  NEPEAN HIGHWAY  Mount Eliza  Mount Eliza  Melbourne      2   \n",
       "475      3472  NEPEAN HIGHWAY  Mount Eliza  Mount Eliza  Melbourne      2   \n",
       "475      3472  NEPEAN HIGHWAY  Mount Eliza  Mount Eliza  Melbourne      2   \n",
       "\n",
       "                                          intersections  \\\n",
       "323            [CRAIGIE ROAD, -38.2559272, 145.0358127]   \n",
       "323            [BENTONS ROAD, -38.2446662, 145.0375275]   \n",
       "323              [DAVA DRIVE, -38.2397081, 145.0360947]   \n",
       "323  [MORNINGTON - TYABB ROAD, -38.229573, 145.0449643]   \n",
       "323             [ITHACA ROAD, -38.1640515, 145.1022566]   \n",
       "..                                                  ...   \n",
       "475          [ALLISON STREET, -38.2258346, 145.0498248]   \n",
       "475          [PENTECOST ROAD, -38.2267859, 145.0485423]   \n",
       "475            [SPRAY STREET, -38.2283828, 145.0461103]   \n",
       "475          [WOORALLA DRIVE, -38.1951263, 145.0912533]   \n",
       "475            [WOODLYN MEWS, -38.1839852, 145.0968587]   \n",
       "\n",
       "                                                              bearings  \n",
       "323  [210, 11453.897551229755, -38.16681534561076, 145.10175280069583]  \n",
       "323   [213, 10311.09677009861, -38.16681534561076, 145.10175280069583]  \n",
       "323   [215, 9926.717891585355, -38.16681534561076, 145.10175280069583]  \n",
       "323   [215, 8559.882672139647, -38.16681534561076, 145.10175280069583]  \n",
       "323    [10, 296.7850220513333, -38.16681534561076, 145.10175280069583]  \n",
       "..                                                                 ...  \n",
       "475   [225, 2256.213937800071, -38.20896255380091, 145.07119332220725]  \n",
       "475   [225, 2410.283590244056, -38.20896255380091, 145.07119332220725]  \n",
       "475  [226, 2686.3225964013773, -38.20896255380091, 145.07119332220725]  \n",
       "475    [48, 2333.681982929821, -38.20896255380091, 145.07119332220725]  \n",
       "475    [40, 3569.485445860081, -38.20896255380091, 145.07119332220725]  \n",
       "\n",
       "[1496 rows x 8 columns]"
      ]
     },
     "execution_count": 187,
     "metadata": {},
     "output_type": "execute_result"
    }
   ],
   "source": [
    "pbn_full3[pbn_full3['town'] == 'Mount Eliza']"
   ]
  },
  {
   "cell_type": "code",
   "execution_count": 203,
   "id": "turkish-imagination",
   "metadata": {},
   "outputs": [
    {
     "name": "stdout",
     "output_type": "stream",
     "text": [
      "2021-08-12 16:16:04.284407 START - Extract intersection and bearing fields\n"
     ]
    },
    {
     "data": {
      "application/vnd.jupyter.widget-view+json": {
       "model_id": "08a8846a0a604497bf5a6cb53a857eb4",
       "version_major": 2,
       "version_minor": 0
      },
      "text/plain": [
       "  0%|          | 0/387750 [00:00<?, ?it/s]"
      ]
     },
     "metadata": {},
     "output_type": "display_data"
    },
    {
     "data": {
      "application/vnd.jupyter.widget-view+json": {
       "model_id": "c49577f5bf6f48f9932dceb8387fa0f5",
       "version_major": 2,
       "version_minor": 0
      },
      "text/plain": [
       "  0%|          | 0/387750 [00:00<?, ?it/s]"
      ]
     },
     "metadata": {},
     "output_type": "display_data"
    },
    {
     "data": {
      "application/vnd.jupyter.widget-view+json": {
       "model_id": "7b642d1432064967b8d7588313799adc",
       "version_major": 2,
       "version_minor": 0
      },
      "text/plain": [
       "  0%|          | 0/387750 [00:00<?, ?it/s]"
      ]
     },
     "metadata": {},
     "output_type": "display_data"
    },
    {
     "data": {
      "application/vnd.jupyter.widget-view+json": {
       "model_id": "c0cae67a13df4561a185c48fbe48cb71",
       "version_major": 2,
       "version_minor": 0
      },
      "text/plain": [
       "  0%|          | 0/387750 [00:00<?, ?it/s]"
      ]
     },
     "metadata": {},
     "output_type": "display_data"
    },
    {
     "data": {
      "application/vnd.jupyter.widget-view+json": {
       "model_id": "3de282882abf44278bd0f1314e7d2d47",
       "version_major": 2,
       "version_minor": 0
      },
      "text/plain": [
       "  0%|          | 0/387750 [00:00<?, ?it/s]"
      ]
     },
     "metadata": {},
     "output_type": "display_data"
    },
    {
     "data": {
      "application/vnd.jupyter.widget-view+json": {
       "model_id": "0194dd8454f4484bb46b9f4a6c1d07b9",
       "version_major": 2,
       "version_minor": 0
      },
      "text/plain": [
       "  0%|          | 0/387750 [00:00<?, ?it/s]"
      ]
     },
     "metadata": {},
     "output_type": "display_data"
    },
    {
     "name": "stdout",
     "output_type": "stream",
     "text": [
      "2021-08-12 16:16:19.066910 END   - Extract intersection and bearing fields(14.782503)\n"
     ]
    },
    {
     "data": {
      "text/html": [
       "<div>\n",
       "<style scoped>\n",
       "    .dataframe tbody tr th:only-of-type {\n",
       "        vertical-align: middle;\n",
       "    }\n",
       "\n",
       "    .dataframe tbody tr th {\n",
       "        vertical-align: top;\n",
       "    }\n",
       "\n",
       "    .dataframe thead th {\n",
       "        text-align: right;\n",
       "    }\n",
       "</style>\n",
       "<table border=\"1\" class=\"dataframe\">\n",
       "  <thead>\n",
       "    <tr style=\"text-align: right;\">\n",
       "      <th></th>\n",
       "      <th>objectid</th>\n",
       "      <th>local_street</th>\n",
       "      <th>town</th>\n",
       "      <th>suburb</th>\n",
       "      <th>city</th>\n",
       "      <th>count</th>\n",
       "      <th>intersection_street</th>\n",
       "      <th>intersection_lat</th>\n",
       "      <th>intersection_lon</th>\n",
       "      <th>bearing</th>\n",
       "      <th>bearing_lat</th>\n",
       "      <th>bearing_lon</th>\n",
       "    </tr>\n",
       "  </thead>\n",
       "  <tbody>\n",
       "    <tr>\n",
       "      <th>0</th>\n",
       "      <td>616</td>\n",
       "      <td>HYDE STREET</td>\n",
       "      <td>Seddon</td>\n",
       "      <td>Footscray</td>\n",
       "      <td>Melbourne</td>\n",
       "      <td>1</td>\n",
       "      <td>FRANCIS STREET</td>\n",
       "      <td>-37.821800</td>\n",
       "      <td>144.895860</td>\n",
       "      <td>193.0</td>\n",
       "      <td>1520.976916</td>\n",
       "      <td>-37.808415</td>\n",
       "    </tr>\n",
       "    <tr>\n",
       "      <th>0</th>\n",
       "      <td>616</td>\n",
       "      <td>HYDE STREET</td>\n",
       "      <td>Seddon</td>\n",
       "      <td>Footscray</td>\n",
       "      <td>Melbourne</td>\n",
       "      <td>1</td>\n",
       "      <td>BUNBURY STREET</td>\n",
       "      <td>-37.802393</td>\n",
       "      <td>144.902391</td>\n",
       "      <td>21.0</td>\n",
       "      <td>541.145113</td>\n",
       "      <td>-37.808415</td>\n",
       "    </tr>\n",
       "    <tr>\n",
       "      <th>0</th>\n",
       "      <td>616</td>\n",
       "      <td>HYDE STREET</td>\n",
       "      <td>Seddon</td>\n",
       "      <td>Footscray</td>\n",
       "      <td>Melbourne</td>\n",
       "      <td>1</td>\n",
       "      <td>SOMERVILLE ROAD</td>\n",
       "      <td>-37.814385</td>\n",
       "      <td>144.897176</td>\n",
       "      <td>198.0</td>\n",
       "      <td>695.074171</td>\n",
       "      <td>-37.808415</td>\n",
       "    </tr>\n",
       "    <tr>\n",
       "      <th>0</th>\n",
       "      <td>616</td>\n",
       "      <td>HYDE STREET</td>\n",
       "      <td>Seddon</td>\n",
       "      <td>Footscray</td>\n",
       "      <td>Melbourne</td>\n",
       "      <td>1</td>\n",
       "      <td>NICHOLSON STREET</td>\n",
       "      <td>-37.813036</td>\n",
       "      <td>144.897404</td>\n",
       "      <td>200.0</td>\n",
       "      <td>546.929745</td>\n",
       "      <td>-37.808415</td>\n",
       "    </tr>\n",
       "    <tr>\n",
       "      <th>0</th>\n",
       "      <td>616</td>\n",
       "      <td>HYDE STREET</td>\n",
       "      <td>Seddon</td>\n",
       "      <td>Footscray</td>\n",
       "      <td>Melbourne</td>\n",
       "      <td>1</td>\n",
       "      <td>NAPIER STREET</td>\n",
       "      <td>-37.804372</td>\n",
       "      <td>144.901376</td>\n",
       "      <td>19.0</td>\n",
       "      <td>304.148678</td>\n",
       "      <td>-37.808415</td>\n",
       "    </tr>\n",
       "  </tbody>\n",
       "</table>\n",
       "</div>"
      ],
      "text/plain": [
       "   objectid local_street    town     suburb       city  count  \\\n",
       "0       616  HYDE STREET  Seddon  Footscray  Melbourne      1   \n",
       "0       616  HYDE STREET  Seddon  Footscray  Melbourne      1   \n",
       "0       616  HYDE STREET  Seddon  Footscray  Melbourne      1   \n",
       "0       616  HYDE STREET  Seddon  Footscray  Melbourne      1   \n",
       "0       616  HYDE STREET  Seddon  Footscray  Melbourne      1   \n",
       "\n",
       "  intersection_street  intersection_lat  intersection_lon  bearing  \\\n",
       "0      FRANCIS STREET        -37.821800        144.895860    193.0   \n",
       "0      BUNBURY STREET        -37.802393        144.902391     21.0   \n",
       "0     SOMERVILLE ROAD        -37.814385        144.897176    198.0   \n",
       "0    NICHOLSON STREET        -37.813036        144.897404    200.0   \n",
       "0       NAPIER STREET        -37.804372        144.901376     19.0   \n",
       "\n",
       "   bearing_lat  bearing_lon  \n",
       "0  1520.976916   -37.808415  \n",
       "0   541.145113   -37.808415  \n",
       "0   695.074171   -37.808415  \n",
       "0   546.929745   -37.808415  \n",
       "0   304.148678   -37.808415  "
      ]
     },
     "execution_count": 203,
     "metadata": {},
     "output_type": "execute_result"
    }
   ],
   "source": [
    "# Extract or derive geo fields from geocode_list\n",
    "\n",
    "def get_list_field(intersection, index):\n",
    "    if not (type(intersection)==list):\n",
    "        return None\n",
    "    return intersection[index]\n",
    "            \n",
    "log_starting('Extract intersection and bearing fields')\n",
    "\n",
    "tqdm.pandas()\n",
    "\n",
    "pbn_full4 = pbn_full3.copy()\n",
    "pbn_full4.loc[:, 'intersection_street'] = pbn_full4.progress_apply(lambda x: get_list_field(x['intersections'], 0), axis=1)\n",
    "pbn_full4.loc[:, 'intersection_lat']    = pbn_full4.progress_apply(lambda x: get_list_field(x['intersections'], 1), axis=1)\n",
    "pbn_full4.loc[:, 'intersection_lon']    = pbn_full4.progress_apply(lambda x: get_list_field(x['intersections'], 2), axis=1)\n",
    "pbn_full4.loc[:, 'bearing']             = pbn_full4.progress_apply(lambda x: get_list_field(x['bearings'], 0), axis=1)\n",
    "pbn_full4.loc[:, 'bearing_lat']         = pbn_full4.progress_apply(lambda x: get_list_field(x['bearings'], 1), axis=1)\n",
    "pbn_full4.loc[:, 'bearing_lon']         = pbn_full4.progress_apply(lambda x: get_list_field(x['bearings'], 2), axis=1)\n",
    "pbn_full4.drop(labels=['intersections', 'bearings'], axis=1, inplace=True)\n",
    "\n",
    "log_finished('Extract intersection and bearing fields')\n",
    "pbn_full4.head()"
   ]
  },
  {
   "cell_type": "code",
   "execution_count": 205,
   "id": "developed-particle",
   "metadata": {},
   "outputs": [
    {
     "name": "stdout",
     "output_type": "stream",
     "text": [
      "2021-08-12 16:19:29.784473 START - Save bearings PBN dataset\n",
      "2021-08-12 16:19:33.195692 END   - Save bearings PBN dataset(3.411219)\n"
     ]
    }
   ],
   "source": [
    "log_starting('Save bearings PBN dataset')\n",
    "\n",
    "pbn_full4.to_csv('pbn_bearings.csv')\n",
    "\n",
    "log_finished('Save bearings PBN dataset')"
   ]
  }
 ],
 "metadata": {
  "kernelspec": {
   "display_name": "Python 3",
   "language": "python",
   "name": "python3"
  },
  "language_info": {
   "codemirror_mode": {
    "name": "ipython",
    "version": 3
   },
   "file_extension": ".py",
   "mimetype": "text/x-python",
   "name": "python",
   "nbconvert_exporter": "python",
   "pygments_lexer": "ipython3",
   "version": "3.8.8"
  }
 },
 "nbformat": 4,
 "nbformat_minor": 5
}
