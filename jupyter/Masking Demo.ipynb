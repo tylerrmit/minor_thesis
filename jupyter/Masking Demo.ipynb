{
 "cells": [
  {
   "cell_type": "markdown",
   "id": "14f767ad",
   "metadata": {},
   "source": [
    "# Masking Demo\n",
    "\n",
    "Use this to overlay a potential mask boundary onto a dash cam image, to see how it would align to an example image"
   ]
  },
  {
   "cell_type": "code",
   "execution_count": null,
   "id": "88395970",
   "metadata": {},
   "outputs": [],
   "source": [
    "subdir  = 'dashcam_tour_mount_eliza'\n",
    "example = 'FILE210924-105212F_3252.png'"
   ]
  },
  {
   "cell_type": "code",
   "execution_count": null,
   "id": "8345ce8a",
   "metadata": {},
   "outputs": [],
   "source": [
    "import os\n",
    "import sys\n",
    "import matplotlib.pylab as plt\n",
    "import cv2\n",
    "import numpy as np\n",
    "\n",
    "module_path_root = os.path.abspath(os.pardir)\n",
    "if module_path_root not in sys.path:\n",
    "    sys.path.append(module_path_root)"
   ]
  },
  {
   "cell_type": "code",
   "execution_count": null,
   "id": "37d3d508",
   "metadata": {},
   "outputs": [],
   "source": [
    "example_image = os.path.join(module_path_root, 'data_sources', subdir, 'split', example)"
   ]
  },
  {
   "cell_type": "code",
   "execution_count": null,
   "id": "1499ad30",
   "metadata": {},
   "outputs": [],
   "source": [
    "original_image = cv2.imread(example_image)\n",
    "original_image = cv2.cvtColor(original_image, cv2.COLOR_BGR2RGB)\n",
    "\n",
    "height = original_image.shape[0]\n",
    "width = original_image.shape[1]\n",
    "\n",
    "print(height)\n",
    "print(width)\n",
    "plt.imshow(original_image)\n",
    "plt.show()"
   ]
  },
  {
   "cell_type": "code",
   "execution_count": null,
   "id": "2d0f51bc",
   "metadata": {},
   "outputs": [],
   "source": [
    "vertices = np.array([\n",
    "    [0, 0],\n",
    "    [0, 720],\n",
    "    [480, 650],\n",
    "    [1250, 650],\n",
    "    [1250, 0]\n",
    "])"
   ]
  },
  {
   "cell_type": "code",
   "execution_count": null,
   "id": "551b0b28",
   "metadata": {},
   "outputs": [],
   "source": [
    "line_image = np.copy(original_image)\n",
    "\n",
    "for i in range(len(vertices)-1):\n",
    "    cv2.line(line_image, vertices[i], vertices[i+1], (255, 255, 255), thickness=3)\n",
    "    \n",
    "plt.imshow(line_image)\n",
    "plt.show()"
   ]
  },
  {
   "cell_type": "code",
   "execution_count": null,
   "id": "d86fa5f2",
   "metadata": {},
   "outputs": [],
   "source": [
    "mask = np.zeros_like(original_image)\n",
    "channel_count = original_image.shape[2]\n",
    "match_mask_color = (255,) * channel_count\n",
    "cv2.fillPoly(mask, np.int32([vertices]), match_mask_color)\n",
    "\n",
    "masked_image = cv2.bitwise_and(original_image, mask)\n",
    "\n",
    "plt.imshow(masked_image)\n",
    "plt.show()"
   ]
  },
  {
   "cell_type": "code",
   "execution_count": null,
   "id": "71d86818",
   "metadata": {},
   "outputs": [],
   "source": []
  }
 ],
 "metadata": {
  "kernelspec": {
   "display_name": "gpuEnv",
   "language": "python",
   "name": "gpuenv"
  },
  "language_info": {
   "codemirror_mode": {
    "name": "ipython",
    "version": 3
   },
   "file_extension": ".py",
   "mimetype": "text/x-python",
   "name": "python",
   "nbconvert_exporter": "python",
   "pygments_lexer": "ipython3",
   "version": "3.8.11"
  }
 },
 "nbformat": 4,
 "nbformat_minor": 5
}
