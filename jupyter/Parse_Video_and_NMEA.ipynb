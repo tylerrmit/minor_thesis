{
 "cells": [
  {
   "cell_type": "markdown",
   "id": "99680ba6",
   "metadata": {},
   "source": [
    "# Parse Video and NMEA\n",
    "\n",
    "Read a .MP4 video file from a dashcam, split it into frames at the required intervals (60fps footage)\n",
    "and then correlate frames to co-ordinates based on what is recorded in the accompanying NMEA file."
   ]
  },
  {
   "cell_type": "code",
   "execution_count": 1,
   "id": "d46c7451",
   "metadata": {},
   "outputs": [],
   "source": [
    "#import_directory = 'dashcam_tour_mount_eliza'\n",
    "import_directory = 'dashcam_tour_frankston'"
   ]
  },
  {
   "cell_type": "markdown",
   "id": "289f0c3a",
   "metadata": {},
   "source": [
    "Sample NMEA data, repeats every 60 seconds:\n",
    "``` NMEA sample\n",
    "$GPGGA,004008.00,3810.18002,S,14506.69684,E,1,11,0.85,43.6,M,-2.7,M,,*6B\n",
    "$GPGSA,A,3,30,14,07,13,17,194,193,195,19,21,15,,1.47,0.85,1.20*3E\n",
    "$GPGSV,5,1,20,01,10,085,21,05,09,275,15,07,35,078,34,08,10,142,14*7B\n",
    "$GPGSV,5,2,20,09,04,021,08,13,47,236,23,14,75,226,32,15,19,225,21*77\n",
    "$GPGSV,5,3,20,17,43,008,24,19,22,354,29,20,01,305,,21,13,104,24*74\n",
    "$GPGSV,5,4,20,28,,,32,30,69,110,38,41,13,288,,50,42,332,*42\n",
    "$GPGSV,5,5,20,53,22,297,,193,29,356,26,194,74,274,32,195,19,355,31*4E\n",
    "$GSENSORD,0.089,0.123,-0.140\n",
    "$GPRMC,004009.00,A,3810.17224,S,14506.70055,E,29.706,20.61,240921,,,A*74\n",
    "```"
   ]
  },
  {
   "cell_type": "markdown",
   "id": "63fcefe3",
   "metadata": {},
   "source": [
    "http://aprs.gids.nl/nmea/\n",
    "\n",
    "* GPGGA - Global Positioning System Fix Data\n",
    "\n",
    "    - Time \"004001.00\" => The time is 00:40:01 in GMT\n",
    "    - **Latitude \"3810.18002,S\"**\n",
    "    - **Longitude \"14506.69684,E\"**\n",
    "    - Fix Quality \"1\" = GPS fix.  0=Invalid, 2=DGPS fix.\n",
    "    - Number of Satellites \"11\" = 11 Satellites are in view\n",
    "    - Horizontal Dilution of Precision (HDOP) \"0.85\"\n",
    "    - **Altitude \"43.6,M\"**\n",
    "    - Height of geoid above WGS84 ellipsoid \"-2.7,M\"\n",
    "    - DGPS reference station id \"\"\n",
    "    - Checksum \"*6B\"\n",
    "    \n",
    "* GPRMC - Recommended minimum specific GPS/Transit data\n",
    "    - Time \"004009.00\" => The time is 00:40:09 in GMT\n",
    "    - Validity \"A\" => A=OK, V=invalid\n",
    "    - **Latitude \"3810.17224,S\"**\n",
    "    - **Longitude \"14506.70055,E\"**\n",
    "    - Speed in knots \"29.706\" ==> converts to 55kmph. 1 knot = 1.852 kmph.\n",
    "    - **True course \"20.61\" => bearing**\n",
    "    - Date stamp \"240921\" => 24th of September 2021\n",
    "    - Variation \"\"\n",
    "    - East/West \"\"\n",
    "    - Checksum \"A*74\"\n",
    "    \n",
    "* GPGSA - GPS DOP and active satellites\n",
    "    * Ignore\n",
    "    \n",
    "* GPGSV - GPS Satellites in view\n",
    "    * Ignore\n",
    "    \n",
    "* GSENSORD - Sensor data, possibly specific to the device\n",
    "    * Ignore  \n",
    "    \n",
    "We are interested in latitude and longitude, of course, which can come from either GPGGA or GPRMC.  We are also interested in altitude (from GPGGA) and true course (from GPRMC) in case they come in handy.\n",
    "\n",
    "There are 61 instances of GPGGA in the file, and 60 instances of GPRMC in between.  They agree on the co-ords as at\n",
    "each timestamp.  We might as well parse them into a dictionary using the timestamp as the key."
   ]
  },
  {
   "cell_type": "code",
   "execution_count": 2,
   "id": "610206d9",
   "metadata": {},
   "outputs": [],
   "source": [
    "import os\n",
    "import sys\n",
    "\n",
    "module_path_root = os.path.abspath(os.pardir)\n",
    "if module_path_root not in sys.path:\n",
    "    sys.path.append(module_path_root)\n",
    "    \n",
    "# Import local modules\n",
    "import osm_gsv_utils.dashcam_parser as dashcam_parser"
   ]
  },
  {
   "cell_type": "code",
   "execution_count": 3,
   "id": "b5941ee0",
   "metadata": {
    "scrolled": true
   },
   "outputs": [],
   "source": [
    "dashcam_dir = os.path.join(module_path_root, 'data_sources', import_directory)\n",
    "output_dir  = os.path.join(dashcam_dir, 'split')"
   ]
  },
  {
   "cell_type": "code",
   "execution_count": 4,
   "id": "83191e91",
   "metadata": {},
   "outputs": [],
   "source": [
    "parser = dashcam_parser(source_fps=60)"
   ]
  },
  {
   "cell_type": "code",
   "execution_count": 5,
   "id": "87dc6902",
   "metadata": {
    "scrolled": false
   },
   "outputs": [
    {
     "data": {
      "application/vnd.jupyter.widget-view+json": {
       "model_id": "8cf978b7eab1428087831496139527b9",
       "version_major": 2,
       "version_minor": 0
      },
      "text/plain": [
       "  0%|          | 0/51 [00:00<?, ?it/s]"
      ]
     },
     "metadata": {},
     "output_type": "display_data"
    },
    {
     "data": {
      "application/vnd.jupyter.widget-view+json": {
       "model_id": "a9f5e5297ef541a0acf2243b3b220544",
       "version_major": 2,
       "version_minor": 0
      },
      "text/plain": [
       "FILE210926-101400F:   0%|          | 0/3612 [00:00<?, ?it/s]"
      ]
     },
     "metadata": {},
     "output_type": "display_data"
    },
    {
     "data": {
      "application/vnd.jupyter.widget-view+json": {
       "model_id": "320413028f0742eabe7a56213a1f8633",
       "version_major": 2,
       "version_minor": 0
      },
      "text/plain": [
       "FILE210926-101500F:   0%|          | 0/3612 [00:00<?, ?it/s]"
      ]
     },
     "metadata": {},
     "output_type": "display_data"
    },
    {
     "data": {
      "application/vnd.jupyter.widget-view+json": {
       "model_id": "ace03822d5d641bba43e54cdb059e438",
       "version_major": 2,
       "version_minor": 0
      },
      "text/plain": [
       "FILE210926-101601F:   0%|          | 0/3612 [00:00<?, ?it/s]"
      ]
     },
     "metadata": {},
     "output_type": "display_data"
    },
    {
     "data": {
      "application/vnd.jupyter.widget-view+json": {
       "model_id": "03a2134196824c64bae340d33f31ec67",
       "version_major": 2,
       "version_minor": 0
      },
      "text/plain": [
       "FILE210926-101701F:   0%|          | 0/3612 [00:00<?, ?it/s]"
      ]
     },
     "metadata": {},
     "output_type": "display_data"
    },
    {
     "data": {
      "application/vnd.jupyter.widget-view+json": {
       "model_id": "8387608cb95b4347986907ba43acae69",
       "version_major": 2,
       "version_minor": 0
      },
      "text/plain": [
       "FILE210926-101801F:   0%|          | 0/3612 [00:00<?, ?it/s]"
      ]
     },
     "metadata": {},
     "output_type": "display_data"
    },
    {
     "data": {
      "application/vnd.jupyter.widget-view+json": {
       "model_id": "b3d2b92acfd64288a75d35841aedd653",
       "version_major": 2,
       "version_minor": 0
      },
      "text/plain": [
       "FILE210926-101901F:   0%|          | 0/3612 [00:00<?, ?it/s]"
      ]
     },
     "metadata": {},
     "output_type": "display_data"
    },
    {
     "data": {
      "application/vnd.jupyter.widget-view+json": {
       "model_id": "fced99b2bddf41e689028137bc893c09",
       "version_major": 2,
       "version_minor": 0
      },
      "text/plain": [
       "FILE210926-102002F:   0%|          | 0/3612 [00:00<?, ?it/s]"
      ]
     },
     "metadata": {},
     "output_type": "display_data"
    },
    {
     "data": {
      "application/vnd.jupyter.widget-view+json": {
       "model_id": "fbe0f088f708424b9a0aa0aa16a7a366",
       "version_major": 2,
       "version_minor": 0
      },
      "text/plain": [
       "FILE210926-102102F:   0%|          | 0/3612 [00:00<?, ?it/s]"
      ]
     },
     "metadata": {},
     "output_type": "display_data"
    },
    {
     "name": "stdout",
     "output_type": "stream",
     "text": [
      "WARNING: processing line [FILE210926-102202F] [$GPRMC,002226.00,V,,,,,,,260921,,,N*77\n",
      "], using previous values\n",
      "WARNING: processing line [FILE210926-102202F] [$GPGGA,002226.00,,,,,0,00,99.99,,,,,,*62\n",
      "], using previous values\n"
     ]
    },
    {
     "data": {
      "application/vnd.jupyter.widget-view+json": {
       "model_id": "bb25b9163ff94237bd6aa551070278b7",
       "version_major": 2,
       "version_minor": 0
      },
      "text/plain": [
       "FILE210926-102202F:   0%|          | 0/3612 [00:00<?, ?it/s]"
      ]
     },
     "metadata": {},
     "output_type": "display_data"
    },
    {
     "data": {
      "application/vnd.jupyter.widget-view+json": {
       "model_id": "92ad4a236fe64a0eaf8bccf391546b47",
       "version_major": 2,
       "version_minor": 0
      },
      "text/plain": [
       "FILE210926-102302F:   0%|          | 0/3612 [00:00<?, ?it/s]"
      ]
     },
     "metadata": {},
     "output_type": "display_data"
    },
    {
     "data": {
      "application/vnd.jupyter.widget-view+json": {
       "model_id": "00b7d8f45aba49a09f4dfda7c5086e08",
       "version_major": 2,
       "version_minor": 0
      },
      "text/plain": [
       "FILE210926-102403F:   0%|          | 0/3612 [00:00<?, ?it/s]"
      ]
     },
     "metadata": {},
     "output_type": "display_data"
    },
    {
     "data": {
      "application/vnd.jupyter.widget-view+json": {
       "model_id": "0e9ede0634484b95894a9235ef90e72a",
       "version_major": 2,
       "version_minor": 0
      },
      "text/plain": [
       "FILE210926-102503F:   0%|          | 0/3612 [00:00<?, ?it/s]"
      ]
     },
     "metadata": {},
     "output_type": "display_data"
    },
    {
     "data": {
      "application/vnd.jupyter.widget-view+json": {
       "model_id": "8e9170c1d67041eb830081503395b92e",
       "version_major": 2,
       "version_minor": 0
      },
      "text/plain": [
       "FILE210926-102603F:   0%|          | 0/3612 [00:00<?, ?it/s]"
      ]
     },
     "metadata": {},
     "output_type": "display_data"
    },
    {
     "data": {
      "application/vnd.jupyter.widget-view+json": {
       "model_id": "2628ddd8a0af4620a3901fa98eb8a1e2",
       "version_major": 2,
       "version_minor": 0
      },
      "text/plain": [
       "FILE210926-102703F:   0%|          | 0/3612 [00:00<?, ?it/s]"
      ]
     },
     "metadata": {},
     "output_type": "display_data"
    },
    {
     "data": {
      "application/vnd.jupyter.widget-view+json": {
       "model_id": "e647b62fcd7f47ac967b78054511110a",
       "version_major": 2,
       "version_minor": 0
      },
      "text/plain": [
       "FILE210926-102804F:   0%|          | 0/3612 [00:00<?, ?it/s]"
      ]
     },
     "metadata": {},
     "output_type": "display_data"
    },
    {
     "data": {
      "application/vnd.jupyter.widget-view+json": {
       "model_id": "120d9cd286ad452cac905741f42ab8b3",
       "version_major": 2,
       "version_minor": 0
      },
      "text/plain": [
       "FILE210926-102904F:   0%|          | 0/3612 [00:00<?, ?it/s]"
      ]
     },
     "metadata": {},
     "output_type": "display_data"
    },
    {
     "data": {
      "application/vnd.jupyter.widget-view+json": {
       "model_id": "270043661405403a8a35e7f3a5f9eab6",
       "version_major": 2,
       "version_minor": 0
      },
      "text/plain": [
       "FILE210926-103004F:   0%|          | 0/3612 [00:00<?, ?it/s]"
      ]
     },
     "metadata": {},
     "output_type": "display_data"
    },
    {
     "data": {
      "application/vnd.jupyter.widget-view+json": {
       "model_id": "423176015836407eb113bbc4d5b959fe",
       "version_major": 2,
       "version_minor": 0
      },
      "text/plain": [
       "FILE210926-103104F:   0%|          | 0/3612 [00:00<?, ?it/s]"
      ]
     },
     "metadata": {},
     "output_type": "display_data"
    },
    {
     "data": {
      "application/vnd.jupyter.widget-view+json": {
       "model_id": "c4a2b491d47e4fd3b699f603bd9591a3",
       "version_major": 2,
       "version_minor": 0
      },
      "text/plain": [
       "FILE210926-103205F:   0%|          | 0/3611 [00:00<?, ?it/s]"
      ]
     },
     "metadata": {},
     "output_type": "display_data"
    },
    {
     "data": {
      "application/vnd.jupyter.widget-view+json": {
       "model_id": "2b4dd4d2906840299f94f053e3cb78a3",
       "version_major": 2,
       "version_minor": 0
      },
      "text/plain": [
       "FILE210926-103305F:   0%|          | 0/3612 [00:00<?, ?it/s]"
      ]
     },
     "metadata": {},
     "output_type": "display_data"
    },
    {
     "data": {
      "application/vnd.jupyter.widget-view+json": {
       "model_id": "187fa172b0e74c0db2dbf95cb665ffba",
       "version_major": 2,
       "version_minor": 0
      },
      "text/plain": [
       "FILE210926-103405F:   0%|          | 0/3612 [00:00<?, ?it/s]"
      ]
     },
     "metadata": {},
     "output_type": "display_data"
    },
    {
     "data": {
      "application/vnd.jupyter.widget-view+json": {
       "model_id": "279c8cd2977948e5aa44ac66dc1bb192",
       "version_major": 2,
       "version_minor": 0
      },
      "text/plain": [
       "FILE210926-103505F:   0%|          | 0/3612 [00:00<?, ?it/s]"
      ]
     },
     "metadata": {},
     "output_type": "display_data"
    },
    {
     "data": {
      "application/vnd.jupyter.widget-view+json": {
       "model_id": "e566d9c2173e42e8b2c911849c1776fa",
       "version_major": 2,
       "version_minor": 0
      },
      "text/plain": [
       "FILE210926-103606F:   0%|          | 0/3612 [00:00<?, ?it/s]"
      ]
     },
     "metadata": {},
     "output_type": "display_data"
    },
    {
     "data": {
      "application/vnd.jupyter.widget-view+json": {
       "model_id": "795980bfeebf4c5b8052bb89570a84a6",
       "version_major": 2,
       "version_minor": 0
      },
      "text/plain": [
       "FILE210926-103706F:   0%|          | 0/3612 [00:00<?, ?it/s]"
      ]
     },
     "metadata": {},
     "output_type": "display_data"
    },
    {
     "data": {
      "application/vnd.jupyter.widget-view+json": {
       "model_id": "2eb2aa2379b744d38afadf8d2cd30d57",
       "version_major": 2,
       "version_minor": 0
      },
      "text/plain": [
       "FILE210926-103806F:   0%|          | 0/3612 [00:00<?, ?it/s]"
      ]
     },
     "metadata": {},
     "output_type": "display_data"
    },
    {
     "data": {
      "application/vnd.jupyter.widget-view+json": {
       "model_id": "3fdd784c6a86489bad284de3cb1bbb7e",
       "version_major": 2,
       "version_minor": 0
      },
      "text/plain": [
       "FILE210926-103906F:   0%|          | 0/3612 [00:00<?, ?it/s]"
      ]
     },
     "metadata": {},
     "output_type": "display_data"
    },
    {
     "data": {
      "application/vnd.jupyter.widget-view+json": {
       "model_id": "6cbbe59eeb0e4a47983efed6c9389d51",
       "version_major": 2,
       "version_minor": 0
      },
      "text/plain": [
       "FILE210926-104007F:   0%|          | 0/3612 [00:00<?, ?it/s]"
      ]
     },
     "metadata": {},
     "output_type": "display_data"
    },
    {
     "data": {
      "application/vnd.jupyter.widget-view+json": {
       "model_id": "31afc0c7d8b94dfebfc1f4ffc3e6fe46",
       "version_major": 2,
       "version_minor": 0
      },
      "text/plain": [
       "FILE210926-104107F:   0%|          | 0/3612 [00:00<?, ?it/s]"
      ]
     },
     "metadata": {},
     "output_type": "display_data"
    },
    {
     "data": {
      "application/vnd.jupyter.widget-view+json": {
       "model_id": "47fafd754a4f410eb820e2d09f702d4b",
       "version_major": 2,
       "version_minor": 0
      },
      "text/plain": [
       "FILE210926-104207F:   0%|          | 0/3612 [00:00<?, ?it/s]"
      ]
     },
     "metadata": {},
     "output_type": "display_data"
    },
    {
     "data": {
      "application/vnd.jupyter.widget-view+json": {
       "model_id": "e0ab790c80344fcbb60dc360b95d451e",
       "version_major": 2,
       "version_minor": 0
      },
      "text/plain": [
       "FILE210926-104307F:   0%|          | 0/3612 [00:00<?, ?it/s]"
      ]
     },
     "metadata": {},
     "output_type": "display_data"
    },
    {
     "data": {
      "application/vnd.jupyter.widget-view+json": {
       "model_id": "05764f02893340128f5c227364e81527",
       "version_major": 2,
       "version_minor": 0
      },
      "text/plain": [
       "FILE210926-104408F:   0%|          | 0/3612 [00:00<?, ?it/s]"
      ]
     },
     "metadata": {},
     "output_type": "display_data"
    },
    {
     "data": {
      "application/vnd.jupyter.widget-view+json": {
       "model_id": "588af23705e4424dbe3c72a8113d7c18",
       "version_major": 2,
       "version_minor": 0
      },
      "text/plain": [
       "FILE210926-104508F:   0%|          | 0/3612 [00:00<?, ?it/s]"
      ]
     },
     "metadata": {},
     "output_type": "display_data"
    },
    {
     "data": {
      "application/vnd.jupyter.widget-view+json": {
       "model_id": "d6a686e263cf49d09c9b64dd213d0b79",
       "version_major": 2,
       "version_minor": 0
      },
      "text/plain": [
       "FILE210926-104608F:   0%|          | 0/3612 [00:00<?, ?it/s]"
      ]
     },
     "metadata": {},
     "output_type": "display_data"
    },
    {
     "data": {
      "application/vnd.jupyter.widget-view+json": {
       "model_id": "4835818cad5440668d40428217243346",
       "version_major": 2,
       "version_minor": 0
      },
      "text/plain": [
       "FILE210926-104708F:   0%|          | 0/3612 [00:00<?, ?it/s]"
      ]
     },
     "metadata": {},
     "output_type": "display_data"
    },
    {
     "data": {
      "application/vnd.jupyter.widget-view+json": {
       "model_id": "70488547bcd842979f2707512fafdcd0",
       "version_major": 2,
       "version_minor": 0
      },
      "text/plain": [
       "FILE210926-105829F:   0%|          | 0/3612 [00:00<?, ?it/s]"
      ]
     },
     "metadata": {},
     "output_type": "display_data"
    },
    {
     "data": {
      "application/vnd.jupyter.widget-view+json": {
       "model_id": "e5a451dedbda4317a29ffc6aab4d88e6",
       "version_major": 2,
       "version_minor": 0
      },
      "text/plain": [
       "FILE210926-105929F:   0%|          | 0/3612 [00:00<?, ?it/s]"
      ]
     },
     "metadata": {},
     "output_type": "display_data"
    },
    {
     "data": {
      "application/vnd.jupyter.widget-view+json": {
       "model_id": "a75eebe04fca4ae6bf99044bc258d10d",
       "version_major": 2,
       "version_minor": 0
      },
      "text/plain": [
       "FILE210926-110029F:   0%|          | 0/3612 [00:00<?, ?it/s]"
      ]
     },
     "metadata": {},
     "output_type": "display_data"
    },
    {
     "data": {
      "application/vnd.jupyter.widget-view+json": {
       "model_id": "5804c412e4424a3f89671ef944c0ed50",
       "version_major": 2,
       "version_minor": 0
      },
      "text/plain": [
       "FILE210926-110129F:   0%|          | 0/3612 [00:00<?, ?it/s]"
      ]
     },
     "metadata": {},
     "output_type": "display_data"
    },
    {
     "data": {
      "application/vnd.jupyter.widget-view+json": {
       "model_id": "b6de79dc9a604f0f8bd028081e00803b",
       "version_major": 2,
       "version_minor": 0
      },
      "text/plain": [
       "FILE210926-110230F:   0%|          | 0/3612 [00:00<?, ?it/s]"
      ]
     },
     "metadata": {},
     "output_type": "display_data"
    },
    {
     "data": {
      "application/vnd.jupyter.widget-view+json": {
       "model_id": "7511a7addf2f4714ac4f5eb19600bf0b",
       "version_major": 2,
       "version_minor": 0
      },
      "text/plain": [
       "FILE210926-110330F:   0%|          | 0/3612 [00:00<?, ?it/s]"
      ]
     },
     "metadata": {},
     "output_type": "display_data"
    },
    {
     "data": {
      "application/vnd.jupyter.widget-view+json": {
       "model_id": "7fa45d9c8f274f5cacb2f02e6a0f2bcd",
       "version_major": 2,
       "version_minor": 0
      },
      "text/plain": [
       "FILE210926-110430F:   0%|          | 0/3612 [00:00<?, ?it/s]"
      ]
     },
     "metadata": {},
     "output_type": "display_data"
    },
    {
     "data": {
      "application/vnd.jupyter.widget-view+json": {
       "model_id": "a3474fe8ce6c46fe9a96731e5e855e25",
       "version_major": 2,
       "version_minor": 0
      },
      "text/plain": [
       "FILE210926-110530F:   0%|          | 0/3612 [00:00<?, ?it/s]"
      ]
     },
     "metadata": {},
     "output_type": "display_data"
    },
    {
     "data": {
      "application/vnd.jupyter.widget-view+json": {
       "model_id": "257b4e0ab4cd4bac84c557df4fb8e3e0",
       "version_major": 2,
       "version_minor": 0
      },
      "text/plain": [
       "FILE210926-110631F:   0%|          | 0/3612 [00:00<?, ?it/s]"
      ]
     },
     "metadata": {},
     "output_type": "display_data"
    },
    {
     "data": {
      "application/vnd.jupyter.widget-view+json": {
       "model_id": "1b0441c845494b8b8c7d4ac996accbf8",
       "version_major": 2,
       "version_minor": 0
      },
      "text/plain": [
       "FILE210926-110731F:   0%|          | 0/3612 [00:00<?, ?it/s]"
      ]
     },
     "metadata": {},
     "output_type": "display_data"
    },
    {
     "data": {
      "application/vnd.jupyter.widget-view+json": {
       "model_id": "94c4cf3dba184e45810393dc0a0fab30",
       "version_major": 2,
       "version_minor": 0
      },
      "text/plain": [
       "FILE210926-110831F:   0%|          | 0/3612 [00:00<?, ?it/s]"
      ]
     },
     "metadata": {},
     "output_type": "display_data"
    },
    {
     "data": {
      "application/vnd.jupyter.widget-view+json": {
       "model_id": "f682d02028e34dbf83de0990c4134dc6",
       "version_major": 2,
       "version_minor": 0
      },
      "text/plain": [
       "FILE210926-110931F:   0%|          | 0/3612 [00:00<?, ?it/s]"
      ]
     },
     "metadata": {},
     "output_type": "display_data"
    },
    {
     "data": {
      "application/vnd.jupyter.widget-view+json": {
       "model_id": "11d88a3db71d495d82e036c9893d52b4",
       "version_major": 2,
       "version_minor": 0
      },
      "text/plain": [
       "FILE210926-111032F:   0%|          | 0/3612 [00:00<?, ?it/s]"
      ]
     },
     "metadata": {},
     "output_type": "display_data"
    },
    {
     "data": {
      "application/vnd.jupyter.widget-view+json": {
       "model_id": "e4c6f697343e4abf9204614c04061f45",
       "version_major": 2,
       "version_minor": 0
      },
      "text/plain": [
       "FILE210926-111132F:   0%|          | 0/3612 [00:00<?, ?it/s]"
      ]
     },
     "metadata": {},
     "output_type": "display_data"
    },
    {
     "data": {
      "application/vnd.jupyter.widget-view+json": {
       "model_id": "7a5e192b30b643bf8e2e478caccc6f67",
       "version_major": 2,
       "version_minor": 0
      },
      "text/plain": [
       "FILE210926-111232F:   0%|          | 0/3612 [00:00<?, ?it/s]"
      ]
     },
     "metadata": {},
     "output_type": "display_data"
    },
    {
     "data": {
      "application/vnd.jupyter.widget-view+json": {
       "model_id": "f607ca0b109f4e77bf387d2bf8d8ee0d",
       "version_major": 2,
       "version_minor": 0
      },
      "text/plain": [
       "FILE210926-111332F:   0%|          | 0/3612 [00:00<?, ?it/s]"
      ]
     },
     "metadata": {},
     "output_type": "display_data"
    },
    {
     "data": {
      "application/vnd.jupyter.widget-view+json": {
       "model_id": "22c70cd97bcd49b9b77890506d37f51a",
       "version_major": 2,
       "version_minor": 0
      },
      "text/plain": [
       "FILE210926-111433F:   0%|          | 0/3612 [00:00<?, ?it/s]"
      ]
     },
     "metadata": {},
     "output_type": "display_data"
    }
   ],
   "source": [
    "#selected_prefix = 'FILE210924-104009F'\n",
    "#parser.split_video(dashcam_dir, selected_prefix, output_dir, output_fps=5, suffix='MP4')\n",
    "\n",
    "parser.split_videos(dashcam_dir, output_dir, output_fps=5, suffix='MP4', verbose=False)"
   ]
  }
 ],
 "metadata": {
  "kernelspec": {
   "display_name": "gpuEnv",
   "language": "python",
   "name": "gpuenv"
  },
  "language_info": {
   "codemirror_mode": {
    "name": "ipython",
    "version": 3
   },
   "file_extension": ".py",
   "mimetype": "text/x-python",
   "name": "python",
   "nbconvert_exporter": "python",
   "pygments_lexer": "ipython3",
   "version": "3.8.11"
  }
 },
 "nbformat": 4,
 "nbformat_minor": 5
}
