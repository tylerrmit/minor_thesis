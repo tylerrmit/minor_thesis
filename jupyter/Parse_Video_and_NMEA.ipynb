{
 "cells": [
  {
   "cell_type": "markdown",
   "id": "99680ba6",
   "metadata": {},
   "source": [
    "# Parse Video and NMEA\n",
    "\n",
    "Read a .MP4 video file from a dashcam, split it into frames at the required intervals (60fps footage)\n",
    "and then correlate frames to co-ordinates based on what is recorded in the accompanying NMEA file.\n",
    "\n",
    "Sample NMEA data, repeats every 60 seconds:\n",
    "``` NMEA sample\n",
    "$GPGGA,004008.00,3810.18002,S,14506.69684,E,1,11,0.85,43.6,M,-2.7,M,,*6B\n",
    "$GPGSA,A,3,30,14,07,13,17,194,193,195,19,21,15,,1.47,0.85,1.20*3E\n",
    "$GPGSV,5,1,20,01,10,085,21,05,09,275,15,07,35,078,34,08,10,142,14*7B\n",
    "$GPGSV,5,2,20,09,04,021,08,13,47,236,23,14,75,226,32,15,19,225,21*77\n",
    "$GPGSV,5,3,20,17,43,008,24,19,22,354,29,20,01,305,,21,13,104,24*74\n",
    "$GPGSV,5,4,20,28,,,32,30,69,110,38,41,13,288,,50,42,332,*42\n",
    "$GPGSV,5,5,20,53,22,297,,193,29,356,26,194,74,274,32,195,19,355,31*4E\n",
    "$GSENSORD,0.089,0.123,-0.140\n",
    "$GPRMC,004009.00,A,3810.17224,S,14506.70055,E,29.706,20.61,240921,,,A*74\n",
    "```"
   ]
  },
  {
   "cell_type": "markdown",
   "id": "63fcefe3",
   "metadata": {},
   "source": [
    "http://aprs.gids.nl/nmea/\n",
    "\n",
    "* GPGGA - Global Positioning System Fix Data\n",
    "\n",
    "    - Time \"004001.00\" => The time is 00:40:01 in GMT\n",
    "    - **Latitude \"3810.18002,S\"**\n",
    "    - **Longitude \"14506.69684,E\"**\n",
    "    - Fix Quality \"1\" = GPS fix.  0=Invalid, 2=DGPS fix.\n",
    "    - Number of Satellites \"11\" = 11 Satellites are in view\n",
    "    - Horizontal Dilution of Precision (HDOP) \"0.85\"\n",
    "    - **Altitude \"43.6,M\"**\n",
    "    - Height of geoid above WGS84 ellipsoid \"-2.7,M\"\n",
    "    - DGPS reference station id \"\"\n",
    "    - Checksum \"*6B\"\n",
    "    \n",
    "* GPRMC - Recommended minimum specific GPS/Transit data\n",
    "    - Time \"004009.00\" => The time is 00:40:09 in GMT\n",
    "    - Validity \"A\" => A=OK, V=invalid\n",
    "    - **Latitude \"3810.17224,S\"**\n",
    "    - **Longitude \"14506.70055,E\"**\n",
    "    - Speed in knots \"29.706\" ==> converts to 55kmph. 1 knot = 1.852 kmph.\n",
    "    - **True course \"20.61\" => bearing**\n",
    "    - Date stamp \"240921\" => 24th of September 2021\n",
    "    - Variation \"\"\n",
    "    - East/West \"\"\n",
    "    - Checksum \"A*74\"\n",
    "    \n",
    "* GPGSA - GPS DOP and active satellites\n",
    "    * Ignore\n",
    "    \n",
    "* GPGSV - GPS Satellites in view\n",
    "    * Ignore\n",
    "    \n",
    "* GSENSORD - Sensor data, possibly specific to the device\n",
    "    * Ignore  \n",
    "    \n",
    "We are interested in latitude and longitude, of course, which can come from either GPGGA or GPRMC.  We are also interested in altitude (from GPGGA) and true course (from GPRMC) in case they come in handy.\n",
    "\n",
    "There are 61 instances of GPGGA in the file, and 60 instances of GPRMC in between.  They agree on the co-ords as at\n",
    "each timestamp.  We might as well parse them into a dictionary using the timestamp as the key."
   ]
  },
  {
   "cell_type": "code",
   "execution_count": 1,
   "id": "610206d9",
   "metadata": {},
   "outputs": [],
   "source": [
    "import os\n",
    "import sys\n",
    "\n",
    "module_path_root = os.path.abspath(os.pardir)\n",
    "if module_path_root not in sys.path:\n",
    "    sys.path.append(module_path_root)\n",
    "    \n",
    "# Import local modules\n",
    "import osm_gsv_utils.dashcam_parser as dashcam_parser"
   ]
  },
  {
   "cell_type": "code",
   "execution_count": 2,
   "id": "b5941ee0",
   "metadata": {
    "scrolled": true
   },
   "outputs": [],
   "source": [
    "dashcam_dir = os.path.join(module_path_root, 'data_sources', 'dashcam_tour_mount_eliza')\n",
    "output_dir  = os.path.join(dashcam_dir, 'split')"
   ]
  },
  {
   "cell_type": "code",
   "execution_count": 3,
   "id": "83191e91",
   "metadata": {},
   "outputs": [],
   "source": [
    "parser = dashcam_parser(source_fps=60)"
   ]
  },
  {
   "cell_type": "code",
   "execution_count": 4,
   "id": "87dc6902",
   "metadata": {
    "scrolled": false
   },
   "outputs": [
    {
     "data": {
      "application/vnd.jupyter.widget-view+json": {
       "model_id": "e882ec022c664a8b8ebf3078358069cb",
       "version_major": 2,
       "version_minor": 0
      },
      "text/plain": [
       "  0%|          | 0/45 [00:00<?, ?it/s]"
      ]
     },
     "metadata": {},
     "output_type": "display_data"
    },
    {
     "data": {
      "application/vnd.jupyter.widget-view+json": {
       "model_id": "87d2f66853354f5da533a5e16b22f5e8",
       "version_major": 2,
       "version_minor": 0
      },
      "text/plain": [
       "FILE210924-100801F:   0%|          | 0/3612 [00:00<?, ?it/s]"
      ]
     },
     "metadata": {},
     "output_type": "display_data"
    },
    {
     "data": {
      "application/vnd.jupyter.widget-view+json": {
       "model_id": "4ea259d51940472fb4badc35528f09e5",
       "version_major": 2,
       "version_minor": 0
      },
      "text/plain": [
       "FILE210924-100902F:   0%|          | 0/3612 [00:00<?, ?it/s]"
      ]
     },
     "metadata": {},
     "output_type": "display_data"
    },
    {
     "data": {
      "application/vnd.jupyter.widget-view+json": {
       "model_id": "8241c2e247294c7786a206966a3cf4c4",
       "version_major": 2,
       "version_minor": 0
      },
      "text/plain": [
       "FILE210924-101002F:   0%|          | 0/3612 [00:00<?, ?it/s]"
      ]
     },
     "metadata": {},
     "output_type": "display_data"
    },
    {
     "data": {
      "application/vnd.jupyter.widget-view+json": {
       "model_id": "c9455c4308ff4b649a709be0d2fb0caf",
       "version_major": 2,
       "version_minor": 0
      },
      "text/plain": [
       "FILE210924-101102F:   0%|          | 0/3612 [00:00<?, ?it/s]"
      ]
     },
     "metadata": {},
     "output_type": "display_data"
    },
    {
     "data": {
      "application/vnd.jupyter.widget-view+json": {
       "model_id": "a3177bea3dad48f892190778cbd4c1ed",
       "version_major": 2,
       "version_minor": 0
      },
      "text/plain": [
       "FILE210924-101202F:   0%|          | 0/3612 [00:00<?, ?it/s]"
      ]
     },
     "metadata": {},
     "output_type": "display_data"
    },
    {
     "data": {
      "application/vnd.jupyter.widget-view+json": {
       "model_id": "61087a44b6e1499fa2cc0b82b19dba90",
       "version_major": 2,
       "version_minor": 0
      },
      "text/plain": [
       "FILE210924-101303F:   0%|          | 0/3612 [00:00<?, ?it/s]"
      ]
     },
     "metadata": {},
     "output_type": "display_data"
    },
    {
     "data": {
      "application/vnd.jupyter.widget-view+json": {
       "model_id": "3581da0b57784d058a3a7bfa27f57a89",
       "version_major": 2,
       "version_minor": 0
      },
      "text/plain": [
       "FILE210924-101403F:   0%|          | 0/3612 [00:00<?, ?it/s]"
      ]
     },
     "metadata": {},
     "output_type": "display_data"
    },
    {
     "data": {
      "application/vnd.jupyter.widget-view+json": {
       "model_id": "56964390223948af92b29e100a9b8b6a",
       "version_major": 2,
       "version_minor": 0
      },
      "text/plain": [
       "FILE210924-101503F:   0%|          | 0/3612 [00:00<?, ?it/s]"
      ]
     },
     "metadata": {},
     "output_type": "display_data"
    },
    {
     "data": {
      "application/vnd.jupyter.widget-view+json": {
       "model_id": "a3f1d2932d014b5f9ead71d3a3f10522",
       "version_major": 2,
       "version_minor": 0
      },
      "text/plain": [
       "FILE210924-101603F:   0%|          | 0/3612 [00:00<?, ?it/s]"
      ]
     },
     "metadata": {},
     "output_type": "display_data"
    },
    {
     "data": {
      "application/vnd.jupyter.widget-view+json": {
       "model_id": "fe42efa8a4f44e96a4b0bfabe4e08d23",
       "version_major": 2,
       "version_minor": 0
      },
      "text/plain": [
       "FILE210924-101704F:   0%|          | 0/3612 [00:00<?, ?it/s]"
      ]
     },
     "metadata": {},
     "output_type": "display_data"
    },
    {
     "data": {
      "application/vnd.jupyter.widget-view+json": {
       "model_id": "9463d99ef5ca44fea2074bd5cfba00b7",
       "version_major": 2,
       "version_minor": 0
      },
      "text/plain": [
       "FILE210924-101804F:   0%|          | 0/3612 [00:00<?, ?it/s]"
      ]
     },
     "metadata": {},
     "output_type": "display_data"
    },
    {
     "data": {
      "application/vnd.jupyter.widget-view+json": {
       "model_id": "61cb156ccd614204af9da7f5cb565c1a",
       "version_major": 2,
       "version_minor": 0
      },
      "text/plain": [
       "FILE210924-101904F:   0%|          | 0/3612 [00:00<?, ?it/s]"
      ]
     },
     "metadata": {},
     "output_type": "display_data"
    },
    {
     "name": "stdout",
     "output_type": "stream",
     "text": [
      "WARNING: processing line [FILE210924-102004F] [$GPRMC,002006.00,V,,,,,,,240921,,,N*75\n",
      "], using previous values\n",
      "WARNING: processing line [FILE210924-102004F] [$GPGGA,002006.00,,,,,0,00,99.99,,,,,,*62\n",
      "], using previous values\n"
     ]
    },
    {
     "data": {
      "application/vnd.jupyter.widget-view+json": {
       "model_id": "c5037ecf25cf4bfbb8a0857417942e72",
       "version_major": 2,
       "version_minor": 0
      },
      "text/plain": [
       "FILE210924-102004F:   0%|          | 0/3612 [00:00<?, ?it/s]"
      ]
     },
     "metadata": {},
     "output_type": "display_data"
    },
    {
     "data": {
      "application/vnd.jupyter.widget-view+json": {
       "model_id": "67aab325833f48598d651933fcd7858e",
       "version_major": 2,
       "version_minor": 0
      },
      "text/plain": [
       "FILE210924-102105F:   0%|          | 0/3612 [00:00<?, ?it/s]"
      ]
     },
     "metadata": {},
     "output_type": "display_data"
    },
    {
     "data": {
      "application/vnd.jupyter.widget-view+json": {
       "model_id": "d7648929402c4f679c131a8c5852adf1",
       "version_major": 2,
       "version_minor": 0
      },
      "text/plain": [
       "FILE210924-102205F:   0%|          | 0/3612 [00:00<?, ?it/s]"
      ]
     },
     "metadata": {},
     "output_type": "display_data"
    },
    {
     "data": {
      "application/vnd.jupyter.widget-view+json": {
       "model_id": "54004279e0cb43c7817f11c223c80f2a",
       "version_major": 2,
       "version_minor": 0
      },
      "text/plain": [
       "FILE210924-102305F:   0%|          | 0/3612 [00:00<?, ?it/s]"
      ]
     },
     "metadata": {},
     "output_type": "display_data"
    },
    {
     "data": {
      "application/vnd.jupyter.widget-view+json": {
       "model_id": "6490953526e34b6eb883e31c59c3af09",
       "version_major": 2,
       "version_minor": 0
      },
      "text/plain": [
       "FILE210924-102405F:   0%|          | 0/3612 [00:00<?, ?it/s]"
      ]
     },
     "metadata": {},
     "output_type": "display_data"
    },
    {
     "data": {
      "application/vnd.jupyter.widget-view+json": {
       "model_id": "2ce83e54acf34fbfbf6c9dd72d0e65a3",
       "version_major": 2,
       "version_minor": 0
      },
      "text/plain": [
       "FILE210924-102506F:   0%|          | 0/3612 [00:00<?, ?it/s]"
      ]
     },
     "metadata": {},
     "output_type": "display_data"
    },
    {
     "data": {
      "application/vnd.jupyter.widget-view+json": {
       "model_id": "717d722a98c04e5688ef5a7b990772d7",
       "version_major": 2,
       "version_minor": 0
      },
      "text/plain": [
       "FILE210924-102606F:   0%|          | 0/3612 [00:00<?, ?it/s]"
      ]
     },
     "metadata": {},
     "output_type": "display_data"
    },
    {
     "data": {
      "application/vnd.jupyter.widget-view+json": {
       "model_id": "cc70a82e8b8842efa4f78a40a2c9dd92",
       "version_major": 2,
       "version_minor": 0
      },
      "text/plain": [
       "FILE210924-102706F:   0%|          | 0/3612 [00:00<?, ?it/s]"
      ]
     },
     "metadata": {},
     "output_type": "display_data"
    },
    {
     "name": "stdout",
     "output_type": "stream",
     "text": [
      "WARNING: processing line [FILE210924-102806F] [$GPRMC,002903.00,V,,,,,,,240921,,,N*79\n",
      "], using previous values\n",
      "WARNING: processing line [FILE210924-102806F] [$GPGGA,002903.00,,,,,0,00,99.99,,,,,,*6E\n",
      "], using previous values\n"
     ]
    },
    {
     "data": {
      "application/vnd.jupyter.widget-view+json": {
       "model_id": "f91e1d47f0ee461b99a0e37466b42606",
       "version_major": 2,
       "version_minor": 0
      },
      "text/plain": [
       "FILE210924-102806F:   0%|          | 0/3612 [00:00<?, ?it/s]"
      ]
     },
     "metadata": {},
     "output_type": "display_data"
    },
    {
     "data": {
      "application/vnd.jupyter.widget-view+json": {
       "model_id": "fcb98a42ef26434fbb3ea475f8303ec1",
       "version_major": 2,
       "version_minor": 0
      },
      "text/plain": [
       "FILE210924-102907F:   0%|          | 0/3612 [00:00<?, ?it/s]"
      ]
     },
     "metadata": {},
     "output_type": "display_data"
    },
    {
     "data": {
      "application/vnd.jupyter.widget-view+json": {
       "model_id": "5522a848207040d6ae2fa5dd6e9434e9",
       "version_major": 2,
       "version_minor": 0
      },
      "text/plain": [
       "FILE210924-103007F:   0%|          | 0/3612 [00:00<?, ?it/s]"
      ]
     },
     "metadata": {},
     "output_type": "display_data"
    },
    {
     "data": {
      "application/vnd.jupyter.widget-view+json": {
       "model_id": "74b26a75a6ce40c38b41f6b07a81eeec",
       "version_major": 2,
       "version_minor": 0
      },
      "text/plain": [
       "FILE210924-103107F:   0%|          | 0/3612 [00:00<?, ?it/s]"
      ]
     },
     "metadata": {},
     "output_type": "display_data"
    },
    {
     "data": {
      "application/vnd.jupyter.widget-view+json": {
       "model_id": "b9086f33ef4b49b79722484bac721132",
       "version_major": 2,
       "version_minor": 0
      },
      "text/plain": [
       "FILE210924-103207F:   0%|          | 0/3612 [00:00<?, ?it/s]"
      ]
     },
     "metadata": {},
     "output_type": "display_data"
    },
    {
     "data": {
      "application/vnd.jupyter.widget-view+json": {
       "model_id": "0322cb06b48542d7a08883a9edfd3636",
       "version_major": 2,
       "version_minor": 0
      },
      "text/plain": [
       "FILE210924-103308F:   0%|          | 0/3612 [00:00<?, ?it/s]"
      ]
     },
     "metadata": {},
     "output_type": "display_data"
    },
    {
     "data": {
      "application/vnd.jupyter.widget-view+json": {
       "model_id": "0aaac4ada51846e3a4fb6bb35a952d3f",
       "version_major": 2,
       "version_minor": 0
      },
      "text/plain": [
       "FILE210924-103408F:   0%|          | 0/3612 [00:00<?, ?it/s]"
      ]
     },
     "metadata": {},
     "output_type": "display_data"
    },
    {
     "data": {
      "application/vnd.jupyter.widget-view+json": {
       "model_id": "7733c11304844050ad9d0a933940b462",
       "version_major": 2,
       "version_minor": 0
      },
      "text/plain": [
       "FILE210924-103508F:   0%|          | 0/3612 [00:00<?, ?it/s]"
      ]
     },
     "metadata": {},
     "output_type": "display_data"
    },
    {
     "data": {
      "application/vnd.jupyter.widget-view+json": {
       "model_id": "265f6736f2554c578145478f0a68501b",
       "version_major": 2,
       "version_minor": 0
      },
      "text/plain": [
       "FILE210924-103608F:   0%|          | 0/3612 [00:00<?, ?it/s]"
      ]
     },
     "metadata": {},
     "output_type": "display_data"
    },
    {
     "data": {
      "application/vnd.jupyter.widget-view+json": {
       "model_id": "7a768f90a67f486aa1a8e5e23bcc18c3",
       "version_major": 2,
       "version_minor": 0
      },
      "text/plain": [
       "FILE210924-103709F:   0%|          | 0/3612 [00:00<?, ?it/s]"
      ]
     },
     "metadata": {},
     "output_type": "display_data"
    },
    {
     "data": {
      "application/vnd.jupyter.widget-view+json": {
       "model_id": "a32881e1364a4a128744a46a965320a7",
       "version_major": 2,
       "version_minor": 0
      },
      "text/plain": [
       "FILE210924-103809F:   0%|          | 0/3612 [00:00<?, ?it/s]"
      ]
     },
     "metadata": {},
     "output_type": "display_data"
    },
    {
     "data": {
      "application/vnd.jupyter.widget-view+json": {
       "model_id": "8c0e150690374e64bdee2808677dde9f",
       "version_major": 2,
       "version_minor": 0
      },
      "text/plain": [
       "FILE210924-103909F:   0%|          | 0/3612 [00:00<?, ?it/s]"
      ]
     },
     "metadata": {},
     "output_type": "display_data"
    },
    {
     "data": {
      "application/vnd.jupyter.widget-view+json": {
       "model_id": "65b88a632ebb419787f3b8b1301ebd4f",
       "version_major": 2,
       "version_minor": 0
      },
      "text/plain": [
       "FILE210924-104009F:   0%|          | 0/3612 [00:00<?, ?it/s]"
      ]
     },
     "metadata": {},
     "output_type": "display_data"
    },
    {
     "data": {
      "application/vnd.jupyter.widget-view+json": {
       "model_id": "cd44c467ff34414f963f41c5f7f1c6a2",
       "version_major": 2,
       "version_minor": 0
      },
      "text/plain": [
       "FILE210924-104110F:   0%|          | 0/3612 [00:00<?, ?it/s]"
      ]
     },
     "metadata": {},
     "output_type": "display_data"
    },
    {
     "data": {
      "application/vnd.jupyter.widget-view+json": {
       "model_id": "d03623dd2b0c412d97ff3d5cc040fec5",
       "version_major": 2,
       "version_minor": 0
      },
      "text/plain": [
       "FILE210924-104210F:   0%|          | 0/3612 [00:00<?, ?it/s]"
      ]
     },
     "metadata": {},
     "output_type": "display_data"
    },
    {
     "data": {
      "application/vnd.jupyter.widget-view+json": {
       "model_id": "59cd9a4f4c104c0e9d16f59e17f2ddf0",
       "version_major": 2,
       "version_minor": 0
      },
      "text/plain": [
       "FILE210924-104310F:   0%|          | 0/3612 [00:00<?, ?it/s]"
      ]
     },
     "metadata": {},
     "output_type": "display_data"
    },
    {
     "data": {
      "application/vnd.jupyter.widget-view+json": {
       "model_id": "590cd24f8bb448d689a659d61163aefe",
       "version_major": 2,
       "version_minor": 0
      },
      "text/plain": [
       "FILE210924-104410F:   0%|          | 0/3612 [00:00<?, ?it/s]"
      ]
     },
     "metadata": {},
     "output_type": "display_data"
    },
    {
     "data": {
      "application/vnd.jupyter.widget-view+json": {
       "model_id": "37b72a32ee9049a984026a3ace08f1ad",
       "version_major": 2,
       "version_minor": 0
      },
      "text/plain": [
       "FILE210924-104511F:   0%|          | 0/3612 [00:00<?, ?it/s]"
      ]
     },
     "metadata": {},
     "output_type": "display_data"
    },
    {
     "data": {
      "application/vnd.jupyter.widget-view+json": {
       "model_id": "0ca7e430469e421b90ca60299f67b7c3",
       "version_major": 2,
       "version_minor": 0
      },
      "text/plain": [
       "FILE210924-104611F:   0%|          | 0/3612 [00:00<?, ?it/s]"
      ]
     },
     "metadata": {},
     "output_type": "display_data"
    },
    {
     "data": {
      "application/vnd.jupyter.widget-view+json": {
       "model_id": "e091fcc2c03c475ba2ce8b8ee2f236e9",
       "version_major": 2,
       "version_minor": 0
      },
      "text/plain": [
       "FILE210924-104711F:   0%|          | 0/3612 [00:00<?, ?it/s]"
      ]
     },
     "metadata": {},
     "output_type": "display_data"
    },
    {
     "data": {
      "application/vnd.jupyter.widget-view+json": {
       "model_id": "7e6406f8e02348cb95e277ad34c2d981",
       "version_major": 2,
       "version_minor": 0
      },
      "text/plain": [
       "FILE210924-104811F:   0%|          | 0/3612 [00:00<?, ?it/s]"
      ]
     },
     "metadata": {},
     "output_type": "display_data"
    },
    {
     "data": {
      "application/vnd.jupyter.widget-view+json": {
       "model_id": "5f41b0a1300c4f489b21e939d2bc5da9",
       "version_major": 2,
       "version_minor": 0
      },
      "text/plain": [
       "FILE210924-104911F:   0%|          | 0/3612 [00:00<?, ?it/s]"
      ]
     },
     "metadata": {},
     "output_type": "display_data"
    },
    {
     "data": {
      "application/vnd.jupyter.widget-view+json": {
       "model_id": "3374bad320ab4d6c8d69ca0f1440f85f",
       "version_major": 2,
       "version_minor": 0
      },
      "text/plain": [
       "FILE210924-105012F:   0%|          | 0/3612 [00:00<?, ?it/s]"
      ]
     },
     "metadata": {},
     "output_type": "display_data"
    },
    {
     "data": {
      "application/vnd.jupyter.widget-view+json": {
       "model_id": "3ab9d7e896624c0793d79376cd2ab83a",
       "version_major": 2,
       "version_minor": 0
      },
      "text/plain": [
       "FILE210924-105112F:   0%|          | 0/3612 [00:00<?, ?it/s]"
      ]
     },
     "metadata": {},
     "output_type": "display_data"
    },
    {
     "data": {
      "application/vnd.jupyter.widget-view+json": {
       "model_id": "133e0bcb5bf44c4488bcc3773684f80a",
       "version_major": 2,
       "version_minor": 0
      },
      "text/plain": [
       "FILE210924-105212F:   0%|          | 0/3612 [00:00<?, ?it/s]"
      ]
     },
     "metadata": {},
     "output_type": "display_data"
    }
   ],
   "source": [
    "#selected_prefix = 'FILE210924-104009F'\n",
    "#parser.split_video(dashcam_dir, selected_prefix, output_dir, output_fps=5, suffix='MP4')\n",
    "\n",
    "parser.split_videos(dashcam_dir, output_dir, output_fps=5, suffix='MP4', verbose=False)"
   ]
  },
  {
   "cell_type": "code",
   "execution_count": null,
   "id": "39c0c7b5",
   "metadata": {},
   "outputs": [],
   "source": []
  }
 ],
 "metadata": {
  "kernelspec": {
   "display_name": "gpuEnv",
   "language": "python",
   "name": "gpuenv"
  },
  "language_info": {
   "codemirror_mode": {
    "name": "ipython",
    "version": 3
   },
   "file_extension": ".py",
   "mimetype": "text/x-python",
   "name": "python",
   "nbconvert_exporter": "python",
   "pygments_lexer": "ipython3",
   "version": "3.8.11"
  }
 },
 "nbformat": 4,
 "nbformat_minor": 5
}
