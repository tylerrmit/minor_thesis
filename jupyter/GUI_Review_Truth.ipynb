{
 "cells": [
  {
   "cell_type": "markdown",
   "id": "6b2af5e0",
   "metadata": {},
   "source": [
    "# GUI Review Truth\n",
    "\n",
    "Review all extracted frames for a locality and quickly tag whether it should be hit or miss"
   ]
  },
  {
   "cell_type": "markdown",
   "id": "d4533d52",
   "metadata": {},
   "source": [
    "## Configuration"
   ]
  },
  {
   "cell_type": "code",
   "execution_count": 1,
   "id": "230be32b",
   "metadata": {},
   "outputs": [],
   "source": [
    "#subdir = 'dashcam_tour_frankston'\n",
    "subdir = 'dashcam_tour_mount_eliza'\n",
    "\n",
    "detections_dir = 'detections_V4'"
   ]
  },
  {
   "cell_type": "markdown",
   "id": "87090ae6",
   "metadata": {},
   "source": [
    "## Code"
   ]
  },
  {
   "cell_type": "code",
   "execution_count": 2,
   "id": "38bf9482",
   "metadata": {},
   "outputs": [],
   "source": [
    "import os\n",
    "import sys\n",
    "import ipywidgets as widgets\n",
    "import pandas as pd\n",
    "\n",
    "from pathlib import Path\n",
    "from shutil import copyfile\n",
    "\n",
    "module_path_root = os.path.abspath(os.pardir)\n",
    "if module_path_root not in sys.path:\n",
    "    sys.path.append(module_path_root)"
   ]
  },
  {
   "cell_type": "code",
   "execution_count": 3,
   "id": "c798c487",
   "metadata": {},
   "outputs": [],
   "source": [
    "detections_dir     = os.path.join(os.pardir, 'data_sources', subdir, detections_dir)\n",
    "hits_dir           = os.path.join(detections_dir, 'hits')\n",
    "miss_dir           = os.path.join(detections_dir, 'miss')\n",
    "split_dir          = os.path.join(os.pardir, 'data_sources', subdir, 'split')\n",
    "\n",
    "truth_log = os.path.join(detections_dir, 'truth.csv')"
   ]
  },
  {
   "cell_type": "code",
   "execution_count": 4,
   "id": "9bdb8863",
   "metadata": {},
   "outputs": [],
   "source": [
    "hit_files  = [f for f in os.listdir(hits_dir) if f.endswith('.jpg')]\n",
    "miss_files = [f for f in os.listdir(miss_dir) if f.endswith('.jpg')]\n",
    "\n",
    "# Initially examine the hits\n",
    "global category\n",
    "global image_list\n",
    "global image_dir\n",
    "global image_index\n",
    "category   = 'hits'\n",
    "image_list = hit_files\n",
    "image_dir  = hits_dir\n",
    "image_index = 0"
   ]
  },
  {
   "cell_type": "markdown",
   "id": "2f49c43b",
   "metadata": {},
   "source": [
    "## GUI"
   ]
  },
  {
   "cell_type": "code",
   "execution_count": 5,
   "id": "283d7f1a",
   "metadata": {},
   "outputs": [
    {
     "data": {
      "application/vnd.jupyter.widget-view+json": {
       "model_id": "c7352c4efd2941c9a3ebb0f078cb23a8",
       "version_major": 2,
       "version_minor": 0
      },
      "text/plain": [
       "Image(value=b'\\xff\\xd8\\xff\\xe0\\x00\\x10JFIF\\x00\\x01\\x01\\x00\\x00\\x01\\x00\\x01\\x00\\x00\\xff\\xdb\\x00C\\x00\\x02\\x01\\x0…"
      ]
     },
     "metadata": {},
     "output_type": "display_data"
    },
    {
     "data": {
      "application/vnd.jupyter.widget-view+json": {
       "model_id": "9eaf2c44914c4ee4895cab735acc36c1",
       "version_major": 2,
       "version_minor": 0
      },
      "text/plain": [
       "HBox(children=(Button(description='True Postiive', style=ButtonStyle()), Button(description='True Negative', s…"
      ]
     },
     "metadata": {},
     "output_type": "display_data"
    },
    {
     "data": {
      "application/vnd.jupyter.widget-view+json": {
       "model_id": "86bdaf4d50fd4882a18a7e4976dd27aa",
       "version_major": 2,
       "version_minor": 0
      },
      "text/plain": [
       "Output()"
      ]
     },
     "metadata": {},
     "output_type": "display_data"
    }
   ],
   "source": [
    "# Set up callback functions\n",
    "def update_image():\n",
    "    global category\n",
    "    global image_list\n",
    "    global image_dir\n",
    "    global image_index\n",
    "    \n",
    "    if image_index >= len(image_list):\n",
    "        if category == 'miss':\n",
    "            return 0\n",
    "        \n",
    "        # Switch to processing the misses\n",
    "        category = 'miss'\n",
    "        image_list = miss_files\n",
    "        image_dir  = miss_dir\n",
    "        image_index = 0\n",
    "               \n",
    "    filename = os.path.join(image_dir, image_list[image_index])\n",
    "    file     = open(filename, 'rb')\n",
    "    image    = file.read()\n",
    "    \n",
    "    image_widget.value = image\n",
    "    count_widget.value = '{0:d} of {1:d}'.format(image_index+1, len(image_list))\n",
    "    \n",
    "    return len(image_list) - image_index - 1 # Number of images to go\n",
    "\n",
    "# Create widgets\n",
    "image_widget = widgets.Image(format='jpg')\n",
    "count_widget = widgets.Text(value='{0:d} of {1:d}'.format(1, len(image_list)))\n",
    "hit_button   = widgets.Button(description='True Postiive')\n",
    "miss_button  = widgets.Button(description='True Negative')\n",
    "maybe_button = widgets.Button(description='Understandable Miss')\n",
    "row          = widgets.HBox([hit_button, miss_button, maybe_button, count_widget])\n",
    "out          = widgets.Output()\n",
    "\n",
    "@out.capture()\n",
    "\n",
    "def next_image():\n",
    "    global image_index\n",
    "    global image_list\n",
    "    global category\n",
    "\n",
    "    # Reset when we run out of hits, and start looking at the misses\n",
    "    if category == 'hits' and image_index >= len(image_list):\n",
    "        print('Making the switch!')\n",
    "        image_index = 0\n",
    "        catgory     = 'miss'\n",
    "        image_list  = miss_files\n",
    "        image_dir   = miss_dir\n",
    "        \n",
    "    image_index += 1\n",
    "    images_remaining = update_image()\n",
    "\n",
    "    \n",
    "def on_hit(b):\n",
    "    global image_index\n",
    "    write_log(image_index, '1')\n",
    "    next_image()\n",
    "    \n",
    "def on_miss(b):\n",
    "    global image_index\n",
    "    write_log(image_index, '0')\n",
    "    next_image()\n",
    "\n",
    "def on_maybe(b):\n",
    "    global image_index\n",
    "    write_log(image_index, '2')\n",
    "    next_image()\n",
    "    \n",
    "def write_log(index, value):\n",
    "    if not os.path.exists(truth_log):\n",
    "        log = open(truth_log, 'w')\n",
    "        log.write('filename,actual,predicted\\n')\n",
    "    else:\n",
    "        log = open(truth_log, 'a')\n",
    "\n",
    "    if category == 'hits':\n",
    "        predicted = '1'\n",
    "    else:\n",
    "        predicted = '0'\n",
    "    log.write('{0:s},{1:s},{2:s}\\n'.format(image_list[index], value, predicted))\n",
    "        \n",
    "        \n",
    "hit_button.on_click(on_hit)\n",
    "miss_button.on_click(on_miss)\n",
    "maybe_button.on_click(on_maybe)\n",
    "\n",
    "# Start with the first image\n",
    "update_image()\n",
    "\n",
    "# Display the GUI\n",
    "display(image_widget)\n",
    "display(row)\n",
    "display(out)"
   ]
  },
  {
   "cell_type": "code",
   "execution_count": null,
   "id": "22bf8a7f",
   "metadata": {},
   "outputs": [],
   "source": []
  }
 ],
 "metadata": {
  "kernelspec": {
   "display_name": "gpuEnv",
   "language": "python",
   "name": "gpuenv"
  },
  "language_info": {
   "codemirror_mode": {
    "name": "ipython",
    "version": 3
   },
   "file_extension": ".py",
   "mimetype": "text/x-python",
   "name": "python",
   "nbconvert_exporter": "python",
   "pygments_lexer": "ipython3",
   "version": "3.8.11"
  }
 },
 "nbformat": 4,
 "nbformat_minor": 5
}
