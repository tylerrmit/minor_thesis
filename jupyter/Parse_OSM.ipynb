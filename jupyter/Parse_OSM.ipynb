{
 "cells": [
  {
   "cell_type": "code",
   "execution_count": 1,
   "id": "ce231461",
   "metadata": {},
   "outputs": [],
   "source": [
    "import os\n",
    "import sys\n",
    "import xml.dom.minidom\n",
    "\n",
    "# Make sure local modules can be imported\n",
    "module_path_root = os.path.abspath(os.pardir)\n",
    "if module_path_root not in sys.path:\n",
    "    sys.path.append(module_path_root)"
   ]
  },
  {
   "cell_type": "code",
   "execution_count": 2,
   "id": "7ee8c400",
   "metadata": {},
   "outputs": [],
   "source": [
    "# Specify the locality whose OSM file we want to load\n",
    "\n",
    "locality = 'Mount Eliza'"
   ]
  },
  {
   "cell_type": "code",
   "execution_count": 3,
   "id": "eb90c9d7",
   "metadata": {},
   "outputs": [],
   "source": [
    "# Load the XML file into memory\n",
    "# This assumes that we have reduced the OpenStreetMap data down to a small enough locality\n",
    "# that the in-memory approach is feasible\n",
    "\n",
    "osm_filename = os.path.join(os.pardir, 'data_sources', 'Locality_' + locality.replace(' ', '_') + '.osm')\n",
    "\n",
    "doc = xml.dom.minidom.parse(osm_filename)"
   ]
  },
  {
   "cell_type": "code",
   "execution_count": 4,
   "id": "f2c6a889",
   "metadata": {},
   "outputs": [
    {
     "name": "stdout",
     "output_type": "stream",
     "text": [
      "Way count: 1804\n"
     ]
    }
   ],
   "source": [
    "# Get a list of ways\n",
    "ways = doc.getElementsByTagName('way')\n",
    "print('Way count: %d' % ways.length)\n",
    "\n"
   ]
  },
  {
   "cell_type": "code",
   "execution_count": null,
   "id": "3852a99a",
   "metadata": {},
   "outputs": [],
   "source": []
  }
 ],
 "metadata": {
  "kernelspec": {
   "display_name": "Python 3",
   "language": "python",
   "name": "python3"
  },
  "language_info": {
   "codemirror_mode": {
    "name": "ipython",
    "version": 3
   },
   "file_extension": ".py",
   "mimetype": "text/x-python",
   "name": "python",
   "nbconvert_exporter": "python",
   "pygments_lexer": "ipython3",
   "version": "3.8.11"
  }
 },
 "nbformat": 4,
 "nbformat_minor": 5
}
