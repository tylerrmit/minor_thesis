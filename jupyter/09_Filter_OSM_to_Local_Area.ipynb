{
 "cells": [
  {
   "cell_type": "markdown",
   "id": "474c5112",
   "metadata": {},
   "source": [
    "# 09. Filter OSM to Local Area\n",
    "\n",
    "Create a geojson file describing the shape of a local area by town name, based on a larger geojson file of all local area boundaries provided by the government.\n",
    "\n",
    "Then, build \"osmium\" command lines that can be used to filter a larger OpenStreetMap extract (XML or PBF format) down to a smaller XML area for just the target Local Area, plus a second XML extract containing the a slightly larger bounding box around the Local Area.  The second extract will be used later to capture intersections at the very margin of the first extract, which would otherwise not be detected due to the intersecting street being clipped out of the first extract."
   ]
  },
  {
   "cell_type": "markdown",
   "id": "fd186cc3",
   "metadata": {},
   "source": [
    "## Configuration\n",
    "\n",
    "Any configuration that is required to run this notebook can be customized in the next cell"
   ]
  },
  {
   "cell_type": "code",
   "execution_count": 1,
   "id": "aabc3147",
   "metadata": {},
   "outputs": [],
   "source": [
    "# The name of the target area\n",
    "locality = 'Mount Eliza'\n",
    "#locality = 'Langwarrin'\n",
    "\n",
    "# The name of the Government-issued local boundary geojson file\n",
    "# This is expected to be found in the 'data_sources' folder\n",
    "input_geojson_filename = 'LGA_boundaries_VIC.geojson'\n",
    "\n",
    "# The name of the key that is used to filter the main geojson file down to a specific area\n",
    "# This will be 'vic_loca_2' for towns or suburbs.  Examine the original file for further options.\n",
    "filter_key = 'vic_loca_2'"
   ]
  },
  {
   "cell_type": "markdown",
   "id": "4c45468b",
   "metadata": {},
   "source": [
    "## Code"
   ]
  },
  {
   "cell_type": "code",
   "execution_count": 2,
   "id": "fd0e7660",
   "metadata": {},
   "outputs": [],
   "source": [
    "# General imports\n",
    "import os\n",
    "import sys\n",
    "\n",
    "# Make sure local modules can be imported\n",
    "module_path_root = os.path.abspath(os.pardir)\n",
    "if module_path_root not in sys.path:\n",
    "    sys.path.append(module_path_root)\n",
    "    \n",
    "# Import local modules\n",
    "import osm_gsv_utils.osm_filter as osm_filter"
   ]
  },
  {
   "cell_type": "code",
   "execution_count": 3,
   "id": "cd89441e",
   "metadata": {},
   "outputs": [],
   "source": [
    "# Derived paths\n",
    "\n",
    "# Full path to the original, government-issued file\n",
    "input_geojson_path = os.path.join(module_path_root, 'data_sources', input_geojson_filename)\n",
    "\n",
    "# A version of the locality name with spaces replaced by underscores\n",
    "locality_clean   = locality.replace(' ', '_')\n",
    "\n",
    "# Paths to both the main OpenStreetMap XML extract and a second extract that allows a wider margin\n",
    "output_filename_main    = os.path.join(os.path.abspath(os.pardir), 'data_sources', 'Locality_' + locality_clean + '.osm')\n",
    "output_filename_margin  = os.path.join(os.path.abspath(os.pardir), 'data_sources', 'Locality_' + locality_clean + '_margin.osm')"
   ]
  },
  {
   "cell_type": "markdown",
   "id": "5542c9ff",
   "metadata": {},
   "source": [
    "## Generating geojson files\n",
    "\n",
    "This section will automatically create the required geojson files to describe the shape of the area"
   ]
  },
  {
   "cell_type": "code",
   "execution_count": 4,
   "id": "3786f299",
   "metadata": {},
   "outputs": [
    {
     "name": "stdout",
     "output_type": "stream",
     "text": [
      "Bounding box excl margin: -38.224989, 145.061002 => -38.162589, 145.128750\n",
      "Bounding box with margin: -38.226263, 145.059387 => -38.161315, 145.130364\n",
      "\n",
      "Run the following two osmium commands:\n",
      "\n",
      "First command:  Extract OSM data according to the official \"shape\" of the Locality\n",
      "\n",
      "osmium extract --polygon=Locality_Mount_Eliza.geojson australia-latest.osm.pbf -o Locality_Mount_Eliza.osm\n",
      "\n",
      "Second command:  Extract OSM data for a bounding box 200 meters bigger than the \"shape\"\n",
      "This second extract will be used to ensure we do not miss any intersections with streets that are JUST outside the locality\n",
      "\n",
      "osmium extract --polygon=Locality_Mount_Eliza_margin.geojson australia-latest.osm.pbf -o Locality_Mount_Eliza_margin.osm\n"
     ]
    }
   ],
   "source": [
    "# Load the government-issued localities data into memory\n",
    "vic_localities = osm_filter(input_geojson_path)\n",
    "\n",
    "# Filter the data down to the required area, and save as a pair of geojson files\n",
    "vic_localities.save_locality(locality_clean, output_filename_main, output_filename_margin, locality)"
   ]
  },
  {
   "cell_type": "markdown",
   "id": "3d282db6",
   "metadata": {},
   "source": [
    "# Using osmium\n",
    "\n",
    "Now that you have geojson files, you must install and use the \"osmium\" tool that will allow you to filter the OpenStreetMap data down to the required extracts, using the geojson files created above.\n",
    "\n",
    "Obtain \"osmium\" from here: (https://osmcode.org/osmium-tool/)\n",
    "\n",
    "On MacOS, install \"homebrew\" (if not already installed) via https://brew.sh/\n",
    "Then run \"brew install osmium-tool\"\n",
    "\n",
    "On Windows, the easiest way to install is probably to install \"Windows Subsystem for Linux\" with an Ubuntu distribution, then install \"osmium-tool\" as per the instructions for Ubuntu.\n",
    "\n",
    "On Ubuntu linux, run \"sudo apt-get install osmium-tool\"\n",
    "\n",
    "Once the tool is installed, manually run the two \"osmium extract\" commands listed in the results of the above cell.  They assume that your current working directory is the 'data_sources' directory where the original OpenStreetMap extract and the geojson files you just created are.  They also assume that you have downloaded the full .osm.pbf file for Australia from http://download.geofabrik.de and saved it under its default name \"australia-latest.osm.pbf\".  If you're working from a different OpenStreetMap extract, please substitute its filename."
   ]
  }
 ],
 "metadata": {
  "kernelspec": {
   "display_name": "Python 3",
   "language": "python",
   "name": "python3"
  },
  "language_info": {
   "codemirror_mode": {
    "name": "ipython",
    "version": 3
   },
   "file_extension": ".py",
   "mimetype": "text/x-python",
   "name": "python",
   "nbconvert_exporter": "python",
   "pygments_lexer": "ipython3",
   "version": "3.8.11"
  }
 },
 "nbformat": 4,
 "nbformat_minor": 5
}
