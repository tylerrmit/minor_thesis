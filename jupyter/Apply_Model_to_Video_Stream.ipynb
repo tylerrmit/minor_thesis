{
 "cells": [
  {
   "cell_type": "markdown",
   "id": "c59ab8a6",
   "metadata": {},
   "source": [
    "# Apply the trained model\n",
    "\n",
    "Apply the model to a full MP4 video and output an MP4 video"
   ]
  },
  {
   "cell_type": "markdown",
   "id": "e7b1d932",
   "metadata": {},
   "source": [
    "## Configuration"
   ]
  },
  {
   "cell_type": "code",
   "execution_count": 1,
   "id": "66afdcf7",
   "metadata": {},
   "outputs": [],
   "source": [
    "video_in  = 'FILE210822-173937F.mp4'\n",
    "video_out = 'V5_out.mp4'\n",
    "\n",
    "confidence_threshold = 0.60\n",
    "\n",
    "#mask = None\n",
    "mask = [[0, 0], [0, 720], [480, 650], [950, 650], [950, 0]]\n",
    "\n",
    "#trained_model_name   = 'centernet_hg104_512x512_coco17_tpu-8'\n",
    "#trained_model_name   = 'centernet_V1' # Trained on GSV only\n",
    "#trained_model_name   = 'centernet_V2' # Trained on GSV plus some dashcam footage\n",
    "#trained_model_name   = 'centernet_V3' # Trained on CSV plus dashcam with false positives (2000 steps)\n",
    "#trained_model_name   = 'centernet_V4' # Add RoadDefect and RoadWriting classes to model (2000 steps)\n",
    "trained_model_name   = 'centernet_V5' # V4 but with 30,000 steps"
   ]
  },
  {
   "cell_type": "markdown",
   "id": "3002fdfb",
   "metadata": {},
   "source": [
    "## Load and configure model"
   ]
  },
  {
   "cell_type": "code",
   "execution_count": 2,
   "id": "a07f3b19",
   "metadata": {},
   "outputs": [],
   "source": [
    "import os\n",
    "import sys\n",
    "from pathlib import Path\n",
    "\n",
    "import numpy as np\n",
    "\n",
    "from ipyleaflet import Map, GeoJSON\n",
    "\n",
    "\n",
    "# Make sure local modules can be imported\n",
    "module_path_root = os.path.abspath(os.pardir)\n",
    "if module_path_root not in sys.path:\n",
    "    sys.path.append(module_path_root)\n",
    "    \n",
    "# Import local modules\n",
    "import tf2_utils.tf2_model_wrapper as tf2_model_wrapper\n",
    "import osm_gsv_utils.detection_map as detection_map\n",
    "import osm_gsv_utils.detection_log_filter as detection_log_filter\n",
    "\n",
    "%matplotlib inline"
   ]
  },
  {
   "cell_type": "code",
   "execution_count": 3,
   "id": "2d9a2087",
   "metadata": {},
   "outputs": [],
   "source": [
    "# Derive paths\n",
    "output_directory = os.path.join(module_path_root, 'data_sources', 'test1_video')\n",
    "\n",
    "# Change working directory\n",
    "os.chdir(Path(module_path_root).parent.absolute())\n",
    "\n",
    "# Initialise numpy version of mask\n",
    "if mask is not None:\n",
    "    mask_np = np.array(mask)\n",
    "else:\n",
    "    mask_np = None"
   ]
  },
  {
   "cell_type": "code",
   "execution_count": 4,
   "id": "e9edad0d",
   "metadata": {},
   "outputs": [
    {
     "name": "stdout",
     "output_type": "stream",
     "text": [
      "[PhysicalDevice(name='/physical_device:GPU:0', device_type='GPU')]\n",
      "Output directory for detections: D:\\TensorFlow2\\TFODCourse\\minor_thesis\\data_sources\\test1_video\n",
      "Latest Checkpoint: ckpt-0\n"
     ]
    }
   ],
   "source": [
    "# Initialise model\n",
    "model_wrapper = tf2_model_wrapper(output_directory, 0, output_directory, output_directory, trained_model_name)"
   ]
  },
  {
   "cell_type": "markdown",
   "id": "ba46b667",
   "metadata": {},
   "source": [
    "## Model Application"
   ]
  },
  {
   "cell_type": "code",
   "execution_count": 5,
   "id": "5bb31bee",
   "metadata": {},
   "outputs": [
    {
     "data": {
      "application/vnd.jupyter.widget-view+json": {
       "model_id": "e5d475e8eec447f08c62cb67fbf87431",
       "version_major": 2,
       "version_minor": 0
      },
      "text/plain": [
       "  0%|          | 0/3612 [00:00<?, ?it/s]"
      ]
     },
     "metadata": {},
     "output_type": "display_data"
    },
    {
     "name": "stdout",
     "output_type": "stream",
     "text": [
      "WARNING:tensorflow:From C:\\Users\\User\\TensorFlow\\models\\research\\object_detection\\meta_architectures\\center_net_meta_arch.py:3769: to_int32 (from tensorflow.python.ops.math_ops) is deprecated and will be removed in a future version.\n",
      "Instructions for updating:\n",
      "Use `tf.cast` instead.\n"
     ]
    }
   ],
   "source": [
    "model_wrapper.process_video(output_directory, video_in, video_out, min_score=confidence_threshold, mask=mask)"
   ]
  }
 ],
 "metadata": {
  "kernelspec": {
   "display_name": "gpuEnv",
   "language": "python",
   "name": "gpuenv"
  },
  "language_info": {
   "codemirror_mode": {
    "name": "ipython",
    "version": 3
   },
   "file_extension": ".py",
   "mimetype": "text/x-python",
   "name": "python",
   "nbconvert_exporter": "python",
   "pygments_lexer": "ipython3",
   "version": "3.8.11"
  }
 },
 "nbformat": 4,
 "nbformat_minor": 5
}
