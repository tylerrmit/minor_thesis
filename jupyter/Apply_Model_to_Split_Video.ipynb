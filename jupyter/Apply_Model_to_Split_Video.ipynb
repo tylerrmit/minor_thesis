{
 "cells": [
  {
   "cell_type": "markdown",
   "id": "c59ab8a6",
   "metadata": {},
   "source": [
    "# Apply the trained model\n",
    "\n",
    "Take a batch file of sample points where the GSV images have been cached, and apply the model to detect the required objects and log where they were found."
   ]
  },
  {
   "cell_type": "markdown",
   "id": "e7b1d932",
   "metadata": {},
   "source": [
    "## Configuration"
   ]
  },
  {
   "cell_type": "code",
   "execution_count": 1,
   "id": "66afdcf7",
   "metadata": {},
   "outputs": [],
   "source": [
    "split_subdir         = 'dashcam_tour_mount_eliza'\n",
    "#split_subdir         = 'dashcam_tour_frankston'\n",
    "\n",
    "margin               = 0\n",
    "confidence_threshold = 0.60\n",
    "\n",
    "#mask = None\n",
    "mask = [[0, 0], [0, 720], [480, 650], [950, 650], [950, 0]]\n",
    "\n",
    "# Filters for outlier hits\n",
    "min_hits_in_range    = 2\n",
    "min_range_from_hit   = 10\n",
    "max_range_from_hit   = 50\n",
    "\n",
    "#trained_model_name   = 'centernet_hg104_512x512_coco17_tpu-8'\n",
    "#trained_model_name   = 'centernet_V1' # Trained on GSV only\n",
    "#trained_model_name   = 'centernet_V2' # Trained on GSV plus some dashcam footage\n",
    "#trained_model_name   = 'centernet_V3' # Trained on CSV plus dashcam with false positives (2000 steps)\n",
    "#trained_model_name   = 'centernet_V4' # Add RoadDefect and RoadWriting classes to model (2000 steps)\n",
    "trained_model_name   = 'centernet_V5' # V4 but with 30,000 steps"
   ]
  },
  {
   "cell_type": "markdown",
   "id": "3002fdfb",
   "metadata": {},
   "source": [
    "## Load and configure model"
   ]
  },
  {
   "cell_type": "code",
   "execution_count": 2,
   "id": "a07f3b19",
   "metadata": {},
   "outputs": [],
   "source": [
    "import os\n",
    "import sys\n",
    "from pathlib import Path\n",
    "\n",
    "import numpy as np\n",
    "\n",
    "from ipyleaflet import Map, GeoJSON\n",
    "\n",
    "\n",
    "# Make sure local modules can be imported\n",
    "module_path_root = os.path.abspath(os.pardir)\n",
    "if module_path_root not in sys.path:\n",
    "    sys.path.append(module_path_root)\n",
    "    \n",
    "# Import local modules\n",
    "import tf2_utils.tf2_model_wrapper as tf2_model_wrapper\n",
    "import osm_gsv_utils.detection_map as detection_map\n",
    "import osm_gsv_utils.detection_log_filter as detection_log_filter\n",
    "\n",
    "%matplotlib inline"
   ]
  },
  {
   "cell_type": "code",
   "execution_count": 3,
   "id": "2d9a2087",
   "metadata": {},
   "outputs": [],
   "source": [
    "# Derive paths\n",
    "\n",
    "download_directory = os.path.join(module_path_root, 'data_sources', split_subdir, 'split')\n",
    "batch_filename     = os.path.join(module_path_root, 'data_sources', split_subdir, 'split', 'metadata.csv')\n",
    "output_directory   = os.path.join(module_path_root, 'data_sources', split_subdir, 'detections')\n",
    "\n",
    "os.chdir(Path(module_path_root).parent.absolute())\n",
    "\n",
    "# Initialise numpy version of mask\n",
    "if mask is not None:\n",
    "    mask_np = np.array(mask)\n",
    "else:\n",
    "    mask_np = None"
   ]
  },
  {
   "cell_type": "code",
   "execution_count": null,
   "id": "e9edad0d",
   "metadata": {},
   "outputs": [],
   "source": [
    "# Initialise model\n",
    "model_wrapper = tf2_model_wrapper(split_subdir, margin, download_directory, output_directory, trained_model_name)"
   ]
  },
  {
   "cell_type": "markdown",
   "id": "ba46b667",
   "metadata": {},
   "source": [
    "## Model Application"
   ]
  },
  {
   "cell_type": "code",
   "execution_count": null,
   "id": "5bb31bee",
   "metadata": {},
   "outputs": [],
   "source": [
    "# Run detection for entire batch\n",
    "detection_log = model_wrapper.process_split_dir(\n",
    "    batch_filename,\n",
    "    min_score = confidence_threshold,\n",
    "    mask      = mask_np,\n",
    "    progress  = True,\n",
    "    verbose   = False\n",
    ")"
   ]
  },
  {
   "cell_type": "code",
   "execution_count": null,
   "id": "c0752a95",
   "metadata": {},
   "outputs": [],
   "source": [
    "# Example of bike lane FILE210926-101400F_0600.png\n",
    "# Example of give way FILE210926-101400F_0996.png\n",
    "\n",
    "#model_wrapper.apply_model(0, 0, 0, 0, 0, 0, 0, filename='FILE210926-101400F_0600.png', heading_offsets=[0], mask=mask_np, display=True)"
   ]
  },
  {
   "cell_type": "code",
   "execution_count": null,
   "id": "9b17cbc7",
   "metadata": {},
   "outputs": [],
   "source": [
    "#model_wrapper.apply_model(0, 0, 0, 0, 0, 0, 0, filename='FILE210926-101400F_0996.png', heading_offsets=[0], mask=mask_np, display=True)"
   ]
  },
  {
   "cell_type": "markdown",
   "id": "5892f232",
   "metadata": {},
   "source": [
    "## Filter hits to remove outliers"
   ]
  },
  {
   "cell_type": "code",
   "execution_count": 4,
   "id": "3b1d11da",
   "metadata": {},
   "outputs": [
    {
     "data": {
      "application/vnd.jupyter.widget-view+json": {
       "model_id": "efb42cbb4b6e4e7b879fcfb636ec63e4",
       "version_major": 2,
       "version_minor": 0
      },
      "text/plain": [
       "  0%|          | 0/526 [00:00<?, ?it/s]"
      ]
     },
     "metadata": {},
     "output_type": "display_data"
    }
   ],
   "source": [
    "filter = detection_log_filter(os.path.join(output_directory, 'detection_log.csv'))\n",
    "\n",
    "filter.apply_filter(\n",
    "    os.path.join(output_directory, 'detection_log_filtered.csv'),\n",
    "    min_hits_in_range  = 2,\n",
    "    min_range_from_hit = 5,\n",
    "    max_range_from_hit = 200\n",
    ")"
   ]
  },
  {
   "cell_type": "code",
   "execution_count": null,
   "id": "7e63698f",
   "metadata": {},
   "outputs": [],
   "source": []
  }
 ],
 "metadata": {
  "kernelspec": {
   "display_name": "gpuEnv",
   "language": "python",
   "name": "gpuenv"
  },
  "language_info": {
   "codemirror_mode": {
    "name": "ipython",
    "version": 3
   },
   "file_extension": ".py",
   "mimetype": "text/x-python",
   "name": "python",
   "nbconvert_exporter": "python",
   "pygments_lexer": "ipython3",
   "version": "3.8.11"
  }
 },
 "nbformat": 4,
 "nbformat_minor": 5
}
