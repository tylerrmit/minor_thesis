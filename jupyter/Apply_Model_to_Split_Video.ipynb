{
 "cells": [
  {
   "cell_type": "markdown",
   "id": "c59ab8a6",
   "metadata": {},
   "source": [
    "# Apply the trained model\n",
    "\n",
    "Take a batch file of sample points where the GSV images have been cached, and apply the model to detect the required objects and log where they were found."
   ]
  },
  {
   "cell_type": "markdown",
   "id": "e7b1d932",
   "metadata": {},
   "source": [
    "## Configuration"
   ]
  },
  {
   "cell_type": "code",
   "execution_count": 1,
   "id": "66afdcf7",
   "metadata": {},
   "outputs": [],
   "source": [
    "split_subdir         = 'dashcam_tour_mount_eliza'\n",
    "margin               = 0\n",
    "confidence_threshold = 0.55\n",
    "\n",
    "trained_model_name   = 'centernet_hg104_512x512_coco17_tpu-8'"
   ]
  },
  {
   "cell_type": "markdown",
   "id": "3002fdfb",
   "metadata": {},
   "source": [
    "## Load and configure model"
   ]
  },
  {
   "cell_type": "code",
   "execution_count": 2,
   "id": "a07f3b19",
   "metadata": {},
   "outputs": [],
   "source": [
    "import os\n",
    "import sys\n",
    "from pathlib import Path\n",
    "\n",
    "from ipyleaflet import Map, GeoJSON\n",
    "\n",
    "\n",
    "# Make sure local modules can be imported\n",
    "module_path_root = os.path.abspath(os.pardir)\n",
    "if module_path_root not in sys.path:\n",
    "    sys.path.append(module_path_root)\n",
    "    \n",
    "# Import local modules\n",
    "import tf2_utils.tf2_model_wrapper as tf2_model_wrapper\n",
    "import osm_gsv_utils.detection_map as detection_map\n",
    "\n",
    "%matplotlib inline"
   ]
  },
  {
   "cell_type": "code",
   "execution_count": 3,
   "id": "2d9a2087",
   "metadata": {},
   "outputs": [],
   "source": [
    "# Derive paths\n",
    "\n",
    "download_directory = os.path.join(module_path_root, 'data_sources', split_subdir, 'split')\n",
    "batch_filename     = os.path.join(module_path_root, 'data_sources', split_subdir, 'split', 'metadata.csv')\n",
    "output_directory   = os.path.join(module_path_root, 'data_sources', split_subdir, 'detections')\n",
    "\n",
    "os.chdir(Path(module_path_root).parent.absolute())"
   ]
  },
  {
   "cell_type": "code",
   "execution_count": 4,
   "id": "e9edad0d",
   "metadata": {},
   "outputs": [
    {
     "name": "stdout",
     "output_type": "stream",
     "text": [
      "[PhysicalDevice(name='/physical_device:GPU:0', device_type='GPU')]\n",
      "Output directory for detections: D:\\TensorFlow2\\TFODCourse\\minor_thesis\\data_sources\\dashcam_tour_mount_eliza\\detections\n",
      "Latest Checkpoint: ckpt-27\n"
     ]
    }
   ],
   "source": [
    "# Initialise model\n",
    "model_wrapper = tf2_model_wrapper(split_subdir, margin, download_directory, output_directory, trained_model_name)"
   ]
  },
  {
   "cell_type": "markdown",
   "id": "ba46b667",
   "metadata": {},
   "source": [
    "## Model Application"
   ]
  },
  {
   "cell_type": "code",
   "execution_count": 5,
   "id": "5bb31bee",
   "metadata": {},
   "outputs": [
    {
     "data": {
      "application/vnd.jupyter.widget-view+json": {
       "model_id": "e1de8203b1cc490c97e67153ea391604",
       "version_major": 2,
       "version_minor": 0
      },
      "text/plain": [
       "  0%|          | 0/13545 [00:00<?, ?it/s]"
      ]
     },
     "metadata": {},
     "output_type": "display_data"
    },
    {
     "name": "stdout",
     "output_type": "stream",
     "text": [
      "WARNING:tensorflow:From C:\\Users\\User\\TensorFlow\\models\\research\\object_detection\\meta_architectures\\center_net_meta_arch.py:3769: to_int32 (from tensorflow.python.ops.math_ops) is deprecated and will be removed in a future version.\n",
      "Instructions for updating:\n",
      "Use `tf.cast` instead.\n"
     ]
    }
   ],
   "source": [
    "# Run detection for entire batch\n",
    "detection_log = model_wrapper.process_split_dir(batch_filename, min_score=confidence_threshold, progress=True, verbose=False)"
   ]
  },
  {
   "cell_type": "code",
   "execution_count": null,
   "id": "c0752a95",
   "metadata": {},
   "outputs": [],
   "source": []
  }
 ],
 "metadata": {
  "kernelspec": {
   "display_name": "gpuEnv",
   "language": "python",
   "name": "gpuenv"
  },
  "language_info": {
   "codemirror_mode": {
    "name": "ipython",
    "version": 3
   },
   "file_extension": ".py",
   "mimetype": "text/x-python",
   "name": "python",
   "nbconvert_exporter": "python",
   "pygments_lexer": "ipython3",
   "version": "3.8.11"
  }
 },
 "nbformat": 4,
 "nbformat_minor": 5
}
