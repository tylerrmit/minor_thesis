{
 "cells": [
  {
   "cell_type": "markdown",
   "id": "99680ba6",
   "metadata": {},
   "source": [
    "# Parse Video and NMEA -- Version 2\n",
    "\n",
    "Read a .MP4 video file from a dashcam, split it into frames at the required intervals (60fps footage)\n",
    "and then correlate frames to co-ordinates based on what is recorded in the accompanying NMEA file.\n",
    "\n",
    "Version 2 changes: Create a CSV log of left lane pixel width, altitude, bearing, while splitting the data"
   ]
  },
  {
   "cell_type": "code",
   "execution_count": 1,
   "id": "d46c7451",
   "metadata": {},
   "outputs": [],
   "source": [
    "#import_directory = 'dashcam_tour_mount_eliza'\n",
    "import_directory = 'dashcam_tour_frankston'"
   ]
  },
  {
   "cell_type": "markdown",
   "id": "289f0c3a",
   "metadata": {},
   "source": [
    "Sample NMEA data, repeats every 60 seconds:\n",
    "``` NMEA sample\n",
    "$GPGGA,004008.00,3810.18002,S,14506.69684,E,1,11,0.85,43.6,M,-2.7,M,,*6B\n",
    "$GPGSA,A,3,30,14,07,13,17,194,193,195,19,21,15,,1.47,0.85,1.20*3E\n",
    "$GPGSV,5,1,20,01,10,085,21,05,09,275,15,07,35,078,34,08,10,142,14*7B\n",
    "$GPGSV,5,2,20,09,04,021,08,13,47,236,23,14,75,226,32,15,19,225,21*77\n",
    "$GPGSV,5,3,20,17,43,008,24,19,22,354,29,20,01,305,,21,13,104,24*74\n",
    "$GPGSV,5,4,20,28,,,32,30,69,110,38,41,13,288,,50,42,332,*42\n",
    "$GPGSV,5,5,20,53,22,297,,193,29,356,26,194,74,274,32,195,19,355,31*4E\n",
    "$GSENSORD,0.089,0.123,-0.140\n",
    "$GPRMC,004009.00,A,3810.17224,S,14506.70055,E,29.706,20.61,240921,,,A*74\n",
    "```"
   ]
  },
  {
   "cell_type": "markdown",
   "id": "63fcefe3",
   "metadata": {},
   "source": [
    "http://aprs.gids.nl/nmea/\n",
    "\n",
    "* GPGGA - Global Positioning System Fix Data\n",
    "\n",
    "    - Time \"004001.00\" => The time is 00:40:01 in GMT\n",
    "    - **Latitude \"3810.18002,S\"**\n",
    "    - **Longitude \"14506.69684,E\"**\n",
    "    - Fix Quality \"1\" = GPS fix.  0=Invalid, 2=DGPS fix.\n",
    "    - Number of Satellites \"11\" = 11 Satellites are in view\n",
    "    - Horizontal Dilution of Precision (HDOP) \"0.85\"\n",
    "    - **Altitude \"43.6,M\"**\n",
    "    - Height of geoid above WGS84 ellipsoid \"-2.7,M\"\n",
    "    - DGPS reference station id \"\"\n",
    "    - Checksum \"*6B\"\n",
    "    \n",
    "* GPRMC - Recommended minimum specific GPS/Transit data\n",
    "    - Time \"004009.00\" => The time is 00:40:09 in GMT\n",
    "    - Validity \"A\" => A=OK, V=invalid\n",
    "    - **Latitude \"3810.17224,S\"**\n",
    "    - **Longitude \"14506.70055,E\"**\n",
    "    - Speed in knots \"29.706\" ==> converts to 55kmph. 1 knot = 1.852 kmph.\n",
    "    - **True course \"20.61\" => bearing**\n",
    "    - Date stamp \"240921\" => 24th of September 2021\n",
    "    - Variation \"\"\n",
    "    - East/West \"\"\n",
    "    - Checksum \"A*74\"\n",
    "    \n",
    "* GPGSA - GPS DOP and active satellites\n",
    "    * Ignore\n",
    "    \n",
    "* GPGSV - GPS Satellites in view\n",
    "    * Ignore\n",
    "    \n",
    "* GSENSORD - Sensor data, possibly specific to the device\n",
    "    * Ignore  \n",
    "    \n",
    "We are interested in latitude and longitude, of course, which can come from either GPGGA or GPRMC.  We are also interested in altitude (from GPGGA) and true course (from GPRMC) in case they come in handy.\n",
    "\n",
    "There are 61 instances of GPGGA in the file, and 60 instances of GPRMC in between.  They agree on the co-ords as at\n",
    "each timestamp.  We might as well parse them into a dictionary using the timestamp as the key."
   ]
  },
  {
   "cell_type": "code",
   "execution_count": 2,
   "id": "610206d9",
   "metadata": {},
   "outputs": [],
   "source": [
    "import os\n",
    "import sys\n",
    "\n",
    "module_path_root = os.path.abspath(os.pardir)\n",
    "if module_path_root not in sys.path:\n",
    "    sys.path.append(module_path_root)\n",
    "    \n",
    "# Import local modules\n",
    "import osm_gsv_utils.dashcam_parser as dashcam_parser\n",
    "import osm_gsv_utils.lane_detection as lane_detection"
   ]
  },
  {
   "cell_type": "code",
   "execution_count": 3,
   "id": "b5941ee0",
   "metadata": {
    "scrolled": true
   },
   "outputs": [],
   "source": [
    "dashcam_dir = os.path.join(module_path_root, 'data_sources', import_directory)\n",
    "output_dir  = os.path.join(dashcam_dir, 'split')\n",
    "calibration_config = os.path.join(module_path_root, 'data_sources', 'dashcam_calibration.yml')"
   ]
  },
  {
   "cell_type": "code",
   "execution_count": 4,
   "id": "83191e91",
   "metadata": {},
   "outputs": [],
   "source": [
    "# Lane detector\n",
    "ld = lane_detection(calibration_config=calibration_config)\n",
    "\n",
    "# Video parser\n",
    "parser = dashcam_parser(source_fps=60, lane_detector=ld, write_lane_images=True)"
   ]
  },
  {
   "cell_type": "code",
   "execution_count": 5,
   "id": "87dc6902",
   "metadata": {
    "scrolled": false
   },
   "outputs": [
    {
     "data": {
      "application/vnd.jupyter.widget-view+json": {
       "model_id": "a945c1f0cafe40249e46ee8c72aa93a7",
       "version_major": 2,
       "version_minor": 0
      },
      "text/plain": [
       "  0%|          | 0/51 [00:00<?, ?it/s]"
      ]
     },
     "metadata": {},
     "output_type": "display_data"
    },
    {
     "data": {
      "application/vnd.jupyter.widget-view+json": {
       "model_id": "8c3d3ea6b46149bfac41308270b259ae",
       "version_major": 2,
       "version_minor": 0
      },
      "text/plain": [
       "FILE210926-101400F:   0%|          | 0/3612 [00:00<?, ?it/s]"
      ]
     },
     "metadata": {},
     "output_type": "display_data"
    },
    {
     "data": {
      "application/vnd.jupyter.widget-view+json": {
       "model_id": "8de0b938caac4b3eb4020b2510edcc2a",
       "version_major": 2,
       "version_minor": 0
      },
      "text/plain": [
       "FILE210926-101500F:   0%|          | 0/3612 [00:00<?, ?it/s]"
      ]
     },
     "metadata": {},
     "output_type": "display_data"
    },
    {
     "data": {
      "application/vnd.jupyter.widget-view+json": {
       "model_id": "b07eb97815c44ca5a32a735cf39b62b6",
       "version_major": 2,
       "version_minor": 0
      },
      "text/plain": [
       "FILE210926-101601F:   0%|          | 0/3612 [00:00<?, ?it/s]"
      ]
     },
     "metadata": {},
     "output_type": "display_data"
    },
    {
     "data": {
      "application/vnd.jupyter.widget-view+json": {
       "model_id": "e33b2126aec34ba2863cef840334421d",
       "version_major": 2,
       "version_minor": 0
      },
      "text/plain": [
       "FILE210926-101701F:   0%|          | 0/3612 [00:00<?, ?it/s]"
      ]
     },
     "metadata": {},
     "output_type": "display_data"
    },
    {
     "data": {
      "application/vnd.jupyter.widget-view+json": {
       "model_id": "405fea2f3ae24793bbd9a8ba75b01888",
       "version_major": 2,
       "version_minor": 0
      },
      "text/plain": [
       "FILE210926-101801F:   0%|          | 0/3612 [00:00<?, ?it/s]"
      ]
     },
     "metadata": {},
     "output_type": "display_data"
    },
    {
     "data": {
      "application/vnd.jupyter.widget-view+json": {
       "model_id": "789db3faf03c4bf28f65c062f700e2c4",
       "version_major": 2,
       "version_minor": 0
      },
      "text/plain": [
       "FILE210926-101901F:   0%|          | 0/3612 [00:00<?, ?it/s]"
      ]
     },
     "metadata": {},
     "output_type": "display_data"
    },
    {
     "data": {
      "application/vnd.jupyter.widget-view+json": {
       "model_id": "896adcaef89e4081b3d1bbf29f11b900",
       "version_major": 2,
       "version_minor": 0
      },
      "text/plain": [
       "FILE210926-102002F:   0%|          | 0/3612 [00:00<?, ?it/s]"
      ]
     },
     "metadata": {},
     "output_type": "display_data"
    },
    {
     "data": {
      "application/vnd.jupyter.widget-view+json": {
       "model_id": "9624e5453ed84e96b54a3b5aec365954",
       "version_major": 2,
       "version_minor": 0
      },
      "text/plain": [
       "FILE210926-102102F:   0%|          | 0/3612 [00:00<?, ?it/s]"
      ]
     },
     "metadata": {},
     "output_type": "display_data"
    },
    {
     "name": "stdout",
     "output_type": "stream",
     "text": [
      "WARNING: processing line [FILE210926-102202F] [$GPRMC,002226.00,V,,,,,,,260921,,,N*77\n",
      "], using previous values\n",
      "WARNING: processing line [FILE210926-102202F] [$GPGGA,002226.00,,,,,0,00,99.99,,,,,,*62\n",
      "], using previous values\n"
     ]
    },
    {
     "data": {
      "application/vnd.jupyter.widget-view+json": {
       "model_id": "137206710b484619b191c0b4b82f57d0",
       "version_major": 2,
       "version_minor": 0
      },
      "text/plain": [
       "FILE210926-102202F:   0%|          | 0/3612 [00:00<?, ?it/s]"
      ]
     },
     "metadata": {},
     "output_type": "display_data"
    },
    {
     "data": {
      "application/vnd.jupyter.widget-view+json": {
       "model_id": "8f0ebf7ea87c48589005609f897d56c4",
       "version_major": 2,
       "version_minor": 0
      },
      "text/plain": [
       "FILE210926-102302F:   0%|          | 0/3612 [00:00<?, ?it/s]"
      ]
     },
     "metadata": {},
     "output_type": "display_data"
    },
    {
     "data": {
      "application/vnd.jupyter.widget-view+json": {
       "model_id": "93922fc6190446b5adc588fc2902f742",
       "version_major": 2,
       "version_minor": 0
      },
      "text/plain": [
       "FILE210926-102403F:   0%|          | 0/3612 [00:00<?, ?it/s]"
      ]
     },
     "metadata": {},
     "output_type": "display_data"
    },
    {
     "data": {
      "application/vnd.jupyter.widget-view+json": {
       "model_id": "933cb35d79dd41449623c2b6ea885d80",
       "version_major": 2,
       "version_minor": 0
      },
      "text/plain": [
       "FILE210926-102503F:   0%|          | 0/3612 [00:00<?, ?it/s]"
      ]
     },
     "metadata": {},
     "output_type": "display_data"
    },
    {
     "data": {
      "application/vnd.jupyter.widget-view+json": {
       "model_id": "ac3676c663054fd88852aed84a72e352",
       "version_major": 2,
       "version_minor": 0
      },
      "text/plain": [
       "FILE210926-102603F:   0%|          | 0/3612 [00:00<?, ?it/s]"
      ]
     },
     "metadata": {},
     "output_type": "display_data"
    },
    {
     "data": {
      "application/vnd.jupyter.widget-view+json": {
       "model_id": "2214a95194e94506895737315923a7cb",
       "version_major": 2,
       "version_minor": 0
      },
      "text/plain": [
       "FILE210926-102703F:   0%|          | 0/3612 [00:00<?, ?it/s]"
      ]
     },
     "metadata": {},
     "output_type": "display_data"
    },
    {
     "data": {
      "application/vnd.jupyter.widget-view+json": {
       "model_id": "7e82a59bb867413c8c89600a836b8ca1",
       "version_major": 2,
       "version_minor": 0
      },
      "text/plain": [
       "FILE210926-102804F:   0%|          | 0/3612 [00:00<?, ?it/s]"
      ]
     },
     "metadata": {},
     "output_type": "display_data"
    },
    {
     "data": {
      "application/vnd.jupyter.widget-view+json": {
       "model_id": "a6f35f2629d5492087b04eff2572ae97",
       "version_major": 2,
       "version_minor": 0
      },
      "text/plain": [
       "FILE210926-102904F:   0%|          | 0/3612 [00:00<?, ?it/s]"
      ]
     },
     "metadata": {},
     "output_type": "display_data"
    },
    {
     "data": {
      "application/vnd.jupyter.widget-view+json": {
       "model_id": "b8f0c95991c946e4bf5a1090995d86f2",
       "version_major": 2,
       "version_minor": 0
      },
      "text/plain": [
       "FILE210926-103004F:   0%|          | 0/3612 [00:00<?, ?it/s]"
      ]
     },
     "metadata": {},
     "output_type": "display_data"
    },
    {
     "data": {
      "application/vnd.jupyter.widget-view+json": {
       "model_id": "ff58db2fe65d4c6dbecddd885eeae46f",
       "version_major": 2,
       "version_minor": 0
      },
      "text/plain": [
       "FILE210926-103104F:   0%|          | 0/3612 [00:00<?, ?it/s]"
      ]
     },
     "metadata": {},
     "output_type": "display_data"
    },
    {
     "data": {
      "application/vnd.jupyter.widget-view+json": {
       "model_id": "1ba8231fe01e4ffd8fb06782c013ee05",
       "version_major": 2,
       "version_minor": 0
      },
      "text/plain": [
       "FILE210926-103205F:   0%|          | 0/3611 [00:00<?, ?it/s]"
      ]
     },
     "metadata": {},
     "output_type": "display_data"
    },
    {
     "data": {
      "application/vnd.jupyter.widget-view+json": {
       "model_id": "798c411feed14a06bcd8781f9ec81017",
       "version_major": 2,
       "version_minor": 0
      },
      "text/plain": [
       "FILE210926-103305F:   0%|          | 0/3612 [00:00<?, ?it/s]"
      ]
     },
     "metadata": {},
     "output_type": "display_data"
    },
    {
     "data": {
      "application/vnd.jupyter.widget-view+json": {
       "model_id": "55efee6f10134e6eb5dab0b44381e329",
       "version_major": 2,
       "version_minor": 0
      },
      "text/plain": [
       "FILE210926-103405F:   0%|          | 0/3612 [00:00<?, ?it/s]"
      ]
     },
     "metadata": {},
     "output_type": "display_data"
    },
    {
     "data": {
      "application/vnd.jupyter.widget-view+json": {
       "model_id": "c51027bb77ed43f794cf4784bce33a6c",
       "version_major": 2,
       "version_minor": 0
      },
      "text/plain": [
       "FILE210926-103505F:   0%|          | 0/3612 [00:00<?, ?it/s]"
      ]
     },
     "metadata": {},
     "output_type": "display_data"
    },
    {
     "data": {
      "application/vnd.jupyter.widget-view+json": {
       "model_id": "f9b8abf0a2ff46d884bbe9b913468f8a",
       "version_major": 2,
       "version_minor": 0
      },
      "text/plain": [
       "FILE210926-103606F:   0%|          | 0/3612 [00:00<?, ?it/s]"
      ]
     },
     "metadata": {},
     "output_type": "display_data"
    },
    {
     "data": {
      "application/vnd.jupyter.widget-view+json": {
       "model_id": "3657fec618754240a3202232333af0a2",
       "version_major": 2,
       "version_minor": 0
      },
      "text/plain": [
       "FILE210926-103706F:   0%|          | 0/3612 [00:00<?, ?it/s]"
      ]
     },
     "metadata": {},
     "output_type": "display_data"
    },
    {
     "data": {
      "application/vnd.jupyter.widget-view+json": {
       "model_id": "c7b6aec15d2a4e7b8ea82dcda368b501",
       "version_major": 2,
       "version_minor": 0
      },
      "text/plain": [
       "FILE210926-103806F:   0%|          | 0/3612 [00:00<?, ?it/s]"
      ]
     },
     "metadata": {},
     "output_type": "display_data"
    },
    {
     "data": {
      "application/vnd.jupyter.widget-view+json": {
       "model_id": "883a3d308feb41e8a804a33c6e544a7d",
       "version_major": 2,
       "version_minor": 0
      },
      "text/plain": [
       "FILE210926-103906F:   0%|          | 0/3612 [00:00<?, ?it/s]"
      ]
     },
     "metadata": {},
     "output_type": "display_data"
    },
    {
     "data": {
      "application/vnd.jupyter.widget-view+json": {
       "model_id": "25de7cad7b42430f97304d113618c20e",
       "version_major": 2,
       "version_minor": 0
      },
      "text/plain": [
       "FILE210926-104007F:   0%|          | 0/3612 [00:00<?, ?it/s]"
      ]
     },
     "metadata": {},
     "output_type": "display_data"
    },
    {
     "data": {
      "application/vnd.jupyter.widget-view+json": {
       "model_id": "a6c6deb8fe9142309ae8ff46cd5b92f4",
       "version_major": 2,
       "version_minor": 0
      },
      "text/plain": [
       "FILE210926-104107F:   0%|          | 0/3612 [00:00<?, ?it/s]"
      ]
     },
     "metadata": {},
     "output_type": "display_data"
    },
    {
     "data": {
      "application/vnd.jupyter.widget-view+json": {
       "model_id": "e1f5e7fc62d2493a8071688a72b7c979",
       "version_major": 2,
       "version_minor": 0
      },
      "text/plain": [
       "FILE210926-104207F:   0%|          | 0/3612 [00:00<?, ?it/s]"
      ]
     },
     "metadata": {},
     "output_type": "display_data"
    },
    {
     "data": {
      "application/vnd.jupyter.widget-view+json": {
       "model_id": "497483ad69ea44469c097eb784cedd47",
       "version_major": 2,
       "version_minor": 0
      },
      "text/plain": [
       "FILE210926-104307F:   0%|          | 0/3612 [00:00<?, ?it/s]"
      ]
     },
     "metadata": {},
     "output_type": "display_data"
    },
    {
     "data": {
      "application/vnd.jupyter.widget-view+json": {
       "model_id": "0d34110f334b442fab158c1e0481aa71",
       "version_major": 2,
       "version_minor": 0
      },
      "text/plain": [
       "FILE210926-104408F:   0%|          | 0/3612 [00:00<?, ?it/s]"
      ]
     },
     "metadata": {},
     "output_type": "display_data"
    },
    {
     "data": {
      "application/vnd.jupyter.widget-view+json": {
       "model_id": "a8ddef94fb52480f854f52b7e0a98194",
       "version_major": 2,
       "version_minor": 0
      },
      "text/plain": [
       "FILE210926-104508F:   0%|          | 0/3612 [00:00<?, ?it/s]"
      ]
     },
     "metadata": {},
     "output_type": "display_data"
    },
    {
     "data": {
      "application/vnd.jupyter.widget-view+json": {
       "model_id": "000b481e01634236adb6e140c38cc476",
       "version_major": 2,
       "version_minor": 0
      },
      "text/plain": [
       "FILE210926-104608F:   0%|          | 0/3612 [00:00<?, ?it/s]"
      ]
     },
     "metadata": {},
     "output_type": "display_data"
    },
    {
     "data": {
      "application/vnd.jupyter.widget-view+json": {
       "model_id": "41b9da577b4947c59abfdcba42b3a9c7",
       "version_major": 2,
       "version_minor": 0
      },
      "text/plain": [
       "FILE210926-104708F:   0%|          | 0/3612 [00:00<?, ?it/s]"
      ]
     },
     "metadata": {},
     "output_type": "display_data"
    },
    {
     "data": {
      "application/vnd.jupyter.widget-view+json": {
       "model_id": "c0d19746a4364199b061930e49b081aa",
       "version_major": 2,
       "version_minor": 0
      },
      "text/plain": [
       "FILE210926-105829F:   0%|          | 0/3612 [00:00<?, ?it/s]"
      ]
     },
     "metadata": {},
     "output_type": "display_data"
    },
    {
     "data": {
      "application/vnd.jupyter.widget-view+json": {
       "model_id": "45cf6213449645d1a0a6a5ea99ce60e9",
       "version_major": 2,
       "version_minor": 0
      },
      "text/plain": [
       "FILE210926-105929F:   0%|          | 0/3612 [00:00<?, ?it/s]"
      ]
     },
     "metadata": {},
     "output_type": "display_data"
    },
    {
     "data": {
      "application/vnd.jupyter.widget-view+json": {
       "model_id": "58f3c49e278a4ec39483ce4c1f50b651",
       "version_major": 2,
       "version_minor": 0
      },
      "text/plain": [
       "FILE210926-110029F:   0%|          | 0/3612 [00:00<?, ?it/s]"
      ]
     },
     "metadata": {},
     "output_type": "display_data"
    },
    {
     "data": {
      "application/vnd.jupyter.widget-view+json": {
       "model_id": "df857b644052404d861604821c3a10ef",
       "version_major": 2,
       "version_minor": 0
      },
      "text/plain": [
       "FILE210926-110129F:   0%|          | 0/3612 [00:00<?, ?it/s]"
      ]
     },
     "metadata": {},
     "output_type": "display_data"
    },
    {
     "data": {
      "application/vnd.jupyter.widget-view+json": {
       "model_id": "45a37c5a2a944851a6645fdb30b20127",
       "version_major": 2,
       "version_minor": 0
      },
      "text/plain": [
       "FILE210926-110230F:   0%|          | 0/3612 [00:00<?, ?it/s]"
      ]
     },
     "metadata": {},
     "output_type": "display_data"
    },
    {
     "data": {
      "application/vnd.jupyter.widget-view+json": {
       "model_id": "b7c15b5411de479e90bf81b516476c4c",
       "version_major": 2,
       "version_minor": 0
      },
      "text/plain": [
       "FILE210926-110330F:   0%|          | 0/3612 [00:00<?, ?it/s]"
      ]
     },
     "metadata": {},
     "output_type": "display_data"
    },
    {
     "data": {
      "application/vnd.jupyter.widget-view+json": {
       "model_id": "e720a846d04046578858a4aaf96ce427",
       "version_major": 2,
       "version_minor": 0
      },
      "text/plain": [
       "FILE210926-110430F:   0%|          | 0/3612 [00:00<?, ?it/s]"
      ]
     },
     "metadata": {},
     "output_type": "display_data"
    },
    {
     "data": {
      "application/vnd.jupyter.widget-view+json": {
       "model_id": "3bf99b6a2d9541cd8e0620d8e88c4bdf",
       "version_major": 2,
       "version_minor": 0
      },
      "text/plain": [
       "FILE210926-110530F:   0%|          | 0/3612 [00:00<?, ?it/s]"
      ]
     },
     "metadata": {},
     "output_type": "display_data"
    },
    {
     "data": {
      "application/vnd.jupyter.widget-view+json": {
       "model_id": "b3ae329c366c45d99a3ceaa82ffe3ad5",
       "version_major": 2,
       "version_minor": 0
      },
      "text/plain": [
       "FILE210926-110631F:   0%|          | 0/3612 [00:00<?, ?it/s]"
      ]
     },
     "metadata": {},
     "output_type": "display_data"
    },
    {
     "data": {
      "application/vnd.jupyter.widget-view+json": {
       "model_id": "6db7ef568d84417586831d10e784930e",
       "version_major": 2,
       "version_minor": 0
      },
      "text/plain": [
       "FILE210926-110731F:   0%|          | 0/3612 [00:00<?, ?it/s]"
      ]
     },
     "metadata": {},
     "output_type": "display_data"
    },
    {
     "data": {
      "application/vnd.jupyter.widget-view+json": {
       "model_id": "f55667da1aed4d5482d7884e735bf603",
       "version_major": 2,
       "version_minor": 0
      },
      "text/plain": [
       "FILE210926-110831F:   0%|          | 0/3612 [00:00<?, ?it/s]"
      ]
     },
     "metadata": {},
     "output_type": "display_data"
    },
    {
     "data": {
      "application/vnd.jupyter.widget-view+json": {
       "model_id": "d926f89bb9fd42b88df0d34c2f089786",
       "version_major": 2,
       "version_minor": 0
      },
      "text/plain": [
       "FILE210926-110931F:   0%|          | 0/3612 [00:00<?, ?it/s]"
      ]
     },
     "metadata": {},
     "output_type": "display_data"
    },
    {
     "data": {
      "application/vnd.jupyter.widget-view+json": {
       "model_id": "a159ee0904bc498c9a64258ffa438472",
       "version_major": 2,
       "version_minor": 0
      },
      "text/plain": [
       "FILE210926-111032F:   0%|          | 0/3612 [00:00<?, ?it/s]"
      ]
     },
     "metadata": {},
     "output_type": "display_data"
    },
    {
     "data": {
      "application/vnd.jupyter.widget-view+json": {
       "model_id": "0c0388b9dcce493da21947771ffffc83",
       "version_major": 2,
       "version_minor": 0
      },
      "text/plain": [
       "FILE210926-111132F:   0%|          | 0/3612 [00:00<?, ?it/s]"
      ]
     },
     "metadata": {},
     "output_type": "display_data"
    },
    {
     "data": {
      "application/vnd.jupyter.widget-view+json": {
       "model_id": "75a4816767a54dd2b9ac2d0c526f7d15",
       "version_major": 2,
       "version_minor": 0
      },
      "text/plain": [
       "FILE210926-111232F:   0%|          | 0/3612 [00:00<?, ?it/s]"
      ]
     },
     "metadata": {},
     "output_type": "display_data"
    },
    {
     "data": {
      "application/vnd.jupyter.widget-view+json": {
       "model_id": "bee69b486c40446ca9fe9f1e22eaef68",
       "version_major": 2,
       "version_minor": 0
      },
      "text/plain": [
       "FILE210926-111332F:   0%|          | 0/3612 [00:00<?, ?it/s]"
      ]
     },
     "metadata": {},
     "output_type": "display_data"
    },
    {
     "data": {
      "application/vnd.jupyter.widget-view+json": {
       "model_id": "95cc1c53febe49e99626dc20d8a14264",
       "version_major": 2,
       "version_minor": 0
      },
      "text/plain": [
       "FILE210926-111433F:   0%|          | 0/3612 [00:00<?, ?it/s]"
      ]
     },
     "metadata": {},
     "output_type": "display_data"
    }
   ],
   "source": [
    "#selected_prefix = 'FILE210924-104009F'\n",
    "#parser.split_video(dashcam_dir, selected_prefix, output_dir, output_fps=5, suffix='MP4')\n",
    "\n",
    "parser.split_videos(dashcam_dir, output_dir, output_fps=5, suffix='MP4', verbose=False)"
   ]
  }
 ],
 "metadata": {
  "kernelspec": {
   "display_name": "gpuEnv",
   "language": "python",
   "name": "gpuenv"
  },
  "language_info": {
   "codemirror_mode": {
    "name": "ipython",
    "version": 3
   },
   "file_extension": ".py",
   "mimetype": "text/x-python",
   "name": "python",
   "nbconvert_exporter": "python",
   "pygments_lexer": "ipython3",
   "version": "3.8.11"
  }
 },
 "nbformat": 4,
 "nbformat_minor": 5
}
