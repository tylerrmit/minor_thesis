{
 "cells": [
  {
   "cell_type": "markdown",
   "id": "99680ba6",
   "metadata": {},
   "source": [
    "# Parse Video and NMEA -- Version 2\n",
    "\n",
    "Read a .MP4 video file from a dashcam, split it into frames at the required intervals (60fps footage)\n",
    "and then correlate frames to co-ordinates based on what is recorded in the accompanying NMEA file.\n",
    "\n",
    "Version 2 changes: Create a CSV log of left lane pixel width, altitude, bearing, while splitting the data"
   ]
  },
  {
   "cell_type": "code",
   "execution_count": 1,
   "id": "d46c7451",
   "metadata": {},
   "outputs": [],
   "source": [
    "#import_directory = 'dashcam_tour_mount_eliza'\n",
    "import_directory = 'dashcam_tour_frankston'"
   ]
  },
  {
   "cell_type": "markdown",
   "id": "289f0c3a",
   "metadata": {},
   "source": [
    "Sample NMEA data, repeats every 60 seconds:\n",
    "``` NMEA sample\n",
    "$GPGGA,004008.00,3810.18002,S,14506.69684,E,1,11,0.85,43.6,M,-2.7,M,,*6B\n",
    "$GPGSA,A,3,30,14,07,13,17,194,193,195,19,21,15,,1.47,0.85,1.20*3E\n",
    "$GPGSV,5,1,20,01,10,085,21,05,09,275,15,07,35,078,34,08,10,142,14*7B\n",
    "$GPGSV,5,2,20,09,04,021,08,13,47,236,23,14,75,226,32,15,19,225,21*77\n",
    "$GPGSV,5,3,20,17,43,008,24,19,22,354,29,20,01,305,,21,13,104,24*74\n",
    "$GPGSV,5,4,20,28,,,32,30,69,110,38,41,13,288,,50,42,332,*42\n",
    "$GPGSV,5,5,20,53,22,297,,193,29,356,26,194,74,274,32,195,19,355,31*4E\n",
    "$GSENSORD,0.089,0.123,-0.140\n",
    "$GPRMC,004009.00,A,3810.17224,S,14506.70055,E,29.706,20.61,240921,,,A*74\n",
    "```"
   ]
  },
  {
   "cell_type": "markdown",
   "id": "63fcefe3",
   "metadata": {},
   "source": [
    "http://aprs.gids.nl/nmea/\n",
    "\n",
    "* GPGGA - Global Positioning System Fix Data\n",
    "\n",
    "    - Time \"004001.00\" => The time is 00:40:01 in GMT\n",
    "    - **Latitude \"3810.18002,S\"**\n",
    "    - **Longitude \"14506.69684,E\"**\n",
    "    - Fix Quality \"1\" = GPS fix.  0=Invalid, 2=DGPS fix.\n",
    "    - Number of Satellites \"11\" = 11 Satellites are in view\n",
    "    - Horizontal Dilution of Precision (HDOP) \"0.85\"\n",
    "    - **Altitude \"43.6,M\"**\n",
    "    - Height of geoid above WGS84 ellipsoid \"-2.7,M\"\n",
    "    - DGPS reference station id \"\"\n",
    "    - Checksum \"*6B\"\n",
    "    \n",
    "* GPRMC - Recommended minimum specific GPS/Transit data\n",
    "    - Time \"004009.00\" => The time is 00:40:09 in GMT\n",
    "    - Validity \"A\" => A=OK, V=invalid\n",
    "    - **Latitude \"3810.17224,S\"**\n",
    "    - **Longitude \"14506.70055,E\"**\n",
    "    - Speed in knots \"29.706\" ==> converts to 55kmph. 1 knot = 1.852 kmph.\n",
    "    - **True course \"20.61\" => bearing**\n",
    "    - Date stamp \"240921\" => 24th of September 2021\n",
    "    - Variation \"\"\n",
    "    - East/West \"\"\n",
    "    - Checksum \"A*74\"\n",
    "    \n",
    "* GPGSA - GPS DOP and active satellites\n",
    "    * Ignore\n",
    "    \n",
    "* GPGSV - GPS Satellites in view\n",
    "    * Ignore\n",
    "    \n",
    "* GSENSORD - Sensor data, possibly specific to the device\n",
    "    * Ignore  \n",
    "    \n",
    "We are interested in latitude and longitude, of course, which can come from either GPGGA or GPRMC.  We are also interested in altitude (from GPGGA) and true course (from GPRMC) in case they come in handy.\n",
    "\n",
    "There are 61 instances of GPGGA in the file, and 60 instances of GPRMC in between.  They agree on the co-ords as at\n",
    "each timestamp.  We might as well parse them into a dictionary using the timestamp as the key."
   ]
  },
  {
   "cell_type": "code",
   "execution_count": 2,
   "id": "610206d9",
   "metadata": {},
   "outputs": [],
   "source": [
    "import os\n",
    "import sys\n",
    "\n",
    "module_path_root = os.path.abspath(os.pardir)\n",
    "if module_path_root not in sys.path:\n",
    "    sys.path.append(module_path_root)\n",
    "    \n",
    "# Import local modules\n",
    "import osm_gsv_utils.dashcam_parser as dashcam_parser\n",
    "import osm_gsv_utils.lane_detection as lane_detection"
   ]
  },
  {
   "cell_type": "code",
   "execution_count": 3,
   "id": "b5941ee0",
   "metadata": {
    "scrolled": true
   },
   "outputs": [],
   "source": [
    "dashcam_dir = os.path.join(module_path_root, 'data_sources', import_directory)\n",
    "output_dir  = os.path.join(dashcam_dir, 'split')\n",
    "calibration_config = os.path.join(module_path_root, 'data_sources', 'dashcam_calibration.yml')"
   ]
  },
  {
   "cell_type": "code",
   "execution_count": 4,
   "id": "83191e91",
   "metadata": {},
   "outputs": [],
   "source": [
    "# Lane detector\n",
    "ld = lane_detection(calibration_config=calibration_config)\n",
    "\n",
    "# Video parser\n",
    "parser = dashcam_parser(source_fps=60, lane_detector=ld, write_lane_images=True)"
   ]
  },
  {
   "cell_type": "code",
   "execution_count": 5,
   "id": "87dc6902",
   "metadata": {
    "scrolled": false
   },
   "outputs": [
    {
     "data": {
      "application/vnd.jupyter.widget-view+json": {
       "model_id": "5c8e1642c0a9431f94ef5d9a90861383",
       "version_major": 2,
       "version_minor": 0
      },
      "text/plain": [
       "  0%|          | 0/51 [00:00<?, ?it/s]"
      ]
     },
     "metadata": {},
     "output_type": "display_data"
    },
    {
     "data": {
      "application/vnd.jupyter.widget-view+json": {
       "model_id": "10f24cda756f4f31b0e7014a686da622",
       "version_major": 2,
       "version_minor": 0
      },
      "text/plain": [
       "FILE210926-101400F:   0%|          | 0/3612 [00:00<?, ?it/s]"
      ]
     },
     "metadata": {},
     "output_type": "display_data"
    },
    {
     "data": {
      "application/vnd.jupyter.widget-view+json": {
       "model_id": "c4797b5cf5d34e93b0e7894c09b627e3",
       "version_major": 2,
       "version_minor": 0
      },
      "text/plain": [
       "FILE210926-101500F:   0%|          | 0/3612 [00:00<?, ?it/s]"
      ]
     },
     "metadata": {},
     "output_type": "display_data"
    },
    {
     "data": {
      "application/vnd.jupyter.widget-view+json": {
       "model_id": "ed94da3baa9a469096800e6e1b856109",
       "version_major": 2,
       "version_minor": 0
      },
      "text/plain": [
       "FILE210926-101601F:   0%|          | 0/3612 [00:00<?, ?it/s]"
      ]
     },
     "metadata": {},
     "output_type": "display_data"
    },
    {
     "data": {
      "application/vnd.jupyter.widget-view+json": {
       "model_id": "6fdc244075d84f13a65fe78f703de35a",
       "version_major": 2,
       "version_minor": 0
      },
      "text/plain": [
       "FILE210926-101701F:   0%|          | 0/3612 [00:00<?, ?it/s]"
      ]
     },
     "metadata": {},
     "output_type": "display_data"
    },
    {
     "data": {
      "application/vnd.jupyter.widget-view+json": {
       "model_id": "b1da3599397845668a9b7abf881198cc",
       "version_major": 2,
       "version_minor": 0
      },
      "text/plain": [
       "FILE210926-101801F:   0%|          | 0/3612 [00:00<?, ?it/s]"
      ]
     },
     "metadata": {},
     "output_type": "display_data"
    },
    {
     "data": {
      "application/vnd.jupyter.widget-view+json": {
       "model_id": "e4b901df80d64cbab92acc6e9c79b4ed",
       "version_major": 2,
       "version_minor": 0
      },
      "text/plain": [
       "FILE210926-101901F:   0%|          | 0/3612 [00:00<?, ?it/s]"
      ]
     },
     "metadata": {},
     "output_type": "display_data"
    },
    {
     "data": {
      "application/vnd.jupyter.widget-view+json": {
       "model_id": "8e5f0dc8b59a4d529a1d5da6b11f4085",
       "version_major": 2,
       "version_minor": 0
      },
      "text/plain": [
       "FILE210926-102002F:   0%|          | 0/3612 [00:00<?, ?it/s]"
      ]
     },
     "metadata": {},
     "output_type": "display_data"
    },
    {
     "data": {
      "application/vnd.jupyter.widget-view+json": {
       "model_id": "87d774669bca4aea9a486a5f3677951a",
       "version_major": 2,
       "version_minor": 0
      },
      "text/plain": [
       "FILE210926-102102F:   0%|          | 0/3612 [00:00<?, ?it/s]"
      ]
     },
     "metadata": {},
     "output_type": "display_data"
    },
    {
     "name": "stdout",
     "output_type": "stream",
     "text": [
      "WARNING: processing line [FILE210926-102202F] [$GPRMC,002226.00,V,,,,,,,260921,,,N*77\n",
      "], using previous values\n",
      "WARNING: processing line [FILE210926-102202F] [$GPGGA,002226.00,,,,,0,00,99.99,,,,,,*62\n",
      "], using previous values\n"
     ]
    },
    {
     "data": {
      "application/vnd.jupyter.widget-view+json": {
       "model_id": "a75db63bc99c4746a0952f25a87e84b8",
       "version_major": 2,
       "version_minor": 0
      },
      "text/plain": [
       "FILE210926-102202F:   0%|          | 0/3612 [00:00<?, ?it/s]"
      ]
     },
     "metadata": {},
     "output_type": "display_data"
    },
    {
     "data": {
      "application/vnd.jupyter.widget-view+json": {
       "model_id": "5afbb73ca5c843a8ab9c4b4eb3afedbf",
       "version_major": 2,
       "version_minor": 0
      },
      "text/plain": [
       "FILE210926-102302F:   0%|          | 0/3612 [00:00<?, ?it/s]"
      ]
     },
     "metadata": {},
     "output_type": "display_data"
    },
    {
     "data": {
      "application/vnd.jupyter.widget-view+json": {
       "model_id": "652528bc43c747bca1c82f61beea1942",
       "version_major": 2,
       "version_minor": 0
      },
      "text/plain": [
       "FILE210926-102403F:   0%|          | 0/3612 [00:00<?, ?it/s]"
      ]
     },
     "metadata": {},
     "output_type": "display_data"
    },
    {
     "data": {
      "application/vnd.jupyter.widget-view+json": {
       "model_id": "87816ad6b08d4565a453960fe0708dc4",
       "version_major": 2,
       "version_minor": 0
      },
      "text/plain": [
       "FILE210926-102503F:   0%|          | 0/3612 [00:00<?, ?it/s]"
      ]
     },
     "metadata": {},
     "output_type": "display_data"
    },
    {
     "data": {
      "application/vnd.jupyter.widget-view+json": {
       "model_id": "3fcba8bde8214094b2668ee975bf90d1",
       "version_major": 2,
       "version_minor": 0
      },
      "text/plain": [
       "FILE210926-102603F:   0%|          | 0/3612 [00:00<?, ?it/s]"
      ]
     },
     "metadata": {},
     "output_type": "display_data"
    },
    {
     "data": {
      "application/vnd.jupyter.widget-view+json": {
       "model_id": "1c59ed5cc90a488eada73a5defbdd38a",
       "version_major": 2,
       "version_minor": 0
      },
      "text/plain": [
       "FILE210926-102703F:   0%|          | 0/3612 [00:00<?, ?it/s]"
      ]
     },
     "metadata": {},
     "output_type": "display_data"
    },
    {
     "data": {
      "application/vnd.jupyter.widget-view+json": {
       "model_id": "8da2f887cde848c4b04240b1a8c1913e",
       "version_major": 2,
       "version_minor": 0
      },
      "text/plain": [
       "FILE210926-102804F:   0%|          | 0/3612 [00:00<?, ?it/s]"
      ]
     },
     "metadata": {},
     "output_type": "display_data"
    },
    {
     "data": {
      "application/vnd.jupyter.widget-view+json": {
       "model_id": "84fdfa99b4684e37b4f274e5ff1fc9b5",
       "version_major": 2,
       "version_minor": 0
      },
      "text/plain": [
       "FILE210926-102904F:   0%|          | 0/3612 [00:00<?, ?it/s]"
      ]
     },
     "metadata": {},
     "output_type": "display_data"
    },
    {
     "data": {
      "application/vnd.jupyter.widget-view+json": {
       "model_id": "5d32138c73004da38f45badafba86e54",
       "version_major": 2,
       "version_minor": 0
      },
      "text/plain": [
       "FILE210926-103004F:   0%|          | 0/3612 [00:00<?, ?it/s]"
      ]
     },
     "metadata": {},
     "output_type": "display_data"
    },
    {
     "data": {
      "application/vnd.jupyter.widget-view+json": {
       "model_id": "776e8801e1514d1fbae8c07a5782bf61",
       "version_major": 2,
       "version_minor": 0
      },
      "text/plain": [
       "FILE210926-103104F:   0%|          | 0/3612 [00:00<?, ?it/s]"
      ]
     },
     "metadata": {},
     "output_type": "display_data"
    },
    {
     "data": {
      "application/vnd.jupyter.widget-view+json": {
       "model_id": "4d7e6dd22f3d4211be6331ef7a7666e9",
       "version_major": 2,
       "version_minor": 0
      },
      "text/plain": [
       "FILE210926-103205F:   0%|          | 0/3611 [00:00<?, ?it/s]"
      ]
     },
     "metadata": {},
     "output_type": "display_data"
    },
    {
     "data": {
      "application/vnd.jupyter.widget-view+json": {
       "model_id": "4e14e096c1f64adcb78be7dc6aec5f92",
       "version_major": 2,
       "version_minor": 0
      },
      "text/plain": [
       "FILE210926-103305F:   0%|          | 0/3612 [00:00<?, ?it/s]"
      ]
     },
     "metadata": {},
     "output_type": "display_data"
    },
    {
     "data": {
      "application/vnd.jupyter.widget-view+json": {
       "model_id": "6e4b2288acfd48668621a0157cbebf1b",
       "version_major": 2,
       "version_minor": 0
      },
      "text/plain": [
       "FILE210926-103405F:   0%|          | 0/3612 [00:00<?, ?it/s]"
      ]
     },
     "metadata": {},
     "output_type": "display_data"
    },
    {
     "data": {
      "application/vnd.jupyter.widget-view+json": {
       "model_id": "64a158fbf2e44b71a9aee6bca357728f",
       "version_major": 2,
       "version_minor": 0
      },
      "text/plain": [
       "FILE210926-103505F:   0%|          | 0/3612 [00:00<?, ?it/s]"
      ]
     },
     "metadata": {},
     "output_type": "display_data"
    },
    {
     "data": {
      "application/vnd.jupyter.widget-view+json": {
       "model_id": "a38809dcf9a14a0b81003f74bd8127b1",
       "version_major": 2,
       "version_minor": 0
      },
      "text/plain": [
       "FILE210926-103606F:   0%|          | 0/3612 [00:00<?, ?it/s]"
      ]
     },
     "metadata": {},
     "output_type": "display_data"
    },
    {
     "data": {
      "application/vnd.jupyter.widget-view+json": {
       "model_id": "38435d680c9e4e0cb41e0838c834d8d7",
       "version_major": 2,
       "version_minor": 0
      },
      "text/plain": [
       "FILE210926-103706F:   0%|          | 0/3612 [00:00<?, ?it/s]"
      ]
     },
     "metadata": {},
     "output_type": "display_data"
    },
    {
     "data": {
      "application/vnd.jupyter.widget-view+json": {
       "model_id": "9d58d94b8825420a9cae78528eb7bd08",
       "version_major": 2,
       "version_minor": 0
      },
      "text/plain": [
       "FILE210926-103806F:   0%|          | 0/3612 [00:00<?, ?it/s]"
      ]
     },
     "metadata": {},
     "output_type": "display_data"
    },
    {
     "data": {
      "application/vnd.jupyter.widget-view+json": {
       "model_id": "e7585584b43a4e26814d44fcc674fb91",
       "version_major": 2,
       "version_minor": 0
      },
      "text/plain": [
       "FILE210926-103906F:   0%|          | 0/3612 [00:00<?, ?it/s]"
      ]
     },
     "metadata": {},
     "output_type": "display_data"
    },
    {
     "data": {
      "application/vnd.jupyter.widget-view+json": {
       "model_id": "edf3f3c1ca8a409abd7e57a4960b06c3",
       "version_major": 2,
       "version_minor": 0
      },
      "text/plain": [
       "FILE210926-104007F:   0%|          | 0/3612 [00:00<?, ?it/s]"
      ]
     },
     "metadata": {},
     "output_type": "display_data"
    },
    {
     "data": {
      "application/vnd.jupyter.widget-view+json": {
       "model_id": "08c8018e012140d0afdacf27f33b2218",
       "version_major": 2,
       "version_minor": 0
      },
      "text/plain": [
       "FILE210926-104107F:   0%|          | 0/3612 [00:00<?, ?it/s]"
      ]
     },
     "metadata": {},
     "output_type": "display_data"
    },
    {
     "data": {
      "application/vnd.jupyter.widget-view+json": {
       "model_id": "d7a30333903f4236a37884dc5bcf337f",
       "version_major": 2,
       "version_minor": 0
      },
      "text/plain": [
       "FILE210926-104207F:   0%|          | 0/3612 [00:00<?, ?it/s]"
      ]
     },
     "metadata": {},
     "output_type": "display_data"
    },
    {
     "data": {
      "application/vnd.jupyter.widget-view+json": {
       "model_id": "74de54fa5fcd4b218b0258f85b680b9c",
       "version_major": 2,
       "version_minor": 0
      },
      "text/plain": [
       "FILE210926-104307F:   0%|          | 0/3612 [00:00<?, ?it/s]"
      ]
     },
     "metadata": {},
     "output_type": "display_data"
    },
    {
     "data": {
      "application/vnd.jupyter.widget-view+json": {
       "model_id": "b5c177aa2ab74e76916280021cd44976",
       "version_major": 2,
       "version_minor": 0
      },
      "text/plain": [
       "FILE210926-104408F:   0%|          | 0/3612 [00:00<?, ?it/s]"
      ]
     },
     "metadata": {},
     "output_type": "display_data"
    },
    {
     "data": {
      "application/vnd.jupyter.widget-view+json": {
       "model_id": "fe376d5a1a6a4c23bf22799a837934bd",
       "version_major": 2,
       "version_minor": 0
      },
      "text/plain": [
       "FILE210926-104508F:   0%|          | 0/3612 [00:00<?, ?it/s]"
      ]
     },
     "metadata": {},
     "output_type": "display_data"
    },
    {
     "data": {
      "application/vnd.jupyter.widget-view+json": {
       "model_id": "8c2cf8394d3847a8939ffb43d8c6169e",
       "version_major": 2,
       "version_minor": 0
      },
      "text/plain": [
       "FILE210926-104608F:   0%|          | 0/3612 [00:00<?, ?it/s]"
      ]
     },
     "metadata": {},
     "output_type": "display_data"
    },
    {
     "data": {
      "application/vnd.jupyter.widget-view+json": {
       "model_id": "c455abb65b60414cbcba36df6492e6fd",
       "version_major": 2,
       "version_minor": 0
      },
      "text/plain": [
       "FILE210926-104708F:   0%|          | 0/3612 [00:00<?, ?it/s]"
      ]
     },
     "metadata": {},
     "output_type": "display_data"
    },
    {
     "data": {
      "application/vnd.jupyter.widget-view+json": {
       "model_id": "33ae64b55eb64c569d86cefcec9eb9b8",
       "version_major": 2,
       "version_minor": 0
      },
      "text/plain": [
       "FILE210926-105829F:   0%|          | 0/3612 [00:00<?, ?it/s]"
      ]
     },
     "metadata": {},
     "output_type": "display_data"
    },
    {
     "data": {
      "application/vnd.jupyter.widget-view+json": {
       "model_id": "6fde8d15364540339572297fb11eae04",
       "version_major": 2,
       "version_minor": 0
      },
      "text/plain": [
       "FILE210926-105929F:   0%|          | 0/3612 [00:00<?, ?it/s]"
      ]
     },
     "metadata": {},
     "output_type": "display_data"
    },
    {
     "data": {
      "application/vnd.jupyter.widget-view+json": {
       "model_id": "a018585f06d943baaa8c62a29bae0ac0",
       "version_major": 2,
       "version_minor": 0
      },
      "text/plain": [
       "FILE210926-110029F:   0%|          | 0/3612 [00:00<?, ?it/s]"
      ]
     },
     "metadata": {},
     "output_type": "display_data"
    },
    {
     "data": {
      "application/vnd.jupyter.widget-view+json": {
       "model_id": "e785eb002e2a4c4ba2655e2479744971",
       "version_major": 2,
       "version_minor": 0
      },
      "text/plain": [
       "FILE210926-110129F:   0%|          | 0/3612 [00:00<?, ?it/s]"
      ]
     },
     "metadata": {},
     "output_type": "display_data"
    },
    {
     "data": {
      "application/vnd.jupyter.widget-view+json": {
       "model_id": "fe3a01ceee3348d980130808e417be39",
       "version_major": 2,
       "version_minor": 0
      },
      "text/plain": [
       "FILE210926-110230F:   0%|          | 0/3612 [00:00<?, ?it/s]"
      ]
     },
     "metadata": {},
     "output_type": "display_data"
    },
    {
     "data": {
      "application/vnd.jupyter.widget-view+json": {
       "model_id": "f77780c331e44ef7aa05e97b9297ba10",
       "version_major": 2,
       "version_minor": 0
      },
      "text/plain": [
       "FILE210926-110330F:   0%|          | 0/3612 [00:00<?, ?it/s]"
      ]
     },
     "metadata": {},
     "output_type": "display_data"
    },
    {
     "data": {
      "application/vnd.jupyter.widget-view+json": {
       "model_id": "a8f8871896394c2c851c7bdde6b4f475",
       "version_major": 2,
       "version_minor": 0
      },
      "text/plain": [
       "FILE210926-110430F:   0%|          | 0/3612 [00:00<?, ?it/s]"
      ]
     },
     "metadata": {},
     "output_type": "display_data"
    },
    {
     "data": {
      "application/vnd.jupyter.widget-view+json": {
       "model_id": "ede54b09de8c426c8735180b8f0f1810",
       "version_major": 2,
       "version_minor": 0
      },
      "text/plain": [
       "FILE210926-110530F:   0%|          | 0/3612 [00:00<?, ?it/s]"
      ]
     },
     "metadata": {},
     "output_type": "display_data"
    },
    {
     "data": {
      "application/vnd.jupyter.widget-view+json": {
       "model_id": "fd7a52145063434aa6cfc2a553d08663",
       "version_major": 2,
       "version_minor": 0
      },
      "text/plain": [
       "FILE210926-110631F:   0%|          | 0/3612 [00:00<?, ?it/s]"
      ]
     },
     "metadata": {},
     "output_type": "display_data"
    },
    {
     "data": {
      "application/vnd.jupyter.widget-view+json": {
       "model_id": "ef78df0b43854cdd8193acabd9740891",
       "version_major": 2,
       "version_minor": 0
      },
      "text/plain": [
       "FILE210926-110731F:   0%|          | 0/3612 [00:00<?, ?it/s]"
      ]
     },
     "metadata": {},
     "output_type": "display_data"
    },
    {
     "data": {
      "application/vnd.jupyter.widget-view+json": {
       "model_id": "1df3d33560a84231bc8015a769a64a63",
       "version_major": 2,
       "version_minor": 0
      },
      "text/plain": [
       "FILE210926-110831F:   0%|          | 0/3612 [00:00<?, ?it/s]"
      ]
     },
     "metadata": {},
     "output_type": "display_data"
    },
    {
     "data": {
      "application/vnd.jupyter.widget-view+json": {
       "model_id": "7753715ae8444a54a275a09147a25b62",
       "version_major": 2,
       "version_minor": 0
      },
      "text/plain": [
       "FILE210926-110931F:   0%|          | 0/3612 [00:00<?, ?it/s]"
      ]
     },
     "metadata": {},
     "output_type": "display_data"
    },
    {
     "data": {
      "application/vnd.jupyter.widget-view+json": {
       "model_id": "de9342de0a834907b65a8b2630b6cce8",
       "version_major": 2,
       "version_minor": 0
      },
      "text/plain": [
       "FILE210926-111032F:   0%|          | 0/3612 [00:00<?, ?it/s]"
      ]
     },
     "metadata": {},
     "output_type": "display_data"
    },
    {
     "data": {
      "application/vnd.jupyter.widget-view+json": {
       "model_id": "18b45bb4468042ba89226dd824b7b91e",
       "version_major": 2,
       "version_minor": 0
      },
      "text/plain": [
       "FILE210926-111132F:   0%|          | 0/3612 [00:00<?, ?it/s]"
      ]
     },
     "metadata": {},
     "output_type": "display_data"
    },
    {
     "data": {
      "application/vnd.jupyter.widget-view+json": {
       "model_id": "8de2b24ab437432cac3b388975ee9b69",
       "version_major": 2,
       "version_minor": 0
      },
      "text/plain": [
       "FILE210926-111232F:   0%|          | 0/3612 [00:00<?, ?it/s]"
      ]
     },
     "metadata": {},
     "output_type": "display_data"
    },
    {
     "data": {
      "application/vnd.jupyter.widget-view+json": {
       "model_id": "41af2815213049d3a485a75bed975c11",
       "version_major": 2,
       "version_minor": 0
      },
      "text/plain": [
       "FILE210926-111332F:   0%|          | 0/3612 [00:00<?, ?it/s]"
      ]
     },
     "metadata": {},
     "output_type": "display_data"
    },
    {
     "data": {
      "application/vnd.jupyter.widget-view+json": {
       "model_id": "70da4b886c3e4a85b04cb6f94099d2d8",
       "version_major": 2,
       "version_minor": 0
      },
      "text/plain": [
       "FILE210926-111433F:   0%|          | 0/3612 [00:00<?, ?it/s]"
      ]
     },
     "metadata": {},
     "output_type": "display_data"
    }
   ],
   "source": [
    "#selected_prefix = 'FILE210924-104009F'\n",
    "#parser.split_video(dashcam_dir, selected_prefix, output_dir, output_fps=5, suffix='MP4')\n",
    "\n",
    "parser.split_videos(dashcam_dir, output_dir, output_fps=5, suffix='MP4', verbose=False)"
   ]
  }
 ],
 "metadata": {
  "kernelspec": {
   "display_name": "gpuEnv",
   "language": "python",
   "name": "gpuenv"
  },
  "language_info": {
   "codemirror_mode": {
    "name": "ipython",
    "version": 3
   },
   "file_extension": ".py",
   "mimetype": "text/x-python",
   "name": "python",
   "nbconvert_exporter": "python",
   "pygments_lexer": "ipython3",
   "version": "3.8.11"
  }
 },
 "nbformat": 4,
 "nbformat_minor": 5
}
