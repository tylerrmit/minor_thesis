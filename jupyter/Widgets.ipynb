{
 "cells": [
  {
   "cell_type": "markdown",
   "id": "3e4b94d1",
   "metadata": {},
   "source": [
    "# ipywidgets gui demo"
   ]
  },
  {
   "cell_type": "code",
   "execution_count": 1,
   "id": "230be32b",
   "metadata": {},
   "outputs": [],
   "source": [
    "subdir = 'dashcam_tour_frankston'"
   ]
  },
  {
   "cell_type": "code",
   "execution_count": 2,
   "id": "283d7f1a",
   "metadata": {},
   "outputs": [
    {
     "data": {
      "application/vnd.jupyter.widget-view+json": {
       "model_id": "67eddd891c9f4416b8f69a048cbd85fd",
       "version_major": 2,
       "version_minor": 0
      },
      "text/plain": [
       "Image(value=b'\\xff\\xd8\\xff\\xe0\\x00\\x10JFIF\\x00\\x01\\x01\\x00\\x00\\x01\\x00\\x01\\x00\\x00\\xff\\xdb\\x00C\\x00\\x02\\x01\\x0…"
      ]
     },
     "metadata": {},
     "output_type": "display_data"
    },
    {
     "data": {
      "application/vnd.jupyter.widget-view+json": {
       "model_id": "5f420324f5bc429e8f181025f068a8e9",
       "version_major": 2,
       "version_minor": 0
      },
      "text/plain": [
       "Checkbox(value=False, description='Hit?')"
      ]
     },
     "metadata": {},
     "output_type": "display_data"
    },
    {
     "data": {
      "application/vnd.jupyter.widget-view+json": {
       "model_id": "ad720afb10d641de8b699e025177d6b4",
       "version_major": 2,
       "version_minor": 0
      },
      "text/plain": [
       "Button(description='Submit', style=ButtonStyle())"
      ]
     },
     "metadata": {},
     "output_type": "display_data"
    },
    {
     "data": {
      "application/vnd.jupyter.widget-view+json": {
       "model_id": "1cc3de2027944fc88e4111309a28a910",
       "version_major": 2,
       "version_minor": 0
      },
      "text/plain": [
       "Output()"
      ]
     },
     "metadata": {},
     "output_type": "display_data"
    }
   ],
   "source": [
    "import os\n",
    "import ipywidgets as widgets\n",
    "\n",
    "# Find images, and start with the first one\n",
    "hits_path = os.path.join(os.pardir, 'data_sources', subdir, 'detections', 'hits')\n",
    "hit_images = [f for f in os.listdir(hits_path) if os.path.isfile(os.path.join(hits_path, f))]\n",
    "global image_index\n",
    "image_index = 0\n",
    "\n",
    "# Set up callback functions\n",
    "def update_image(index):\n",
    "    if index >= len(hit_images):\n",
    "        print('No more images to process')\n",
    "        return\n",
    "    \n",
    "    filename = os.path.join(hits_path, hit_images[index])\n",
    "    file     = open(filename, 'rb')\n",
    "    image    = file.read()\n",
    "    \n",
    "    image_widget.value = image\n",
    "\n",
    " \n",
    "image_widget  = widgets.Image(format='jpg')\n",
    "hit_checkbox  = widgets.Checkbox(False, description='Hit?')\n",
    "submit_button = widgets.Button(description='Submit')\n",
    "out           = widgets.Output()\n",
    "\n",
    "@out.capture()\n",
    "\n",
    "def on_submit(b):\n",
    "    print('Submit! ' + str(hit_checkbox.value))\n",
    "    global image_index\n",
    "    image_index += 1\n",
    "    update_image(image_index)\n",
    "\n",
    "submit_button.on_click(on_submit)\n",
    "\n",
    "update_image(0)\n",
    "\n",
    "display(image_widget)\n",
    "display(hit_checkbox)\n",
    "display(submit_button)\n",
    "display(out)\n",
    "\n",
    "\n",
    "\n",
    "    \n",
    "    "
   ]
  },
  {
   "cell_type": "code",
   "execution_count": null,
   "id": "22bf8a7f",
   "metadata": {},
   "outputs": [],
   "source": []
  }
 ],
 "metadata": {
  "kernelspec": {
   "display_name": "gpuEnv",
   "language": "python",
   "name": "gpuenv"
  },
  "language_info": {
   "codemirror_mode": {
    "name": "ipython",
    "version": 3
   },
   "file_extension": ".py",
   "mimetype": "text/x-python",
   "name": "python",
   "nbconvert_exporter": "python",
   "pygments_lexer": "ipython3",
   "version": "3.8.11"
  }
 },
 "nbformat": 4,
 "nbformat_minor": 5
}
