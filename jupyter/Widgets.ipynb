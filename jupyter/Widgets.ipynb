{
 "cells": [
  {
   "cell_type": "markdown",
   "id": "3e4b94d1",
   "metadata": {},
   "source": [
    "# ipywidgets gui demo"
   ]
  },
  {
   "cell_type": "code",
   "execution_count": 4,
   "id": "230be32b",
   "metadata": {},
   "outputs": [],
   "source": [
    "subdir = 'dashcam_tour_mount_eliza'"
   ]
  },
  {
   "cell_type": "code",
   "execution_count": 5,
   "id": "283d7f1a",
   "metadata": {},
   "outputs": [
    {
     "ename": "FileNotFoundError",
     "evalue": "[WinError 3] The system cannot find the path specified: 'E:\\\\Release\\\\minor_thesis\\\\data_sources\\\\dashcam_tour_mount_eliza\\\\detections\\\\hits'",
     "output_type": "error",
     "traceback": [
      "\u001b[1;31m---------------------------------------------------------------------------\u001b[0m",
      "\u001b[1;31mFileNotFoundError\u001b[0m                         Traceback (most recent call last)",
      "\u001b[1;32m<ipython-input-5-746c4ef3da0e>\u001b[0m in \u001b[0;36m<module>\u001b[1;34m\u001b[0m\n\u001b[0;32m      4\u001b[0m \u001b[1;31m# Find images, and start with the first one\u001b[0m\u001b[1;33m\u001b[0m\u001b[1;33m\u001b[0m\u001b[1;33m\u001b[0m\u001b[0m\n\u001b[0;32m      5\u001b[0m \u001b[0mhits_path\u001b[0m \u001b[1;33m=\u001b[0m \u001b[0mos\u001b[0m\u001b[1;33m.\u001b[0m\u001b[0mpath\u001b[0m\u001b[1;33m.\u001b[0m\u001b[0mjoin\u001b[0m\u001b[1;33m(\u001b[0m\u001b[0mos\u001b[0m\u001b[1;33m.\u001b[0m\u001b[0mpath\u001b[0m\u001b[1;33m.\u001b[0m\u001b[0mabspath\u001b[0m\u001b[1;33m(\u001b[0m\u001b[0mos\u001b[0m\u001b[1;33m.\u001b[0m\u001b[0mpardir\u001b[0m\u001b[1;33m)\u001b[0m\u001b[1;33m,\u001b[0m \u001b[1;34m'data_sources'\u001b[0m\u001b[1;33m,\u001b[0m \u001b[0msubdir\u001b[0m\u001b[1;33m,\u001b[0m \u001b[1;34m'detections'\u001b[0m\u001b[1;33m,\u001b[0m \u001b[1;34m'hits'\u001b[0m\u001b[1;33m)\u001b[0m\u001b[1;33m\u001b[0m\u001b[1;33m\u001b[0m\u001b[0m\n\u001b[1;32m----> 6\u001b[1;33m \u001b[0mhit_images\u001b[0m \u001b[1;33m=\u001b[0m \u001b[1;33m[\u001b[0m\u001b[0mf\u001b[0m \u001b[1;32mfor\u001b[0m \u001b[0mf\u001b[0m \u001b[1;32min\u001b[0m \u001b[0mos\u001b[0m\u001b[1;33m.\u001b[0m\u001b[0mlistdir\u001b[0m\u001b[1;33m(\u001b[0m\u001b[0mhits_path\u001b[0m\u001b[1;33m)\u001b[0m \u001b[1;32mif\u001b[0m \u001b[0mos\u001b[0m\u001b[1;33m.\u001b[0m\u001b[0mpath\u001b[0m\u001b[1;33m.\u001b[0m\u001b[0misfile\u001b[0m\u001b[1;33m(\u001b[0m\u001b[0mos\u001b[0m\u001b[1;33m.\u001b[0m\u001b[0mpath\u001b[0m\u001b[1;33m.\u001b[0m\u001b[0mjoin\u001b[0m\u001b[1;33m(\u001b[0m\u001b[0mhits_path\u001b[0m\u001b[1;33m,\u001b[0m \u001b[0mf\u001b[0m\u001b[1;33m)\u001b[0m\u001b[1;33m)\u001b[0m\u001b[1;33m]\u001b[0m\u001b[1;33m\u001b[0m\u001b[1;33m\u001b[0m\u001b[0m\n\u001b[0m\u001b[0;32m      7\u001b[0m \u001b[1;32mglobal\u001b[0m \u001b[0mimage_index\u001b[0m\u001b[1;33m\u001b[0m\u001b[1;33m\u001b[0m\u001b[0m\n\u001b[0;32m      8\u001b[0m \u001b[0mimage_index\u001b[0m \u001b[1;33m=\u001b[0m \u001b[1;36m0\u001b[0m\u001b[1;33m\u001b[0m\u001b[1;33m\u001b[0m\u001b[0m\n",
      "\u001b[1;31mFileNotFoundError\u001b[0m: [WinError 3] The system cannot find the path specified: 'E:\\\\Release\\\\minor_thesis\\\\data_sources\\\\dashcam_tour_mount_eliza\\\\detections\\\\hits'"
     ]
    }
   ],
   "source": [
    "import os\n",
    "import ipywidgets as widgets\n",
    "\n",
    "# Find images, and start with the first one\n",
    "hits_path = os.path.join(os.path.abspath(os.pardir), 'data_sources', subdir, 'detections', 'hits')\n",
    "hit_images = [f for f in os.listdir(hits_path) if os.path.isfile(os.path.join(hits_path, f))]\n",
    "global image_index\n",
    "image_index = 0\n",
    "\n",
    "# Set up callback functions\n",
    "def update_image(index):\n",
    "    if index >= len(hit_images):\n",
    "        print('No more images to process')\n",
    "        return\n",
    "    \n",
    "    filename = os.path.join(hits_path, hit_images[index])\n",
    "    file     = open(filename, 'rb')\n",
    "    image    = file.read()\n",
    "    \n",
    "    image_widget.value = image\n",
    "\n",
    " \n",
    "image_widget  = widgets.Image(format='jpg')\n",
    "hit_checkbox  = widgets.Checkbox(False, description='Hit?')\n",
    "submit_button = widgets.Button(description='Submit')\n",
    "out           = widgets.Output()\n",
    "\n",
    "@out.capture()\n",
    "\n",
    "def on_submit(b):\n",
    "    print('Submit! ' + str(hit_checkbox.value))\n",
    "    global image_index\n",
    "    image_index += 1\n",
    "    update_image(image_index)\n",
    "\n",
    "submit_button.on_click(on_submit)\n",
    "\n",
    "update_image(0)\n",
    "\n",
    "display(image_widget)\n",
    "display(hit_checkbox)\n",
    "display(submit_button)\n",
    "display(out)\n",
    "\n",
    "\n",
    "\n",
    "    \n",
    "    "
   ]
  },
  {
   "cell_type": "code",
   "execution_count": null,
   "id": "22bf8a7f",
   "metadata": {},
   "outputs": [],
   "source": []
  }
 ],
 "metadata": {
  "kernelspec": {
   "display_name": "gpuEnv",
   "language": "python",
   "name": "gpuenv"
  },
  "language_info": {
   "codemirror_mode": {
    "name": "ipython",
    "version": 3
   },
   "file_extension": ".py",
   "mimetype": "text/x-python",
   "name": "python",
   "nbconvert_exporter": "python",
   "pygments_lexer": "ipython3",
   "version": "3.8.11"
  }
 },
 "nbformat": 4,
 "nbformat_minor": 5
}
