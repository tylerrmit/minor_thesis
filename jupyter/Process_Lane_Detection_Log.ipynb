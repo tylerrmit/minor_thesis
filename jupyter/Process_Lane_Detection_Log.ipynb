{
 "cells": [
  {
   "cell_type": "markdown",
   "id": "ae3595cd",
   "metadata": {},
   "source": [
    "# Process Lane Detection Log\n",
    "\n",
    "From all the stats in the \"metadata.csv\" produced by lane detection:\n",
    "\n",
    "* For each point, find the corresponding \"intersection\" nodes in OSM for the way segment\n",
    "    * Find the nearest way, excluding unnamed (roundabouts etc. that are really intersections themselves)\n",
    "    * On that way, find the three nearest points\n",
    "    * The nearest point is one intersection node\n",
    "    * If the point is further from the second-nearest point than the third-nearest point, then use the third-nearest\n",
    "    \n",
    "    |-------*-|-|\n",
    "    \n",
    "* If the distance from the previous point is less than a threshold number of metres, then disregard the point as a duplicate that might otherwise skew our assessment.  E.g. car waiting at intersection for many frames.\n",
    "\n",
    "* What is the difference between the slopes of the potential bike lane/shoulder?\n",
    "\n",
    "* What is the difference between the intercepts at the top line?\n",
    "\n",
    "==> Set thresholds for these\n",
    "\n",
    "==> Count what proportion of points in a way section meet both criteria\n",
    "\n",
    "==> Compare to ground truth for a suburb to select a score/proportion to use for a yes/no answer\n",
    "\n",
    "==> Draw on a map"
   ]
  },
  {
   "cell_type": "code",
   "execution_count": 1,
   "id": "db70d82e",
   "metadata": {},
   "outputs": [],
   "source": [
    "import_directory = 'dashcam_tour_mount_eliza'\n",
    "#import_directory = 'dashcam_tour_frankston'\n",
    "\n",
    "locality = 'Mount Eliza'\n",
    "#locality = 'Frankston'\n",
    "margin   = 20"
   ]
  },
  {
   "cell_type": "code",
   "execution_count": 2,
   "id": "01bb8a5e",
   "metadata": {},
   "outputs": [],
   "source": [
    "import os\n",
    "import sys\n",
    "\n",
    "import pandas as pd\n",
    "\n",
    "from shapely.geometry import Point\n",
    "\n",
    "module_path_root = os.path.abspath(os.pardir)\n",
    "if module_path_root not in sys.path:\n",
    "    sys.path.append(module_path_root)\n",
    "    \n",
    "# Import local modules\n",
    "import osm_gsv_utils.osm_walker as osm_walker"
   ]
  },
  {
   "cell_type": "code",
   "execution_count": 3,
   "id": "29da8268",
   "metadata": {},
   "outputs": [],
   "source": [
    "# Derive paths\n",
    "metadata_dir        = os.path.join(module_path_root, 'data_sources', import_directory, 'split')\n",
    "metadata_csv_in     = os.path.join(metadata_dir, 'metadata.csv')\n",
    "metadata_csv_out    = os.path.join(metadata_dir, 'metadata_out.csv')\n",
    "\n",
    "locality_clean = locality.replace(' ', '_')\n",
    "\n",
    "filename_main       = os.path.join(os.pardir, 'data_sources', 'Locality_' + locality_clean + '.osm')\n",
    "filename_margin     = os.path.join(os.pardir, 'data_sources', 'Locality_' + locality_clean + '_margin.osm')\n",
    "locality_margin     = '{0:s}_{1:d}m'.format(locality_clean, margin)"
   ]
  },
  {
   "cell_type": "code",
   "execution_count": 4,
   "id": "fe792bf6",
   "metadata": {},
   "outputs": [],
   "source": [
    "# Load OSM data\n",
    "walker = osm_walker(filename_margin, filename_margin, verbose=False)"
   ]
  },
  {
   "cell_type": "code",
   "execution_count": 5,
   "id": "9df66343",
   "metadata": {},
   "outputs": [
    {
     "data": {
      "application/vnd.jupyter.widget-view+json": {
       "model_id": "7eb5d6ced9ae4c82a2b8c32fe7bf7db2",
       "version_major": 2,
       "version_minor": 0
      },
      "text/plain": [
       "  0%|          | 0/13545 [00:00<?, ?it/s]"
      ]
     },
     "metadata": {},
     "output_type": "display_data"
    }
   ],
   "source": [
    "# Find nearest intersection for each record in metadata.csv\n",
    "walker.find_nearest_intersections_for_csv(metadata_csv_in, metadata_csv_out)"
   ]
  }
 ],
 "metadata": {
  "kernelspec": {
   "display_name": "gpuEnv",
   "language": "python",
   "name": "gpuenv"
  },
  "language_info": {
   "codemirror_mode": {
    "name": "ipython",
    "version": 3
   },
   "file_extension": ".py",
   "mimetype": "text/x-python",
   "name": "python",
   "nbconvert_exporter": "python",
   "pygments_lexer": "ipython3",
   "version": "3.8.11"
  }
 },
 "nbformat": 4,
 "nbformat_minor": 5
}
