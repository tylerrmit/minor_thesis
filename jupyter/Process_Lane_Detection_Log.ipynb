{
 "cells": [
  {
   "cell_type": "markdown",
   "id": "1b61d77b",
   "metadata": {},
   "source": [
    "# Process Lane Detection Log\n",
    "\n",
    "From all the stats in the \"metadata.csv\" produced by lane detection:\n",
    "\n",
    "* For each point, find the corresponding \"intersection\" nodes in OSM for the way segment\n",
    "    * Find the nearest way, excluding unnamed (roundabouts etc. that are really intersections themselves)\n",
    "    * On that way, find the three nearest points\n",
    "    * The nearest point is one intersection node\n",
    "    * If the point is further from the second-nearest point than the third-nearest point, then use the third-nearest\n",
    "    \n",
    "    |-------*-|-|\n",
    "    \n",
    "* If the distance from the previous point is less than a threshold number of metres, then disregard the point as a duplicate that might otherwise skew our assessment.  E.g. car waiting at intersection for many frames.\n",
    "\n",
    "* What is the difference between the slopes of the potential bike lane/shoulder?\n",
    "\n",
    "* What is the difference between the intercepts at the top line?\n",
    "\n",
    "==> Set thresholds for these\n",
    "\n",
    "==> Count what proportion of points in a way section meet both criteria\n",
    "\n",
    "==> Compare to ground truth for a suburb to select a score/proportion to use for a yes/no answer\n",
    "\n",
    "==> Draw on a map"
   ]
  },
  {
   "cell_type": "code",
   "execution_count": 1,
   "id": "929843d5",
   "metadata": {},
   "outputs": [],
   "source": [
    "import_directory = 'dashcam_tour_mount_eliza'\n",
    "#import_directory = 'dashcam_tour_frankston'\n",
    "\n",
    "locality = 'Mount Eliza'\n",
    "#locality = 'Frankston'\n",
    "margin   = 20"
   ]
  },
  {
   "cell_type": "code",
   "execution_count": 2,
   "id": "473fb461",
   "metadata": {},
   "outputs": [],
   "source": [
    "import os\n",
    "import sys\n",
    "import shutil\n",
    "\n",
    "from pathlib import Path\n",
    "\n",
    "import pandas as pd\n",
    "\n",
    "from tqdm.notebook import tqdm, trange\n",
    "\n",
    "from shapely.geometry import Point\n",
    "\n",
    "module_path_root = os.path.abspath(os.pardir)\n",
    "if module_path_root not in sys.path:\n",
    "    sys.path.append(module_path_root)\n",
    "    \n",
    "# Import local modules\n",
    "import osm_gsv_utils.osm_walker as osm_walker"
   ]
  },
  {
   "cell_type": "code",
   "execution_count": 3,
   "id": "6a149fff",
   "metadata": {},
   "outputs": [],
   "source": [
    "# Derive paths\n",
    "metadata_dir        = os.path.join(module_path_root, 'data_sources', import_directory, 'split')\n",
    "metadata_csv_in     = os.path.join(metadata_dir, 'metadata.csv')\n",
    "metadata_csv_out    = os.path.join(metadata_dir, 'metadata_out.csv')\n",
    "\n",
    "lanes_dir_in        = os.path.join(metadata_dir, 'lanes')\n",
    "lanes_dir_out       = os.path.join(metadata_dir, 'lanes_filtered')\n",
    "\n",
    "locality_clean = locality.replace(' ', '_')\n",
    "\n",
    "filename_main       = os.path.join(os.pardir, 'data_sources', 'Locality_' + locality_clean + '.osm')\n",
    "filename_margin     = os.path.join(os.pardir, 'data_sources', 'Locality_' + locality_clean + '_margin.osm')\n",
    "locality_margin     = '{0:s}_{1:d}m'.format(locality_clean, margin)"
   ]
  },
  {
   "cell_type": "code",
   "execution_count": 4,
   "id": "c81f3a5c",
   "metadata": {},
   "outputs": [
    {
     "data": {
      "application/vnd.jupyter.widget-view+json": {
       "model_id": "623b124a200b4f8fb34421b896290ea5",
       "version_major": 2,
       "version_minor": 0
      },
      "text/plain": [
       "  0%|          | 0/4274 [00:00<?, ?it/s]"
      ]
     },
     "metadata": {},
     "output_type": "display_data"
    },
    {
     "data": {
      "application/vnd.jupyter.widget-view+json": {
       "model_id": "3e16d4554adf4cda9744e0b4c062cfc6",
       "version_major": 2,
       "version_minor": 0
      },
      "text/plain": [
       "  0%|          | 0/4274 [00:00<?, ?it/s]"
      ]
     },
     "metadata": {},
     "output_type": "display_data"
    }
   ],
   "source": [
    "# Load OSM data\n",
    "walker = osm_walker(filename_margin, filename_margin, verbose=False)"
   ]
  },
  {
   "cell_type": "code",
   "execution_count": 5,
   "id": "0814e2ca",
   "metadata": {},
   "outputs": [
    {
     "data": {
      "application/vnd.jupyter.widget-view+json": {
       "model_id": "034b866fb8ea40dca767f10248f50308",
       "version_major": 2,
       "version_minor": 0
      },
      "text/plain": [
       "  0%|          | 0/13545 [00:00<?, ?it/s]"
      ]
     },
     "metadata": {},
     "output_type": "display_data"
    }
   ],
   "source": [
    "# Find nearest intersection for each record in metadata.csv\n",
    "walker.find_nearest_intersections_for_csv(metadata_csv_in, metadata_csv_out)"
   ]
  },
  {
   "cell_type": "code",
   "execution_count": 6,
   "id": "c410e417",
   "metadata": {},
   "outputs": [
    {
     "data": {
      "application/vnd.jupyter.widget-view+json": {
       "model_id": "089c879a3b4248a79f7f9e33cfd014fc",
       "version_major": 2,
       "version_minor": 0
      },
      "text/plain": [
       "  0%|          | 0/6942 [00:00<?, ?it/s]"
      ]
     },
     "metadata": {},
     "output_type": "display_data"
    }
   ],
   "source": [
    "# Some images were filtered out because we couldn't find the two closest intersections,\n",
    "# or we were too close to an intersection and wanted to avoid noise\n",
    "\n",
    "# Create a folder where only the included \"lanes\" images are included, for ease of browsing\n",
    "\n",
    "# Create output directory for filtered lane images and delete any existing files\n",
    "shutil.rmtree(lanes_dir_out, ignore_errors=True)\n",
    "Path(lanes_dir_out).mkdir(parents=True, exist_ok=True)\n",
    "\n",
    "# Copy every file that made the cut\n",
    "df = pd.read_csv(metadata_csv_out)\n",
    "\n",
    "for i in trange(0, len(df['filename'])):\n",
    "    path = df['filename'][i]\n",
    "    filename = os.path.basename(path)\n",
    "    shutil.copyfile(os.path.join(lanes_dir_in, filename), os.path.join(lanes_dir_out, filename))"
   ]
  }
 ],
 "metadata": {
  "kernelspec": {
   "display_name": "gpuEnv",
   "language": "python",
   "name": "gpuenv"
  },
  "language_info": {
   "codemirror_mode": {
    "name": "ipython",
    "version": 3
   },
   "file_extension": ".py",
   "mimetype": "text/x-python",
   "name": "python",
   "nbconvert_exporter": "python",
   "pygments_lexer": "ipython3",
   "version": "3.8.11"
  }
 },
 "nbformat": 4,
 "nbformat_minor": 5
}
