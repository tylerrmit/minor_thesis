{
 "cells": [
  {
   "cell_type": "markdown",
   "id": "1b61d77b",
   "metadata": {},
   "source": [
    "# Process Lane Detection Log\n",
    "\n",
    "From all the stats in the \"metadata.csv\" produced by lane detection:\n",
    "\n",
    "* For each point, find the corresponding \"intersection\" nodes in OSM for the way segment\n",
    "    * Find the nearest way, excluding unnamed (roundabouts etc. that are really intersections themselves)\n",
    "    * On that way, find the three nearest points\n",
    "    * The nearest point is one intersection node\n",
    "    * If the point is further from the second-nearest point than the third-nearest point, then use the third-nearest\n",
    "    \n",
    "    |-------*-|-|\n",
    "    \n",
    "* If the distance from the previous point is less than a threshold number of metres, then disregard the point as a duplicate that might otherwise skew our assessment.  E.g. car waiting at intersection for many frames.\n",
    "\n",
    "* What is the difference between the slopes of the potential bike lane/shoulder?\n",
    "\n",
    "* What is the difference between the intercepts at the top line?\n",
    "\n",
    "==> Set thresholds for these\n",
    "\n",
    "==> Count what proportion of points in a way section meet both criteria\n",
    "\n",
    "==> Compare to ground truth for a suburb to select a score/proportion to use for a yes/no answer\n",
    "\n",
    "==> Draw on a map"
   ]
  },
  {
   "cell_type": "code",
   "execution_count": 1,
   "id": "929843d5",
   "metadata": {},
   "outputs": [],
   "source": [
    "import_directory = 'dashcam_tour_mount_eliza'\n",
    "#import_directory = 'dashcam_tour_frankston'\n",
    "\n",
    "locality = 'Mount Eliza'\n",
    "#locality = 'Frankston'\n",
    "margin   = 20"
   ]
  },
  {
   "cell_type": "code",
   "execution_count": 2,
   "id": "473fb461",
   "metadata": {},
   "outputs": [],
   "source": [
    "import os\n",
    "import sys\n",
    "import shutil\n",
    "\n",
    "from pathlib import Path\n",
    "\n",
    "import pandas as pd\n",
    "import numpy as np\n",
    "\n",
    "from tqdm.notebook import tqdm, trange\n",
    "\n",
    "from shapely.geometry import Point\n",
    "\n",
    "module_path_root = os.path.abspath(os.pardir)\n",
    "if module_path_root not in sys.path:\n",
    "    sys.path.append(module_path_root)\n",
    "    \n",
    "# Import local modules\n",
    "import osm_gsv_utils.osm_walker as osm_walker"
   ]
  },
  {
   "cell_type": "code",
   "execution_count": 3,
   "id": "6a149fff",
   "metadata": {},
   "outputs": [],
   "source": [
    "# Derive paths\n",
    "metadata_dir        = os.path.join(module_path_root, 'data_sources', import_directory, 'split')\n",
    "metadata_csv_in     = os.path.join(metadata_dir, 'metadata.csv')\n",
    "metadata_csv_out    = os.path.join(metadata_dir, 'metadata_out.csv')\n",
    "metadata_csv_sum    = os.path.join(metadata_dir, 'metadata_with_summary.csv')\n",
    "\n",
    "lanes_dir_in        = os.path.join(metadata_dir, 'lanes')\n",
    "lanes_dir_out       = os.path.join(metadata_dir, 'lanes_filtered')\n",
    "\n",
    "locality_clean = locality.replace(' ', '_')\n",
    "\n",
    "filename_main       = os.path.join(os.pardir, 'data_sources', 'Locality_' + locality_clean + '.osm')\n",
    "filename_margin     = os.path.join(os.pardir, 'data_sources', 'Locality_' + locality_clean + '_margin.osm')\n",
    "locality_margin     = '{0:s}_{1:d}m'.format(locality_clean, margin)"
   ]
  },
  {
   "cell_type": "code",
   "execution_count": 4,
   "id": "c81f3a5c",
   "metadata": {},
   "outputs": [
    {
     "data": {
      "application/vnd.jupyter.widget-view+json": {
       "model_id": "26eecd4d8491419481b5fe1083c49190",
       "version_major": 2,
       "version_minor": 0
      },
      "text/plain": [
       "  0%|          | 0/4274 [00:00<?, ?it/s]"
      ]
     },
     "metadata": {},
     "output_type": "display_data"
    },
    {
     "data": {
      "application/vnd.jupyter.widget-view+json": {
       "model_id": "42edb435e07540ab95bfb5449e9e1638",
       "version_major": 2,
       "version_minor": 0
      },
      "text/plain": [
       "  0%|          | 0/4274 [00:00<?, ?it/s]"
      ]
     },
     "metadata": {},
     "output_type": "display_data"
    }
   ],
   "source": [
    "# Load OSM data\n",
    "walker = osm_walker(filename_margin, filename_margin, verbose=False)"
   ]
  },
  {
   "cell_type": "code",
   "execution_count": 5,
   "id": "0814e2ca",
   "metadata": {},
   "outputs": [
    {
     "data": {
      "application/vnd.jupyter.widget-view+json": {
       "model_id": "a115707352b64caca7315e2dbbf6822f",
       "version_major": 2,
       "version_minor": 0
      },
      "text/plain": [
       "  0%|          | 0/13545 [00:00<?, ?it/s]"
      ]
     },
     "metadata": {},
     "output_type": "display_data"
    }
   ],
   "source": [
    "# Find nearest intersection for each record in metadata.csv\n",
    "walker.find_nearest_intersections_for_csv(metadata_csv_in, metadata_csv_out)"
   ]
  },
  {
   "cell_type": "code",
   "execution_count": 6,
   "id": "c410e417",
   "metadata": {},
   "outputs": [
    {
     "data": {
      "application/vnd.jupyter.widget-view+json": {
       "model_id": "31997d7d612b4f4c85c330733b1e6900",
       "version_major": 2,
       "version_minor": 0
      },
      "text/plain": [
       "  0%|          | 0/6942 [00:00<?, ?it/s]"
      ]
     },
     "metadata": {},
     "output_type": "display_data"
    }
   ],
   "source": [
    "# Some images were filtered out because we couldn't find the two closest intersections,\n",
    "# or we were too close to an intersection and wanted to avoid noise\n",
    "\n",
    "# Create a folder where only the included \"lanes\" images are included, for ease of browsing\n",
    "\n",
    "# Create output directory for filtered lane images and delete any existing files\n",
    "shutil.rmtree(lanes_dir_out, ignore_errors=True)\n",
    "Path(lanes_dir_out).mkdir(parents=True, exist_ok=True)\n",
    "\n",
    "# Copy every file that made the cut\n",
    "df = pd.read_csv(metadata_csv_out)\n",
    "\n",
    "for i in trange(0, len(df['filename'])):\n",
    "    path = df['filename'][i]\n",
    "    filename = os.path.basename(path)\n",
    "    shutil.copyfile(os.path.join(lanes_dir_in, filename), os.path.join(lanes_dir_out, filename))"
   ]
  },
  {
   "cell_type": "markdown",
   "id": "c9f7703c",
   "metadata": {},
   "source": [
    "## Pandas Stats\n",
    "\n",
    "For each combination of way_id_start, node_id1, node_id2:\n",
    "\n",
    "* Proportion where left_slope2 and left_slope1 are not None or 'None'\n",
    "* Standard Deviation of intersection_x\n",
    "* Average of intersection_y"
   ]
  },
  {
   "cell_type": "code",
   "execution_count": 8,
   "id": "dd7a9148",
   "metadata": {},
   "outputs": [],
   "source": [
    "walker.summarise_lane_detections_csv(metadata_csv_out, metadata_csv_sum)"
   ]
  },
  {
   "cell_type": "markdown",
   "id": "71492ca1",
   "metadata": {},
   "source": [
    "## Criteria\n",
    "\n",
    "The following criteria appears to generally pick up most true bike lanes/paved shoulders without significant false positives:\n",
    "\n",
    "intersection_y_std < 50\n",
    "intersection_x_std < 50\n",
    "prop_missing < 0.2\n",
    "width_top_mean >= 75\n",
    "\n",
    "Perhaps also set a limit that the length of a LineString must "
   ]
  }
 ],
 "metadata": {
  "kernelspec": {
   "display_name": "gpuEnv",
   "language": "python",
   "name": "gpuenv"
  },
  "language_info": {
   "codemirror_mode": {
    "name": "ipython",
    "version": 3
   },
   "file_extension": ".py",
   "mimetype": "text/x-python",
   "name": "python",
   "nbconvert_exporter": "python",
   "pygments_lexer": "ipython3",
   "version": "3.8.11"
  }
 },
 "nbformat": 4,
 "nbformat_minor": 5
}
