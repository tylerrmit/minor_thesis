{
 "cells": [
  {
   "cell_type": "markdown",
   "id": "3af5f375",
   "metadata": {},
   "source": [
    "# Process Lane Detection Log\n",
    "\n",
    "From all the stats in the \"metadata.csv\" produced by lane detection:\n",
    "\n",
    "* For each point, find the corresponding \"intersection\" nodes in OSM for the way segment\n",
    "    * Find the nearest way, excluding unnamed (roundabouts etc. that are really intersections themselves)\n",
    "    * On that way, find the three nearest points\n",
    "    * The nearest point is one intersection node\n",
    "    * If the point is further from the second-nearest point than the third-nearest point, then use the third-nearest\n",
    "    \n",
    "    |-------*-|-|\n",
    "    \n",
    "* If the distance from the previous point is less than a threshold number of metres, then disregard the point as a duplicate that might otherwise skew our assessment.  E.g. car waiting at intersection for many frames.\n",
    "\n",
    "* What is the difference between the slopes of the potential bike lane/shoulder?\n",
    "\n",
    "* What is the difference between the intercepts at the top line?\n",
    "\n",
    "==> Set thresholds for these\n",
    "\n",
    "==> Count what proportion of points in a way section meet both criteria\n",
    "\n",
    "==> Compare to ground truth for a suburb to select a score/proportion to use for a yes/no answer\n",
    "\n",
    "==> Draw on a map"
   ]
  },
  {
   "cell_type": "code",
   "execution_count": 1,
   "id": "bf32e0e3",
   "metadata": {},
   "outputs": [],
   "source": [
    "import_directory = 'dashcam_tour_mount_eliza'\n",
    "#import_directory = 'dashcam_tour_frankston'\n",
    "\n",
    "locality = 'Mount Eliza'\n",
    "#locality = 'Frankston'\n",
    "margin   = 20"
   ]
  },
  {
   "cell_type": "code",
   "execution_count": 2,
   "id": "eef4269f",
   "metadata": {},
   "outputs": [],
   "source": [
    "import os\n",
    "import sys\n",
    "\n",
    "import pandas as pd\n",
    "\n",
    "from shapely.geometry import Point\n",
    "\n",
    "module_path_root = os.path.abspath(os.pardir)\n",
    "if module_path_root not in sys.path:\n",
    "    sys.path.append(module_path_root)\n",
    "    \n",
    "# Import local modules\n",
    "import osm_gsv_utils.osm_walker as osm_walker"
   ]
  },
  {
   "cell_type": "code",
   "execution_count": 3,
   "id": "b256b0c8",
   "metadata": {},
   "outputs": [],
   "source": [
    "# Derive paths\n",
    "metadata_csv = os.path.join(module_path_root, 'data_sources', import_directory, 'split', 'metadata.csv')\n",
    "\n",
    "locality_clean = locality.replace(' ', '_')\n",
    "\n",
    "filename_main       = os.path.join(os.pardir, 'data_sources', 'Locality_' + locality_clean + '.osm')\n",
    "filename_margin     = os.path.join(os.pardir, 'data_sources', 'Locality_' + locality_clean + '_margin.osm')\n",
    "locality_margin     = '{0:s}_{1:d}m'.format(locality_clean, margin)"
   ]
  },
  {
   "cell_type": "code",
   "execution_count": 4,
   "id": "98962ea9",
   "metadata": {},
   "outputs": [],
   "source": [
    "# Load OSM data\n",
    "walker = osm_walker(filename_main, filename_margin, verbose=False)"
   ]
  },
  {
   "cell_type": "code",
   "execution_count": 5,
   "id": "197a2014",
   "metadata": {},
   "outputs": [
    {
     "data": {
      "text/html": [
       "<div>\n",
       "<style scoped>\n",
       "    .dataframe tbody tr th:only-of-type {\n",
       "        vertical-align: middle;\n",
       "    }\n",
       "\n",
       "    .dataframe tbody tr th {\n",
       "        vertical-align: top;\n",
       "    }\n",
       "\n",
       "    .dataframe thead th {\n",
       "        text-align: right;\n",
       "    }\n",
       "</style>\n",
       "<table border=\"1\" class=\"dataframe\">\n",
       "  <thead>\n",
       "    <tr style=\"text-align: right;\">\n",
       "      <th></th>\n",
       "      <th>filename</th>\n",
       "      <th>prefix</th>\n",
       "      <th>frame_num</th>\n",
       "      <th>lat</th>\n",
       "      <th>lon</th>\n",
       "      <th>altitude</th>\n",
       "      <th>heading</th>\n",
       "      <th>pixels_bottom</th>\n",
       "      <th>pixels_top</th>\n",
       "      <th>left_slope2</th>\n",
       "      <th>left_int2</th>\n",
       "      <th>left_slope1</th>\n",
       "      <th>left_int1</th>\n",
       "      <th>right_slope1</th>\n",
       "      <th>right_int1</th>\n",
       "    </tr>\n",
       "  </thead>\n",
       "  <tbody>\n",
       "    <tr>\n",
       "      <th>0</th>\n",
       "      <td>E:\\TensorFlow2\\TFODCourse\\minor_thesis\\data_so...</td>\n",
       "      <td>FILE210924-100801F</td>\n",
       "      <td>0</td>\n",
       "      <td>-38.201282</td>\n",
       "      <td>145.103536</td>\n",
       "      <td>130.5</td>\n",
       "      <td>233.32</td>\n",
       "      <td>280.51</td>\n",
       "      <td>82.91</td>\n",
       "      <td>-0.3569746389425754</td>\n",
       "      <td>717.5784568371525</td>\n",
       "      <td>-0.6586782047529849</td>\n",
       "      <td>967.9134029201746</td>\n",
       "      <td>0.6712406249123887</td>\n",
       "      <td>-203.93659294864995</td>\n",
       "    </tr>\n",
       "    <tr>\n",
       "      <th>1</th>\n",
       "      <td>E:\\TensorFlow2\\TFODCourse\\minor_thesis\\data_so...</td>\n",
       "      <td>FILE210924-100801F</td>\n",
       "      <td>12</td>\n",
       "      <td>-38.201290</td>\n",
       "      <td>145.103523</td>\n",
       "      <td>130.5</td>\n",
       "      <td>233.32</td>\n",
       "      <td>226.36</td>\n",
       "      <td>68.27</td>\n",
       "      <td>-0.3706141135917843</td>\n",
       "      <td>731.7965031570301</td>\n",
       "      <td>-0.5981974878278502</td>\n",
       "      <td>923.574105074722</td>\n",
       "      <td>0.6377436067570221</td>\n",
       "      <td>-166.39047770345684</td>\n",
       "    </tr>\n",
       "    <tr>\n",
       "      <th>2</th>\n",
       "      <td>E:\\TensorFlow2\\TFODCourse\\minor_thesis\\data_so...</td>\n",
       "      <td>FILE210924-100801F</td>\n",
       "      <td>24</td>\n",
       "      <td>-38.201297</td>\n",
       "      <td>145.103511</td>\n",
       "      <td>130.5</td>\n",
       "      <td>233.32</td>\n",
       "      <td>0.00</td>\n",
       "      <td>0.00</td>\n",
       "      <td>None</td>\n",
       "      <td>None</td>\n",
       "      <td>-0.5189460444211357</td>\n",
       "      <td>852.0394576339941</td>\n",
       "      <td>0.6725104742474769</td>\n",
       "      <td>-199.95449792776338</td>\n",
       "    </tr>\n",
       "    <tr>\n",
       "      <th>3</th>\n",
       "      <td>E:\\TensorFlow2\\TFODCourse\\minor_thesis\\data_so...</td>\n",
       "      <td>FILE210924-100801F</td>\n",
       "      <td>36</td>\n",
       "      <td>-38.201305</td>\n",
       "      <td>145.103498</td>\n",
       "      <td>130.5</td>\n",
       "      <td>233.32</td>\n",
       "      <td>0.00</td>\n",
       "      <td>0.00</td>\n",
       "      <td>None</td>\n",
       "      <td>None</td>\n",
       "      <td>-0.5093364599617861</td>\n",
       "      <td>855.623805801633</td>\n",
       "      <td>0.6981329104758701</td>\n",
       "      <td>-232.14896477118634</td>\n",
       "    </tr>\n",
       "    <tr>\n",
       "      <th>4</th>\n",
       "      <td>E:\\TensorFlow2\\TFODCourse\\minor_thesis\\data_so...</td>\n",
       "      <td>FILE210924-100801F</td>\n",
       "      <td>48</td>\n",
       "      <td>-38.201312</td>\n",
       "      <td>145.103486</td>\n",
       "      <td>130.5</td>\n",
       "      <td>233.32</td>\n",
       "      <td>0.00</td>\n",
       "      <td>0.00</td>\n",
       "      <td>None</td>\n",
       "      <td>None</td>\n",
       "      <td>-0.5279331389079418</td>\n",
       "      <td>872.3841765514883</td>\n",
       "      <td>0.6105692531789348</td>\n",
       "      <td>-134.32055093255286</td>\n",
       "    </tr>\n",
       "  </tbody>\n",
       "</table>\n",
       "</div>"
      ],
      "text/plain": [
       "                                            filename              prefix  \\\n",
       "0  E:\\TensorFlow2\\TFODCourse\\minor_thesis\\data_so...  FILE210924-100801F   \n",
       "1  E:\\TensorFlow2\\TFODCourse\\minor_thesis\\data_so...  FILE210924-100801F   \n",
       "2  E:\\TensorFlow2\\TFODCourse\\minor_thesis\\data_so...  FILE210924-100801F   \n",
       "3  E:\\TensorFlow2\\TFODCourse\\minor_thesis\\data_so...  FILE210924-100801F   \n",
       "4  E:\\TensorFlow2\\TFODCourse\\minor_thesis\\data_so...  FILE210924-100801F   \n",
       "\n",
       "   frame_num        lat         lon  altitude  heading  pixels_bottom  \\\n",
       "0          0 -38.201282  145.103536     130.5   233.32         280.51   \n",
       "1         12 -38.201290  145.103523     130.5   233.32         226.36   \n",
       "2         24 -38.201297  145.103511     130.5   233.32           0.00   \n",
       "3         36 -38.201305  145.103498     130.5   233.32           0.00   \n",
       "4         48 -38.201312  145.103486     130.5   233.32           0.00   \n",
       "\n",
       "   pixels_top          left_slope2          left_int2          left_slope1  \\\n",
       "0       82.91  -0.3569746389425754  717.5784568371525  -0.6586782047529849   \n",
       "1       68.27  -0.3706141135917843  731.7965031570301  -0.5981974878278502   \n",
       "2        0.00                 None               None  -0.5189460444211357   \n",
       "3        0.00                 None               None  -0.5093364599617861   \n",
       "4        0.00                 None               None  -0.5279331389079418   \n",
       "\n",
       "           left_int1        right_slope1           right_int1  \n",
       "0  967.9134029201746  0.6712406249123887  -203.93659294864995  \n",
       "1   923.574105074722  0.6377436067570221  -166.39047770345684  \n",
       "2  852.0394576339941  0.6725104742474769  -199.95449792776338  \n",
       "3   855.623805801633  0.6981329104758701  -232.14896477118634  \n",
       "4  872.3841765514883  0.6105692531789348  -134.32055093255286  "
      ]
     },
     "execution_count": 5,
     "metadata": {},
     "output_type": "execute_result"
    }
   ],
   "source": [
    "df = pd.read_csv(metadata_csv)\n",
    "df.head(5)"
   ]
  },
  {
   "cell_type": "code",
   "execution_count": 6,
   "id": "46dc6212",
   "metadata": {},
   "outputs": [],
   "source": [
    "# Example point, let's just do one at a time first\n",
    "p = Point(-38.201282, 145.103536)"
   ]
  },
  {
   "cell_type": "code",
   "execution_count": 7,
   "id": "61cc983f",
   "metadata": {},
   "outputs": [
    {
     "name": "stdout",
     "output_type": "stream",
     "text": [
      "172385200\n",
      "BELLBIRD ROAD\n"
     ]
    }
   ],
   "source": [
    "way_id_start = walker.find_nearest_way_segment(p, verbose=False)\n",
    "print(way_id_start)\n",
    "print(walker.way_names_by_id[way_id_start])"
   ]
  },
  {
   "cell_type": "code",
   "execution_count": 13,
   "id": "556133b1",
   "metadata": {},
   "outputs": [
    {
     "name": "stdout",
     "output_type": "stream",
     "text": [
      "Way: 172385200, Intersection 1: 1853686745 36m, Intersection 2: 458414690 97m\n",
      "[-38.2014245, 145.1031611]\n",
      "[-38.2007143, 145.104377]\n"
     ]
    }
   ],
   "source": [
    "way_id_start, closest_node_id1, closest_node_id2, closest_distance1, closest_distance2 = walker.find_nearest_node_pair(p, verbose=False)\n",
    "print('Way: {0:s}, Intersection 1: {1:s} {2:.0f}m, Intersection 2: {3:s} {4:.0f}m'.format(\n",
    "    way_id_start, closest_node_id1, closest_distance1, closest_node_id2, closest_distance2))\n",
    "print(walker.node_coords[closest_node_id1])\n",
    "print(walker.node_coords[closest_node_id2])"
   ]
  },
  {
   "cell_type": "code",
   "execution_count": null,
   "id": "8cb14180",
   "metadata": {},
   "outputs": [],
   "source": []
  }
 ],
 "metadata": {
  "kernelspec": {
   "display_name": "gpuEnv",
   "language": "python",
   "name": "gpuenv"
  },
  "language_info": {
   "codemirror_mode": {
    "name": "ipython",
    "version": 3
   },
   "file_extension": ".py",
   "mimetype": "text/x-python",
   "name": "python",
   "nbconvert_exporter": "python",
   "pygments_lexer": "ipython3",
   "version": "3.8.11"
  }
 },
 "nbformat": 4,
 "nbformat_minor": 5
}
