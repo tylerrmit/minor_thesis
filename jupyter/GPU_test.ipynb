{
 "cells": [
  {
   "cell_type": "code",
   "execution_count": 1,
   "id": "5973de9e",
   "metadata": {},
   "outputs": [
    {
     "name": "stdout",
     "output_type": "stream",
     "text": [
      "(60000, 28, 28)\n",
      "(10000, 28, 28)\n",
      "Model: \"sequential\"\n",
      "_________________________________________________________________\n",
      "Layer (type)                 Output Shape              Param #   \n",
      "=================================================================\n",
      "flatten (Flatten)            (None, 784)               0         \n",
      "_________________________________________________________________\n",
      "dense (Dense)                (None, 64)                50240     \n",
      "_________________________________________________________________\n",
      "dense_1 (Dense)              (None, 128)               8320      \n",
      "_________________________________________________________________\n",
      "dense_2 (Dense)              (None, 128)               16512     \n",
      "_________________________________________________________________\n",
      "dense_3 (Dense)              (None, 10)                1290      \n",
      "=================================================================\n",
      "Total params: 76,362\n",
      "Trainable params: 76,362\n",
      "Non-trainable params: 0\n",
      "_________________________________________________________________\n",
      "Num GPUs Available:  1\n",
      "Epoch 1/30\n",
      "1688/1688 [==============================] - 2s 1ms/step - loss: 0.2998 - accuracy: 0.9096 - val_loss: 0.1159 - val_accuracy: 0.9655\n",
      "Epoch 2/30\n",
      "1688/1688 [==============================] - 2s 1ms/step - loss: 0.1283 - accuracy: 0.9596 - val_loss: 0.1164 - val_accuracy: 0.9657\n",
      "Epoch 3/30\n",
      "1688/1688 [==============================] - 2s 1ms/step - loss: 0.0926 - accuracy: 0.9715 - val_loss: 0.1123 - val_accuracy: 0.9708\n",
      "Epoch 4/30\n",
      "1688/1688 [==============================] - 2s 1ms/step - loss: 0.0727 - accuracy: 0.9760 - val_loss: 0.0837 - val_accuracy: 0.9767\n",
      "Epoch 5/30\n",
      "1688/1688 [==============================] - 2s 1ms/step - loss: 0.0584 - accuracy: 0.9808 - val_loss: 0.0832 - val_accuracy: 0.9770\n",
      "Epoch 6/30\n",
      "1688/1688 [==============================] - 2s 1ms/step - loss: 0.0498 - accuracy: 0.9836 - val_loss: 0.0904 - val_accuracy: 0.9752\n",
      "Epoch 7/30\n",
      "1688/1688 [==============================] - 2s 1ms/step - loss: 0.0418 - accuracy: 0.9861 - val_loss: 0.0988 - val_accuracy: 0.9748\n",
      "Epoch 8/30\n",
      "1688/1688 [==============================] - 2s 1ms/step - loss: 0.0348 - accuracy: 0.9881 - val_loss: 0.0844 - val_accuracy: 0.9788\n",
      "Epoch 9/30\n",
      "1688/1688 [==============================] - 2s 1ms/step - loss: 0.0315 - accuracy: 0.9894 - val_loss: 0.0956 - val_accuracy: 0.9743\n",
      "Epoch 10/30\n",
      "1688/1688 [==============================] - 2s 1ms/step - loss: 0.0259 - accuracy: 0.9914 - val_loss: 0.1194 - val_accuracy: 0.9700\n",
      "Epoch 11/30\n",
      "1688/1688 [==============================] - 2s 1ms/step - loss: 0.0249 - accuracy: 0.9912 - val_loss: 0.1103 - val_accuracy: 0.9745\n",
      "Epoch 12/30\n",
      "1688/1688 [==============================] - 2s 1ms/step - loss: 0.0254 - accuracy: 0.9917 - val_loss: 0.0922 - val_accuracy: 0.9788\n",
      "Epoch 13/30\n",
      "1688/1688 [==============================] - 2s 1ms/step - loss: 0.0215 - accuracy: 0.9931 - val_loss: 0.1015 - val_accuracy: 0.9773\n",
      "Epoch 14/30\n",
      "1688/1688 [==============================] - 2s 1ms/step - loss: 0.0197 - accuracy: 0.9933 - val_loss: 0.1132 - val_accuracy: 0.9770\n",
      "Epoch 15/30\n",
      "1688/1688 [==============================] - 2s 1ms/step - loss: 0.0171 - accuracy: 0.9945 - val_loss: 0.1328 - val_accuracy: 0.9745\n",
      "Epoch 16/30\n",
      "1688/1688 [==============================] - 2s 1ms/step - loss: 0.0190 - accuracy: 0.9932 - val_loss: 0.1004 - val_accuracy: 0.9787\n",
      "Epoch 17/30\n",
      "1688/1688 [==============================] - 2s 1ms/step - loss: 0.0163 - accuracy: 0.9944 - val_loss: 0.1119 - val_accuracy: 0.9800\n",
      "Epoch 18/30\n",
      "1688/1688 [==============================] - 2s 1ms/step - loss: 0.0143 - accuracy: 0.9955 - val_loss: 0.1786 - val_accuracy: 0.9707\n",
      "Epoch 19/30\n",
      "1688/1688 [==============================] - 2s 1ms/step - loss: 0.0155 - accuracy: 0.9949 - val_loss: 0.1445 - val_accuracy: 0.9722\n",
      "Epoch 20/30\n",
      "1688/1688 [==============================] - 2s 1ms/step - loss: 0.0157 - accuracy: 0.9949 - val_loss: 0.1219 - val_accuracy: 0.9805\n",
      "Epoch 21/30\n",
      "1688/1688 [==============================] - 2s 1ms/step - loss: 0.0137 - accuracy: 0.9954 - val_loss: 0.1323 - val_accuracy: 0.9765\n",
      "Epoch 22/30\n",
      "1688/1688 [==============================] - 2s 1ms/step - loss: 0.0121 - accuracy: 0.9960 - val_loss: 0.1493 - val_accuracy: 0.9730\n",
      "Epoch 23/30\n",
      "1688/1688 [==============================] - 2s 1ms/step - loss: 0.0123 - accuracy: 0.9961 - val_loss: 0.1518 - val_accuracy: 0.9747\n",
      "Epoch 24/30\n",
      "1688/1688 [==============================] - 2s 1ms/step - loss: 0.0130 - accuracy: 0.9958 - val_loss: 0.1309 - val_accuracy: 0.9790\n",
      "Epoch 25/30\n",
      "1688/1688 [==============================] - 2s 1ms/step - loss: 0.0108 - accuracy: 0.9964 - val_loss: 0.1438 - val_accuracy: 0.9770\n",
      "Epoch 26/30\n",
      "1688/1688 [==============================] - 2s 1ms/step - loss: 0.0102 - accuracy: 0.9969 - val_loss: 0.1463 - val_accuracy: 0.9787\n",
      "Epoch 27/30\n",
      "1688/1688 [==============================] - 2s 1ms/step - loss: 0.0113 - accuracy: 0.9964 - val_loss: 0.1430 - val_accuracy: 0.9787\n",
      "Epoch 28/30\n",
      "1688/1688 [==============================] - 2s 1ms/step - loss: 0.0104 - accuracy: 0.9963 - val_loss: 0.1598 - val_accuracy: 0.9755\n",
      "Epoch 29/30\n",
      "1688/1688 [==============================] - 2s 1ms/step - loss: 0.0105 - accuracy: 0.9966 - val_loss: 0.1505 - val_accuracy: 0.9778\n",
      "Epoch 30/30\n",
      "1688/1688 [==============================] - 2s 1ms/step - loss: 0.0119 - accuracy: 0.9968 - val_loss: 0.1564 - val_accuracy: 0.9768\n"
     ]
    },
    {
     "data": {
      "text/plain": [
       "<tensorflow.python.keras.callbacks.History at 0x15e2231c340>"
      ]
     },
     "execution_count": 1,
     "metadata": {},
     "output_type": "execute_result"
    }
   ],
   "source": [
    "import numpy as np\n",
    "import tensorflow as tf\n",
    "\n",
    "# load MNIST Digit data\n",
    "data = tf.keras.datasets.mnist\n",
    "\n",
    "# here data is split into 70,30 by default\n",
    "(X_train, Y_train), (X_test, Y_test) = data.load_data()\n",
    "\n",
    "# normalizing data\n",
    "X_train = tf.keras.utils.normalize(X_train)\n",
    "X_test = tf.keras.utils.normalize(X_test)\n",
    "\n",
    "# checking shape of data\n",
    "print(X_train.shape)\n",
    "print(X_test.shape)\n",
    "\n",
    "# function to create and compile model\n",
    "def createModel(input_shape, num_classes, optimizer, loss, metrics):\n",
    "\n",
    "    model = tf.keras.models.Sequential()  ##a feed forward model , created stack of layer on top of it\n",
    "    model.add(tf.keras.layers.Input(shape=input_shape))\n",
    "    model.add(tf.keras.layers.Flatten())\n",
    "    model.add(tf.keras.layers.Dense(64, activation='relu'))\n",
    "    model.add(tf.keras.layers.Dense(128, activation='relu'))\n",
    "    model.add(tf.keras.layers.Dense(128, activation='relu'))\n",
    "    model.add(tf.keras.layers.Dense(num_classes, activation='softmax'))\n",
    "\n",
    "    model.compile(optimizer=optimizer, loss=loss, metrics=[metrics])\n",
    "\n",
    "    return model\n",
    "\n",
    "# model\n",
    "model = createModel(input_shape=(28, 28), num_classes=10, optimizer='adam',\n",
    "                    loss='sparse_categorical_crossentropy',\n",
    "                    metrics='accuracy')\n",
    "\n",
    "model.summary()\n",
    "\n",
    "print(\"Num GPUs Available: \", len(tf.config.experimental.list_physical_devices('GPU'))) #print no of GPU device\n",
    "\n",
    "model.fit(X_train, Y_train, epochs=30, validation_split=0.1)"
   ]
  },
  {
   "cell_type": "code",
   "execution_count": 2,
   "id": "9e8073de",
   "metadata": {},
   "outputs": [
    {
     "name": "stdout",
     "output_type": "stream",
     "text": [
      "[PhysicalDevice(name='/physical_device:GPU:0', device_type='GPU')]\n"
     ]
    }
   ],
   "source": [
    "import tensorflow as tf\n",
    "print(tf.config.list_physical_devices('GPU'))"
   ]
  },
  {
   "cell_type": "code",
   "execution_count": null,
   "id": "aa9cdf58",
   "metadata": {},
   "outputs": [],
   "source": []
  }
 ],
 "metadata": {
  "kernelspec": {
   "display_name": "gpuEnv",
   "language": "python",
   "name": "gpuenv"
  },
  "language_info": {
   "codemirror_mode": {
    "name": "ipython",
    "version": 3
   },
   "file_extension": ".py",
   "mimetype": "text/x-python",
   "name": "python",
   "nbconvert_exporter": "python",
   "pygments_lexer": "ipython3",
   "version": "3.8.11"
  }
 },
 "nbformat": 4,
 "nbformat_minor": 5
}
