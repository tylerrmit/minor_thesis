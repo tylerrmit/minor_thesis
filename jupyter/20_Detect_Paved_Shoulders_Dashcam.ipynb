{
 "cells": [
  {
   "cell_type": "markdown",
   "id": "99680ba6",
   "metadata": {},
   "source": [
    "# 20. Detect Paved Shoulders Dashcam\n",
    "\n",
    "This is an updated version of notebook 12, except we will run a lane detection algorithm while we are splitting the video into frames, and store information about the slope and intercept of detected lanes in metadata.csv\n",
    "\n",
    "Then, we will interpret those stats to decide whether there is a paved shoulder (or bicycle lane) along each stretch of road, from intersection to intersection"
   ]
  },
  {
   "cell_type": "markdown",
   "id": "0f36f7fc",
   "metadata": {},
   "source": [
    "## Configuration\n",
    "\n",
    "Any configuration that is required to run this notebook can be customized in the next cell"
   ]
  },
  {
   "cell_type": "code",
   "execution_count": 1,
   "id": "d46c7451",
   "metadata": {},
   "outputs": [],
   "source": [
    "# Name of a folder containing input MP4 videos and their corresponding NMEA files,\n",
    "# imported from the dash camera.  This notebook will assume this folder is found\n",
    "# inside the 'data_sources' folder.\n",
    "# We will create a \"split\" subdirectory inside the import_directory, containing\n",
    "# each of the images, plus a \"metadata.csv\" file to describe each of them in terms\n",
    "# of latitude/longitude, altitude, and heading\n",
    "import_directory = 'dashcam_tour_mount_eliza'\n",
    "#import_directory = 'dashcam_tour_frankston'\n",
    "\n",
    "# Required frames per second for output images, reduced down from 60 fps\n",
    "output_fps = 5\n",
    "\n",
    "# Which \"locality\" do we wish to process?\n",
    "locality = 'Mount Eliza'\n",
    "\n",
    "# We will sample the middle of each intersection, but we can also sample a\n",
    "# \"margin\" around the intersection, at 10m intervals.\n",
    "# E.g. if we set this to \"20\" then we will sample points at:\n",
    "#    -20m, -10m, 0m, 10m, and 20m\n",
    "# from the centre of the intersection, along the assumed bearing of the road\n",
    "# Used here just to get the right filename\n",
    "margin = 20"
   ]
  },
  {
   "cell_type": "markdown",
   "id": "b80fe631",
   "metadata": {},
   "source": [
    "## Code"
   ]
  },
  {
   "cell_type": "code",
   "execution_count": 2,
   "id": "610206d9",
   "metadata": {},
   "outputs": [],
   "source": [
    "# General imports\n",
    "import os\n",
    "import sys\n",
    "import shutil\n",
    "\n",
    "from pathlib import Path\n",
    "\n",
    "import pandas as pd\n",
    "import numpy as np\n",
    "\n",
    "from tqdm.notebook import tqdm, trange\n",
    "\n",
    "from shapely.geometry import Point\n",
    "\n",
    "\n",
    "module_path_root = os.path.abspath(os.pardir)\n",
    "if module_path_root not in sys.path:\n",
    "    sys.path.append(module_path_root)\n",
    "    \n",
    "# Import local modules\n",
    "import osm_gsv_utils.dashcam_parser as dashcam_parser\n",
    "import osm_gsv_utils.lane_detection as lane_detection\n",
    "import osm_gsv_utils.osm_walker as osm_walker"
   ]
  },
  {
   "cell_type": "code",
   "execution_count": 3,
   "id": "b5941ee0",
   "metadata": {
    "scrolled": true
   },
   "outputs": [],
   "source": [
    "# Derived paths\n",
    "\n",
    "# Full path to the directory containing the MP4 videos and NMEA files\n",
    "dashcam_dir = os.path.join(module_path_root, 'data_sources', import_directory)\n",
    "\n",
    "# \"Split\" subdirectory where the output frames will be created, along with a \"metadata.csv\"\n",
    "# with metadata about each frame, loaded and interpolated from the NMEA files\n",
    "output_dir  = os.path.join(dashcam_dir, 'split')\n",
    "\n",
    "# Configuration file to correct for optical distortion, created from calibration notebook 18\n",
    "calibration_config = os.path.join(module_path_root, 'data_sources', 'dashcam_calibration.yml')\n",
    "\n",
    "# Location of basic metadata.csv from the video-> image split process\n",
    "metadata_dir        = os.path.join(module_path_root, 'data_sources', import_directory, 'split')\n",
    "metadata_csv_in     = os.path.join(metadata_dir, 'metadata.csv')\n",
    "\n",
    "# We read the basic metadata.csv and create a version where we have matched each point\n",
    "# to the nearest intersection\n",
    "metadata_csv_out    = os.path.join(metadata_dir, 'metadata_out.csv')\n",
    "\n",
    "# We then make a final version where we have taken summary statistics for each segment of\n",
    "# road along a way, from intersection to intersection, and join that back on as additional\n",
    "# columns that can help us decide which segments of road appear to have a paved shoulder\n",
    "metadata_csv_sum    = os.path.join(metadata_dir, 'metadata_with_summary.csv')\n",
    "\n",
    "# Output geojson file with the paved shoulders we think we have detected\n",
    "geojson_out         = os.path.join(metadata_dir, 'lanes.geojson')\n",
    "\n",
    "# Directory where the lane detection process creates images with a detection overlay\n",
    "lanes_dir_in        = os.path.join(metadata_dir, 'lanes')\n",
    "\n",
    "# We filter out images that are too close to an intersection, this directory is a copy\n",
    "# of the images with lane detection overlay that made the cut\n",
    "lanes_dir_out       = os.path.join(metadata_dir, 'lanes_filtered')\n",
    "\n",
    "# A version of the locality name with spaces replaced by underscores\n",
    "locality_clean = locality.replace(' ', '_')\n",
    "\n",
    "# Work out paths to OSM data\n",
    "filename_main        = os.path.join(module_path_root, 'data_sources', 'Locality_' + locality_clean + '.osm')\n",
    "filename_margin      = os.path.join(module_path_root, 'data_sources', 'Locality_' + locality_clean + '_margin.osm')\n",
    "locality_margin     = '{0:s}_{1:d}m'.format(locality_clean, margin)"
   ]
  },
  {
   "cell_type": "code",
   "execution_count": 4,
   "id": "83191e91",
   "metadata": {},
   "outputs": [],
   "source": [
    "# Lane detector\n",
    "ld = lane_detection(calibration_config=calibration_config)\n",
    "\n",
    "# Initialise an object to parse dashcam footage and correlate it with NMEA data\n",
    "# This time we are passing a lane detector model, which will run as we split the video into images\n",
    "parser = dashcam_parser(source_fps=60, lane_detector=ld, write_lane_images=True)"
   ]
  },
  {
   "cell_type": "code",
   "execution_count": 5,
   "id": "87dc6902",
   "metadata": {
    "scrolled": false
   },
   "outputs": [
    {
     "data": {
      "application/vnd.jupyter.widget-view+json": {
       "model_id": "3413957c4d064db4adb354d2abc5b45a",
       "version_major": 2,
       "version_minor": 0
      },
      "text/plain": [
       "  0%|          | 0/45 [00:00<?, ?it/s]"
      ]
     },
     "metadata": {},
     "output_type": "display_data"
    },
    {
     "data": {
      "application/vnd.jupyter.widget-view+json": {
       "model_id": "3e3ed089933a4479aa377cf4ae958e85",
       "version_major": 2,
       "version_minor": 0
      },
      "text/plain": [
       "FILE210924-100801F:   0%|          | 0/3612 [00:00<?, ?it/s]"
      ]
     },
     "metadata": {},
     "output_type": "display_data"
    },
    {
     "data": {
      "application/vnd.jupyter.widget-view+json": {
       "model_id": "d5b56ed558fe4928a1f5304e9a5d65d5",
       "version_major": 2,
       "version_minor": 0
      },
      "text/plain": [
       "FILE210924-100902F:   0%|          | 0/3612 [00:00<?, ?it/s]"
      ]
     },
     "metadata": {},
     "output_type": "display_data"
    },
    {
     "data": {
      "application/vnd.jupyter.widget-view+json": {
       "model_id": "dc18004077a344c5926b460a533d5c2e",
       "version_major": 2,
       "version_minor": 0
      },
      "text/plain": [
       "FILE210924-101002F:   0%|          | 0/3612 [00:00<?, ?it/s]"
      ]
     },
     "metadata": {},
     "output_type": "display_data"
    },
    {
     "data": {
      "application/vnd.jupyter.widget-view+json": {
       "model_id": "01cd593570ef4cbda22cb2735c7be7d4",
       "version_major": 2,
       "version_minor": 0
      },
      "text/plain": [
       "FILE210924-101102F:   0%|          | 0/3612 [00:00<?, ?it/s]"
      ]
     },
     "metadata": {},
     "output_type": "display_data"
    },
    {
     "data": {
      "application/vnd.jupyter.widget-view+json": {
       "model_id": "dcd9fb432b584b74806e7da3cc2ecf77",
       "version_major": 2,
       "version_minor": 0
      },
      "text/plain": [
       "FILE210924-101202F:   0%|          | 0/3612 [00:00<?, ?it/s]"
      ]
     },
     "metadata": {},
     "output_type": "display_data"
    },
    {
     "data": {
      "application/vnd.jupyter.widget-view+json": {
       "model_id": "d4d81b7aeb7c41c39a87a0be419d19de",
       "version_major": 2,
       "version_minor": 0
      },
      "text/plain": [
       "FILE210924-101303F:   0%|          | 0/3612 [00:00<?, ?it/s]"
      ]
     },
     "metadata": {},
     "output_type": "display_data"
    },
    {
     "data": {
      "application/vnd.jupyter.widget-view+json": {
       "model_id": "752cfaad5f9a4ed0ac445df008b50236",
       "version_major": 2,
       "version_minor": 0
      },
      "text/plain": [
       "FILE210924-101403F:   0%|          | 0/3612 [00:00<?, ?it/s]"
      ]
     },
     "metadata": {},
     "output_type": "display_data"
    },
    {
     "data": {
      "application/vnd.jupyter.widget-view+json": {
       "model_id": "533b514b751d47b5b48eb7d11240ab99",
       "version_major": 2,
       "version_minor": 0
      },
      "text/plain": [
       "FILE210924-101503F:   0%|          | 0/3612 [00:00<?, ?it/s]"
      ]
     },
     "metadata": {},
     "output_type": "display_data"
    },
    {
     "data": {
      "application/vnd.jupyter.widget-view+json": {
       "model_id": "78f0a3f18b494f37aa705737c7e91b33",
       "version_major": 2,
       "version_minor": 0
      },
      "text/plain": [
       "FILE210924-101603F:   0%|          | 0/3612 [00:00<?, ?it/s]"
      ]
     },
     "metadata": {},
     "output_type": "display_data"
    },
    {
     "data": {
      "application/vnd.jupyter.widget-view+json": {
       "model_id": "c4b5b0fdf94f471fa267d8190f561dbf",
       "version_major": 2,
       "version_minor": 0
      },
      "text/plain": [
       "FILE210924-101704F:   0%|          | 0/3612 [00:00<?, ?it/s]"
      ]
     },
     "metadata": {},
     "output_type": "display_data"
    },
    {
     "data": {
      "application/vnd.jupyter.widget-view+json": {
       "model_id": "d2b93937f34f4623864f4f5e3f4c7357",
       "version_major": 2,
       "version_minor": 0
      },
      "text/plain": [
       "FILE210924-101804F:   0%|          | 0/3612 [00:00<?, ?it/s]"
      ]
     },
     "metadata": {},
     "output_type": "display_data"
    },
    {
     "data": {
      "application/vnd.jupyter.widget-view+json": {
       "model_id": "d942ea8381ee4993843f331e0db11ba1",
       "version_major": 2,
       "version_minor": 0
      },
      "text/plain": [
       "FILE210924-101904F:   0%|          | 0/3612 [00:00<?, ?it/s]"
      ]
     },
     "metadata": {},
     "output_type": "display_data"
    },
    {
     "name": "stdout",
     "output_type": "stream",
     "text": [
      "WARNING: processing line [FILE210924-102004F] [$GPRMC,002006.00,V,,,,,,,240921,,,N*75\n",
      "], using previous values\n",
      "WARNING: processing line [FILE210924-102004F] [$GPGGA,002006.00,,,,,0,00,99.99,,,,,,*62\n",
      "], using previous values\n"
     ]
    },
    {
     "data": {
      "application/vnd.jupyter.widget-view+json": {
       "model_id": "aec88f8cc5fe4367b471dfb21b77329a",
       "version_major": 2,
       "version_minor": 0
      },
      "text/plain": [
       "FILE210924-102004F:   0%|          | 0/3612 [00:00<?, ?it/s]"
      ]
     },
     "metadata": {},
     "output_type": "display_data"
    },
    {
     "data": {
      "application/vnd.jupyter.widget-view+json": {
       "model_id": "63f97f72ceab4f6d95a6d7b58d121c4e",
       "version_major": 2,
       "version_minor": 0
      },
      "text/plain": [
       "FILE210924-102105F:   0%|          | 0/3612 [00:00<?, ?it/s]"
      ]
     },
     "metadata": {},
     "output_type": "display_data"
    },
    {
     "data": {
      "application/vnd.jupyter.widget-view+json": {
       "model_id": "2135f46aac0743f4a3a63f723af6e4c8",
       "version_major": 2,
       "version_minor": 0
      },
      "text/plain": [
       "FILE210924-102205F:   0%|          | 0/3612 [00:00<?, ?it/s]"
      ]
     },
     "metadata": {},
     "output_type": "display_data"
    },
    {
     "data": {
      "application/vnd.jupyter.widget-view+json": {
       "model_id": "5295389b9fe94e938ca0855e2a8b6980",
       "version_major": 2,
       "version_minor": 0
      },
      "text/plain": [
       "FILE210924-102305F:   0%|          | 0/3612 [00:00<?, ?it/s]"
      ]
     },
     "metadata": {},
     "output_type": "display_data"
    },
    {
     "data": {
      "application/vnd.jupyter.widget-view+json": {
       "model_id": "cfda1504f8a3424bab43a6e636a7df07",
       "version_major": 2,
       "version_minor": 0
      },
      "text/plain": [
       "FILE210924-102405F:   0%|          | 0/3612 [00:00<?, ?it/s]"
      ]
     },
     "metadata": {},
     "output_type": "display_data"
    },
    {
     "data": {
      "application/vnd.jupyter.widget-view+json": {
       "model_id": "f5c59aefaa2c40c19feadde7b6e6316c",
       "version_major": 2,
       "version_minor": 0
      },
      "text/plain": [
       "FILE210924-102506F:   0%|          | 0/3612 [00:00<?, ?it/s]"
      ]
     },
     "metadata": {},
     "output_type": "display_data"
    },
    {
     "data": {
      "application/vnd.jupyter.widget-view+json": {
       "model_id": "4ecc6e7072654983aa0ebcbee58217a9",
       "version_major": 2,
       "version_minor": 0
      },
      "text/plain": [
       "FILE210924-102606F:   0%|          | 0/3612 [00:00<?, ?it/s]"
      ]
     },
     "metadata": {},
     "output_type": "display_data"
    },
    {
     "data": {
      "application/vnd.jupyter.widget-view+json": {
       "model_id": "a85d0f5b073041448cab049563b8ac7e",
       "version_major": 2,
       "version_minor": 0
      },
      "text/plain": [
       "FILE210924-102706F:   0%|          | 0/3612 [00:00<?, ?it/s]"
      ]
     },
     "metadata": {},
     "output_type": "display_data"
    },
    {
     "name": "stdout",
     "output_type": "stream",
     "text": [
      "WARNING: processing line [FILE210924-102806F] [$GPRMC,002903.00,V,,,,,,,240921,,,N*79\n",
      "], using previous values\n",
      "WARNING: processing line [FILE210924-102806F] [$GPGGA,002903.00,,,,,0,00,99.99,,,,,,*6E\n",
      "], using previous values\n"
     ]
    },
    {
     "data": {
      "application/vnd.jupyter.widget-view+json": {
       "model_id": "9f3bb93fe8594933b4c139b9e810c259",
       "version_major": 2,
       "version_minor": 0
      },
      "text/plain": [
       "FILE210924-102806F:   0%|          | 0/3612 [00:00<?, ?it/s]"
      ]
     },
     "metadata": {},
     "output_type": "display_data"
    },
    {
     "data": {
      "application/vnd.jupyter.widget-view+json": {
       "model_id": "1cf3da26af4a4198ba3fa9afd85cbd95",
       "version_major": 2,
       "version_minor": 0
      },
      "text/plain": [
       "FILE210924-102907F:   0%|          | 0/3612 [00:00<?, ?it/s]"
      ]
     },
     "metadata": {},
     "output_type": "display_data"
    },
    {
     "data": {
      "application/vnd.jupyter.widget-view+json": {
       "model_id": "62eac94c78274e94b71da96d29576e40",
       "version_major": 2,
       "version_minor": 0
      },
      "text/plain": [
       "FILE210924-103007F:   0%|          | 0/3612 [00:00<?, ?it/s]"
      ]
     },
     "metadata": {},
     "output_type": "display_data"
    },
    {
     "data": {
      "application/vnd.jupyter.widget-view+json": {
       "model_id": "03980913f9f54d1992a1c297db651add",
       "version_major": 2,
       "version_minor": 0
      },
      "text/plain": [
       "FILE210924-103107F:   0%|          | 0/3612 [00:00<?, ?it/s]"
      ]
     },
     "metadata": {},
     "output_type": "display_data"
    },
    {
     "data": {
      "application/vnd.jupyter.widget-view+json": {
       "model_id": "7cc2724715944834b3e878b447a631ef",
       "version_major": 2,
       "version_minor": 0
      },
      "text/plain": [
       "FILE210924-103207F:   0%|          | 0/3612 [00:00<?, ?it/s]"
      ]
     },
     "metadata": {},
     "output_type": "display_data"
    },
    {
     "data": {
      "application/vnd.jupyter.widget-view+json": {
       "model_id": "3da871c3f18244ef8f4f23b735ca41d5",
       "version_major": 2,
       "version_minor": 0
      },
      "text/plain": [
       "FILE210924-103308F:   0%|          | 0/3612 [00:00<?, ?it/s]"
      ]
     },
     "metadata": {},
     "output_type": "display_data"
    },
    {
     "data": {
      "application/vnd.jupyter.widget-view+json": {
       "model_id": "bed96213319143ad9625a35a2a051e40",
       "version_major": 2,
       "version_minor": 0
      },
      "text/plain": [
       "FILE210924-103408F:   0%|          | 0/3612 [00:00<?, ?it/s]"
      ]
     },
     "metadata": {},
     "output_type": "display_data"
    },
    {
     "data": {
      "application/vnd.jupyter.widget-view+json": {
       "model_id": "c51c3722078d42d89ae544e2b51e2139",
       "version_major": 2,
       "version_minor": 0
      },
      "text/plain": [
       "FILE210924-103508F:   0%|          | 0/3612 [00:00<?, ?it/s]"
      ]
     },
     "metadata": {},
     "output_type": "display_data"
    },
    {
     "data": {
      "application/vnd.jupyter.widget-view+json": {
       "model_id": "a54040ca32b847b7bf73a0404888d109",
       "version_major": 2,
       "version_minor": 0
      },
      "text/plain": [
       "FILE210924-103608F:   0%|          | 0/3612 [00:00<?, ?it/s]"
      ]
     },
     "metadata": {},
     "output_type": "display_data"
    },
    {
     "data": {
      "application/vnd.jupyter.widget-view+json": {
       "model_id": "c503b309d277489fbb6e3a9babd7b136",
       "version_major": 2,
       "version_minor": 0
      },
      "text/plain": [
       "FILE210924-103709F:   0%|          | 0/3612 [00:00<?, ?it/s]"
      ]
     },
     "metadata": {},
     "output_type": "display_data"
    },
    {
     "data": {
      "application/vnd.jupyter.widget-view+json": {
       "model_id": "6c376decfdd248bb95eb7d02c081fb50",
       "version_major": 2,
       "version_minor": 0
      },
      "text/plain": [
       "FILE210924-103809F:   0%|          | 0/3612 [00:00<?, ?it/s]"
      ]
     },
     "metadata": {},
     "output_type": "display_data"
    },
    {
     "data": {
      "application/vnd.jupyter.widget-view+json": {
       "model_id": "756843bf4cec4a8ba20951bf66d95555",
       "version_major": 2,
       "version_minor": 0
      },
      "text/plain": [
       "FILE210924-103909F:   0%|          | 0/3612 [00:00<?, ?it/s]"
      ]
     },
     "metadata": {},
     "output_type": "display_data"
    },
    {
     "data": {
      "application/vnd.jupyter.widget-view+json": {
       "model_id": "fb8bbe7f42e34e01ab8bfe7c95fa585a",
       "version_major": 2,
       "version_minor": 0
      },
      "text/plain": [
       "FILE210924-104009F:   0%|          | 0/3612 [00:00<?, ?it/s]"
      ]
     },
     "metadata": {},
     "output_type": "display_data"
    },
    {
     "data": {
      "application/vnd.jupyter.widget-view+json": {
       "model_id": "2818b7c0a65a422e8b965e7c13d53935",
       "version_major": 2,
       "version_minor": 0
      },
      "text/plain": [
       "FILE210924-104110F:   0%|          | 0/3612 [00:00<?, ?it/s]"
      ]
     },
     "metadata": {},
     "output_type": "display_data"
    },
    {
     "data": {
      "application/vnd.jupyter.widget-view+json": {
       "model_id": "a8cc18faf45b45f6a2246b4dd196a94f",
       "version_major": 2,
       "version_minor": 0
      },
      "text/plain": [
       "FILE210924-104210F:   0%|          | 0/3612 [00:00<?, ?it/s]"
      ]
     },
     "metadata": {},
     "output_type": "display_data"
    },
    {
     "data": {
      "application/vnd.jupyter.widget-view+json": {
       "model_id": "f0f85ff81325466c9104acbe4b96cdc2",
       "version_major": 2,
       "version_minor": 0
      },
      "text/plain": [
       "FILE210924-104310F:   0%|          | 0/3612 [00:00<?, ?it/s]"
      ]
     },
     "metadata": {},
     "output_type": "display_data"
    },
    {
     "data": {
      "application/vnd.jupyter.widget-view+json": {
       "model_id": "4ee3c101340d4dbca5fa6c5a74da180d",
       "version_major": 2,
       "version_minor": 0
      },
      "text/plain": [
       "FILE210924-104410F:   0%|          | 0/3612 [00:00<?, ?it/s]"
      ]
     },
     "metadata": {},
     "output_type": "display_data"
    },
    {
     "data": {
      "application/vnd.jupyter.widget-view+json": {
       "model_id": "57d093216af94cea8b5d4971a9a830db",
       "version_major": 2,
       "version_minor": 0
      },
      "text/plain": [
       "FILE210924-104511F:   0%|          | 0/3612 [00:00<?, ?it/s]"
      ]
     },
     "metadata": {},
     "output_type": "display_data"
    },
    {
     "data": {
      "application/vnd.jupyter.widget-view+json": {
       "model_id": "7a93c948d5324f8c8e46cb41a94446cc",
       "version_major": 2,
       "version_minor": 0
      },
      "text/plain": [
       "FILE210924-104611F:   0%|          | 0/3612 [00:00<?, ?it/s]"
      ]
     },
     "metadata": {},
     "output_type": "display_data"
    },
    {
     "data": {
      "application/vnd.jupyter.widget-view+json": {
       "model_id": "dd1e8c62e25b4bd6afb0d38bba1b802f",
       "version_major": 2,
       "version_minor": 0
      },
      "text/plain": [
       "FILE210924-104711F:   0%|          | 0/3612 [00:00<?, ?it/s]"
      ]
     },
     "metadata": {},
     "output_type": "display_data"
    },
    {
     "data": {
      "application/vnd.jupyter.widget-view+json": {
       "model_id": "0b70ee83070141158a1030ed87914d75",
       "version_major": 2,
       "version_minor": 0
      },
      "text/plain": [
       "FILE210924-104811F:   0%|          | 0/3612 [00:00<?, ?it/s]"
      ]
     },
     "metadata": {},
     "output_type": "display_data"
    },
    {
     "data": {
      "application/vnd.jupyter.widget-view+json": {
       "model_id": "3c0481761f404d3485a2dc858a98e23b",
       "version_major": 2,
       "version_minor": 0
      },
      "text/plain": [
       "FILE210924-104911F:   0%|          | 0/3612 [00:00<?, ?it/s]"
      ]
     },
     "metadata": {},
     "output_type": "display_data"
    },
    {
     "data": {
      "application/vnd.jupyter.widget-view+json": {
       "model_id": "78ab20d41f364d249804ea424de30c46",
       "version_major": 2,
       "version_minor": 0
      },
      "text/plain": [
       "FILE210924-105012F:   0%|          | 0/3612 [00:00<?, ?it/s]"
      ]
     },
     "metadata": {},
     "output_type": "display_data"
    },
    {
     "data": {
      "application/vnd.jupyter.widget-view+json": {
       "model_id": "a6d8eb9f8164472b9e33897f07d283b2",
       "version_major": 2,
       "version_minor": 0
      },
      "text/plain": [
       "FILE210924-105112F:   0%|          | 0/3612 [00:00<?, ?it/s]"
      ]
     },
     "metadata": {},
     "output_type": "display_data"
    },
    {
     "data": {
      "application/vnd.jupyter.widget-view+json": {
       "model_id": "0ddb67e7dcc64fc1b0892846e965b3d3",
       "version_major": 2,
       "version_minor": 0
      },
      "text/plain": [
       "FILE210924-105212F:   0%|          | 0/3612 [00:00<?, ?it/s]"
      ]
     },
     "metadata": {},
     "output_type": "display_data"
    }
   ],
   "source": [
    "# Split all videos in the directory at the required output frames per second\n",
    "parser.split_videos(dashcam_dir, output_dir, output_fps=output_fps, suffix='MP4', verbose=False)\n",
    "\n",
    "# First progress bar shows progress through the input video files\n",
    "# Subsequent progress bar shows progress within an individual video\n",
    "\n",
    "# Ignore occasional warning \"processing line\" due to missing fields in NMEA file.\n",
    "# As long as there are only a few of these, the values will be interpolated\n",
    "# from nearby entries."
   ]
  },
  {
   "cell_type": "markdown",
   "id": "00d93506",
   "metadata": {},
   "source": [
    "## Process Lane Detection Log\n",
    "\n",
    "From all the stats in the \"metadata.csv\" produced by lane detection:\n",
    "\n",
    "* For each point, find the corresponding \"intersection\" nodes in OSM for the way segment\n",
    "    * Find the nearest way, excluding unnamed (roundabouts etc. that are really intersections themselves)\n",
    "    * On that way, find the three nearest points\n",
    "    * The nearest point is one intersection node\n",
    "    * If the point is further from the second-nearest point than the third-nearest point, then use the third-nearest\n",
    "    \n",
    "    |-------*-|-|\n",
    "    \n",
    "* If the distance from the previous point is less than a threshold number of metres, then disregard the point as a duplicate that might otherwise skew our assessment.  E.g. car waiting at intersection for many frames.\n",
    "\n",
    "* What is the difference between the slopes of the potential bike lane/shoulder?\n",
    "\n",
    "* What is the difference between the intercepts at the top line?\n",
    "\n",
    "==> Set thresholds for these\n",
    "\n",
    "==> Count what proportion of points in a way section meet both criteria\n",
    "\n",
    "==> Compare to ground truth for a suburb to select a score/proportion to use for a yes/no answer\n",
    "\n",
    "==> Draw on a map"
   ]
  },
  {
   "cell_type": "code",
   "execution_count": 6,
   "id": "37d42d15",
   "metadata": {},
   "outputs": [
    {
     "data": {
      "application/vnd.jupyter.widget-view+json": {
       "model_id": "bd5303d2132743908e543509a1e41d75",
       "version_major": 2,
       "version_minor": 0
      },
      "text/plain": [
       "  0%|          | 0/4274 [00:00<?, ?it/s]"
      ]
     },
     "metadata": {},
     "output_type": "display_data"
    },
    {
     "data": {
      "application/vnd.jupyter.widget-view+json": {
       "model_id": "336af1dd8abb4c8799dd96ccae73e03c",
       "version_major": 2,
       "version_minor": 0
      },
      "text/plain": [
       "  0%|          | 0/4274 [00:00<?, ?it/s]"
      ]
     },
     "metadata": {},
     "output_type": "display_data"
    }
   ],
   "source": [
    "# Load OSM data\n",
    "walker = osm_walker(filename_margin, filename_margin, verbose=False)"
   ]
  },
  {
   "cell_type": "code",
   "execution_count": 7,
   "id": "7b17fafd",
   "metadata": {},
   "outputs": [
    {
     "data": {
      "application/vnd.jupyter.widget-view+json": {
       "model_id": "5bf2a0e7136e409bb544f264897b64ea",
       "version_major": 2,
       "version_minor": 0
      },
      "text/plain": [
       "  0%|          | 0/13545 [00:00<?, ?it/s]"
      ]
     },
     "metadata": {},
     "output_type": "display_data"
    }
   ],
   "source": [
    "# Find nearest intersection for each record in metadata.csv\n",
    "walker.find_nearest_intersections_for_csv(metadata_csv_in, metadata_csv_out)"
   ]
  },
  {
   "cell_type": "code",
   "execution_count": 8,
   "id": "a455e6f2",
   "metadata": {},
   "outputs": [
    {
     "data": {
      "application/vnd.jupyter.widget-view+json": {
       "model_id": "8df7e28e1881413db989940392dc0495",
       "version_major": 2,
       "version_minor": 0
      },
      "text/plain": [
       "  0%|          | 0/6942 [00:00<?, ?it/s]"
      ]
     },
     "metadata": {},
     "output_type": "display_data"
    }
   ],
   "source": [
    "# Some images were filtered out because we couldn't find the two closest intersections,\n",
    "# or we were too close to an intersection and wanted to avoid noise\n",
    "\n",
    "# Create a folder where only the included \"lanes\" images are included, for ease of browsing\n",
    "\n",
    "# Create output directory for filtered lane images and delete any existing files\n",
    "shutil.rmtree(lanes_dir_out, ignore_errors=True)\n",
    "Path(lanes_dir_out).mkdir(parents=True, exist_ok=True)\n",
    "\n",
    "# Copy every file that made the cut\n",
    "df = pd.read_csv(metadata_csv_out)\n",
    "\n",
    "for i in trange(0, len(df['filename'])):\n",
    "    path = df['filename'][i]\n",
    "    filename = os.path.basename(path)\n",
    "    shutil.copyfile(os.path.join(lanes_dir_in, filename), os.path.join(lanes_dir_out, filename))"
   ]
  },
  {
   "cell_type": "markdown",
   "id": "b074bc97",
   "metadata": {},
   "source": [
    "## Pandas Stats\n",
    "\n",
    "For each combination of way_id_start, node_id1, node_id2:\n",
    "\n",
    "* Proportion where left_slope2 and left_slope1 are not None or 'None'\n",
    "* Standard Deviation of intersection_x\n",
    "* Average of intersection_y"
   ]
  },
  {
   "cell_type": "code",
   "execution_count": 9,
   "id": "923be4cf",
   "metadata": {},
   "outputs": [],
   "source": [
    "walker.summarise_lane_detections_csv(metadata_csv_out, metadata_csv_sum)"
   ]
  },
  {
   "cell_type": "markdown",
   "id": "93f20e03",
   "metadata": {},
   "source": [
    "## Criteria\n",
    "\n",
    "The following criteria appears to generally pick up most true bike lanes/paved shoulders without significant false positives:\n",
    "\n",
    "intersection_y_std < 50\n",
    "intersection_x_std < 50\n",
    "prop_missing < 0.2\n",
    "width_top_mean >= 75\n",
    "\n",
    "Perhaps also set a limit that the length of a LineString must be at least 20m to be drawn"
   ]
  },
  {
   "cell_type": "code",
   "execution_count": 10,
   "id": "617de36d",
   "metadata": {},
   "outputs": [
    {
     "data": {
      "application/vnd.jupyter.widget-view+json": {
       "model_id": "aa9bbd5df29f494db11336e9401b20ef",
       "version_major": 2,
       "version_minor": 0
      },
      "text/plain": [
       "  0%|          | 0/52 [00:00<?, ?it/s]"
      ]
     },
     "metadata": {},
     "output_type": "display_data"
    },
    {
     "name": "stdout",
     "output_type": "stream",
     "text": [
      "Writing 52 features to: E:\\Release\\minor_thesis\\data_sources\\dashcam_tour_mount_eliza\\split\\lanes.geojson\n"
     ]
    }
   ],
   "source": [
    "walker.draw_lane_detections(metadata_csv_sum, geojson_out)"
   ]
  },
  {
   "cell_type": "code",
   "execution_count": null,
   "id": "96518f6e",
   "metadata": {},
   "outputs": [],
   "source": []
  }
 ],
 "metadata": {
  "kernelspec": {
   "display_name": "gpuEnv",
   "language": "python",
   "name": "gpuenv"
  },
  "language_info": {
   "codemirror_mode": {
    "name": "ipython",
    "version": 3
   },
   "file_extension": ".py",
   "mimetype": "text/x-python",
   "name": "python",
   "nbconvert_exporter": "python",
   "pygments_lexer": "ipython3",
   "version": "3.8.11"
  }
 },
 "nbformat": 4,
 "nbformat_minor": 5
}
