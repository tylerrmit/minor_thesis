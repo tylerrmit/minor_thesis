{
 "cells": [
  {
   "cell_type": "markdown",
   "id": "38933fed",
   "metadata": {},
   "source": [
    "# Snap Point to Way\n",
    "\n",
    "For a given point, find the closest way and the minimum distance to that way\n",
    "\n",
    "Experiements to help us \"snap\" our detections from dashcam footage co-ordinates to corresponding paths in OSM data, to allow us to infer paths from intersections, compare maps, and measure differences between maps"
   ]
  },
  {
   "cell_type": "code",
   "execution_count": 1,
   "id": "0ef46cc6",
   "metadata": {},
   "outputs": [],
   "source": [
    "locality = 'Mount Eliza'\n",
    "margin   = 20"
   ]
  },
  {
   "cell_type": "code",
   "execution_count": 2,
   "id": "150775e3",
   "metadata": {},
   "outputs": [],
   "source": [
    "import os\n",
    "import sys\n",
    "\n",
    "from shapely.geometry import Point\n",
    "\n",
    "# Make sure local modules can be imported\n",
    "module_path_root = os.path.abspath(os.pardir)\n",
    "if module_path_root not in sys.path:\n",
    "    sys.path.append(module_path_root)\n",
    "    \n",
    "# Import local modules\n",
    "import osm_gsv_utils.osm_walker as osm_walker\n",
    "import osm_gsv_utils.gsv_loader as gsv_loader"
   ]
  },
  {
   "cell_type": "code",
   "execution_count": 3,
   "id": "7bc4d260",
   "metadata": {},
   "outputs": [],
   "source": [
    "# Derive paths for configuration\n",
    "\n",
    "locality_clean = locality.replace(' ', '_')\n",
    "\n",
    "filename_main       = os.path.join(os.pardir, 'data_sources', 'Locality_' + locality_clean + '.osm')\n",
    "filename_margin     = os.path.join(os.pardir, 'data_sources', 'Locality_' + locality_clean + '_margin.osm')\n",
    "locality_margin     = '{0:s}_{1:d}m'.format(locality_clean, margin)\n",
    "\n",
    "detection_filename  = os.path.join(\n",
    "    module_path_root,\n",
    "    'detections',\n",
    "    locality_margin,\n",
    "    'detection_log.csv'\n",
    ")"
   ]
  },
  {
   "cell_type": "code",
   "execution_count": 4,
   "id": "1897ea1a",
   "metadata": {},
   "outputs": [],
   "source": [
    "# Load OSM data\n",
    "walker = osm_walker(filename_main, filename_margin, verbose=False)"
   ]
  },
  {
   "cell_type": "code",
   "execution_count": 5,
   "id": "bad0bef8",
   "metadata": {},
   "outputs": [],
   "source": [
    "p = Point(-38.177010, 145.110713) # On Humphries Road 99-117"
   ]
  },
  {
   "cell_type": "code",
   "execution_count": 6,
   "id": "93846a05",
   "metadata": {},
   "outputs": [
    {
     "name": "stdout",
     "output_type": "stream",
     "text": [
      "172385134\n"
     ]
    }
   ],
   "source": [
    "x = walker.find_nearest_way_segment(p)\n",
    "print(x)"
   ]
  },
  {
   "cell_type": "code",
   "execution_count": 7,
   "id": "39f58f3f",
   "metadata": {},
   "outputs": [
    {
     "name": "stdout",
     "output_type": "stream",
     "text": [
      "172385134 [HUMPHRIES ROAD] 1832927621 [-38.1735351, 145.1080202] -> 6292688119 [-38.1833924, 145.1157019]\n"
     ]
    }
   ],
   "source": [
    "walker.dump_way(x)"
   ]
  }
 ],
 "metadata": {
  "kernelspec": {
   "display_name": "gpuEnv",
   "language": "python",
   "name": "gpuenv"
  },
  "language_info": {
   "codemirror_mode": {
    "name": "ipython",
    "version": 3
   },
   "file_extension": ".py",
   "mimetype": "text/x-python",
   "name": "python",
   "nbconvert_exporter": "python",
   "pygments_lexer": "ipython3",
   "version": "3.8.11"
  }
 },
 "nbformat": 4,
 "nbformat_minor": 5
}
