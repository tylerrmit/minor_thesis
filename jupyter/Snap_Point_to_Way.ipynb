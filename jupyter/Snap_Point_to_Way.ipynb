{
 "cells": [
  {
   "cell_type": "markdown",
   "id": "097157dc",
   "metadata": {},
   "source": [
    "# Snap Point to Way\n",
    "\n",
    "For a given point, find the closest way and the minimum distance to that way\n",
    "\n",
    "Experiements to help us \"snap\" our detections from dashcam footage co-ordinates to corresponding paths in OSM data, to allow us to infer paths from intersections, compare maps, and measure differences between maps"
   ]
  },
  {
   "cell_type": "code",
   "execution_count": 1,
   "id": "82cc6daa",
   "metadata": {},
   "outputs": [],
   "source": [
    "locality = 'Mount Eliza'\n",
    "margin   = 20"
   ]
  },
  {
   "cell_type": "code",
   "execution_count": 2,
   "id": "2e0efdc1",
   "metadata": {},
   "outputs": [],
   "source": [
    "import os\n",
    "import sys\n",
    "\n",
    "from shapely.geometry import Point\n",
    "\n",
    "# Make sure local modules can be imported\n",
    "module_path_root = os.path.abspath(os.pardir)\n",
    "if module_path_root not in sys.path:\n",
    "    sys.path.append(module_path_root)\n",
    "    \n",
    "# Import local modules\n",
    "import osm_gsv_utils.osm_walker as osm_walker\n",
    "import osm_gsv_utils.gsv_loader as gsv_loader"
   ]
  },
  {
   "cell_type": "code",
   "execution_count": 3,
   "id": "ee88897b",
   "metadata": {},
   "outputs": [],
   "source": [
    "# Derive paths for configuration\n",
    "\n",
    "locality_clean = locality.replace(' ', '_')\n",
    "\n",
    "filename_main       = os.path.join(os.pardir, 'data_sources', 'Locality_' + locality_clean + '.osm')\n",
    "filename_margin     = os.path.join(os.pardir, 'data_sources', 'Locality_' + locality_clean + '_margin.osm')\n",
    "locality_margin     = '{0:s}_{1:d}m'.format(locality_clean, margin)\n",
    "\n",
    "detection_filename  = os.path.join(\n",
    "    module_path_root,\n",
    "    'detections',\n",
    "    locality_margin,\n",
    "    'detection_log.csv'\n",
    ")"
   ]
  },
  {
   "cell_type": "code",
   "execution_count": 4,
   "id": "f2e87a18",
   "metadata": {},
   "outputs": [],
   "source": [
    "# Load OSM data\n",
    "walker = osm_walker(filename_main, filename_margin, verbose=False)"
   ]
  },
  {
   "cell_type": "code",
   "execution_count": 5,
   "id": "ed6b7a29",
   "metadata": {},
   "outputs": [],
   "source": [
    "p = Point(-38.100456,145.067418) # On Humphries Road 99-117"
   ]
  },
  {
   "cell_type": "code",
   "execution_count": 6,
   "id": "9f628b33",
   "metadata": {
    "scrolled": true
   },
   "outputs": [
    {
     "name": "stdout",
     "output_type": "stream",
     "text": [
      "Nearest way:          789115018\n",
      "Nearest intersection: 3662487938\n",
      "Distance:             7297.52 metres\n",
      "789115018 [STEPS] 3662487938 [-38.164185, 145.087867] -> 3662487944 [-38.1642434, 145.0876511]\n"
     ]
    }
   ],
   "source": [
    "nearest_way, nearest_intersection, distance = walker.find_nearest_intersection(p)\n",
    "print('Nearest way:          {0:s}'.format(nearest_way))\n",
    "print('Nearest intersection: {0:s}'.format(nearest_intersection))\n",
    "print('Distance:             {0:.2f} metres'.format(distance))\n",
    "walker.dump_way(nearest_way)"
   ]
  },
  {
   "cell_type": "markdown",
   "id": "2fad3299",
   "metadata": {},
   "source": [
    "## Take detection log from dashcam, and snap to OSM nodes"
   ]
  },
  {
   "cell_type": "code",
   "execution_count": 7,
   "id": "d3209539",
   "metadata": {},
   "outputs": [],
   "source": [
    "detections_dir = os.path.join(module_path_root, 'data_sources', 'dashcam_tour_mount_eliza', 'detections')\n",
    "\n",
    "filename_in  = os.path.join(detections_dir, 'detection_log.csv')\n",
    "filename_out = os.path.join(detections_dir, 'detection_log_snap.csv')"
   ]
  },
  {
   "cell_type": "code",
   "execution_count": 8,
   "id": "e59cf4f8",
   "metadata": {},
   "outputs": [
    {
     "data": {
      "application/vnd.jupyter.widget-view+json": {
       "model_id": "d5fa1b140cb445beaa7d8e75323fec6b",
       "version_major": 2,
       "version_minor": 0
      },
      "text/plain": [
       "  0%|          | 0/405 [00:00<?, ?it/s]"
      ]
     },
     "metadata": {},
     "output_type": "display_data"
    }
   ],
   "source": [
    "walker.snap_detection_log(filename_in, filename_out)"
   ]
  }
 ],
 "metadata": {
  "kernelspec": {
   "display_name": "gpuEnv",
   "language": "python",
   "name": "gpuenv"
  },
  "language_info": {
   "codemirror_mode": {
    "name": "ipython",
    "version": 3
   },
   "file_extension": ".py",
   "mimetype": "text/x-python",
   "name": "python",
   "nbconvert_exporter": "python",
   "pygments_lexer": "ipython3",
   "version": "3.8.11"
  }
 },
 "nbformat": 4,
 "nbformat_minor": 5
}
