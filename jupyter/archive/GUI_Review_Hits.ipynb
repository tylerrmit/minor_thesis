{
 "cells": [
  {
   "cell_type": "markdown",
   "id": "3e4b94d1",
   "metadata": {},
   "source": [
    "# GUI Review Hits\n",
    "\n",
    "Review initial hits identified to find the real positives and the false positives"
   ]
  },
  {
   "cell_type": "markdown",
   "id": "d4533d52",
   "metadata": {},
   "source": [
    "## Configuration"
   ]
  },
  {
   "cell_type": "code",
   "execution_count": 1,
   "id": "230be32b",
   "metadata": {},
   "outputs": [],
   "source": [
    "#subdir = 'dashcam_tour_frankston'\n",
    "#suffix = ''\n",
    "\n",
    "subdir = 'dashcam_tour_mount_eliza'\n",
    "suffix = '_V5_mask2'\n",
    "\n",
    "max_range_from_hit = 50"
   ]
  },
  {
   "cell_type": "markdown",
   "id": "87090ae6",
   "metadata": {},
   "source": [
    "## Code"
   ]
  },
  {
   "cell_type": "code",
   "execution_count": 2,
   "id": "38bf9482",
   "metadata": {},
   "outputs": [],
   "source": [
    "import os\n",
    "import sys\n",
    "import ipywidgets as widgets\n",
    "import pandas as pd\n",
    "\n",
    "from pathlib import Path\n",
    "from shutil import copyfile\n",
    "\n",
    "from geopy.distance import geodesic\n",
    "\n",
    "from tqdm.notebook import tqdm\n",
    "\n",
    "module_path_root = os.path.abspath(os.pardir)\n",
    "if module_path_root not in sys.path:\n",
    "    sys.path.append(module_path_root)"
   ]
  },
  {
   "cell_type": "code",
   "execution_count": 3,
   "id": "c798c487",
   "metadata": {},
   "outputs": [],
   "source": [
    "detections_dir     = os.path.join(os.pardir, 'data_sources', subdir, 'detections'+ suffix)\n",
    "hits_dir           = os.path.join(detections_dir, 'hits')\n",
    "miss_dir           = os.path.join(detections_dir, 'miss')\n",
    "split_dir          = os.path.join(os.pardir, 'data_sources', subdir, 'split')\n",
    "true_positive_dir  = os.path.join(hits_dir, 'true_positives')\n",
    "false_positive_dir = os.path.join(hits_dir, 'false_positives')\n",
    "near_miss_dir      = os.path.join(miss_dir, 'near_miss')\n",
    "far_miss_dir       = os.path.join(miss_dir, 'far_miss')\n",
    "\n",
    "detection_log     = os.path.join(detections_dir, 'detection_log.csv')\n",
    "\n",
    "Path(true_positive_dir).mkdir(parents=True, exist_ok=True)\n",
    "Path(false_positive_dir).mkdir(parents=True, exist_ok=True)\n",
    "Path(near_miss_dir).mkdir(parents=True, exist_ok=True)\n",
    "Path(far_miss_dir).mkdir(parents=True, exist_ok=True)"
   ]
  },
  {
   "cell_type": "code",
   "execution_count": 4,
   "id": "74a51042",
   "metadata": {},
   "outputs": [],
   "source": [
    "df = pd.read_csv(detection_log)\n",
    "\n",
    "df.head(5)\n",
    "\n",
    "global image_index\n",
    "image_index = 0"
   ]
  },
  {
   "cell_type": "code",
   "execution_count": 5,
   "id": "01d7829a",
   "metadata": {},
   "outputs": [],
   "source": [
    "def fetch_image_filenames(lat, lon, bearing, path):\n",
    "    abs_lat = abs(lat)\n",
    "    abs_lon = abs(lon)\n",
    "    \n",
    "    if lat < 0:\n",
    "        str_lat = 's'\n",
    "    else:\n",
    "        str_lat = 'n'\n",
    "        \n",
    "    if lon < 0:\n",
    "        str_lon = 'e'\n",
    "    else:\n",
    "        str_lon = 'w'\n",
    "        \n",
    "    bbox_filename = '{0:s}{1:.6f}_{2:s}{3:.6f}_{4:d}.jpg'.format(\n",
    "        str_lat,\n",
    "        abs_lat,\n",
    "        str_lon,\n",
    "        abs_lon,\n",
    "        int(bearing)\n",
    "    )\n",
    "    \n",
    "    orig_filename = os.path.basename(path)\n",
    "    \n",
    "    return orig_filename, bbox_filename"
   ]
  },
  {
   "cell_type": "markdown",
   "id": "2f49c43b",
   "metadata": {},
   "source": [
    "## GUI to review \"Hits\" for True Positive vs. False Positive"
   ]
  },
  {
   "cell_type": "code",
   "execution_count": 6,
   "id": "283d7f1a",
   "metadata": {},
   "outputs": [
    {
     "data": {
      "application/vnd.jupyter.widget-view+json": {
       "model_id": "bd8160be5b8a4871a063c7d24a247ebf",
       "version_major": 2,
       "version_minor": 0
      },
      "text/plain": [
       "Image(value=b'\\xff\\xd8\\xff\\xe0\\x00\\x10JFIF\\x00\\x01\\x01\\x00\\x00\\x01\\x00\\x01\\x00\\x00\\xff\\xdb\\x00C\\x00\\x02\\x01\\x0…"
      ]
     },
     "metadata": {},
     "output_type": "display_data"
    },
    {
     "data": {
      "application/vnd.jupyter.widget-view+json": {
       "model_id": "7cbf86d586b44a0a9e7f074cfbc886ec",
       "version_major": 2,
       "version_minor": 0
      },
      "text/plain": [
       "HBox(children=(Button(description='True Postiive', style=ButtonStyle()), Button(description='False Positive', …"
      ]
     },
     "metadata": {},
     "output_type": "display_data"
    },
    {
     "data": {
      "application/vnd.jupyter.widget-view+json": {
       "model_id": "f3ffd3031efd418595d671dfa43a78a6",
       "version_major": 2,
       "version_minor": 0
      },
      "text/plain": [
       "Output()"
      ]
     },
     "metadata": {},
     "output_type": "display_data"
    }
   ],
   "source": [
    "# Set up callback functions\n",
    "def update_image(index):\n",
    "    if index >= len(df):\n",
    "        print('No more images to process')\n",
    "        return\n",
    "    \n",
    "    # Get details of next detection\n",
    "    row = df.iloc[[index]]\n",
    "       \n",
    "    lat       = row['lat'].item()\n",
    "    lon       = row['lon'].item()\n",
    "    bearing   = row['bearing'].item()\n",
    "    orig_path = row['orig_filename'].item()\n",
    "\n",
    "    global orig_filename\n",
    "    global bbox_filename\n",
    "    \n",
    "    orig_filename, bbox_filename = fetch_image_filenames(lat, lon, bearing, orig_path)\n",
    "    \n",
    "    filename = os.path.join(hits_dir, bbox_filename)\n",
    "    file     = open(filename, 'rb')\n",
    "    image    = file.read()\n",
    "    \n",
    "    image_widget.value = image\n",
    "    count_widget.value = '{0:d} of {1:d}'.format(index+1, len(df))\n",
    "\n",
    "# Create widgets\n",
    "image_widget = widgets.Image(format='jpg')\n",
    "count_widget = widgets.Text(value='{0:d} of {1:d}'.format(1, len(df)))\n",
    "hit_button   = widgets.Button(description='True Postiive')\n",
    "miss_button  = widgets.Button(description='False Positive')\n",
    "dup_button   = widgets.Button(description='Duplicate')\n",
    "row          = widgets.HBox([hit_button, miss_button, dup_button, count_widget])\n",
    "out          = widgets.Output()\n",
    "\n",
    "@out.capture()\n",
    "\n",
    "def next_image():\n",
    "    global image_index\n",
    "    image_index += 1\n",
    "    update_image(image_index)\n",
    "    \n",
    "def on_hit(b):\n",
    "    copyfile(os.path.join(split_dir,orig_filename), os.path.join(true_positive_dir, orig_filename))\n",
    "    next_image()\n",
    "    \n",
    "def on_miss(b):\n",
    "    copyfile(os.path.join(split_dir,orig_filename), os.path.join(false_positive_dir, orig_filename))\n",
    "    next_image()\n",
    "    \n",
    "def on_duplicate(b):\n",
    "    next_image()\n",
    "\n",
    "hit_button.on_click(on_hit)\n",
    "miss_button.on_click(on_miss)\n",
    "\n",
    "# Start with the first image\n",
    "update_image(0)\n",
    "\n",
    "# Display the GUI\n",
    "display(image_widget)\n",
    "display(row)\n",
    "display(out)"
   ]
  },
  {
   "cell_type": "markdown",
   "id": "e745cc05",
   "metadata": {},
   "source": [
    "## Find Misses that were not within range of a hit"
   ]
  },
  {
   "cell_type": "code",
   "execution_count": 7,
   "id": "d8796c3d",
   "metadata": {},
   "outputs": [],
   "source": [
    "global hit_coords\n",
    "hit_coords = []\n",
    "\n",
    "for index, row in df.iterrows():\n",
    "    hit_coords.append((row['lat'], row['lon']))\n",
    "    \n",
    "def find_closest_hit_distance(lat, lon):\n",
    "    global hit_coords\n",
    "    \n",
    "    min_distance = None\n",
    "    \n",
    "    for idx, coords in enumerate(hit_coords):\n",
    "        distance = geodesic((lat, lon), coords).m\n",
    "        \n",
    "        if min_distance is None or distance < min_distance:\n",
    "            min_distance = distance\n",
    "            \n",
    "    return min_distance\n"
   ]
  },
  {
   "cell_type": "code",
   "execution_count": 9,
   "id": "fa30202d",
   "metadata": {},
   "outputs": [
    {
     "data": {
      "application/vnd.jupyter.widget-view+json": {
       "model_id": "a702c9b28a404d67b484567a0ba3431b",
       "version_major": 2,
       "version_minor": 0
      },
      "text/plain": [
       "  0%|          | 0/12417 [00:00<?, ?it/s]"
      ]
     },
     "metadata": {},
     "output_type": "display_data"
    }
   ],
   "source": [
    "miss_files = [f for f in os.listdir(miss_dir) if f.endswith('.jpg')]\n",
    "\n",
    "for i in tqdm(range(len(miss_files))):\n",
    "    miss_file = miss_files[i]\n",
    "    \n",
    "    # Parse the filename back to co-ordinates\n",
    "    \n",
    "    filename_parts = miss_file.split('_')\n",
    "    lat_str = filename_parts[0]\n",
    "    lon_str = filename_parts[1]\n",
    "    \n",
    "    if lat_str.startswith('s'):\n",
    "        lat = -float(lat_str[1:])\n",
    "    else:\n",
    "        lat = float(lat_str[1:])\n",
    "        \n",
    "    if lon_str.startswith('e'):\n",
    "        lon = -float(lon_str[1:])\n",
    "    else:\n",
    "        lon = float(lon_str[1:])\n",
    "    \n",
    "    min_distance = find_closest_hit_distance(lat, lon)\n",
    "    \n",
    "    if min_distance <= max_range_from_hit:\n",
    "        copyfile(os.path.join(miss_dir, miss_file), os.path.join(near_miss_dir, miss_file))\n",
    "    else:\n",
    "        copyfile(os.path.join(miss_dir, miss_file), os.path.join(far_miss_dir, miss_file))    "
   ]
  },
  {
   "cell_type": "code",
   "execution_count": null,
   "id": "8a76cdd7",
   "metadata": {},
   "outputs": [],
   "source": []
  }
 ],
 "metadata": {
  "kernelspec": {
   "display_name": "gpuEnv",
   "language": "python",
   "name": "gpuenv"
  },
  "language_info": {
   "codemirror_mode": {
    "name": "ipython",
    "version": 3
   },
   "file_extension": ".py",
   "mimetype": "text/x-python",
   "name": "python",
   "nbconvert_exporter": "python",
   "pygments_lexer": "ipython3",
   "version": "3.8.11"
  }
 },
 "nbformat": 4,
 "nbformat_minor": 5
}
