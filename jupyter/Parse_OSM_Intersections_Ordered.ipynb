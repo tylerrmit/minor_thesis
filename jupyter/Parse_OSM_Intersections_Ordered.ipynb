{
 "cells": [
  {
   "cell_type": "markdown",
   "id": "55badf49",
   "metadata": {},
   "source": [
    "# Find OSM Intersection Sample Points -- Ordered\n",
    "\n",
    "Find all intersections in an OSM extract, then create a CSV file with all the points near the intersections that we want to sample.\n",
    "\n",
    "We walk down each \"way\" in the OSM data and work out a heading  at each point, based on the average of the bearing from the previous point, and the bearing to the next point, in order to have some idea which heading to use in a Google Street View request to sample images (roughly) forward/backward/left/right.\n",
    "\n",
    "The items we are looking for might not be most visible from right in the middle of an intersection, therefore there is an option to specify a range around each intersection that we want to sample, along the heading.  E.g. if we specify 20m, then we will sample the point in the middle of the intersection, +/- 10m, and +/- 20m.  We use 10m intervals within this range because Google Street View typically gives a different image roughly every 10m.\n",
    "\n",
    "This \"ordered\" version supercedes an earlier version:  In OSM, a long street may be divided up into multiple connecting \"ways\", each with the same name.  Rather than walking down ways in random order, we attempt process ways in order of their name, and then within the name we attempt to identify a logical order:  Start with a way whose first node is NOT an intersection, then find the next way with the same name that intersects with the end of the first, and so on.  This isn't really necessary to generate a map of all the detections, but it is useful when visually inspecting the results to assess or measure the quality of the results:  It is less disorientating for a human to see the images in a logical \"walking\" order.\n",
    "\n",
    "Once we have a list of points to sample, we output a batch \"csv\" containing the way id, the node id of the sample point, the offset in metres (e.g. \"-20\"), the latitude, longitude, and bearing.  This can then be used to download and cache Google Street View images, and process them with our detection model."
   ]
  },
  {
   "cell_type": "markdown",
   "id": "f01cb34c",
   "metadata": {},
   "source": [
    "## Configuration\n",
    "\n",
    "Which \"locality\" do we wish to process?\n",
    "\n",
    "Assumes that we can find a pair of OSM files with corresponding names, extracted with the \"osmium\" tool.  One file follows the official shape of the locality, while a second file follows a bounding box around the locality with a 200m margin, so that when we are looking for intersections, we don't miss any due to the intersecting road being just outside the boundary of the locality (apart from the intersection)."
   ]
  },
  {
   "cell_type": "code",
   "execution_count": 1,
   "id": "7ee8c400",
   "metadata": {},
   "outputs": [],
   "source": [
    "locality = 'Mount Eliza Sample'"
   ]
  },
  {
   "cell_type": "markdown",
   "id": "758dd884",
   "metadata": {},
   "source": [
    "## Import required code"
   ]
  },
  {
   "cell_type": "code",
   "execution_count": 2,
   "id": "ce231461",
   "metadata": {},
   "outputs": [],
   "source": [
    "import os\n",
    "import sys\n",
    "\n",
    "# Make sure local modules can be imported\n",
    "module_path_root = os.path.abspath(os.pardir)\n",
    "if module_path_root not in sys.path:\n",
    "    sys.path.append(module_path_root)\n",
    "    \n",
    "# Import local modules\n",
    "import osm_gsv_utils.osm_walker as osm_walker"
   ]
  },
  {
   "cell_type": "markdown",
   "id": "13056e25",
   "metadata": {},
   "source": [
    "## Identify sample points\n",
    "\n",
    "Load the OSM data, and then generate lists of sample points at margins of 0, +/- 10m, and +/- 20m from each intersection,\n",
    "and report on how many samples are found for each sample setting, to get an idea of the impact of increasing/decreasing\n",
    "the margin."
   ]
  },
  {
   "cell_type": "code",
   "execution_count": 3,
   "id": "f7ec609e",
   "metadata": {},
   "outputs": [
    {
     "name": "stdout",
     "output_type": "stream",
     "text": [
      "+/- 20m: 752\n",
      "+/- 10m: 752\n",
      "+/- 00m: 752\n"
     ]
    }
   ],
   "source": [
    "# Load OSM data\n",
    "filename_main   = os.path.join(os.pardir, 'data_sources', 'Locality_' + locality.replace(' ', '_') + '.osm')\n",
    "filename_margin = os.path.join(os.pardir, 'data_sources', 'Locality_' + locality.replace(' ', '_') + '_margin.osm')\n",
    "\n",
    "walker          = osm_walker(filename_main, filename_margin, verbose=False)\n",
    "\n",
    "# Generate sample lists with different margin settings, and report sample point count for each\n",
    "all_points_20 = walker.sample_all_way_intersections(-20, +20, 10, ordered=True, verbose=False)\n",
    "all_points_10 = walker.sample_all_way_intersections(-20, +20, 10, ordered=True, verbose=False)\n",
    "all_points_00 = walker.sample_all_way_intersections(-20, +20, 10, ordered=True, verbose=False)\n",
    "\n",
    "print('+/- 20m: ' + str(len(all_points_20)))\n",
    "print('+/- 10m: ' + str(len(all_points_10)))\n",
    "print('+/- 00m: ' + str(len(all_points_00)))"
   ]
  },
  {
   "cell_type": "code",
   "execution_count": null,
   "id": "d080384e",
   "metadata": {},
   "outputs": [],
   "source": []
  },
  {
   "cell_type": "code",
   "execution_count": null,
   "id": "4b4e3543",
   "metadata": {},
   "outputs": [],
   "source": [
    "# Import local modules\n",
    "import osm_gsv_utils.gsv_loader as gsv_loader"
   ]
  },
  {
   "cell_type": "code",
   "execution_count": null,
   "id": "4c234468",
   "metadata": {},
   "outputs": [],
   "source": [
    "download_directory = os.path.join(module_path_root, 'data_sources', 'gsv')\n",
    "apikey_filename    = os.path.join(module_path_root, 'apikey.txt')\n",
    "batch_filename     = os.path.join(module_path_root, 'batches', locality.replace(' ', '_') + '_20m.csv')\n",
    "\n",
    "# Initialise interface to Google Street View\n",
    "gsv = gsv_loader(apikey_filename, download_directory)"
   ]
  },
  {
   "cell_type": "code",
   "execution_count": null,
   "id": "7a8bbd42",
   "metadata": {},
   "outputs": [],
   "source": [
    "gsv.save_batch(batch_filename, all_points_20)"
   ]
  },
  {
   "cell_type": "code",
   "execution_count": null,
   "id": "d5b75e41",
   "metadata": {},
   "outputs": [],
   "source": []
  }
 ],
 "metadata": {
  "kernelspec": {
   "display_name": "Python 3",
   "language": "python",
   "name": "python3"
  },
  "language_info": {
   "codemirror_mode": {
    "name": "ipython",
    "version": 3
   },
   "file_extension": ".py",
   "mimetype": "text/x-python",
   "name": "python",
   "nbconvert_exporter": "python",
   "pygments_lexer": "ipython3",
   "version": "3.8.11"
  }
 },
 "nbformat": 4,
 "nbformat_minor": 5
}
