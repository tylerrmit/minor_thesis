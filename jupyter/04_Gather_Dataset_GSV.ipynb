{
 "cells": [
  {
   "cell_type": "markdown",
   "id": "d26eb802",
   "metadata": {},
   "source": [
    "# 04. Gather Dataset GSV\n",
    "\n",
    "Gather a dataset for training and validation purposes from Google Street View images, based on a CSV file of intersections to sample"
   ]
  },
  {
   "cell_type": "markdown",
   "id": "30e470f7",
   "metadata": {},
   "source": [
    "## Configuration\n",
    "\n",
    "Any configuration that is required to run this notebook can be customized in the next cell"
   ]
  },
  {
   "cell_type": "code",
   "execution_count": null,
   "id": "4a6fa26f",
   "metadata": {},
   "outputs": [],
   "source": [
    "# Google Street View API key filename\n",
    "# To download Google Street View images via the API, you must have an API Key as per:\n",
    "#  https://developers.google.com/maps/documentation/streetview/get-api-key\n",
    "# linked to your Google account and billing information.  Otherwise they don't know who to charge,\n",
    "# so you won't be able to download the images.\n",
    "# Store your API key in a file with the name listed below, in the parent of the current working directory\n",
    "# from which you launched Jupyter Notebook\n",
    "# Do not share your API key with anyone else!\n",
    "gsv_api_key_filename = 'apikey.txt'\n",
    "\n",
    "# List of intersections to sample\n",
    "# Must be in the parent direcdtory\n",
    "candidate_intersections_csv = 'pbn_bearings1.csv'"
   ]
  },
  {
   "cell_type": "markdown",
   "id": "bad0021b",
   "metadata": {},
   "source": [
    "## Code"
   ]
  },
  {
   "cell_type": "code",
   "execution_count": null,
   "id": "843c1f9b",
   "metadata": {},
   "outputs": [],
   "source": [
    "# General imports\n",
    "import os\n",
    "import sys\n",
    "\n",
    "import pandas as pd\n",
    "\n",
    "import google_streetview.api\n",
    "\n",
    "import matplotlib.pyplot as plt\n",
    "import matplotlib.image as mpimg\n",
    "\n",
    "from geopy import Point\n",
    "from geopy.distance import geodesic"
   ]
  },
  {
   "cell_type": "code",
   "execution_count": null,
   "id": "b6c970a5",
   "metadata": {},
   "outputs": [],
   "source": [
    "# Load GSV API key\n",
    "gsv_api_key_path = os.path.join(os.path.abspath(os.pardir), gsv_api_key_filename)\n",
    "\n",
    "print('Loading Google Street View API key from [{0:s}]'.format(gsv_api_key_path))\n",
    "\n",
    "with open(gsv_api_key_path) as f:\n",
    "    api_key = f.readline()\n",
    "    f.close"
   ]
  },
  {
   "cell_type": "code",
   "execution_count": null,
   "id": "a0f4d21a",
   "metadata": {},
   "outputs": [],
   "source": [
    "# Read intersection list from CSV\n",
    "candidate_intersections_path = os.path.join(os.path.abspath(os.cwd()), candidate_intersections_csv)\n",
    "\n",
    "print('Loading list of candidate intersections from [{0:s}]'.format(candidate_intersections_path))\n",
    "df = pd.read_csv(candidate_intersections_csv)\n",
    "df = df[df['intersection_street'].notnull()]"
   ]
  },
  {
   "cell_type": "code",
   "execution_count": null,
   "id": "ec0df196",
   "metadata": {},
   "outputs": [],
   "source": [
    "df.tail(10)"
   ]
  },
  {
   "cell_type": "code",
   "execution_count": null,
   "id": "47682726",
   "metadata": {},
   "outputs": [],
   "source": [
    "def offset_coordinates(lat1, lon1, bearing=0, meters=0):\n",
    "    if (meters == 0):\n",
    "        return str(lat1) + ', ' + str(lon1)\n",
    "    return str(geodesic(meters=meters).destination(Point(lat1, lon1), bearing).format_decimal())"
   ]
  },
  {
   "cell_type": "code",
   "execution_count": null,
   "id": "ac6ef585",
   "metadata": {},
   "outputs": [],
   "source": [
    "def gsv_sample(id, lat, lon, bearing, offset):\n",
    "    location = offset_coordinates(lat, lon, bearing, offset)\n",
    "    \n",
    "    heading_offsets = [0, 90, 180, 270]\n",
    "    \n",
    "    for heading_offset in heading_offsets:\n",
    "        heading = bearing + heading_offset\n",
    "        if heading >- 360:\n",
    "            heading = heading - 360\n",
    "            \n",
    "        params = [{\n",
    "            'key': api_key,\n",
    "            'size': '640x640',\n",
    "            'location': location,\n",
    "            'fov': '90',\n",
    "            'pitch': '-20',\n",
    "            'heading': str(heading)\n",
    "        }]\n",
    "            \n",
    "        results = google_streetview.api.results(params)\n",
    "\n",
    "        results.download_links('downloads/' + str(id) + '/' + str(offset) + '/' + str(heading_offset))\n",
    "    \n",
    "    fig = plt.figure(figsize=(20,20))\n",
    "    \n",
    "    for idx, heading_offset in enumerate(heading_offsets):\n",
    "        image_path = 'downloads/' + str(id) + '/' + str(offset) + '/' + str(heading_offset) + '/gsv_0.jpg'\n",
    "        img = mpimg.imread(image_path)\n",
    "\n",
    "        plt.subplot(2, 2, idx+1)\n",
    "        plt.imshow(img)\n",
    "    plt.show()"
   ]
  },
  {
   "cell_type": "code",
   "execution_count": null,
   "id": "cc1fb29e",
   "metadata": {},
   "outputs": [],
   "source": [
    "def sample_location(id=0, offset=0, correction=0):\n",
    "    if (id == 0):\n",
    "        entry = df.sample()\n",
    "        id = entry.index.tolist()[0]\n",
    "    else:\n",
    "        entry = df.filter(items=[id], axis=0)\n",
    "            \n",
    "    local_street        = entry['local_street'       ].iloc[0]\n",
    "    town                = entry['town'               ].iloc[0]\n",
    "    suburb              = entry['suburb'             ].iloc[0]\n",
    "    city                = entry['city'               ].iloc[0]\n",
    "    intersection_street = entry['intersection_street'].iloc[0]\n",
    "    lat                 = entry['intersection_lat'   ].iloc[0]\n",
    "    lon                 = entry['intersection_lon'   ].iloc[0]\n",
    "    bearing             = entry['bearing'            ].iloc[0]\n",
    "    \n",
    "    bearing = bearing + correction\n",
    "    if bearing >= 360:\n",
    "        bearing = bearing - 360\n",
    "        \n",
    "    print(entry[['local_street', 'town', 'intersection_street', 'intersection_lat', 'intersection_lon', 'bearing']])\n",
    "    print('Corrected Bearing: ' + str(bearing))\n",
    "    \n",
    "    gsv_sample(id, lat, lon, bearing, offset)\n",
    "    \n",
    "    entry.to_json('downloads/' + str(id) + '/' + str(offset) + '/sample.json')\n",
    "    \n",
    "    return id"
   ]
  },
  {
   "cell_type": "code",
   "execution_count": null,
   "id": "8976bc9c",
   "metadata": {},
   "outputs": [],
   "source": [
    "def record_hit(id, offset=0, image_num=0):\n",
    "    hits = open('downloads/hits.csv', 'a')\n",
    "    hits.write(str(id) + ',' + str(offset) + ',' + str(image_num) + '\\r\\n')\n",
    "    hits.close()"
   ]
  },
  {
   "cell_type": "code",
   "execution_count": null,
   "id": "951f0ff9",
   "metadata": {},
   "outputs": [],
   "source": [
    "correction = 0\n",
    "offset     = 0\n",
    "\n",
    "if offset==0 and correction==0:\n",
    "    id = 38635\n",
    "\n",
    "id = sample_location(id, offset, correction)"
   ]
  },
  {
   "cell_type": "code",
   "execution_count": null,
   "id": "30b0fb44",
   "metadata": {},
   "outputs": [],
   "source": [
    "image_num = 3\n",
    "\n",
    "record_hit(id, offset, image_num)"
   ]
  },
  {
   "cell_type": "code",
   "execution_count": null,
   "id": "7e04ca7f",
   "metadata": {},
   "outputs": [],
   "source": []
  }
 ],
 "metadata": {
  "kernelspec": {
   "display_name": "Python 3",
   "language": "python",
   "name": "python3"
  },
  "language_info": {
   "codemirror_mode": {
    "name": "ipython",
    "version": 3
   },
   "file_extension": ".py",
   "mimetype": "text/x-python",
   "name": "python",
   "nbconvert_exporter": "python",
   "pygments_lexer": "ipython3",
   "version": "3.8.11"
  }
 },
 "nbformat": 4,
 "nbformat_minor": 5
}
